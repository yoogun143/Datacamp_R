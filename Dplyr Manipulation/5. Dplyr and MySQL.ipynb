{
 "cells": [
  {
   "cell_type": "code",
   "execution_count": 2,
   "metadata": {},
   "outputs": [
    {
     "name": "stderr",
     "output_type": "stream",
     "text": [
      "\n",
      "Attaching package: 'dplyr'\n",
      "\n",
      "The following objects are masked from 'package:stats':\n",
      "\n",
      "    filter, lag\n",
      "\n",
      "The following objects are masked from 'package:base':\n",
      "\n",
      "    intersect, setdiff, setequal, union\n",
      "\n"
     ]
    }
   ],
   "source": [
    "library(dplyr)"
   ]
  },
  {
   "cell_type": "code",
   "execution_count": 4,
   "metadata": {},
   "outputs": [
    {
     "name": "stdout",
     "output_type": "stream",
     "text": [
      "Observations: ??\n",
      "Variables: 17\n",
      "$ id        <int> 1, 2, 3, 4, 5, 6, 7, 8, 9, 10, 11, 12, 13, 14, 15, 16, 17...\n",
      "$ year      <int> 2013, 2013, 2013, 2013, 2013, 2013, 2013, 2013, 2013, 201...\n",
      "$ month     <int> 1, 1, 1, 1, 1, 1, 1, 1, 1, 1, 1, 1, 1, 1, 1, 1, 1, 1, 1, ...\n",
      "$ day       <int> 1, 1, 1, 1, 1, 1, 1, 1, 1, 1, 1, 1, 1, 1, 1, 1, 1, 1, 1, ...\n",
      "$ dep_time  <int> 517, 533, 542, 544, 554, 554, 555, 557, 557, 558, 558, 55...\n",
      "$ dep_delay <int> 2, 4, 2, -1, -6, -4, -5, -3, -3, -2, -2, -2, -2, -2, -1, ...\n",
      "$ arr_time  <int> 830, 850, 923, 1004, 812, 740, 913, 709, 838, 753, 849, 8...\n",
      "$ arr_delay <int> 11, 20, 33, -18, -25, 12, 19, -14, -8, 8, -2, -3, 7, -14,...\n",
      "$ carrier   <chr> \"UA\", \"UA\", \"AA\", \"B6\", \"DL\", \"UA\", \"B6\", \"EV\", \"B6\", \"AA...\n",
      "$ tailnum   <chr> \"N14228\", \"N24211\", \"N619AA\", \"N804JB\", \"N668DN\", \"N39463...\n",
      "$ flight    <int> 1545, 1714, 1141, 725, 461, 1696, 507, 5708, 79, 301, 49,...\n",
      "$ origin    <chr> \"EWR\", \"LGA\", \"JFK\", \"JFK\", \"LGA\", \"EWR\", \"EWR\", \"LGA\", \"...\n",
      "$ dest      <chr> \"IAH\", \"IAH\", \"MIA\", \"BQN\", \"ATL\", \"ORD\", \"FLL\", \"IAD\", \"...\n",
      "$ air_time  <int> 227, 227, 160, 183, 116, 150, 158, 53, 140, 138, 149, 158...\n",
      "$ distance  <int> 1400, 1416, 1089, 1576, 762, 719, 1065, 229, 944, 733, 10...\n",
      "$ hour      <int> 5, 5, 5, 5, 5, 5, 5, 5, 5, 5, 5, 5, 5, 5, 5, 5, 5, 6, 6, ...\n",
      "$ minute    <int> 17, 33, 42, 44, 54, 54, 55, 57, 57, 58, 58, 58, 58, 58, 5...\n"
     ]
    },
    {
     "name": "stderr",
     "output_type": "stream",
     "text": [
      "Warning message:\n",
      "\"Missing values are always removed in SQL.\n",
      "Use `AVG(x, na.rm = TRUE)` to silence this warning\"Warning message in .local(conn, statement, ...):\n",
      "\"Decimal MySQL column 2 imported as numeric\""
     ]
    },
    {
     "data": {
      "text/plain": [
       "# Source:     lazy query [?? x 3]\n",
       "# Database:   mysql 5.6.34-log\n",
       "#   [student@courses.csrrinzqubik.us-east-1.rds.amazonaws.com:/dplyr]\n",
       "# Ordered by: avg_delay\n",
       "   carrier n_flights avg_delay\n",
       "   <chr>       <dbl>     <dbl>\n",
       " 1 AS            714    -9.86 \n",
       " 2 HA            342    -6.92 \n",
       " 3 AA          32729     0.356\n",
       " 4 DL          48110     1.63 \n",
       " 5 VX           5162     1.75 \n",
       " 6 US          20536     2.06 \n",
       " 7 UA          58665     3.50 \n",
       " 8 9E          18460     6.91 \n",
       " 9 B6          54635     9.36 \n",
       "10 WN          12275     9.47 \n",
       "# ... with more rows"
      ]
     },
     "metadata": {},
     "output_type": "display_data"
    }
   ],
   "source": [
    "# Set up a connection to the mysql database\n",
    "my_db <- src_mysql(dbname = \"dplyr\", \n",
    "                   host = \"courses.csrrinzqubik.us-east-1.rds.amazonaws.com\", \n",
    "                   port = 3306, \n",
    "                   user = \"student\",\n",
    "                   password = \"datacamp\")\n",
    "\n",
    "# Reference a table within that source: nycflights\n",
    "nycflights <- tbl(my_db, \"dplyr\")\n",
    "\n",
    "# glimpse at nycflights\n",
    "glimpse(nycflights)\n",
    "\n",
    "# Ordered, grouped summary of nycflights\n",
    "nycflights %>%\n",
    "  group_by(carrier) %>%\n",
    "  summarise(n_flights = n(), avg_delay = mean(arr_delay)) %>%\n",
    "  arrange(avg_delay)"
   ]
  },
  {
   "cell_type": "code",
   "execution_count": null,
   "metadata": {},
   "outputs": [],
   "source": []
  }
 ],
 "metadata": {
  "kernelspec": {
   "display_name": "R",
   "language": "R",
   "name": "ir"
  },
  "language_info": {
   "codemirror_mode": "r",
   "file_extension": ".r",
   "mimetype": "text/x-r-source",
   "name": "R",
   "pygments_lexer": "r",
   "version": "3.5.1"
  }
 },
 "nbformat": 4,
 "nbformat_minor": 2
}
