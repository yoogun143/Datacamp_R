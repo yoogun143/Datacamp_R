{
 "cells": [
  {
   "cell_type": "markdown",
   "metadata": {
    "toc": true
   },
   "source": [
    "<h1>Table of Contents<span class=\"tocSkip\"></span></h1>\n",
    "<div class=\"toc\"><ul class=\"toc-item\"></ul></div>"
   ]
  },
  {
   "cell_type": "code",
   "execution_count": 1,
   "metadata": {},
   "outputs": [
    {
     "name": "stderr",
     "output_type": "stream",
     "text": [
      "Warning message:\n",
      "\"package 'hflights' was built under R version 3.5.2\""
     ]
    },
    {
     "data": {
      "text/html": [
       "<table>\n",
       "<thead><tr><th></th><th scope=col>Year</th><th scope=col>Month</th><th scope=col>DayofMonth</th><th scope=col>DayOfWeek</th><th scope=col>DepTime</th><th scope=col>ArrTime</th><th scope=col>UniqueCarrier</th><th scope=col>FlightNum</th><th scope=col>TailNum</th><th scope=col>ActualElapsedTime</th><th scope=col>...</th><th scope=col>ArrDelay</th><th scope=col>DepDelay</th><th scope=col>Origin</th><th scope=col>Dest</th><th scope=col>Distance</th><th scope=col>TaxiIn</th><th scope=col>TaxiOut</th><th scope=col>Cancelled</th><th scope=col>CancellationCode</th><th scope=col>Diverted</th></tr></thead>\n",
       "<tbody>\n",
       "\t<tr><th scope=row>5424</th><td>2011  </td><td>1     </td><td>1     </td><td>6     </td><td>1400  </td><td>1500  </td><td>AA    </td><td>428   </td><td>N576AA</td><td>60    </td><td>...   </td><td>-10   </td><td> 0    </td><td>IAH   </td><td>DFW   </td><td>224   </td><td>7     </td><td>13    </td><td>0     </td><td>      </td><td>0     </td></tr>\n",
       "\t<tr><th scope=row>5425</th><td>2011  </td><td>1     </td><td>2     </td><td>7     </td><td>1401  </td><td>1501  </td><td>AA    </td><td>428   </td><td>N557AA</td><td>60    </td><td>...   </td><td> -9   </td><td> 1    </td><td>IAH   </td><td>DFW   </td><td>224   </td><td>6     </td><td> 9    </td><td>0     </td><td>      </td><td>0     </td></tr>\n",
       "\t<tr><th scope=row>5426</th><td>2011  </td><td>1     </td><td>3     </td><td>1     </td><td>1352  </td><td>1502  </td><td>AA    </td><td>428   </td><td>N541AA</td><td>70    </td><td>...   </td><td> -8   </td><td>-8    </td><td>IAH   </td><td>DFW   </td><td>224   </td><td>5     </td><td>17    </td><td>0     </td><td>      </td><td>0     </td></tr>\n",
       "\t<tr><th scope=row>5427</th><td>2011  </td><td>1     </td><td>4     </td><td>2     </td><td>1403  </td><td>1513  </td><td>AA    </td><td>428   </td><td>N403AA</td><td>70    </td><td>...   </td><td>  3   </td><td> 3    </td><td>IAH   </td><td>DFW   </td><td>224   </td><td>9     </td><td>22    </td><td>0     </td><td>      </td><td>0     </td></tr>\n",
       "\t<tr><th scope=row>5428</th><td>2011  </td><td>1     </td><td>5     </td><td>3     </td><td>1405  </td><td>1507  </td><td>AA    </td><td>428   </td><td>N492AA</td><td>62    </td><td>...   </td><td> -3   </td><td> 5    </td><td>IAH   </td><td>DFW   </td><td>224   </td><td>9     </td><td> 9    </td><td>0     </td><td>      </td><td>0     </td></tr>\n",
       "\t<tr><th scope=row>5429</th><td>2011  </td><td>1     </td><td>6     </td><td>4     </td><td>1359  </td><td>1503  </td><td>AA    </td><td>428   </td><td>N262AA</td><td>64    </td><td>...   </td><td> -7   </td><td>-1    </td><td>IAH   </td><td>DFW   </td><td>224   </td><td>6     </td><td>13    </td><td>0     </td><td>      </td><td>0     </td></tr>\n",
       "</tbody>\n",
       "</table>\n"
      ],
      "text/latex": [
       "\\begin{tabular}{r|lllllllllllllllllllll}\n",
       "  & Year & Month & DayofMonth & DayOfWeek & DepTime & ArrTime & UniqueCarrier & FlightNum & TailNum & ActualElapsedTime & ... & ArrDelay & DepDelay & Origin & Dest & Distance & TaxiIn & TaxiOut & Cancelled & CancellationCode & Diverted\\\\\n",
       "\\hline\n",
       "\t5424 & 2011   & 1      & 1      & 6      & 1400   & 1500   & AA     & 428    & N576AA & 60     & ...    & -10    &  0     & IAH    & DFW    & 224    & 7      & 13     & 0      &        & 0     \\\\\n",
       "\t5425 & 2011   & 1      & 2      & 7      & 1401   & 1501   & AA     & 428    & N557AA & 60     & ...    &  -9    &  1     & IAH    & DFW    & 224    & 6      &  9     & 0      &        & 0     \\\\\n",
       "\t5426 & 2011   & 1      & 3      & 1      & 1352   & 1502   & AA     & 428    & N541AA & 70     & ...    &  -8    & -8     & IAH    & DFW    & 224    & 5      & 17     & 0      &        & 0     \\\\\n",
       "\t5427 & 2011   & 1      & 4      & 2      & 1403   & 1513   & AA     & 428    & N403AA & 70     & ...    &   3    &  3     & IAH    & DFW    & 224    & 9      & 22     & 0      &        & 0     \\\\\n",
       "\t5428 & 2011   & 1      & 5      & 3      & 1405   & 1507   & AA     & 428    & N492AA & 62     & ...    &  -3    &  5     & IAH    & DFW    & 224    & 9      &  9     & 0      &        & 0     \\\\\n",
       "\t5429 & 2011   & 1      & 6      & 4      & 1359   & 1503   & AA     & 428    & N262AA & 64     & ...    &  -7    & -1     & IAH    & DFW    & 224    & 6      & 13     & 0      &        & 0     \\\\\n",
       "\\end{tabular}\n"
      ],
      "text/markdown": [
       "\n",
       "| <!--/--> | Year | Month | DayofMonth | DayOfWeek | DepTime | ArrTime | UniqueCarrier | FlightNum | TailNum | ActualElapsedTime | ... | ArrDelay | DepDelay | Origin | Dest | Distance | TaxiIn | TaxiOut | Cancelled | CancellationCode | Diverted |\n",
       "|---|---|---|---|---|---|---|---|---|---|---|---|---|---|---|---|---|---|---|---|---|---|\n",
       "| 5424 | 2011   | 1      | 1      | 6      | 1400   | 1500   | AA     | 428    | N576AA | 60     | ...    | -10    |  0     | IAH    | DFW    | 224    | 7      | 13     | 0      |        | 0      |\n",
       "| 5425 | 2011   | 1      | 2      | 7      | 1401   | 1501   | AA     | 428    | N557AA | 60     | ...    |  -9    |  1     | IAH    | DFW    | 224    | 6      |  9     | 0      |        | 0      |\n",
       "| 5426 | 2011   | 1      | 3      | 1      | 1352   | 1502   | AA     | 428    | N541AA | 70     | ...    |  -8    | -8     | IAH    | DFW    | 224    | 5      | 17     | 0      |        | 0      |\n",
       "| 5427 | 2011   | 1      | 4      | 2      | 1403   | 1513   | AA     | 428    | N403AA | 70     | ...    |   3    |  3     | IAH    | DFW    | 224    | 9      | 22     | 0      |        | 0      |\n",
       "| 5428 | 2011   | 1      | 5      | 3      | 1405   | 1507   | AA     | 428    | N492AA | 62     | ...    |  -3    |  5     | IAH    | DFW    | 224    | 9      |  9     | 0      |        | 0      |\n",
       "| 5429 | 2011   | 1      | 6      | 4      | 1359   | 1503   | AA     | 428    | N262AA | 64     | ...    |  -7    | -1     | IAH    | DFW    | 224    | 6      | 13     | 0      |        | 0      |\n",
       "\n"
      ],
      "text/plain": [
       "     Year Month DayofMonth DayOfWeek DepTime ArrTime UniqueCarrier FlightNum\n",
       "5424 2011 1     1          6         1400    1500    AA            428      \n",
       "5425 2011 1     2          7         1401    1501    AA            428      \n",
       "5426 2011 1     3          1         1352    1502    AA            428      \n",
       "5427 2011 1     4          2         1403    1513    AA            428      \n",
       "5428 2011 1     5          3         1405    1507    AA            428      \n",
       "5429 2011 1     6          4         1359    1503    AA            428      \n",
       "     TailNum ActualElapsedTime ... ArrDelay DepDelay Origin Dest Distance\n",
       "5424 N576AA  60                ... -10       0       IAH    DFW  224     \n",
       "5425 N557AA  60                ...  -9       1       IAH    DFW  224     \n",
       "5426 N541AA  70                ...  -8      -8       IAH    DFW  224     \n",
       "5427 N403AA  70                ...   3       3       IAH    DFW  224     \n",
       "5428 N492AA  62                ...  -3       5       IAH    DFW  224     \n",
       "5429 N262AA  64                ...  -7      -1       IAH    DFW  224     \n",
       "     TaxiIn TaxiOut Cancelled CancellationCode Diverted\n",
       "5424 7      13      0                          0       \n",
       "5425 6       9      0                          0       \n",
       "5426 5      17      0                          0       \n",
       "5427 9      22      0                          0       \n",
       "5428 9       9      0                          0       \n",
       "5429 6      13      0                          0       "
      ]
     },
     "metadata": {},
     "output_type": "display_data"
    }
   ],
   "source": [
    "# Load the dplyr package\n",
    "suppressPackageStartupMessages(library(dplyr))\n",
    "\n",
    "# Load the hflights package\n",
    "library(hflights)\n",
    "\n",
    "# Call head() on hflights\n",
    "head(hflights)"
   ]
  },
  {
   "cell_type": "code",
   "execution_count": 2,
   "metadata": {},
   "outputs": [
    {
     "data": {
      "text/html": [
       "<table>\n",
       "<thead><tr><th></th><th scope=col>Year</th><th scope=col>Month</th><th scope=col>DayofMonth</th><th scope=col>DayOfWeek</th><th scope=col>DepTime</th><th scope=col>ArrTime</th><th scope=col>UniqueCarrier</th><th scope=col>FlightNum</th><th scope=col>TailNum</th><th scope=col>ActualElapsedTime</th><th scope=col>...</th><th scope=col>ArrDelay</th><th scope=col>DepDelay</th><th scope=col>Origin</th><th scope=col>Dest</th><th scope=col>Distance</th><th scope=col>TaxiIn</th><th scope=col>TaxiOut</th><th scope=col>Cancelled</th><th scope=col>CancellationCode</th><th scope=col>Diverted</th></tr></thead>\n",
       "<tbody>\n",
       "\t<tr><th scope=row>5424</th><td>2011    </td><td>1       </td><td>1       </td><td>6       </td><td>1400    </td><td>1500    </td><td>American</td><td>428     </td><td>N576AA  </td><td>60      </td><td>...     </td><td>-10     </td><td> 0      </td><td>IAH     </td><td>DFW     </td><td>224     </td><td>7       </td><td>13      </td><td>0       </td><td>        </td><td>0       </td></tr>\n",
       "\t<tr><th scope=row>5425</th><td>2011    </td><td>1       </td><td>2       </td><td>7       </td><td>1401    </td><td>1501    </td><td>American</td><td>428     </td><td>N557AA  </td><td>60      </td><td>...     </td><td> -9     </td><td> 1      </td><td>IAH     </td><td>DFW     </td><td>224     </td><td>6       </td><td> 9      </td><td>0       </td><td>        </td><td>0       </td></tr>\n",
       "\t<tr><th scope=row>5426</th><td>2011    </td><td>1       </td><td>3       </td><td>1       </td><td>1352    </td><td>1502    </td><td>American</td><td>428     </td><td>N541AA  </td><td>70      </td><td>...     </td><td> -8     </td><td>-8      </td><td>IAH     </td><td>DFW     </td><td>224     </td><td>5       </td><td>17      </td><td>0       </td><td>        </td><td>0       </td></tr>\n",
       "\t<tr><th scope=row>5427</th><td>2011    </td><td>1       </td><td>4       </td><td>2       </td><td>1403    </td><td>1513    </td><td>American</td><td>428     </td><td>N403AA  </td><td>70      </td><td>...     </td><td>  3     </td><td> 3      </td><td>IAH     </td><td>DFW     </td><td>224     </td><td>9       </td><td>22      </td><td>0       </td><td>        </td><td>0       </td></tr>\n",
       "\t<tr><th scope=row>5428</th><td>2011    </td><td>1       </td><td>5       </td><td>3       </td><td>1405    </td><td>1507    </td><td>American</td><td>428     </td><td>N492AA  </td><td>62      </td><td>...     </td><td> -3     </td><td> 5      </td><td>IAH     </td><td>DFW     </td><td>224     </td><td>9       </td><td> 9      </td><td>0       </td><td>        </td><td>0       </td></tr>\n",
       "\t<tr><th scope=row>5429</th><td>2011    </td><td>1       </td><td>6       </td><td>4       </td><td>1359    </td><td>1503    </td><td>American</td><td>428     </td><td>N262AA  </td><td>64      </td><td>...     </td><td> -7     </td><td>-1      </td><td>IAH     </td><td>DFW     </td><td>224     </td><td>6       </td><td>13      </td><td>0       </td><td>        </td><td>0       </td></tr>\n",
       "</tbody>\n",
       "</table>\n"
      ],
      "text/latex": [
       "\\begin{tabular}{r|lllllllllllllllllllll}\n",
       "  & Year & Month & DayofMonth & DayOfWeek & DepTime & ArrTime & UniqueCarrier & FlightNum & TailNum & ActualElapsedTime & ... & ArrDelay & DepDelay & Origin & Dest & Distance & TaxiIn & TaxiOut & Cancelled & CancellationCode & Diverted\\\\\n",
       "\\hline\n",
       "\t5424 & 2011     & 1        & 1        & 6        & 1400     & 1500     & American & 428      & N576AA   & 60       & ...      & -10      &  0       & IAH      & DFW      & 224      & 7        & 13       & 0        &          & 0       \\\\\n",
       "\t5425 & 2011     & 1        & 2        & 7        & 1401     & 1501     & American & 428      & N557AA   & 60       & ...      &  -9      &  1       & IAH      & DFW      & 224      & 6        &  9       & 0        &          & 0       \\\\\n",
       "\t5426 & 2011     & 1        & 3        & 1        & 1352     & 1502     & American & 428      & N541AA   & 70       & ...      &  -8      & -8       & IAH      & DFW      & 224      & 5        & 17       & 0        &          & 0       \\\\\n",
       "\t5427 & 2011     & 1        & 4        & 2        & 1403     & 1513     & American & 428      & N403AA   & 70       & ...      &   3      &  3       & IAH      & DFW      & 224      & 9        & 22       & 0        &          & 0       \\\\\n",
       "\t5428 & 2011     & 1        & 5        & 3        & 1405     & 1507     & American & 428      & N492AA   & 62       & ...      &  -3      &  5       & IAH      & DFW      & 224      & 9        &  9       & 0        &          & 0       \\\\\n",
       "\t5429 & 2011     & 1        & 6        & 4        & 1359     & 1503     & American & 428      & N262AA   & 64       & ...      &  -7      & -1       & IAH      & DFW      & 224      & 6        & 13       & 0        &          & 0       \\\\\n",
       "\\end{tabular}\n"
      ],
      "text/markdown": [
       "\n",
       "| <!--/--> | Year | Month | DayofMonth | DayOfWeek | DepTime | ArrTime | UniqueCarrier | FlightNum | TailNum | ActualElapsedTime | ... | ArrDelay | DepDelay | Origin | Dest | Distance | TaxiIn | TaxiOut | Cancelled | CancellationCode | Diverted |\n",
       "|---|---|---|---|---|---|---|---|---|---|---|---|---|---|---|---|---|---|---|---|---|---|\n",
       "| 5424 | 2011     | 1        | 1        | 6        | 1400     | 1500     | American | 428      | N576AA   | 60       | ...      | -10      |  0       | IAH      | DFW      | 224      | 7        | 13       | 0        |          | 0        |\n",
       "| 5425 | 2011     | 1        | 2        | 7        | 1401     | 1501     | American | 428      | N557AA   | 60       | ...      |  -9      |  1       | IAH      | DFW      | 224      | 6        |  9       | 0        |          | 0        |\n",
       "| 5426 | 2011     | 1        | 3        | 1        | 1352     | 1502     | American | 428      | N541AA   | 70       | ...      |  -8      | -8       | IAH      | DFW      | 224      | 5        | 17       | 0        |          | 0        |\n",
       "| 5427 | 2011     | 1        | 4        | 2        | 1403     | 1513     | American | 428      | N403AA   | 70       | ...      |   3      |  3       | IAH      | DFW      | 224      | 9        | 22       | 0        |          | 0        |\n",
       "| 5428 | 2011     | 1        | 5        | 3        | 1405     | 1507     | American | 428      | N492AA   | 62       | ...      |  -3      |  5       | IAH      | DFW      | 224      | 9        |  9       | 0        |          | 0        |\n",
       "| 5429 | 2011     | 1        | 6        | 4        | 1359     | 1503     | American | 428      | N262AA   | 64       | ...      |  -7      | -1       | IAH      | DFW      | 224      | 6        | 13       | 0        |          | 0        |\n",
       "\n"
      ],
      "text/plain": [
       "     Year Month DayofMonth DayOfWeek DepTime ArrTime UniqueCarrier FlightNum\n",
       "5424 2011 1     1          6         1400    1500    American      428      \n",
       "5425 2011 1     2          7         1401    1501    American      428      \n",
       "5426 2011 1     3          1         1352    1502    American      428      \n",
       "5427 2011 1     4          2         1403    1513    American      428      \n",
       "5428 2011 1     5          3         1405    1507    American      428      \n",
       "5429 2011 1     6          4         1359    1503    American      428      \n",
       "     TailNum ActualElapsedTime ... ArrDelay DepDelay Origin Dest Distance\n",
       "5424 N576AA  60                ... -10       0       IAH    DFW  224     \n",
       "5425 N557AA  60                ...  -9       1       IAH    DFW  224     \n",
       "5426 N541AA  70                ...  -8      -8       IAH    DFW  224     \n",
       "5427 N403AA  70                ...   3       3       IAH    DFW  224     \n",
       "5428 N492AA  62                ...  -3       5       IAH    DFW  224     \n",
       "5429 N262AA  64                ...  -7      -1       IAH    DFW  224     \n",
       "     TaxiIn TaxiOut Cancelled CancellationCode Diverted\n",
       "5424 7      13      0                          0       \n",
       "5425 6       9      0                          0       \n",
       "5426 5      17      0                          0       \n",
       "5427 9      22      0                          0       \n",
       "5428 9       9      0                          0       \n",
       "5429 6      13      0                          0       "
      ]
     },
     "metadata": {},
     "output_type": "display_data"
    }
   ],
   "source": [
    "# Chaging labels of hflights\n",
    "lut <- c(\"AA\" = \"American\", \"AS\" = \"Alaska\", \"B6\" = \"JetBlue\", \"CO\" = \"Continental\", \n",
    "         \"DL\" = \"Delta\", \"OO\" = \"SkyWest\", \"UA\" = \"United\", \"US\" = \"US_Airways\", \n",
    "         \"WN\" = \"Southwest\", \"EV\" = \"Atlantic_Southeast\", \"F9\" = \"Frontier\", \n",
    "         \"FL\" = \"AirTran\", \"MQ\" = \"American_Eagle\", \"XE\" = \"ExpressJet\", \"YV\" = \"Mesa\")\n",
    "\n",
    "# Add the Carrier column to hflights\n",
    "hflights$UniqueCarrier <- lut[hflights$UniqueCarrier]\n",
    "\n",
    "# Glimpse at hflights\n",
    "head(hflights)"
   ]
  },
  {
   "cell_type": "code",
   "execution_count": null,
   "metadata": {},
   "outputs": [],
   "source": []
  }
 ],
 "metadata": {
  "kernelspec": {
   "display_name": "R",
   "language": "R",
   "name": "ir"
  },
  "language_info": {
   "codemirror_mode": "r",
   "file_extension": ".r",
   "mimetype": "text/x-r-source",
   "name": "R",
   "pygments_lexer": "r",
   "version": "3.5.1"
  },
  "toc": {
   "base_numbering": 1,
   "nav_menu": {},
   "number_sections": true,
   "sideBar": true,
   "skip_h1_title": false,
   "title_cell": "Table of Contents",
   "title_sidebar": "Contents",
   "toc_cell": true,
   "toc_position": {},
   "toc_section_display": true,
   "toc_window_display": false
  }
 },
 "nbformat": 4,
 "nbformat_minor": 2
}
