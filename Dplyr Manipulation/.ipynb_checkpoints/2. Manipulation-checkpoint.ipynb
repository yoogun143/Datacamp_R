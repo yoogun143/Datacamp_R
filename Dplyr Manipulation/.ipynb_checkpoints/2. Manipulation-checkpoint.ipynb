{
 "cells": [
  {
   "cell_type": "markdown",
   "metadata": {
    "toc": true
   },
   "source": [
    "<h1>Table of Contents<span class=\"tocSkip\"></span></h1>\n",
    "<div class=\"toc\"><ul class=\"toc-item\"><li><span><a href=\"#SELECT-(more-on-cheatsheet-on-helper-function)\" data-toc-modified-id=\"SELECT-(more-on-cheatsheet-on-helper-function)-1\"><span class=\"toc-item-num\">1&nbsp;&nbsp;</span>SELECT (more on cheatsheet on helper function)</a></span></li><li><span><a href=\"#MUTATE\" data-toc-modified-id=\"MUTATE-2\"><span class=\"toc-item-num\">2&nbsp;&nbsp;</span>MUTATE</a></span></li><li><span><a href=\"#FILTER\" data-toc-modified-id=\"FILTER-3\"><span class=\"toc-item-num\">3&nbsp;&nbsp;</span>FILTER</a></span></li><li><span><a href=\"#ARRANGE\" data-toc-modified-id=\"ARRANGE-4\"><span class=\"toc-item-num\">4&nbsp;&nbsp;</span>ARRANGE</a></span></li><li><span><a href=\"#SUMMARIZE\" data-toc-modified-id=\"SUMMARIZE-5\"><span class=\"toc-item-num\">5&nbsp;&nbsp;</span>SUMMARIZE</a></span></li><li><span><a href=\"#GROUP-BY\" data-toc-modified-id=\"GROUP-BY-6\"><span class=\"toc-item-num\">6&nbsp;&nbsp;</span>GROUP BY</a></span></li></ul></div>"
   ]
  },
  {
   "cell_type": "code",
   "execution_count": 1,
   "metadata": {},
   "outputs": [
    {
     "name": "stderr",
     "output_type": "stream",
     "text": [
      "Warning message:\n",
      "\"package 'hflights' was built under R version 3.5.2\"\n",
      "Attaching package: 'dplyr'\n",
      "\n",
      "The following objects are masked from 'package:stats':\n",
      "\n",
      "    filter, lag\n",
      "\n",
      "The following objects are masked from 'package:base':\n",
      "\n",
      "    intersect, setdiff, setequal, union\n",
      "\n"
     ]
    }
   ],
   "source": [
    "library(hflights)\n",
    "library(dplyr)"
   ]
  },
  {
   "cell_type": "markdown",
   "metadata": {},
   "source": [
    "## SELECT (more on cheatsheet on helper function)"
   ]
  },
  {
   "cell_type": "code",
   "execution_count": 6,
   "metadata": {},
   "outputs": [
    {
     "data": {
      "text/html": [
       "<table>\n",
       "<thead><tr><th></th><th scope=col>ArrTime</th><th scope=col>UniqueCarrier</th><th scope=col>FlightNum</th><th scope=col>TailNum</th><th scope=col>Cancelled</th><th scope=col>CancellationCode</th></tr></thead>\n",
       "<tbody>\n",
       "\t<tr><th scope=row>5424</th><td>1500  </td><td>AA    </td><td>428   </td><td>N576AA</td><td>0     </td><td>      </td></tr>\n",
       "\t<tr><th scope=row>5425</th><td>1501  </td><td>AA    </td><td>428   </td><td>N557AA</td><td>0     </td><td>      </td></tr>\n",
       "\t<tr><th scope=row>5426</th><td>1502  </td><td>AA    </td><td>428   </td><td>N541AA</td><td>0     </td><td>      </td></tr>\n",
       "\t<tr><th scope=row>5427</th><td>1513  </td><td>AA    </td><td>428   </td><td>N403AA</td><td>0     </td><td>      </td></tr>\n",
       "\t<tr><th scope=row>5428</th><td>1507  </td><td>AA    </td><td>428   </td><td>N492AA</td><td>0     </td><td>      </td></tr>\n",
       "\t<tr><th scope=row>5429</th><td>1503  </td><td>AA    </td><td>428   </td><td>N262AA</td><td>0     </td><td>      </td></tr>\n",
       "</tbody>\n",
       "</table>\n"
      ],
      "text/latex": [
       "\\begin{tabular}{r|llllll}\n",
       "  & ArrTime & UniqueCarrier & FlightNum & TailNum & Cancelled & CancellationCode\\\\\n",
       "\\hline\n",
       "\t5424 & 1500   & AA     & 428    & N576AA & 0      &       \\\\\n",
       "\t5425 & 1501   & AA     & 428    & N557AA & 0      &       \\\\\n",
       "\t5426 & 1502   & AA     & 428    & N541AA & 0      &       \\\\\n",
       "\t5427 & 1513   & AA     & 428    & N403AA & 0      &       \\\\\n",
       "\t5428 & 1507   & AA     & 428    & N492AA & 0      &       \\\\\n",
       "\t5429 & 1503   & AA     & 428    & N262AA & 0      &       \\\\\n",
       "\\end{tabular}\n"
      ],
      "text/markdown": [
       "\n",
       "| <!--/--> | ArrTime | UniqueCarrier | FlightNum | TailNum | Cancelled | CancellationCode |\n",
       "|---|---|---|---|---|---|---|\n",
       "| 5424 | 1500   | AA     | 428    | N576AA | 0      |        |\n",
       "| 5425 | 1501   | AA     | 428    | N557AA | 0      |        |\n",
       "| 5426 | 1502   | AA     | 428    | N541AA | 0      |        |\n",
       "| 5427 | 1513   | AA     | 428    | N403AA | 0      |        |\n",
       "| 5428 | 1507   | AA     | 428    | N492AA | 0      |        |\n",
       "| 5429 | 1503   | AA     | 428    | N262AA | 0      |        |\n",
       "\n"
      ],
      "text/plain": [
       "     ArrTime UniqueCarrier FlightNum TailNum Cancelled CancellationCode\n",
       "5424 1500    AA            428       N576AA  0                         \n",
       "5425 1501    AA            428       N557AA  0                         \n",
       "5426 1502    AA            428       N541AA  0                         \n",
       "5427 1513    AA            428       N403AA  0                         \n",
       "5428 1507    AA            428       N492AA  0                         \n",
       "5429 1503    AA            428       N262AA  0                         "
      ]
     },
     "metadata": {},
     "output_type": "display_data"
    }
   ],
   "source": [
    "# Print out a tbl as described in the second instruction, using both helper functions and variable names\n",
    "head(select(hflights, ArrTime:UniqueCarrier, ends_with(\"Num\"), starts_with(\"Cancell\")))"
   ]
  },
  {
   "cell_type": "code",
   "execution_count": 7,
   "metadata": {},
   "outputs": [
    {
     "data": {
      "text/html": [
       "<table>\n",
       "<thead><tr><th></th><th scope=col>ArrTime</th><th scope=col>UniqueCarrier</th><th scope=col>FlightNum</th><th scope=col>Cancelled</th><th scope=col>CancellationCode</th></tr></thead>\n",
       "<tbody>\n",
       "\t<tr><th scope=row>5424</th><td>1500</td><td>AA  </td><td>428 </td><td>0   </td><td>    </td></tr>\n",
       "\t<tr><th scope=row>5425</th><td>1501</td><td>AA  </td><td>428 </td><td>0   </td><td>    </td></tr>\n",
       "\t<tr><th scope=row>5426</th><td>1502</td><td>AA  </td><td>428 </td><td>0   </td><td>    </td></tr>\n",
       "\t<tr><th scope=row>5427</th><td>1513</td><td>AA  </td><td>428 </td><td>0   </td><td>    </td></tr>\n",
       "\t<tr><th scope=row>5428</th><td>1507</td><td>AA  </td><td>428 </td><td>0   </td><td>    </td></tr>\n",
       "\t<tr><th scope=row>5429</th><td>1503</td><td>AA  </td><td>428 </td><td>0   </td><td>    </td></tr>\n",
       "</tbody>\n",
       "</table>\n"
      ],
      "text/latex": [
       "\\begin{tabular}{r|lllll}\n",
       "  & ArrTime & UniqueCarrier & FlightNum & Cancelled & CancellationCode\\\\\n",
       "\\hline\n",
       "\t5424 & 1500 & AA   & 428  & 0    &     \\\\\n",
       "\t5425 & 1501 & AA   & 428  & 0    &     \\\\\n",
       "\t5426 & 1502 & AA   & 428  & 0    &     \\\\\n",
       "\t5427 & 1513 & AA   & 428  & 0    &     \\\\\n",
       "\t5428 & 1507 & AA   & 428  & 0    &     \\\\\n",
       "\t5429 & 1503 & AA   & 428  & 0    &     \\\\\n",
       "\\end{tabular}\n"
      ],
      "text/markdown": [
       "\n",
       "| <!--/--> | ArrTime | UniqueCarrier | FlightNum | Cancelled | CancellationCode |\n",
       "|---|---|---|---|---|---|\n",
       "| 5424 | 1500 | AA   | 428  | 0    |      |\n",
       "| 5425 | 1501 | AA   | 428  | 0    |      |\n",
       "| 5426 | 1502 | AA   | 428  | 0    |      |\n",
       "| 5427 | 1513 | AA   | 428  | 0    |      |\n",
       "| 5428 | 1507 | AA   | 428  | 0    |      |\n",
       "| 5429 | 1503 | AA   | 428  | 0    |      |\n",
       "\n"
      ],
      "text/plain": [
       "     ArrTime UniqueCarrier FlightNum Cancelled CancellationCode\n",
       "5424 1500    AA            428       0                         \n",
       "5425 1501    AA            428       0                         \n",
       "5426 1502    AA            428       0                         \n",
       "5427 1513    AA            428       0                         \n",
       "5428 1507    AA            428       0                         \n",
       "5429 1503    AA            428       0                         "
      ]
     },
     "metadata": {},
     "output_type": "display_data"
    }
   ],
   "source": [
    "# Comparison to base R\n",
    "head(hflights[c('ArrTime', 'UniqueCarrier', 'FlightNum', 'Cancelled', 'CancellationCode')])"
   ]
  },
  {
   "cell_type": "markdown",
   "metadata": {},
   "source": [
    "## MUTATE"
   ]
  },
  {
   "cell_type": "code",
   "execution_count": 9,
   "metadata": {},
   "outputs": [
    {
     "data": {
      "text/html": [
       "<table>\n",
       "<thead><tr><th scope=col>Year</th><th scope=col>Month</th><th scope=col>DayofMonth</th><th scope=col>DayOfWeek</th><th scope=col>DepTime</th><th scope=col>ArrTime</th><th scope=col>UniqueCarrier</th><th scope=col>FlightNum</th><th scope=col>TailNum</th><th scope=col>ActualElapsedTime</th><th scope=col>...</th><th scope=col>Dest</th><th scope=col>Distance</th><th scope=col>TaxiIn</th><th scope=col>TaxiOut</th><th scope=col>Cancelled</th><th scope=col>CancellationCode</th><th scope=col>Diverted</th><th scope=col>TotalTaxi</th><th scope=col>ActualGroundTime</th><th scope=col>Diff</th></tr></thead>\n",
       "<tbody>\n",
       "\t<tr><td>2011  </td><td>1     </td><td>1     </td><td>6     </td><td>1400  </td><td>1500  </td><td>AA    </td><td>428   </td><td>N576AA</td><td>60    </td><td>...   </td><td>DFW   </td><td>224   </td><td>7     </td><td>13    </td><td>0     </td><td>      </td><td>0     </td><td>20    </td><td>20    </td><td>0     </td></tr>\n",
       "\t<tr><td>2011  </td><td>1     </td><td>2     </td><td>7     </td><td>1401  </td><td>1501  </td><td>AA    </td><td>428   </td><td>N557AA</td><td>60    </td><td>...   </td><td>DFW   </td><td>224   </td><td>6     </td><td> 9    </td><td>0     </td><td>      </td><td>0     </td><td>15    </td><td>15    </td><td>0     </td></tr>\n",
       "\t<tr><td>2011  </td><td>1     </td><td>3     </td><td>1     </td><td>1352  </td><td>1502  </td><td>AA    </td><td>428   </td><td>N541AA</td><td>70    </td><td>...   </td><td>DFW   </td><td>224   </td><td>5     </td><td>17    </td><td>0     </td><td>      </td><td>0     </td><td>22    </td><td>22    </td><td>0     </td></tr>\n",
       "\t<tr><td>2011  </td><td>1     </td><td>4     </td><td>2     </td><td>1403  </td><td>1513  </td><td>AA    </td><td>428   </td><td>N403AA</td><td>70    </td><td>...   </td><td>DFW   </td><td>224   </td><td>9     </td><td>22    </td><td>0     </td><td>      </td><td>0     </td><td>31    </td><td>31    </td><td>0     </td></tr>\n",
       "\t<tr><td>2011  </td><td>1     </td><td>5     </td><td>3     </td><td>1405  </td><td>1507  </td><td>AA    </td><td>428   </td><td>N492AA</td><td>62    </td><td>...   </td><td>DFW   </td><td>224   </td><td>9     </td><td> 9    </td><td>0     </td><td>      </td><td>0     </td><td>18    </td><td>18    </td><td>0     </td></tr>\n",
       "\t<tr><td>2011  </td><td>1     </td><td>6     </td><td>4     </td><td>1359  </td><td>1503  </td><td>AA    </td><td>428   </td><td>N262AA</td><td>64    </td><td>...   </td><td>DFW   </td><td>224   </td><td>6     </td><td>13    </td><td>0     </td><td>      </td><td>0     </td><td>19    </td><td>19    </td><td>0     </td></tr>\n",
       "</tbody>\n",
       "</table>\n"
      ],
      "text/latex": [
       "\\begin{tabular}{r|llllllllllllllllllllllll}\n",
       " Year & Month & DayofMonth & DayOfWeek & DepTime & ArrTime & UniqueCarrier & FlightNum & TailNum & ActualElapsedTime & ... & Dest & Distance & TaxiIn & TaxiOut & Cancelled & CancellationCode & Diverted & TotalTaxi & ActualGroundTime & Diff\\\\\n",
       "\\hline\n",
       "\t 2011   & 1      & 1      & 6      & 1400   & 1500   & AA     & 428    & N576AA & 60     & ...    & DFW    & 224    & 7      & 13     & 0      &        & 0      & 20     & 20     & 0     \\\\\n",
       "\t 2011   & 1      & 2      & 7      & 1401   & 1501   & AA     & 428    & N557AA & 60     & ...    & DFW    & 224    & 6      &  9     & 0      &        & 0      & 15     & 15     & 0     \\\\\n",
       "\t 2011   & 1      & 3      & 1      & 1352   & 1502   & AA     & 428    & N541AA & 70     & ...    & DFW    & 224    & 5      & 17     & 0      &        & 0      & 22     & 22     & 0     \\\\\n",
       "\t 2011   & 1      & 4      & 2      & 1403   & 1513   & AA     & 428    & N403AA & 70     & ...    & DFW    & 224    & 9      & 22     & 0      &        & 0      & 31     & 31     & 0     \\\\\n",
       "\t 2011   & 1      & 5      & 3      & 1405   & 1507   & AA     & 428    & N492AA & 62     & ...    & DFW    & 224    & 9      &  9     & 0      &        & 0      & 18     & 18     & 0     \\\\\n",
       "\t 2011   & 1      & 6      & 4      & 1359   & 1503   & AA     & 428    & N262AA & 64     & ...    & DFW    & 224    & 6      & 13     & 0      &        & 0      & 19     & 19     & 0     \\\\\n",
       "\\end{tabular}\n"
      ],
      "text/markdown": [
       "\n",
       "| Year | Month | DayofMonth | DayOfWeek | DepTime | ArrTime | UniqueCarrier | FlightNum | TailNum | ActualElapsedTime | ... | Dest | Distance | TaxiIn | TaxiOut | Cancelled | CancellationCode | Diverted | TotalTaxi | ActualGroundTime | Diff |\n",
       "|---|---|---|---|---|---|---|---|---|---|---|---|---|---|---|---|---|---|---|---|---|\n",
       "| 2011   | 1      | 1      | 6      | 1400   | 1500   | AA     | 428    | N576AA | 60     | ...    | DFW    | 224    | 7      | 13     | 0      |        | 0      | 20     | 20     | 0      |\n",
       "| 2011   | 1      | 2      | 7      | 1401   | 1501   | AA     | 428    | N557AA | 60     | ...    | DFW    | 224    | 6      |  9     | 0      |        | 0      | 15     | 15     | 0      |\n",
       "| 2011   | 1      | 3      | 1      | 1352   | 1502   | AA     | 428    | N541AA | 70     | ...    | DFW    | 224    | 5      | 17     | 0      |        | 0      | 22     | 22     | 0      |\n",
       "| 2011   | 1      | 4      | 2      | 1403   | 1513   | AA     | 428    | N403AA | 70     | ...    | DFW    | 224    | 9      | 22     | 0      |        | 0      | 31     | 31     | 0      |\n",
       "| 2011   | 1      | 5      | 3      | 1405   | 1507   | AA     | 428    | N492AA | 62     | ...    | DFW    | 224    | 9      |  9     | 0      |        | 0      | 18     | 18     | 0      |\n",
       "| 2011   | 1      | 6      | 4      | 1359   | 1503   | AA     | 428    | N262AA | 64     | ...    | DFW    | 224    | 6      | 13     | 0      |        | 0      | 19     | 19     | 0      |\n",
       "\n"
      ],
      "text/plain": [
       "  Year Month DayofMonth DayOfWeek DepTime ArrTime UniqueCarrier FlightNum\n",
       "1 2011 1     1          6         1400    1500    AA            428      \n",
       "2 2011 1     2          7         1401    1501    AA            428      \n",
       "3 2011 1     3          1         1352    1502    AA            428      \n",
       "4 2011 1     4          2         1403    1513    AA            428      \n",
       "5 2011 1     5          3         1405    1507    AA            428      \n",
       "6 2011 1     6          4         1359    1503    AA            428      \n",
       "  TailNum ActualElapsedTime ... Dest Distance TaxiIn TaxiOut Cancelled\n",
       "1 N576AA  60                ... DFW  224      7      13      0        \n",
       "2 N557AA  60                ... DFW  224      6       9      0        \n",
       "3 N541AA  70                ... DFW  224      5      17      0        \n",
       "4 N403AA  70                ... DFW  224      9      22      0        \n",
       "5 N492AA  62                ... DFW  224      9       9      0        \n",
       "6 N262AA  64                ... DFW  224      6      13      0        \n",
       "  CancellationCode Diverted TotalTaxi ActualGroundTime Diff\n",
       "1                  0        20        20               0   \n",
       "2                  0        15        15               0   \n",
       "3                  0        22        22               0   \n",
       "4                  0        31        31               0   \n",
       "5                  0        18        18               0   \n",
       "6                  0        19        19               0   "
      ]
     },
     "metadata": {},
     "output_type": "display_data"
    }
   ],
   "source": [
    "# Add the three variables as described in the third instruction: m2\n",
    "head(mutate(hflights, \n",
    "            TotalTaxi = TaxiIn + TaxiOut, \n",
    "            ActualGroundTime = ActualElapsedTime - AirTime, \n",
    "            Diff = TotalTaxi - ActualGroundTime))"
   ]
  },
  {
   "cell_type": "markdown",
   "metadata": {},
   "source": [
    "## FILTER"
   ]
  },
  {
   "cell_type": "code",
   "execution_count": 12,
   "metadata": {},
   "outputs": [
    {
     "data": {
      "text/html": [
       "<table>\n",
       "<thead><tr><th scope=col>Year</th><th scope=col>Month</th><th scope=col>DayofMonth</th><th scope=col>DayOfWeek</th><th scope=col>DepTime</th><th scope=col>ArrTime</th><th scope=col>UniqueCarrier</th><th scope=col>FlightNum</th><th scope=col>TailNum</th><th scope=col>ActualElapsedTime</th><th scope=col>...</th><th scope=col>ArrDelay</th><th scope=col>DepDelay</th><th scope=col>Origin</th><th scope=col>Dest</th><th scope=col>Distance</th><th scope=col>TaxiIn</th><th scope=col>TaxiOut</th><th scope=col>Cancelled</th><th scope=col>CancellationCode</th><th scope=col>Diverted</th></tr></thead>\n",
       "<tbody>\n",
       "\t<tr><td>2011  </td><td>1     </td><td>1     </td><td>6     </td><td>1400  </td><td>1500  </td><td>AA    </td><td>428   </td><td>N576AA</td><td>60    </td><td>...   </td><td>-10   </td><td> 0    </td><td>IAH   </td><td>DFW   </td><td>224   </td><td>7     </td><td>13    </td><td>0     </td><td>      </td><td>0     </td></tr>\n",
       "\t<tr><td>2011  </td><td>1     </td><td>2     </td><td>7     </td><td>1401  </td><td>1501  </td><td>AA    </td><td>428   </td><td>N557AA</td><td>60    </td><td>...   </td><td> -9   </td><td> 1    </td><td>IAH   </td><td>DFW   </td><td>224   </td><td>6     </td><td> 9    </td><td>0     </td><td>      </td><td>0     </td></tr>\n",
       "\t<tr><td>2011  </td><td>1     </td><td>3     </td><td>1     </td><td>1352  </td><td>1502  </td><td>AA    </td><td>428   </td><td>N541AA</td><td>70    </td><td>...   </td><td> -8   </td><td>-8    </td><td>IAH   </td><td>DFW   </td><td>224   </td><td>5     </td><td>17    </td><td>0     </td><td>      </td><td>0     </td></tr>\n",
       "\t<tr><td>2011  </td><td>1     </td><td>4     </td><td>2     </td><td>1403  </td><td>1513  </td><td>AA    </td><td>428   </td><td>N403AA</td><td>70    </td><td>...   </td><td>  3   </td><td> 3    </td><td>IAH   </td><td>DFW   </td><td>224   </td><td>9     </td><td>22    </td><td>0     </td><td>      </td><td>0     </td></tr>\n",
       "\t<tr><td>2011  </td><td>1     </td><td>5     </td><td>3     </td><td>1405  </td><td>1507  </td><td>AA    </td><td>428   </td><td>N492AA</td><td>62    </td><td>...   </td><td> -3   </td><td> 5    </td><td>IAH   </td><td>DFW   </td><td>224   </td><td>9     </td><td> 9    </td><td>0     </td><td>      </td><td>0     </td></tr>\n",
       "\t<tr><td>2011  </td><td>1     </td><td>6     </td><td>4     </td><td>1359  </td><td>1503  </td><td>AA    </td><td>428   </td><td>N262AA</td><td>64    </td><td>...   </td><td> -7   </td><td>-1    </td><td>IAH   </td><td>DFW   </td><td>224   </td><td>6     </td><td>13    </td><td>0     </td><td>      </td><td>0     </td></tr>\n",
       "</tbody>\n",
       "</table>\n"
      ],
      "text/latex": [
       "\\begin{tabular}{r|lllllllllllllllllllll}\n",
       " Year & Month & DayofMonth & DayOfWeek & DepTime & ArrTime & UniqueCarrier & FlightNum & TailNum & ActualElapsedTime & ... & ArrDelay & DepDelay & Origin & Dest & Distance & TaxiIn & TaxiOut & Cancelled & CancellationCode & Diverted\\\\\n",
       "\\hline\n",
       "\t 2011   & 1      & 1      & 6      & 1400   & 1500   & AA     & 428    & N576AA & 60     & ...    & -10    &  0     & IAH    & DFW    & 224    & 7      & 13     & 0      &        & 0     \\\\\n",
       "\t 2011   & 1      & 2      & 7      & 1401   & 1501   & AA     & 428    & N557AA & 60     & ...    &  -9    &  1     & IAH    & DFW    & 224    & 6      &  9     & 0      &        & 0     \\\\\n",
       "\t 2011   & 1      & 3      & 1      & 1352   & 1502   & AA     & 428    & N541AA & 70     & ...    &  -8    & -8     & IAH    & DFW    & 224    & 5      & 17     & 0      &        & 0     \\\\\n",
       "\t 2011   & 1      & 4      & 2      & 1403   & 1513   & AA     & 428    & N403AA & 70     & ...    &   3    &  3     & IAH    & DFW    & 224    & 9      & 22     & 0      &        & 0     \\\\\n",
       "\t 2011   & 1      & 5      & 3      & 1405   & 1507   & AA     & 428    & N492AA & 62     & ...    &  -3    &  5     & IAH    & DFW    & 224    & 9      &  9     & 0      &        & 0     \\\\\n",
       "\t 2011   & 1      & 6      & 4      & 1359   & 1503   & AA     & 428    & N262AA & 64     & ...    &  -7    & -1     & IAH    & DFW    & 224    & 6      & 13     & 0      &        & 0     \\\\\n",
       "\\end{tabular}\n"
      ],
      "text/markdown": [
       "\n",
       "| Year | Month | DayofMonth | DayOfWeek | DepTime | ArrTime | UniqueCarrier | FlightNum | TailNum | ActualElapsedTime | ... | ArrDelay | DepDelay | Origin | Dest | Distance | TaxiIn | TaxiOut | Cancelled | CancellationCode | Diverted |\n",
       "|---|---|---|---|---|---|---|---|---|---|---|---|---|---|---|---|---|---|---|---|---|\n",
       "| 2011   | 1      | 1      | 6      | 1400   | 1500   | AA     | 428    | N576AA | 60     | ...    | -10    |  0     | IAH    | DFW    | 224    | 7      | 13     | 0      |        | 0      |\n",
       "| 2011   | 1      | 2      | 7      | 1401   | 1501   | AA     | 428    | N557AA | 60     | ...    |  -9    |  1     | IAH    | DFW    | 224    | 6      |  9     | 0      |        | 0      |\n",
       "| 2011   | 1      | 3      | 1      | 1352   | 1502   | AA     | 428    | N541AA | 70     | ...    |  -8    | -8     | IAH    | DFW    | 224    | 5      | 17     | 0      |        | 0      |\n",
       "| 2011   | 1      | 4      | 2      | 1403   | 1513   | AA     | 428    | N403AA | 70     | ...    |   3    |  3     | IAH    | DFW    | 224    | 9      | 22     | 0      |        | 0      |\n",
       "| 2011   | 1      | 5      | 3      | 1405   | 1507   | AA     | 428    | N492AA | 62     | ...    |  -3    |  5     | IAH    | DFW    | 224    | 9      |  9     | 0      |        | 0      |\n",
       "| 2011   | 1      | 6      | 4      | 1359   | 1503   | AA     | 428    | N262AA | 64     | ...    |  -7    | -1     | IAH    | DFW    | 224    | 6      | 13     | 0      |        | 0      |\n",
       "\n"
      ],
      "text/plain": [
       "  Year Month DayofMonth DayOfWeek DepTime ArrTime UniqueCarrier FlightNum\n",
       "1 2011 1     1          6         1400    1500    AA            428      \n",
       "2 2011 1     2          7         1401    1501    AA            428      \n",
       "3 2011 1     3          1         1352    1502    AA            428      \n",
       "4 2011 1     4          2         1403    1513    AA            428      \n",
       "5 2011 1     5          3         1405    1507    AA            428      \n",
       "6 2011 1     6          4         1359    1503    AA            428      \n",
       "  TailNum ActualElapsedTime ... ArrDelay DepDelay Origin Dest Distance TaxiIn\n",
       "1 N576AA  60                ... -10       0       IAH    DFW  224      7     \n",
       "2 N557AA  60                ...  -9       1       IAH    DFW  224      6     \n",
       "3 N541AA  70                ...  -8      -8       IAH    DFW  224      5     \n",
       "4 N403AA  70                ...   3       3       IAH    DFW  224      9     \n",
       "5 N492AA  62                ...  -3       5       IAH    DFW  224      9     \n",
       "6 N262AA  64                ...  -7      -1       IAH    DFW  224      6     \n",
       "  TaxiOut Cancelled CancellationCode Diverted\n",
       "1 13      0                          0       \n",
       "2  9      0                          0       \n",
       "3 17      0                          0       \n",
       "4 22      0                          0       \n",
       "5  9      0                          0       \n",
       "6 13      0                          0       "
      ]
     },
     "metadata": {},
     "output_type": "display_data"
    }
   ],
   "source": [
    "# All flights flown by one of AA, BS or CO\n",
    "head(filter(hflights, UniqueCarrier %in% c(\"AA\", \"BS\", \"CO\")))"
   ]
  },
  {
   "cell_type": "code",
   "execution_count": 13,
   "metadata": {},
   "outputs": [
    {
     "data": {
      "text/html": [
       "<table>\n",
       "<thead><tr><th scope=col>Year</th><th scope=col>Month</th><th scope=col>DayofMonth</th><th scope=col>DayOfWeek</th><th scope=col>DepTime</th><th scope=col>ArrTime</th><th scope=col>UniqueCarrier</th><th scope=col>FlightNum</th><th scope=col>TailNum</th><th scope=col>ActualElapsedTime</th><th scope=col>...</th><th scope=col>ArrDelay</th><th scope=col>DepDelay</th><th scope=col>Origin</th><th scope=col>Dest</th><th scope=col>Distance</th><th scope=col>TaxiIn</th><th scope=col>TaxiOut</th><th scope=col>Cancelled</th><th scope=col>CancellationCode</th><th scope=col>Diverted</th></tr></thead>\n",
       "<tbody>\n",
       "\t<tr><td>2011  </td><td>1     </td><td> 4    </td><td>2     </td><td>2100  </td><td>2207  </td><td>AA    </td><td> 533  </td><td>N4XGAA</td><td> 67   </td><td>...   </td><td>47    </td><td>55    </td><td>IAH   </td><td>DFW   </td><td> 224  </td><td>3     </td><td>22    </td><td>0     </td><td>      </td><td>0     </td></tr>\n",
       "\t<tr><td>2011  </td><td>1     </td><td>14    </td><td>5     </td><td>2119  </td><td>2229  </td><td>AA    </td><td> 533  </td><td>N549AA</td><td> 70   </td><td>...   </td><td>69    </td><td>74    </td><td>IAH   </td><td>DFW   </td><td> 224  </td><td>5     </td><td>20    </td><td>0     </td><td>      </td><td>0     </td></tr>\n",
       "\t<tr><td>2011  </td><td>1     </td><td>10    </td><td>1     </td><td>1934  </td><td>2235  </td><td>AA    </td><td>1294  </td><td>N3BXAA</td><td>121   </td><td>...   </td><td>80    </td><td>99    </td><td>IAH   </td><td>MIA   </td><td> 964  </td><td>3     </td><td>11    </td><td>0     </td><td>      </td><td>0     </td></tr>\n",
       "\t<tr><td>2011  </td><td>1     </td><td>26    </td><td>3     </td><td>1905  </td><td>2211  </td><td>AA    </td><td>1294  </td><td>N3BXAA</td><td>126   </td><td>...   </td><td>56    </td><td>70    </td><td>IAH   </td><td>MIA   </td><td> 964  </td><td>5     </td><td>10    </td><td>0     </td><td>      </td><td>0     </td></tr>\n",
       "\t<tr><td>2011  </td><td>1     </td><td>30    </td><td>7     </td><td>1856  </td><td>2209  </td><td>AA    </td><td>1294  </td><td>N3CPAA</td><td>133   </td><td>...   </td><td>54    </td><td>61    </td><td>IAH   </td><td>MIA   </td><td> 964  </td><td>7     </td><td>18    </td><td>0     </td><td>      </td><td>0     </td></tr>\n",
       "\t<tr><td>2011  </td><td>1     </td><td> 9    </td><td>7     </td><td>1938  </td><td>2228  </td><td>AS    </td><td> 731  </td><td>N609AS</td><td>290   </td><td>...   </td><td>78    </td><td>73    </td><td>IAH   </td><td>SEA   </td><td>1874  </td><td>5     </td><td>32    </td><td>0     </td><td>      </td><td>0     </td></tr>\n",
       "</tbody>\n",
       "</table>\n"
      ],
      "text/latex": [
       "\\begin{tabular}{r|lllllllllllllllllllll}\n",
       " Year & Month & DayofMonth & DayOfWeek & DepTime & ArrTime & UniqueCarrier & FlightNum & TailNum & ActualElapsedTime & ... & ArrDelay & DepDelay & Origin & Dest & Distance & TaxiIn & TaxiOut & Cancelled & CancellationCode & Diverted\\\\\n",
       "\\hline\n",
       "\t 2011   & 1      &  4     & 2      & 2100   & 2207   & AA     &  533   & N4XGAA &  67    & ...    & 47     & 55     & IAH    & DFW    &  224   & 3      & 22     & 0      &        & 0     \\\\\n",
       "\t 2011   & 1      & 14     & 5      & 2119   & 2229   & AA     &  533   & N549AA &  70    & ...    & 69     & 74     & IAH    & DFW    &  224   & 5      & 20     & 0      &        & 0     \\\\\n",
       "\t 2011   & 1      & 10     & 1      & 1934   & 2235   & AA     & 1294   & N3BXAA & 121    & ...    & 80     & 99     & IAH    & MIA    &  964   & 3      & 11     & 0      &        & 0     \\\\\n",
       "\t 2011   & 1      & 26     & 3      & 1905   & 2211   & AA     & 1294   & N3BXAA & 126    & ...    & 56     & 70     & IAH    & MIA    &  964   & 5      & 10     & 0      &        & 0     \\\\\n",
       "\t 2011   & 1      & 30     & 7      & 1856   & 2209   & AA     & 1294   & N3CPAA & 133    & ...    & 54     & 61     & IAH    & MIA    &  964   & 7      & 18     & 0      &        & 0     \\\\\n",
       "\t 2011   & 1      &  9     & 7      & 1938   & 2228   & AS     &  731   & N609AS & 290    & ...    & 78     & 73     & IAH    & SEA    & 1874   & 5      & 32     & 0      &        & 0     \\\\\n",
       "\\end{tabular}\n"
      ],
      "text/markdown": [
       "\n",
       "| Year | Month | DayofMonth | DayOfWeek | DepTime | ArrTime | UniqueCarrier | FlightNum | TailNum | ActualElapsedTime | ... | ArrDelay | DepDelay | Origin | Dest | Distance | TaxiIn | TaxiOut | Cancelled | CancellationCode | Diverted |\n",
       "|---|---|---|---|---|---|---|---|---|---|---|---|---|---|---|---|---|---|---|---|---|\n",
       "| 2011   | 1      |  4     | 2      | 2100   | 2207   | AA     |  533   | N4XGAA |  67    | ...    | 47     | 55     | IAH    | DFW    |  224   | 3      | 22     | 0      |        | 0      |\n",
       "| 2011   | 1      | 14     | 5      | 2119   | 2229   | AA     |  533   | N549AA |  70    | ...    | 69     | 74     | IAH    | DFW    |  224   | 5      | 20     | 0      |        | 0      |\n",
       "| 2011   | 1      | 10     | 1      | 1934   | 2235   | AA     | 1294   | N3BXAA | 121    | ...    | 80     | 99     | IAH    | MIA    |  964   | 3      | 11     | 0      |        | 0      |\n",
       "| 2011   | 1      | 26     | 3      | 1905   | 2211   | AA     | 1294   | N3BXAA | 126    | ...    | 56     | 70     | IAH    | MIA    |  964   | 5      | 10     | 0      |        | 0      |\n",
       "| 2011   | 1      | 30     | 7      | 1856   | 2209   | AA     | 1294   | N3CPAA | 133    | ...    | 54     | 61     | IAH    | MIA    |  964   | 7      | 18     | 0      |        | 0      |\n",
       "| 2011   | 1      |  9     | 7      | 1938   | 2228   | AS     |  731   | N609AS | 290    | ...    | 78     | 73     | IAH    | SEA    | 1874   | 5      | 32     | 0      |        | 0      |\n",
       "\n"
      ],
      "text/plain": [
       "  Year Month DayofMonth DayOfWeek DepTime ArrTime UniqueCarrier FlightNum\n",
       "1 2011 1      4         2         2100    2207    AA             533     \n",
       "2 2011 1     14         5         2119    2229    AA             533     \n",
       "3 2011 1     10         1         1934    2235    AA            1294     \n",
       "4 2011 1     26         3         1905    2211    AA            1294     \n",
       "5 2011 1     30         7         1856    2209    AA            1294     \n",
       "6 2011 1      9         7         1938    2228    AS             731     \n",
       "  TailNum ActualElapsedTime ... ArrDelay DepDelay Origin Dest Distance TaxiIn\n",
       "1 N4XGAA   67               ... 47       55       IAH    DFW   224     3     \n",
       "2 N549AA   70               ... 69       74       IAH    DFW   224     5     \n",
       "3 N3BXAA  121               ... 80       99       IAH    MIA   964     3     \n",
       "4 N3BXAA  126               ... 56       70       IAH    MIA   964     5     \n",
       "5 N3CPAA  133               ... 54       61       IAH    MIA   964     7     \n",
       "6 N609AS  290               ... 78       73       IAH    SEA  1874     5     \n",
       "  TaxiOut Cancelled CancellationCode Diverted\n",
       "1 22      0                          0       \n",
       "2 20      0                          0       \n",
       "3 11      0                          0       \n",
       "4 10      0                          0       \n",
       "5 18      0                          0       \n",
       "6 32      0                          0       "
      ]
     },
     "metadata": {},
     "output_type": "display_data"
    }
   ],
   "source": [
    "# All flights that departed before 5am or arrived after 10pm\n",
    "head(filter(hflights, DepTime < 500 | ArrTime > 2200))"
   ]
  },
  {
   "cell_type": "markdown",
   "metadata": {},
   "source": [
    "## ARRANGE"
   ]
  },
  {
   "cell_type": "code",
   "execution_count": 16,
   "metadata": {},
   "outputs": [
    {
     "data": {
      "text/html": [
       "<table>\n",
       "<thead><tr><th scope=col>Year</th><th scope=col>Month</th><th scope=col>DayofMonth</th><th scope=col>DayOfWeek</th><th scope=col>DepTime</th><th scope=col>ArrTime</th><th scope=col>UniqueCarrier</th><th scope=col>FlightNum</th><th scope=col>TailNum</th><th scope=col>ActualElapsedTime</th><th scope=col>...</th><th scope=col>ArrDelay</th><th scope=col>DepDelay</th><th scope=col>Origin</th><th scope=col>Dest</th><th scope=col>Distance</th><th scope=col>TaxiIn</th><th scope=col>TaxiOut</th><th scope=col>Cancelled</th><th scope=col>CancellationCode</th><th scope=col>Diverted</th></tr></thead>\n",
       "<tbody>\n",
       "\t<tr><td>2011  </td><td>12    </td><td>12    </td><td>1     </td><td> 650  </td><td> 808  </td><td>AA    </td><td>1740  </td><td>N473AA</td><td> 78   </td><td>...   </td><td>978   </td><td>970   </td><td>IAH   </td><td>DFW   </td><td> 224  </td><td>14    </td><td>15    </td><td>0     </td><td>      </td><td>0     </td></tr>\n",
       "\t<tr><td>2011  </td><td> 8    </td><td> 1    </td><td>1     </td><td> 156  </td><td> 452  </td><td>CO    </td><td>   1  </td><td>N69063</td><td>476   </td><td>...   </td><td>957   </td><td>981   </td><td>IAH   </td><td>HNL   </td><td>3904  </td><td> 5    </td><td>10    </td><td>0     </td><td>      </td><td>0     </td></tr>\n",
       "\t<tr><td>2011  </td><td>11    </td><td> 8    </td><td>2     </td><td> 721  </td><td> 948  </td><td>MQ    </td><td>3786  </td><td>N502MQ</td><td>147   </td><td>...   </td><td>918   </td><td>931   </td><td>IAH   </td><td>ORD   </td><td> 925  </td><td> 9    </td><td>18    </td><td>0     </td><td>      </td><td>0     </td></tr>\n",
       "\t<tr><td>2011  </td><td> 6    </td><td>21    </td><td>2     </td><td>2334  </td><td> 124  </td><td>UA    </td><td> 855  </td><td>N670UA</td><td>230   </td><td>...   </td><td>861   </td><td>869   </td><td>IAH   </td><td>SFO   </td><td>1635  </td><td> 3    </td><td>11    </td><td>0     </td><td>      </td><td>0     </td></tr>\n",
       "\t<tr><td>2011  </td><td> 5    </td><td>20    </td><td>5     </td><td> 858  </td><td>1027  </td><td>MQ    </td><td>3328  </td><td>N609MQ</td><td> 89   </td><td>...   </td><td>822   </td><td>803   </td><td>HOU   </td><td>DFW   </td><td> 247  </td><td>10    </td><td>24    </td><td>0     </td><td>      </td><td>0     </td></tr>\n",
       "\t<tr><td>2011  </td><td> 6    </td><td> 9    </td><td>4     </td><td>2029  </td><td>2243  </td><td>MQ    </td><td>3859  </td><td>N6EAMQ</td><td>134   </td><td>...   </td><td>793   </td><td>814   </td><td>IAH   </td><td>ORD   </td><td> 925  </td><td> 9    </td><td> 8    </td><td>0     </td><td>      </td><td>0     </td></tr>\n",
       "</tbody>\n",
       "</table>\n"
      ],
      "text/latex": [
       "\\begin{tabular}{r|lllllllllllllllllllll}\n",
       " Year & Month & DayofMonth & DayOfWeek & DepTime & ArrTime & UniqueCarrier & FlightNum & TailNum & ActualElapsedTime & ... & ArrDelay & DepDelay & Origin & Dest & Distance & TaxiIn & TaxiOut & Cancelled & CancellationCode & Diverted\\\\\n",
       "\\hline\n",
       "\t 2011   & 12     & 12     & 1      &  650   &  808   & AA     & 1740   & N473AA &  78    & ...    & 978    & 970    & IAH    & DFW    &  224   & 14     & 15     & 0      &        & 0     \\\\\n",
       "\t 2011   &  8     &  1     & 1      &  156   &  452   & CO     &    1   & N69063 & 476    & ...    & 957    & 981    & IAH    & HNL    & 3904   &  5     & 10     & 0      &        & 0     \\\\\n",
       "\t 2011   & 11     &  8     & 2      &  721   &  948   & MQ     & 3786   & N502MQ & 147    & ...    & 918    & 931    & IAH    & ORD    &  925   &  9     & 18     & 0      &        & 0     \\\\\n",
       "\t 2011   &  6     & 21     & 2      & 2334   &  124   & UA     &  855   & N670UA & 230    & ...    & 861    & 869    & IAH    & SFO    & 1635   &  3     & 11     & 0      &        & 0     \\\\\n",
       "\t 2011   &  5     & 20     & 5      &  858   & 1027   & MQ     & 3328   & N609MQ &  89    & ...    & 822    & 803    & HOU    & DFW    &  247   & 10     & 24     & 0      &        & 0     \\\\\n",
       "\t 2011   &  6     &  9     & 4      & 2029   & 2243   & MQ     & 3859   & N6EAMQ & 134    & ...    & 793    & 814    & IAH    & ORD    &  925   &  9     &  8     & 0      &        & 0     \\\\\n",
       "\\end{tabular}\n"
      ],
      "text/markdown": [
       "\n",
       "| Year | Month | DayofMonth | DayOfWeek | DepTime | ArrTime | UniqueCarrier | FlightNum | TailNum | ActualElapsedTime | ... | ArrDelay | DepDelay | Origin | Dest | Distance | TaxiIn | TaxiOut | Cancelled | CancellationCode | Diverted |\n",
       "|---|---|---|---|---|---|---|---|---|---|---|---|---|---|---|---|---|---|---|---|---|\n",
       "| 2011   | 12     | 12     | 1      |  650   |  808   | AA     | 1740   | N473AA |  78    | ...    | 978    | 970    | IAH    | DFW    |  224   | 14     | 15     | 0      |        | 0      |\n",
       "| 2011   |  8     |  1     | 1      |  156   |  452   | CO     |    1   | N69063 | 476    | ...    | 957    | 981    | IAH    | HNL    | 3904   |  5     | 10     | 0      |        | 0      |\n",
       "| 2011   | 11     |  8     | 2      |  721   |  948   | MQ     | 3786   | N502MQ | 147    | ...    | 918    | 931    | IAH    | ORD    |  925   |  9     | 18     | 0      |        | 0      |\n",
       "| 2011   |  6     | 21     | 2      | 2334   |  124   | UA     |  855   | N670UA | 230    | ...    | 861    | 869    | IAH    | SFO    | 1635   |  3     | 11     | 0      |        | 0      |\n",
       "| 2011   |  5     | 20     | 5      |  858   | 1027   | MQ     | 3328   | N609MQ |  89    | ...    | 822    | 803    | HOU    | DFW    |  247   | 10     | 24     | 0      |        | 0      |\n",
       "| 2011   |  6     |  9     | 4      | 2029   | 2243   | MQ     | 3859   | N6EAMQ | 134    | ...    | 793    | 814    | IAH    | ORD    |  925   |  9     |  8     | 0      |        | 0      |\n",
       "\n"
      ],
      "text/plain": [
       "  Year Month DayofMonth DayOfWeek DepTime ArrTime UniqueCarrier FlightNum\n",
       "1 2011 12    12         1          650     808    AA            1740     \n",
       "2 2011  8     1         1          156     452    CO               1     \n",
       "3 2011 11     8         2          721     948    MQ            3786     \n",
       "4 2011  6    21         2         2334     124    UA             855     \n",
       "5 2011  5    20         5          858    1027    MQ            3328     \n",
       "6 2011  6     9         4         2029    2243    MQ            3859     \n",
       "  TailNum ActualElapsedTime ... ArrDelay DepDelay Origin Dest Distance TaxiIn\n",
       "1 N473AA   78               ... 978      970      IAH    DFW   224     14    \n",
       "2 N69063  476               ... 957      981      IAH    HNL  3904      5    \n",
       "3 N502MQ  147               ... 918      931      IAH    ORD   925      9    \n",
       "4 N670UA  230               ... 861      869      IAH    SFO  1635      3    \n",
       "5 N609MQ   89               ... 822      803      HOU    DFW   247     10    \n",
       "6 N6EAMQ  134               ... 793      814      IAH    ORD   925      9    \n",
       "  TaxiOut Cancelled CancellationCode Diverted\n",
       "1 15      0                          0       \n",
       "2 10      0                          0       \n",
       "3 18      0                          0       \n",
       "4 11      0                          0       \n",
       "5 24      0                          0       \n",
       "6  8      0                          0       "
      ]
     },
     "metadata": {},
     "output_type": "display_data"
    }
   ],
   "source": [
    "# Definition of dtc\n",
    "dtc <- filter(hflights, Cancelled == 1, !is.na(DepDelay))\n",
    "\n",
    "# Arrange flights by total delay (normal order).\n",
    "head(arrange(hflights, desc(DepDelay + ArrDelay)))"
   ]
  },
  {
   "cell_type": "markdown",
   "metadata": {},
   "source": [
    "## SUMMARIZE"
   ]
  },
  {
   "cell_type": "code",
   "execution_count": 24,
   "metadata": {},
   "outputs": [
    {
     "data": {
      "text/html": [
       "<table>\n",
       "<thead><tr><th scope=col>n_obs1</th><th scope=col>n_obs2</th><th scope=col>n_carrier</th><th scope=col>max_div</th></tr></thead>\n",
       "<tbody>\n",
       "\t<tr><td>227496</td><td>227496</td><td>15    </td><td>3904  </td></tr>\n",
       "</tbody>\n",
       "</table>\n"
      ],
      "text/latex": [
       "\\begin{tabular}{r|llll}\n",
       " n\\_obs1 & n\\_obs2 & n\\_carrier & max\\_div\\\\\n",
       "\\hline\n",
       "\t 227496 & 227496 & 15     & 3904  \\\\\n",
       "\\end{tabular}\n"
      ],
      "text/markdown": [
       "\n",
       "| n_obs1 | n_obs2 | n_carrier | max_div |\n",
       "|---|---|---|---|\n",
       "| 227496 | 227496 | 15     | 3904   |\n",
       "\n"
      ],
      "text/plain": [
       "  n_obs1 n_obs2 n_carrier max_div\n",
       "1 227496 227496 15        3904   "
      ]
     },
     "metadata": {},
     "output_type": "display_data"
    }
   ],
   "source": [
    "# Generate summarizing statistics for hflights\n",
    "summarise(hflights,\n",
    "          n_obs1 = n(),\n",
    "          n_obs2 = nrow(hflights),\n",
    "          n_carrier = n_distinct(UniqueCarrier),\n",
    "          max_div = max(Distance))"
   ]
  },
  {
   "cell_type": "markdown",
   "metadata": {},
   "source": [
    "## GROUP BY"
   ]
  },
  {
   "cell_type": "code",
   "execution_count": 25,
   "metadata": {},
   "outputs": [
    {
     "data": {
      "text/html": [
       "<table>\n",
       "<thead><tr><th scope=col>UniqueCarrier</th><th scope=col>Dest</th><th scope=col>n</th><th scope=col>rank</th></tr></thead>\n",
       "<tbody>\n",
       "\t<tr><td>AA  </td><td>DFW </td><td>2105</td><td>1   </td></tr>\n",
       "\t<tr><td>AS  </td><td>SEA </td><td> 365</td><td>1   </td></tr>\n",
       "\t<tr><td>B6  </td><td>JFK </td><td> 695</td><td>1   </td></tr>\n",
       "\t<tr><td>CO  </td><td>EWR </td><td>3924</td><td>1   </td></tr>\n",
       "\t<tr><td>DL  </td><td>ATL </td><td>2396</td><td>1   </td></tr>\n",
       "\t<tr><td>EV  </td><td>DTW </td><td> 851</td><td>1   </td></tr>\n",
       "\t<tr><td>F9  </td><td>DEN </td><td> 837</td><td>1   </td></tr>\n",
       "\t<tr><td>FL  </td><td>ATL </td><td>2029</td><td>1   </td></tr>\n",
       "\t<tr><td>MQ  </td><td>DFW </td><td>2424</td><td>1   </td></tr>\n",
       "\t<tr><td>OO  </td><td>COS </td><td>1335</td><td>1   </td></tr>\n",
       "\t<tr><td>UA  </td><td>SFO </td><td> 643</td><td>1   </td></tr>\n",
       "\t<tr><td>US  </td><td>CLT </td><td>2212</td><td>1   </td></tr>\n",
       "\t<tr><td>WN  </td><td>DAL </td><td>8243</td><td>1   </td></tr>\n",
       "\t<tr><td>XE  </td><td>CRP </td><td>3175</td><td>1   </td></tr>\n",
       "\t<tr><td>YV  </td><td>CLT </td><td>  71</td><td>1   </td></tr>\n",
       "</tbody>\n",
       "</table>\n"
      ],
      "text/latex": [
       "\\begin{tabular}{r|llll}\n",
       " UniqueCarrier & Dest & n & rank\\\\\n",
       "\\hline\n",
       "\t AA   & DFW  & 2105 & 1   \\\\\n",
       "\t AS   & SEA  &  365 & 1   \\\\\n",
       "\t B6   & JFK  &  695 & 1   \\\\\n",
       "\t CO   & EWR  & 3924 & 1   \\\\\n",
       "\t DL   & ATL  & 2396 & 1   \\\\\n",
       "\t EV   & DTW  &  851 & 1   \\\\\n",
       "\t F9   & DEN  &  837 & 1   \\\\\n",
       "\t FL   & ATL  & 2029 & 1   \\\\\n",
       "\t MQ   & DFW  & 2424 & 1   \\\\\n",
       "\t OO   & COS  & 1335 & 1   \\\\\n",
       "\t UA   & SFO  &  643 & 1   \\\\\n",
       "\t US   & CLT  & 2212 & 1   \\\\\n",
       "\t WN   & DAL  & 8243 & 1   \\\\\n",
       "\t XE   & CRP  & 3175 & 1   \\\\\n",
       "\t YV   & CLT  &   71 & 1   \\\\\n",
       "\\end{tabular}\n"
      ],
      "text/markdown": [
       "\n",
       "| UniqueCarrier | Dest | n | rank |\n",
       "|---|---|---|---|\n",
       "| AA   | DFW  | 2105 | 1    |\n",
       "| AS   | SEA  |  365 | 1    |\n",
       "| B6   | JFK  |  695 | 1    |\n",
       "| CO   | EWR  | 3924 | 1    |\n",
       "| DL   | ATL  | 2396 | 1    |\n",
       "| EV   | DTW  |  851 | 1    |\n",
       "| F9   | DEN  |  837 | 1    |\n",
       "| FL   | ATL  | 2029 | 1    |\n",
       "| MQ   | DFW  | 2424 | 1    |\n",
       "| OO   | COS  | 1335 | 1    |\n",
       "| UA   | SFO  |  643 | 1    |\n",
       "| US   | CLT  | 2212 | 1    |\n",
       "| WN   | DAL  | 8243 | 1    |\n",
       "| XE   | CRP  | 3175 | 1    |\n",
       "| YV   | CLT  |   71 | 1    |\n",
       "\n"
      ],
      "text/plain": [
       "   UniqueCarrier Dest n    rank\n",
       "1  AA            DFW  2105 1   \n",
       "2  AS            SEA   365 1   \n",
       "3  B6            JFK   695 1   \n",
       "4  CO            EWR  3924 1   \n",
       "5  DL            ATL  2396 1   \n",
       "6  EV            DTW   851 1   \n",
       "7  F9            DEN   837 1   \n",
       "8  FL            ATL  2029 1   \n",
       "9  MQ            DFW  2424 1   \n",
       "10 OO            COS  1335 1   \n",
       "11 UA            SFO   643 1   \n",
       "12 US            CLT  2212 1   \n",
       "13 WN            DAL  8243 1   \n",
       "14 XE            CRP  3175 1   \n",
       "15 YV            CLT    71 1   "
      ]
     },
     "metadata": {},
     "output_type": "display_data"
    }
   ],
   "source": [
    "# Find the most visited destination for each carrier\n",
    "hflights %>% \n",
    "  group_by(UniqueCarrier, Dest) %>%\n",
    "  summarise(n = n()) %>%\n",
    "  mutate(rank = rank(desc(n))) %>%\n",
    "  filter(rank == 1)"
   ]
  },
  {
   "cell_type": "code",
   "execution_count": 27,
   "metadata": {},
   "outputs": [
    {
     "data": {
      "text/html": [
       "<table>\n",
       "<thead><tr><th scope=col>UniqueCarrier</th><th scope=col>avg</th><th scope=col>rank</th></tr></thead>\n",
       "<tbody>\n",
       "\t<tr><td>YV      </td><td>18.67568</td><td> 1      </td></tr>\n",
       "\t<tr><td>F9      </td><td>18.68683</td><td> 2      </td></tr>\n",
       "\t<tr><td>US      </td><td>20.70235</td><td> 3      </td></tr>\n",
       "\t<tr><td>CO      </td><td>22.13374</td><td> 4      </td></tr>\n",
       "\t<tr><td>AS      </td><td>22.91195</td><td> 5      </td></tr>\n",
       "\t<tr><td>OO      </td><td>24.14663</td><td> 6      </td></tr>\n",
       "\t<tr><td>XE      </td><td>24.19337</td><td> 7      </td></tr>\n",
       "\t<tr><td>WN      </td><td>25.27750</td><td> 8      </td></tr>\n",
       "\t<tr><td>FL      </td><td>27.85693</td><td> 9      </td></tr>\n",
       "\t<tr><td>AA      </td><td>28.49740</td><td>10      </td></tr>\n",
       "\t<tr><td>DL      </td><td>32.12463</td><td>11      </td></tr>\n",
       "\t<tr><td>UA      </td><td>32.48067</td><td>12      </td></tr>\n",
       "\t<tr><td>MQ      </td><td>38.75135</td><td>13      </td></tr>\n",
       "\t<tr><td>EV      </td><td>40.24231</td><td>14      </td></tr>\n",
       "\t<tr><td>B6      </td><td>45.47744</td><td>15      </td></tr>\n",
       "</tbody>\n",
       "</table>\n"
      ],
      "text/latex": [
       "\\begin{tabular}{r|lll}\n",
       " UniqueCarrier & avg & rank\\\\\n",
       "\\hline\n",
       "\t YV       & 18.67568 &  1      \\\\\n",
       "\t F9       & 18.68683 &  2      \\\\\n",
       "\t US       & 20.70235 &  3      \\\\\n",
       "\t CO       & 22.13374 &  4      \\\\\n",
       "\t AS       & 22.91195 &  5      \\\\\n",
       "\t OO       & 24.14663 &  6      \\\\\n",
       "\t XE       & 24.19337 &  7      \\\\\n",
       "\t WN       & 25.27750 &  8      \\\\\n",
       "\t FL       & 27.85693 &  9      \\\\\n",
       "\t AA       & 28.49740 & 10      \\\\\n",
       "\t DL       & 32.12463 & 11      \\\\\n",
       "\t UA       & 32.48067 & 12      \\\\\n",
       "\t MQ       & 38.75135 & 13      \\\\\n",
       "\t EV       & 40.24231 & 14      \\\\\n",
       "\t B6       & 45.47744 & 15      \\\\\n",
       "\\end{tabular}\n"
      ],
      "text/markdown": [
       "\n",
       "| UniqueCarrier | avg | rank |\n",
       "|---|---|---|\n",
       "| YV       | 18.67568 |  1       |\n",
       "| F9       | 18.68683 |  2       |\n",
       "| US       | 20.70235 |  3       |\n",
       "| CO       | 22.13374 |  4       |\n",
       "| AS       | 22.91195 |  5       |\n",
       "| OO       | 24.14663 |  6       |\n",
       "| XE       | 24.19337 |  7       |\n",
       "| WN       | 25.27750 |  8       |\n",
       "| FL       | 27.85693 |  9       |\n",
       "| AA       | 28.49740 | 10       |\n",
       "| DL       | 32.12463 | 11       |\n",
       "| UA       | 32.48067 | 12       |\n",
       "| MQ       | 38.75135 | 13       |\n",
       "| EV       | 40.24231 | 14       |\n",
       "| B6       | 45.47744 | 15       |\n",
       "\n"
      ],
      "text/plain": [
       "   UniqueCarrier avg      rank\n",
       "1  YV            18.67568  1  \n",
       "2  F9            18.68683  2  \n",
       "3  US            20.70235  3  \n",
       "4  CO            22.13374  4  \n",
       "5  AS            22.91195  5  \n",
       "6  OO            24.14663  6  \n",
       "7  XE            24.19337  7  \n",
       "8  WN            25.27750  8  \n",
       "9  FL            27.85693  9  \n",
       "10 AA            28.49740 10  \n",
       "11 DL            32.12463 11  \n",
       "12 UA            32.48067 12  \n",
       "13 MQ            38.75135 13  \n",
       "14 EV            40.24231 14  \n",
       "15 B6            45.47744 15  "
      ]
     },
     "metadata": {},
     "output_type": "display_data"
    }
   ],
   "source": [
    "# Ordered overview of average arrival delays per carrier\n",
    "hflights %>%\n",
    "  filter(!is.na(ArrDelay), ArrDelay > 0) %>%\n",
    "  group_by(UniqueCarrier) %>%\n",
    "  summarise(avg = mean(ArrDelay, na.rm = TRUE)) %>%\n",
    "  mutate(rank = rank(avg)) %>%\n",
    "  arrange(rank)"
   ]
  }
 ],
 "metadata": {
  "kernelspec": {
   "display_name": "R",
   "language": "R",
   "name": "ir"
  },
  "language_info": {
   "codemirror_mode": "r",
   "file_extension": ".r",
   "mimetype": "text/x-r-source",
   "name": "R",
   "pygments_lexer": "r",
   "version": "3.5.1"
  },
  "toc": {
   "base_numbering": 1,
   "nav_menu": {},
   "number_sections": true,
   "sideBar": true,
   "skip_h1_title": false,
   "title_cell": "Table of Contents",
   "title_sidebar": "Contents",
   "toc_cell": true,
   "toc_position": {},
   "toc_section_display": true,
   "toc_window_display": false
  }
 },
 "nbformat": 4,
 "nbformat_minor": 2
}
