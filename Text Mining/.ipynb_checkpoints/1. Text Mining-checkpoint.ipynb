{
 "cells": [
  {
   "cell_type": "markdown",
   "metadata": {
    "toc": true
   },
   "source": [
    "<h1>Table of Contents<span class=\"tocSkip\"></span></h1>\n",
    "<div class=\"toc\"><ul class=\"toc-item\"><li><span><a href=\"#VCORPUS\" data-toc-modified-id=\"VCORPUS-1\"><span class=\"toc-item-num\">1&nbsp;&nbsp;</span>VCORPUS</a></span></li><li><span><a href=\"#CLEANING-WITH-BASE\" data-toc-modified-id=\"CLEANING-WITH-BASE-2\"><span class=\"toc-item-num\">2&nbsp;&nbsp;</span>CLEANING WITH BASE</a></span></li><li><span><a href=\"#CLEANING-WITH-QDAP\" data-toc-modified-id=\"CLEANING-WITH-QDAP-3\"><span class=\"toc-item-num\">3&nbsp;&nbsp;</span>CLEANING WITH QDAP</a></span></li><li><span><a href=\"#STOP-WORDS\" data-toc-modified-id=\"STOP-WORDS-4\"><span class=\"toc-item-num\">4&nbsp;&nbsp;</span>STOP WORDS</a></span></li><li><span><a href=\"#WORD-STEMMING-AND-STEM-COMPLETION\" data-toc-modified-id=\"WORD-STEMMING-AND-STEM-COMPLETION-5\"><span class=\"toc-item-num\">5&nbsp;&nbsp;</span>WORD STEMMING AND STEM COMPLETION</a></span></li><li><span><a href=\"#COMBINE-PREPROCESSING-INTO-FUNCTION\" data-toc-modified-id=\"COMBINE-PREPROCESSING-INTO-FUNCTION-6\"><span class=\"toc-item-num\">6&nbsp;&nbsp;</span>COMBINE PREPROCESSING INTO FUNCTION</a></span></li><li><span><a href=\"#DOCUMENT-TERM-MATRIX\" data-toc-modified-id=\"DOCUMENT-TERM-MATRIX-7\"><span class=\"toc-item-num\">7&nbsp;&nbsp;</span>DOCUMENT TERM MATRIX</a></span></li><li><span><a href=\"#FREQUENT-TERMS-WITH-TM\" data-toc-modified-id=\"FREQUENT-TERMS-WITH-TM-8\"><span class=\"toc-item-num\">8&nbsp;&nbsp;</span>FREQUENT TERMS WITH TM</a></span></li><li><span><a href=\"#WORDCLOUD\" data-toc-modified-id=\"WORDCLOUD-9\"><span class=\"toc-item-num\">9&nbsp;&nbsp;</span>WORDCLOUD</a></span></li><li><span><a href=\"#COMMONALITY-CLOUD-AND-COMPARISON-CLOUD\" data-toc-modified-id=\"COMMONALITY-CLOUD-AND-COMPARISON-CLOUD-10\"><span class=\"toc-item-num\">10&nbsp;&nbsp;</span>COMMONALITY CLOUD AND COMPARISON CLOUD</a></span></li><li><span><a href=\"#PYRAMID-PLOT:-UPGRADE-TO-COMMONALITY-CLOUD\" data-toc-modified-id=\"PYRAMID-PLOT:-UPGRADE-TO-COMMONALITY-CLOUD-11\"><span class=\"toc-item-num\">11&nbsp;&nbsp;</span>PYRAMID PLOT: UPGRADE TO COMMONALITY CLOUD</a></span></li><li><span><a href=\"#WORD-NETWORK\" data-toc-modified-id=\"WORD-NETWORK-12\"><span class=\"toc-item-num\">12&nbsp;&nbsp;</span>WORD NETWORK</a></span></li><li><span><a href=\"#REMOVE-SPARSE-TERM\" data-toc-modified-id=\"REMOVE-SPARSE-TERM-13\"><span class=\"toc-item-num\">13&nbsp;&nbsp;</span>REMOVE SPARSE TERM</a></span></li><li><span><a href=\"#WORD-ASSOCIATION\" data-toc-modified-id=\"WORD-ASSOCIATION-14\"><span class=\"toc-item-num\">14&nbsp;&nbsp;</span>WORD ASSOCIATION</a></span></li><li><span><a href=\"#N-GRAM\" data-toc-modified-id=\"N-GRAM-15\"><span class=\"toc-item-num\">15&nbsp;&nbsp;</span>N-GRAM</a></span></li><li><span><a href=\"#CHANGE-FREQUENCY-WEIGHT-(TF-IDF)\" data-toc-modified-id=\"CHANGE-FREQUENCY-WEIGHT-(TF-IDF)-16\"><span class=\"toc-item-num\">16&nbsp;&nbsp;</span>CHANGE FREQUENCY WEIGHT (TF-IDF)</a></span></li></ul></div>"
   ]
  },
  {
   "cell_type": "code",
   "execution_count": 43,
   "metadata": {},
   "outputs": [],
   "source": [
    "# Load qdap\n",
    "library(qdap)\n",
    "\n",
    "# Import text data\n",
    "tweets <- read.csv(\"coffee.csv\", stringsAsFactors = FALSE)"
   ]
  },
  {
   "cell_type": "code",
   "execution_count": 2,
   "metadata": {},
   "outputs": [
    {
     "name": "stdout",
     "output_type": "stream",
     "text": [
      "'data.frame':\t1000 obs. of  15 variables:\n",
      " $ num         : int  1 2 3 4 5 6 7 8 9 10 ...\n",
      " $ text        : chr  \"@ayyytylerb that is so true drink lots of coffee\" \"RT @bryzy_brib: Senior March tmw morning at 7:25 A.M. in the SENIOR lot. Get up early, make yo coffee/breakfast\"| __truncated__ \"If you believe in #gunsense tomorrow would be a very good day to have your coffee any place BUT @Starbucks Guns\"| __truncated__ \"My cute coffee mug. http://t.co/2udvMU6XIG\" ...\n",
      " $ favorited   : logi  FALSE FALSE FALSE FALSE FALSE FALSE ...\n",
      " $ replyToSN   : chr  \"ayyytylerb\" NA NA NA ...\n",
      " $ created     : chr  \"8/9/2013 2:43\" \"8/9/2013 2:43\" \"8/9/2013 2:43\" \"8/9/2013 2:43\" ...\n",
      " $ truncated   : logi  FALSE FALSE FALSE FALSE FALSE FALSE ...\n",
      " $ replyToSID  : num  3.66e+17 NA NA NA NA ...\n",
      " $ id          : num  3.66e+17 3.66e+17 3.66e+17 3.66e+17 3.66e+17 ...\n",
      " $ replyToUID  : int  1637123977 NA NA NA NA NA NA 1316942208 NA NA ...\n",
      " $ statusSource: chr  \"<a href=\\\"http://twitter.com/download/iphone\\\" rel=\\\"nofollow\\\">Twitter for iPhone</a>\" \"<a href=\\\"http://twitter.com/download/iphone\\\" rel=\\\"nofollow\\\">Twitter for iPhone</a>\" \"web\" \"<a href=\\\"http://twitter.com/download/android\\\" rel=\\\"nofollow\\\">Twitter for Android</a>\" ...\n",
      " $ screenName  : chr  \"thejennagibson\" \"carolynicosia\" \"janeCkay\" \"AlexandriaOOTD\" ...\n",
      " $ retweetCount: int  0 1 0 0 2 0 0 0 1 2 ...\n",
      " $ retweeted   : logi  FALSE FALSE FALSE FALSE FALSE FALSE ...\n",
      " $ longitude   : logi  NA NA NA NA NA NA ...\n",
      " $ latitude    : logi  NA NA NA NA NA NA ...\n"
     ]
    }
   ],
   "source": [
    "# View the structure of tweets\n",
    "str(tweets)"
   ]
  },
  {
   "cell_type": "code",
   "execution_count": 3,
   "metadata": {},
   "outputs": [
    {
     "data": {
      "text/html": [
       "1000"
      ],
      "text/latex": [
       "1000"
      ],
      "text/markdown": [
       "1000"
      ],
      "text/plain": [
       "[1] 1000"
      ]
     },
     "metadata": {},
     "output_type": "display_data"
    }
   ],
   "source": [
    "# Print out the number of rows in tweets\n",
    "nrow(tweets)"
   ]
  },
  {
   "cell_type": "code",
   "execution_count": 4,
   "metadata": {},
   "outputs": [],
   "source": [
    "# Isolate text from tweets: coffee_tweets\n",
    "coffee_tweets <- tweets$text"
   ]
  },
  {
   "cell_type": "markdown",
   "metadata": {},
   "source": [
    "## VCORPUS"
   ]
  },
  {
   "cell_type": "code",
   "execution_count": 44,
   "metadata": {},
   "outputs": [],
   "source": [
    "# Load tm\n",
    "library(tm)\n",
    "\n",
    "# Make a vector source: coffee_source\n",
    "coffee_source <- VectorSource(coffee_tweets)\n",
    "\n",
    "# Make a volatile corpus: coffee_corpus\n",
    "coffee_corpus <- VCorpus(coffee_source)"
   ]
  },
  {
   "cell_type": "code",
   "execution_count": 6,
   "metadata": {},
   "outputs": [
    {
     "data": {
      "text/plain": [
       "<<VCorpus>>\n",
       "Metadata:  corpus specific: 0, document level (indexed): 0\n",
       "Content:  documents: 1000"
      ]
     },
     "metadata": {},
     "output_type": "display_data"
    }
   ],
   "source": [
    "# Print out coffee_corpus\n",
    "coffee_corpus"
   ]
  },
  {
   "cell_type": "code",
   "execution_count": 7,
   "metadata": {},
   "outputs": [
    {
     "data": {
      "text/plain": [
       "<<PlainTextDocument>>\n",
       "Metadata:  7\n",
       "Content:  chars: 111"
      ]
     },
     "metadata": {},
     "output_type": "display_data"
    }
   ],
   "source": [
    "# Print data on the 15th tweet in coffee_corpus\n",
    "coffee_corpus[[15]]"
   ]
  },
  {
   "cell_type": "code",
   "execution_count": 8,
   "metadata": {},
   "outputs": [
    {
     "data": {
      "text/html": [
       "'@HeatherWhaley I was about 2 joke it takes 2 hands to hold hot coffee...then I read headline! #Don\\'tDrinkNShoot'"
      ],
      "text/latex": [
       "'@HeatherWhaley I was about 2 joke it takes 2 hands to hold hot coffee...then I read headline! \\#Don\\textbackslash{}'tDrinkNShoot'"
      ],
      "text/markdown": [
       "'@HeatherWhaley I was about 2 joke it takes 2 hands to hold hot coffee...then I read headline! #Don\\'tDrinkNShoot'"
      ],
      "text/plain": [
       "[1] \"@HeatherWhaley I was about 2 joke it takes 2 hands to hold hot coffee...then I read headline! #Don'tDrinkNShoot\""
      ]
     },
     "metadata": {},
     "output_type": "display_data"
    }
   ],
   "source": [
    "# Print the content of the 15th tweet in coffee_corpus\n",
    "coffee_corpus[[15]]$content"
   ]
  },
  {
   "cell_type": "markdown",
   "metadata": {},
   "source": [
    "## CLEANING WITH BASE"
   ]
  },
  {
   "cell_type": "code",
   "execution_count": 9,
   "metadata": {},
   "outputs": [
    {
     "data": {
      "text/html": [
       "<span style=white-space:pre-wrap>'&lt;b&gt;She&lt;/b&gt; woke up at       6 A.M. It\\'s so early!  She was only 10% awake and began drinking coffee in front of her computer.'</span>"
      ],
      "text/latex": [
       "'<b>She</b> woke up at       6 A.M. It\\textbackslash{}'s so early!  She was only 10\\% awake and began drinking coffee in front of her computer.'"
      ],
      "text/markdown": [
       "<span style=white-space:pre-wrap>'&lt;b&gt;She&lt;/b&gt; woke up at       6 A.M. It\\'s so early!  She was only 10% awake and began drinking coffee in front of her computer.'</span>"
      ],
      "text/plain": [
       "[1] \"<b>She</b> woke up at       6 A.M. It's so early!  She was only 10% awake and began drinking coffee in front of her computer.\""
      ]
     },
     "metadata": {},
     "output_type": "display_data"
    }
   ],
   "source": [
    "# Create the object: text\n",
    "text <- \"<b>She</b> woke up at       6 A.M. It\\'s so early!  She was only 10% awake and began drinking coffee in front of her computer.\"\n",
    "text"
   ]
  },
  {
   "cell_type": "code",
   "execution_count": 10,
   "metadata": {},
   "outputs": [
    {
     "data": {
      "text/html": [
       "<span style=white-space:pre-wrap>'&lt;b&gt;she&lt;/b&gt; woke up at       6 a.m. it\\'s so early!  she was only 10% awake and began drinking coffee in front of her computer.'</span>"
      ],
      "text/latex": [
       "'<b>she</b> woke up at       6 a.m. it\\textbackslash{}'s so early!  she was only 10\\% awake and began drinking coffee in front of her computer.'"
      ],
      "text/markdown": [
       "<span style=white-space:pre-wrap>'&lt;b&gt;she&lt;/b&gt; woke up at       6 a.m. it\\'s so early!  she was only 10% awake and began drinking coffee in front of her computer.'</span>"
      ],
      "text/plain": [
       "[1] \"<b>she</b> woke up at       6 a.m. it's so early!  she was only 10% awake and began drinking coffee in front of her computer.\""
      ]
     },
     "metadata": {},
     "output_type": "display_data"
    }
   ],
   "source": [
    "# All lowercase\n",
    "tolower(text)"
   ]
  },
  {
   "cell_type": "code",
   "execution_count": 11,
   "metadata": {},
   "outputs": [
    {
     "data": {
      "text/html": [
       "<span style=white-space:pre-wrap>'bSheb woke up at       6 AM Its so early  She was only 10 awake and began drinking coffee in front of her computer'</span>"
      ],
      "text/latex": [
       "'bSheb woke up at       6 AM Its so early  She was only 10 awake and began drinking coffee in front of her computer'"
      ],
      "text/markdown": [
       "<span style=white-space:pre-wrap>'bSheb woke up at       6 AM Its so early  She was only 10 awake and began drinking coffee in front of her computer'</span>"
      ],
      "text/plain": [
       "[1] \"bSheb woke up at       6 AM Its so early  She was only 10 awake and began drinking coffee in front of her computer\""
      ]
     },
     "metadata": {},
     "output_type": "display_data"
    }
   ],
   "source": [
    "# Remove punctuation\n",
    "removePunctuation(text)"
   ]
  },
  {
   "cell_type": "code",
   "execution_count": 12,
   "metadata": {},
   "outputs": [
    {
     "data": {
      "text/html": [
       "<span style=white-space:pre-wrap>'&lt;b&gt;She&lt;/b&gt; woke up at        A.M. It\\'s so early!  She was only % awake and began drinking coffee in front of her computer.'</span>"
      ],
      "text/latex": [
       "'<b>She</b> woke up at        A.M. It\\textbackslash{}'s so early!  She was only \\% awake and began drinking coffee in front of her computer.'"
      ],
      "text/markdown": [
       "<span style=white-space:pre-wrap>'&lt;b&gt;She&lt;/b&gt; woke up at        A.M. It\\'s so early!  She was only % awake and began drinking coffee in front of her computer.'</span>"
      ],
      "text/plain": [
       "[1] \"<b>She</b> woke up at        A.M. It's so early!  She was only % awake and began drinking coffee in front of her computer.\""
      ]
     },
     "metadata": {},
     "output_type": "display_data"
    }
   ],
   "source": [
    "# Remove numbers\n",
    "removeNumbers(text)"
   ]
  },
  {
   "cell_type": "code",
   "execution_count": 13,
   "metadata": {},
   "outputs": [
    {
     "data": {
      "text/html": [
       "'&lt;b&gt;She&lt;/b&gt; woke up at 6 A.M. It\\'s so early! She was only 10% awake and began drinking coffee in front of her computer.'"
      ],
      "text/latex": [
       "'<b>She</b> woke up at 6 A.M. It\\textbackslash{}'s so early! She was only 10\\% awake and began drinking coffee in front of her computer.'"
      ],
      "text/markdown": [
       "'&lt;b&gt;She&lt;/b&gt; woke up at 6 A.M. It\\'s so early! She was only 10% awake and began drinking coffee in front of her computer.'"
      ],
      "text/plain": [
       "[1] \"<b>She</b> woke up at 6 A.M. It's so early! She was only 10% awake and began drinking coffee in front of her computer.\""
      ]
     },
     "metadata": {},
     "output_type": "display_data"
    }
   ],
   "source": [
    "# Remove whitespace\n",
    "stripWhitespace(text)"
   ]
  },
  {
   "cell_type": "markdown",
   "metadata": {},
   "source": [
    "## CLEANING WITH QDAP"
   ]
  },
  {
   "cell_type": "code",
   "execution_count": 14,
   "metadata": {},
   "outputs": [
    {
     "data": {
      "text/html": [
       "'She woke up at 6 A.M. It\\'s so early! She was only 10% awake and began drinking coffee in front of her computer.'"
      ],
      "text/latex": [
       "'She woke up at 6 A.M. It\\textbackslash{}'s so early! She was only 10\\% awake and began drinking coffee in front of her computer.'"
      ],
      "text/markdown": [
       "'She woke up at 6 A.M. It\\'s so early! She was only 10% awake and began drinking coffee in front of her computer.'"
      ],
      "text/plain": [
       "[1] \"She woke up at 6 A.M. It's so early! She was only 10% awake and began drinking coffee in front of her computer.\""
      ]
     },
     "metadata": {},
     "output_type": "display_data"
    }
   ],
   "source": [
    "# Remove text within brackets\n",
    "bracketX(text)"
   ]
  },
  {
   "cell_type": "code",
   "execution_count": 15,
   "metadata": {},
   "outputs": [
    {
     "data": {
      "text/html": [
       "'&lt;b&gt;She&lt;/b&gt; woke up at six A.M. It\\'s so early! She was only ten% awake and began drinking coffee in front of her computer.'"
      ],
      "text/latex": [
       "'<b>She</b> woke up at six A.M. It\\textbackslash{}'s so early! She was only ten\\% awake and began drinking coffee in front of her computer.'"
      ],
      "text/markdown": [
       "'&lt;b&gt;She&lt;/b&gt; woke up at six A.M. It\\'s so early! She was only ten% awake and began drinking coffee in front of her computer.'"
      ],
      "text/plain": [
       "[1] \"<b>She</b> woke up at six A.M. It's so early! She was only ten% awake and began drinking coffee in front of her computer.\""
      ]
     },
     "metadata": {},
     "output_type": "display_data"
    }
   ],
   "source": [
    "# Replace numbers with words\n",
    "replace_number(text)"
   ]
  },
  {
   "cell_type": "code",
   "execution_count": 16,
   "metadata": {},
   "outputs": [
    {
     "data": {
      "text/html": [
       "'&lt;b&gt;She&lt;/b&gt; woke up at 6 AM It\\'s so early! She was only 10% awake and began drinking coffee in front of her computer.'"
      ],
      "text/latex": [
       "'<b>She</b> woke up at 6 AM It\\textbackslash{}'s so early! She was only 10\\% awake and began drinking coffee in front of her computer.'"
      ],
      "text/markdown": [
       "'&lt;b&gt;She&lt;/b&gt; woke up at 6 AM It\\'s so early! She was only 10% awake and began drinking coffee in front of her computer.'"
      ],
      "text/plain": [
       "[1] \"<b>She</b> woke up at 6 AM It's so early! She was only 10% awake and began drinking coffee in front of her computer.\""
      ]
     },
     "metadata": {},
     "output_type": "display_data"
    }
   ],
   "source": [
    "# Replace abbreviations\n",
    "replace_abbreviation(text)"
   ]
  },
  {
   "cell_type": "code",
   "execution_count": 17,
   "metadata": {},
   "outputs": [
    {
     "data": {
      "text/html": [
       "'&lt;b&gt;She&lt;/b&gt; woke up at 6 A.M. it is so early! She was only 10% awake and began drinking coffee in front of her computer.'"
      ],
      "text/latex": [
       "'<b>She</b> woke up at 6 A.M. it is so early! She was only 10\\% awake and began drinking coffee in front of her computer.'"
      ],
      "text/markdown": [
       "'&lt;b&gt;She&lt;/b&gt; woke up at 6 A.M. it is so early! She was only 10% awake and began drinking coffee in front of her computer.'"
      ],
      "text/plain": [
       "[1] \"<b>She</b> woke up at 6 A.M. it is so early! She was only 10% awake and began drinking coffee in front of her computer.\""
      ]
     },
     "metadata": {},
     "output_type": "display_data"
    }
   ],
   "source": [
    "# Replace contractions\n",
    "replace_contraction(text)"
   ]
  },
  {
   "cell_type": "code",
   "execution_count": 18,
   "metadata": {},
   "outputs": [
    {
     "data": {
      "text/html": [
       "'&lt;b&gt;She&lt;/b&gt; woke up at 6 A.M. It\\'s so early! She was only 10 percent awake and began drinking coffee in front of her computer.'"
      ],
      "text/latex": [
       "'<b>She</b> woke up at 6 A.M. It\\textbackslash{}'s so early! She was only 10 percent awake and began drinking coffee in front of her computer.'"
      ],
      "text/markdown": [
       "'&lt;b&gt;She&lt;/b&gt; woke up at 6 A.M. It\\'s so early! She was only 10 percent awake and began drinking coffee in front of her computer.'"
      ],
      "text/plain": [
       "[1] \"<b>She</b> woke up at 6 A.M. It's so early! She was only 10 percent awake and began drinking coffee in front of her computer.\""
      ]
     },
     "metadata": {},
     "output_type": "display_data"
    }
   ],
   "source": [
    "# Replace symbols with words\n",
    "replace_symbol(text)"
   ]
  },
  {
   "cell_type": "markdown",
   "metadata": {},
   "source": [
    "## STOP WORDS"
   ]
  },
  {
   "cell_type": "code",
   "execution_count": 19,
   "metadata": {},
   "outputs": [
    {
     "data": {
      "text/html": [
       "<ol class=list-inline>\n",
       "\t<li>'i'</li>\n",
       "\t<li>'me'</li>\n",
       "\t<li>'my'</li>\n",
       "\t<li>'myself'</li>\n",
       "\t<li>'we'</li>\n",
       "\t<li>'our'</li>\n",
       "\t<li>'ours'</li>\n",
       "\t<li>'ourselves'</li>\n",
       "\t<li>'you'</li>\n",
       "\t<li>'your'</li>\n",
       "\t<li>'yours'</li>\n",
       "\t<li>'yourself'</li>\n",
       "\t<li>'yourselves'</li>\n",
       "\t<li>'he'</li>\n",
       "\t<li>'him'</li>\n",
       "\t<li>'his'</li>\n",
       "\t<li>'himself'</li>\n",
       "\t<li>'she'</li>\n",
       "\t<li>'her'</li>\n",
       "\t<li>'hers'</li>\n",
       "\t<li>'herself'</li>\n",
       "\t<li>'it'</li>\n",
       "\t<li>'its'</li>\n",
       "\t<li>'itself'</li>\n",
       "\t<li>'they'</li>\n",
       "\t<li>'them'</li>\n",
       "\t<li>'their'</li>\n",
       "\t<li>'theirs'</li>\n",
       "\t<li>'themselves'</li>\n",
       "\t<li>'what'</li>\n",
       "\t<li>'which'</li>\n",
       "\t<li>'who'</li>\n",
       "\t<li>'whom'</li>\n",
       "\t<li>'this'</li>\n",
       "\t<li>'that'</li>\n",
       "\t<li>'these'</li>\n",
       "\t<li>'those'</li>\n",
       "\t<li>'am'</li>\n",
       "\t<li>'is'</li>\n",
       "\t<li>'are'</li>\n",
       "\t<li>'was'</li>\n",
       "\t<li>'were'</li>\n",
       "\t<li>'be'</li>\n",
       "\t<li>'been'</li>\n",
       "\t<li>'being'</li>\n",
       "\t<li>'have'</li>\n",
       "\t<li>'has'</li>\n",
       "\t<li>'had'</li>\n",
       "\t<li>'having'</li>\n",
       "\t<li>'do'</li>\n",
       "\t<li>'does'</li>\n",
       "\t<li>'did'</li>\n",
       "\t<li>'doing'</li>\n",
       "\t<li>'would'</li>\n",
       "\t<li>'should'</li>\n",
       "\t<li>'could'</li>\n",
       "\t<li>'ought'</li>\n",
       "\t<li>'i\\'m'</li>\n",
       "\t<li>'you\\'re'</li>\n",
       "\t<li>'he\\'s'</li>\n",
       "\t<li>'she\\'s'</li>\n",
       "\t<li>'it\\'s'</li>\n",
       "\t<li>'we\\'re'</li>\n",
       "\t<li>'they\\'re'</li>\n",
       "\t<li>'i\\'ve'</li>\n",
       "\t<li>'you\\'ve'</li>\n",
       "\t<li>'we\\'ve'</li>\n",
       "\t<li>'they\\'ve'</li>\n",
       "\t<li>'i\\'d'</li>\n",
       "\t<li>'you\\'d'</li>\n",
       "\t<li>'he\\'d'</li>\n",
       "\t<li>'she\\'d'</li>\n",
       "\t<li>'we\\'d'</li>\n",
       "\t<li>'they\\'d'</li>\n",
       "\t<li>'i\\'ll'</li>\n",
       "\t<li>'you\\'ll'</li>\n",
       "\t<li>'he\\'ll'</li>\n",
       "\t<li>'she\\'ll'</li>\n",
       "\t<li>'we\\'ll'</li>\n",
       "\t<li>'they\\'ll'</li>\n",
       "\t<li>'isn\\'t'</li>\n",
       "\t<li>'aren\\'t'</li>\n",
       "\t<li>'wasn\\'t'</li>\n",
       "\t<li>'weren\\'t'</li>\n",
       "\t<li>'hasn\\'t'</li>\n",
       "\t<li>'haven\\'t'</li>\n",
       "\t<li>'hadn\\'t'</li>\n",
       "\t<li>'doesn\\'t'</li>\n",
       "\t<li>'don\\'t'</li>\n",
       "\t<li>'didn\\'t'</li>\n",
       "\t<li>'won\\'t'</li>\n",
       "\t<li>'wouldn\\'t'</li>\n",
       "\t<li>'shan\\'t'</li>\n",
       "\t<li>'shouldn\\'t'</li>\n",
       "\t<li>'can\\'t'</li>\n",
       "\t<li>'cannot'</li>\n",
       "\t<li>'couldn\\'t'</li>\n",
       "\t<li>'mustn\\'t'</li>\n",
       "\t<li>'let\\'s'</li>\n",
       "\t<li>'that\\'s'</li>\n",
       "\t<li>'who\\'s'</li>\n",
       "\t<li>'what\\'s'</li>\n",
       "\t<li>'here\\'s'</li>\n",
       "\t<li>'there\\'s'</li>\n",
       "\t<li>'when\\'s'</li>\n",
       "\t<li>'where\\'s'</li>\n",
       "\t<li>'why\\'s'</li>\n",
       "\t<li>'how\\'s'</li>\n",
       "\t<li>'a'</li>\n",
       "\t<li>'an'</li>\n",
       "\t<li>'the'</li>\n",
       "\t<li>'and'</li>\n",
       "\t<li>'but'</li>\n",
       "\t<li>'if'</li>\n",
       "\t<li>'or'</li>\n",
       "\t<li>'because'</li>\n",
       "\t<li>'as'</li>\n",
       "\t<li>'until'</li>\n",
       "\t<li>'while'</li>\n",
       "\t<li>'of'</li>\n",
       "\t<li>'at'</li>\n",
       "\t<li>'by'</li>\n",
       "\t<li>'for'</li>\n",
       "\t<li>'with'</li>\n",
       "\t<li>'about'</li>\n",
       "\t<li>'against'</li>\n",
       "\t<li>'between'</li>\n",
       "\t<li>'into'</li>\n",
       "\t<li>'through'</li>\n",
       "\t<li>'during'</li>\n",
       "\t<li>'before'</li>\n",
       "\t<li>'after'</li>\n",
       "\t<li>'above'</li>\n",
       "\t<li>'below'</li>\n",
       "\t<li>'to'</li>\n",
       "\t<li>'from'</li>\n",
       "\t<li>'up'</li>\n",
       "\t<li>'down'</li>\n",
       "\t<li>'in'</li>\n",
       "\t<li>'out'</li>\n",
       "\t<li>'on'</li>\n",
       "\t<li>'off'</li>\n",
       "\t<li>'over'</li>\n",
       "\t<li>'under'</li>\n",
       "\t<li>'again'</li>\n",
       "\t<li>'further'</li>\n",
       "\t<li>'then'</li>\n",
       "\t<li>'once'</li>\n",
       "\t<li>'here'</li>\n",
       "\t<li>'there'</li>\n",
       "\t<li>'when'</li>\n",
       "\t<li>'where'</li>\n",
       "\t<li>'why'</li>\n",
       "\t<li>'how'</li>\n",
       "\t<li>'all'</li>\n",
       "\t<li>'any'</li>\n",
       "\t<li>'both'</li>\n",
       "\t<li>'each'</li>\n",
       "\t<li>'few'</li>\n",
       "\t<li>'more'</li>\n",
       "\t<li>'most'</li>\n",
       "\t<li>'other'</li>\n",
       "\t<li>'some'</li>\n",
       "\t<li>'such'</li>\n",
       "\t<li>'no'</li>\n",
       "\t<li>'nor'</li>\n",
       "\t<li>'not'</li>\n",
       "\t<li>'only'</li>\n",
       "\t<li>'own'</li>\n",
       "\t<li>'same'</li>\n",
       "\t<li>'so'</li>\n",
       "\t<li>'than'</li>\n",
       "\t<li>'too'</li>\n",
       "\t<li>'very'</li>\n",
       "</ol>\n"
      ],
      "text/latex": [
       "\\begin{enumerate*}\n",
       "\\item 'i'\n",
       "\\item 'me'\n",
       "\\item 'my'\n",
       "\\item 'myself'\n",
       "\\item 'we'\n",
       "\\item 'our'\n",
       "\\item 'ours'\n",
       "\\item 'ourselves'\n",
       "\\item 'you'\n",
       "\\item 'your'\n",
       "\\item 'yours'\n",
       "\\item 'yourself'\n",
       "\\item 'yourselves'\n",
       "\\item 'he'\n",
       "\\item 'him'\n",
       "\\item 'his'\n",
       "\\item 'himself'\n",
       "\\item 'she'\n",
       "\\item 'her'\n",
       "\\item 'hers'\n",
       "\\item 'herself'\n",
       "\\item 'it'\n",
       "\\item 'its'\n",
       "\\item 'itself'\n",
       "\\item 'they'\n",
       "\\item 'them'\n",
       "\\item 'their'\n",
       "\\item 'theirs'\n",
       "\\item 'themselves'\n",
       "\\item 'what'\n",
       "\\item 'which'\n",
       "\\item 'who'\n",
       "\\item 'whom'\n",
       "\\item 'this'\n",
       "\\item 'that'\n",
       "\\item 'these'\n",
       "\\item 'those'\n",
       "\\item 'am'\n",
       "\\item 'is'\n",
       "\\item 'are'\n",
       "\\item 'was'\n",
       "\\item 'were'\n",
       "\\item 'be'\n",
       "\\item 'been'\n",
       "\\item 'being'\n",
       "\\item 'have'\n",
       "\\item 'has'\n",
       "\\item 'had'\n",
       "\\item 'having'\n",
       "\\item 'do'\n",
       "\\item 'does'\n",
       "\\item 'did'\n",
       "\\item 'doing'\n",
       "\\item 'would'\n",
       "\\item 'should'\n",
       "\\item 'could'\n",
       "\\item 'ought'\n",
       "\\item 'i\\textbackslash{}'m'\n",
       "\\item 'you\\textbackslash{}'re'\n",
       "\\item 'he\\textbackslash{}'s'\n",
       "\\item 'she\\textbackslash{}'s'\n",
       "\\item 'it\\textbackslash{}'s'\n",
       "\\item 'we\\textbackslash{}'re'\n",
       "\\item 'they\\textbackslash{}'re'\n",
       "\\item 'i\\textbackslash{}'ve'\n",
       "\\item 'you\\textbackslash{}'ve'\n",
       "\\item 'we\\textbackslash{}'ve'\n",
       "\\item 'they\\textbackslash{}'ve'\n",
       "\\item 'i\\textbackslash{}'d'\n",
       "\\item 'you\\textbackslash{}'d'\n",
       "\\item 'he\\textbackslash{}'d'\n",
       "\\item 'she\\textbackslash{}'d'\n",
       "\\item 'we\\textbackslash{}'d'\n",
       "\\item 'they\\textbackslash{}'d'\n",
       "\\item 'i\\textbackslash{}'ll'\n",
       "\\item 'you\\textbackslash{}'ll'\n",
       "\\item 'he\\textbackslash{}'ll'\n",
       "\\item 'she\\textbackslash{}'ll'\n",
       "\\item 'we\\textbackslash{}'ll'\n",
       "\\item 'they\\textbackslash{}'ll'\n",
       "\\item 'isn\\textbackslash{}'t'\n",
       "\\item 'aren\\textbackslash{}'t'\n",
       "\\item 'wasn\\textbackslash{}'t'\n",
       "\\item 'weren\\textbackslash{}'t'\n",
       "\\item 'hasn\\textbackslash{}'t'\n",
       "\\item 'haven\\textbackslash{}'t'\n",
       "\\item 'hadn\\textbackslash{}'t'\n",
       "\\item 'doesn\\textbackslash{}'t'\n",
       "\\item 'don\\textbackslash{}'t'\n",
       "\\item 'didn\\textbackslash{}'t'\n",
       "\\item 'won\\textbackslash{}'t'\n",
       "\\item 'wouldn\\textbackslash{}'t'\n",
       "\\item 'shan\\textbackslash{}'t'\n",
       "\\item 'shouldn\\textbackslash{}'t'\n",
       "\\item 'can\\textbackslash{}'t'\n",
       "\\item 'cannot'\n",
       "\\item 'couldn\\textbackslash{}'t'\n",
       "\\item 'mustn\\textbackslash{}'t'\n",
       "\\item 'let\\textbackslash{}'s'\n",
       "\\item 'that\\textbackslash{}'s'\n",
       "\\item 'who\\textbackslash{}'s'\n",
       "\\item 'what\\textbackslash{}'s'\n",
       "\\item 'here\\textbackslash{}'s'\n",
       "\\item 'there\\textbackslash{}'s'\n",
       "\\item 'when\\textbackslash{}'s'\n",
       "\\item 'where\\textbackslash{}'s'\n",
       "\\item 'why\\textbackslash{}'s'\n",
       "\\item 'how\\textbackslash{}'s'\n",
       "\\item 'a'\n",
       "\\item 'an'\n",
       "\\item 'the'\n",
       "\\item 'and'\n",
       "\\item 'but'\n",
       "\\item 'if'\n",
       "\\item 'or'\n",
       "\\item 'because'\n",
       "\\item 'as'\n",
       "\\item 'until'\n",
       "\\item 'while'\n",
       "\\item 'of'\n",
       "\\item 'at'\n",
       "\\item 'by'\n",
       "\\item 'for'\n",
       "\\item 'with'\n",
       "\\item 'about'\n",
       "\\item 'against'\n",
       "\\item 'between'\n",
       "\\item 'into'\n",
       "\\item 'through'\n",
       "\\item 'during'\n",
       "\\item 'before'\n",
       "\\item 'after'\n",
       "\\item 'above'\n",
       "\\item 'below'\n",
       "\\item 'to'\n",
       "\\item 'from'\n",
       "\\item 'up'\n",
       "\\item 'down'\n",
       "\\item 'in'\n",
       "\\item 'out'\n",
       "\\item 'on'\n",
       "\\item 'off'\n",
       "\\item 'over'\n",
       "\\item 'under'\n",
       "\\item 'again'\n",
       "\\item 'further'\n",
       "\\item 'then'\n",
       "\\item 'once'\n",
       "\\item 'here'\n",
       "\\item 'there'\n",
       "\\item 'when'\n",
       "\\item 'where'\n",
       "\\item 'why'\n",
       "\\item 'how'\n",
       "\\item 'all'\n",
       "\\item 'any'\n",
       "\\item 'both'\n",
       "\\item 'each'\n",
       "\\item 'few'\n",
       "\\item 'more'\n",
       "\\item 'most'\n",
       "\\item 'other'\n",
       "\\item 'some'\n",
       "\\item 'such'\n",
       "\\item 'no'\n",
       "\\item 'nor'\n",
       "\\item 'not'\n",
       "\\item 'only'\n",
       "\\item 'own'\n",
       "\\item 'same'\n",
       "\\item 'so'\n",
       "\\item 'than'\n",
       "\\item 'too'\n",
       "\\item 'very'\n",
       "\\end{enumerate*}\n"
      ],
      "text/markdown": [
       "1. 'i'\n",
       "2. 'me'\n",
       "3. 'my'\n",
       "4. 'myself'\n",
       "5. 'we'\n",
       "6. 'our'\n",
       "7. 'ours'\n",
       "8. 'ourselves'\n",
       "9. 'you'\n",
       "10. 'your'\n",
       "11. 'yours'\n",
       "12. 'yourself'\n",
       "13. 'yourselves'\n",
       "14. 'he'\n",
       "15. 'him'\n",
       "16. 'his'\n",
       "17. 'himself'\n",
       "18. 'she'\n",
       "19. 'her'\n",
       "20. 'hers'\n",
       "21. 'herself'\n",
       "22. 'it'\n",
       "23. 'its'\n",
       "24. 'itself'\n",
       "25. 'they'\n",
       "26. 'them'\n",
       "27. 'their'\n",
       "28. 'theirs'\n",
       "29. 'themselves'\n",
       "30. 'what'\n",
       "31. 'which'\n",
       "32. 'who'\n",
       "33. 'whom'\n",
       "34. 'this'\n",
       "35. 'that'\n",
       "36. 'these'\n",
       "37. 'those'\n",
       "38. 'am'\n",
       "39. 'is'\n",
       "40. 'are'\n",
       "41. 'was'\n",
       "42. 'were'\n",
       "43. 'be'\n",
       "44. 'been'\n",
       "45. 'being'\n",
       "46. 'have'\n",
       "47. 'has'\n",
       "48. 'had'\n",
       "49. 'having'\n",
       "50. 'do'\n",
       "51. 'does'\n",
       "52. 'did'\n",
       "53. 'doing'\n",
       "54. 'would'\n",
       "55. 'should'\n",
       "56. 'could'\n",
       "57. 'ought'\n",
       "58. 'i\\'m'\n",
       "59. 'you\\'re'\n",
       "60. 'he\\'s'\n",
       "61. 'she\\'s'\n",
       "62. 'it\\'s'\n",
       "63. 'we\\'re'\n",
       "64. 'they\\'re'\n",
       "65. 'i\\'ve'\n",
       "66. 'you\\'ve'\n",
       "67. 'we\\'ve'\n",
       "68. 'they\\'ve'\n",
       "69. 'i\\'d'\n",
       "70. 'you\\'d'\n",
       "71. 'he\\'d'\n",
       "72. 'she\\'d'\n",
       "73. 'we\\'d'\n",
       "74. 'they\\'d'\n",
       "75. 'i\\'ll'\n",
       "76. 'you\\'ll'\n",
       "77. 'he\\'ll'\n",
       "78. 'she\\'ll'\n",
       "79. 'we\\'ll'\n",
       "80. 'they\\'ll'\n",
       "81. 'isn\\'t'\n",
       "82. 'aren\\'t'\n",
       "83. 'wasn\\'t'\n",
       "84. 'weren\\'t'\n",
       "85. 'hasn\\'t'\n",
       "86. 'haven\\'t'\n",
       "87. 'hadn\\'t'\n",
       "88. 'doesn\\'t'\n",
       "89. 'don\\'t'\n",
       "90. 'didn\\'t'\n",
       "91. 'won\\'t'\n",
       "92. 'wouldn\\'t'\n",
       "93. 'shan\\'t'\n",
       "94. 'shouldn\\'t'\n",
       "95. 'can\\'t'\n",
       "96. 'cannot'\n",
       "97. 'couldn\\'t'\n",
       "98. 'mustn\\'t'\n",
       "99. 'let\\'s'\n",
       "100. 'that\\'s'\n",
       "101. 'who\\'s'\n",
       "102. 'what\\'s'\n",
       "103. 'here\\'s'\n",
       "104. 'there\\'s'\n",
       "105. 'when\\'s'\n",
       "106. 'where\\'s'\n",
       "107. 'why\\'s'\n",
       "108. 'how\\'s'\n",
       "109. 'a'\n",
       "110. 'an'\n",
       "111. 'the'\n",
       "112. 'and'\n",
       "113. 'but'\n",
       "114. 'if'\n",
       "115. 'or'\n",
       "116. 'because'\n",
       "117. 'as'\n",
       "118. 'until'\n",
       "119. 'while'\n",
       "120. 'of'\n",
       "121. 'at'\n",
       "122. 'by'\n",
       "123. 'for'\n",
       "124. 'with'\n",
       "125. 'about'\n",
       "126. 'against'\n",
       "127. 'between'\n",
       "128. 'into'\n",
       "129. 'through'\n",
       "130. 'during'\n",
       "131. 'before'\n",
       "132. 'after'\n",
       "133. 'above'\n",
       "134. 'below'\n",
       "135. 'to'\n",
       "136. 'from'\n",
       "137. 'up'\n",
       "138. 'down'\n",
       "139. 'in'\n",
       "140. 'out'\n",
       "141. 'on'\n",
       "142. 'off'\n",
       "143. 'over'\n",
       "144. 'under'\n",
       "145. 'again'\n",
       "146. 'further'\n",
       "147. 'then'\n",
       "148. 'once'\n",
       "149. 'here'\n",
       "150. 'there'\n",
       "151. 'when'\n",
       "152. 'where'\n",
       "153. 'why'\n",
       "154. 'how'\n",
       "155. 'all'\n",
       "156. 'any'\n",
       "157. 'both'\n",
       "158. 'each'\n",
       "159. 'few'\n",
       "160. 'more'\n",
       "161. 'most'\n",
       "162. 'other'\n",
       "163. 'some'\n",
       "164. 'such'\n",
       "165. 'no'\n",
       "166. 'nor'\n",
       "167. 'not'\n",
       "168. 'only'\n",
       "169. 'own'\n",
       "170. 'same'\n",
       "171. 'so'\n",
       "172. 'than'\n",
       "173. 'too'\n",
       "174. 'very'\n",
       "\n",
       "\n"
      ],
      "text/plain": [
       "  [1] \"i\"          \"me\"         \"my\"         \"myself\"     \"we\"        \n",
       "  [6] \"our\"        \"ours\"       \"ourselves\"  \"you\"        \"your\"      \n",
       " [11] \"yours\"      \"yourself\"   \"yourselves\" \"he\"         \"him\"       \n",
       " [16] \"his\"        \"himself\"    \"she\"        \"her\"        \"hers\"      \n",
       " [21] \"herself\"    \"it\"         \"its\"        \"itself\"     \"they\"      \n",
       " [26] \"them\"       \"their\"      \"theirs\"     \"themselves\" \"what\"      \n",
       " [31] \"which\"      \"who\"        \"whom\"       \"this\"       \"that\"      \n",
       " [36] \"these\"      \"those\"      \"am\"         \"is\"         \"are\"       \n",
       " [41] \"was\"        \"were\"       \"be\"         \"been\"       \"being\"     \n",
       " [46] \"have\"       \"has\"        \"had\"        \"having\"     \"do\"        \n",
       " [51] \"does\"       \"did\"        \"doing\"      \"would\"      \"should\"    \n",
       " [56] \"could\"      \"ought\"      \"i'm\"        \"you're\"     \"he's\"      \n",
       " [61] \"she's\"      \"it's\"       \"we're\"      \"they're\"    \"i've\"      \n",
       " [66] \"you've\"     \"we've\"      \"they've\"    \"i'd\"        \"you'd\"     \n",
       " [71] \"he'd\"       \"she'd\"      \"we'd\"       \"they'd\"     \"i'll\"      \n",
       " [76] \"you'll\"     \"he'll\"      \"she'll\"     \"we'll\"      \"they'll\"   \n",
       " [81] \"isn't\"      \"aren't\"     \"wasn't\"     \"weren't\"    \"hasn't\"    \n",
       " [86] \"haven't\"    \"hadn't\"     \"doesn't\"    \"don't\"      \"didn't\"    \n",
       " [91] \"won't\"      \"wouldn't\"   \"shan't\"     \"shouldn't\"  \"can't\"     \n",
       " [96] \"cannot\"     \"couldn't\"   \"mustn't\"    \"let's\"      \"that's\"    \n",
       "[101] \"who's\"      \"what's\"     \"here's\"     \"there's\"    \"when's\"    \n",
       "[106] \"where's\"    \"why's\"      \"how's\"      \"a\"          \"an\"        \n",
       "[111] \"the\"        \"and\"        \"but\"        \"if\"         \"or\"        \n",
       "[116] \"because\"    \"as\"         \"until\"      \"while\"      \"of\"        \n",
       "[121] \"at\"         \"by\"         \"for\"        \"with\"       \"about\"     \n",
       "[126] \"against\"    \"between\"    \"into\"       \"through\"    \"during\"    \n",
       "[131] \"before\"     \"after\"      \"above\"      \"below\"      \"to\"        \n",
       "[136] \"from\"       \"up\"         \"down\"       \"in\"         \"out\"       \n",
       "[141] \"on\"         \"off\"        \"over\"       \"under\"      \"again\"     \n",
       "[146] \"further\"    \"then\"       \"once\"       \"here\"       \"there\"     \n",
       "[151] \"when\"       \"where\"      \"why\"        \"how\"        \"all\"       \n",
       "[156] \"any\"        \"both\"       \"each\"       \"few\"        \"more\"      \n",
       "[161] \"most\"       \"other\"      \"some\"       \"such\"       \"no\"        \n",
       "[166] \"nor\"        \"not\"        \"only\"       \"own\"        \"same\"      \n",
       "[171] \"so\"         \"than\"       \"too\"        \"very\"      "
      ]
     },
     "metadata": {},
     "output_type": "display_data"
    }
   ],
   "source": [
    "# List standard English stop words\n",
    "stopwords(\"en\")"
   ]
  },
  {
   "cell_type": "code",
   "execution_count": 20,
   "metadata": {},
   "outputs": [
    {
     "data": {
      "text/html": [
       "<span style=white-space:pre-wrap>'&lt;b&gt;She&lt;/b&gt; woke         6 A.M. It\\'s  early!  She   10% awake  began drinking coffee  front   computer.'</span>"
      ],
      "text/latex": [
       "'<b>She</b> woke         6 A.M. It\\textbackslash{}'s  early!  She   10\\% awake  began drinking coffee  front   computer.'"
      ],
      "text/markdown": [
       "<span style=white-space:pre-wrap>'&lt;b&gt;She&lt;/b&gt; woke         6 A.M. It\\'s  early!  She   10% awake  began drinking coffee  front   computer.'</span>"
      ],
      "text/plain": [
       "[1] \"<b>She</b> woke         6 A.M. It's  early!  She   10% awake  began drinking coffee  front   computer.\""
      ]
     },
     "metadata": {},
     "output_type": "display_data"
    }
   ],
   "source": [
    "# Print text without standard stop words\n",
    "removeWords(text, stopwords(\"en\"))"
   ]
  },
  {
   "cell_type": "code",
   "execution_count": 21,
   "metadata": {},
   "outputs": [],
   "source": [
    "# Add \"coffee\" and \"bean\" to the list: new_stops\n",
    "new_stops <- c(\"coffee\", \"bean\", stopwords(\"en\"))"
   ]
  },
  {
   "cell_type": "code",
   "execution_count": 22,
   "metadata": {},
   "outputs": [
    {
     "data": {
      "text/html": [
       "<span style=white-space:pre-wrap>'&lt;b&gt;She&lt;/b&gt; woke         6 A.M. It\\'s  early!  She   10% awake  began drinking   front   computer.'</span>"
      ],
      "text/latex": [
       "'<b>She</b> woke         6 A.M. It\\textbackslash{}'s  early!  She   10\\% awake  began drinking   front   computer.'"
      ],
      "text/markdown": [
       "<span style=white-space:pre-wrap>'&lt;b&gt;She&lt;/b&gt; woke         6 A.M. It\\'s  early!  She   10% awake  began drinking   front   computer.'</span>"
      ],
      "text/plain": [
       "[1] \"<b>She</b> woke         6 A.M. It's  early!  She   10% awake  began drinking   front   computer.\""
      ]
     },
     "metadata": {},
     "output_type": "display_data"
    }
   ],
   "source": [
    "# Remove stop words from text\n",
    "removeWords(text, new_stops)"
   ]
  },
  {
   "cell_type": "markdown",
   "metadata": {},
   "source": [
    "## WORD STEMMING AND STEM COMPLETION"
   ]
  },
  {
   "cell_type": "code",
   "execution_count": 23,
   "metadata": {},
   "outputs": [
    {
     "data": {
      "text/html": [
       "<ol class=list-inline>\n",
       "\t<li>'complic'</li>\n",
       "\t<li>'complic'</li>\n",
       "\t<li>'complic'</li>\n",
       "</ol>\n"
      ],
      "text/latex": [
       "\\begin{enumerate*}\n",
       "\\item 'complic'\n",
       "\\item 'complic'\n",
       "\\item 'complic'\n",
       "\\end{enumerate*}\n"
      ],
      "text/markdown": [
       "1. 'complic'\n",
       "2. 'complic'\n",
       "3. 'complic'\n",
       "\n",
       "\n"
      ],
      "text/plain": [
       "[1] \"complic\" \"complic\" \"complic\""
      ]
     },
     "metadata": {},
     "output_type": "display_data"
    }
   ],
   "source": [
    "# Create complicate\n",
    "complicate <- c(\"complicated\", \"complication\", \"complicatedly\")\n",
    "\n",
    "# Perform word stemming: stem_doc\n",
    "stem_doc <- stemDocument(complicate)\n",
    "stem_doc"
   ]
  },
  {
   "cell_type": "markdown",
   "metadata": {},
   "source": [
    "=> meaningless => reconstruct these word roots back into a known term"
   ]
  },
  {
   "cell_type": "code",
   "execution_count": 24,
   "metadata": {},
   "outputs": [
    {
     "data": {
      "text/html": [
       "<dl class=dl-horizontal>\n",
       "\t<dt>complic</dt>\n",
       "\t\t<dd>'complicate'</dd>\n",
       "\t<dt>complic</dt>\n",
       "\t\t<dd>'complicate'</dd>\n",
       "\t<dt>complic</dt>\n",
       "\t\t<dd>'complicate'</dd>\n",
       "</dl>\n"
      ],
      "text/latex": [
       "\\begin{description*}\n",
       "\\item[complic] 'complicate'\n",
       "\\item[complic] 'complicate'\n",
       "\\item[complic] 'complicate'\n",
       "\\end{description*}\n"
      ],
      "text/markdown": [
       "complic\n",
       ":   'complicate'complic\n",
       ":   'complicate'complic\n",
       ":   'complicate'\n",
       "\n"
      ],
      "text/plain": [
       "     complic      complic      complic \n",
       "\"complicate\" \"complicate\" \"complicate\" "
      ]
     },
     "metadata": {},
     "output_type": "display_data"
    }
   ],
   "source": [
    "# Create the completion dictionary: comp_dict\n",
    "comp_dict <- \"complicate\"\n",
    "\n",
    "# Perform stem completion: complete_text \n",
    "complete_text <- stemCompletion(stem_doc, comp_dict)\n",
    "\n",
    "# Print complete_text\n",
    "complete_text"
   ]
  },
  {
   "cell_type": "code",
   "execution_count": 25,
   "metadata": {},
   "outputs": [
    {
     "data": {
      "text/html": [
       "'In a complic haste, Tom rush to fix a new complication, too complicatedly.'"
      ],
      "text/latex": [
       "'In a complic haste, Tom rush to fix a new complication, too complicatedly.'"
      ],
      "text/markdown": [
       "'In a complic haste, Tom rush to fix a new complication, too complicatedly.'"
      ],
      "text/plain": [
       "[1] \"In a complic haste, Tom rush to fix a new complication, too complicatedly.\""
      ]
     },
     "metadata": {},
     "output_type": "display_data"
    }
   ],
   "source": [
    "# On sentence\n",
    "text_data <- \"In a complicated haste, Tom rushed to fix a new complication, too complicatedly.\"\n",
    "stemDocument(text_data) # => not work"
   ]
  },
  {
   "cell_type": "code",
   "execution_count": 26,
   "metadata": {},
   "outputs": [],
   "source": [
    "# Remove punctuation: rm_punc\n",
    "rm_punc <- removePunctuation(text_data)\n",
    "\n",
    "# Create character vector: n_char_vec\n",
    "n_char_vec <- unlist(strsplit(rm_punc, split = ' '))\n",
    "\n",
    "# Perform word stemming: stem_doc\n",
    "stem_doc <- stemDocument(n_char_vec)"
   ]
  },
  {
   "cell_type": "code",
   "execution_count": 27,
   "metadata": {},
   "outputs": [
    {
     "data": {
      "text/html": [
       "<ol class=list-inline>\n",
       "\t<li>'In'</li>\n",
       "\t<li>'a'</li>\n",
       "\t<li>'complic'</li>\n",
       "\t<li>'hast'</li>\n",
       "\t<li>'Tom'</li>\n",
       "\t<li>'rush'</li>\n",
       "\t<li>'to'</li>\n",
       "\t<li>'fix'</li>\n",
       "\t<li>'a'</li>\n",
       "\t<li>'new'</li>\n",
       "\t<li>'complic'</li>\n",
       "\t<li>'too'</li>\n",
       "\t<li>'complic'</li>\n",
       "</ol>\n"
      ],
      "text/latex": [
       "\\begin{enumerate*}\n",
       "\\item 'In'\n",
       "\\item 'a'\n",
       "\\item 'complic'\n",
       "\\item 'hast'\n",
       "\\item 'Tom'\n",
       "\\item 'rush'\n",
       "\\item 'to'\n",
       "\\item 'fix'\n",
       "\\item 'a'\n",
       "\\item 'new'\n",
       "\\item 'complic'\n",
       "\\item 'too'\n",
       "\\item 'complic'\n",
       "\\end{enumerate*}\n"
      ],
      "text/markdown": [
       "1. 'In'\n",
       "2. 'a'\n",
       "3. 'complic'\n",
       "4. 'hast'\n",
       "5. 'Tom'\n",
       "6. 'rush'\n",
       "7. 'to'\n",
       "8. 'fix'\n",
       "9. 'a'\n",
       "10. 'new'\n",
       "11. 'complic'\n",
       "12. 'too'\n",
       "13. 'complic'\n",
       "\n",
       "\n"
      ],
      "text/plain": [
       " [1] \"In\"      \"a\"       \"complic\" \"hast\"    \"Tom\"     \"rush\"    \"to\"     \n",
       " [8] \"fix\"     \"a\"       \"new\"     \"complic\" \"too\"     \"complic\""
      ]
     },
     "metadata": {},
     "output_type": "display_data"
    }
   ],
   "source": [
    "# Print stem_doc\n",
    "stem_doc"
   ]
  },
  {
   "cell_type": "code",
   "execution_count": 28,
   "metadata": {},
   "outputs": [
    {
     "data": {
      "text/html": [
       "<dl class=dl-horizontal>\n",
       "\t<dt>In</dt>\n",
       "\t\t<dd>''</dd>\n",
       "\t<dt>a</dt>\n",
       "\t\t<dd>''</dd>\n",
       "\t<dt>complic</dt>\n",
       "\t\t<dd>'complicate'</dd>\n",
       "\t<dt>hast</dt>\n",
       "\t\t<dd>''</dd>\n",
       "\t<dt>Tom</dt>\n",
       "\t\t<dd>''</dd>\n",
       "\t<dt>rush</dt>\n",
       "\t\t<dd>''</dd>\n",
       "\t<dt>to</dt>\n",
       "\t\t<dd>''</dd>\n",
       "\t<dt>fix</dt>\n",
       "\t\t<dd>''</dd>\n",
       "\t<dt>a</dt>\n",
       "\t\t<dd>''</dd>\n",
       "\t<dt>new</dt>\n",
       "\t\t<dd>''</dd>\n",
       "\t<dt>complic</dt>\n",
       "\t\t<dd>'complicate'</dd>\n",
       "\t<dt>too</dt>\n",
       "\t\t<dd>''</dd>\n",
       "\t<dt>complic</dt>\n",
       "\t\t<dd>'complicate'</dd>\n",
       "</dl>\n"
      ],
      "text/latex": [
       "\\begin{description*}\n",
       "\\item[In] ''\n",
       "\\item[a] ''\n",
       "\\item[complic] 'complicate'\n",
       "\\item[hast] ''\n",
       "\\item[Tom] ''\n",
       "\\item[rush] ''\n",
       "\\item[to] ''\n",
       "\\item[fix] ''\n",
       "\\item[a] ''\n",
       "\\item[new] ''\n",
       "\\item[complic] 'complicate'\n",
       "\\item[too] ''\n",
       "\\item[complic] 'complicate'\n",
       "\\end{description*}\n"
      ],
      "text/markdown": [
       "In\n",
       ":   ''a\n",
       ":   ''complic\n",
       ":   'complicate'hast\n",
       ":   ''Tom\n",
       ":   ''rush\n",
       ":   ''to\n",
       ":   ''fix\n",
       ":   ''a\n",
       ":   ''new\n",
       ":   ''complic\n",
       ":   'complicate'too\n",
       ":   ''complic\n",
       ":   'complicate'\n",
       "\n"
      ],
      "text/plain": [
       "          In            a      complic         hast          Tom         rush \n",
       "          \"\"           \"\" \"complicate\"           \"\"           \"\"           \"\" \n",
       "          to          fix            a          new      complic          too \n",
       "          \"\"           \"\"           \"\"           \"\" \"complicate\"           \"\" \n",
       "     complic \n",
       "\"complicate\" "
      ]
     },
     "metadata": {},
     "output_type": "display_data"
    }
   ],
   "source": [
    "# Re-complete stemmed document: complete_doc\n",
    "complete_doc <- stemCompletion(stem_doc, comp_dict)\n",
    "\n",
    "# Print complete_doc\n",
    "complete_doc"
   ]
  },
  {
   "cell_type": "markdown",
   "metadata": {},
   "source": [
    "## COMBINE PREPROCESSING INTO FUNCTION"
   ]
  },
  {
   "cell_type": "code",
   "execution_count": 29,
   "metadata": {},
   "outputs": [],
   "source": [
    "# Alter the function code to match the instructions\n",
    "clean_corpus <- function(corpus) {\n",
    "  # Remove punctuation\n",
    "  corpus <- tm_map(corpus, removePunctuation)\n",
    "  # Transform to lower case\n",
    "  corpus <- tm_map(corpus, content_transformer(tolower)) # content transfomer for base R\n",
    "  # Add more stopwords\n",
    "  corpus <- tm_map(corpus, removeWords, c(stopwords(\"en\"), \"coffee\", \"mug\"))\n",
    "  # Strip whitespace\n",
    "  corpus <- tm_map(corpus, stripWhitespace)\n",
    "  return(corpus)\n",
    "}"
   ]
  },
  {
   "cell_type": "markdown",
   "metadata": {},
   "source": [
    "## DOCUMENT TERM MATRIX"
   ]
  },
  {
   "cell_type": "code",
   "execution_count": 30,
   "metadata": {},
   "outputs": [
    {
     "data": {
      "text/plain": [
       "<<TermDocumentMatrix (terms: 3075, documents: 1000)>>\n",
       "Non-/sparse entries: 7384/3067616\n",
       "Sparsity           : 100%\n",
       "Maximal term length: 27\n",
       "Weighting          : term frequency (tf)"
      ]
     },
     "metadata": {},
     "output_type": "display_data"
    }
   ],
   "source": [
    "clean_corp <- clean_corpus(coffee_corpus)\n",
    "\n",
    "# Create the dtm from the corpus: coffee_dtm\n",
    "coffee_tdm <- TermDocumentMatrix(clean_corp)\n",
    "\n",
    "# Print out coffee_dtm data\n",
    "coffee_tdm"
   ]
  },
  {
   "cell_type": "code",
   "execution_count": 31,
   "metadata": {},
   "outputs": [],
   "source": [
    "# Convert coffee_dtm to a matrix: coffee_m\n",
    "coffee_m <- as.matrix(coffee_tdm)"
   ]
  },
  {
   "cell_type": "code",
   "execution_count": 32,
   "metadata": {},
   "outputs": [
    {
     "data": {
      "text/html": [
       "<ol class=list-inline>\n",
       "\t<li>3075</li>\n",
       "\t<li>1000</li>\n",
       "</ol>\n"
      ],
      "text/latex": [
       "\\begin{enumerate*}\n",
       "\\item 3075\n",
       "\\item 1000\n",
       "\\end{enumerate*}\n"
      ],
      "text/markdown": [
       "1. 3075\n",
       "2. 1000\n",
       "\n",
       "\n"
      ],
      "text/plain": [
       "[1] 3075 1000"
      ]
     },
     "metadata": {},
     "output_type": "display_data"
    }
   ],
   "source": [
    "# Print the dimensions of coffee_m\n",
    "dim(coffee_m)"
   ]
  },
  {
   "cell_type": "code",
   "execution_count": 33,
   "metadata": {},
   "outputs": [
    {
     "data": {
      "text/html": [
       "<table>\n",
       "<thead><tr><th></th><th scope=col>148</th><th scope=col>149</th><th scope=col>150</th></tr></thead>\n",
       "<tbody>\n",
       "\t<tr><th scope=row>stampedeblue</th><td>0</td><td>0</td><td>0</td></tr>\n",
       "\t<tr><th scope=row>stand</th><td>0</td><td>0</td><td>0</td></tr>\n",
       "\t<tr><th scope=row>star</th><td>0</td><td>0</td><td>0</td></tr>\n",
       "\t<tr><th scope=row>starbucks</th><td>0</td><td>0</td><td>0</td></tr>\n",
       "</tbody>\n",
       "</table>\n"
      ],
      "text/latex": [
       "\\begin{tabular}{r|lll}\n",
       "  & 148 & 149 & 150\\\\\n",
       "\\hline\n",
       "\tstampedeblue & 0 & 0 & 0\\\\\n",
       "\tstand & 0 & 0 & 0\\\\\n",
       "\tstar & 0 & 0 & 0\\\\\n",
       "\tstarbucks & 0 & 0 & 0\\\\\n",
       "\\end{tabular}\n"
      ],
      "text/markdown": [
       "\n",
       "| <!--/--> | 148 | 149 | 150 |\n",
       "|---|---|---|---|\n",
       "| stampedeblue | 0 | 0 | 0 |\n",
       "| stand | 0 | 0 | 0 |\n",
       "| star | 0 | 0 | 0 |\n",
       "| starbucks | 0 | 0 | 0 |\n",
       "\n"
      ],
      "text/plain": [
       "              Docs\n",
       "Terms          148 149 150\n",
       "  stampedeblue 0   0   0  \n",
       "  stand        0   0   0  \n",
       "  star         0   0   0  \n",
       "  starbucks    0   0   0  "
      ]
     },
     "metadata": {},
     "output_type": "display_data"
    }
   ],
   "source": [
    "# Review a portion of the matrix\n",
    "coffee_m[2587:2590, 148:150]"
   ]
  },
  {
   "cell_type": "markdown",
   "metadata": {},
   "source": [
    "## FREQUENT TERMS WITH TM"
   ]
  },
  {
   "cell_type": "code",
   "execution_count": 34,
   "metadata": {},
   "outputs": [],
   "source": [
    "# Calculate the rowSums: term_frequency\n",
    "term_frequency <- rowSums(coffee_m)\n",
    "\n",
    "# Sort term_frequency in descending order\n",
    "term_frequency <- sort(term_frequency, decreasing = TRUE)"
   ]
  },
  {
   "cell_type": "code",
   "execution_count": 35,
   "metadata": {},
   "outputs": [
    {
     "data": {
      "text/html": [
       "<dl class=dl-horizontal>\n",
       "\t<dt>like</dt>\n",
       "\t\t<dd>111</dd>\n",
       "\t<dt>cup</dt>\n",
       "\t\t<dd>103</dd>\n",
       "\t<dt>shop</dt>\n",
       "\t\t<dd>69</dd>\n",
       "\t<dt>just</dt>\n",
       "\t\t<dd>66</dd>\n",
       "\t<dt>get</dt>\n",
       "\t\t<dd>62</dd>\n",
       "\t<dt>morning</dt>\n",
       "\t\t<dd>57</dd>\n",
       "\t<dt>want</dt>\n",
       "\t\t<dd>49</dd>\n",
       "\t<dt>drinking</dt>\n",
       "\t\t<dd>47</dd>\n",
       "\t<dt>can</dt>\n",
       "\t\t<dd>45</dd>\n",
       "\t<dt>looks</dt>\n",
       "\t\t<dd>45</dd>\n",
       "</dl>\n"
      ],
      "text/latex": [
       "\\begin{description*}\n",
       "\\item[like] 111\n",
       "\\item[cup] 103\n",
       "\\item[shop] 69\n",
       "\\item[just] 66\n",
       "\\item[get] 62\n",
       "\\item[morning] 57\n",
       "\\item[want] 49\n",
       "\\item[drinking] 47\n",
       "\\item[can] 45\n",
       "\\item[looks] 45\n",
       "\\end{description*}\n"
      ],
      "text/markdown": [
       "like\n",
       ":   111cup\n",
       ":   103shop\n",
       ":   69just\n",
       ":   66get\n",
       ":   62morning\n",
       ":   57want\n",
       ":   49drinking\n",
       ":   47can\n",
       ":   45looks\n",
       ":   45\n",
       "\n"
      ],
      "text/plain": [
       "    like      cup     shop     just      get  morning     want drinking \n",
       "     111      103       69       66       62       57       49       47 \n",
       "     can    looks \n",
       "      45       45 "
      ]
     },
     "metadata": {},
     "output_type": "display_data"
    }
   ],
   "source": [
    "# View the top 10 most common words\n",
    "term_frequency[1:10]"
   ]
  },
  {
   "cell_type": "code",
   "execution_count": 36,
   "metadata": {},
   "outputs": [
    {
     "data": {
      "image/png": "[encoded data removed]",
      "text/plain": [
       "plot without title"
      ]
     },
     "metadata": {},
     "output_type": "display_data"
    }
   ],
   "source": [
    "# Plot a barchart of the 10 most common words\n",
    "barplot(term_frequency[1:10], col = \"tan\", las = 2)"
   ]
  },
  {
   "cell_type": "code",
   "execution_count": 37,
   "metadata": {},
   "outputs": [
    {
     "data": {
      "image/png": "[encoded data removed]",
      "text/plain": [
       "plot without title"
      ]
     },
     "metadata": {},
     "output_type": "display_data"
    }
   ],
   "source": [
    "# Another way of frequent term\n",
    "# Create frequency\n",
    "frequency <- freq_terms(\n",
    "  tweets$text, \n",
    "  top = 10, \n",
    "  at.least = 3, \n",
    "  stopwords = \"Top200Words\"\n",
    ")\n",
    "\n",
    "# Make a frequency barchart\n",
    "plot(frequency)"
   ]
  },
  {
   "cell_type": "markdown",
   "metadata": {},
   "source": [
    "## WORDCLOUD"
   ]
  },
  {
   "cell_type": "code",
   "execution_count": 38,
   "metadata": {},
   "outputs": [
    {
     "name": "stderr",
     "output_type": "stream",
     "text": [
      "Warning message:\n",
      "\"package 'wordcloud' was built under R version 3.5.2\""
     ]
    }
   ],
   "source": [
    "# Load wordcloud package\n",
    "library(wordcloud)"
   ]
  },
  {
   "cell_type": "code",
   "execution_count": 39,
   "metadata": {},
   "outputs": [
    {
     "data": {
      "text/html": [
       "<dl class=dl-horizontal>\n",
       "\t<dt>like</dt>\n",
       "\t\t<dd>111</dd>\n",
       "\t<dt>cup</dt>\n",
       "\t\t<dd>103</dd>\n",
       "\t<dt>shop</dt>\n",
       "\t\t<dd>69</dd>\n",
       "\t<dt>just</dt>\n",
       "\t\t<dd>66</dd>\n",
       "\t<dt>get</dt>\n",
       "\t\t<dd>62</dd>\n",
       "\t<dt>morning</dt>\n",
       "\t\t<dd>57</dd>\n",
       "\t<dt>want</dt>\n",
       "\t\t<dd>49</dd>\n",
       "\t<dt>drinking</dt>\n",
       "\t\t<dd>47</dd>\n",
       "\t<dt>can</dt>\n",
       "\t\t<dd>45</dd>\n",
       "\t<dt>looks</dt>\n",
       "\t\t<dd>45</dd>\n",
       "</dl>\n"
      ],
      "text/latex": [
       "\\begin{description*}\n",
       "\\item[like] 111\n",
       "\\item[cup] 103\n",
       "\\item[shop] 69\n",
       "\\item[just] 66\n",
       "\\item[get] 62\n",
       "\\item[morning] 57\n",
       "\\item[want] 49\n",
       "\\item[drinking] 47\n",
       "\\item[can] 45\n",
       "\\item[looks] 45\n",
       "\\end{description*}\n"
      ],
      "text/markdown": [
       "like\n",
       ":   111cup\n",
       ":   103shop\n",
       ":   69just\n",
       ":   66get\n",
       ":   62morning\n",
       ":   57want\n",
       ":   49drinking\n",
       ":   47can\n",
       ":   45looks\n",
       ":   45\n",
       "\n"
      ],
      "text/plain": [
       "    like      cup     shop     just      get  morning     want drinking \n",
       "     111      103       69       66       62       57       49       47 \n",
       "     can    looks \n",
       "      45       45 "
      ]
     },
     "metadata": {},
     "output_type": "display_data"
    }
   ],
   "source": [
    "# Print the first 10 entries in term_frequency\n",
    "term_frequency[1:10]"
   ]
  },
  {
   "cell_type": "code",
   "execution_count": 40,
   "metadata": {},
   "outputs": [],
   "source": [
    "# Create word_freqs\n",
    "word_freqs <- data.frame(term = names(term_frequency), num = term_frequency)"
   ]
  },
  {
   "cell_type": "code",
   "execution_count": 41,
   "metadata": {
    "scrolled": false
   },
   "outputs": [
    {
     "data": {
      "text/html": [
       "<ol class=list-inline>\n",
       "\t<li>'white'</li>\n",
       "\t<li>'aliceblue'</li>\n",
       "\t<li>'antiquewhite'</li>\n",
       "\t<li>'antiquewhite1'</li>\n",
       "\t<li>'antiquewhite2'</li>\n",
       "\t<li>'antiquewhite3'</li>\n",
       "</ol>\n"
      ],
      "text/latex": [
       "\\begin{enumerate*}\n",
       "\\item 'white'\n",
       "\\item 'aliceblue'\n",
       "\\item 'antiquewhite'\n",
       "\\item 'antiquewhite1'\n",
       "\\item 'antiquewhite2'\n",
       "\\item 'antiquewhite3'\n",
       "\\end{enumerate*}\n"
      ],
      "text/markdown": [
       "1. 'white'\n",
       "2. 'aliceblue'\n",
       "3. 'antiquewhite'\n",
       "4. 'antiquewhite1'\n",
       "5. 'antiquewhite2'\n",
       "6. 'antiquewhite3'\n",
       "\n",
       "\n"
      ],
      "text/plain": [
       "[1] \"white\"         \"aliceblue\"     \"antiquewhite\"  \"antiquewhite1\"\n",
       "[5] \"antiquewhite2\" \"antiquewhite3\""
      ]
     },
     "metadata": {},
     "output_type": "display_data"
    }
   ],
   "source": [
    "# Print the list of colors\n",
    "head(colors())"
   ]
  },
  {
   "cell_type": "code",
   "execution_count": 42,
   "metadata": {},
   "outputs": [
    {
     "data": {
      "image/png": "[encoded data removed]",
      "text/plain": [
       "plot without title"
      ]
     },
     "metadata": {},
     "output_type": "display_data"
    }
   ],
   "source": [
    "# Create a wordcloud for the values in word_freqs\n",
    "wordcloud(word_freqs$term, word_freqs$num, max.words = 100, colors = c(\"grey80\", \"darkgoldenrod1\", \"tomato\"))"
   ]
  },
  {
   "cell_type": "code",
   "execution_count": 45,
   "metadata": {},
   "outputs": [
    {
     "data": {
      "image/png": "[encoded data removed]",
      "text/plain": [
       "plot without title"
      ]
     },
     "metadata": {},
     "output_type": "display_data"
    }
   ],
   "source": [
    "# List the available colors\n",
    "display.brewer.all()"
   ]
  },
  {
   "cell_type": "code",
   "execution_count": 47,
   "metadata": {},
   "outputs": [],
   "source": [
    "# Create purple_orange\n",
    "purple_orange <- brewer.pal(10, \"PuOr\")\n",
    "\n",
    "# Drop 2 faintest colors\n",
    "purple_orange <- purple_orange[-(1:2)]"
   ]
  },
  {
   "cell_type": "code",
   "execution_count": 48,
   "metadata": {},
   "outputs": [
    {
     "data": {
      "image/png": "[encoded data removed]",
      "text/plain": [
       "plot without title"
      ]
     },
     "metadata": {},
     "output_type": "display_data"
    }
   ],
   "source": [
    "# Create a wordcloud with purple_orange palette\n",
    "wordcloud(word_freqs$term, word_freqs$num, max.words = 100, colors = purple_orange)"
   ]
  },
  {
   "cell_type": "markdown",
   "metadata": {},
   "source": [
    "## COMMONALITY CLOUD AND COMPARISON CLOUD"
   ]
  },
  {
   "cell_type": "code",
   "execution_count": 49,
   "metadata": {},
   "outputs": [],
   "source": [
    "coffee_tweets <- read.csv(\"coffee.csv\", stringsAsFactors = FALSE)\n",
    "chardonnay_tweets <- read.csv('chardonnay.csv', stringsAsFactors = FALSE)"
   ]
  },
  {
   "cell_type": "code",
   "execution_count": 51,
   "metadata": {},
   "outputs": [
    {
     "data": {
      "text/html": [
       "<table>\n",
       "<thead><tr><th scope=col>num</th><th scope=col>text</th><th scope=col>favorited</th><th scope=col>replyToSN</th><th scope=col>created</th><th scope=col>truncated</th><th scope=col>replyToSID</th><th scope=col>id</th><th scope=col>replyToUID</th><th scope=col>statusSource</th><th scope=col>screenName</th><th scope=col>retweetCount</th><th scope=col>retweeted</th><th scope=col>longitude</th><th scope=col>latitude</th></tr></thead>\n",
       "<tbody>\n",
       "\t<tr><td>1                                                                                                                                                                                   </td><td><span style=white-space:pre-wrap>@ayyytylerb that is so true drink lots of coffee                                                                                            </span></td><td>FALSE                                                                                                                                                                               </td><td>ayyytylerb                                                                                                                                                                          </td><td>8/9/2013 2:43                                                                                                                                                                       </td><td>FALSE                                                                                                                                                                               </td><td>3.65664e+17                                                                                                                                                                         </td><td>3.65665e+17                                                                                                                                                                         </td><td>1637123977                                                                                                                                                                          </td><td>&lt;a href=\"http://twitter.com/download/iphone\" rel=\"nofollow\"&gt;Twitter for iPhone&lt;/a&gt;                                                                                      </td><td>thejennagibson                                                                                                                                                                      </td><td>0                                                                                                                                                                                   </td><td>FALSE                                                                                                                                                                               </td><td>NA                                                                                                                                                                                  </td><td>NA                                                                                                                                                                                  </td></tr>\n",
       "\t<tr><td>2                                                                                                                                           </td><td>RT @bryzy_brib: Senior March tmw morning at 7:25 A.M. in the SENIOR lot. Get up early, make yo coffee/breakfast, cus this will only happen ?</td><td>FALSE                                                                                                                                       </td><td><span style=white-space:pre-wrap>NA        </span>                                                                                          </td><td>8/9/2013 2:43                                                                                                                               </td><td>FALSE                                                                                                                                       </td><td><span style=white-space:pre-wrap>         NA</span>                                                                                         </td><td>3.65665e+17                                                                                                                                 </td><td><span style=white-space:pre-wrap>        NA</span>                                                                                          </td><td>&lt;a href=\"http://twitter.com/download/iphone\" rel=\"nofollow\"&gt;Twitter for iPhone&lt;/a&gt;                                              </td><td>carolynicosia                                                                                                                               </td><td>1                                                                                                                                           </td><td>FALSE                                                                                                                                       </td><td>NA                                                                                                                                          </td><td>NA                                                                                                                                          </td></tr>\n",
       "</tbody>\n",
       "</table>\n"
      ],
      "text/latex": [
       "\\begin{tabular}{r|lllllllllllllll}\n",
       " num & text & favorited & replyToSN & created & truncated & replyToSID & id & replyToUID & statusSource & screenName & retweetCount & retweeted & longitude & latitude\\\\\n",
       "\\hline\n",
       "\t 1                                                                                                                                            & @ayyytylerb that is so true drink lots of coffee                                                                                             & FALSE                                                                                                                                        & ayyytylerb                                                                                                                                   & 8/9/2013 2:43                                                                                                                                & FALSE                                                                                                                                        & 3.65664e+17                                                                                                                                  & 3.65665e+17                                                                                                                                  & 1637123977                                                                                                                                   & <a href=\"http://twitter.com/download/iphone\" rel=\"nofollow\">Twitter for iPhone</a>                                                           & thejennagibson                                                                                                                               & 0                                                                                                                                            & FALSE                                                                                                                                        & NA                                                                                                                                           & NA                                                                                                                                          \\\\\n",
       "\t 2                                                                                                                                              & RT @bryzy\\_brib: Senior March tmw morning at 7:25 A.M. in the SENIOR lot. Get up early, make yo coffee/breakfast, cus this will only happen ? & FALSE                                                                                                                                          & NA                                                                                                                                             & 8/9/2013 2:43                                                                                                                                  & FALSE                                                                                                                                          &          NA                                                                                                                                    & 3.65665e+17                                                                                                                                    &         NA                                                                                                                                     & <a href=\"http://twitter.com/download/iphone\" rel=\"nofollow\">Twitter for iPhone</a>                                                             & carolynicosia                                                                                                                                  & 1                                                                                                                                              & FALSE                                                                                                                                          & NA                                                                                                                                             & NA                                                                                                                                            \\\\\n",
       "\\end{tabular}\n"
      ],
      "text/markdown": [
       "\n",
       "| num | text | favorited | replyToSN | created | truncated | replyToSID | id | replyToUID | statusSource | screenName | retweetCount | retweeted | longitude | latitude |\n",
       "|---|---|---|---|---|---|---|---|---|---|---|---|---|---|---|\n",
       "| 1                                                                                                                                            | @ayyytylerb that is so true drink lots of coffee                                                                                             | FALSE                                                                                                                                        | ayyytylerb                                                                                                                                   | 8/9/2013 2:43                                                                                                                                | FALSE                                                                                                                                        | 3.65664e+17                                                                                                                                  | 3.65665e+17                                                                                                                                  | 1637123977                                                                                                                                   | <a href=\"http://twitter.com/download/iphone\" rel=\"nofollow\">Twitter for iPhone</a>                                                           | thejennagibson                                                                                                                               | 0                                                                                                                                            | FALSE                                                                                                                                        | NA                                                                                                                                           | NA                                                                                                                                           |\n",
       "| 2                                                                                                                                            | RT @bryzy_brib: Senior March tmw morning at 7:25 A.M. in the SENIOR lot. Get up early, make yo coffee/breakfast, cus this will only happen ? | FALSE                                                                                                                                        | NA                                                                                                                                           | 8/9/2013 2:43                                                                                                                                | FALSE                                                                                                                                        |          NA                                                                                                                                  | 3.65665e+17                                                                                                                                  |         NA                                                                                                                                   | <a href=\"http://twitter.com/download/iphone\" rel=\"nofollow\">Twitter for iPhone</a>                                                           | carolynicosia                                                                                                                                | 1                                                                                                                                            | FALSE                                                                                                                                        | NA                                                                                                                                           | NA                                                                                                                                           |\n",
       "\n"
      ],
      "text/plain": [
       "  num\n",
       "1 1  \n",
       "2 2  \n",
       "  text                                                                                                                                        \n",
       "1 @ayyytylerb that is so true drink lots of coffee                                                                                            \n",
       "2 RT @bryzy_brib: Senior March tmw morning at 7:25 A.M. in the SENIOR lot. Get up early, make yo coffee/breakfast, cus this will only happen ?\n",
       "  favorited replyToSN  created       truncated replyToSID  id         \n",
       "1 FALSE     ayyytylerb 8/9/2013 2:43 FALSE     3.65664e+17 3.65665e+17\n",
       "2 FALSE     NA         8/9/2013 2:43 FALSE              NA 3.65665e+17\n",
       "  replyToUID\n",
       "1 1637123977\n",
       "2         NA\n",
       "  statusSource                                                                      \n",
       "1 <a href=\"http://twitter.com/download/iphone\" rel=\"nofollow\">Twitter for iPhone</a>\n",
       "2 <a href=\"http://twitter.com/download/iphone\" rel=\"nofollow\">Twitter for iPhone</a>\n",
       "  screenName     retweetCount retweeted longitude latitude\n",
       "1 thejennagibson 0            FALSE     NA        NA      \n",
       "2 carolynicosia  1            FALSE     NA        NA      "
      ]
     },
     "metadata": {},
     "output_type": "display_data"
    }
   ],
   "source": [
    "head(coffee_tweets, n = 2)"
   ]
  },
  {
   "cell_type": "code",
   "execution_count": 52,
   "metadata": {},
   "outputs": [],
   "source": [
    "# Create all_coffee\n",
    "all_coffee <- paste(coffee_tweets$text, collapse = \" \")\n",
    "\n",
    "# Create all_chardonnay\n",
    "all_chardonnay <- paste(chardonnay_tweets$text, collapse = \" \")"
   ]
  },
  {
   "cell_type": "code",
   "execution_count": 59,
   "metadata": {
    "scrolled": false
   },
   "outputs": [],
   "source": [
    "# Create all_tweets\n",
    "all_tweets <- c(all_coffee, all_chardonnay)"
   ]
  },
  {
   "cell_type": "code",
   "execution_count": 60,
   "metadata": {},
   "outputs": [],
   "source": [
    "# Convert to a vector source\n",
    "all_tweets <- VectorSource(all_tweets)\n",
    "\n",
    "# Create all_corpus\n",
    "all_corpus <- VCorpus(all_tweets)\n",
    "\n",
    "# Clean the corpus\n",
    "all_clean <- clean_corpus(all_corpus)\n",
    "\n",
    "# Create all_tdm\n",
    "all_tdm <- TermDocumentMatrix(all_clean)"
   ]
  },
  {
   "cell_type": "code",
   "execution_count": 61,
   "metadata": {},
   "outputs": [],
   "source": [
    "# Give the columns distinct names\n",
    "colnames(all_tdm) <- c(\"coffee\", \"chardonnay\")\n",
    "\n",
    "# Create all_m\n",
    "all_m <- as.matrix(all_tdm)"
   ]
  },
  {
   "cell_type": "code",
   "execution_count": 62,
   "metadata": {},
   "outputs": [
    {
     "data": {
      "text/html": [
       "<table>\n",
       "<thead><tr><th></th><th scope=col>coffee</th><th scope=col>chardonnay</th></tr></thead>\n",
       "<tbody>\n",
       "\t<tr><th scope=row>0630</th><td> 1</td><td>0 </td></tr>\n",
       "\t<tr><th scope=row>0nanist</th><td> 0</td><td>1 </td></tr>\n",
       "\t<tr><th scope=row>100</th><td> 0</td><td>7 </td></tr>\n",
       "\t<tr><th scope=row>1000</th><td>27</td><td>0 </td></tr>\n",
       "\t<tr><th scope=row>1026</th><td> 1</td><td>0 </td></tr>\n",
       "\t<tr><th scope=row>1030</th><td> 3</td><td>0 </td></tr>\n",
       "</tbody>\n",
       "</table>\n"
      ],
      "text/latex": [
       "\\begin{tabular}{r|ll}\n",
       "  & coffee & chardonnay\\\\\n",
       "\\hline\n",
       "\t0630 &  1 & 0 \\\\\n",
       "\t0nanist &  0 & 1 \\\\\n",
       "\t100 &  0 & 7 \\\\\n",
       "\t1000 & 27 & 0 \\\\\n",
       "\t1026 &  1 & 0 \\\\\n",
       "\t1030 &  3 & 0 \\\\\n",
       "\\end{tabular}\n"
      ],
      "text/markdown": [
       "\n",
       "| <!--/--> | coffee | chardonnay |\n",
       "|---|---|---|\n",
       "| 0630 |  1 | 0  |\n",
       "| 0nanist |  0 | 1  |\n",
       "| 100 |  0 | 7  |\n",
       "| 1000 | 27 | 0  |\n",
       "| 1026 |  1 | 0  |\n",
       "| 1030 |  3 | 0  |\n",
       "\n"
      ],
      "text/plain": [
       "         Docs\n",
       "Terms     coffee chardonnay\n",
       "  0630     1     0         \n",
       "  0nanist  0     1         \n",
       "  100      0     7         \n",
       "  1000    27     0         \n",
       "  1026     1     0         \n",
       "  1030     3     0         "
      ]
     },
     "metadata": {},
     "output_type": "display_data"
    }
   ],
   "source": [
    "head(all_m)"
   ]
  },
  {
   "cell_type": "code",
   "execution_count": 63,
   "metadata": {},
   "outputs": [
    {
     "data": {
      "image/png": "[encoded data removed]",
      "text/plain": [
       "plot without title"
      ]
     },
     "metadata": {},
     "output_type": "display_data"
    }
   ],
   "source": [
    "# Print a commonality cloud\n",
    "commonality.cloud(all_m, colors = \"steelblue1\", max.words = 100)"
   ]
  },
  {
   "cell_type": "code",
   "execution_count": 64,
   "metadata": {},
   "outputs": [
    {
     "data": {
      "image/png": "[encoded data removed]",
      "text/plain": [
       "plot without title"
      ]
     },
     "metadata": {},
     "output_type": "display_data"
    }
   ],
   "source": [
    "# Create comparison cloud\n",
    "comparison.cloud(all_m, colors = c(\"orange\", \"blue\"), max.words = 50)"
   ]
  },
  {
   "cell_type": "markdown",
   "metadata": {},
   "source": [
    "## PYRAMID PLOT: UPGRADE TO COMMONALITY CLOUD"
   ]
  },
  {
   "cell_type": "code",
   "execution_count": 66,
   "metadata": {},
   "outputs": [],
   "source": [
    "library(dplyr)\n",
    "library(plotrix)"
   ]
  },
  {
   "cell_type": "code",
   "execution_count": 68,
   "metadata": {},
   "outputs": [
    {
     "data": {
      "text/html": [
       "<table>\n",
       "<thead><tr><th scope=col>word</th><th scope=col>coffee</th><th scope=col>chardonnay</th><th scope=col>difference</th></tr></thead>\n",
       "<tbody>\n",
       "\t<tr><td>amp      </td><td>38       </td><td>120      </td><td>82       </td></tr>\n",
       "\t<tr><td>bottle   </td><td> 3       </td><td> 47      </td><td>44       </td></tr>\n",
       "\t<tr><td>little   </td><td> 4       </td><td> 35      </td><td>31       </td></tr>\n",
       "\t<tr><td>ass      </td><td> 2       </td><td> 24      </td><td>22       </td></tr>\n",
       "\t<tr><td>inspired </td><td> 1       </td><td> 19      </td><td>18       </td></tr>\n",
       "\t<tr><td>milkshake</td><td> 2       </td><td> 20      </td><td>18       </td></tr>\n",
       "</tbody>\n",
       "</table>\n"
      ],
      "text/latex": [
       "\\begin{tabular}{r|llll}\n",
       " word & coffee & chardonnay & difference\\\\\n",
       "\\hline\n",
       "\t amp       & 38        & 120       & 82       \\\\\n",
       "\t bottle    &  3        &  47       & 44       \\\\\n",
       "\t little    &  4        &  35       & 31       \\\\\n",
       "\t ass       &  2        &  24       & 22       \\\\\n",
       "\t inspired  &  1        &  19       & 18       \\\\\n",
       "\t milkshake &  2        &  20       & 18       \\\\\n",
       "\\end{tabular}\n"
      ],
      "text/markdown": [
       "\n",
       "| word | coffee | chardonnay | difference |\n",
       "|---|---|---|---|\n",
       "| amp       | 38        | 120       | 82        |\n",
       "| bottle    |  3        |  47       | 44        |\n",
       "| little    |  4        |  35       | 31        |\n",
       "| ass       |  2        |  24       | 22        |\n",
       "| inspired  |  1        |  19       | 18        |\n",
       "| milkshake |  2        |  20       | 18        |\n",
       "\n"
      ],
      "text/plain": [
       "  word      coffee chardonnay difference\n",
       "1 amp       38     120        82        \n",
       "2 bottle     3      47        44        \n",
       "3 little     4      35        31        \n",
       "4 ass        2      24        22        \n",
       "5 inspired   1      19        18        \n",
       "6 milkshake  2      20        18        "
      ]
     },
     "metadata": {},
     "output_type": "display_data"
    }
   ],
   "source": [
    "top25_df <- all_m %>%\n",
    "  # Convert to data frame\n",
    "  as_data_frame(rownames = \"word\") %>% \n",
    "  # Keep rows where word appears everywhere\n",
    "  filter_all(all_vars(. > 0)) %>% \n",
    "  # Get difference in counts\n",
    "  mutate(difference = chardonnay - coffee) %>% \n",
    "  # Keep rows with biggest difference\n",
    "  top_n(25, wt = difference) %>% \n",
    "  # Arrange by descending difference\n",
    "  arrange(desc(difference))\n",
    "\n",
    "head(top25_df)"
   ]
  },
  {
   "cell_type": "code",
   "execution_count": 72,
   "metadata": {},
   "outputs": [
    {
     "data": {
      "text/html": [
       "<ol class=list-inline>\n",
       "\t<li>5.1</li>\n",
       "\t<li>4.1</li>\n",
       "\t<li>4.1</li>\n",
       "\t<li>2.1</li>\n",
       "</ol>\n"
      ],
      "text/latex": [
       "\\begin{enumerate*}\n",
       "\\item 5.1\n",
       "\\item 4.1\n",
       "\\item 4.1\n",
       "\\item 2.1\n",
       "\\end{enumerate*}\n"
      ],
      "text/markdown": [
       "1. 5.1\n",
       "2. 4.1\n",
       "3. 4.1\n",
       "4. 2.1\n",
       "\n",
       "\n"
      ],
      "text/plain": [
       "[1] 5.1 4.1 4.1 2.1"
      ]
     },
     "metadata": {},
     "output_type": "display_data"
    },
    {
     "data": {
      "image/png": "[encoded data removed]",
      "text/plain": [
       "Plot with title \"Words in Common\""
      ]
     },
     "metadata": {},
     "output_type": "display_data"
    }
   ],
   "source": [
    "# Make pyramid plot\n",
    "pyramid.plot(top25_df$chardonnay, top25_df$coffee,\n",
    "             labels = top25_df$word,\n",
    "             main = \"Words in Common\",\n",
    "             gap = 20,\n",
    "             raxlab = NULL, unit = NULL,\n",
    "             top.labels = c(\"Chardonnay\",\n",
    "                            \"Words\",\n",
    "                            \"Coffee\"))"
   ]
  },
  {
   "cell_type": "markdown",
   "metadata": {},
   "source": [
    "## WORD NETWORK"
   ]
  },
  {
   "cell_type": "code",
   "execution_count": 74,
   "metadata": {
    "scrolled": false
   },
   "outputs": [
    {
     "name": "stderr",
     "output_type": "stream",
     "text": [
      "Warning message in text2color(words = V(g)$label, recode.words = target.words, colors = label.colors):\n",
      "\"length of colors should be 1 more than length of recode.words\"\n",
      "Match Terms\n",
      "===========\n",
      "\n",
      "List 1:\n",
      "marvin, 'marvin\n",
      "\n",
      "\n"
     ]
    },
    {
     "data": {
      "text/plain": [
       "    row group unit text                                                                                                                                                                                     \n",
       "1    14   all   14 This was all inspired by a little Marvin Gaye and Chardonnay...                                                                                                                          \n",
       "2    16   all   16 @LilLakers JUST TO SET THE MOOD GIRL I BROUGHT SOME MARVIN GAYE AND CHARDONNAY SO JUST LET THE SONG PLAAAY                                                                               \n",
       "3    17   all   17 RT @_barneywynne_: Just to set the mood girl i brought some marvin gaye and chardonnay                                                                                                   \n",
       "4    18   all   18 @TylerHickok was it inspired by a little Marvin gaye abs chardonnay?                                                                                                                     \n",
       "5    19   all   19 Just to set the mood girl i brought some marvin gaye and chardonnay                                                                                                                      \n",
       "6    23   all   23 Marvin Gaye and Chardonnay                                                                                                                                                               \n",
       "7    24   all   24 I brought some Marvin Gaye and Chardonnay.                                                                                                                                               \n",
       "8    26   all   26 RT @NowOnRadio1Xtra: <U+266B> Marvin &amp; Chardonnay (feat. Kanye West &amp; Roscoe Dash) - by Big Sean #bbc #radio1xtra                                                                \n",
       "9    27   all   27 <U+266B> Marvin &amp; Chardonnay (feat. Kanye West &amp; Roscoe Dash) - by Big Sean #bbc #radio1xtra                                                                                     \n",
       "10   48   all   48 Marvin Gaye and Chardonnay                                                                                                                                                               \n",
       "11   67   all   67 Just to set the mood, girl i brought some marvin gaye and Chardonnay                                                                                                                     \n",
       "12  101   all  101 Marvin gay and Chardonnay <ed><U+00A0><U+00BD><ed><U+00B8><U+0099><ed><U+00A0><U+00BC><ed><U+00BE><U+00B6>                                                                               \n",
       "13  126   all  126 This was all inspired by a little Marvin Gaye and Chardonnay <ed><U+00A0><U+00BC><ed><U+00BE><U+00B6>                                                                                    \n",
       "14  143   all  143 RT @Leinyy_Nicole: and this was all inspired by a little Marvin Gaye and Chardonnay..                                                                                                    \n",
       "15  144   all  144 and this was all inspired by a little Marvin Gaye and Chardonnay..                                                                                                                       \n",
       "16  146   all  146 Marvin Gaye and Chardonnay                                                                                                                                                               \n",
       "17  170   all  170 Guess ill Just Hit the Hay After a Lil Marvin Gaye &amp; Chardonnay Okay Hoooomay.                                                                                                       \n",
       "18  175   all  175 Marvin Gaye and Chardonnay                                                                                                                                                               \n",
       "19  195   all  195 Marvin Gay &amp; Chardonnay                                                                                                                                                              \n",
       "20  196   all  196 Marvin Gaye and Chardonnay                                                                                                                                                               \n",
       "21  201   all  201 Marvin Gaye &amp; Chardonnay, was my shxt, I Use To Play It Before I Step Out .                                                                                                          \n",
       "22  204   all  204 ?@rarias_453: Hol up give me that gimme that Marvin Gaye and Chardonnay shit but wait my conversation to complicated this bitch to basic<ed><U+00A0><U+00BD><ed><U+00B8><U+0082><U+270C>?\n",
       "23  205   all  205 Hol up give me that gimme that Marvin Gaye and Chardonnay shit but wait my conversation to complicated this bitch to basic<ed><U+00A0><U+00BD><ed><U+00B8><U+0082><U+270C>               \n",
       "24  209   all  209 Big Sean x Roscoe Dash x Marvin Gaye N Chardonnay                                                                                                                                        \n",
       "25  211   all  211 RT @LunaBasquiat: This was all inspired by a little Marvin Gaye &amp; Chardonnay                                                                                                         \n",
       "26  212   all  212 This was all inspired by a little Marvin Gaye &amp; Chardonnay                                                                                                                           \n",
       "27  225   all  225 RT @FreeChiill: Y'all remember when Big Sean's \"Ass\" &amp; \"Marvin Gaye &amp; Chardonnay\" was everywhere? Smh, what were y'all thinking?                                                 \n",
       "28  226   all  226 RT @FreeChiill: Y'all remember when Big Sean's \"Ass\" &amp; \"Marvin Gaye &amp; Chardonnay\" was everywhere? Smh, what were y'all thinking?                                                 \n",
       "29  227   all  227 Y'all remember when Big Sean's \"Ass\" &amp; \"Marvin Gaye &amp; Chardonnay\" was everywhere? Smh, what were y'all thinking?                                                                 \n",
       "30  238   all  238 It's to set the mood girl I bought some Marvin and Chardonnay.                                                                                                                           \n",
       "31  246   all  246 Just to set the mood he put some Marvin Gaye and Chardonnay <ed><U+00A0><U+00BD><ed><U+00B8><U+008C>                                                                                     \n",
       "32  249   all  249 RT @Contract_cKilla: ?@_FuckTheHype_: Anytime I listen to Marvin Gaye and Chardonnay or She Will.. I Think Of Michael?sap ass                                                            \n",
       "33  252   all  252 RT @Contract_cKilla: ?@_FuckTheHype_: Anytime I listen to Marvin Gaye and Chardonnay or She Will.. I Think Of Michael? weed and pizza make ?                                             \n",
       "34  253   all  253 ?@_FuckTheHype_: Anytime I listen to Marvin Gaye and Chardonnay or She Will.. I Think Of Michael? weed and pizza make me think of him bread2                                             \n",
       "35  256   all  256 ?@_FuckTheHype_: Anytime I listen to Marvin Gaye and Chardonnay or She Will.. I Think Of Michael?sap ass                                                                                 \n",
       "36  258   all  258 Anytime I listen to Marvin Gaye and Chardonnay or She Will.. I Think Of Michael                                                                                                          \n",
       "37  260   all  260 A little Marvin Gaye &amp; Chardonnay..                                                                                                                                                  \n",
       "38  273   all  273 What dat nigga Big Sean say.. we can do it off this Marvin Gaye and Chardonnay                                                                                                           \n",
       "39  347   all  347 Still jam out to Marvin Gaye and Chardonnay like it's the first time I've heard it every single time.                                                                                    \n",
       "40  363   all  363 RT @Dyl_Tha_Thryll: Marvin Gaye and Chardonnay                                                                                                                                           \n",
       "41  364   all  364 Marvin Gaye and Chardonnay                                                                                                                                                               \n",
       "42  379   all  379 This was all inspired by ah lil Marvin Gaye and Chardonnay                                                                                                                               \n",
       "43  385   all  385 Marvin Gaye and Chardonnay                                                                                                                                                               \n",
       "44  386   all  386 ?@Stand__Grand: @kathleen_brock but....but...he hates Marvin and Chardonnay <ed><U+00A0><U+00BD><ed><U+00B8><U+0094>? Fuck your Marvin and Chardonnay                                    \n",
       "45  388   all  388 @kathleen_brock but....but...he hates Marvin and Chardonnay <ed><U+00A0><U+00BD><ed><U+00B8><U+0094>                                                                                     \n",
       "46  390   all  390 ?@JDubbbbbbs: #confessyourunpopularopinion I HATE Marvin &amp; Chardonnay? now its 0. That's my favorite song. But hey, your opinion, not mine.                                          \n",
       "47  392   all  392 #confessyourunpopularopinion I HATE Marvin &amp; Chardonnay                                                                                                                              \n",
       "48  401   all  401 Marvin gay and Chardonnay                                                                                                                                                                \n",
       "49  404   all  404 ?@Tanner_Patsko40: Little Marvin Gaye a Chardonnay? the key to my heart                                                                                                                  \n",
       "50  408   all  408 Little Marvin Gaye a Chardonnay                                                                                                                                                          \n",
       "51  413   all  413 @VVLovee haha Marvin Gaye and Chardonnay? Lol I've really sat down and drank a glass of wine.                                                                                            \n",
       "52  427   all  427 RT @MiTae_: Big sean x Marvin and chardonnay                                                                                                                                             \n",
       "53  430   all  430 Big sean x Marvin and chardonnay                                                                                                                                                         \n",
       "54  433   all  433 @PackAustin Marvin Gaye and Chardonnay                                                                                                                                                   \n",
       "55  435   all  435 Marvin &amp; chardonnay - Big Sean                                                                                                                                                       \n",
       "56  450   all  450 A little Marvin Gaye and Chardonnay                                                                                                                                                      \n",
       "57  486   all  486 ?@pacsexy: Marvin Gaye &amp; Chardonnay&gt;&gt;&gt;? talk about a throwback...<ed><U+00A0><U+00BD><ed><U+00B8><U+00B3>                                                                   \n",
       "58  490   all  490 Marvin gaye and chardonnay                                                                                                                                                               \n",
       "59  497   all  497 This was all inspired by a little Marvin Gaye and Chardonnay                                                                                                                             \n",
       "60  500   all  500 this was all inspired by a little Marvin Gaye and Chardonnay                                                                                                                             \n",
       "61  502   all  502 and this was all inspired by a little Marvin Gaye and Chardonnay                                                                                                                         \n",
       "62  507   all  507 Marvin gaye and chardonnay by @BigSean ft @kanyewest @roscoedash love this song on a throw back                                                                                          \n",
       "63  521   all  521 \"This was all inspired by a little Marvin Gaye and Chardonnay\" Little old, but still bangin @BigSean @kanyewest @Roscoedash #finallyfamous                                               \n",
       "64  525   all  525 @Franc__OHH Wait for me, marvin and chardonnay, high and I do it will always be favorites to                                                                                             \n",
       "65  554   all  554 And this was all inspired by a little Marvin Gaye and Chardonnay.                                                                                                                        \n",
       "66  587   all  587 RT @_iPreach: Just to set the mood I bought some Marvin Gay and Chardonnay                                                                                                               \n",
       "67  614   all  614 Just to set the mood I bought some Marvin Gay and Chardonnay                                                                                                                             \n",
       "68  637   all  637 \"Marvin and Chardonnay\" by Big Sean has a nice beat tbh                                                                                                                                  \n",
       "69  638   all  638 @JMoney814MP marvin GAYe and chardonnay                                                                                                                                                  \n",
       "70  658   all  658 i can not listen to unthinkable, work out, or marvin gaye &amp; chardonnay.. like at all.                                                                                                \n",
       "71  669   all  669 This was all inspired by a little Marvin Gaye and Chardonnay                                                                                                                             \n",
       "72  679   all  679 Marvin Gaye and Chardonnay <ed><U+00A0><U+00BC><ed><U+00BE><U+00B6><ed><U+00A0><U+00BC><ed><U+00BE><U+00B6>                                                                              \n",
       "73  694   all  694 Marvin gaye and chardonnay                                                                                                                                                               \n",
       "74  696   all  696 Gimmie dat Chardonnay &amp; that Marvin Gaye shxt .. but hol'up.. My conversation too complicated this bxtch to basic.                                                                   \n",
       "75  718   all  718 \"This was all inspired by a little Marvin Gaye an Chardonnay \"                                                                                                                           \n",
       "76  727   all  727 Just to set the mood girl I brought some Marvin Gay and Chardonnay                                                                                                                       \n",
       "77  749   all  749 @Chlo_Raines Marvin Gaye and Chardonnay                                                                                                                                                  \n",
       "78  752   all  752 Marvin and Chardonnay will forever be my pump up song                                                                                                                                    \n",
       "79  763   all  763 Do it how we want ! Just to set the mood girl I brought some Marvin Gaye &amp; Chardonnay !:) #MTVHottest Justin Bieber                                                                  \n",
       "80  764   all  764 #Np Marvin &amp; Chardonnay ! #BigSean ! #MTVHottest Justin Bieber                                                                                                                       \n",
       "81  789   all  789 Girl i brought some MARVIN GAYE AND CHARDONNAY                                                                                                                                           \n",
       "82  800   all  800 <U+2728><ed><U+00A0><U+00BD><ed><U+00B2><U+00A8><ed><U+00A0><U+00BD><ed><U+00B2><U+008E> this was all inspired by a little Marvin Gaye and chardonnay                                    \n",
       "83  803   all  803 I seen God today.. we had a deep discussion over Marvin Gaye and chardonnay..                                                                                                            \n",
       "84  808   all  808 Marvin Gaye and Chardonnay                                                                                                                                                               \n",
       "85  813   all  813 just to set the mood girl I bought some marvin gaye and chardonnay                                                                                                                       \n",
       "86  829   all  829 Marvin gaye and chardonnay                                                                                                                                                               \n",
       "87  849   all  849 RT @14DaysAWeek_: Marvin Gaye and Chardonnay                                                                                                                                             \n",
       "88  871   all  871 Marvin Gaye and Chardonnay                                                                                                                                                               \n",
       "89  885   all  885 Marvin Gaye and Chardonnay                                                                                                                                                               \n",
       "90  895   all  895 ?@LoParoYaKnowXD: Just to set the mood girl I brought some Marvin Gaye and Chardonnay<ed><U+00A0><U+00BC><ed><U+00BD><U+00B8>?                                                           \n",
       "91  896   all  896 Just to set the mood girl I brought some Marvin Gaye and Chardonnay<ed><U+00A0><U+00BC><ed><U+00BD><U+00B8>                                                                              \n",
       "92  899   all  899 This was all inspired by a little Marvin Gaye and Chardonnay.                                                                                                                            \n",
       "93  904   all  904 Marvin &amp; Chardonnay(:                                                                                                                                                                \n",
       "94  908   all  908 @K_Carterr35 REMEMBER WHEN YOU WAS SINGING MARVIN &amp; CHARDONNAY &amp; GOT SENT TOO S.A.P OR WHATEVER AT SCHOOL! #GoodTimesAtCD                                                        \n",
       "95  909   all  909 I was sad 'af but then 'Marvin Gay &amp; Chardonnay' just came on!!! Lawdy...<ed><U+00A0><U+00BD><ed><U+00B8><U+0081>                                                                    \n",
       "96  910   all  910 Marvin &amp; Chardonnay was my song!                                                                                                                                                     \n",
       "97  911   all  911 - Just to set the mood girl I bought Marvin &amp; Chardonnay .                                                                                                                           \n",
       "98  913   all  913 Oh shiiii Marvin &amp; Chardonnay really just came on?! Ayee <ed><U+00A0><U+00BD><ed><U+00B2><U+0083>                                                                                    \n",
       "99  926   all  926 We had a deep discussion over Marvin Gaye and Chardonnay                                                                                                                                 \n",
       "100 935   all  935 I liked a @YouTube video http://t.co/waDAbwYR14 Marvin Gaye and Chardonnay- Brian Puspos ft Chachi Gonzalez                                                                              \n",
       "101 939   all  939 Marvin Gay &amp; Chardonnay                                                                                                                                                              \n",
       "102 947   all  947 \"And this was all inspired by a little Marvin Gaye and Chardonnay\"                                                                                                                       \n",
       "103 951   all  951 Just to set the mood I bought some Marvin Gaye &amp; Chardonnay.                                                                                                                         "
      ]
     },
     "metadata": {},
     "output_type": "display_data"
    },
    {
     "data": {
      "image/png": "[encoded data removed]",
      "text/plain": [
       "Plot with title \"Chardonnay Tweets Associated with Marvin\""
      ]
     },
     "metadata": {},
     "output_type": "display_data"
    }
   ],
   "source": [
    "# Word association\n",
    "word_associate(chardonnay_tweets$text, match.string = \"marvin\", \n",
    "               stopwords = c(Top200Words, \"chardonnay\", \"amp\"), \n",
    "               network.plot = TRUE, cloud.colors = c(\"gray85\", \"darkred\"))\n",
    "\n",
    "# Add title\n",
    "title(main = \"Chardonnay Tweets Associated with Marvin\")"
   ]
  },
  {
   "cell_type": "markdown",
   "metadata": {},
   "source": [
    "## REMOVE SPARSE TERM"
   ]
  },
  {
   "cell_type": "markdown",
   "metadata": {},
   "source": [
    "TDMs and DTMs are sparse, meaning they contain mostly zeros. "
   ]
  },
  {
   "cell_type": "code",
   "execution_count": 75,
   "metadata": {},
   "outputs": [
    {
     "data": {
      "text/html": [
       "<ol class=list-inline>\n",
       "\t<li>3075</li>\n",
       "\t<li>1000</li>\n",
       "</ol>\n"
      ],
      "text/latex": [
       "\\begin{enumerate*}\n",
       "\\item 3075\n",
       "\\item 1000\n",
       "\\end{enumerate*}\n"
      ],
      "text/markdown": [
       "1. 3075\n",
       "2. 1000\n",
       "\n",
       "\n"
      ],
      "text/plain": [
       "[1] 3075 1000"
      ]
     },
     "metadata": {},
     "output_type": "display_data"
    }
   ],
   "source": [
    "# Print the dimensions of tweets_tdm\n",
    "dim(coffee_tdm)"
   ]
  },
  {
   "cell_type": "code",
   "execution_count": 76,
   "metadata": {},
   "outputs": [],
   "source": [
    "# Create tdm1\n",
    "tdm1 <- removeSparseTerms(coffee_tdm, sparse = 0.95)\n",
    "\n",
    "# Create tdm2\n",
    "tdm2 <- removeSparseTerms(coffee_tdm, sparse = 0.975)"
   ]
  },
  {
   "cell_type": "code",
   "execution_count": 77,
   "metadata": {},
   "outputs": [
    {
     "data": {
      "text/plain": [
       "<<TermDocumentMatrix (terms: 6, documents: 1000)>>\n",
       "Non-/sparse entries: 418/5582\n",
       "Sparsity           : 93%\n",
       "Maximal term length: 7\n",
       "Weighting          : term frequency (tf)"
      ]
     },
     "metadata": {},
     "output_type": "display_data"
    }
   ],
   "source": [
    "# Print tdm1\n",
    "tdm1"
   ]
  },
  {
   "cell_type": "code",
   "execution_count": 78,
   "metadata": {},
   "outputs": [
    {
     "data": {
      "text/plain": [
       "<<TermDocumentMatrix (terms: 40, documents: 1000)>>\n",
       "Non-/sparse entries: 1646/38354\n",
       "Sparsity           : 96%\n",
       "Maximal term length: 13\n",
       "Weighting          : term frequency (tf)"
      ]
     },
     "metadata": {},
     "output_type": "display_data"
    }
   ],
   "source": [
    "# Print tdm2\n",
    "tdm2"
   ]
  },
  {
   "cell_type": "code",
   "execution_count": 79,
   "metadata": {},
   "outputs": [],
   "source": [
    "# Create tdm_m\n",
    "tdm_m <- as.matrix(tdm2)\n",
    "\n",
    "# Create tdm_df\n",
    "tdm_df <- as.data.frame(tdm_m)\n",
    "\n",
    "# Create tweets_dist\n",
    "tweets_dist <- dist(tdm_df)\n",
    "\n",
    "# Create hc\n",
    "hc <- hclust(tweets_dist)"
   ]
  },
  {
   "cell_type": "code",
   "execution_count": 80,
   "metadata": {},
   "outputs": [
    {
     "data": {
      "image/png": "[encoded data removed]",
      "text/plain": [
       "Plot with title \"Cluster Dendrogram\""
      ]
     },
     "metadata": {},
     "output_type": "display_data"
    }
   ],
   "source": [
    "# Plot the dendrogram\n",
    "plot(hc)"
   ]
  },
  {
   "cell_type": "code",
   "execution_count": 84,
   "metadata": {},
   "outputs": [],
   "source": [
    "# Load dendextend\n",
    "library(dendextend)"
   ]
  },
  {
   "cell_type": "code",
   "execution_count": 82,
   "metadata": {},
   "outputs": [
    {
     "data": {
      "text/html": [
       "<ol class=list-inline>\n",
       "\t<li>'cup'</li>\n",
       "\t<li>'like'</li>\n",
       "\t<li>'shop'</li>\n",
       "\t<li>'looks'</li>\n",
       "\t<li>'show'</li>\n",
       "\t<li>'hgtv'</li>\n",
       "\t<li>'renovation'</li>\n",
       "\t<li>'charlie'</li>\n",
       "\t<li>'hosting'</li>\n",
       "\t<li>'working'</li>\n",
       "\t<li>'portland'</li>\n",
       "\t<li>'movethesticks'</li>\n",
       "\t<li>'whitehurst'</li>\n",
       "\t<li>'just'</li>\n",
       "\t<li>'get'</li>\n",
       "\t<li>'good'</li>\n",
       "\t<li>'morning'</li>\n",
       "\t<li>'want'</li>\n",
       "\t<li>'tea'</li>\n",
       "\t<li>'drinking'</li>\n",
       "\t<li>'can'</li>\n",
       "\t<li>'starbucks'</li>\n",
       "\t<li>'think'</li>\n",
       "\t<li>'iced'</li>\n",
       "\t<li>'half'</li>\n",
       "\t<li>'chemicals'</li>\n",
       "\t<li>'cancer'</li>\n",
       "\t<li>'tested'</li>\n",
       "\t<li>'1000'</li>\n",
       "\t<li>'single'</li>\n",
       "\t<li>'need'</li>\n",
       "\t<li>'ice'</li>\n",
       "\t<li>'much'</li>\n",
       "\t<li>'amp'</li>\n",
       "\t<li>'now'</li>\n",
       "\t<li>'right'</li>\n",
       "\t<li>'love'</li>\n",
       "\t<li>'make'</li>\n",
       "\t<li>'dont'</li>\n",
       "\t<li>'drink'</li>\n",
       "</ol>\n"
      ],
      "text/latex": [
       "\\begin{enumerate*}\n",
       "\\item 'cup'\n",
       "\\item 'like'\n",
       "\\item 'shop'\n",
       "\\item 'looks'\n",
       "\\item 'show'\n",
       "\\item 'hgtv'\n",
       "\\item 'renovation'\n",
       "\\item 'charlie'\n",
       "\\item 'hosting'\n",
       "\\item 'working'\n",
       "\\item 'portland'\n",
       "\\item 'movethesticks'\n",
       "\\item 'whitehurst'\n",
       "\\item 'just'\n",
       "\\item 'get'\n",
       "\\item 'good'\n",
       "\\item 'morning'\n",
       "\\item 'want'\n",
       "\\item 'tea'\n",
       "\\item 'drinking'\n",
       "\\item 'can'\n",
       "\\item 'starbucks'\n",
       "\\item 'think'\n",
       "\\item 'iced'\n",
       "\\item 'half'\n",
       "\\item 'chemicals'\n",
       "\\item 'cancer'\n",
       "\\item 'tested'\n",
       "\\item '1000'\n",
       "\\item 'single'\n",
       "\\item 'need'\n",
       "\\item 'ice'\n",
       "\\item 'much'\n",
       "\\item 'amp'\n",
       "\\item 'now'\n",
       "\\item 'right'\n",
       "\\item 'love'\n",
       "\\item 'make'\n",
       "\\item 'dont'\n",
       "\\item 'drink'\n",
       "\\end{enumerate*}\n"
      ],
      "text/markdown": [
       "1. 'cup'\n",
       "2. 'like'\n",
       "3. 'shop'\n",
       "4. 'looks'\n",
       "5. 'show'\n",
       "6. 'hgtv'\n",
       "7. 'renovation'\n",
       "8. 'charlie'\n",
       "9. 'hosting'\n",
       "10. 'working'\n",
       "11. 'portland'\n",
       "12. 'movethesticks'\n",
       "13. 'whitehurst'\n",
       "14. 'just'\n",
       "15. 'get'\n",
       "16. 'good'\n",
       "17. 'morning'\n",
       "18. 'want'\n",
       "19. 'tea'\n",
       "20. 'drinking'\n",
       "21. 'can'\n",
       "22. 'starbucks'\n",
       "23. 'think'\n",
       "24. 'iced'\n",
       "25. 'half'\n",
       "26. 'chemicals'\n",
       "27. 'cancer'\n",
       "28. 'tested'\n",
       "29. '1000'\n",
       "30. 'single'\n",
       "31. 'need'\n",
       "32. 'ice'\n",
       "33. 'much'\n",
       "34. 'amp'\n",
       "35. 'now'\n",
       "36. 'right'\n",
       "37. 'love'\n",
       "38. 'make'\n",
       "39. 'dont'\n",
       "40. 'drink'\n",
       "\n",
       "\n"
      ],
      "text/plain": [
       " [1] \"cup\"           \"like\"          \"shop\"          \"looks\"        \n",
       " [5] \"show\"          \"hgtv\"          \"renovation\"    \"charlie\"      \n",
       " [9] \"hosting\"       \"working\"       \"portland\"      \"movethesticks\"\n",
       "[13] \"whitehurst\"    \"just\"          \"get\"           \"good\"         \n",
       "[17] \"morning\"       \"want\"          \"tea\"           \"drinking\"     \n",
       "[21] \"can\"           \"starbucks\"     \"think\"         \"iced\"         \n",
       "[25] \"half\"          \"chemicals\"     \"cancer\"        \"tested\"       \n",
       "[29] \"1000\"          \"single\"        \"need\"          \"ice\"          \n",
       "[33] \"much\"          \"amp\"           \"now\"           \"right\"        \n",
       "[37] \"love\"          \"make\"          \"dont\"          \"drink\"        "
      ]
     },
     "metadata": {},
     "output_type": "display_data"
    }
   ],
   "source": [
    "# Create hcd\n",
    "hcd <- as.dendrogram(hc)\n",
    "\n",
    "# Print the labels in hcd\n",
    "labels(hcd)"
   ]
  },
  {
   "cell_type": "code",
   "execution_count": 85,
   "metadata": {},
   "outputs": [
    {
     "data": {
      "image/png": "[encoded data removed]",
      "text/plain": [
       "Plot with title \"Better Dendrogram\""
      ]
     },
     "metadata": {},
     "output_type": "display_data"
    }
   ],
   "source": [
    "# Change the branch color to red for \"cup\" and \"tea\"\n",
    "hcd_colored <- branches_attr_by_labels(hcd, c(\"cup\", \"tea\"), \"red\")\n",
    "\n",
    "# Plot hcd\n",
    "plot(hcd_colored, main = \"Better Dendrogram\")\n",
    "\n",
    "# Add cluster rectangles \n",
    "rect.dendrogram(hcd_colored, k = 2, border = \"grey50\")"
   ]
  },
  {
   "cell_type": "markdown",
   "metadata": {},
   "source": [
    "## WORD ASSOCIATION"
   ]
  },
  {
   "cell_type": "code",
   "execution_count": 87,
   "metadata": {},
   "outputs": [],
   "source": [
    "library(ggplot2)\n",
    "library(ggthemes)"
   ]
  },
  {
   "cell_type": "code",
   "execution_count": 88,
   "metadata": {},
   "outputs": [
    {
     "data": {
      "text/html": [
       "<strong>$venti</strong> = <dl class=dl-horizontal>\n",
       "\t<dt>breve</dt>\n",
       "\t\t<dd>0.58</dd>\n",
       "\t<dt>drizzle</dt>\n",
       "\t\t<dd>0.58</dd>\n",
       "\t<dt>entire</dt>\n",
       "\t\t<dd>0.58</dd>\n",
       "\t<dt>pumps</dt>\n",
       "\t\t<dd>0.58</dd>\n",
       "\t<dt>extra</dt>\n",
       "\t\t<dd>0.47</dd>\n",
       "\t<dt>cuz</dt>\n",
       "\t\t<dd>0.41</dd>\n",
       "\t<dt>forget</dt>\n",
       "\t\t<dd>0.41</dd>\n",
       "\t<dt>okay</dt>\n",
       "\t\t<dd>0.41</dd>\n",
       "\t<dt>hyper</dt>\n",
       "\t\t<dd>0.33</dd>\n",
       "\t<dt>mocha</dt>\n",
       "\t\t<dd>0.33</dd>\n",
       "\t<dt>vanilla</dt>\n",
       "\t\t<dd>0.33</dd>\n",
       "\t<dt>wtf</dt>\n",
       "\t\t<dd>0.29</dd>\n",
       "\t<dt>always</dt>\n",
       "\t\t<dd>0.26</dd>\n",
       "\t<dt>asleep</dt>\n",
       "\t\t<dd>0.26</dd>\n",
       "\t<dt>get</dt>\n",
       "\t\t<dd>0.25</dd>\n",
       "\t<dt>starbucks</dt>\n",
       "\t\t<dd>0.25</dd>\n",
       "\t<dt>white</dt>\n",
       "\t\t<dd>0.23</dd>\n",
       "</dl>\n"
      ],
      "text/latex": [
       "\\textbf{\\$venti} = \\begin{description*}\n",
       "\\item[breve] 0.58\n",
       "\\item[drizzle] 0.58\n",
       "\\item[entire] 0.58\n",
       "\\item[pumps] 0.58\n",
       "\\item[extra] 0.47\n",
       "\\item[cuz] 0.41\n",
       "\\item[forget] 0.41\n",
       "\\item[okay] 0.41\n",
       "\\item[hyper] 0.33\n",
       "\\item[mocha] 0.33\n",
       "\\item[vanilla] 0.33\n",
       "\\item[wtf] 0.29\n",
       "\\item[always] 0.26\n",
       "\\item[asleep] 0.26\n",
       "\\item[get] 0.25\n",
       "\\item[starbucks] 0.25\n",
       "\\item[white] 0.23\n",
       "\\end{description*}\n"
      ],
      "text/markdown": [
       "**$venti** = breve\n",
       ":   0.58drizzle\n",
       ":   0.58entire\n",
       ":   0.58pumps\n",
       ":   0.58extra\n",
       ":   0.47cuz\n",
       ":   0.41forget\n",
       ":   0.41okay\n",
       ":   0.41hyper\n",
       ":   0.33mocha\n",
       ":   0.33vanilla\n",
       ":   0.33wtf\n",
       ":   0.29always\n",
       ":   0.26asleep\n",
       ":   0.26get\n",
       ":   0.25starbucks\n",
       ":   0.25white\n",
       ":   0.23\n",
       "\n"
      ],
      "text/plain": [
       "$venti\n",
       "    breve   drizzle    entire     pumps     extra       cuz    forget      okay \n",
       "     0.58      0.58      0.58      0.58      0.47      0.41      0.41      0.41 \n",
       "    hyper     mocha   vanilla       wtf    always    asleep       get starbucks \n",
       "     0.33      0.33      0.33      0.29      0.26      0.26      0.25      0.25 \n",
       "    white \n",
       "     0.23 \n"
      ]
     },
     "metadata": {},
     "output_type": "display_data"
    }
   ],
   "source": [
    "# Create associations\n",
    "associations <- findAssocs(coffee_tdm, \"venti\", 0.2)\n",
    "\n",
    "# View the venti associations\n",
    "associations"
   ]
  },
  {
   "cell_type": "code",
   "execution_count": 90,
   "metadata": {},
   "outputs": [
    {
     "data": {
      "text/html": [
       "<table>\n",
       "<thead><tr><th scope=col>X2</th><th scope=col>X3</th></tr></thead>\n",
       "<tbody>\n",
       "\t<tr><td>white    </td><td>0.23     </td></tr>\n",
       "\t<tr><td>get      </td><td>0.25     </td></tr>\n",
       "\t<tr><td>starbucks</td><td>0.25     </td></tr>\n",
       "\t<tr><td>always   </td><td>0.26     </td></tr>\n",
       "\t<tr><td>asleep   </td><td>0.26     </td></tr>\n",
       "\t<tr><td>wtf      </td><td>0.29     </td></tr>\n",
       "</tbody>\n",
       "</table>\n"
      ],
      "text/latex": [
       "\\begin{tabular}{r|ll}\n",
       " X2 & X3\\\\\n",
       "\\hline\n",
       "\t white     & 0.23     \\\\\n",
       "\t get       & 0.25     \\\\\n",
       "\t starbucks & 0.25     \\\\\n",
       "\t always    & 0.26     \\\\\n",
       "\t asleep    & 0.26     \\\\\n",
       "\t wtf       & 0.29     \\\\\n",
       "\\end{tabular}\n"
      ],
      "text/markdown": [
       "\n",
       "| X2 | X3 |\n",
       "|---|---|\n",
       "| white     | 0.23      |\n",
       "| get       | 0.25      |\n",
       "| starbucks | 0.25      |\n",
       "| always    | 0.26      |\n",
       "| asleep    | 0.26      |\n",
       "| wtf       | 0.29      |\n",
       "\n"
      ],
      "text/plain": [
       "  X2        X3  \n",
       "1 white     0.23\n",
       "2 get       0.25\n",
       "3 starbucks 0.25\n",
       "4 always    0.26\n",
       "5 asleep    0.26\n",
       "6 wtf       0.29"
      ]
     },
     "metadata": {},
     "output_type": "display_data"
    }
   ],
   "source": [
    "# Create associations_df\n",
    "associations_df <- list_vect2df(associations)[,2:3]\n",
    "\n",
    "head(associations_df)"
   ]
  },
  {
   "cell_type": "code",
   "execution_count": 91,
   "metadata": {},
   "outputs": [
    {
     "data": {
      "image/png": "[encoded data removed]",
      "text/plain": [
       "plot without title"
      ]
     },
     "metadata": {},
     "output_type": "display_data"
    }
   ],
   "source": [
    "# Plot the associations_df values (don't change this)\n",
    "ggplot(associations_df, aes(y = associations_df[, 1])) + \n",
    "  geom_point(aes(x = associations_df[, 2]), \n",
    "             data = associations_df, size = 3) + \n",
    "  theme_gdocs()"
   ]
  },
  {
   "cell_type": "markdown",
   "metadata": {},
   "source": [
    "## N-GRAM"
   ]
  },
  {
   "cell_type": "code",
   "execution_count": 93,
   "metadata": {},
   "outputs": [],
   "source": [
    "library(RWeka)"
   ]
  },
  {
   "cell_type": "code",
   "execution_count": 94,
   "metadata": {},
   "outputs": [],
   "source": [
    "# Make tokenizer function \n",
    "tokenizer <- function(x) {\n",
    "  NGramTokenizer(x, Weka_control(min = 2, max = 2))\n",
    "}\n",
    "\n",
    "# Create unigram_dtm\n",
    "unigram_dtm <- DocumentTermMatrix(clean_corp)\n",
    "\n",
    "# Create bigram_dtm\n",
    "bigram_dtm <- DocumentTermMatrix(\n",
    "  clean_corp, \n",
    "  control = list(tokenize = tokenizer)\n",
    ")"
   ]
  },
  {
   "cell_type": "code",
   "execution_count": 95,
   "metadata": {},
   "outputs": [
    {
     "data": {
      "text/plain": [
       "<<DocumentTermMatrix (documents: 1000, terms: 3075)>>\n",
       "Non-/sparse entries: 7384/3067616\n",
       "Sparsity           : 100%\n",
       "Maximal term length: 27\n",
       "Weighting          : term frequency (tf)"
      ]
     },
     "metadata": {},
     "output_type": "display_data"
    }
   ],
   "source": [
    "# Print unigram_dtm\n",
    "unigram_dtm"
   ]
  },
  {
   "cell_type": "code",
   "execution_count": 96,
   "metadata": {},
   "outputs": [
    {
     "data": {
      "text/plain": [
       "<<DocumentTermMatrix (documents: 1000, terms: 5554)>>\n",
       "Non-/sparse entries: 7219/5546781\n",
       "Sparsity           : 100%\n",
       "Maximal term length: 41\n",
       "Weighting          : term frequency (tf)"
      ]
     },
     "metadata": {},
     "output_type": "display_data"
    }
   ],
   "source": [
    "# Print bigram_dtm\n",
    "bigram_dtm"
   ]
  },
  {
   "cell_type": "markdown",
   "metadata": {},
   "source": [
    "=> there are more terms"
   ]
  },
  {
   "cell_type": "code",
   "execution_count": 97,
   "metadata": {},
   "outputs": [],
   "source": [
    "# Create bigram_dtm_m\n",
    "bigram_dtm_m <- as.matrix(bigram_dtm)\n",
    "\n",
    "# Create freq\n",
    "freq <- colSums(bigram_dtm_m)\n",
    "\n",
    "# Create bi_words\n",
    "bi_words <- names(freq)"
   ]
  },
  {
   "cell_type": "code",
   "execution_count": 98,
   "metadata": {},
   "outputs": [
    {
     "data": {
      "text/html": [
       "<ol class=list-inline>\n",
       "\t<li>'jive loves'</li>\n",
       "\t<li>'joannnakatarina quit'</li>\n",
       "\t<li>'job samshearer1'</li>\n",
       "\t<li>'job sound'</li>\n",
       "\t<li>'joe take'</li>\n",
       "\t<li>'john 1026'</li>\n",
       "\t<li>'johnbirmingham damiansharry'</li>\n",
       "\t<li>'join silent'</li>\n",
       "\t<li>'join us'</li>\n",
       "\t<li>'joke takes'</li>\n",
       "\t<li>'jolenejjfo mean'</li>\n",
       "</ol>\n"
      ],
      "text/latex": [
       "\\begin{enumerate*}\n",
       "\\item 'jive loves'\n",
       "\\item 'joannnakatarina quit'\n",
       "\\item 'job samshearer1'\n",
       "\\item 'job sound'\n",
       "\\item 'joe take'\n",
       "\\item 'john 1026'\n",
       "\\item 'johnbirmingham damiansharry'\n",
       "\\item 'join silent'\n",
       "\\item 'join us'\n",
       "\\item 'joke takes'\n",
       "\\item 'jolenejjfo mean'\n",
       "\\end{enumerate*}\n"
      ],
      "text/markdown": [
       "1. 'jive loves'\n",
       "2. 'joannnakatarina quit'\n",
       "3. 'job samshearer1'\n",
       "4. 'job sound'\n",
       "5. 'joe take'\n",
       "6. 'john 1026'\n",
       "7. 'johnbirmingham damiansharry'\n",
       "8. 'join silent'\n",
       "9. 'join us'\n",
       "10. 'joke takes'\n",
       "11. 'jolenejjfo mean'\n",
       "\n",
       "\n"
      ],
      "text/plain": [
       " [1] \"jive loves\"                  \"joannnakatarina quit\"       \n",
       " [3] \"job samshearer1\"             \"job sound\"                  \n",
       " [5] \"joe take\"                    \"john 1026\"                  \n",
       " [7] \"johnbirmingham damiansharry\" \"join silent\"                \n",
       " [9] \"join us\"                     \"joke takes\"                 \n",
       "[11] \"jolenejjfo mean\"            "
      ]
     },
     "metadata": {},
     "output_type": "display_data"
    }
   ],
   "source": [
    "# Examine part of bi_words\n",
    "bi_words[2577:2587]"
   ]
  },
  {
   "cell_type": "code",
   "execution_count": 100,
   "metadata": {},
   "outputs": [
    {
     "name": "stderr",
     "output_type": "stream",
     "text": [
      "Warning message in wordcloud(bi_words, freq, max.words = 15):\n",
      "\"charlie whitehurst could not be fit on page. It will not be plotted.\"Warning message in wordcloud(bi_words, freq, max.words = 15):\n",
      "\"single cup could not be fit on page. It will not be plotted.\"Warning message in wordcloud(bi_words, freq, max.words = 15):\n",
      "\"chemicals single could not be fit on page. It will not be plotted.\"Warning message in wordcloud(bi_words, freq, max.words = 15):\n",
      "\"show hgtv could not be fit on page. It will not be plotted.\""
     ]
    },
    {
     "data": {
      "image/png": "[encoded data removed]",
      "text/plain": [
       "plot without title"
      ]
     },
     "metadata": {},
     "output_type": "display_data"
    }
   ],
   "source": [
    "# Plot a wordcloud\n",
    "wordcloud(bi_words, freq, max.words = 15)"
   ]
  },
  {
   "cell_type": "markdown",
   "metadata": {},
   "source": [
    "## CHANGE FREQUENCY WEIGHT (TF-IDF)"
   ]
  },
  {
   "cell_type": "markdown",
   "metadata": {},
   "source": [
    "TF-IDF penalize those words happen many times across documents"
   ]
  },
  {
   "cell_type": "code",
   "execution_count": 108,
   "metadata": {},
   "outputs": [
    {
     "name": "stderr",
     "output_type": "stream",
     "text": [
      "Warning message in weighting(x):\n",
      "\"empty document(s): 92 413 627 894\""
     ]
    },
    {
     "data": {
      "text/html": [
       "<table>\n",
       "<thead><tr><th></th><th scope=col>1</th><th scope=col>2</th><th scope=col>3</th><th scope=col>4</th><th scope=col>5</th><th scope=col>6</th><th scope=col>7</th><th scope=col>8</th><th scope=col>9</th><th scope=col>10</th><th scope=col>...</th><th scope=col>991</th><th scope=col>992</th><th scope=col>993</th><th scope=col>994</th><th scope=col>995</th><th scope=col>996</th><th scope=col>997</th><th scope=col>998</th><th scope=col>999</th><th scope=col>1000</th></tr></thead>\n",
       "<tbody>\n",
       "\t<tr><th scope=row>0630</th><td>0        </td><td>0        </td><td>0        </td><td>0        </td><td>0        </td><td>0        </td><td>0        </td><td>0        </td><td>0        </td><td>0        </td><td>...      </td><td>0        </td><td>0        </td><td>0        </td><td>0        </td><td>0.0000000</td><td>0        </td><td>0        </td><td>0        </td><td>0        </td><td>0        </td></tr>\n",
       "\t<tr><th scope=row>1000</th><td>0        </td><td>0        </td><td>0        </td><td>0        </td><td>0        </td><td>0        </td><td>0        </td><td>0        </td><td>0        </td><td>0        </td><td>...      </td><td>0        </td><td>0        </td><td>0        </td><td>0        </td><td>0.5789885</td><td>0        </td><td>0        </td><td>0        </td><td>0        </td><td>0        </td></tr>\n",
       "\t<tr><th scope=row>1026</th><td>0        </td><td>0        </td><td>0        </td><td>0        </td><td>0        </td><td>0        </td><td>0        </td><td>0        </td><td>0        </td><td>0        </td><td>...      </td><td>0        </td><td>0        </td><td>0        </td><td>0        </td><td>0.0000000</td><td>0        </td><td>0        </td><td>0        </td><td>0        </td><td>0        </td></tr>\n",
       "\t<tr><th scope=row>1030</th><td>0        </td><td>0        </td><td>0        </td><td>0        </td><td>0        </td><td>0        </td><td>0        </td><td>0        </td><td>0        </td><td>0        </td><td>...      </td><td>0        </td><td>0        </td><td>0        </td><td>0        </td><td>0.0000000</td><td>0        </td><td>0        </td><td>0        </td><td>0        </td><td>0        </td></tr>\n",
       "\t<tr><th scope=row>110</th><td>0        </td><td>0        </td><td>0        </td><td>0        </td><td>0        </td><td>0        </td><td>0        </td><td>0        </td><td>0        </td><td>0        </td><td>...      </td><td>0        </td><td>0        </td><td>0        </td><td>0        </td><td>0.0000000</td><td>0        </td><td>0        </td><td>0        </td><td>0        </td><td>0        </td></tr>\n",
       "\t<tr><th scope=row>1100</th><td>0        </td><td>0        </td><td>0        </td><td>0        </td><td>0        </td><td>0        </td><td>0        </td><td>0        </td><td>0        </td><td>0        </td><td>...      </td><td>0        </td><td>0        </td><td>0        </td><td>0        </td><td>0.0000000</td><td>0        </td><td>0        </td><td>0        </td><td>0        </td><td>0        </td></tr>\n",
       "</tbody>\n",
       "</table>\n"
      ],
      "text/latex": [
       "\\begin{tabular}{r|llllllllllllllllllllllllllllllllllllllllllllllllllllllllllllllllllllllllllllllllllllllllllllllllllllllllllllllllllllllllllllllllllllllllllllllllllllllllllllllllllllllllllllllllllllllllllllllllllllllllllllllllllllllllllllllllllllllllllllllllllllllllllllllllllllllllllllllllllllllllllllllllllllllllllllllllllllllllllllllllllllllllllllllllllllllllllllllllllllllllllllllllllllllllllllllllllllllllllllllllllllllllllllllllllllllllllllllllllllllllllllllllllllllllllllllllllllllllllllllllllllllllllllllllllllllllllllllllllllllllllllllllllllllllllllllllllllllllllllllllllllllllllllllllllllllllllllllllllllllllllllllllllllllllllllllllllllllllllllllllllllllllllllllllllllllllllllllllllllllllllllllllllllllllllllllllllllllllllllllllllllllllllllllllllllllllllllllllllllllllllllllllllllllllllllllllllllllllllllllllllllllllllllllllllllllllllllllllllllllllllllllllllllllllllllllllllllllllllllllllllllllllllllllllllllllllllllllllllllllllllllllllllllllllllllllllllllllllllllllllllllllllllllllllllllllllllllllllllllllll}\n",
       "  & 1 & 2 & 3 & 4 & 5 & 6 & 7 & 8 & 9 & 10 & ... & 991 & 992 & 993 & 994 & 995 & 996 & 997 & 998 & 999 & 1000\\\\\n",
       "\\hline\n",
       "\t0630 & 0         & 0         & 0         & 0         & 0         & 0         & 0         & 0         & 0         & 0         & ...       & 0         & 0         & 0         & 0         & 0.0000000 & 0         & 0         & 0         & 0         & 0        \\\\\n",
       "\t1000 & 0         & 0         & 0         & 0         & 0         & 0         & 0         & 0         & 0         & 0         & ...       & 0         & 0         & 0         & 0         & 0.5789885 & 0         & 0         & 0         & 0         & 0        \\\\\n",
       "\t1026 & 0         & 0         & 0         & 0         & 0         & 0         & 0         & 0         & 0         & 0         & ...       & 0         & 0         & 0         & 0         & 0.0000000 & 0         & 0         & 0         & 0         & 0        \\\\\n",
       "\t1030 & 0         & 0         & 0         & 0         & 0         & 0         & 0         & 0         & 0         & 0         & ...       & 0         & 0         & 0         & 0         & 0.0000000 & 0         & 0         & 0         & 0         & 0        \\\\\n",
       "\t110 & 0         & 0         & 0         & 0         & 0         & 0         & 0         & 0         & 0         & 0         & ...       & 0         & 0         & 0         & 0         & 0.0000000 & 0         & 0         & 0         & 0         & 0        \\\\\n",
       "\t1100 & 0         & 0         & 0         & 0         & 0         & 0         & 0         & 0         & 0         & 0         & ...       & 0         & 0         & 0         & 0         & 0.0000000 & 0         & 0         & 0         & 0         & 0        \\\\\n",
       "\\end{tabular}\n"
      ],
      "text/markdown": [
       "\n",
       "| <!--/--> | 1 | 2 | 3 | 4 | 5 | 6 | 7 | 8 | 9 | 10 | ... | 991 | 992 | 993 | 994 | 995 | 996 | 997 | 998 | 999 | 1000 |\n",
       "|---|---|---|---|---|---|---|---|---|---|---|---|---|---|---|---|---|---|---|---|---|---|\n",
       "| 0630 | 0         | 0         | 0         | 0         | 0         | 0         | 0         | 0         | 0         | 0         | ...       | 0         | 0         | 0         | 0         | 0.0000000 | 0         | 0         | 0         | 0         | 0         |\n",
       "| 1000 | 0         | 0         | 0         | 0         | 0         | 0         | 0         | 0         | 0         | 0         | ...       | 0         | 0         | 0         | 0         | 0.5789885 | 0         | 0         | 0         | 0         | 0         |\n",
       "| 1026 | 0         | 0         | 0         | 0         | 0         | 0         | 0         | 0         | 0         | 0         | ...       | 0         | 0         | 0         | 0         | 0.0000000 | 0         | 0         | 0         | 0         | 0         |\n",
       "| 1030 | 0         | 0         | 0         | 0         | 0         | 0         | 0         | 0         | 0         | 0         | ...       | 0         | 0         | 0         | 0         | 0.0000000 | 0         | 0         | 0         | 0         | 0         |\n",
       "| 110 | 0         | 0         | 0         | 0         | 0         | 0         | 0         | 0         | 0         | 0         | ...       | 0         | 0         | 0         | 0         | 0.0000000 | 0         | 0         | 0         | 0         | 0         |\n",
       "| 1100 | 0         | 0         | 0         | 0         | 0         | 0         | 0         | 0         | 0         | 0         | ...       | 0         | 0         | 0         | 0         | 0.0000000 | 0         | 0         | 0         | 0         | 0         |\n",
       "\n"
      ],
      "text/plain": [
       "     1 2 3 4 5 6 7 8 9 10 ... 991 992 993 994 995       996 997 998 999 1000\n",
       "0630 0 0 0 0 0 0 0 0 0 0  ... 0   0   0   0   0.0000000 0   0   0   0   0   \n",
       "1000 0 0 0 0 0 0 0 0 0 0  ... 0   0   0   0   0.5789885 0   0   0   0   0   \n",
       "1026 0 0 0 0 0 0 0 0 0 0  ... 0   0   0   0   0.0000000 0   0   0   0   0   \n",
       "1030 0 0 0 0 0 0 0 0 0 0  ... 0   0   0   0   0.0000000 0   0   0   0   0   \n",
       "110  0 0 0 0 0 0 0 0 0 0  ... 0   0   0   0   0.0000000 0   0   0   0   0   \n",
       "1100 0 0 0 0 0 0 0 0 0 0  ... 0   0   0   0   0.0000000 0   0   0   0   0   "
      ]
     },
     "metadata": {},
     "output_type": "display_data"
    },
    {
     "data": {
      "text/html": [
       "<table>\n",
       "<thead><tr><th scope=col>0630</th><th scope=col>1000</th><th scope=col>1026</th><th scope=col>1030</th><th scope=col>110</th><th scope=col>1100</th><th scope=col>11am</th><th scope=col>1214</th><th scope=col>1230</th><th scope=col>1239</th><th scope=col>...</th><th scope=col>yum</th><th scope=col>yummaaaay</th><th scope=col>yummy</th><th scope=col>zachrafsanjani</th><th scope=col>zaykennedy69</th><th scope=col>zeledmalegisele</th><th scope=col>ziggy</th><th scope=col>zokuhq</th><th scope=col>zombie</th><th scope=col>zzzquil</th></tr></thead>\n",
       "<tbody>\n",
       "\t<tr><td>0  </td><td>0  </td><td>0  </td><td>0  </td><td>0  </td><td>0  </td><td>0  </td><td>0  </td><td>0  </td><td>0  </td><td>...</td><td>0  </td><td>0  </td><td>0  </td><td>0  </td><td>0  </td><td>0  </td><td>0  </td><td>0  </td><td>0  </td><td>0  </td></tr>\n",
       "\t<tr><td>0  </td><td>0  </td><td>0  </td><td>0  </td><td>0  </td><td>0  </td><td>0  </td><td>0  </td><td>0  </td><td>0  </td><td>...</td><td>0  </td><td>0  </td><td>0  </td><td>0  </td><td>0  </td><td>0  </td><td>0  </td><td>0  </td><td>0  </td><td>0  </td></tr>\n",
       "\t<tr><td>0  </td><td>0  </td><td>0  </td><td>0  </td><td>0  </td><td>0  </td><td>0  </td><td>0  </td><td>0  </td><td>0  </td><td>...</td><td>0  </td><td>0  </td><td>0  </td><td>0  </td><td>0  </td><td>0  </td><td>0  </td><td>0  </td><td>0  </td><td>0  </td></tr>\n",
       "\t<tr><td>0  </td><td>0  </td><td>0  </td><td>0  </td><td>0  </td><td>0  </td><td>0  </td><td>0  </td><td>0  </td><td>0  </td><td>...</td><td>0  </td><td>0  </td><td>0  </td><td>0  </td><td>0  </td><td>0  </td><td>0  </td><td>0  </td><td>0  </td><td>0  </td></tr>\n",
       "\t<tr><td>0  </td><td>0  </td><td>0  </td><td>0  </td><td>0  </td><td>0  </td><td>0  </td><td>0  </td><td>0  </td><td>0  </td><td>...</td><td>0  </td><td>0  </td><td>0  </td><td>0  </td><td>0  </td><td>0  </td><td>0  </td><td>0  </td><td>0  </td><td>0  </td></tr>\n",
       "\t<tr><td>0  </td><td>0  </td><td>0  </td><td>0  </td><td>0  </td><td>0  </td><td>0  </td><td>0  </td><td>0  </td><td>0  </td><td>...</td><td>0  </td><td>0  </td><td>0  </td><td>0  </td><td>0  </td><td>0  </td><td>0  </td><td>0  </td><td>0  </td><td>0  </td></tr>\n",
       "</tbody>\n",
       "</table>\n"
      ],
      "text/latex": [
       "\\begin{tabular}{r|lllllllllllllllllllllllllllllllllllllllllllllllllllllllllllllllllllllllllllllllllllllllllllllllllllllllllllllllllllllllllllllllllllllllllllllllllllllllllllllllllllllllllllllllllllllllllllllllllllllllllllllllllllllllllllllllllllllllllllllllllllllllllllllllllllllllllllllllllllllllllllllllllllllllllllllllllllllllllllllllllllllllllllllllllllllllllllllllllllllllllllllllllllllllllllllllllllllllllllllllllllllllllllllllllllllllllllllllllllllllllllllllllllllllllllllllllllllllllllllllllllllllllllllllllllllllllllllllllllllllllllllllllllllllllllllllllllllllllllllllllllllllllllllllllllllllllllllllllllllllllllllllllllllllllllllllllllllllllllllllllllllllllllllllllllllllllllllllllllllllllllllllllllllllllllllllllllllllllllllllllllllllllllllllllllllllllllllllllllllllllllllllllllllllllllllllllllllllllllllllllllllllllllllllllllllllllllllllllllllllllllllllllllllllllllllllllllllllllllllllllllllllllllllllllllllllllllllllllllllllllllllllllllllllllllllllllllllllllllllllllllllllllllllllllllllllllllllllllllllllllllllllllllllllllllllllllllllllllllllllllllllllllllllllllllllllllllllllllllllllllllllllllllllllllllllllllllllllllllllllllllllllllllllllllllllllllllllllllllllllllllllllllllllllllllllllllllllllllllllllllllllllllllllllllllllllllllllllllllllllllllllllllllllllllllllllllllllllllllllllllllllllllllllllllllllllllllllllllllllllllllllllllllllllllllllllllllllllllllllllllllllllllllllllllllllllllllllllllllllllllllllllllllllllllllllllllllllllllllllllllllllllllllllllllllllllllllllllllllllllllllllllllllllllllllllllllllllllllllllllllllllllllllllllllllllllllllllllllllllllllllllllllllllllllllllllllllllllllllllllllllllllllllllllllllllllllllllllllllllllllllllllllllllllllllllllllllllllllllllllllllllllllllllllllllllllllllllllllllllllllllllllllllllllllllllllllllllllllllllllllllllllllllllllllllllllllllllllllllllllllllllllllllllllllllllllllllllllllllllllllllllllllllllllllllllllllllllllllllllllllllllllllllllllllllllllllllllllllllllllllllllllllllllllllllllllllllllllllllllllllllllllllllllllllllllllllllllllllllllllllllllllllllllllllllllllllllllllllllllllllllllllllllllllllllllllllllllllllllllllllllllllllllllllllllllllllllllllllllllllllllllllllllllllllllllllllllllllllllllllllllllllllllllllllllllllllllllllllllllllllllllllllllllllllllllllllllllllllllllllllllllllllllllllllllllllllllllllllllllllllllllllllllllllllllllllllllllllllllllllllllllllllllllllllllllllllllllllllllllllllllllllllllllllllllllllllllllllllllllllllllllllllllllllllllllllllllllllllllllllllllllllllllllllllllllllllllllllllllllllllllllllllllllllllllllllllllllllllllllllllllllllllllllllllllllllllllllllllllllllllllllllllllllllllllllllllllllllllllllllllllllllllllllllllllllllllllllllllllllllllllllllllllllllllllllllllllllllllllllllllllllllllllllllllllllllllllllllllllllllllllllllllllllllllllllllllllllllllllllllllllllllllllllllllllllllllllllllllllllllllllllllllllllllllllllllllllllllllllllllllllllllllllllllllllllllllllllllllllllllllllllllllllllllllllllllllllllllllllllllllllllllllllllllllllllllllllllllllllllllllllllllllllllllllllllllllllllllllllllllllllllllllllllllllllllllllllllllllllllllllllllllllllllllllllllllllllllllllll}\n",
       " 0630 & 1000 & 1026 & 1030 & 110 & 1100 & 11am & 1214 & 1230 & 1239 & ... & yum & yummaaaay & yummy & zachrafsanjani & zaykennedy69 & zeledmalegisele & ziggy & zokuhq & zombie & zzzquil\\\\\n",
       "\\hline\n",
       "\t 0   & 0   & 0   & 0   & 0   & 0   & 0   & 0   & 0   & 0   & ... & 0   & 0   & 0   & 0   & 0   & 0   & 0   & 0   & 0   & 0  \\\\\n",
       "\t 0   & 0   & 0   & 0   & 0   & 0   & 0   & 0   & 0   & 0   & ... & 0   & 0   & 0   & 0   & 0   & 0   & 0   & 0   & 0   & 0  \\\\\n",
       "\t 0   & 0   & 0   & 0   & 0   & 0   & 0   & 0   & 0   & 0   & ... & 0   & 0   & 0   & 0   & 0   & 0   & 0   & 0   & 0   & 0  \\\\\n",
       "\t 0   & 0   & 0   & 0   & 0   & 0   & 0   & 0   & 0   & 0   & ... & 0   & 0   & 0   & 0   & 0   & 0   & 0   & 0   & 0   & 0  \\\\\n",
       "\t 0   & 0   & 0   & 0   & 0   & 0   & 0   & 0   & 0   & 0   & ... & 0   & 0   & 0   & 0   & 0   & 0   & 0   & 0   & 0   & 0  \\\\\n",
       "\t 0   & 0   & 0   & 0   & 0   & 0   & 0   & 0   & 0   & 0   & ... & 0   & 0   & 0   & 0   & 0   & 0   & 0   & 0   & 0   & 0  \\\\\n",
       "\\end{tabular}\n"
      ],
      "text/markdown": [
       "\n",
       "| 0630 | 1000 | 1026 | 1030 | 110 | 1100 | 11am | 1214 | 1230 | 1239 | ... | yum | yummaaaay | yummy | zachrafsanjani | zaykennedy69 | zeledmalegisele | ziggy | zokuhq | zombie | zzzquil |\n",
       "|---|---|---|---|---|---|---|---|---|---|---|---|---|---|---|---|---|---|---|---|---|\n",
       "| 0   | 0   | 0   | 0   | 0   | 0   | 0   | 0   | 0   | 0   | ... | 0   | 0   | 0   | 0   | 0   | 0   | 0   | 0   | 0   | 0   |\n",
       "| 0   | 0   | 0   | 0   | 0   | 0   | 0   | 0   | 0   | 0   | ... | 0   | 0   | 0   | 0   | 0   | 0   | 0   | 0   | 0   | 0   |\n",
       "| 0   | 0   | 0   | 0   | 0   | 0   | 0   | 0   | 0   | 0   | ... | 0   | 0   | 0   | 0   | 0   | 0   | 0   | 0   | 0   | 0   |\n",
       "| 0   | 0   | 0   | 0   | 0   | 0   | 0   | 0   | 0   | 0   | ... | 0   | 0   | 0   | 0   | 0   | 0   | 0   | 0   | 0   | 0   |\n",
       "| 0   | 0   | 0   | 0   | 0   | 0   | 0   | 0   | 0   | 0   | ... | 0   | 0   | 0   | 0   | 0   | 0   | 0   | 0   | 0   | 0   |\n",
       "| 0   | 0   | 0   | 0   | 0   | 0   | 0   | 0   | 0   | 0   | ... | 0   | 0   | 0   | 0   | 0   | 0   | 0   | 0   | 0   | 0   |\n",
       "\n"
      ],
      "text/plain": [
       "  0630 1000 1026 1030 110 1100 11am 1214 1230 1239 ... yum yummaaaay yummy\n",
       "1 0    0    0    0    0   0    0    0    0    0    ... 0   0         0    \n",
       "2 0    0    0    0    0   0    0    0    0    0    ... 0   0         0    \n",
       "3 0    0    0    0    0   0    0    0    0    0    ... 0   0         0    \n",
       "4 0    0    0    0    0   0    0    0    0    0    ... 0   0         0    \n",
       "5 0    0    0    0    0   0    0    0    0    0    ... 0   0         0    \n",
       "6 0    0    0    0    0   0    0    0    0    0    ... 0   0         0    \n",
       "  zachrafsanjani zaykennedy69 zeledmalegisele ziggy zokuhq zombie zzzquil\n",
       "1 0              0            0               0     0      0      0      \n",
       "2 0              0            0               0     0      0      0      \n",
       "3 0              0            0               0     0      0      0      \n",
       "4 0              0            0               0     0      0      0      \n",
       "5 0              0            0               0     0      0      0      \n",
       "6 0              0            0               0     0      0      0      "
      ]
     },
     "metadata": {},
     "output_type": "display_data"
    }
   ],
   "source": [
    "# Create a TDM\n",
    "tdm <- TermDocumentMatrix(\n",
    "  clean_corp, \n",
    "  control = list(weighting = weightTfIdf)\n",
    ")\n",
    "\n",
    "head(as.matrix(tdm))\n",
    "head(as.matrix(unigram_dtm))"
   ]
  },
  {
   "cell_type": "code",
   "execution_count": null,
   "metadata": {},
   "outputs": [],
   "source": []
  }
 ],
 "metadata": {
  "kernelspec": {
   "display_name": "R",
   "language": "R",
   "name": "ir"
  },
  "language_info": {
   "codemirror_mode": "r",
   "file_extension": ".r",
   "mimetype": "text/x-r-source",
   "name": "R",
   "pygments_lexer": "r",
   "version": "3.5.1"
  },
  "toc": {
   "base_numbering": 1,
   "nav_menu": {},
   "number_sections": true,
   "sideBar": true,
   "skip_h1_title": false,
   "title_cell": "Table of Contents",
   "title_sidebar": "Contents",
   "toc_cell": true,
   "toc_position": {},
   "toc_section_display": true,
   "toc_window_display": false
  }
 },
 "nbformat": 4,
 "nbformat_minor": 2
}
