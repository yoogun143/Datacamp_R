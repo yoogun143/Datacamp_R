{
 "cells": [
  {
   "cell_type": "code",
   "execution_count": 2,
   "metadata": {},
   "outputs": [
    {
     "name": "stdout",
     "output_type": "stream",
     "text": [
      "List of 3\n",
      " $ Search      :'data.frame':\t3 obs. of  5 variables:\n",
      "  ..$ Title : chr [1:3] \"Avengers: Infinity War\" \"Avengers: Infinity War - Strange Alchemy\" \"Avengers: Infinity War - Part II\"\n",
      "  ..$ Year  : chr [1:3] \"2018\" \"2018\" \"2019\"\n",
      "  ..$ imdbID: chr [1:3] \"tt4154756\" \"tt8850118\" \"tt4154868\"\n",
      "  ..$ Type  : chr [1:3] \"movie\" \"movie\" \"movie\"\n",
      "  ..$ Poster: chr [1:3] \"https://m.media-amazon.com/images/M/MV5BMjMxNjY2MDU1OV5BMl5BanBnXkFtZTgwNzY1MTUwNTM@._V1_SX300.jpg\" \"N/A\" \"N/A\"\n",
      " $ totalResults: chr \"3\"\n",
      " $ Response    : chr \"True\"\n"
     ]
    }
   ],
   "source": [
    "# Load the jsonlite package\n",
    "library(jsonlite)\n",
    "\n",
    "#### IMPORT JSON FROM OMDBAPI.COM API(should visit website)\n",
    "# Definition of the URLs for Infinity War\n",
    "url_sw4 <- \"http://www.omdbapi.com/?apikey=8ced5759&s=Infinity%20War&r=json\"\n",
    "\n",
    "# Import  URLs with fromJSON()\n",
    "sw4 <- fromJSON(url_sw4)\n",
    "\n",
    "# Print structure of sw4\n",
    "str(sw4)"
   ]
  },
  {
   "cell_type": "code",
   "execution_count": 3,
   "metadata": {},
   "outputs": [
    {
     "data": {
      "text/plain": [
       "{\"Search\":[{\"Title\":\"Avengers: Infinity War\",\"Year\":\"2018\",\"imdbID\":\"tt4154756\",\"Type\":\"movie\",\"Poster\":\"https://m.media-amazon.com/images/M/MV5BMjMxNjY2MDU1OV5BMl5BanBnXkFtZTgwNzY1MTUwNTM@._V1_SX300.jpg\"},{\"Title\":\"Avengers: Infinity War - Strange Alchemy\",\"Year\":\"2018\",\"imdbID\":\"tt8850118\",\"Type\":\"movie\",\"Poster\":\"N/A\"},{\"Title\":\"Avengers: Infinity War - Part II\",\"Year\":\"2019\",\"imdbID\":\"tt4154868\",\"Type\":\"movie\",\"Poster\":\"N/A\"}],\"totalResults\":[\"3\"],\"Response\":[\"True\"]} "
      ]
     },
     "metadata": {},
     "output_type": "display_data"
    }
   ],
   "source": [
    "## TRANSPOSE TO JSON FROM DATAFRAME\n",
    "toJSON(sw4)"
   ]
  },
  {
   "cell_type": "code",
   "execution_count": 4,
   "metadata": {},
   "outputs": [
    {
     "data": {
      "text/plain": [
       "{\n",
       "  \"Search\": [\n",
       "    {\n",
       "      \"Title\": \"Avengers: Infinity War\",\n",
       "      \"Year\": \"2018\",\n",
       "      \"imdbID\": \"tt4154756\",\n",
       "      \"Type\": \"movie\",\n",
       "      \"Poster\": \"https://m.media-amazon.com/images/M/MV5BMjMxNjY2MDU1OV5BMl5BanBnXkFtZTgwNzY1MTUwNTM@._V1_SX300.jpg\"\n",
       "    },\n",
       "    {\n",
       "      \"Title\": \"Avengers: Infinity War - Strange Alchemy\",\n",
       "      \"Year\": \"2018\",\n",
       "      \"imdbID\": \"tt8850118\",\n",
       "      \"Type\": \"movie\",\n",
       "      \"Poster\": \"N/A\"\n",
       "    },\n",
       "    {\n",
       "      \"Title\": \"Avengers: Infinity War - Part II\",\n",
       "      \"Year\": \"2019\",\n",
       "      \"imdbID\": \"tt4154868\",\n",
       "      \"Type\": \"movie\",\n",
       "      \"Poster\": \"N/A\"\n",
       "    }\n",
       "  ],\n",
       "  \"totalResults\": [\"3\"],\n",
       "  \"Response\": [\"True\"]\n",
       "} "
      ]
     },
     "metadata": {},
     "output_type": "display_data"
    },
    {
     "data": {
      "text/plain": [
       "{\"Search\":[{\"Title\":\"Avengers: Infinity War\",\"Year\":\"2018\",\"imdbID\":\"tt4154756\",\"Type\":\"movie\",\"Poster\":\"https://m.media-amazon.com/images/M/MV5BMjMxNjY2MDU1OV5BMl5BanBnXkFtZTgwNzY1MTUwNTM@._V1_SX300.jpg\"},{\"Title\":\"Avengers: Infinity War - Strange Alchemy\",\"Year\":\"2018\",\"imdbID\":\"tt8850118\",\"Type\":\"movie\",\"Poster\":\"N/A\"},{\"Title\":\"Avengers: Infinity War - Part II\",\"Year\":\"2019\",\"imdbID\":\"tt4154868\",\"Type\":\"movie\",\"Poster\":\"N/A\"}],\"totalResults\":[\"3\"],\"Response\":[\"True\"]} "
      ]
     },
     "metadata": {},
     "output_type": "display_data"
    }
   ],
   "source": [
    "#### MINIFY AND PRETTIFY JSON\n",
    "(pretty_sw4 <- toJSON(sw4, pretty = TRUE))\n",
    "minify(pretty_sw4)"
   ]
  },
  {
   "cell_type": "code",
   "execution_count": null,
   "metadata": {},
   "outputs": [],
   "source": []
  }
 ],
 "metadata": {
  "kernelspec": {
   "display_name": "R",
   "language": "R",
   "name": "ir"
  },
  "language_info": {
   "codemirror_mode": "r",
   "file_extension": ".r",
   "mimetype": "text/x-r-source",
   "name": "R",
   "pygments_lexer": "r",
   "version": "3.5.1"
  }
 },
 "nbformat": 4,
 "nbformat_minor": 2
}
