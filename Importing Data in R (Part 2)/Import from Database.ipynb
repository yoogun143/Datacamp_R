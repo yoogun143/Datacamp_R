{
 "cells": [
  {
   "cell_type": "code",
   "execution_count": 4,
   "metadata": {},
   "outputs": [],
   "source": [
    "# (x): not in the lesson\n",
    "# Load the DBI package\n",
    "library(DBI)\n",
    "library(RMySQL)"
   ]
  },
  {
   "cell_type": "code",
   "execution_count": 11,
   "metadata": {},
   "outputs": [
    {
     "ename": "ERROR",
     "evalue": "Error in .local(drv, ...): Failed to connect to database: Error: Plugin caching_sha2_password could not be loaded: The specified module could not be found.\r\n\n\n",
     "output_type": "error",
     "traceback": [
      "Error in .local(drv, ...): Failed to connect to database: Error: Plugin caching_sha2_password could not be loaded: The specified module could not be found.\r\n\n\nTraceback:\n",
      "1. dbConnect(MySQL(), user = \"root\", password = \"1234\", dbname = \"test\", \n .     host = \"localhost\")",
      "2. dbConnect(MySQL(), user = \"root\", password = \"1234\", dbname = \"test\", \n .     host = \"localhost\")",
      "3. .local(drv, ...)"
     ]
    }
   ],
   "source": [
    "# Create connection to MySQL on localhost (x)\n",
    "con = dbConnect(MySQL(), \n",
    "                user = 'root', \n",
    "                password = '1234', \n",
    "                dbname = 'test',\n",
    "                host = 'localhost')"
   ]
  },
  {
   "cell_type": "code",
   "execution_count": 12,
   "metadata": {},
   "outputs": [],
   "source": [
    "# Edit dbConnect() call\n",
    "con <- dbConnect(MySQL(), \n",
    "                 dbname = \"tweater\", \n",
    "                 host = \"courses.csrrinzqubik.us-east-1.rds.amazonaws.com\", \n",
    "                 port = 3306,\n",
    "                 user = \"student\",\n",
    "                 password = \"datacamp\")"
   ]
  },
  {
   "cell_type": "markdown",
   "metadata": {},
   "source": [
    "## GET TABLE NAMES IN SCHEMA"
   ]
  },
  {
   "cell_type": "code",
   "execution_count": 13,
   "metadata": {},
   "outputs": [
    {
     "name": "stdout",
     "output_type": "stream",
     "text": [
      " chr [1:3] \"comments\" \"tweats\" \"users\"\n"
     ]
    }
   ],
   "source": [
    "# Get table names: tables\n",
    "table_names <- dbListTables(con)\n",
    "\n",
    "# Display structure of tables\n",
    "str(table_names)"
   ]
  },
  {
   "cell_type": "markdown",
   "metadata": {},
   "source": [
    "## IMPORT 1 TABLE"
   ]
  },
  {
   "cell_type": "code",
   "execution_count": 14,
   "metadata": {},
   "outputs": [
    {
     "data": {
      "text/html": [
       "<table>\n",
       "<thead><tr><th scope=col>id</th><th scope=col>name</th><th scope=col>login</th></tr></thead>\n",
       "<tbody>\n",
       "\t<tr><td>1        </td><td>elisabeth</td><td>elismith </td></tr>\n",
       "\t<tr><td>2        </td><td>mike     </td><td>mikey    </td></tr>\n",
       "\t<tr><td>3        </td><td>thea     </td><td>teatime  </td></tr>\n",
       "\t<tr><td>4        </td><td>thomas   </td><td>tomatotom</td></tr>\n",
       "\t<tr><td>5        </td><td>oliver   </td><td>olivander</td></tr>\n",
       "\t<tr><td>6        </td><td>kate     </td><td>katebenn </td></tr>\n",
       "\t<tr><td>7        </td><td>anjali   </td><td>lianja   </td></tr>\n",
       "</tbody>\n",
       "</table>\n"
      ],
      "text/latex": [
       "\\begin{tabular}{r|lll}\n",
       " id & name & login\\\\\n",
       "\\hline\n",
       "\t 1         & elisabeth & elismith \\\\\n",
       "\t 2         & mike      & mikey    \\\\\n",
       "\t 3         & thea      & teatime  \\\\\n",
       "\t 4         & thomas    & tomatotom\\\\\n",
       "\t 5         & oliver    & olivander\\\\\n",
       "\t 6         & kate      & katebenn \\\\\n",
       "\t 7         & anjali    & lianja   \\\\\n",
       "\\end{tabular}\n"
      ],
      "text/markdown": [
       "\n",
       "| id | name | login |\n",
       "|---|---|---|\n",
       "| 1         | elisabeth | elismith  |\n",
       "| 2         | mike      | mikey     |\n",
       "| 3         | thea      | teatime   |\n",
       "| 4         | thomas    | tomatotom |\n",
       "| 5         | oliver    | olivander |\n",
       "| 6         | kate      | katebenn  |\n",
       "| 7         | anjali    | lianja    |\n",
       "\n"
      ],
      "text/plain": [
       "  id name      login    \n",
       "1 1  elisabeth elismith \n",
       "2 2  mike      mikey    \n",
       "3 3  thea      teatime  \n",
       "4 4  thomas    tomatotom\n",
       "5 5  oliver    olivander\n",
       "6 6  kate      katebenn \n",
       "7 7  anjali    lianja   "
      ]
     },
     "metadata": {},
     "output_type": "display_data"
    }
   ],
   "source": [
    "# Import the users table from tweater: users\n",
    "users <- dbReadTable(con, \"users\")\n",
    "\n",
    "# Print users\n",
    "users"
   ]
  },
  {
   "cell_type": "markdown",
   "metadata": {},
   "source": [
    "## IMPORT ALL TABLES"
   ]
  },
  {
   "cell_type": "code",
   "execution_count": 15,
   "metadata": {},
   "outputs": [
    {
     "data": {
      "text/html": [
       "<ol>\n",
       "\t<li><table>\n",
       "<thead><tr><th scope=col>id</th><th scope=col>tweat_id</th><th scope=col>user_id</th><th scope=col>message</th></tr></thead>\n",
       "<tbody>\n",
       "\t<tr><td>1022              </td><td>87                </td><td>7                 </td><td>nice!             </td></tr>\n",
       "\t<tr><td>1000              </td><td>77                </td><td>7                 </td><td>great!            </td></tr>\n",
       "\t<tr><td>1011              </td><td>49                </td><td>5                 </td><td>love it           </td></tr>\n",
       "\t<tr><td>1012              </td><td>87                </td><td>1                 </td><td>awesome! thanks!  </td></tr>\n",
       "\t<tr><td>1010              </td><td>88                </td><td>6                 </td><td>yuck!             </td></tr>\n",
       "\t<tr><td>1026              </td><td>77                </td><td>4                 </td><td>not my thing!     </td></tr>\n",
       "\t<tr><td>1004              </td><td>49                </td><td>1                 </td><td>this is fabulous! </td></tr>\n",
       "\t<tr><td>1030              </td><td>75                </td><td>6                 </td><td>so easy!          </td></tr>\n",
       "\t<tr><td>1025              </td><td>88                </td><td>2                 </td><td>oh yes            </td></tr>\n",
       "\t<tr><td>1007              </td><td>49                </td><td>3                 </td><td>serious?          </td></tr>\n",
       "\t<tr><td>1020              </td><td>77                </td><td>1                 </td><td>couldn't be better</td></tr>\n",
       "\t<tr><td>1014              </td><td>77                </td><td>1                 </td><td>saved my day      </td></tr>\n",
       "</tbody>\n",
       "</table>\n",
       "</li>\n",
       "\t<li><table>\n",
       "<thead><tr><th scope=col>id</th><th scope=col>user_id</th><th scope=col>post</th><th scope=col>date</th></tr></thead>\n",
       "<tbody>\n",
       "\t<tr><td>75                                                                 </td><td>3                                                                  </td><td>break egg. bake egg. eat egg.                                      </td><td>2015-09-05                                                         </td></tr>\n",
       "\t<tr><td>88                                                                 </td><td>4                                                                  </td><td>wash strawberries. add ice. blend. enjoy.                          </td><td>2015-09-14                                                         </td></tr>\n",
       "\t<tr><td>77                                                                 </td><td>6                                                                  </td><td>2 slices of bread. add cheese. grill. heaven.                      </td><td>2015-09-21                                                         </td></tr>\n",
       "\t<tr><td>87                                                                 </td><td>5                                                                  </td><td>open and crush avocado. add shrimps. perfect starter.              </td><td>2015-09-22                                                         </td></tr>\n",
       "\t<tr><td>49                                                                 </td><td>1                                                                  </td><td>nachos. add tomato sauce, minced meat and cheese. oven for 10 mins.</td><td>2015-09-22                                                         </td></tr>\n",
       "\t<tr><td>24                                                                 </td><td>7                                                                  </td><td>just eat an apple. simply and healthy.                             </td><td>2015-09-24                                                         </td></tr>\n",
       "</tbody>\n",
       "</table>\n",
       "</li>\n",
       "\t<li><table>\n",
       "<thead><tr><th scope=col>id</th><th scope=col>name</th><th scope=col>login</th></tr></thead>\n",
       "<tbody>\n",
       "\t<tr><td>1        </td><td>elisabeth</td><td>elismith </td></tr>\n",
       "\t<tr><td>2        </td><td>mike     </td><td>mikey    </td></tr>\n",
       "\t<tr><td>3        </td><td>thea     </td><td>teatime  </td></tr>\n",
       "\t<tr><td>4        </td><td>thomas   </td><td>tomatotom</td></tr>\n",
       "\t<tr><td>5        </td><td>oliver   </td><td>olivander</td></tr>\n",
       "\t<tr><td>6        </td><td>kate     </td><td>katebenn </td></tr>\n",
       "\t<tr><td>7        </td><td>anjali   </td><td>lianja   </td></tr>\n",
       "</tbody>\n",
       "</table>\n",
       "</li>\n",
       "</ol>\n"
      ],
      "text/latex": [
       "\\begin{enumerate}\n",
       "\\item \\begin{tabular}{r|llll}\n",
       " id & tweat\\_id & user\\_id & message\\\\\n",
       "\\hline\n",
       "\t 1022               & 87                 & 7                  & nice!             \\\\\n",
       "\t 1000               & 77                 & 7                  & great!            \\\\\n",
       "\t 1011               & 49                 & 5                  & love it           \\\\\n",
       "\t 1012               & 87                 & 1                  & awesome! thanks!  \\\\\n",
       "\t 1010               & 88                 & 6                  & yuck!             \\\\\n",
       "\t 1026               & 77                 & 4                  & not my thing!     \\\\\n",
       "\t 1004               & 49                 & 1                  & this is fabulous! \\\\\n",
       "\t 1030               & 75                 & 6                  & so easy!          \\\\\n",
       "\t 1025               & 88                 & 2                  & oh yes            \\\\\n",
       "\t 1007               & 49                 & 3                  & serious?          \\\\\n",
       "\t 1020               & 77                 & 1                  & couldn't be better\\\\\n",
       "\t 1014               & 77                 & 1                  & saved my day      \\\\\n",
       "\\end{tabular}\n",
       "\n",
       "\\item \\begin{tabular}{r|llll}\n",
       " id & user\\_id & post & date\\\\\n",
       "\\hline\n",
       "\t 75                                                                  & 3                                                                   & break egg. bake egg. eat egg.                                       & 2015-09-05                                                         \\\\\n",
       "\t 88                                                                  & 4                                                                   & wash strawberries. add ice. blend. enjoy.                           & 2015-09-14                                                         \\\\\n",
       "\t 77                                                                  & 6                                                                   & 2 slices of bread. add cheese. grill. heaven.                       & 2015-09-21                                                         \\\\\n",
       "\t 87                                                                  & 5                                                                   & open and crush avocado. add shrimps. perfect starter.               & 2015-09-22                                                         \\\\\n",
       "\t 49                                                                  & 1                                                                   & nachos. add tomato sauce, minced meat and cheese. oven for 10 mins. & 2015-09-22                                                         \\\\\n",
       "\t 24                                                                  & 7                                                                   & just eat an apple. simply and healthy.                              & 2015-09-24                                                         \\\\\n",
       "\\end{tabular}\n",
       "\n",
       "\\item \\begin{tabular}{r|lll}\n",
       " id & name & login\\\\\n",
       "\\hline\n",
       "\t 1         & elisabeth & elismith \\\\\n",
       "\t 2         & mike      & mikey    \\\\\n",
       "\t 3         & thea      & teatime  \\\\\n",
       "\t 4         & thomas    & tomatotom\\\\\n",
       "\t 5         & oliver    & olivander\\\\\n",
       "\t 6         & kate      & katebenn \\\\\n",
       "\t 7         & anjali    & lianja   \\\\\n",
       "\\end{tabular}\n",
       "\n",
       "\\end{enumerate}\n"
      ],
      "text/markdown": [
       "1. \n",
       "| id | tweat_id | user_id | message |\n",
       "|---|---|---|---|\n",
       "| 1022               | 87                 | 7                  | nice!              |\n",
       "| 1000               | 77                 | 7                  | great!             |\n",
       "| 1011               | 49                 | 5                  | love it            |\n",
       "| 1012               | 87                 | 1                  | awesome! thanks!   |\n",
       "| 1010               | 88                 | 6                  | yuck!              |\n",
       "| 1026               | 77                 | 4                  | not my thing!      |\n",
       "| 1004               | 49                 | 1                  | this is fabulous!  |\n",
       "| 1030               | 75                 | 6                  | so easy!           |\n",
       "| 1025               | 88                 | 2                  | oh yes             |\n",
       "| 1007               | 49                 | 3                  | serious?           |\n",
       "| 1020               | 77                 | 1                  | couldn't be better |\n",
       "| 1014               | 77                 | 1                  | saved my day       |\n",
       "\n",
       "\n",
       "2. \n",
       "| id | user_id | post | date |\n",
       "|---|---|---|---|\n",
       "| 75                                                                  | 3                                                                   | break egg. bake egg. eat egg.                                       | 2015-09-05                                                          |\n",
       "| 88                                                                  | 4                                                                   | wash strawberries. add ice. blend. enjoy.                           | 2015-09-14                                                          |\n",
       "| 77                                                                  | 6                                                                   | 2 slices of bread. add cheese. grill. heaven.                       | 2015-09-21                                                          |\n",
       "| 87                                                                  | 5                                                                   | open and crush avocado. add shrimps. perfect starter.               | 2015-09-22                                                          |\n",
       "| 49                                                                  | 1                                                                   | nachos. add tomato sauce, minced meat and cheese. oven for 10 mins. | 2015-09-22                                                          |\n",
       "| 24                                                                  | 7                                                                   | just eat an apple. simply and healthy.                              | 2015-09-24                                                          |\n",
       "\n",
       "\n",
       "3. \n",
       "| id | name | login |\n",
       "|---|---|---|\n",
       "| 1         | elisabeth | elismith  |\n",
       "| 2         | mike      | mikey     |\n",
       "| 3         | thea      | teatime   |\n",
       "| 4         | thomas    | tomatotom |\n",
       "| 5         | oliver    | olivander |\n",
       "| 6         | kate      | katebenn  |\n",
       "| 7         | anjali    | lianja    |\n",
       "\n",
       "\n",
       "\n",
       "\n"
      ],
      "text/plain": [
       "[[1]]\n",
       "     id tweat_id user_id            message\n",
       "1  1022       87       7              nice!\n",
       "2  1000       77       7             great!\n",
       "3  1011       49       5            love it\n",
       "4  1012       87       1   awesome! thanks!\n",
       "5  1010       88       6              yuck!\n",
       "6  1026       77       4      not my thing!\n",
       "7  1004       49       1  this is fabulous!\n",
       "8  1030       75       6           so easy!\n",
       "9  1025       88       2             oh yes\n",
       "10 1007       49       3           serious?\n",
       "11 1020       77       1 couldn't be better\n",
       "12 1014       77       1       saved my day\n",
       "\n",
       "[[2]]\n",
       "  id user_id\n",
       "1 75       3\n",
       "2 88       4\n",
       "3 77       6\n",
       "4 87       5\n",
       "5 49       1\n",
       "6 24       7\n",
       "                                                                 post\n",
       "1                                       break egg. bake egg. eat egg.\n",
       "2                           wash strawberries. add ice. blend. enjoy.\n",
       "3                       2 slices of bread. add cheese. grill. heaven.\n",
       "4               open and crush avocado. add shrimps. perfect starter.\n",
       "5 nachos. add tomato sauce, minced meat and cheese. oven for 10 mins.\n",
       "6                              just eat an apple. simply and healthy.\n",
       "        date\n",
       "1 2015-09-05\n",
       "2 2015-09-14\n",
       "3 2015-09-21\n",
       "4 2015-09-22\n",
       "5 2015-09-22\n",
       "6 2015-09-24\n",
       "\n",
       "[[3]]\n",
       "  id      name     login\n",
       "1  1 elisabeth  elismith\n",
       "2  2      mike     mikey\n",
       "3  3      thea   teatime\n",
       "4  4    thomas tomatotom\n",
       "5  5    oliver olivander\n",
       "6  6      kate  katebenn\n",
       "7  7    anjali    lianja\n"
      ]
     },
     "metadata": {},
     "output_type": "display_data"
    }
   ],
   "source": [
    "# Import all tables\n",
    "tables <- lapply(table_names, dbReadTable, conn = con)\n",
    "\n",
    "# Print out tables\n",
    "tables"
   ]
  },
  {
   "cell_type": "markdown",
   "metadata": {},
   "source": [
    "## SOME QUERY"
   ]
  },
  {
   "cell_type": "code",
   "execution_count": 16,
   "metadata": {},
   "outputs": [
    {
     "data": {
      "text/html": [
       "<table>\n",
       "<thead><tr><th scope=col>message</th></tr></thead>\n",
       "<tbody>\n",
       "\t<tr><td>great!</td></tr>\n",
       "</tbody>\n",
       "</table>\n"
      ],
      "text/latex": [
       "\\begin{tabular}{r|l}\n",
       " message\\\\\n",
       "\\hline\n",
       "\t great!\\\\\n",
       "\\end{tabular}\n"
      ],
      "text/markdown": [
       "\n",
       "| message |\n",
       "|---|\n",
       "| great! |\n",
       "\n"
      ],
      "text/plain": [
       "  message\n",
       "1 great! "
      ]
     },
     "metadata": {},
     "output_type": "display_data"
    }
   ],
   "source": [
    "# Create data frame specific\n",
    "specific <- dbGetQuery(con, \"SELECT message FROM comments WHERE tweat_id = 77 and user_id > 4\")\n",
    "\n",
    "# Print specific\n",
    "specific"
   ]
  },
  {
   "cell_type": "code",
   "execution_count": 17,
   "metadata": {},
   "outputs": [
    {
     "data": {
      "text/html": [
       "<table>\n",
       "<thead><tr><th scope=col>id</th><th scope=col>name</th></tr></thead>\n",
       "<tbody>\n",
       "\t<tr><td>2   </td><td>mike</td></tr>\n",
       "\t<tr><td>3   </td><td>thea</td></tr>\n",
       "\t<tr><td>6   </td><td>kate</td></tr>\n",
       "</tbody>\n",
       "</table>\n"
      ],
      "text/latex": [
       "\\begin{tabular}{r|ll}\n",
       " id & name\\\\\n",
       "\\hline\n",
       "\t 2    & mike\\\\\n",
       "\t 3    & thea\\\\\n",
       "\t 6    & kate\\\\\n",
       "\\end{tabular}\n"
      ],
      "text/markdown": [
       "\n",
       "| id | name |\n",
       "|---|---|\n",
       "| 2    | mike |\n",
       "| 3    | thea |\n",
       "| 6    | kate |\n",
       "\n"
      ],
      "text/plain": [
       "  id name\n",
       "1 2  mike\n",
       "2 3  thea\n",
       "3 6  kate"
      ]
     },
     "metadata": {},
     "output_type": "display_data"
    }
   ],
   "source": [
    "# Create data frame short\n",
    "short <- dbGetQuery(con, \"SELECT id, name FROM users WHERE char_length(name) < 5\")\n",
    "\n",
    "# Print short\n",
    "short"
   ]
  },
  {
   "cell_type": "code",
   "execution_count": 18,
   "metadata": {},
   "outputs": [
    {
     "data": {
      "text/html": [
       "<table>\n",
       "<thead><tr><th scope=col>post</th><th scope=col>message</th></tr></thead>\n",
       "<tbody>\n",
       "\t<tr><td>2 slices of bread. add cheese. grill. heaven.</td><td>great!                                       </td></tr>\n",
       "\t<tr><td>2 slices of bread. add cheese. grill. heaven.</td><td>not my thing!                                </td></tr>\n",
       "\t<tr><td>2 slices of bread. add cheese. grill. heaven.</td><td>couldn't be better                           </td></tr>\n",
       "\t<tr><td>2 slices of bread. add cheese. grill. heaven.</td><td>saved my day                                 </td></tr>\n",
       "</tbody>\n",
       "</table>\n"
      ],
      "text/latex": [
       "\\begin{tabular}{r|ll}\n",
       " post & message\\\\\n",
       "\\hline\n",
       "\t 2 slices of bread. add cheese. grill. heaven. & great!                                       \\\\\n",
       "\t 2 slices of bread. add cheese. grill. heaven. & not my thing!                                \\\\\n",
       "\t 2 slices of bread. add cheese. grill. heaven. & couldn't be better                           \\\\\n",
       "\t 2 slices of bread. add cheese. grill. heaven. & saved my day                                 \\\\\n",
       "\\end{tabular}\n"
      ],
      "text/markdown": [
       "\n",
       "| post | message |\n",
       "|---|---|\n",
       "| 2 slices of bread. add cheese. grill. heaven. | great!                                        |\n",
       "| 2 slices of bread. add cheese. grill. heaven. | not my thing!                                 |\n",
       "| 2 slices of bread. add cheese. grill. heaven. | couldn't be better                            |\n",
       "| 2 slices of bread. add cheese. grill. heaven. | saved my day                                  |\n",
       "\n"
      ],
      "text/plain": [
       "  post                                          message           \n",
       "1 2 slices of bread. add cheese. grill. heaven. great!            \n",
       "2 2 slices of bread. add cheese. grill. heaven. not my thing!     \n",
       "3 2 slices of bread. add cheese. grill. heaven. couldn't be better\n",
       "4 2 slices of bread. add cheese. grill. heaven. saved my day      "
      ]
     },
     "metadata": {},
     "output_type": "display_data"
    }
   ],
   "source": [
    "# Create dataframe join\n",
    "join <- dbGetQuery(con, \"SELECT post, message\n",
    "  FROM tweats INNER JOIN comments on tweats.id = tweat_id\n",
    "                   WHERE tweat_id = 77\")\n",
    "\n",
    "# Print join\n",
    "join"
   ]
  },
  {
   "cell_type": "markdown",
   "metadata": {},
   "source": [
    "## ALTERNATIVE TO DBGETQUERY, FETCH RESULTS IN CHUNK"
   ]
  },
  {
   "cell_type": "code",
   "execution_count": 19,
   "metadata": {},
   "outputs": [
    {
     "data": {
      "text/html": [
       "<table>\n",
       "<thead><tr><th scope=col>id</th><th scope=col>tweat_id</th><th scope=col>user_id</th><th scope=col>message</th></tr></thead>\n",
       "<tbody>\n",
       "\t<tr><td>1022  </td><td>87    </td><td>7     </td><td>nice! </td></tr>\n",
       "\t<tr><td>1000  </td><td>77    </td><td>7     </td><td>great!</td></tr>\n",
       "</tbody>\n",
       "</table>\n"
      ],
      "text/latex": [
       "\\begin{tabular}{r|llll}\n",
       " id & tweat\\_id & user\\_id & message\\\\\n",
       "\\hline\n",
       "\t 1022   & 87     & 7      & nice! \\\\\n",
       "\t 1000   & 77     & 7      & great!\\\\\n",
       "\\end{tabular}\n"
      ],
      "text/markdown": [
       "\n",
       "| id | tweat_id | user_id | message |\n",
       "|---|---|---|---|\n",
       "| 1022   | 87     | 7      | nice!  |\n",
       "| 1000   | 77     | 7      | great! |\n",
       "\n"
      ],
      "text/plain": [
       "  id   tweat_id user_id message\n",
       "1 1022 87       7       nice!  \n",
       "2 1000 77       7       great! "
      ]
     },
     "metadata": {},
     "output_type": "display_data"
    },
    {
     "data": {
      "text/html": [
       "<table>\n",
       "<thead><tr><th scope=col>id</th><th scope=col>tweat_id</th><th scope=col>user_id</th><th scope=col>message</th></tr></thead>\n",
       "<tbody>\n",
       "\t<tr><td>1011    </td><td>49      </td><td>5       </td><td>love it </td></tr>\n",
       "\t<tr><td>1010    </td><td>88      </td><td>6       </td><td>yuck!   </td></tr>\n",
       "\t<tr><td>1030    </td><td>75      </td><td>6       </td><td>so easy!</td></tr>\n",
       "</tbody>\n",
       "</table>\n"
      ],
      "text/latex": [
       "\\begin{tabular}{r|llll}\n",
       " id & tweat\\_id & user\\_id & message\\\\\n",
       "\\hline\n",
       "\t 1011     & 49       & 5        & love it \\\\\n",
       "\t 1010     & 88       & 6        & yuck!   \\\\\n",
       "\t 1030     & 75       & 6        & so easy!\\\\\n",
       "\\end{tabular}\n"
      ],
      "text/markdown": [
       "\n",
       "| id | tweat_id | user_id | message |\n",
       "|---|---|---|---|\n",
       "| 1011     | 49       | 5        | love it  |\n",
       "| 1010     | 88       | 6        | yuck!    |\n",
       "| 1030     | 75       | 6        | so easy! |\n",
       "\n"
      ],
      "text/plain": [
       "  id   tweat_id user_id message \n",
       "1 1011 49       5       love it \n",
       "2 1010 88       6       yuck!   \n",
       "3 1030 75       6       so easy!"
      ]
     },
     "metadata": {},
     "output_type": "display_data"
    },
    {
     "data": {
      "text/html": [
       "TRUE"
      ],
      "text/latex": [
       "TRUE"
      ],
      "text/markdown": [
       "TRUE"
      ],
      "text/plain": [
       "[1] TRUE"
      ]
     },
     "metadata": {},
     "output_type": "display_data"
    }
   ],
   "source": [
    "# Send query to the database\n",
    "res <- dbSendQuery(con, \"SELECT * FROM comments WHERE user_id > 4\")\n",
    "\n",
    "# Fetching the result of executing the query on the database\n",
    "dbFetch(res, n =2)\n",
    "dbFetch(res)\n",
    "\n",
    "# Clear res\n",
    "dbClearResult(res)"
   ]
  },
  {
   "cell_type": "markdown",
   "metadata": {},
   "source": [
    "## DISCONNECT DATABASE"
   ]
  },
  {
   "cell_type": "code",
   "execution_count": 20,
   "metadata": {},
   "outputs": [
    {
     "data": {
      "text/html": [
       "TRUE"
      ],
      "text/latex": [
       "TRUE"
      ],
      "text/markdown": [
       "TRUE"
      ],
      "text/plain": [
       "[1] TRUE"
      ]
     },
     "metadata": {},
     "output_type": "display_data"
    }
   ],
   "source": [
    "# Disconnect from the database\n",
    "dbDisconnect(con)"
   ]
  }
 ],
 "metadata": {
  "kernelspec": {
   "display_name": "R",
   "language": "R",
   "name": "ir"
  },
  "language_info": {
   "codemirror_mode": "r",
   "file_extension": ".r",
   "mimetype": "text/x-r-source",
   "name": "R",
   "pygments_lexer": "r",
   "version": "3.5.1"
  }
 },
 "nbformat": 4,
 "nbformat_minor": 2
}
