{
 "cells": [
  {
   "cell_type": "code",
   "execution_count": 1,
   "metadata": {},
   "outputs": [
    {
     "name": "stderr",
     "output_type": "stream",
     "text": [
      "Parsed with column specification:\n",
      "cols(\n",
      "  name = col_character(),\n",
      "  id = col_character(),\n",
      "  align = col_character(),\n",
      "  eye = col_character(),\n",
      "  hair = col_character(),\n",
      "  gender = col_character(),\n",
      "  gsm = col_character(),\n",
      "  alive = col_character(),\n",
      "  appearances = col_double(),\n",
      "  first_appear = col_character(),\n",
      "  publisher = col_character()\n",
      ")\n"
     ]
    },
    {
     "data": {
      "text/html": [
       "<table>\n",
       "<thead><tr><th scope=col>name</th><th scope=col>id</th><th scope=col>align</th><th scope=col>eye</th><th scope=col>hair</th><th scope=col>gender</th><th scope=col>gsm</th><th scope=col>alive</th><th scope=col>appearances</th><th scope=col>first_appear</th><th scope=col>publisher</th></tr></thead>\n",
       "<tbody>\n",
       "\t<tr><td>Spider-Man (Peter Parker)            </td><td>Secret                               </td><td>Good                                 </td><td>Hazel Eyes                           </td><td>Brown Hair                           </td><td>Male                                 </td><td>NA                                   </td><td>Living Characters                    </td><td>4043                                 </td><td>Aug-62                               </td><td>marvel                               </td></tr>\n",
       "\t<tr><td>Captain America (Steven Rogers)      </td><td>Public                               </td><td>Good                                 </td><td>Blue Eyes                            </td><td>White Hair                           </td><td>Male                                 </td><td>NA                                   </td><td>Living Characters                    </td><td>3360                                 </td><td>Mar-41                               </td><td>marvel                               </td></tr>\n",
       "\t<tr><td>Wolverine (James \\\"Logan\\\" Howlett)</td><td>Public                               </td><td>Neutral                              </td><td>Blue Eyes                            </td><td>Black Hair                           </td><td>Male                                 </td><td>NA                                   </td><td>Living Characters                    </td><td>3061                                 </td><td>Oct-74                               </td><td>marvel                               </td></tr>\n",
       "\t<tr><td>Iron Man (Anthony \\\"Tony\\\" Stark)  </td><td>Public                               </td><td>Good                                 </td><td>Blue Eyes                            </td><td>Black Hair                           </td><td>Male                                 </td><td>NA                                   </td><td>Living Characters                    </td><td>2961                                 </td><td>Mar-63                               </td><td>marvel                               </td></tr>\n",
       "\t<tr><td>Thor (Thor Odinson)                  </td><td>No Dual                              </td><td>Good                                 </td><td>Blue Eyes                            </td><td>Blond Hair                           </td><td>Male                                 </td><td>NA                                   </td><td>Living Characters                    </td><td>2258                                 </td><td>Nov-50                               </td><td>marvel                               </td></tr>\n",
       "\t<tr><td>Benjamin Grimm (Earth-616)           </td><td>Public                               </td><td>Good                                 </td><td>Blue Eyes                            </td><td>No Hair                              </td><td>Male                                 </td><td>NA                                   </td><td>Living Characters                    </td><td>2255                                 </td><td>Nov-61                               </td><td>marvel                               </td></tr>\n",
       "</tbody>\n",
       "</table>\n"
      ],
      "text/latex": [
       "\\begin{tabular}{r|lllllllllll}\n",
       " name & id & align & eye & hair & gender & gsm & alive & appearances & first\\_appear & publisher\\\\\n",
       "\\hline\n",
       "\t Spider-Man (Peter Parker)             & Secret                                & Good                                  & Hazel Eyes                            & Brown Hair                            & Male                                  & NA                                    & Living Characters                     & 4043                                  & Aug-62                                & marvel                               \\\\\n",
       "\t Captain America (Steven Rogers)       & Public                                & Good                                  & Blue Eyes                             & White Hair                            & Male                                  & NA                                    & Living Characters                     & 3360                                  & Mar-41                                & marvel                               \\\\\n",
       "\t Wolverine (James \\textbackslash{}\"Logan\\textbackslash{}\" Howlett) & Public                                                              & Neutral                                                             & Blue Eyes                                                           & Black Hair                                                          & Male                                                                & NA                                                                  & Living Characters                                                   & 3061                                                                & Oct-74                                                              & marvel                                                             \\\\\n",
       "\t Iron Man (Anthony \\textbackslash{}\"Tony\\textbackslash{}\" Stark)   & Public                                                              & Good                                                                & Blue Eyes                                                           & Black Hair                                                          & Male                                                                & NA                                                                  & Living Characters                                                   & 2961                                                                & Mar-63                                                              & marvel                                                             \\\\\n",
       "\t Thor (Thor Odinson)                   & No Dual                               & Good                                  & Blue Eyes                             & Blond Hair                            & Male                                  & NA                                    & Living Characters                     & 2258                                  & Nov-50                                & marvel                               \\\\\n",
       "\t Benjamin Grimm (Earth-616)            & Public                                & Good                                  & Blue Eyes                             & No Hair                               & Male                                  & NA                                    & Living Characters                     & 2255                                  & Nov-61                                & marvel                               \\\\\n",
       "\\end{tabular}\n"
      ],
      "text/markdown": [
       "\n",
       "| name | id | align | eye | hair | gender | gsm | alive | appearances | first_appear | publisher |\n",
       "|---|---|---|---|---|---|---|---|---|---|---|\n",
       "| Spider-Man (Peter Parker)             | Secret                                | Good                                  | Hazel Eyes                            | Brown Hair                            | Male                                  | NA                                    | Living Characters                     | 4043                                  | Aug-62                                | marvel                                |\n",
       "| Captain America (Steven Rogers)       | Public                                | Good                                  | Blue Eyes                             | White Hair                            | Male                                  | NA                                    | Living Characters                     | 3360                                  | Mar-41                                | marvel                                |\n",
       "| Wolverine (James \\\"Logan\\\" Howlett) | Public                                | Neutral                               | Blue Eyes                             | Black Hair                            | Male                                  | NA                                    | Living Characters                     | 3061                                  | Oct-74                                | marvel                                |\n",
       "| Iron Man (Anthony \\\"Tony\\\" Stark)   | Public                                | Good                                  | Blue Eyes                             | Black Hair                            | Male                                  | NA                                    | Living Characters                     | 2961                                  | Mar-63                                | marvel                                |\n",
       "| Thor (Thor Odinson)                   | No Dual                               | Good                                  | Blue Eyes                             | Blond Hair                            | Male                                  | NA                                    | Living Characters                     | 2258                                  | Nov-50                                | marvel                                |\n",
       "| Benjamin Grimm (Earth-616)            | Public                                | Good                                  | Blue Eyes                             | No Hair                               | Male                                  | NA                                    | Living Characters                     | 2255                                  | Nov-61                                | marvel                                |\n",
       "\n"
      ],
      "text/plain": [
       "  name                                  id      align   eye        hair      \n",
       "1 Spider-Man (Peter Parker)             Secret  Good    Hazel Eyes Brown Hair\n",
       "2 Captain America (Steven Rogers)       Public  Good    Blue Eyes  White Hair\n",
       "3 Wolverine (James \\\\\"Logan\\\\\" Howlett) Public  Neutral Blue Eyes  Black Hair\n",
       "4 Iron Man (Anthony \\\\\"Tony\\\\\" Stark)   Public  Good    Blue Eyes  Black Hair\n",
       "5 Thor (Thor Odinson)                   No Dual Good    Blue Eyes  Blond Hair\n",
       "6 Benjamin Grimm (Earth-616)            Public  Good    Blue Eyes  No Hair   \n",
       "  gender gsm alive             appearances first_appear publisher\n",
       "1 Male   NA  Living Characters 4043        Aug-62       marvel   \n",
       "2 Male   NA  Living Characters 3360        Mar-41       marvel   \n",
       "3 Male   NA  Living Characters 3061        Oct-74       marvel   \n",
       "4 Male   NA  Living Characters 2961        Mar-63       marvel   \n",
       "5 Male   NA  Living Characters 2258        Nov-50       marvel   \n",
       "6 Male   NA  Living Characters 2255        Nov-61       marvel   "
      ]
     },
     "metadata": {},
     "output_type": "display_data"
    }
   ],
   "source": [
    "library(readr)\n",
    "comics <- read_csv(\"comics.csv\")\n",
    "head(comics)"
   ]
  },
  {
   "cell_type": "code",
   "execution_count": 2,
   "metadata": {},
   "outputs": [
    {
     "name": "stdout",
     "output_type": "stream",
     "text": [
      "Classes 'tbl_df', 'tbl' and 'data.frame':\t23272 obs. of  11 variables:\n",
      " $ name        : chr  \"Spider-Man (Peter Parker)\" \"Captain America (Steven Rogers)\" \"Wolverine (James \\\\\\\"Logan\\\\\\\" Howlett)\" \"Iron Man (Anthony \\\\\\\"Tony\\\\\\\" Stark)\" ...\n",
      " $ id          : chr  \"Secret\" \"Public\" \"Public\" \"Public\" ...\n",
      " $ align       : chr  \"Good\" \"Good\" \"Neutral\" \"Good\" ...\n",
      " $ eye         : chr  \"Hazel Eyes\" \"Blue Eyes\" \"Blue Eyes\" \"Blue Eyes\" ...\n",
      " $ hair        : chr  \"Brown Hair\" \"White Hair\" \"Black Hair\" \"Black Hair\" ...\n",
      " $ gender      : chr  \"Male\" \"Male\" \"Male\" \"Male\" ...\n",
      " $ gsm         : chr  NA NA NA NA ...\n",
      " $ alive       : chr  \"Living Characters\" \"Living Characters\" \"Living Characters\" \"Living Characters\" ...\n",
      " $ appearances : num  4043 3360 3061 2961 2258 ...\n",
      " $ first_appear: chr  \"Aug-62\" \"Mar-41\" \"Oct-74\" \"Mar-63\" ...\n",
      " $ publisher   : chr  \"marvel\" \"marvel\" \"marvel\" \"marvel\" ...\n",
      " - attr(*, \"spec\")=\n",
      "  .. cols(\n",
      "  ..   name = col_character(),\n",
      "  ..   id = col_character(),\n",
      "  ..   align = col_character(),\n",
      "  ..   eye = col_character(),\n",
      "  ..   hair = col_character(),\n",
      "  ..   gender = col_character(),\n",
      "  ..   gsm = col_character(),\n",
      "  ..   alive = col_character(),\n",
      "  ..   appearances = col_double(),\n",
      "  ..   first_appear = col_character(),\n",
      "  ..   publisher = col_character()\n",
      "  .. )\n"
     ]
    }
   ],
   "source": [
    "str(comics)"
   ]
  },
  {
   "cell_type": "markdown",
   "metadata": {},
   "source": [
    "## CONTINGENCY TABLE"
   ]
  },
  {
   "cell_type": "code",
   "execution_count": 3,
   "metadata": {},
   "outputs": [
    {
     "data": {
      "text/html": [
       "<ol class=list-inline>\n",
       "\t<li>'Bad'</li>\n",
       "\t<li>'Good'</li>\n",
       "\t<li>'Neutral'</li>\n",
       "\t<li>'Reformed Criminals'</li>\n",
       "</ol>\n"
      ],
      "text/latex": [
       "\\begin{enumerate*}\n",
       "\\item 'Bad'\n",
       "\\item 'Good'\n",
       "\\item 'Neutral'\n",
       "\\item 'Reformed Criminals'\n",
       "\\end{enumerate*}\n"
      ],
      "text/markdown": [
       "1. 'Bad'\n",
       "2. 'Good'\n",
       "3. 'Neutral'\n",
       "4. 'Reformed Criminals'\n",
       "\n",
       "\n"
      ],
      "text/plain": [
       "[1] \"Bad\"                \"Good\"               \"Neutral\"           \n",
       "[4] \"Reformed Criminals\""
      ]
     },
     "metadata": {},
     "output_type": "display_data"
    }
   ],
   "source": [
    "# Check levels of align\n",
    "comics$align <- as.factor(comics$align)\n",
    "levels(comics$align)"
   ]
  },
  {
   "cell_type": "code",
   "execution_count": 4,
   "metadata": {},
   "outputs": [
    {
     "data": {
      "text/html": [
       "<ol class=list-inline>\n",
       "\t<li>'Female'</li>\n",
       "\t<li>'Male'</li>\n",
       "\t<li>'Other'</li>\n",
       "</ol>\n"
      ],
      "text/latex": [
       "\\begin{enumerate*}\n",
       "\\item 'Female'\n",
       "\\item 'Male'\n",
       "\\item 'Other'\n",
       "\\end{enumerate*}\n"
      ],
      "text/markdown": [
       "1. 'Female'\n",
       "2. 'Male'\n",
       "3. 'Other'\n",
       "\n",
       "\n"
      ],
      "text/plain": [
       "[1] \"Female\" \"Male\"   \"Other\" "
      ]
     },
     "metadata": {},
     "output_type": "display_data"
    }
   ],
   "source": [
    "# Check the levels of gender\n",
    "comics$gender <- as.factor(comics$gender)\n",
    "levels(comics$gender)"
   ]
  },
  {
   "cell_type": "code",
   "execution_count": 5,
   "metadata": {},
   "outputs": [
    {
     "data": {
      "text/plain": [
       "                    \n",
       "                     Female Male Other\n",
       "  Bad                  1573 7561    32\n",
       "  Good                 2490 4809    17\n",
       "  Neutral               836 1799    17\n",
       "  Reformed Criminals      1    2     0"
      ]
     },
     "metadata": {},
     "output_type": "display_data"
    }
   ],
   "source": [
    "# Create a 2-way contingency table\n",
    "table(comics$align, comics$gender)"
   ]
  },
  {
   "cell_type": "markdown",
   "metadata": {},
   "source": [
    "Reformed Crims has low counts => need to be dropped to simplify the analysis"
   ]
  },
  {
   "cell_type": "markdown",
   "metadata": {},
   "source": [
    "## DROPPING LEVELS"
   ]
  },
  {
   "cell_type": "code",
   "execution_count": 6,
   "metadata": {},
   "outputs": [
    {
     "name": "stderr",
     "output_type": "stream",
     "text": [
      "\n",
      "Attaching package: 'dplyr'\n",
      "\n",
      "The following objects are masked from 'package:stats':\n",
      "\n",
      "    filter, lag\n",
      "\n",
      "The following objects are masked from 'package:base':\n",
      "\n",
      "    intersect, setdiff, setequal, union\n",
      "\n"
     ]
    }
   ],
   "source": [
    "# Load dplyr\n",
    "library(dplyr)"
   ]
  },
  {
   "cell_type": "code",
   "execution_count": 7,
   "metadata": {},
   "outputs": [
    {
     "data": {
      "text/plain": [
       "         \n",
       "          Female Male Other\n",
       "  Bad       1573 7561    32\n",
       "  Good      2490 4809    17\n",
       "  Neutral    836 1799    17"
      ]
     },
     "metadata": {},
     "output_type": "display_data"
    }
   ],
   "source": [
    "# Remove align level\n",
    "comics <- comics %>%\n",
    "  filter(align != \"Reformed Criminals\") %>%\n",
    "  droplevels()\n",
    "\n",
    "table(comics$align, comics$gender)"
   ]
  },
  {
   "cell_type": "markdown",
   "metadata": {},
   "source": [
    "## SIDE-BY-SIDE BARCHARTS"
   ]
  },
  {
   "cell_type": "code",
   "execution_count": 8,
   "metadata": {},
   "outputs": [
    {
     "data": {
      "image/png": "[encoded data removed]",
      "text/plain": [
       "plot without title"
      ]
     },
     "metadata": {},
     "output_type": "display_data"
    }
   ],
   "source": [
    "# Load ggplot2\n",
    "library(ggplot2)\n",
    "\n",
    "# Create side-by-side barchart of gender by alignment\n",
    "ggplot(comics, aes(x = align, fill = gender)) + \n",
    "  geom_bar(position = \"dodge\")"
   ]
  },
  {
   "cell_type": "code",
   "execution_count": 9,
   "metadata": {},
   "outputs": [
    {
     "data": {
      "image/png": "[encoded data removed]",
      "text/plain": [
       "plot without title"
      ]
     },
     "metadata": {},
     "output_type": "display_data"
    }
   ],
   "source": [
    "# Create side-by-side barchart of alignment by gender\n",
    "ggplot(comics, aes(x = gender, fill = align)) + \n",
    "  geom_bar(position = \"dodge\") +\n",
    "  theme(axis.text.x = element_text(angle = 90))"
   ]
  },
  {
   "cell_type": "markdown",
   "metadata": {},
   "source": [
    "Across all genders, 'bad' is the most common alignment"
   ]
  },
  {
   "cell_type": "markdown",
   "metadata": {},
   "source": [
    "## CONDITIONAL PROPORTIONS"
   ]
  },
  {
   "cell_type": "code",
   "execution_count": 10,
   "metadata": {},
   "outputs": [],
   "source": [
    "tab <- table(comics$align, comics$gender)\n",
    "options(scipen = 999, digits = 3) # Print fewer digits"
   ]
  },
  {
   "cell_type": "code",
   "execution_count": 11,
   "metadata": {},
   "outputs": [
    {
     "data": {
      "text/plain": [
       "         \n",
       "            Female     Male    Other\n",
       "  Bad     0.082210 0.395160 0.001672\n",
       "  Good    0.130135 0.251333 0.000888\n",
       "  Neutral 0.043692 0.094021 0.000888"
      ]
     },
     "metadata": {},
     "output_type": "display_data"
    }
   ],
   "source": [
    "# Joint proportions\n",
    "prop.table(tab)"
   ]
  },
  {
   "cell_type": "code",
   "execution_count": 12,
   "metadata": {},
   "outputs": [
    {
     "data": {
      "text/plain": [
       "         \n",
       "          Female  Male Other\n",
       "  Bad      0.321 0.534 0.485\n",
       "  Good     0.508 0.339 0.258\n",
       "  Neutral  0.171 0.127 0.258"
      ]
     },
     "metadata": {},
     "output_type": "display_data"
    }
   ],
   "source": [
    "# Conditional on columns, 1 for row\n",
    "prop.table(tab, 2)"
   ]
  },
  {
   "cell_type": "markdown",
   "metadata": {},
   "source": [
    "## COUNTS VS PROPORTION"
   ]
  },
  {
   "cell_type": "code",
   "execution_count": 13,
   "metadata": {},
   "outputs": [],
   "source": [
    "# Change the order of the levels in align\n",
    "comics$align <- factor(comics$align, \n",
    "                       levels = c(\"Bad\", \"Neutral\", \"Good\"))"
   ]
  },
  {
   "cell_type": "code",
   "execution_count": 14,
   "metadata": {},
   "outputs": [
    {
     "data": {
      "image/png": "[encoded data removed]",
      "text/plain": [
       "plot without title"
      ]
     },
     "metadata": {},
     "output_type": "display_data"
    }
   ],
   "source": [
    "# Plot of gender by align\n",
    "ggplot(comics, aes(x = align, fill = gender)) +\n",
    "  geom_bar()"
   ]
  },
  {
   "cell_type": "code",
   "execution_count": 15,
   "metadata": {},
   "outputs": [
    {
     "data": {
      "image/png": "[encoded data removed]",
      "text/plain": [
       "plot without title"
      ]
     },
     "metadata": {},
     "output_type": "display_data"
    }
   ],
   "source": [
    "# Plot proportion of gender, conditional on align\n",
    "ggplot(comics, aes(x = align, fill = gender)) + \n",
    "  geom_bar(position = \"fill\") +\n",
    "  ylab(\"proportion\")"
   ]
  }
 ],
 "metadata": {
  "kernelspec": {
   "display_name": "R",
   "language": "R",
   "name": "ir"
  },
  "language_info": {
   "codemirror_mode": "r",
   "file_extension": ".r",
   "mimetype": "text/x-r-source",
   "name": "R",
   "pygments_lexer": "r",
   "version": "3.5.1"
  }
 },
 "nbformat": 4,
 "nbformat_minor": 2
}
