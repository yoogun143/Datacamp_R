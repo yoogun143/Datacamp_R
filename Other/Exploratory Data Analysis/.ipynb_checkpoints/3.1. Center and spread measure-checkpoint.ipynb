{
 "cells": [
  {
   "cell_type": "markdown",
   "metadata": {
    "toc": true
   },
   "source": [
    "<h1>Table of Contents<span class=\"tocSkip\"></span></h1>\n",
    "<div class=\"toc\"><ul class=\"toc-item\"><li><span><a href=\"#CENTER-MEASURE\" data-toc-modified-id=\"CENTER-MEASURE-1\"><span class=\"toc-item-num\">1&nbsp;&nbsp;</span>CENTER MEASURE</a></span></li><li><span><a href=\"#SPREAD-MEASURE\" data-toc-modified-id=\"SPREAD-MEASURE-2\"><span class=\"toc-item-num\">2&nbsp;&nbsp;</span>SPREAD MEASURE</a></span></li></ul></div>"
   ]
  },
  {
   "cell_type": "markdown",
   "metadata": {},
   "source": [
    "## CENTER MEASURE"
   ]
  },
  {
   "cell_type": "code",
   "execution_count": 6,
   "metadata": {},
   "outputs": [
    {
     "name": "stdout",
     "output_type": "stream",
     "text": [
      "Classes 'tbl_df', 'tbl' and 'data.frame':\t1704 obs. of  6 variables:\n",
      " $ country  : Factor w/ 142 levels \"Afghanistan\",..: 1 1 1 1 1 1 1 1 1 1 ...\n",
      " $ continent: Factor w/ 5 levels \"Africa\",\"Americas\",..: 3 3 3 3 3 3 3 3 3 3 ...\n",
      " $ year     : int  1952 1957 1962 1967 1972 1977 1982 1987 1992 1997 ...\n",
      " $ lifeExp  : num  28.8 30.3 32 34 36.1 ...\n",
      " $ pop      : int  8425333 9240934 10267083 11537966 13079460 14880372 12881816 13867957 16317921 22227415 ...\n",
      " $ gdpPercap: num  779 821 853 836 740 ...\n"
     ]
    }
   ],
   "source": [
    "library(gapminder)\n",
    "library(dplyr)\n",
    "library(ggplot2)\n",
    "str(gapminder)"
   ]
  },
  {
   "cell_type": "code",
   "execution_count": 8,
   "metadata": {},
   "outputs": [
    {
     "data": {
      "text/html": [
       "<table>\n",
       "<thead><tr><th scope=col>continent</th><th scope=col>mean(lifeExp)</th><th scope=col>median(lifeExp)</th></tr></thead>\n",
       "<tbody>\n",
       "\t<tr><td>Africa  </td><td>54.80604</td><td>52.9265 </td></tr>\n",
       "\t<tr><td>Americas</td><td>73.60812</td><td>72.8990 </td></tr>\n",
       "\t<tr><td>Asia    </td><td>70.72848</td><td>72.3960 </td></tr>\n",
       "\t<tr><td>Europe  </td><td>77.64860</td><td>78.6085 </td></tr>\n",
       "\t<tr><td>Oceania </td><td>80.71950</td><td>80.7195 </td></tr>\n",
       "</tbody>\n",
       "</table>\n"
      ],
      "text/latex": [
       "\\begin{tabular}{r|lll}\n",
       " continent & mean(lifeExp) & median(lifeExp)\\\\\n",
       "\\hline\n",
       "\t Africa   & 54.80604 & 52.9265 \\\\\n",
       "\t Americas & 73.60812 & 72.8990 \\\\\n",
       "\t Asia     & 70.72848 & 72.3960 \\\\\n",
       "\t Europe   & 77.64860 & 78.6085 \\\\\n",
       "\t Oceania  & 80.71950 & 80.7195 \\\\\n",
       "\\end{tabular}\n"
      ],
      "text/markdown": [
       "\n",
       "| continent | mean(lifeExp) | median(lifeExp) |\n",
       "|---|---|---|\n",
       "| Africa   | 54.80604 | 52.9265  |\n",
       "| Americas | 73.60812 | 72.8990  |\n",
       "| Asia     | 70.72848 | 72.3960  |\n",
       "| Europe   | 77.64860 | 78.6085  |\n",
       "| Oceania  | 80.71950 | 80.7195  |\n",
       "\n"
      ],
      "text/plain": [
       "  continent mean(lifeExp) median(lifeExp)\n",
       "1 Africa    54.80604      52.9265        \n",
       "2 Americas  73.60812      72.8990        \n",
       "3 Asia      70.72848      72.3960        \n",
       "4 Europe    77.64860      78.6085        \n",
       "5 Oceania   80.71950      80.7195        "
      ]
     },
     "metadata": {},
     "output_type": "display_data"
    }
   ],
   "source": [
    "# Create dataset of 2007 data\n",
    "gap2007 <- filter(gapminder, year == 2007)\n",
    "\n",
    "# Compute groupwise mean and median lifeExp\n",
    "gap2007 %>%\n",
    "  group_by(continent) %>%\n",
    "  summarize(mean(lifeExp),\n",
    "            median(lifeExp))"
   ]
  },
  {
   "cell_type": "code",
   "execution_count": 9,
   "metadata": {},
   "outputs": [
    {
     "data": {
      "image/png": "[encoded data removed]",
      "text/plain": [
       "plot without title"
      ]
     },
     "metadata": {},
     "output_type": "display_data"
    }
   ],
   "source": [
    "# Generate box plots of lifeExp for each continent\n",
    "gap2007 %>%\n",
    "  ggplot(aes(x = continent, y = lifeExp)) +\n",
    "  geom_boxplot()"
   ]
  },
  {
   "cell_type": "markdown",
   "metadata": {},
   "source": [
    "## SPREAD MEASURE"
   ]
  },
  {
   "cell_type": "code",
   "execution_count": 10,
   "metadata": {},
   "outputs": [
    {
     "data": {
      "text/html": [
       "<table>\n",
       "<thead><tr><th scope=col>continent</th><th scope=col>sd(lifeExp)</th><th scope=col>IQR(lifeExp)</th><th scope=col>n()</th></tr></thead>\n",
       "<tbody>\n",
       "\t<tr><td>Africa   </td><td>9.6307807</td><td>11.61025 </td><td>52       </td></tr>\n",
       "\t<tr><td>Americas </td><td>4.4409476</td><td> 4.63200 </td><td>25       </td></tr>\n",
       "\t<tr><td>Asia     </td><td>7.9637245</td><td>10.15200 </td><td>33       </td></tr>\n",
       "\t<tr><td>Europe   </td><td>2.9798127</td><td> 4.78250 </td><td>30       </td></tr>\n",
       "\t<tr><td>Oceania  </td><td>0.7290271</td><td> 0.51550 </td><td> 2       </td></tr>\n",
       "</tbody>\n",
       "</table>\n"
      ],
      "text/latex": [
       "\\begin{tabular}{r|llll}\n",
       " continent & sd(lifeExp) & IQR(lifeExp) & n()\\\\\n",
       "\\hline\n",
       "\t Africa    & 9.6307807 & 11.61025  & 52       \\\\\n",
       "\t Americas  & 4.4409476 &  4.63200  & 25       \\\\\n",
       "\t Asia      & 7.9637245 & 10.15200  & 33       \\\\\n",
       "\t Europe    & 2.9798127 &  4.78250  & 30       \\\\\n",
       "\t Oceania   & 0.7290271 &  0.51550  &  2       \\\\\n",
       "\\end{tabular}\n"
      ],
      "text/markdown": [
       "\n",
       "| continent | sd(lifeExp) | IQR(lifeExp) | n() |\n",
       "|---|---|---|---|\n",
       "| Africa    | 9.6307807 | 11.61025  | 52        |\n",
       "| Americas  | 4.4409476 |  4.63200  | 25        |\n",
       "| Asia      | 7.9637245 | 10.15200  | 33        |\n",
       "| Europe    | 2.9798127 |  4.78250  | 30        |\n",
       "| Oceania   | 0.7290271 |  0.51550  |  2        |\n",
       "\n"
      ],
      "text/plain": [
       "  continent sd(lifeExp) IQR(lifeExp) n()\n",
       "1 Africa    9.6307807   11.61025     52 \n",
       "2 Americas  4.4409476    4.63200     25 \n",
       "3 Asia      7.9637245   10.15200     33 \n",
       "4 Europe    2.9798127    4.78250     30 \n",
       "5 Oceania   0.7290271    0.51550      2 "
      ]
     },
     "metadata": {},
     "output_type": "display_data"
    }
   ],
   "source": [
    "# Compute groupwise measures of spread\n",
    "gap2007 %>%\n",
    "  group_by(continent) %>%\n",
    "  summarize(sd(lifeExp),\n",
    "            IQR(lifeExp),\n",
    "            n())"
   ]
  },
  {
   "cell_type": "code",
   "execution_count": 11,
   "metadata": {},
   "outputs": [
    {
     "data": {
      "image/png": "[encoded data removed]",
      "text/plain": [
       "plot without title"
      ]
     },
     "metadata": {},
     "output_type": "display_data"
    }
   ],
   "source": [
    "# Generate overlaid density plots\n",
    "gap2007 %>%\n",
    "  ggplot(aes(x = lifeExp, fill = continent)) +\n",
    "  geom_density(alpha = 0.3)"
   ]
  }
 ],
 "metadata": {
  "kernelspec": {
   "display_name": "R",
   "language": "R",
   "name": "ir"
  },
  "language_info": {
   "codemirror_mode": "r",
   "file_extension": ".r",
   "mimetype": "text/x-r-source",
   "name": "R",
   "pygments_lexer": "r",
   "version": "3.5.1"
  },
  "toc": {
   "base_numbering": 1,
   "nav_menu": {},
   "number_sections": true,
   "sideBar": true,
   "skip_h1_title": false,
   "title_cell": "Table of Contents",
   "title_sidebar": "Contents",
   "toc_cell": true,
   "toc_position": {},
   "toc_section_display": true,
   "toc_window_display": false
  }
 },
 "nbformat": 4,
 "nbformat_minor": 2
}
