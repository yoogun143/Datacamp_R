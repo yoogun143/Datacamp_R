{
 "cells": [
  {
   "cell_type": "markdown",
   "metadata": {
    "toc": true
   },
   "source": [
    "<h1>Table of Contents<span class=\"tocSkip\"></span></h1>\n",
    "<div class=\"toc\"><ul class=\"toc-item\"><li><span><a href=\"#EDA\" data-toc-modified-id=\"EDA-1\"><span class=\"toc-item-num\">1&nbsp;&nbsp;</span>EDA</a></span></li><li><span><a href=\"#1.-PERMUTATION\" data-toc-modified-id=\"1.-PERMUTATION-2\"><span class=\"toc-item-num\">2&nbsp;&nbsp;</span>1. PERMUTATION</a></span></li><li><span><a href=\"#MANY-PERMUTATION\" data-toc-modified-id=\"MANY-PERMUTATION-3\"><span class=\"toc-item-num\">3&nbsp;&nbsp;</span>MANY PERMUTATION</a></span></li><li><span><a href=\"#CRITICAL-REGION\" data-toc-modified-id=\"CRITICAL-REGION-4\"><span class=\"toc-item-num\">4&nbsp;&nbsp;</span>CRITICAL REGION</a></span></li><li><span><a href=\"#SAMPLE-SIZE-IN-RANDOM-DISTRIBUTION\" data-toc-modified-id=\"SAMPLE-SIZE-IN-RANDOM-DISTRIBUTION-5\"><span class=\"toc-item-num\">5&nbsp;&nbsp;</span>SAMPLE SIZE IN RANDOM DISTRIBUTION</a></span></li><li><span><a href=\"#SAMPLE-SIZE-FOR-CRITICAL-REGION\" data-toc-modified-id=\"SAMPLE-SIZE-FOR-CRITICAL-REGION-6\"><span class=\"toc-item-num\">6&nbsp;&nbsp;</span>SAMPLE SIZE FOR CRITICAL REGION</a></span></li><li><span><a href=\"#P-VALUE\" data-toc-modified-id=\"P-VALUE-7\"><span class=\"toc-item-num\">7&nbsp;&nbsp;</span>P-VALUE</a></span></li></ul></div>"
   ]
  },
  {
   "cell_type": "markdown",
   "metadata": {},
   "source": [
    "## EDA"
   ]
  },
  {
   "cell_type": "code",
   "execution_count": 2,
   "metadata": {},
   "outputs": [
    {
     "name": "stderr",
     "output_type": "stream",
     "text": [
      "Warning message:\n",
      "\"package 'NHANES' was built under R version 3.5.2\""
     ]
    }
   ],
   "source": [
    "# These data are collected by the CDC and can be thought of as a random sample of US residents.\n",
    "# Load packages\n",
    "library(dplyr)\n",
    "library(ggplot2)\n",
    "library(NHANES)"
   ]
  },
  {
   "cell_type": "code",
   "execution_count": 7,
   "metadata": {
    "scrolled": false
   },
   "outputs": [
    {
     "name": "stdout",
     "output_type": "stream",
     "text": [
      "Classes 'tbl_df', 'tbl' and 'data.frame':\t10000 obs. of  76 variables:\n",
      " $ ID              : int  51624 51624 51624 51625 51630 51638 51646 51647 51647 51647 ...\n",
      " $ SurveyYr        : Factor w/ 2 levels \"2009_10\",\"2011_12\": 1 1 1 1 1 1 1 1 1 1 ...\n",
      " $ Gender          : Factor w/ 2 levels \"female\",\"male\": 2 2 2 2 1 2 2 1 1 1 ...\n",
      " $ Age             : int  34 34 34 4 49 9 8 45 45 45 ...\n",
      " $ AgeDecade       : Factor w/ 8 levels \" 0-9\",\" 10-19\",..: 4 4 4 1 5 1 1 5 5 5 ...\n",
      " $ AgeMonths       : int  409 409 409 49 596 115 101 541 541 541 ...\n",
      " $ Race1           : Factor w/ 5 levels \"Black\",\"Hispanic\",..: 4 4 4 5 4 4 4 4 4 4 ...\n",
      " $ Race3           : Factor w/ 6 levels \"Asian\",\"Black\",..: NA NA NA NA NA NA NA NA NA NA ...\n",
      " $ Education       : Factor w/ 5 levels \"8th Grade\",\"9 - 11th Grade\",..: 3 3 3 NA 4 NA NA 5 5 5 ...\n",
      " $ MaritalStatus   : Factor w/ 6 levels \"Divorced\",\"LivePartner\",..: 3 3 3 NA 2 NA NA 3 3 3 ...\n",
      " $ HHIncome        : Factor w/ 12 levels \" 0-4999\",\" 5000-9999\",..: 6 6 6 5 7 11 9 11 11 11 ...\n",
      " $ HHIncomeMid     : int  30000 30000 30000 22500 40000 87500 60000 87500 87500 87500 ...\n",
      " $ Poverty         : num  1.36 1.36 1.36 1.07 1.91 1.84 2.33 5 5 5 ...\n",
      " $ HomeRooms       : int  6 6 6 9 5 6 7 6 6 6 ...\n",
      " $ HomeOwn         : Factor w/ 3 levels \"Own\",\"Rent\",\"Other\": 1 1 1 1 2 2 1 1 1 1 ...\n",
      " $ Work            : Factor w/ 3 levels \"Looking\",\"NotWorking\",..: 2 2 2 NA 2 NA NA 3 3 3 ...\n",
      " $ Weight          : num  87.4 87.4 87.4 17 86.7 29.8 35.2 75.7 75.7 75.7 ...\n",
      " $ Length          : num  NA NA NA NA NA NA NA NA NA NA ...\n",
      " $ HeadCirc        : num  NA NA NA NA NA NA NA NA NA NA ...\n",
      " $ Height          : num  165 165 165 105 168 ...\n",
      " $ BMI             : num  32.2 32.2 32.2 15.3 30.6 ...\n",
      " $ BMICatUnder20yrs: Factor w/ 4 levels \"UnderWeight\",..: NA NA NA NA NA NA NA NA NA NA ...\n",
      " $ BMI_WHO         : Factor w/ 4 levels \"12.0_18.5\",\"18.5_to_24.9\",..: 4 4 4 1 4 1 2 3 3 3 ...\n",
      " $ Pulse           : int  70 70 70 NA 86 82 72 62 62 62 ...\n",
      " $ BPSysAve        : int  113 113 113 NA 112 86 107 118 118 118 ...\n",
      " $ BPDiaAve        : int  85 85 85 NA 75 47 37 64 64 64 ...\n",
      " $ BPSys1          : int  114 114 114 NA 118 84 114 106 106 106 ...\n",
      " $ BPDia1          : int  88 88 88 NA 82 50 46 62 62 62 ...\n",
      " $ BPSys2          : int  114 114 114 NA 108 84 108 118 118 118 ...\n",
      " $ BPDia2          : int  88 88 88 NA 74 50 36 68 68 68 ...\n",
      " $ BPSys3          : int  112 112 112 NA 116 88 106 118 118 118 ...\n",
      " $ BPDia3          : int  82 82 82 NA 76 44 38 60 60 60 ...\n",
      " $ Testosterone    : num  NA NA NA NA NA NA NA NA NA NA ...\n",
      " $ DirectChol      : num  1.29 1.29 1.29 NA 1.16 1.34 1.55 2.12 2.12 2.12 ...\n",
      " $ TotChol         : num  3.49 3.49 3.49 NA 6.7 4.86 4.09 5.82 5.82 5.82 ...\n",
      " $ UrineVol1       : int  352 352 352 NA 77 123 238 106 106 106 ...\n",
      " $ UrineFlow1      : num  NA NA NA NA 0.094 ...\n",
      " $ UrineVol2       : int  NA NA NA NA NA NA NA NA NA NA ...\n",
      " $ UrineFlow2      : num  NA NA NA NA NA NA NA NA NA NA ...\n",
      " $ Diabetes        : Factor w/ 2 levels \"No\",\"Yes\": 1 1 1 1 1 1 1 1 1 1 ...\n",
      " $ DiabetesAge     : int  NA NA NA NA NA NA NA NA NA NA ...\n",
      " $ HealthGen       : Factor w/ 5 levels \"Excellent\",\"Vgood\",..: 3 3 3 NA 3 NA NA 2 2 2 ...\n",
      " $ DaysPhysHlthBad : int  0 0 0 NA 0 NA NA 0 0 0 ...\n",
      " $ DaysMentHlthBad : int  15 15 15 NA 10 NA NA 3 3 3 ...\n",
      " $ LittleInterest  : Factor w/ 3 levels \"None\",\"Several\",..: 3 3 3 NA 2 NA NA 1 1 1 ...\n",
      " $ Depressed       : Factor w/ 3 levels \"None\",\"Several\",..: 2 2 2 NA 2 NA NA 1 1 1 ...\n",
      " $ nPregnancies    : int  NA NA NA NA 2 NA NA 1 1 1 ...\n",
      " $ nBabies         : int  NA NA NA NA 2 NA NA NA NA NA ...\n",
      " $ Age1stBaby      : int  NA NA NA NA 27 NA NA NA NA NA ...\n",
      " $ SleepHrsNight   : int  4 4 4 NA 8 NA NA 8 8 8 ...\n",
      " $ SleepTrouble    : Factor w/ 2 levels \"No\",\"Yes\": 2 2 2 NA 2 NA NA 1 1 1 ...\n",
      " $ PhysActive      : Factor w/ 2 levels \"No\",\"Yes\": 1 1 1 NA 1 NA NA 2 2 2 ...\n",
      " $ PhysActiveDays  : int  NA NA NA NA NA NA NA 5 5 5 ...\n",
      " $ TVHrsDay        : Factor w/ 7 levels \"0_hrs\",\"0_to_1_hr\",..: NA NA NA NA NA NA NA NA NA NA ...\n",
      " $ CompHrsDay      : Factor w/ 7 levels \"0_hrs\",\"0_to_1_hr\",..: NA NA NA NA NA NA NA NA NA NA ...\n",
      " $ TVHrsDayChild   : int  NA NA NA 4 NA 5 1 NA NA NA ...\n",
      " $ CompHrsDayChild : int  NA NA NA 1 NA 0 6 NA NA NA ...\n",
      " $ Alcohol12PlusYr : Factor w/ 2 levels \"No\",\"Yes\": 2 2 2 NA 2 NA NA 2 2 2 ...\n",
      " $ AlcoholDay      : int  NA NA NA NA 2 NA NA 3 3 3 ...\n",
      " $ AlcoholYear     : int  0 0 0 NA 20 NA NA 52 52 52 ...\n",
      " $ SmokeNow        : Factor w/ 2 levels \"No\",\"Yes\": 1 1 1 NA 2 NA NA NA NA NA ...\n",
      " $ Smoke100        : Factor w/ 2 levels \"No\",\"Yes\": 2 2 2 NA 2 NA NA 1 1 1 ...\n",
      " $ Smoke100n       : Factor w/ 2 levels \"Non-Smoker\",\"Smoker\": 2 2 2 NA 2 NA NA 1 1 1 ...\n",
      " $ SmokeAge        : int  18 18 18 NA 38 NA NA NA NA NA ...\n",
      " $ Marijuana       : Factor w/ 2 levels \"No\",\"Yes\": 2 2 2 NA 2 NA NA 2 2 2 ...\n",
      " $ AgeFirstMarij   : int  17 17 17 NA 18 NA NA 13 13 13 ...\n",
      " $ RegularMarij    : Factor w/ 2 levels \"No\",\"Yes\": 1 1 1 NA 1 NA NA 1 1 1 ...\n",
      " $ AgeRegMarij     : int  NA NA NA NA NA NA NA NA NA NA ...\n",
      " $ HardDrugs       : Factor w/ 2 levels \"No\",\"Yes\": 2 2 2 NA 2 NA NA 1 1 1 ...\n",
      " $ SexEver         : Factor w/ 2 levels \"No\",\"Yes\": 2 2 2 NA 2 NA NA 2 2 2 ...\n",
      " $ SexAge          : int  16 16 16 NA 12 NA NA 13 13 13 ...\n",
      " $ SexNumPartnLife : int  8 8 8 NA 10 NA NA 20 20 20 ...\n",
      " $ SexNumPartYear  : int  1 1 1 NA 1 NA NA 0 0 0 ...\n",
      " $ SameSex         : Factor w/ 2 levels \"No\",\"Yes\": 1 1 1 NA 2 NA NA 2 2 2 ...\n",
      " $ SexOrientation  : Factor w/ 3 levels \"Bisexual\",\"Heterosexual\",..: 2 2 2 NA 2 NA NA 1 1 1 ...\n",
      " $ PregnantNow     : Factor w/ 3 levels \"Yes\",\"No\",\"Unknown\": NA NA NA NA NA NA NA NA NA NA ...\n"
     ]
    }
   ],
   "source": [
    "# What are the variables in the NHANES dataset?\n",
    "str(NHANES)"
   ]
  },
  {
   "cell_type": "code",
   "execution_count": 4,
   "metadata": {},
   "outputs": [
    {
     "data": {
      "image/png": "[encoded data removed]",
      "text/plain": [
       "plot without title"
      ]
     },
     "metadata": {},
     "output_type": "display_data"
    }
   ],
   "source": [
    "# Create bar plot for Home Ownership by Gender\n",
    "ggplot(NHANES, aes(x = Gender, fill = HomeOwn)) + \n",
    "  geom_bar(position = \"fill\") +\n",
    "  ylab(\"Relative frequencies\")"
   ]
  },
  {
   "cell_type": "code",
   "execution_count": 5,
   "metadata": {},
   "outputs": [
    {
     "name": "stderr",
     "output_type": "stream",
     "text": [
      "Warning message:\n",
      "\"Removed 2245 rows containing non-finite values (stat_density).\""
     ]
    },
    {
     "data": {
      "image/png": "[encoded data removed]",
      "text/plain": [
       "plot without title"
      ]
     },
     "metadata": {},
     "output_type": "display_data"
    }
   ],
   "source": [
    "# Density for SleepHrsNight colored by SleepTrouble, faceted by HealthGen\n",
    "ggplot(NHANES, aes(x = SleepHrsNight, col = SleepTrouble)) + \n",
    "  geom_density(adjust = 2) + \n",
    "  facet_wrap(~ HealthGen)"
   ]
  },
  {
   "cell_type": "markdown",
   "metadata": {},
   "source": [
    "## 1. PERMUTATION"
   ]
  },
  {
   "cell_type": "code",
   "execution_count": 6,
   "metadata": {},
   "outputs": [],
   "source": [
    "# Subset the data: homes\n",
    "homes <- NHANES %>%\n",
    "  select(Gender, HomeOwn) %>%\n",
    "  filter(HomeOwn %in% c(\"Own\", \"Rent\"))"
   ]
  },
  {
   "cell_type": "code",
   "execution_count": 8,
   "metadata": {},
   "outputs": [
    {
     "data": {
      "text/html": [
       "<table>\n",
       "<thead><tr><th scope=col>diff_perm</th><th scope=col>diff_orig</th></tr></thead>\n",
       "<tbody>\n",
       "\t<tr><td>0.007822786 </td><td>-0.007828723</td></tr>\n",
       "</tbody>\n",
       "</table>\n"
      ],
      "text/latex": [
       "\\begin{tabular}{r|ll}\n",
       " diff\\_perm & diff\\_orig\\\\\n",
       "\\hline\n",
       "\t 0.007822786  & -0.007828723\\\\\n",
       "\\end{tabular}\n"
      ],
      "text/markdown": [
       "\n",
       "| diff_perm | diff_orig |\n",
       "|---|---|\n",
       "| 0.007822786  | -0.007828723 |\n",
       "\n"
      ],
      "text/plain": [
       "  diff_perm   diff_orig   \n",
       "1 0.007822786 -0.007828723"
      ]
     },
     "metadata": {},
     "output_type": "display_data"
    }
   ],
   "source": [
    "# Perform one permutation \n",
    "homes %>%\n",
    "  mutate(HomeOwn_perm = sample(HomeOwn)) %>%\n",
    "  group_by(Gender) %>%\n",
    "  summarize(prop_own_perm = mean(HomeOwn_perm == \"Own\"), \n",
    "            prop_own = mean(HomeOwn == \"Own\")) %>%\n",
    "  summarize(diff_perm = diff(prop_own_perm),\n",
    "            diff_orig = diff(prop_own))"
   ]
  },
  {
   "cell_type": "markdown",
   "metadata": {},
   "source": [
    "## MANY PERMUTATION"
   ]
  },
  {
   "cell_type": "code",
   "execution_count": 10,
   "metadata": {},
   "outputs": [],
   "source": [
    "# Define function create a new replicate column\n",
    "rep_sample_n <- function (tbl, size, replace = FALSE, reps = 1) \n",
    "{\n",
    "  n <- nrow(tbl)\n",
    "  i <- unlist(replicate(reps, sample.int(n, size, replace = replace), \n",
    "                        simplify = FALSE))\n",
    "  rep_tbl <- cbind(replicate = rep(1:reps, rep(size, reps)), \n",
    "                   tbl[i, ])\n",
    "  dplyr::group_by(rep_tbl, replicate)\n",
    "}"
   ]
  },
  {
   "cell_type": "code",
   "execution_count": 12,
   "metadata": {},
   "outputs": [
    {
     "data": {
      "text/html": [
       "<table>\n",
       "<thead><tr><th scope=col>replicate</th><th scope=col>Gender</th><th scope=col>HomeOwn</th></tr></thead>\n",
       "<tbody>\n",
       "\t<tr><td>1     </td><td>male  </td><td>Own   </td></tr>\n",
       "\t<tr><td>1     </td><td>male  </td><td>Rent  </td></tr>\n",
       "\t<tr><td>1     </td><td>female</td><td>Own   </td></tr>\n",
       "\t<tr><td>1     </td><td>male  </td><td>Rent  </td></tr>\n",
       "\t<tr><td>1     </td><td>female</td><td>Rent  </td></tr>\n",
       "\t<tr><td>1     </td><td>female</td><td>Rent  </td></tr>\n",
       "</tbody>\n",
       "</table>\n"
      ],
      "text/latex": [
       "\\begin{tabular}{r|lll}\n",
       " replicate & Gender & HomeOwn\\\\\n",
       "\\hline\n",
       "\t 1      & male   & Own   \\\\\n",
       "\t 1      & male   & Rent  \\\\\n",
       "\t 1      & female & Own   \\\\\n",
       "\t 1      & male   & Rent  \\\\\n",
       "\t 1      & female & Rent  \\\\\n",
       "\t 1      & female & Rent  \\\\\n",
       "\\end{tabular}\n"
      ],
      "text/markdown": [
       "\n",
       "| replicate | Gender | HomeOwn |\n",
       "|---|---|---|\n",
       "| 1      | male   | Own    |\n",
       "| 1      | male   | Rent   |\n",
       "| 1      | female | Own    |\n",
       "| 1      | male   | Rent   |\n",
       "| 1      | female | Rent   |\n",
       "| 1      | female | Rent   |\n",
       "\n"
      ],
      "text/plain": [
       "  replicate Gender HomeOwn\n",
       "1 1         male   Own    \n",
       "2 1         male   Rent   \n",
       "3 1         female Own    \n",
       "4 1         male   Rent   \n",
       "5 1         female Rent   \n",
       "6 1         female Rent   "
      ]
     },
     "metadata": {},
     "output_type": "display_data"
    }
   ],
   "source": [
    "head(homes %>%\n",
    "  rep_sample_n(size = nrow(homes), reps = 10))"
   ]
  },
  {
   "cell_type": "code",
   "execution_count": 13,
   "metadata": {},
   "outputs": [],
   "source": [
    "# Perform 1000 permutations\n",
    "homeown_perm <- homes %>%\n",
    "  rep_sample_n(size = nrow(homes), reps = 1000) %>%\n",
    "  mutate(HomeOwn_perm = sample(HomeOwn)) %>%\n",
    "  group_by(replicate, Gender) %>%\n",
    "  summarize(prop_own_perm = mean(HomeOwn_perm == \"Own\"), \n",
    "            prop_own = mean(HomeOwn == \"Own\")) %>%\n",
    "  summarize(diff_perm = diff(prop_own_perm),\n",
    "            diff_orig = diff(prop_own)) # male - female"
   ]
  },
  {
   "cell_type": "code",
   "execution_count": 14,
   "metadata": {},
   "outputs": [
    {
     "data": {
      "image/png": "[encoded data removed]",
      "text/plain": [
       "plot without title"
      ]
     },
     "metadata": {},
     "output_type": "display_data"
    }
   ],
   "source": [
    "# Density plot of 1000 permuted differences in proportions\n",
    "ggplot(homeown_perm, aes(x = diff_perm)) +\n",
    "  geom_dotplot(binwidth = .001)"
   ]
  },
  {
   "cell_type": "code",
   "execution_count": 15,
   "metadata": {},
   "outputs": [
    {
     "data": {
      "image/png": "[encoded data removed]",
      "text/plain": [
       "plot without title"
      ]
     },
     "metadata": {},
     "output_type": "display_data"
    }
   ],
   "source": [
    "# Plot permuted differences\n",
    "ggplot(homeown_perm, aes(x = diff_perm)) + \n",
    "  geom_density() +\n",
    "  geom_vline(aes(xintercept = diff_orig),\n",
    "             col = \"red\")"
   ]
  },
  {
   "cell_type": "code",
   "execution_count": 16,
   "metadata": {},
   "outputs": [
    {
     "data": {
      "text/html": [
       "<table>\n",
       "<thead><tr><th scope=col>sum(diff_orig &gt;= diff_perm)</th></tr></thead>\n",
       "<tbody>\n",
       "\t<tr><td>217</td></tr>\n",
       "</tbody>\n",
       "</table>\n"
      ],
      "text/latex": [
       "\\begin{tabular}{r|l}\n",
       " sum(diff\\_orig >= diff\\_perm)\\\\\n",
       "\\hline\n",
       "\t 217\\\\\n",
       "\\end{tabular}\n"
      ],
      "text/markdown": [
       "\n",
       "| sum(diff_orig >= diff_perm) |\n",
       "|---|\n",
       "| 217 |\n",
       "\n"
      ],
      "text/plain": [
       "  sum(diff_orig >= diff_perm)\n",
       "1 217                        "
      ]
     },
     "metadata": {},
     "output_type": "display_data"
    }
   ],
   "source": [
    "# Compare permuted differences to observed difference\n",
    "homeown_perm %>%\n",
    "  summarize(sum(diff_orig >= diff_perm))"
   ]
  },
  {
   "cell_type": "markdown",
   "metadata": {},
   "source": [
    "- 21.2% of the null statistics, so you can conclude that the observed difference is consistent with the permuted distribution.\n",
    "- our data is consistent with the hypothesis of no difference in home ownership across gender."
   ]
  },
  {
   "cell_type": "markdown",
   "metadata": {},
   "source": [
    "## CRITICAL REGION"
   ]
  },
  {
   "cell_type": "code",
   "execution_count": 17,
   "metadata": {},
   "outputs": [
    {
     "data": {
      "text/html": [
       "<table>\n",
       "<thead><tr><th scope=col>q.90</th><th scope=col>q.95</th><th scope=col>q.99</th></tr></thead>\n",
       "<tbody>\n",
       "\t<tr><td>0.01235349</td><td>0.01564854</td><td>0.02141489</td></tr>\n",
       "</tbody>\n",
       "</table>\n"
      ],
      "text/latex": [
       "\\begin{tabular}{r|lll}\n",
       " q.90 & q.95 & q.99\\\\\n",
       "\\hline\n",
       "\t 0.01235349 & 0.01564854 & 0.02141489\\\\\n",
       "\\end{tabular}\n"
      ],
      "text/markdown": [
       "\n",
       "| q.90 | q.95 | q.99 |\n",
       "|---|---|---|\n",
       "| 0.01235349 | 0.01564854 | 0.02141489 |\n",
       "\n"
      ],
      "text/plain": [
       "  q.90       q.95       q.99      \n",
       "1 0.01235349 0.01564854 0.02141489"
      ]
     },
     "metadata": {},
     "output_type": "display_data"
    }
   ],
   "source": [
    "# Find the 0.90, 0.95, and 0.99 quantiles of diff_perm\n",
    "homeown_perm %>% \n",
    "  summarize(q.90 = quantile(diff_perm, p = 0.9),\n",
    "            q.95 = quantile(diff_perm, p = 0.95),\n",
    "            q.99 = quantile(diff_perm, p = 0.99))"
   ]
  },
  {
   "cell_type": "code",
   "execution_count": 20,
   "metadata": {},
   "outputs": [
    {
     "data": {
      "text/html": [
       "<table>\n",
       "<thead><tr><th scope=col>q.01</th><th scope=col>q.05</th><th scope=col>q.10</th></tr></thead>\n",
       "<tbody>\n",
       "\t<tr><td>-0.02266059</td><td>-0.01647824</td><td>-0.01281249</td></tr>\n",
       "</tbody>\n",
       "</table>\n"
      ],
      "text/latex": [
       "\\begin{tabular}{r|lll}\n",
       " q.01 & q.05 & q.10\\\\\n",
       "\\hline\n",
       "\t -0.02266059 & -0.01647824 & -0.01281249\\\\\n",
       "\\end{tabular}\n"
      ],
      "text/markdown": [
       "\n",
       "| q.01 | q.05 | q.10 |\n",
       "|---|---|---|\n",
       "| -0.02266059 | -0.01647824 | -0.01281249 |\n",
       "\n"
      ],
      "text/plain": [
       "  q.01        q.05        q.10       \n",
       "1 -0.02266059 -0.01647824 -0.01281249"
      ]
     },
     "metadata": {},
     "output_type": "display_data"
    }
   ],
   "source": [
    "# Find the 0.01, 0.05, and 0.10 quantiles of diff_perm\n",
    "homeown_perm %>% \n",
    "  summarise(q.01 = quantile(diff_perm, p = 0.01),\n",
    "            q.05 = quantile(diff_perm, p = 0.05),\n",
    "            q.10 = quantile(diff_perm, p = 0.1))"
   ]
  },
  {
   "cell_type": "markdown",
   "metadata": {},
   "source": [
    "## SAMPLE SIZE IN RANDOM DISTRIBUTION"
   ]
  },
  {
   "cell_type": "code",
   "execution_count": 21,
   "metadata": {},
   "outputs": [],
   "source": [
    "disc_small <- readRDS('disc_small.rds')\n",
    "disc_big <- readRDS('disc_big.rds')"
   ]
  },
  {
   "cell_type": "code",
   "execution_count": 22,
   "metadata": {},
   "outputs": [
    {
     "data": {
      "text/plain": [
       "        promote\n",
       "sex      not_promoted promoted\n",
       "  female            3        5\n",
       "  male              1        7"
      ]
     },
     "metadata": {},
     "output_type": "display_data"
    }
   ],
   "source": [
    "# Tabulate the small data frames\n",
    "disc_small %>% \n",
    "  select(sex, promote) %>%\n",
    "  table()"
   ]
  },
  {
   "cell_type": "code",
   "execution_count": 26,
   "metadata": {},
   "outputs": [
    {
     "data": {
      "text/plain": [
       "        promote\n",
       "sex      not_promoted promoted\n",
       "  female          100      140\n",
       "  male             30      210"
      ]
     },
     "metadata": {},
     "output_type": "display_data"
    }
   ],
   "source": [
    "# Tabulate the big data frames\n",
    "disc_big %>% \n",
    "  select(sex, promote) %>%\n",
    "  table()"
   ]
  },
  {
   "cell_type": "code",
   "execution_count": 25,
   "metadata": {},
   "outputs": [],
   "source": [
    "disc_small_perm <- disc_small %>%\n",
    "  rep_sample_n(size = nrow(disc_small), reps = 1000) %>%\n",
    "  mutate(prom_perm = sample(promote)) %>%\n",
    "  group_by(replicate, sex) %>%\n",
    "  summarize(prop_prom_perm = mean(prom_perm == \"promoted\"),\n",
    "            prop_prom = mean(promote == \"promoted\")) %>%\n",
    "  summarize(diff_perm = diff(prop_prom_perm),\n",
    "            diff_orig = diff(prop_prom))  # male - female\n",
    "\n",
    "disc_big_perm <- disc_big %>%\n",
    "  rep_sample_n(size = nrow(disc_big), reps = 1000) %>%\n",
    "  mutate(prom_perm = sample(promote)) %>%\n",
    "  group_by(replicate, sex) %>%\n",
    "  summarize(prop_prom_perm = mean(prom_perm == \"promoted\"),\n",
    "            prop_prom = mean(promote == \"promoted\")) %>%\n",
    "  summarize(diff_perm = diff(prop_prom_perm),\n",
    "            diff_orig = diff(prop_prom))  # male - female"
   ]
  },
  {
   "cell_type": "code",
   "execution_count": 27,
   "metadata": {},
   "outputs": [
    {
     "data": {
      "image/png": "[encoded data removed]",
      "text/plain": [
       "plot without title"
      ]
     },
     "metadata": {},
     "output_type": "display_data"
    }
   ],
   "source": [
    "# Plot the distributions of permuted differences\n",
    "ggplot(disc_small_perm, aes(x = diff_perm)) + \n",
    "  geom_histogram(binwidth = 0.01) +\n",
    "  geom_vline(aes(xintercept = diff_orig), col = \"red\")"
   ]
  },
  {
   "cell_type": "code",
   "execution_count": 28,
   "metadata": {},
   "outputs": [
    {
     "data": {
      "image/png": "[encoded data removed]",
      "text/plain": [
       "plot without title"
      ]
     },
     "metadata": {},
     "output_type": "display_data"
    }
   ],
   "source": [
    "ggplot(disc_big_perm, aes(x = diff_perm)) + \n",
    "  geom_histogram(binwidth = 0.01) +\n",
    "  geom_vline(aes(xintercept = diff_orig), col = \"red\")"
   ]
  },
  {
   "cell_type": "markdown",
   "metadata": {},
   "source": [
    "## SAMPLE SIZE FOR CRITICAL REGION"
   ]
  },
  {
   "cell_type": "code",
   "execution_count": 29,
   "metadata": {},
   "outputs": [
    {
     "data": {
      "text/html": [
       "<table>\n",
       "<thead><tr><th scope=col>q.90</th><th scope=col>q.95</th><th scope=col>q.99</th></tr></thead>\n",
       "<tbody>\n",
       "\t<tr><td>0.25</td><td>0.25</td><td>0.5 </td></tr>\n",
       "</tbody>\n",
       "</table>\n"
      ],
      "text/latex": [
       "\\begin{tabular}{r|lll}\n",
       " q.90 & q.95 & q.99\\\\\n",
       "\\hline\n",
       "\t 0.25 & 0.25 & 0.5 \\\\\n",
       "\\end{tabular}\n"
      ],
      "text/markdown": [
       "\n",
       "| q.90 | q.95 | q.99 |\n",
       "|---|---|---|\n",
       "| 0.25 | 0.25 | 0.5  |\n",
       "\n"
      ],
      "text/plain": [
       "  q.90 q.95 q.99\n",
       "1 0.25 0.25 0.5 "
      ]
     },
     "metadata": {},
     "output_type": "display_data"
    }
   ],
   "source": [
    "# Calculate the quantiles associated with the small dataset\n",
    "disc_small_perm %>% \n",
    "  summarize(q.90 = quantile(diff_perm, p = 0.90),\n",
    "            q.95 = quantile(diff_perm, p = 0.95),\n",
    "            q.99 = quantile(diff_perm, p = 0.99))"
   ]
  },
  {
   "cell_type": "code",
   "execution_count": 30,
   "metadata": {},
   "outputs": [
    {
     "data": {
      "text/html": [
       "<table>\n",
       "<thead><tr><th scope=col>q.90</th><th scope=col>q.95</th><th scope=col>q.99</th></tr></thead>\n",
       "<tbody>\n",
       "\t<tr><td>0.05      </td><td>0.06666667</td><td>0.09166667</td></tr>\n",
       "</tbody>\n",
       "</table>\n"
      ],
      "text/latex": [
       "\\begin{tabular}{r|lll}\n",
       " q.90 & q.95 & q.99\\\\\n",
       "\\hline\n",
       "\t 0.05       & 0.06666667 & 0.09166667\\\\\n",
       "\\end{tabular}\n"
      ],
      "text/markdown": [
       "\n",
       "| q.90 | q.95 | q.99 |\n",
       "|---|---|---|\n",
       "| 0.05       | 0.06666667 | 0.09166667 |\n",
       "\n"
      ],
      "text/plain": [
       "  q.90 q.95       q.99      \n",
       "1 0.05 0.06666667 0.09166667"
      ]
     },
     "metadata": {},
     "output_type": "display_data"
    }
   ],
   "source": [
    "# Calculate the quantiles associated with the big dataset\n",
    "disc_big_perm %>% \n",
    "  summarize(q.90 = quantile(diff_perm, p = 0.90),\n",
    "            q.95 = quantile(diff_perm, p = 0.95),\n",
    "            q.99 = quantile(diff_perm, p = 0.99))"
   ]
  },
  {
   "cell_type": "markdown",
   "metadata": {},
   "source": [
    "## P-VALUE"
   ]
  },
  {
   "cell_type": "code",
   "execution_count": 31,
   "metadata": {},
   "outputs": [
    {
     "data": {
      "text/html": [
       "<table>\n",
       "<thead><tr><th scope=col>mean(diff_orig &lt;= diff_perm)</th></tr></thead>\n",
       "<tbody>\n",
       "\t<tr><td>0.26</td></tr>\n",
       "</tbody>\n",
       "</table>\n"
      ],
      "text/latex": [
       "\\begin{tabular}{r|l}\n",
       " mean(diff\\_orig <= diff\\_perm)\\\\\n",
       "\\hline\n",
       "\t 0.26\\\\\n",
       "\\end{tabular}\n"
      ],
      "text/markdown": [
       "\n",
       "| mean(diff_orig <= diff_perm) |\n",
       "|---|\n",
       "| 0.26 |\n",
       "\n"
      ],
      "text/plain": [
       "  mean(diff_orig <= diff_perm)\n",
       "1 0.26                        "
      ]
     },
     "metadata": {},
     "output_type": "display_data"
    }
   ],
   "source": [
    "# Calculate the p-value for the small dataset\n",
    "disc_small_perm %>%\n",
    "  summarize(mean(diff_orig <= diff_perm))"
   ]
  },
  {
   "cell_type": "code",
   "execution_count": 32,
   "metadata": {},
   "outputs": [
    {
     "data": {
      "text/html": [
       "<table>\n",
       "<thead><tr><th scope=col>mean(diff_orig &lt;= diff_perm)</th></tr></thead>\n",
       "<tbody>\n",
       "\t<tr><td>0</td></tr>\n",
       "</tbody>\n",
       "</table>\n"
      ],
      "text/latex": [
       "\\begin{tabular}{r|l}\n",
       " mean(diff\\_orig <= diff\\_perm)\\\\\n",
       "\\hline\n",
       "\t 0\\\\\n",
       "\\end{tabular}\n"
      ],
      "text/markdown": [
       "\n",
       "| mean(diff_orig <= diff_perm) |\n",
       "|---|\n",
       "| 0 |\n",
       "\n"
      ],
      "text/plain": [
       "  mean(diff_orig <= diff_perm)\n",
       "1 0                           "
      ]
     },
     "metadata": {},
     "output_type": "display_data"
    }
   ],
   "source": [
    "# Calculate the p-value for the big dataset\n",
    "disc_big_perm %>%\n",
    "  summarize(mean(diff_orig <= diff_perm))"
   ]
  },
  {
   "cell_type": "code",
   "execution_count": 33,
   "metadata": {},
   "outputs": [
    {
     "data": {
      "text/html": [
       "<table>\n",
       "<thead><tr><th scope=col>2 * mean(diff_orig &lt;= diff_perm)</th></tr></thead>\n",
       "<tbody>\n",
       "\t<tr><td>0</td></tr>\n",
       "</tbody>\n",
       "</table>\n"
      ],
      "text/latex": [
       "\\begin{tabular}{r|l}\n",
       " 2 * mean(diff\\_orig <= diff\\_perm)\\\\\n",
       "\\hline\n",
       "\t 0\\\\\n",
       "\\end{tabular}\n"
      ],
      "text/markdown": [
       "\n",
       "| 2 * mean(diff_orig <= diff_perm) |\n",
       "|---|\n",
       "| 0 |\n",
       "\n"
      ],
      "text/plain": [
       "  2 * mean(diff_orig <= diff_perm)\n",
       "1 0                               "
      ]
     },
     "metadata": {},
     "output_type": "display_data"
    }
   ],
   "source": [
    "# Calculate the two-sided p-value\n",
    "disc_big_perm %>%\n",
    "  summarize(2 * mean(diff_orig <= diff_perm))"
   ]
  }
 ],
 "metadata": {
  "kernelspec": {
   "display_name": "R",
   "language": "R",
   "name": "ir"
  },
  "language_info": {
   "codemirror_mode": "r",
   "file_extension": ".r",
   "mimetype": "text/x-r-source",
   "name": "R",
   "pygments_lexer": "r",
   "version": "3.5.1"
  },
  "toc": {
   "base_numbering": 1,
   "nav_menu": {},
   "number_sections": true,
   "sideBar": true,
   "skip_h1_title": false,
   "title_cell": "Table of Contents",
   "title_sidebar": "Contents",
   "toc_cell": true,
   "toc_position": {},
   "toc_section_display": true,
   "toc_window_display": false
  }
 },
 "nbformat": 4,
 "nbformat_minor": 2
}
