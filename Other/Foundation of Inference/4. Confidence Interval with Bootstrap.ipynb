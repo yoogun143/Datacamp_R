{
 "cells": [
  {
   "cell_type": "code",
   "execution_count": 1,
   "metadata": {},
   "outputs": [
    {
     "name": "stderr",
     "output_type": "stream",
     "text": [
      "\n",
      "Attaching package: 'dplyr'\n",
      "\n",
      "The following objects are masked from 'package:stats':\n",
      "\n",
      "    filter, lag\n",
      "\n",
      "The following objects are masked from 'package:base':\n",
      "\n",
      "    intersect, setdiff, setequal, union\n",
      "\n"
     ]
    }
   ],
   "source": [
    "load('all_polls.RData')\n",
    "library(dplyr)"
   ]
  },
  {
   "cell_type": "code",
   "execution_count": 2,
   "metadata": {},
   "outputs": [],
   "source": [
    "# Define function create a new replicate column\n",
    "rep_sample_n <- function (tbl, size, replace = FALSE, reps = 1) \n",
    "{\n",
    "  n <- nrow(tbl)\n",
    "  i <- unlist(replicate(reps, sample.int(n, size, replace = replace), \n",
    "                        simplify = FALSE))\n",
    "  rep_tbl <- cbind(replicate = rep(1:reps, rep(size, reps)), \n",
    "                   tbl[i, ])\n",
    "  dplyr::group_by(rep_tbl, replicate)\n",
    "}"
   ]
  },
  {
   "cell_type": "markdown",
   "metadata": {},
   "source": [
    "## RESAMPLING FROM A SAMPLE"
   ]
  },
  {
   "cell_type": "markdown",
   "metadata": {},
   "source": [
    "- all_poll: Sample 30 people from the population 1000 times => should know the population => impossible in practice\n",
    "- The all_polls dataset contains 1000 samples of size 30 from a population with a probability of voting for Candidate X equal to 0.6."
   ]
  },
  {
   "cell_type": "code",
   "execution_count": 3,
   "metadata": {},
   "outputs": [],
   "source": [
    "# Select one poll from which to resample: one_poll\n",
    "one_poll <- all_polls %>%\n",
    "  filter(poll == 1) %>%\n",
    "  select(vote)"
   ]
  },
  {
   "cell_type": "code",
   "execution_count": 4,
   "metadata": {},
   "outputs": [],
   "source": [
    "# Generate 1000 resamples of one_poll: one_poll_boot_30\n",
    "one_poll_boot_30 <- one_poll %>%\n",
    "  rep_sample_n(size = 30, replace = TRUE, reps = 1000)"
   ]
  },
  {
   "cell_type": "code",
   "execution_count": 5,
   "metadata": {},
   "outputs": [],
   "source": [
    "# Compute p-hat for each poll: ex1_props\n",
    "ex1_props <- all_polls %>% \n",
    "  group_by(poll) %>% \n",
    "  summarize(prop_yes = mean(vote))\n",
    "\n",
    "# Compute p-hat* for each resampled poll: ex2_props\n",
    "ex2_props <- one_poll_boot_30 %>%\n",
    "  summarize(prop_yes = mean(vote))"
   ]
  },
  {
   "cell_type": "code",
   "execution_count": 6,
   "metadata": {},
   "outputs": [
    {
     "data": {
      "text/html": [
       "<table>\n",
       "<thead><tr><th scope=col>sd(prop_yes)</th></tr></thead>\n",
       "<tbody>\n",
       "\t<tr><td>0.08683128</td></tr>\n",
       "</tbody>\n",
       "</table>\n"
      ],
      "text/latex": [
       "\\begin{tabular}{r|l}\n",
       " sd(prop\\_yes)\\\\\n",
       "\\hline\n",
       "\t 0.08683128\\\\\n",
       "\\end{tabular}\n"
      ],
      "text/markdown": [
       "\n",
       "| sd(prop_yes) |\n",
       "|---|\n",
       "| 0.08683128 |\n",
       "\n"
      ],
      "text/plain": [
       "  sd(prop_yes)\n",
       "1 0.08683128  "
      ]
     },
     "metadata": {},
     "output_type": "display_data"
    },
    {
     "data": {
      "text/html": [
       "<table>\n",
       "<thead><tr><th scope=col>sd(prop_yes)</th></tr></thead>\n",
       "<tbody>\n",
       "\t<tr><td>0.08378487</td></tr>\n",
       "</tbody>\n",
       "</table>\n"
      ],
      "text/latex": [
       "\\begin{tabular}{r|l}\n",
       " sd(prop\\_yes)\\\\\n",
       "\\hline\n",
       "\t 0.08378487\\\\\n",
       "\\end{tabular}\n"
      ],
      "text/markdown": [
       "\n",
       "| sd(prop_yes) |\n",
       "|---|\n",
       "| 0.08378487 |\n",
       "\n"
      ],
      "text/plain": [
       "  sd(prop_yes)\n",
       "1 0.08378487  "
      ]
     },
     "metadata": {},
     "output_type": "display_data"
    }
   ],
   "source": [
    "# Compare variability of p-hat and p-hat*\n",
    "ex1_props %>% summarize(sd(prop_yes))\n",
    "ex2_props %>% summarize(sd(prop_yes))"
   ]
  },
  {
   "cell_type": "markdown",
   "metadata": {},
   "source": [
    "=> p_hat is approximately the same whether we sample from population or resample from a sample"
   ]
  },
  {
   "cell_type": "markdown",
   "metadata": {},
   "source": [
    "## RESAMPLE NOT THE SAME SIZE AS THE ORIGINAL DATASET"
   ]
  },
  {
   "cell_type": "code",
   "execution_count": 8,
   "metadata": {},
   "outputs": [],
   "source": [
    "# Resample from one_poll with n = 3: one_poll_boot_3\n",
    "one_poll_boot_3 <- one_poll %>%\n",
    "  rep_sample_n(3, replace = TRUE, reps = 1000)\n",
    "\n",
    "# Resample from one_poll with n = 300: one_poll_boot_300\n",
    "one_poll_boot_300 <- one_poll %>%\n",
    "  rep_sample_n(300, replace = TRUE, reps = 1000)\n",
    "\n",
    "# Compute p-hat* for each resampled poll: ex3_props\n",
    "ex3_props <- one_poll_boot_3 %>% \n",
    "  summarize(prop_yes = mean(vote))\n",
    "\n",
    "# Compute p-hat* for each resampled poll: ex4_props\n",
    "ex4_props <- one_poll_boot_300 %>% \n",
    "  summarize(prop_yes = mean(vote))"
   ]
  },
  {
   "cell_type": "code",
   "execution_count": 9,
   "metadata": {},
   "outputs": [
    {
     "data": {
      "text/html": [
       "<table>\n",
       "<thead><tr><th scope=col>sd(prop_yes)</th></tr></thead>\n",
       "<tbody>\n",
       "\t<tr><td>0.2731443</td></tr>\n",
       "</tbody>\n",
       "</table>\n"
      ],
      "text/latex": [
       "\\begin{tabular}{r|l}\n",
       " sd(prop\\_yes)\\\\\n",
       "\\hline\n",
       "\t 0.2731443\\\\\n",
       "\\end{tabular}\n"
      ],
      "text/markdown": [
       "\n",
       "| sd(prop_yes) |\n",
       "|---|\n",
       "| 0.2731443 |\n",
       "\n"
      ],
      "text/plain": [
       "  sd(prop_yes)\n",
       "1 0.2731443   "
      ]
     },
     "metadata": {},
     "output_type": "display_data"
    },
    {
     "data": {
      "text/html": [
       "<table>\n",
       "<thead><tr><th scope=col>sd(prop_yes)</th></tr></thead>\n",
       "<tbody>\n",
       "\t<tr><td>0.02626365</td></tr>\n",
       "</tbody>\n",
       "</table>\n"
      ],
      "text/latex": [
       "\\begin{tabular}{r|l}\n",
       " sd(prop\\_yes)\\\\\n",
       "\\hline\n",
       "\t 0.02626365\\\\\n",
       "\\end{tabular}\n"
      ],
      "text/markdown": [
       "\n",
       "| sd(prop_yes) |\n",
       "|---|\n",
       "| 0.02626365 |\n",
       "\n"
      ],
      "text/plain": [
       "  sd(prop_yes)\n",
       "1 0.02626365  "
      ]
     },
     "metadata": {},
     "output_type": "display_data"
    }
   ],
   "source": [
    "# Compare variability of p-hat* for n = 3 vs. n = 300\n",
    "ex3_props %>% summarize(sd(prop_yes))\n",
    "ex4_props %>% summarize(sd(prop_yes))"
   ]
  },
  {
   "cell_type": "markdown",
   "metadata": {},
   "source": [
    "=> resampling 3 or 300 individuals with replacement from the 30-observation dataset is not a good approximation of this value."
   ]
  },
  {
   "cell_type": "markdown",
   "metadata": {},
   "source": [
    "## VISUALIZE VARIABILITY OF P-HAT"
   ]
  },
  {
   "cell_type": "markdown",
   "metadata": {},
   "source": [
    "- Experiment 1: Sample (n=30) repeatedly from an extremely large population (gold standard, but unrealistic)\n",
    "- Experiment 2: Resample (n=30) repeatedly with replacement from a single sample of size 30\n",
    "- Experiment 3: Resample (n=3) repeatedly with replacement from a single sample of size 30\n",
    "- Experiment 4: Resample (n=300) repeatedly with replacement from a single sample of size 30"
   ]
  },
  {
   "cell_type": "code",
   "execution_count": 10,
   "metadata": {},
   "outputs": [
    {
     "data": {
      "text/html": [
       "<table>\n",
       "<thead><tr><th scope=col>sd(prop_yes)</th></tr></thead>\n",
       "<tbody>\n",
       "\t<tr><td>0.08683128</td></tr>\n",
       "</tbody>\n",
       "</table>\n"
      ],
      "text/latex": [
       "\\begin{tabular}{r|l}\n",
       " sd(prop\\_yes)\\\\\n",
       "\\hline\n",
       "\t 0.08683128\\\\\n",
       "\\end{tabular}\n"
      ],
      "text/markdown": [
       "\n",
       "| sd(prop_yes) |\n",
       "|---|\n",
       "| 0.08683128 |\n",
       "\n"
      ],
      "text/plain": [
       "  sd(prop_yes)\n",
       "1 0.08683128  "
      ]
     },
     "metadata": {},
     "output_type": "display_data"
    },
    {
     "data": {
      "text/html": [
       "<table>\n",
       "<thead><tr><th scope=col>sd(prop_yes)</th></tr></thead>\n",
       "<tbody>\n",
       "\t<tr><td>0.08378487</td></tr>\n",
       "</tbody>\n",
       "</table>\n"
      ],
      "text/latex": [
       "\\begin{tabular}{r|l}\n",
       " sd(prop\\_yes)\\\\\n",
       "\\hline\n",
       "\t 0.08378487\\\\\n",
       "\\end{tabular}\n"
      ],
      "text/markdown": [
       "\n",
       "| sd(prop_yes) |\n",
       "|---|\n",
       "| 0.08378487 |\n",
       "\n"
      ],
      "text/plain": [
       "  sd(prop_yes)\n",
       "1 0.08378487  "
      ]
     },
     "metadata": {},
     "output_type": "display_data"
    },
    {
     "data": {
      "text/html": [
       "<table>\n",
       "<thead><tr><th scope=col>sd(prop_yes)</th></tr></thead>\n",
       "<tbody>\n",
       "\t<tr><td>0.2731443</td></tr>\n",
       "</tbody>\n",
       "</table>\n"
      ],
      "text/latex": [
       "\\begin{tabular}{r|l}\n",
       " sd(prop\\_yes)\\\\\n",
       "\\hline\n",
       "\t 0.2731443\\\\\n",
       "\\end{tabular}\n"
      ],
      "text/markdown": [
       "\n",
       "| sd(prop_yes) |\n",
       "|---|\n",
       "| 0.2731443 |\n",
       "\n"
      ],
      "text/plain": [
       "  sd(prop_yes)\n",
       "1 0.2731443   "
      ]
     },
     "metadata": {},
     "output_type": "display_data"
    },
    {
     "data": {
      "text/html": [
       "<table>\n",
       "<thead><tr><th scope=col>sd(prop_yes)</th></tr></thead>\n",
       "<tbody>\n",
       "\t<tr><td>0.02626365</td></tr>\n",
       "</tbody>\n",
       "</table>\n"
      ],
      "text/latex": [
       "\\begin{tabular}{r|l}\n",
       " sd(prop\\_yes)\\\\\n",
       "\\hline\n",
       "\t 0.02626365\\\\\n",
       "\\end{tabular}\n"
      ],
      "text/markdown": [
       "\n",
       "| sd(prop_yes) |\n",
       "|---|\n",
       "| 0.02626365 |\n",
       "\n"
      ],
      "text/plain": [
       "  sd(prop_yes)\n",
       "1 0.02626365  "
      ]
     },
     "metadata": {},
     "output_type": "display_data"
    }
   ],
   "source": [
    "# Recall the variability of sample proportions\n",
    "ex1_props %>% summarize(sd(prop_yes))\n",
    "ex2_props %>% summarize(sd(prop_yes))\n",
    "ex3_props %>% summarize(sd(prop_yes))\n",
    "ex4_props %>% summarize(sd(prop_yes))"
   ]
  },
  {
   "cell_type": "code",
   "execution_count": 12,
   "metadata": {},
   "outputs": [
    {
     "data": {
      "image/png": "[encoded data removed]",
      "text/plain": [
       "plot without title"
      ]
     },
     "metadata": {},
     "output_type": "display_data"
    }
   ],
   "source": [
    "# Create smoothed density curves for all four experiments\n",
    "library(ggplot2)\n",
    "\n",
    "ggplot() + \n",
    "  geom_density(data = ex1_props, aes(x = prop_yes), col = \"black\", bw = .1) +\n",
    "  geom_density(data = ex2_props, aes(x = prop_yes), col = \"green\", bw = .1) +\n",
    "  geom_density(data = ex3_props, aes(x = prop_yes), col = \"red\", bw = .1) +\n",
    "  geom_density(data = ex4_props, aes(x = prop_yes), col = \"blue\", bw = .1)"
   ]
  },
  {
   "cell_type": "markdown",
   "metadata": {},
   "source": [
    "## EMPIRICAL RULE"
   ]
  },
  {
   "cell_type": "markdown",
   "metadata": {},
   "source": [
    "check: if the variability of the sample proportion (called the standard error, or SE) is known, then approximately 95% of p-values (from different samples) will be within 2SE of the true population proportion."
   ]
  },
  {
   "cell_type": "code",
   "execution_count": 13,
   "metadata": {},
   "outputs": [],
   "source": [
    "# Compute proportion of votes for Candidate X: props\n",
    "props <- all_polls %>%\n",
    "  group_by(poll) %>% \n",
    "  summarize(prop_yes = mean(vote == 1))"
   ]
  },
  {
   "cell_type": "code",
   "execution_count": 14,
   "metadata": {},
   "outputs": [
    {
     "data": {
      "text/html": [
       "<table>\n",
       "<thead><tr><th scope=col>mean(in_CI)</th></tr></thead>\n",
       "<tbody>\n",
       "\t<tr><td>0.966</td></tr>\n",
       "</tbody>\n",
       "</table>\n"
      ],
      "text/latex": [
       "\\begin{tabular}{r|l}\n",
       " mean(in\\_CI)\\\\\n",
       "\\hline\n",
       "\t 0.966\\\\\n",
       "\\end{tabular}\n"
      ],
      "text/markdown": [
       "\n",
       "| mean(in_CI) |\n",
       "|---|\n",
       "| 0.966 |\n",
       "\n"
      ],
      "text/plain": [
       "  mean(in_CI)\n",
       "1 0.966      "
      ]
     },
     "metadata": {},
     "output_type": "display_data"
    }
   ],
   "source": [
    "# Proportion of polls within 2SE\n",
    "props %>%\n",
    "  mutate(lower = mean(prop_yes) - 2 * sd(prop_yes),\n",
    "         upper = mean(prop_yes) + 2 * sd(prop_yes),\n",
    "         in_CI = prop_yes > lower & prop_yes < upper) %>%\n",
    "  summarize(mean(in_CI))"
   ]
  },
  {
   "cell_type": "markdown",
   "metadata": {},
   "source": [
    "=> 96.6% are within 2 standard errors of the true population parameter."
   ]
  },
  {
   "cell_type": "markdown",
   "metadata": {},
   "source": [
    "## BOOTSTRAP T-CONFIDENCE INTERVAL"
   ]
  },
  {
   "cell_type": "code",
   "execution_count": 17,
   "metadata": {},
   "outputs": [],
   "source": [
    "# Again, set the one sample that was collected\n",
    "one_poll <- all_polls %>%\n",
    "  filter(poll == 1) %>%\n",
    "  select(vote)\n",
    "\n",
    "# Compute p-hat from one_poll: p_hat\n",
    "p_hat <- mean(one_poll$vote)\n",
    "\n",
    "# Bootstrap to find the SE of p-hat: one_poll_boot\n",
    "one_poll_boot <- one_poll %>%\n",
    "  rep_sample_n(30, replace = TRUE, reps = 1000) %>%\n",
    "  summarize(prop_yes_boot = mean(vote == 1))"
   ]
  },
  {
   "cell_type": "code",
   "execution_count": 18,
   "metadata": {},
   "outputs": [
    {
     "data": {
      "text/html": [
       "<table>\n",
       "<thead><tr><th scope=col>lower</th><th scope=col>upper</th></tr></thead>\n",
       "<tbody>\n",
       "\t<tr><td>0.5326918</td><td>0.8673082</td></tr>\n",
       "</tbody>\n",
       "</table>\n"
      ],
      "text/latex": [
       "\\begin{tabular}{r|ll}\n",
       " lower & upper\\\\\n",
       "\\hline\n",
       "\t 0.5326918 & 0.8673082\\\\\n",
       "\\end{tabular}\n"
      ],
      "text/markdown": [
       "\n",
       "| lower | upper |\n",
       "|---|---|\n",
       "| 0.5326918 | 0.8673082 |\n",
       "\n"
      ],
      "text/plain": [
       "  lower     upper    \n",
       "1 0.5326918 0.8673082"
      ]
     },
     "metadata": {},
     "output_type": "display_data"
    },
    {
     "data": {
      "text/html": [
       "<table>\n",
       "<thead><tr><th scope=col>q025_prop</th><th scope=col>q975_prop</th></tr></thead>\n",
       "<tbody>\n",
       "\t<tr><td>0.5333333</td><td>0.8666667</td></tr>\n",
       "</tbody>\n",
       "</table>\n"
      ],
      "text/latex": [
       "\\begin{tabular}{r|ll}\n",
       " q025\\_prop & q975\\_prop\\\\\n",
       "\\hline\n",
       "\t 0.5333333 & 0.8666667\\\\\n",
       "\\end{tabular}\n"
      ],
      "text/markdown": [
       "\n",
       "| q025_prop | q975_prop |\n",
       "|---|---|\n",
       "| 0.5333333 | 0.8666667 |\n",
       "\n"
      ],
      "text/plain": [
       "  q025_prop q975_prop\n",
       "1 0.5333333 0.8666667"
      ]
     },
     "metadata": {},
     "output_type": "display_data"
    }
   ],
   "source": [
    "# Create an interval of plausible values\n",
    "one_poll_boot %>%\n",
    "  summarize(lower = p_hat - 2 * sd(one_poll_boot$prop_yes_boot),\n",
    "            upper = p_hat + 2 * sd(one_poll_boot$prop_yes_boot))\n",
    "\n",
    "# Find the 2.5% and 97.5% of the p-hat values for comparison\n",
    "one_poll_boot %>% \n",
    "  summarize(q025_prop = quantile(prop_yes_boot, p = 0.025),\n",
    "            q975_prop = quantile(prop_yes_boot, p = 0.975))"
   ]
  },
  {
   "cell_type": "markdown",
   "metadata": {},
   "source": [
    "## SAMPLE SIZE ON BOOTSTRAP CIS"
   ]
  },
  {
   "cell_type": "code",
   "execution_count": 21,
   "metadata": {},
   "outputs": [
    {
     "data": {
      "text/html": [
       "<table>\n",
       "<thead><tr><th scope=col>lower</th><th scope=col>upper</th></tr></thead>\n",
       "<tbody>\n",
       "\t<tr><td>0.2993584</td><td>0.6339749</td></tr>\n",
       "</tbody>\n",
       "</table>\n"
      ],
      "text/latex": [
       "\\begin{tabular}{r|ll}\n",
       " lower & upper\\\\\n",
       "\\hline\n",
       "\t 0.2993584 & 0.6339749\\\\\n",
       "\\end{tabular}\n"
      ],
      "text/markdown": [
       "\n",
       "| lower | upper |\n",
       "|---|---|\n",
       "| 0.2993584 | 0.6339749 |\n",
       "\n"
      ],
      "text/plain": [
       "  lower     upper    \n",
       "1 0.2993584 0.6339749"
      ]
     },
     "metadata": {},
     "output_type": "display_data"
    }
   ],
   "source": [
    "# Recall the bootstrap t-confidence interval\n",
    "p_hat <- mean(one_poll$vote)\n",
    "one_poll_boot %>%\n",
    "  summarize(lower = p_hat - 2 * sd(prop_yes_boot),\n",
    "            upper = p_hat + 2 * sd(prop_yes_boot))"
   ]
  },
  {
   "cell_type": "code",
   "execution_count": 22,
   "metadata": {},
   "outputs": [
    {
     "data": {
      "text/html": [
       "<table>\n",
       "<thead><tr><th scope=col>lower</th><th scope=col>upper</th></tr></thead>\n",
       "<tbody>\n",
       "\t<tr><td>0.4100897</td><td>0.5232436</td></tr>\n",
       "</tbody>\n",
       "</table>\n"
      ],
      "text/latex": [
       "\\begin{tabular}{r|ll}\n",
       " lower & upper\\\\\n",
       "\\hline\n",
       "\t 0.4100897 & 0.5232436\\\\\n",
       "\\end{tabular}\n"
      ],
      "text/markdown": [
       "\n",
       "| lower | upper |\n",
       "|---|---|\n",
       "| 0.4100897 | 0.5232436 |\n",
       "\n"
      ],
      "text/plain": [
       "  lower     upper    \n",
       "1 0.4100897 0.5232436"
      ]
     },
     "metadata": {},
     "output_type": "display_data"
    }
   ],
   "source": [
    "# Collect a sample of 30 observations from the population\n",
    "one_poll <- as.tbl(data.frame(vote = rbinom(30, 1, .6)))\n",
    "\n",
    "# Resample the data using samples of size 300 (an incorrect strategy!)\n",
    "one_poll_boot_300 <- one_poll %>%\n",
    "  rep_sample_n(300, replace = TRUE, reps = 1000) %>%\n",
    "  summarize(prop_yes_boot = mean(vote))\n",
    "\n",
    "# Find the endpoints of the bootstrap t-confidence interval\n",
    "one_poll_boot_300 %>%\n",
    "  summarize(lower = p_hat - 2 * sd(prop_yes_boot),\n",
    "            upper = p_hat + 2 * sd(prop_yes_boot))"
   ]
  },
  {
   "cell_type": "code",
   "execution_count": 23,
   "metadata": {},
   "outputs": [
    {
     "data": {
      "text/html": [
       "<table>\n",
       "<thead><tr><th scope=col>lower</th><th scope=col>upper</th></tr></thead>\n",
       "<tbody>\n",
       "\t<tr><td>-0.1081297</td><td>1.041463  </td></tr>\n",
       "</tbody>\n",
       "</table>\n"
      ],
      "text/latex": [
       "\\begin{tabular}{r|ll}\n",
       " lower & upper\\\\\n",
       "\\hline\n",
       "\t -0.1081297 & 1.041463  \\\\\n",
       "\\end{tabular}\n"
      ],
      "text/markdown": [
       "\n",
       "| lower | upper |\n",
       "|---|---|\n",
       "| -0.1081297 | 1.041463   |\n",
       "\n"
      ],
      "text/plain": [
       "  lower      upper   \n",
       "1 -0.1081297 1.041463"
      ]
     },
     "metadata": {},
     "output_type": "display_data"
    }
   ],
   "source": [
    "# Resample the data using samples of size 3 (an incorrect strategy!)\n",
    "one_poll_boot_3 <- one_poll %>%\n",
    "  rep_sample_n(3, replace = TRUE, reps = 1000) %>%\n",
    "  summarize(prop_yes_boot = mean(vote)) \n",
    "\n",
    "# Find the endpoints of the the bootstrap t-confidence interval \n",
    "one_poll_boot_3 %>%\n",
    "  summarize(lower = p_hat - 2 * sd(prop_yes_boot),\n",
    "            upper = p_hat + 2 * sd(prop_yes_boot))"
   ]
  },
  {
   "cell_type": "markdown",
   "metadata": {},
   "source": [
    "## SAMPLE PROPORTION VALUE EFFECTS ON BOOTSTRAP CIS"
   ]
  },
  {
   "cell_type": "markdown",
   "metadata": {},
   "source": [
    "Change true proportion from 0.6 to 0.8"
   ]
  },
  {
   "cell_type": "code",
   "execution_count": 24,
   "metadata": {},
   "outputs": [],
   "source": [
    "# Collect 30 observations from a population with true proportion of 0.8\n",
    "one_poll <- as.tbl(data.frame(vote = rbinom(n = 30, size = 1, prob = 0.8)))\n",
    "\n",
    "# Compute p-hat of new sample: p_hat\n",
    "p_hat <- mean(one_poll$vote)\n",
    "\n",
    "# Resample the 30 observations (with replacement)\n",
    "one_poll_boot <- one_poll %>%\n",
    "  rep_sample_n(30, replace = TRUE, reps = 1000) %>%\n",
    "  summarize(prop_yes_boot = mean(vote))"
   ]
  },
  {
   "cell_type": "code",
   "execution_count": 25,
   "metadata": {},
   "outputs": [
    {
     "data": {
      "text/html": [
       "<table>\n",
       "<thead><tr><th scope=col>lower</th><th scope=col>upper</th></tr></thead>\n",
       "<tbody>\n",
       "\t<tr><td>0.7889385</td><td>1.011062 </td></tr>\n",
       "</tbody>\n",
       "</table>\n"
      ],
      "text/latex": [
       "\\begin{tabular}{r|ll}\n",
       " lower & upper\\\\\n",
       "\\hline\n",
       "\t 0.7889385 & 1.011062 \\\\\n",
       "\\end{tabular}\n"
      ],
      "text/markdown": [
       "\n",
       "| lower | upper |\n",
       "|---|---|\n",
       "| 0.7889385 | 1.011062  |\n",
       "\n"
      ],
      "text/plain": [
       "  lower     upper   \n",
       "1 0.7889385 1.011062"
      ]
     },
     "metadata": {},
     "output_type": "display_data"
    }
   ],
   "source": [
    "# Calculate the bootstrap t-confidence interval\n",
    "one_poll_boot %>%\n",
    "  summarize(lower = p_hat - 2 * sd(one_poll_boot$prop_yes_boot),\n",
    "            upper = p_hat + 2 * sd(one_poll_boot$prop_yes_boot))"
   ]
  },
  {
   "cell_type": "markdown",
   "metadata": {},
   "source": [
    "=> it's narrower than previously calculated."
   ]
  },
  {
   "cell_type": "markdown",
   "metadata": {},
   "source": [
    "## PERCENTILE EFFECTS ON BOOTSTRAP CIS"
   ]
  },
  {
   "cell_type": "code",
   "execution_count": 26,
   "metadata": {},
   "outputs": [
    {
     "data": {
      "text/html": [
       "<table>\n",
       "<thead><tr><th scope=col>q025_prop</th><th scope=col>q975_prop</th></tr></thead>\n",
       "<tbody>\n",
       "\t<tr><td>0.8</td><td>1  </td></tr>\n",
       "</tbody>\n",
       "</table>\n"
      ],
      "text/latex": [
       "\\begin{tabular}{r|ll}\n",
       " q025\\_prop & q975\\_prop\\\\\n",
       "\\hline\n",
       "\t 0.8 & 1  \\\\\n",
       "\\end{tabular}\n"
      ],
      "text/markdown": [
       "\n",
       "| q025_prop | q975_prop |\n",
       "|---|---|\n",
       "| 0.8 | 1   |\n",
       "\n"
      ],
      "text/plain": [
       "  q025_prop q975_prop\n",
       "1 0.8       1        "
      ]
     },
     "metadata": {},
     "output_type": "display_data"
    }
   ],
   "source": [
    "# Calculate a 95% bootstrap percentile interval\n",
    "one_poll_boot %>% \n",
    "  summarize(q025_prop = quantile(prop_yes_boot, p = .025),\n",
    "            q975_prop = quantile(prop_yes_boot, p = .975))"
   ]
  },
  {
   "cell_type": "code",
   "execution_count": 27,
   "metadata": {},
   "outputs": [
    {
     "data": {
      "text/html": [
       "<table>\n",
       "<thead><tr><th scope=col>q005_prop</th><th scope=col>q995_prop</th></tr></thead>\n",
       "<tbody>\n",
       "\t<tr><td>0.7665</td><td>1     </td></tr>\n",
       "</tbody>\n",
       "</table>\n"
      ],
      "text/latex": [
       "\\begin{tabular}{r|ll}\n",
       " q005\\_prop & q995\\_prop\\\\\n",
       "\\hline\n",
       "\t 0.7665 & 1     \\\\\n",
       "\\end{tabular}\n"
      ],
      "text/markdown": [
       "\n",
       "| q005_prop | q995_prop |\n",
       "|---|---|\n",
       "| 0.7665 | 1      |\n",
       "\n"
      ],
      "text/plain": [
       "  q005_prop q995_prop\n",
       "1 0.7665    1        "
      ]
     },
     "metadata": {},
     "output_type": "display_data"
    }
   ],
   "source": [
    "# Calculate a 99% bootstrap percentile interval\n",
    "one_poll_boot %>% \n",
    "  summarize(q005_prop = quantile(prop_yes_boot, p = .005),\n",
    "            q995_prop = quantile(prop_yes_boot, p = .995))"
   ]
  },
  {
   "cell_type": "code",
   "execution_count": 28,
   "metadata": {},
   "outputs": [
    {
     "data": {
      "text/html": [
       "<table>\n",
       "<thead><tr><th scope=col>q05_prop</th><th scope=col>q95_prop</th></tr></thead>\n",
       "<tbody>\n",
       "\t<tr><td>0.8      </td><td>0.9666667</td></tr>\n",
       "</tbody>\n",
       "</table>\n"
      ],
      "text/latex": [
       "\\begin{tabular}{r|ll}\n",
       " q05\\_prop & q95\\_prop\\\\\n",
       "\\hline\n",
       "\t 0.8       & 0.9666667\\\\\n",
       "\\end{tabular}\n"
      ],
      "text/markdown": [
       "\n",
       "| q05_prop | q95_prop |\n",
       "|---|---|\n",
       "| 0.8       | 0.9666667 |\n",
       "\n"
      ],
      "text/plain": [
       "  q05_prop q95_prop \n",
       "1 0.8      0.9666667"
      ]
     },
     "metadata": {},
     "output_type": "display_data"
    }
   ],
   "source": [
    "# Calculate a 90% bootstrap percentile interval\n",
    "one_poll_boot %>% \n",
    "  summarize(q05_prop = quantile(prop_yes_boot, p = .05),\n",
    "            q95_prop = quantile(prop_yes_boot, p = .95))"
   ]
  }
 ],
 "metadata": {
  "kernelspec": {
   "display_name": "R",
   "language": "R",
   "name": "ir"
  },
  "language_info": {
   "codemirror_mode": "r",
   "file_extension": ".r",
   "mimetype": "text/x-r-source",
   "name": "R",
   "pygments_lexer": "r",
   "version": "3.5.1"
  }
 },
 "nbformat": 4,
 "nbformat_minor": 2
}
