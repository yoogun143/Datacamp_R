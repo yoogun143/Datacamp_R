{
 "cells": [
  {
   "cell_type": "code",
   "execution_count": 4,
   "metadata": {},
   "outputs": [],
   "source": [
    "library(dplyr)\n",
    "load('us_regions.RData')"
   ]
  },
  {
   "cell_type": "markdown",
   "metadata": {},
   "source": [
    "## Random Sample"
   ]
  },
  {
   "cell_type": "code",
   "execution_count": 5,
   "metadata": {},
   "outputs": [
    {
     "data": {
      "text/html": [
       "<table>\n",
       "<thead><tr><th scope=col>region</th><th scope=col>n</th></tr></thead>\n",
       "<tbody>\n",
       "\t<tr><td>Midwest  </td><td>1        </td></tr>\n",
       "\t<tr><td>Northeast</td><td>2        </td></tr>\n",
       "\t<tr><td>South    </td><td>3        </td></tr>\n",
       "\t<tr><td>West     </td><td>2        </td></tr>\n",
       "</tbody>\n",
       "</table>\n"
      ],
      "text/latex": [
       "\\begin{tabular}{r|ll}\n",
       " region & n\\\\\n",
       "\\hline\n",
       "\t Midwest   & 1        \\\\\n",
       "\t Northeast & 2        \\\\\n",
       "\t South     & 3        \\\\\n",
       "\t West      & 2        \\\\\n",
       "\\end{tabular}\n"
      ],
      "text/markdown": [
       "\n",
       "| region | n |\n",
       "|---|---|\n",
       "| Midwest   | 1         |\n",
       "| Northeast | 2         |\n",
       "| South     | 3         |\n",
       "| West      | 2         |\n",
       "\n"
      ],
      "text/plain": [
       "  region    n\n",
       "1 Midwest   1\n",
       "2 Northeast 2\n",
       "3 South     3\n",
       "4 West      2"
      ]
     },
     "metadata": {},
     "output_type": "display_data"
    }
   ],
   "source": [
    "# Simple random sample: states_srs\n",
    "states_srs <- us_regions %>%\n",
    "  sample_n(8)\n",
    "\n",
    "# Count states by region\n",
    "states_srs %>%\n",
    "  group_by(region) %>%\n",
    "  count()"
   ]
  },
  {
   "cell_type": "markdown",
   "metadata": {},
   "source": [
    "## Stratified Sample"
   ]
  },
  {
   "cell_type": "code",
   "execution_count": 6,
   "metadata": {},
   "outputs": [
    {
     "data": {
      "text/html": [
       "<table>\n",
       "<thead><tr><th scope=col>region</th><th scope=col>n</th></tr></thead>\n",
       "<tbody>\n",
       "\t<tr><td>Midwest  </td><td>2        </td></tr>\n",
       "\t<tr><td>Northeast</td><td>2        </td></tr>\n",
       "\t<tr><td>South    </td><td>2        </td></tr>\n",
       "\t<tr><td>West     </td><td>2        </td></tr>\n",
       "</tbody>\n",
       "</table>\n"
      ],
      "text/latex": [
       "\\begin{tabular}{r|ll}\n",
       " region & n\\\\\n",
       "\\hline\n",
       "\t Midwest   & 2        \\\\\n",
       "\t Northeast & 2        \\\\\n",
       "\t South     & 2        \\\\\n",
       "\t West      & 2        \\\\\n",
       "\\end{tabular}\n"
      ],
      "text/markdown": [
       "\n",
       "| region | n |\n",
       "|---|---|\n",
       "| Midwest   | 2         |\n",
       "| Northeast | 2         |\n",
       "| South     | 2         |\n",
       "| West      | 2         |\n",
       "\n"
      ],
      "text/plain": [
       "  region    n\n",
       "1 Midwest   2\n",
       "2 Northeast 2\n",
       "3 South     2\n",
       "4 West      2"
      ]
     },
     "metadata": {},
     "output_type": "display_data"
    }
   ],
   "source": [
    "# Stratified sample\n",
    "states_str <- us_regions %>%\n",
    "  group_by(region) %>%\n",
    "  sample_n(2)\n",
    "\n",
    "# Count states by region\n",
    "states_str %>%\n",
    "  group_by(region) %>%\n",
    "  count()"
   ]
  }
 ],
 "metadata": {
  "kernelspec": {
   "display_name": "R",
   "language": "R",
   "name": "ir"
  },
  "language_info": {
   "codemirror_mode": "r",
   "file_extension": ".r",
   "mimetype": "text/x-r-source",
   "name": "R",
   "pygments_lexer": "r",
   "version": "3.5.1"
  }
 },
 "nbformat": 4,
 "nbformat_minor": 2
}
