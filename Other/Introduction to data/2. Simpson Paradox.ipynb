{
 "cells": [
  {
   "cell_type": "code",
   "execution_count": 4,
   "metadata": {},
   "outputs": [],
   "source": [
    "# Load packages\n",
    "library(dplyr)\n",
    "library(tidyr)\n",
    "load('ucb_admit.Rdata')"
   ]
  },
  {
   "cell_type": "markdown",
   "metadata": {},
   "source": [
    "## NUMBER OF MALES AND FEMALES ADMITTED"
   ]
  },
  {
   "cell_type": "code",
   "execution_count": 5,
   "metadata": {},
   "outputs": [
    {
     "data": {
      "text/html": [
       "<table>\n",
       "<thead><tr><th scope=col>Admit</th><th scope=col>Gender</th><th scope=col>n</th></tr></thead>\n",
       "<tbody>\n",
       "\t<tr><td>Admitted</td><td>Male    </td><td>1198    </td></tr>\n",
       "\t<tr><td>Admitted</td><td>Female  </td><td> 557    </td></tr>\n",
       "\t<tr><td>Rejected</td><td>Male    </td><td>1493    </td></tr>\n",
       "\t<tr><td>Rejected</td><td>Female  </td><td>1278    </td></tr>\n",
       "</tbody>\n",
       "</table>\n"
      ],
      "text/latex": [
       "\\begin{tabular}{r|lll}\n",
       " Admit & Gender & n\\\\\n",
       "\\hline\n",
       "\t Admitted & Male     & 1198    \\\\\n",
       "\t Admitted & Female   &  557    \\\\\n",
       "\t Rejected & Male     & 1493    \\\\\n",
       "\t Rejected & Female   & 1278    \\\\\n",
       "\\end{tabular}\n"
      ],
      "text/markdown": [
       "\n",
       "| Admit | Gender | n |\n",
       "|---|---|---|\n",
       "| Admitted | Male     | 1198     |\n",
       "| Admitted | Female   |  557     |\n",
       "| Rejected | Male     | 1493     |\n",
       "| Rejected | Female   | 1278     |\n",
       "\n"
      ],
      "text/plain": [
       "  Admit    Gender n   \n",
       "1 Admitted Male   1198\n",
       "2 Admitted Female  557\n",
       "3 Rejected Male   1493\n",
       "4 Rejected Female 1278"
      ]
     },
     "metadata": {},
     "output_type": "display_data"
    }
   ],
   "source": [
    "# Count number of male and female applicants admitted\n",
    "ucb_counts <- ucb_admit %>%\n",
    "  count(Admit, Gender)\n",
    "\n",
    "# View result\n",
    "ucb_counts"
   ]
  },
  {
   "cell_type": "code",
   "execution_count": 6,
   "metadata": {},
   "outputs": [
    {
     "data": {
      "text/html": [
       "<table>\n",
       "<thead><tr><th scope=col>Gender</th><th scope=col>Admitted</th><th scope=col>Rejected</th></tr></thead>\n",
       "<tbody>\n",
       "\t<tr><td>Male  </td><td>1198  </td><td>1493  </td></tr>\n",
       "\t<tr><td>Female</td><td> 557  </td><td>1278  </td></tr>\n",
       "</tbody>\n",
       "</table>\n"
      ],
      "text/latex": [
       "\\begin{tabular}{r|lll}\n",
       " Gender & Admitted & Rejected\\\\\n",
       "\\hline\n",
       "\t Male   & 1198   & 1493  \\\\\n",
       "\t Female &  557   & 1278  \\\\\n",
       "\\end{tabular}\n"
      ],
      "text/markdown": [
       "\n",
       "| Gender | Admitted | Rejected |\n",
       "|---|---|---|\n",
       "| Male   | 1198   | 1493   |\n",
       "| Female |  557   | 1278   |\n",
       "\n"
      ],
      "text/plain": [
       "  Gender Admitted Rejected\n",
       "1 Male   1198     1493    \n",
       "2 Female  557     1278    "
      ]
     },
     "metadata": {},
     "output_type": "display_data"
    }
   ],
   "source": [
    "# Spread the output across columns\n",
    "ucb_counts %>%\n",
    "  spread(Admit, n)"
   ]
  },
  {
   "cell_type": "markdown",
   "metadata": {},
   "source": [
    "## PROPORTION OF MALES ADMITTED OVERALL"
   ]
  },
  {
   "cell_type": "code",
   "execution_count": 7,
   "metadata": {},
   "outputs": [
    {
     "data": {
      "text/html": [
       "<table>\n",
       "<thead><tr><th scope=col>Gender</th><th scope=col>Admitted</th><th scope=col>Rejected</th><th scope=col>Perc_Admit</th></tr></thead>\n",
       "<tbody>\n",
       "\t<tr><td>Male     </td><td>1198     </td><td>1493     </td><td>0.4451877</td></tr>\n",
       "\t<tr><td>Female   </td><td> 557     </td><td>1278     </td><td>0.3035422</td></tr>\n",
       "</tbody>\n",
       "</table>\n"
      ],
      "text/latex": [
       "\\begin{tabular}{r|llll}\n",
       " Gender & Admitted & Rejected & Perc\\_Admit\\\\\n",
       "\\hline\n",
       "\t Male      & 1198      & 1493      & 0.4451877\\\\\n",
       "\t Female    &  557      & 1278      & 0.3035422\\\\\n",
       "\\end{tabular}\n"
      ],
      "text/markdown": [
       "\n",
       "| Gender | Admitted | Rejected | Perc_Admit |\n",
       "|---|---|---|---|\n",
       "| Male      | 1198      | 1493      | 0.4451877 |\n",
       "| Female    |  557      | 1278      | 0.3035422 |\n",
       "\n"
      ],
      "text/plain": [
       "  Gender Admitted Rejected Perc_Admit\n",
       "1 Male   1198     1493     0.4451877 \n",
       "2 Female  557     1278     0.3035422 "
      ]
     },
     "metadata": {},
     "output_type": "display_data"
    }
   ],
   "source": [
    "ucb_admit %>%\n",
    "  # Table of counts of admission status and gender\n",
    "  count(Admit, Gender) %>%\n",
    "  # Spread output across columns based on admission status\n",
    "  spread(Admit, n) %>%\n",
    "  # Create new variable\n",
    "  mutate(Perc_Admit = Admitted / (Admitted + Rejected))"
   ]
  },
  {
   "cell_type": "markdown",
   "metadata": {},
   "source": [
    "## PROPORTION OF MALES ADMITTED FOR EACH DEPARTMENT"
   ]
  },
  {
   "cell_type": "code",
   "execution_count": 10,
   "metadata": {},
   "outputs": [
    {
     "data": {
      "text/html": [
       "<table>\n",
       "<thead><tr><th scope=col>Dept</th><th scope=col>Gender</th><th scope=col>Admit</th><th scope=col>n</th></tr></thead>\n",
       "<tbody>\n",
       "\t<tr><td>A       </td><td>Male    </td><td>Admitted</td><td>512     </td></tr>\n",
       "\t<tr><td>A       </td><td>Male    </td><td>Rejected</td><td>313     </td></tr>\n",
       "\t<tr><td>A       </td><td>Female  </td><td>Admitted</td><td> 89     </td></tr>\n",
       "\t<tr><td>A       </td><td>Female  </td><td>Rejected</td><td> 19     </td></tr>\n",
       "\t<tr><td>B       </td><td>Male    </td><td>Admitted</td><td>353     </td></tr>\n",
       "\t<tr><td>B       </td><td>Male    </td><td>Rejected</td><td>207     </td></tr>\n",
       "</tbody>\n",
       "</table>\n"
      ],
      "text/latex": [
       "\\begin{tabular}{r|llll}\n",
       " Dept & Gender & Admit & n\\\\\n",
       "\\hline\n",
       "\t A        & Male     & Admitted & 512     \\\\\n",
       "\t A        & Male     & Rejected & 313     \\\\\n",
       "\t A        & Female   & Admitted &  89     \\\\\n",
       "\t A        & Female   & Rejected &  19     \\\\\n",
       "\t B        & Male     & Admitted & 353     \\\\\n",
       "\t B        & Male     & Rejected & 207     \\\\\n",
       "\\end{tabular}\n"
      ],
      "text/markdown": [
       "\n",
       "| Dept | Gender | Admit | n |\n",
       "|---|---|---|---|\n",
       "| A        | Male     | Admitted | 512      |\n",
       "| A        | Male     | Rejected | 313      |\n",
       "| A        | Female   | Admitted |  89      |\n",
       "| A        | Female   | Rejected |  19      |\n",
       "| B        | Male     | Admitted | 353      |\n",
       "| B        | Male     | Rejected | 207      |\n",
       "\n"
      ],
      "text/plain": [
       "  Dept Gender Admit    n  \n",
       "1 A    Male   Admitted 512\n",
       "2 A    Male   Rejected 313\n",
       "3 A    Female Admitted  89\n",
       "4 A    Female Rejected  19\n",
       "5 B    Male   Admitted 353\n",
       "6 B    Male   Rejected 207"
      ]
     },
     "metadata": {},
     "output_type": "display_data"
    }
   ],
   "source": [
    "ucb_admission_counts <- ucb_admit %>%\n",
    "  # Counts by department, then gender, then admission status\n",
    "  count(Dept, Gender, Admit)\n",
    "\n",
    "# See the result\n",
    "head(ucb_admission_counts)"
   ]
  },
  {
   "cell_type": "code",
   "execution_count": 11,
   "metadata": {},
   "outputs": [
    {
     "data": {
      "text/html": [
       "<table>\n",
       "<thead><tr><th scope=col>Dept</th><th scope=col>Gender</th><th scope=col>Admit</th><th scope=col>n</th><th scope=col>prop</th></tr></thead>\n",
       "<tbody>\n",
       "\t<tr><td>A         </td><td>Male      </td><td>Admitted  </td><td>512       </td><td>0.62060606</td></tr>\n",
       "\t<tr><td>B         </td><td>Male      </td><td>Admitted  </td><td>353       </td><td>0.63035714</td></tr>\n",
       "\t<tr><td>C         </td><td>Male      </td><td>Admitted  </td><td>120       </td><td>0.36923077</td></tr>\n",
       "\t<tr><td>D         </td><td>Male      </td><td>Admitted  </td><td>138       </td><td>0.33093525</td></tr>\n",
       "\t<tr><td>E         </td><td>Male      </td><td>Admitted  </td><td> 53       </td><td>0.27748691</td></tr>\n",
       "\t<tr><td>F         </td><td>Male      </td><td>Admitted  </td><td> 22       </td><td>0.05898123</td></tr>\n",
       "</tbody>\n",
       "</table>\n"
      ],
      "text/latex": [
       "\\begin{tabular}{r|lllll}\n",
       " Dept & Gender & Admit & n & prop\\\\\n",
       "\\hline\n",
       "\t A          & Male       & Admitted   & 512        & 0.62060606\\\\\n",
       "\t B          & Male       & Admitted   & 353        & 0.63035714\\\\\n",
       "\t C          & Male       & Admitted   & 120        & 0.36923077\\\\\n",
       "\t D          & Male       & Admitted   & 138        & 0.33093525\\\\\n",
       "\t E          & Male       & Admitted   &  53        & 0.27748691\\\\\n",
       "\t F          & Male       & Admitted   &  22        & 0.05898123\\\\\n",
       "\\end{tabular}\n"
      ],
      "text/markdown": [
       "\n",
       "| Dept | Gender | Admit | n | prop |\n",
       "|---|---|---|---|---|\n",
       "| A          | Male       | Admitted   | 512        | 0.62060606 |\n",
       "| B          | Male       | Admitted   | 353        | 0.63035714 |\n",
       "| C          | Male       | Admitted   | 120        | 0.36923077 |\n",
       "| D          | Male       | Admitted   | 138        | 0.33093525 |\n",
       "| E          | Male       | Admitted   |  53        | 0.27748691 |\n",
       "| F          | Male       | Admitted   |  22        | 0.05898123 |\n",
       "\n"
      ],
      "text/plain": [
       "  Dept Gender Admit    n   prop      \n",
       "1 A    Male   Admitted 512 0.62060606\n",
       "2 B    Male   Admitted 353 0.63035714\n",
       "3 C    Male   Admitted 120 0.36923077\n",
       "4 D    Male   Admitted 138 0.33093525\n",
       "5 E    Male   Admitted  53 0.27748691\n",
       "6 F    Male   Admitted  22 0.05898123"
      ]
     },
     "metadata": {},
     "output_type": "display_data"
    }
   ],
   "source": [
    "ucb_admission_counts  %>%\n",
    "  # Group by department, then gender\n",
    "  group_by(Dept, Gender) %>%\n",
    "  # Create new variable\n",
    "  mutate(prop = n / sum(n)) %>%\n",
    "  # Filter for male and admitted\n",
    "  filter(Gender == \"Male\", Admit == \"Admitted\")"
   ]
  },
  {
   "cell_type": "markdown",
   "metadata": {},
   "source": [
    "=> Within most departments, female applicants are more likely to be admitted."
   ]
  }
 ],
 "metadata": {
  "kernelspec": {
   "display_name": "R",
   "language": "R",
   "name": "ir"
  },
  "language_info": {
   "codemirror_mode": "r",
   "file_extension": ".r",
   "mimetype": "text/x-r-source",
   "name": "R",
   "pygments_lexer": "r",
   "version": "3.5.1"
  }
 },
 "nbformat": 4,
 "nbformat_minor": 2
}
