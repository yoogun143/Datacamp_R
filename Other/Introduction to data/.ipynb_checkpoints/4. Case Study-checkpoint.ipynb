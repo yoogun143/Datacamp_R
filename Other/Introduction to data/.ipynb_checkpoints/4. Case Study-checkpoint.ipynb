{
 "cells": [
  {
   "cell_type": "markdown",
   "metadata": {
    "toc": true
   },
   "source": [
    "<h1>Table of Contents<span class=\"tocSkip\"></span></h1>\n",
    "<div class=\"toc\"><ul class=\"toc-item\"></ul></div>"
   ]
  },
  {
   "cell_type": "code",
   "execution_count": 1,
   "metadata": {},
   "outputs": [
    {
     "name": "stderr",
     "output_type": "stream",
     "text": [
      "\n",
      "Attaching package: 'dplyr'\n",
      "\n",
      "The following objects are masked from 'package:stats':\n",
      "\n",
      "    filter, lag\n",
      "\n",
      "The following objects are masked from 'package:base':\n",
      "\n",
      "    intersect, setdiff, setequal, union\n",
      "\n"
     ]
    }
   ],
   "source": [
    "library(dplyr)\n",
    "load('evals.RData')"
   ]
  },
  {
   "cell_type": "code",
   "execution_count": 2,
   "metadata": {},
   "outputs": [
    {
     "name": "stdout",
     "output_type": "stream",
     "text": [
      "Classes 'tbl_df', 'tbl' and 'data.frame':\t463 obs. of  21 variables:\n",
      " $ score        : num  4.7 4.1 3.9 4.8 4.6 4.3 2.8 4.1 3.4 4.5 ...\n",
      " $ rank         : Factor w/ 3 levels \"teaching\",\"tenure track\",..: 2 2 2 2 3 3 3 3 3 3 ...\n",
      " $ ethnicity    : Factor w/ 2 levels \"minority\",\"not minority\": 1 1 1 1 2 2 2 2 2 2 ...\n",
      " $ gender       : Factor w/ 2 levels \"female\",\"male\": 1 1 1 1 2 2 2 2 2 1 ...\n",
      " $ language     : Factor w/ 2 levels \"english\",\"non-english\": 1 1 1 1 1 1 1 1 1 1 ...\n",
      " $ age          : int  36 36 36 36 59 59 59 51 51 40 ...\n",
      " $ cls_perc_eval: num  55.8 68.8 60.8 62.6 85 ...\n",
      " $ cls_did_eval : int  24 86 76 77 17 35 39 55 111 40 ...\n",
      " $ cls_students : int  43 125 125 123 20 40 44 55 195 46 ...\n",
      " $ cls_level    : Factor w/ 2 levels \"lower\",\"upper\": 2 2 2 2 2 2 2 2 2 2 ...\n",
      " $ cls_profs    : Factor w/ 2 levels \"multiple\",\"single\": 2 2 2 2 1 1 1 2 2 2 ...\n",
      " $ cls_credits  : Factor w/ 2 levels \"multi credit\",..: 1 1 1 1 1 1 1 1 1 1 ...\n",
      " $ bty_f1lower  : int  5 5 5 5 4 4 4 5 5 2 ...\n",
      " $ bty_f1upper  : int  7 7 7 7 4 4 4 2 2 5 ...\n",
      " $ bty_f2upper  : int  6 6 6 6 2 2 2 5 5 4 ...\n",
      " $ bty_m1lower  : int  2 2 2 2 2 2 2 2 2 3 ...\n",
      " $ bty_m1upper  : int  4 4 4 4 3 3 3 3 3 3 ...\n",
      " $ bty_m2upper  : int  6 6 6 6 3 3 3 3 3 2 ...\n",
      " $ bty_avg      : num  5 5 5 5 3 ...\n",
      " $ pic_outfit   : Factor w/ 2 levels \"formal\",\"not formal\": 2 2 2 2 2 2 2 2 2 2 ...\n",
      " $ pic_color    : Factor w/ 2 levels \"black&white\",..: 2 2 2 2 2 2 2 2 2 2 ...\n"
     ]
    }
   ],
   "source": [
    "# Inspect evals\n",
    "str(evals)"
   ]
  },
  {
   "cell_type": "code",
   "execution_count": 3,
   "metadata": {},
   "outputs": [
    {
     "name": "stdout",
     "output_type": "stream",
     "text": [
      "Observations: 463\n",
      "Variables: 21\n",
      "$ score         <dbl> 4.7, 4.1, 3.9, 4.8, 4.6, 4.3, 2.8, 4.1, 3.4, 4.5, 3.8...\n",
      "$ rank          <fct> tenure track, tenure track, tenure track, tenure trac...\n",
      "$ ethnicity     <fct> minority, minority, minority, minority, not minority,...\n",
      "$ gender        <fct> female, female, female, female, male, male, male, mal...\n",
      "$ language      <fct> english, english, english, english, english, english,...\n",
      "$ age           <int> 36, 36, 36, 36, 59, 59, 59, 51, 51, 40, 40, 40, 40, 4...\n",
      "$ cls_perc_eval <dbl> 55.81395, 68.80000, 60.80000, 62.60163, 85.00000, 87....\n",
      "$ cls_did_eval  <int> 24, 86, 76, 77, 17, 35, 39, 55, 111, 40, 24, 24, 17, ...\n",
      "$ cls_students  <int> 43, 125, 125, 123, 20, 40, 44, 55, 195, 46, 27, 25, 2...\n",
      "$ cls_level     <fct> upper, upper, upper, upper, upper, upper, upper, uppe...\n",
      "$ cls_profs     <fct> single, single, single, single, multiple, multiple, m...\n",
      "$ cls_credits   <fct> multi credit, multi credit, multi credit, multi credi...\n",
      "$ bty_f1lower   <int> 5, 5, 5, 5, 4, 4, 4, 5, 5, 2, 2, 2, 2, 2, 2, 2, 2, 7,...\n",
      "$ bty_f1upper   <int> 7, 7, 7, 7, 4, 4, 4, 2, 2, 5, 5, 5, 5, 5, 5, 5, 5, 9,...\n",
      "$ bty_f2upper   <int> 6, 6, 6, 6, 2, 2, 2, 5, 5, 4, 4, 4, 4, 4, 4, 4, 4, 9,...\n",
      "$ bty_m1lower   <int> 2, 2, 2, 2, 2, 2, 2, 2, 2, 3, 3, 3, 3, 3, 3, 3, 3, 7,...\n",
      "$ bty_m1upper   <int> 4, 4, 4, 4, 3, 3, 3, 3, 3, 3, 3, 3, 3, 3, 3, 3, 3, 6,...\n",
      "$ bty_m2upper   <int> 6, 6, 6, 6, 3, 3, 3, 3, 3, 2, 2, 2, 2, 2, 2, 2, 2, 6,...\n",
      "$ bty_avg       <dbl> 5.000, 5.000, 5.000, 5.000, 3.000, 3.000, 3.000, 3.33...\n",
      "$ pic_outfit    <fct> not formal, not formal, not formal, not formal, not f...\n",
      "$ pic_color     <fct> color, color, color, color, color, color, color, colo...\n"
     ]
    }
   ],
   "source": [
    "# Inspect variable types\n",
    "glimpse(evals)"
   ]
  },
  {
   "cell_type": "code",
   "execution_count": null,
   "metadata": {},
   "outputs": [],
   "source": [
    "# Factor variables\n",
    "cat_vars <- c(\"rank\", \"ethnicity\", \"gender\", \"language\",\n",
    "              \"cls_level\", \"cls_profs\", \"cls_credits\",\n",
    "              \"pic_outfit\", \"pic_color\")"
   ]
  },
  {
   "cell_type": "code",
   "execution_count": 4,
   "metadata": {},
   "outputs": [],
   "source": [
    "# Recode cls_students as cls_type: evals\n",
    "evals <- evals %>%\n",
    "  # Create new variable\n",
    "  mutate(cls_type = ifelse(cls_students <= 18, \"small\", \n",
    "                           ifelse(cls_students <= 59, \"midsize\", \"large\")))"
   ]
  },
  {
   "cell_type": "code",
   "execution_count": 5,
   "metadata": {},
   "outputs": [
    {
     "data": {
      "image/png": "[encoded data removed]",
      "text/plain": [
       "plot without title"
      ]
     },
     "metadata": {},
     "output_type": "display_data"
    }
   ],
   "source": [
    "# Scatterplot of score vs. bty_avg\n",
    "library(ggplot2)\n",
    "ggplot(evals, aes(x = bty_avg, y = score)) +\n",
    "  geom_point()"
   ]
  },
  {
   "cell_type": "code",
   "execution_count": 6,
   "metadata": {},
   "outputs": [
    {
     "data": {
      "image/png": "[encoded data removed]",
      "text/plain": [
       "plot without title"
      ]
     },
     "metadata": {},
     "output_type": "display_data"
    }
   ],
   "source": [
    "# Scatterplot of score vs. bty_avg colored by cls_type\n",
    "ggplot(evals, aes(x = bty_avg, y = score, color = cls_type)) +\n",
    "  geom_point()"
   ]
  }
 ],
 "metadata": {
  "kernelspec": {
   "display_name": "R",
   "language": "R",
   "name": "ir"
  },
  "language_info": {
   "codemirror_mode": "r",
   "file_extension": ".r",
   "mimetype": "text/x-r-source",
   "name": "R",
   "pygments_lexer": "r",
   "version": "3.5.1"
  },
  "toc": {
   "base_numbering": 1,
   "nav_menu": {},
   "number_sections": true,
   "sideBar": true,
   "skip_h1_title": false,
   "title_cell": "Table of Contents",
   "title_sidebar": "Contents",
   "toc_cell": true,
   "toc_position": {},
   "toc_section_display": true,
   "toc_window_display": false
  }
 },
 "nbformat": 4,
 "nbformat_minor": 2
}
