{
 "cells": [
  {
   "cell_type": "markdown",
   "metadata": {
    "toc": true
   },
   "source": [
    "<h1>Table of Contents<span class=\"tocSkip\"></span></h1>\n",
    "<div class=\"toc\"><ul class=\"toc-item\"><li><span><a href=\"#MEDIAN-IMPUTATION-(for-missing-at-random)\" data-toc-modified-id=\"MEDIAN-IMPUTATION-(for-missing-at-random)-1\"><span class=\"toc-item-num\">1&nbsp;&nbsp;</span>MEDIAN IMPUTATION (for missing at random)</a></span></li><li><span><a href=\"#KNN-IMPUTATION-(for-missing-not-at-random)\" data-toc-modified-id=\"KNN-IMPUTATION-(for-missing-not-at-random)-2\"><span class=\"toc-item-num\">2&nbsp;&nbsp;</span>KNN IMPUTATION (for missing not at random)</a></span></li><li><span><a href=\"#MORE-PREPROCESSING\" data-toc-modified-id=\"MORE-PREPROCESSING-3\"><span class=\"toc-item-num\">3&nbsp;&nbsp;</span>MORE PREPROCESSING</a></span></li><li><span><a href=\"#REMOVE-NEAR-ZERO-VARIANCE-PREDICTORS\" data-toc-modified-id=\"REMOVE-NEAR-ZERO-VARIANCE-PREDICTORS-4\"><span class=\"toc-item-num\">4&nbsp;&nbsp;</span>REMOVE NEAR ZERO VARIANCE PREDICTORS</a></span><ul class=\"toc-item\"><li><span><a href=\"#Method-1:-use-function:-Identify-near-zero-variance-predictors:-remove_cols\" data-toc-modified-id=\"Method-1:-use-function:-Identify-near-zero-variance-predictors:-remove_cols-4.1\"><span class=\"toc-item-num\">4.1&nbsp;&nbsp;</span>Method 1: use function: Identify near zero variance predictors: remove_cols</a></span></li><li><span><a href=\"#Method2:-Remove-near-zero-value-in-preprocessing\" data-toc-modified-id=\"Method2:-Remove-near-zero-value-in-preprocessing-4.2\"><span class=\"toc-item-num\">4.2&nbsp;&nbsp;</span>Method2: Remove near zero value in preprocessing</a></span></li></ul></li><li><span><a href=\"#ALTERNATIVE-TO-NEARZEROVAR():-PCA\" data-toc-modified-id=\"ALTERNATIVE-TO-NEARZEROVAR():-PCA-5\"><span class=\"toc-item-num\">5&nbsp;&nbsp;</span>ALTERNATIVE TO NEARZEROVAR(): PCA</a></span></li></ul></div>"
   ]
  },
  {
   "cell_type": "code",
   "execution_count": 3,
   "metadata": {},
   "outputs": [
    {
     "name": "stderr",
     "output_type": "stream",
     "text": [
      "Warning message:\n",
      "\"package 'caret' was built under R version 3.5.2\"Loading required package: lattice\n",
      "Warning message:\n",
      "\"package 'lattice' was built under R version 3.5.2\"Loading required package: ggplot2\n"
     ]
    }
   ],
   "source": [
    "load('BreastCancer.RData')\n",
    "load('BloodBrain.RData')\n",
    "library(caret)"
   ]
  },
  {
   "cell_type": "code",
   "execution_count": 4,
   "metadata": {},
   "outputs": [],
   "source": [
    "# Create custom trainControl: myControl\n",
    "myControl <- trainControl(\n",
    "  method = \"cv\", number = 10,\n",
    "  summaryFunction = twoClassSummary,\n",
    "  classProbs = TRUE, # IMPORTANT!\n",
    "  verboseIter = TRUE\n",
    ")"
   ]
  },
  {
   "cell_type": "markdown",
   "metadata": {},
   "source": [
    "## MEDIAN IMPUTATION (for missing at random)"
   ]
  },
  {
   "cell_type": "code",
   "execution_count": 5,
   "metadata": {},
   "outputs": [
    {
     "name": "stderr",
     "output_type": "stream",
     "text": [
      "Warning message in train.default(x = breast_cancer_x, y = breast_cancer_y, method = \"glm\", :\n",
      "\"The metric \"Accuracy\" was not in the result set. ROC will be used instead.\""
     ]
    },
    {
     "name": "stdout",
     "output_type": "stream",
     "text": [
      "+ Fold01: parameter=none \n",
      "- Fold01: parameter=none \n",
      "+ Fold02: parameter=none \n",
      "- Fold02: parameter=none \n",
      "+ Fold03: parameter=none \n",
      "- Fold03: parameter=none \n",
      "+ Fold04: parameter=none \n",
      "- Fold04: parameter=none \n",
      "+ Fold05: parameter=none \n",
      "- Fold05: parameter=none \n",
      "+ Fold06: parameter=none \n",
      "- Fold06: parameter=none \n",
      "+ Fold07: parameter=none \n",
      "- Fold07: parameter=none \n",
      "+ Fold08: parameter=none \n",
      "- Fold08: parameter=none \n",
      "+ Fold09: parameter=none \n",
      "- Fold09: parameter=none \n",
      "+ Fold10: parameter=none \n",
      "- Fold10: parameter=none \n",
      "Aggregating results\n",
      "Fitting final model on full training set\n"
     ]
    },
    {
     "data": {
      "text/plain": [
       "Generalized Linear Model \n",
       "\n",
       "699 samples\n",
       "  9 predictor\n",
       "  2 classes: 'benign', 'malignant' \n",
       "\n",
       "Pre-processing: median imputation (9) \n",
       "Resampling: Cross-Validated (10 fold) \n",
       "Summary of sample sizes: 629, 630, 629, 630, 629, 628, ... \n",
       "Resampling results:\n",
       "\n",
       "  ROC        Sens       Spec     \n",
       "  0.9922721  0.9692754  0.9418333\n"
      ]
     },
     "metadata": {},
     "output_type": "display_data"
    }
   ],
   "source": [
    "# Apply median imputation: model\n",
    "model <- train(\n",
    "  x = breast_cancer_x, y = breast_cancer_y,\n",
    "  method = \"glm\",\n",
    "  trControl = myControl,\n",
    "  preProcess = \"medianImpute\"\n",
    ")\n",
    "\n",
    "# Print model to console\n",
    "model"
   ]
  },
  {
   "cell_type": "markdown",
   "metadata": {},
   "source": [
    "## KNN IMPUTATION (for missing not at random)"
   ]
  },
  {
   "cell_type": "code",
   "execution_count": 7,
   "metadata": {
    "scrolled": false
   },
   "outputs": [
    {
     "name": "stderr",
     "output_type": "stream",
     "text": [
      "Warning message in train.default(x = breast_cancer_x, y = breast_cancer_y, method = \"glm\", :\n",
      "\"The metric \"Accuracy\" was not in the result set. ROC will be used instead.\""
     ]
    },
    {
     "name": "stdout",
     "output_type": "stream",
     "text": [
      "+ Fold01: parameter=none \n",
      "- Fold01: parameter=none \n",
      "+ Fold02: parameter=none \n",
      "- Fold02: parameter=none \n",
      "+ Fold03: parameter=none \n",
      "- Fold03: parameter=none \n",
      "+ Fold04: parameter=none \n",
      "- Fold04: parameter=none \n",
      "+ Fold05: parameter=none \n",
      "- Fold05: parameter=none \n",
      "+ Fold06: parameter=none \n",
      "- Fold06: parameter=none \n",
      "+ Fold07: parameter=none \n",
      "- Fold07: parameter=none \n",
      "+ Fold08: parameter=none \n",
      "- Fold08: parameter=none \n",
      "+ Fold09: parameter=none \n",
      "- Fold09: parameter=none \n",
      "+ Fold10: parameter=none \n",
      "- Fold10: parameter=none \n",
      "Aggregating results\n",
      "Fitting final model on full training set\n"
     ]
    },
    {
     "data": {
      "text/plain": [
       "Generalized Linear Model \n",
       "\n",
       "699 samples\n",
       "  9 predictor\n",
       "  2 classes: 'benign', 'malignant' \n",
       "\n",
       "Pre-processing: nearest neighbor imputation (9), centered (9), scaled (9) \n",
       "Resampling: Cross-Validated (10 fold) \n",
       "Summary of sample sizes: 630, 629, 628, 629, 629, 629, ... \n",
       "Resampling results:\n",
       "\n",
       "  ROC        Sens       Spec     \n",
       "  0.9917661  0.9738647  0.9336667\n"
      ]
     },
     "metadata": {},
     "output_type": "display_data"
    }
   ],
   "source": [
    "# Apply KNN imputation: model2\n",
    "model2 <- train(\n",
    "  x = breast_cancer_x, y = breast_cancer_y,\n",
    "  method = \"glm\",\n",
    "  trControl = myControl,\n",
    "  preProcess = \"knnImpute\"\n",
    ")\n",
    "\n",
    "# Print model to console\n",
    "model2"
   ]
  },
  {
   "cell_type": "markdown",
   "metadata": {},
   "source": [
    "## MORE PREPROCESSING"
   ]
  },
  {
   "cell_type": "markdown",
   "metadata": {},
   "source": [
    "- Start with median imputation (Try KNN imputation if data missing not at random)\n",
    "- For linear models: center and scale, try PCA and spatial sign\n",
    "- Tree-based models don't need much preprocessing"
   ]
  },
  {
   "cell_type": "code",
   "execution_count": 8,
   "metadata": {},
   "outputs": [
    {
     "name": "stderr",
     "output_type": "stream",
     "text": [
      "Warning message in train.default(x = breast_cancer_x, y = breast_cancer_y, method = \"glm\", :\n",
      "\"The metric \"Accuracy\" was not in the result set. ROC will be used instead.\""
     ]
    },
    {
     "name": "stdout",
     "output_type": "stream",
     "text": [
      "+ Fold01: parameter=none \n",
      "- Fold01: parameter=none \n",
      "+ Fold02: parameter=none \n",
      "- Fold02: parameter=none \n",
      "+ Fold03: parameter=none \n",
      "- Fold03: parameter=none \n",
      "+ Fold04: parameter=none \n",
      "- Fold04: parameter=none \n",
      "+ Fold05: parameter=none \n",
      "- Fold05: parameter=none \n",
      "+ Fold06: parameter=none \n",
      "- Fold06: parameter=none \n",
      "+ Fold07: parameter=none \n",
      "- Fold07: parameter=none \n",
      "+ Fold08: parameter=none \n",
      "- Fold08: parameter=none \n",
      "+ Fold09: parameter=none \n",
      "- Fold09: parameter=none \n",
      "+ Fold10: parameter=none \n",
      "- Fold10: parameter=none \n",
      "Aggregating results\n",
      "Fitting final model on full training set\n"
     ]
    },
    {
     "data": {
      "text/plain": [
       "Generalized Linear Model \n",
       "\n",
       "699 samples\n",
       "  9 predictor\n",
       "  2 classes: 'benign', 'malignant' \n",
       "\n",
       "Pre-processing: median imputation (9), centered (9), scaled (9),\n",
       " principal component signal extraction (9) \n",
       "Resampling: Cross-Validated (10 fold) \n",
       "Summary of sample sizes: 630, 629, 628, 629, 629, 629, ... \n",
       "Resampling results:\n",
       "\n",
       "  ROC        Sens       Spec     \n",
       "  0.9919151  0.9716425  0.9296667\n"
      ]
     },
     "metadata": {},
     "output_type": "display_data"
    }
   ],
   "source": [
    "# Fit glm with median imputation and standardization: model2\n",
    "model2 <- train(\n",
    "  x = breast_cancer_x, y = breast_cancer_y,\n",
    "  method = \"glm\",\n",
    "  trControl = myControl,\n",
    "  preProcess = c(\"medianImpute\", \"center\", \"scale\", 'pca')\n",
    ")\n",
    "\n",
    "# Print model2\n",
    "model2"
   ]
  },
  {
   "cell_type": "markdown",
   "metadata": {},
   "source": [
    "## REMOVE NEAR ZERO VARIANCE PREDICTORS"
   ]
  },
  {
   "cell_type": "markdown",
   "metadata": {},
   "source": [
    "the dataset contains many variables and many of these variables have extemely low variances => little info because mostly consist of a single value"
   ]
  },
  {
   "cell_type": "markdown",
   "metadata": {},
   "source": [
    "### Method 1: use function: Identify near zero variance predictors: remove_cols"
   ]
  },
  {
   "cell_type": "code",
   "execution_count": 10,
   "metadata": {},
   "outputs": [
    {
     "data": {
      "text/html": [
       "<table>\n",
       "<thead><tr><th scope=col>tpsa</th><th scope=col>nbasic</th><th scope=col>vsa_hyd</th><th scope=col>a_aro</th><th scope=col>weight</th><th scope=col>peoe_vsa.0</th><th scope=col>peoe_vsa.1</th><th scope=col>peoe_vsa.2</th><th scope=col>peoe_vsa.6</th><th scope=col>peoe_vsa.0.1</th><th scope=col>...</th><th scope=col>scaa3</th><th scope=col>ctdh</th><th scope=col>ctaa</th><th scope=col>mchg</th><th scope=col>achg</th><th scope=col>rdta</th><th scope=col>n_sp2</th><th scope=col>n_sp3</th><th scope=col>o_sp2</th><th scope=col>o_sp3</th></tr></thead>\n",
       "<tbody>\n",
       "\t<tr><td>12.03    </td><td>1        </td><td>167.06700</td><td> 0       </td><td>156.293  </td><td>76.94749 </td><td> 43.44619</td><td> 0.00000 </td><td>17.238030</td><td>18.74768 </td><td>...      </td><td>-0.0093  </td><td>1        </td><td>1        </td><td>0.9241   </td><td>0.9241   </td><td>1.0000   </td><td> 0.0000  </td><td> 6.0255  </td><td> 0.0000  </td><td> 0.0000  </td></tr>\n",
       "\t<tr><td>49.33    </td><td>0        </td><td> 92.64243</td><td> 6       </td><td>151.165  </td><td>38.24339 </td><td> 25.52006</td><td> 0.00000 </td><td> 0.000000</td><td>49.01962 </td><td>...      </td><td>-0.0754  </td><td>2        </td><td>2        </td><td>1.2685   </td><td>1.0420   </td><td>1.0000   </td><td> 0.0000  </td><td> 6.5681  </td><td>32.0102  </td><td>33.6135  </td></tr>\n",
       "\t<tr><td>50.53    </td><td>1        </td><td>295.16700</td><td>15       </td><td>366.485  </td><td>58.05473 </td><td>124.74020</td><td>21.65084 </td><td> 8.619013</td><td>83.82487 </td><td>...      </td><td>-0.0303  </td><td>1        </td><td>4        </td><td>1.2562   </td><td>1.2562   </td><td>0.2500   </td><td>26.9733  </td><td>10.8567  </td><td> 0.0000  </td><td>27.5451  </td></tr>\n",
       "\t<tr><td>37.39    </td><td>0        </td><td>319.11220</td><td>15       </td><td>382.552  </td><td>62.23933 </td><td>124.74020</td><td>13.19232 </td><td> 8.619013</td><td>83.82487 </td><td>...      </td><td>-0.0240  </td><td>1        </td><td>3        </td><td>1.1962   </td><td>1.1962   </td><td>0.3333   </td><td>21.7065  </td><td>11.0017  </td><td> 0.0000  </td><td>15.1316  </td></tr>\n",
       "\t<tr><td>37.39    </td><td>1        </td><td>299.65800</td><td>12       </td><td>326.464  </td><td>74.80064 </td><td>118.04060</td><td>33.00190 </td><td> 8.619013</td><td>83.82487 </td><td>...      </td><td>-0.0255  </td><td>1        </td><td>3        </td><td>1.2934   </td><td>1.2934   </td><td>0.3333   </td><td>24.2061  </td><td>10.8109  </td><td> 0.0000  </td><td>15.1333  </td></tr>\n",
       "\t<tr><td>37.39    </td><td>1        </td><td>289.77770</td><td>11       </td><td>332.492  </td><td>74.80064 </td><td>109.50990</td><td>13.19232 </td><td> 8.619013</td><td>73.54603 </td><td>...      </td><td>-0.0302  </td><td>1        </td><td>3        </td><td>1.2021   </td><td>1.2021   </td><td>0.3333   </td><td>25.5529  </td><td>11.1218  </td><td> 0.0000  </td><td>15.1333  </td></tr>\n",
       "</tbody>\n",
       "</table>\n"
      ],
      "text/latex": [
       "\\begin{tabular}{r|llllllllllllllllllllllllllllllllllllllllllllllllllllllllllllllllllllllllllllllllllllllllllllllllllllllllllllllll}\n",
       " tpsa & nbasic & vsa\\_hyd & a\\_aro & weight & peoe\\_vsa.0 & peoe\\_vsa.1 & peoe\\_vsa.2 & peoe\\_vsa.6 & peoe\\_vsa.0.1 & ... & scaa3 & ctdh & ctaa & mchg & achg & rdta & n\\_sp2 & n\\_sp3 & o\\_sp2 & o\\_sp3\\\\\n",
       "\\hline\n",
       "\t 12.03     & 1         & 167.06700 &  0        & 156.293   & 76.94749  &  43.44619 &  0.00000  & 17.238030 & 18.74768  & ...       & -0.0093   & 1         & 1         & 0.9241    & 0.9241    & 1.0000    &  0.0000   &  6.0255   &  0.0000   &  0.0000  \\\\\n",
       "\t 49.33     & 0         &  92.64243 &  6        & 151.165   & 38.24339  &  25.52006 &  0.00000  &  0.000000 & 49.01962  & ...       & -0.0754   & 2         & 2         & 1.2685    & 1.0420    & 1.0000    &  0.0000   &  6.5681   & 32.0102   & 33.6135  \\\\\n",
       "\t 50.53     & 1         & 295.16700 & 15        & 366.485   & 58.05473  & 124.74020 & 21.65084  &  8.619013 & 83.82487  & ...       & -0.0303   & 1         & 4         & 1.2562    & 1.2562    & 0.2500    & 26.9733   & 10.8567   &  0.0000   & 27.5451  \\\\\n",
       "\t 37.39     & 0         & 319.11220 & 15        & 382.552   & 62.23933  & 124.74020 & 13.19232  &  8.619013 & 83.82487  & ...       & -0.0240   & 1         & 3         & 1.1962    & 1.1962    & 0.3333    & 21.7065   & 11.0017   &  0.0000   & 15.1316  \\\\\n",
       "\t 37.39     & 1         & 299.65800 & 12        & 326.464   & 74.80064  & 118.04060 & 33.00190  &  8.619013 & 83.82487  & ...       & -0.0255   & 1         & 3         & 1.2934    & 1.2934    & 0.3333    & 24.2061   & 10.8109   &  0.0000   & 15.1333  \\\\\n",
       "\t 37.39     & 1         & 289.77770 & 11        & 332.492   & 74.80064  & 109.50990 & 13.19232  &  8.619013 & 73.54603  & ...       & -0.0302   & 1         & 3         & 1.2021    & 1.2021    & 0.3333    & 25.5529   & 11.1218   &  0.0000   & 15.1333  \\\\\n",
       "\\end{tabular}\n"
      ],
      "text/markdown": [
       "\n",
       "| tpsa | nbasic | vsa_hyd | a_aro | weight | peoe_vsa.0 | peoe_vsa.1 | peoe_vsa.2 | peoe_vsa.6 | peoe_vsa.0.1 | ... | scaa3 | ctdh | ctaa | mchg | achg | rdta | n_sp2 | n_sp3 | o_sp2 | o_sp3 |\n",
       "|---|---|---|---|---|---|---|---|---|---|---|---|---|---|---|---|---|---|---|---|---|\n",
       "| 12.03     | 1         | 167.06700 |  0        | 156.293   | 76.94749  |  43.44619 |  0.00000  | 17.238030 | 18.74768  | ...       | -0.0093   | 1         | 1         | 0.9241    | 0.9241    | 1.0000    |  0.0000   |  6.0255   |  0.0000   |  0.0000   |\n",
       "| 49.33     | 0         |  92.64243 |  6        | 151.165   | 38.24339  |  25.52006 |  0.00000  |  0.000000 | 49.01962  | ...       | -0.0754   | 2         | 2         | 1.2685    | 1.0420    | 1.0000    |  0.0000   |  6.5681   | 32.0102   | 33.6135   |\n",
       "| 50.53     | 1         | 295.16700 | 15        | 366.485   | 58.05473  | 124.74020 | 21.65084  |  8.619013 | 83.82487  | ...       | -0.0303   | 1         | 4         | 1.2562    | 1.2562    | 0.2500    | 26.9733   | 10.8567   |  0.0000   | 27.5451   |\n",
       "| 37.39     | 0         | 319.11220 | 15        | 382.552   | 62.23933  | 124.74020 | 13.19232  |  8.619013 | 83.82487  | ...       | -0.0240   | 1         | 3         | 1.1962    | 1.1962    | 0.3333    | 21.7065   | 11.0017   |  0.0000   | 15.1316   |\n",
       "| 37.39     | 1         | 299.65800 | 12        | 326.464   | 74.80064  | 118.04060 | 33.00190  |  8.619013 | 83.82487  | ...       | -0.0255   | 1         | 3         | 1.2934    | 1.2934    | 0.3333    | 24.2061   | 10.8109   |  0.0000   | 15.1333   |\n",
       "| 37.39     | 1         | 289.77770 | 11        | 332.492   | 74.80064  | 109.50990 | 13.19232  |  8.619013 | 73.54603  | ...       | -0.0302   | 1         | 3         | 1.2021    | 1.2021    | 0.3333    | 25.5529   | 11.1218   |  0.0000   | 15.1333   |\n",
       "\n"
      ],
      "text/plain": [
       "  tpsa  nbasic vsa_hyd   a_aro weight  peoe_vsa.0 peoe_vsa.1 peoe_vsa.2\n",
       "1 12.03 1      167.06700  0    156.293 76.94749    43.44619   0.00000  \n",
       "2 49.33 0       92.64243  6    151.165 38.24339    25.52006   0.00000  \n",
       "3 50.53 1      295.16700 15    366.485 58.05473   124.74020  21.65084  \n",
       "4 37.39 0      319.11220 15    382.552 62.23933   124.74020  13.19232  \n",
       "5 37.39 1      299.65800 12    326.464 74.80064   118.04060  33.00190  \n",
       "6 37.39 1      289.77770 11    332.492 74.80064   109.50990  13.19232  \n",
       "  peoe_vsa.6 peoe_vsa.0.1 ... scaa3   ctdh ctaa mchg   achg   rdta   n_sp2  \n",
       "1 17.238030  18.74768     ... -0.0093 1    1    0.9241 0.9241 1.0000  0.0000\n",
       "2  0.000000  49.01962     ... -0.0754 2    2    1.2685 1.0420 1.0000  0.0000\n",
       "3  8.619013  83.82487     ... -0.0303 1    4    1.2562 1.2562 0.2500 26.9733\n",
       "4  8.619013  83.82487     ... -0.0240 1    3    1.1962 1.1962 0.3333 21.7065\n",
       "5  8.619013  83.82487     ... -0.0255 1    3    1.2934 1.2934 0.3333 24.2061\n",
       "6  8.619013  73.54603     ... -0.0302 1    3    1.2021 1.2021 0.3333 25.5529\n",
       "  n_sp3   o_sp2   o_sp3  \n",
       "1  6.0255  0.0000  0.0000\n",
       "2  6.5681 32.0102 33.6135\n",
       "3 10.8567  0.0000 27.5451\n",
       "4 11.0017  0.0000 15.1316\n",
       "5 10.8109  0.0000 15.1333\n",
       "6 11.1218  0.0000 15.1333"
      ]
     },
     "metadata": {},
     "output_type": "display_data"
    }
   ],
   "source": [
    "remove_cols <- nearZeroVar(bloodbrain_x, names = TRUE, \n",
    "                           freqCut = 2, uniqueCut = 20)\n",
    "\n",
    "# Get all column names from bloodbrain_x: all_cols\n",
    "all_cols <- names(bloodbrain_x)\n",
    "\n",
    "# Remove from data: bloodbrain_x_small\n",
    "bloodbrain_x_small <- bloodbrain_x[ , setdiff(all_cols, remove_cols)]\n",
    "\n",
    "head(bloodbrain_x_small)"
   ]
  },
  {
   "cell_type": "markdown",
   "metadata": {},
   "source": [
    "### Method2: Remove near zero value in preprocessing"
   ]
  },
  {
   "cell_type": "code",
   "execution_count": 11,
   "metadata": {
    "scrolled": true
   },
   "outputs": [
    {
     "name": "stderr",
     "output_type": "stream",
     "text": [
      "Warning message in predict.lm(object, newdata, se.fit, scale = 1, type = ifelse(type == :\n",
      "\"prediction from a rank-deficient fit may be misleading\"Warning message in predict.lm(object, newdata, se.fit, scale = 1, type = ifelse(type == :\n",
      "\"prediction from a rank-deficient fit may be misleading\"Warning message in predict.lm(object, newdata, se.fit, scale = 1, type = ifelse(type == :\n",
      "\"prediction from a rank-deficient fit may be misleading\"Warning message in predict.lm(object, newdata, se.fit, scale = 1, type = ifelse(type == :\n",
      "\"prediction from a rank-deficient fit may be misleading\"Warning message in predict.lm(object, newdata, se.fit, scale = 1, type = ifelse(type == :\n",
      "\"prediction from a rank-deficient fit may be misleading\"Warning message in predict.lm(object, newdata, se.fit, scale = 1, type = ifelse(type == :\n",
      "\"prediction from a rank-deficient fit may be misleading\"Warning message in predict.lm(object, newdata, se.fit, scale = 1, type = ifelse(type == :\n",
      "\"prediction from a rank-deficient fit may be misleading\"Warning message in predict.lm(object, newdata, se.fit, scale = 1, type = ifelse(type == :\n",
      "\"prediction from a rank-deficient fit may be misleading\"Warning message in predict.lm(object, newdata, se.fit, scale = 1, type = ifelse(type == :\n",
      "\"prediction from a rank-deficient fit may be misleading\"Warning message in predict.lm(object, newdata, se.fit, scale = 1, type = ifelse(type == :\n",
      "\"prediction from a rank-deficient fit may be misleading\"Warning message in predict.lm(object, newdata, se.fit, scale = 1, type = ifelse(type == :\n",
      "\"prediction from a rank-deficient fit may be misleading\"Warning message in predict.lm(object, newdata, se.fit, scale = 1, type = ifelse(type == :\n",
      "\"prediction from a rank-deficient fit may be misleading\"Warning message in predict.lm(object, newdata, se.fit, scale = 1, type = ifelse(type == :\n",
      "\"prediction from a rank-deficient fit may be misleading\"Warning message in predict.lm(object, newdata, se.fit, scale = 1, type = ifelse(type == :\n",
      "\"prediction from a rank-deficient fit may be misleading\"Warning message in predict.lm(object, newdata, se.fit, scale = 1, type = ifelse(type == :\n",
      "\"prediction from a rank-deficient fit may be misleading\"Warning message in predict.lm(object, newdata, se.fit, scale = 1, type = ifelse(type == :\n",
      "\"prediction from a rank-deficient fit may be misleading\"Warning message in predict.lm(object, newdata, se.fit, scale = 1, type = ifelse(type == :\n",
      "\"prediction from a rank-deficient fit may be misleading\"Warning message in predict.lm(object, newdata, se.fit, scale = 1, type = ifelse(type == :\n",
      "\"prediction from a rank-deficient fit may be misleading\"Warning message in predict.lm(object, newdata, se.fit, scale = 1, type = ifelse(type == :\n",
      "\"prediction from a rank-deficient fit may be misleading\"Warning message in predict.lm(object, newdata, se.fit, scale = 1, type = ifelse(type == :\n",
      "\"prediction from a rank-deficient fit may be misleading\"Warning message in predict.lm(object, newdata, se.fit, scale = 1, type = ifelse(type == :\n",
      "\"prediction from a rank-deficient fit may be misleading\"Warning message in predict.lm(object, newdata, se.fit, scale = 1, type = ifelse(type == :\n",
      "\"prediction from a rank-deficient fit may be misleading\"Warning message in predict.lm(object, newdata, se.fit, scale = 1, type = ifelse(type == :\n",
      "\"prediction from a rank-deficient fit may be misleading\"Warning message in predict.lm(object, newdata, se.fit, scale = 1, type = ifelse(type == :\n",
      "\"prediction from a rank-deficient fit may be misleading\"Warning message in predict.lm(object, newdata, se.fit, scale = 1, type = ifelse(type == :\n",
      "\"prediction from a rank-deficient fit may be misleading\""
     ]
    },
    {
     "data": {
      "text/plain": [
       "Generalized Linear Model \n",
       "\n",
       "208 samples\n",
       "132 predictors\n",
       "\n",
       "Pre-processing: remove (5) \n",
       "Resampling: Bootstrapped (25 reps) \n",
       "Summary of sample sizes: 208, 208, 208, 208, 208, 208, ... \n",
       "Resampling results:\n",
       "\n",
       "  RMSE      Rsquared   MAE    \n",
       "  4.855754  0.0278276  3.14161\n"
      ]
     },
     "metadata": {},
     "output_type": "display_data"
    }
   ],
   "source": [
    "# Fit model on reduced data: model\n",
    "model <- train(x = bloodbrain_x, y = bloodbrain_y, method = \"glm\",\n",
    "               preProcess = c('nzv'))\n",
    "\n",
    "# Print model to console\n",
    "model"
   ]
  },
  {
   "cell_type": "markdown",
   "metadata": {},
   "source": [
    "## ALTERNATIVE TO NEARZEROVAR(): PCA"
   ]
  },
  {
   "cell_type": "markdown",
   "metadata": {},
   "source": [
    "- more preferable because it does not throw out all data\n",
    "- many different low variance predictors may end up combined into one high variance PCA variable\n"
   ]
  },
  {
   "cell_type": "code",
   "execution_count": 12,
   "metadata": {},
   "outputs": [
    {
     "data": {
      "text/plain": [
       "Generalized Linear Model \n",
       "\n",
       "208 samples\n",
       "132 predictors\n",
       "\n",
       "Pre-processing: principal component signal extraction (132), centered\n",
       " (132), scaled (132) \n",
       "Resampling: Bootstrapped (25 reps) \n",
       "Summary of sample sizes: 208, 208, 208, 208, 208, 208, ... \n",
       "Resampling results:\n",
       "\n",
       "  RMSE       Rsquared  MAE      \n",
       "  0.5935984  0.446189  0.4477701\n"
      ]
     },
     "metadata": {},
     "output_type": "display_data"
    }
   ],
   "source": [
    "# Fit glm model using PCA: model\n",
    "model <- train(\n",
    "  x = bloodbrain_x, y = bloodbrain_y,\n",
    "  method = \"glm\", preProcess = \"pca\"\n",
    ")\n",
    "\n",
    "# Print model to console\n",
    "model"
   ]
  }
 ],
 "metadata": {
  "kernelspec": {
   "display_name": "R",
   "language": "R",
   "name": "ir"
  },
  "language_info": {
   "codemirror_mode": "r",
   "file_extension": ".r",
   "mimetype": "text/x-r-source",
   "name": "R",
   "pygments_lexer": "r",
   "version": "3.5.1"
  },
  "toc": {
   "base_numbering": 1,
   "nav_menu": {},
   "number_sections": true,
   "sideBar": true,
   "skip_h1_title": false,
   "title_cell": "Table of Contents",
   "title_sidebar": "Contents",
   "toc_cell": true,
   "toc_position": {},
   "toc_section_display": true,
   "toc_window_display": false
  }
 },
 "nbformat": 4,
 "nbformat_minor": 2
}
