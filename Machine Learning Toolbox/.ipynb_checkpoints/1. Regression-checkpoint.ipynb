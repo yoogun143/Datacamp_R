{
 "cells": [
  {
   "cell_type": "markdown",
   "metadata": {
    "toc": true
   },
   "source": [
    "<h1>Table of Contents<span class=\"tocSkip\"></span></h1>\n",
    "<div class=\"toc\"><ul class=\"toc-item\"><li><span><a href=\"#OUT-OF-SAMPLE-METRIC-(RMSE)-FOR-REGRESSION\" data-toc-modified-id=\"OUT-OF-SAMPLE-METRIC-(RMSE)-FOR-REGRESSION-1\"><span class=\"toc-item-num\">1&nbsp;&nbsp;</span>OUT-OF-SAMPLE METRIC (RMSE) FOR REGRESSION</a></span></li><li><span><a href=\"#CROSS-VALIDATION\" data-toc-modified-id=\"CROSS-VALIDATION-2\"><span class=\"toc-item-num\">2&nbsp;&nbsp;</span>CROSS-VALIDATION</a></span></li></ul></div>"
   ]
  },
  {
   "cell_type": "code",
   "execution_count": 1,
   "metadata": {},
   "outputs": [
    {
     "name": "stderr",
     "output_type": "stream",
     "text": [
      "Warning message:\n",
      "\"package 'caret' was built under R version 3.5.2\"Loading required package: lattice\n",
      "Warning message:\n",
      "\"package 'lattice' was built under R version 3.5.2\""
     ]
    }
   ],
   "source": [
    "library(ggplot2)\n",
    "library(caret)"
   ]
  },
  {
   "cell_type": "markdown",
   "metadata": {},
   "source": [
    "## OUT-OF-SAMPLE METRIC (RMSE) FOR REGRESSION"
   ]
  },
  {
   "cell_type": "code",
   "execution_count": 2,
   "metadata": {},
   "outputs": [
    {
     "data": {
      "text/html": [
       "<table>\n",
       "<thead><tr><th scope=col>carat</th><th scope=col>cut</th><th scope=col>color</th><th scope=col>clarity</th><th scope=col>depth</th><th scope=col>table</th><th scope=col>price</th><th scope=col>x</th><th scope=col>y</th><th scope=col>z</th></tr></thead>\n",
       "<tbody>\n",
       "\t<tr><td>0.23     </td><td>Ideal    </td><td>E        </td><td>SI2      </td><td>61.5     </td><td>55       </td><td>326      </td><td>3.95     </td><td>3.98     </td><td>2.43     </td></tr>\n",
       "\t<tr><td>0.21     </td><td>Premium  </td><td>E        </td><td>SI1      </td><td>59.8     </td><td>61       </td><td>326      </td><td>3.89     </td><td>3.84     </td><td>2.31     </td></tr>\n",
       "\t<tr><td>0.23     </td><td>Good     </td><td>E        </td><td>VS1      </td><td>56.9     </td><td>65       </td><td>327      </td><td>4.05     </td><td>4.07     </td><td>2.31     </td></tr>\n",
       "\t<tr><td>0.29     </td><td>Premium  </td><td>I        </td><td>VS2      </td><td>62.4     </td><td>58       </td><td>334      </td><td>4.20     </td><td>4.23     </td><td>2.63     </td></tr>\n",
       "\t<tr><td>0.31     </td><td>Good     </td><td>J        </td><td>SI2      </td><td>63.3     </td><td>58       </td><td>335      </td><td>4.34     </td><td>4.35     </td><td>2.75     </td></tr>\n",
       "\t<tr><td>0.24     </td><td>Very Good</td><td>J        </td><td>VVS2     </td><td>62.8     </td><td>57       </td><td>336      </td><td>3.94     </td><td>3.96     </td><td>2.48     </td></tr>\n",
       "</tbody>\n",
       "</table>\n"
      ],
      "text/latex": [
       "\\begin{tabular}{r|llllllllll}\n",
       " carat & cut & color & clarity & depth & table & price & x & y & z\\\\\n",
       "\\hline\n",
       "\t 0.23      & Ideal     & E         & SI2       & 61.5      & 55        & 326       & 3.95      & 3.98      & 2.43     \\\\\n",
       "\t 0.21      & Premium   & E         & SI1       & 59.8      & 61        & 326       & 3.89      & 3.84      & 2.31     \\\\\n",
       "\t 0.23      & Good      & E         & VS1       & 56.9      & 65        & 327       & 4.05      & 4.07      & 2.31     \\\\\n",
       "\t 0.29      & Premium   & I         & VS2       & 62.4      & 58        & 334       & 4.20      & 4.23      & 2.63     \\\\\n",
       "\t 0.31      & Good      & J         & SI2       & 63.3      & 58        & 335       & 4.34      & 4.35      & 2.75     \\\\\n",
       "\t 0.24      & Very Good & J         & VVS2      & 62.8      & 57        & 336       & 3.94      & 3.96      & 2.48     \\\\\n",
       "\\end{tabular}\n"
      ],
      "text/markdown": [
       "\n",
       "| carat | cut | color | clarity | depth | table | price | x | y | z |\n",
       "|---|---|---|---|---|---|---|---|---|---|\n",
       "| 0.23      | Ideal     | E         | SI2       | 61.5      | 55        | 326       | 3.95      | 3.98      | 2.43      |\n",
       "| 0.21      | Premium   | E         | SI1       | 59.8      | 61        | 326       | 3.89      | 3.84      | 2.31      |\n",
       "| 0.23      | Good      | E         | VS1       | 56.9      | 65        | 327       | 4.05      | 4.07      | 2.31      |\n",
       "| 0.29      | Premium   | I         | VS2       | 62.4      | 58        | 334       | 4.20      | 4.23      | 2.63      |\n",
       "| 0.31      | Good      | J         | SI2       | 63.3      | 58        | 335       | 4.34      | 4.35      | 2.75      |\n",
       "| 0.24      | Very Good | J         | VVS2      | 62.8      | 57        | 336       | 3.94      | 3.96      | 2.48      |\n",
       "\n"
      ],
      "text/plain": [
       "  carat cut       color clarity depth table price x    y    z   \n",
       "1 0.23  Ideal     E     SI2     61.5  55    326   3.95 3.98 2.43\n",
       "2 0.21  Premium   E     SI1     59.8  61    326   3.89 3.84 2.31\n",
       "3 0.23  Good      E     VS1     56.9  65    327   4.05 4.07 2.31\n",
       "4 0.29  Premium   I     VS2     62.4  58    334   4.20 4.23 2.63\n",
       "5 0.31  Good      J     SI2     63.3  58    335   4.34 4.35 2.75\n",
       "6 0.24  Very Good J     VVS2    62.8  57    336   3.94 3.96 2.48"
      ]
     },
     "metadata": {},
     "output_type": "display_data"
    }
   ],
   "source": [
    "head(diamonds)"
   ]
  },
  {
   "cell_type": "code",
   "execution_count": 3,
   "metadata": {},
   "outputs": [
    {
     "data": {
      "text/html": [
       "<ol class=list-inline>\n",
       "\t<li>49345</li>\n",
       "\t<li>50545</li>\n",
       "\t<li>15434</li>\n",
       "\t<li>44792</li>\n",
       "\t<li>34614</li>\n",
       "\t<li>27998</li>\n",
       "</ol>\n"
      ],
      "text/latex": [
       "\\begin{enumerate*}\n",
       "\\item 49345\n",
       "\\item 50545\n",
       "\\item 15434\n",
       "\\item 44792\n",
       "\\item 34614\n",
       "\\item 27998\n",
       "\\end{enumerate*}\n"
      ],
      "text/markdown": [
       "1. 49345\n",
       "2. 50545\n",
       "3. 15434\n",
       "4. 44792\n",
       "5. 34614\n",
       "6. 27998\n",
       "\n",
       "\n"
      ],
      "text/plain": [
       "[1] 49345 50545 15434 44792 34614 27998"
      ]
     },
     "metadata": {},
     "output_type": "display_data"
    }
   ],
   "source": [
    "# Set seed\n",
    "set.seed(42)\n",
    "\n",
    "# Shuffle row indices: rows\n",
    "rows <- sample(nrow(diamonds))\n",
    "\n",
    "head(rows)"
   ]
  },
  {
   "cell_type": "code",
   "execution_count": 14,
   "metadata": {},
   "outputs": [
    {
     "data": {
      "text/html": [
       "<table>\n",
       "<thead><tr><th scope=col>carat</th><th scope=col>cut</th><th scope=col>color</th><th scope=col>clarity</th><th scope=col>depth</th><th scope=col>table</th><th scope=col>price</th><th scope=col>x</th><th scope=col>y</th><th scope=col>z</th></tr></thead>\n",
       "<tbody>\n",
       "\t<tr><td>0.62     </td><td>Good     </td><td>G        </td><td>VS2      </td><td>61.0     </td><td>62.0     </td><td>1850     </td><td>5.41     </td><td>5.50     </td><td>3.33     </td></tr>\n",
       "\t<tr><td>0.32     </td><td>Very Good</td><td>H        </td><td>SI1      </td><td>61.9     </td><td>58.0     </td><td> 449     </td><td>4.34     </td><td>4.38     </td><td>2.70     </td></tr>\n",
       "\t<tr><td>0.41     </td><td>Ideal    </td><td>I        </td><td>VVS2     </td><td>61.7     </td><td>56.0     </td><td>1061     </td><td>4.80     </td><td>4.77     </td><td>2.95     </td></tr>\n",
       "\t<tr><td>1.05     </td><td>Fair     </td><td>I        </td><td>VS1      </td><td>58.9     </td><td>66.0     </td><td>4281     </td><td>6.71     </td><td>6.60     </td><td>3.92     </td></tr>\n",
       "\t<tr><td>0.31     </td><td>Ideal    </td><td>D        </td><td>SI1      </td><td>61.4     </td><td>55.0     </td><td> 732     </td><td>4.38     </td><td>4.35     </td><td>2.68     </td></tr>\n",
       "\t<tr><td>0.32     </td><td>Ideal    </td><td>H        </td><td>SI1      </td><td>61.0     </td><td>56.6     </td><td> 471     </td><td>4.40     </td><td>4.43     </td><td>2.70     </td></tr>\n",
       "</tbody>\n",
       "</table>\n"
      ],
      "text/latex": [
       "\\begin{tabular}{r|llllllllll}\n",
       " carat & cut & color & clarity & depth & table & price & x & y & z\\\\\n",
       "\\hline\n",
       "\t 0.62      & Good      & G         & VS2       & 61.0      & 62.0      & 1850      & 5.41      & 5.50      & 3.33     \\\\\n",
       "\t 0.32      & Very Good & H         & SI1       & 61.9      & 58.0      &  449      & 4.34      & 4.38      & 2.70     \\\\\n",
       "\t 0.41      & Ideal     & I         & VVS2      & 61.7      & 56.0      & 1061      & 4.80      & 4.77      & 2.95     \\\\\n",
       "\t 1.05      & Fair      & I         & VS1       & 58.9      & 66.0      & 4281      & 6.71      & 6.60      & 3.92     \\\\\n",
       "\t 0.31      & Ideal     & D         & SI1       & 61.4      & 55.0      &  732      & 4.38      & 4.35      & 2.68     \\\\\n",
       "\t 0.32      & Ideal     & H         & SI1       & 61.0      & 56.6      &  471      & 4.40      & 4.43      & 2.70     \\\\\n",
       "\\end{tabular}\n"
      ],
      "text/markdown": [
       "\n",
       "| carat | cut | color | clarity | depth | table | price | x | y | z |\n",
       "|---|---|---|---|---|---|---|---|---|---|\n",
       "| 0.62      | Good      | G         | VS2       | 61.0      | 62.0      | 1850      | 5.41      | 5.50      | 3.33      |\n",
       "| 0.32      | Very Good | H         | SI1       | 61.9      | 58.0      |  449      | 4.34      | 4.38      | 2.70      |\n",
       "| 0.41      | Ideal     | I         | VVS2      | 61.7      | 56.0      | 1061      | 4.80      | 4.77      | 2.95      |\n",
       "| 1.05      | Fair      | I         | VS1       | 58.9      | 66.0      | 4281      | 6.71      | 6.60      | 3.92      |\n",
       "| 0.31      | Ideal     | D         | SI1       | 61.4      | 55.0      |  732      | 4.38      | 4.35      | 2.68      |\n",
       "| 0.32      | Ideal     | H         | SI1       | 61.0      | 56.6      |  471      | 4.40      | 4.43      | 2.70      |\n",
       "\n"
      ],
      "text/plain": [
       "  carat cut       color clarity depth table price x    y    z   \n",
       "1 0.62  Good      G     VS2     61.0  62.0  1850  5.41 5.50 3.33\n",
       "2 0.32  Very Good H     SI1     61.9  58.0   449  4.34 4.38 2.70\n",
       "3 0.41  Ideal     I     VVS2    61.7  56.0  1061  4.80 4.77 2.95\n",
       "4 1.05  Fair      I     VS1     58.9  66.0  4281  6.71 6.60 3.92\n",
       "5 0.31  Ideal     D     SI1     61.4  55.0   732  4.38 4.35 2.68\n",
       "6 0.32  Ideal     H     SI1     61.0  56.6   471  4.40 4.43 2.70"
      ]
     },
     "metadata": {},
     "output_type": "display_data"
    },
    {
     "data": {
      "text/html": [
       "<ol class=list-inline>\n",
       "\t<li>53940</li>\n",
       "\t<li>10</li>\n",
       "</ol>\n"
      ],
      "text/latex": [
       "\\begin{enumerate*}\n",
       "\\item 53940\n",
       "\\item 10\n",
       "\\end{enumerate*}\n"
      ],
      "text/markdown": [
       "1. 53940\n",
       "2. 10\n",
       "\n",
       "\n"
      ],
      "text/plain": [
       "[1] 53940    10"
      ]
     },
     "metadata": {},
     "output_type": "display_data"
    }
   ],
   "source": [
    "# Randomly order data\n",
    "diamonds <- diamonds[rows,]\n",
    "\n",
    "head(diamonds)\n",
    "dim(diamonds)"
   ]
  },
  {
   "cell_type": "code",
   "execution_count": 13,
   "metadata": {},
   "outputs": [],
   "source": [
    "# Determine row to split on: split (80:20)\n",
    "split <- round(nrow(diamonds) * .8)"
   ]
  },
  {
   "cell_type": "code",
   "execution_count": 11,
   "metadata": {},
   "outputs": [
    {
     "data": {
      "text/html": [
       "<ol class=list-inline>\n",
       "\t<li>43152</li>\n",
       "\t<li>10</li>\n",
       "</ol>\n"
      ],
      "text/latex": [
       "\\begin{enumerate*}\n",
       "\\item 43152\n",
       "\\item 10\n",
       "\\end{enumerate*}\n"
      ],
      "text/markdown": [
       "1. 43152\n",
       "2. 10\n",
       "\n",
       "\n"
      ],
      "text/plain": [
       "[1] 43152    10"
      ]
     },
     "metadata": {},
     "output_type": "display_data"
    }
   ],
   "source": [
    "# Create train\n",
    "train <- diamonds[1:split,]\n",
    "\n",
    "dim(train)"
   ]
  },
  {
   "cell_type": "code",
   "execution_count": 12,
   "metadata": {},
   "outputs": [
    {
     "data": {
      "text/html": [
       "<ol class=list-inline>\n",
       "\t<li>10788</li>\n",
       "\t<li>10</li>\n",
       "</ol>\n"
      ],
      "text/latex": [
       "\\begin{enumerate*}\n",
       "\\item 10788\n",
       "\\item 10\n",
       "\\end{enumerate*}\n"
      ],
      "text/markdown": [
       "1. 10788\n",
       "2. 10\n",
       "\n",
       "\n"
      ],
      "text/plain": [
       "[1] 10788    10"
      ]
     },
     "metadata": {},
     "output_type": "display_data"
    }
   ],
   "source": [
    "# Create test\n",
    "test <- diamonds[(split + 1): nrow(diamonds), ]\n",
    "\n",
    "dim(test)"
   ]
  },
  {
   "cell_type": "code",
   "execution_count": 15,
   "metadata": {},
   "outputs": [
    {
     "data": {
      "text/html": [
       "1136.59565324766"
      ],
      "text/latex": [
       "1136.59565324766"
      ],
      "text/markdown": [
       "1136.59565324766"
      ],
      "text/plain": [
       "[1] 1136.596"
      ]
     },
     "metadata": {},
     "output_type": "display_data"
    }
   ],
   "source": [
    "# Fit lm model on train: model\n",
    "model <- lm(price ~ ., data = train)\n",
    "\n",
    "# Predict on test: p\n",
    "p <- predict(model, test)\n",
    "\n",
    "# Compute errors: error\n",
    "error <- p - test$price\n",
    "\n",
    "# Calculate RMSE\n",
    "sqrt(mean(error^2))"
   ]
  },
  {
   "cell_type": "markdown",
   "metadata": {},
   "source": [
    "## CROSS-VALIDATION"
   ]
  },
  {
   "cell_type": "code",
   "execution_count": 16,
   "metadata": {},
   "outputs": [
    {
     "name": "stdout",
     "output_type": "stream",
     "text": [
      "+ Fold01: intercept=TRUE \n",
      "- Fold01: intercept=TRUE \n",
      "+ Fold02: intercept=TRUE \n",
      "- Fold02: intercept=TRUE \n",
      "+ Fold03: intercept=TRUE \n",
      "- Fold03: intercept=TRUE \n",
      "+ Fold04: intercept=TRUE \n",
      "- Fold04: intercept=TRUE \n",
      "+ Fold05: intercept=TRUE \n",
      "- Fold05: intercept=TRUE \n",
      "+ Fold06: intercept=TRUE \n",
      "- Fold06: intercept=TRUE \n",
      "+ Fold07: intercept=TRUE \n",
      "- Fold07: intercept=TRUE \n",
      "+ Fold08: intercept=TRUE \n",
      "- Fold08: intercept=TRUE \n",
      "+ Fold09: intercept=TRUE \n",
      "- Fold09: intercept=TRUE \n",
      "+ Fold10: intercept=TRUE \n",
      "- Fold10: intercept=TRUE \n",
      "Aggregating results\n",
      "Fitting final model on full training set\n"
     ]
    },
    {
     "data": {
      "text/plain": [
       "Linear Regression \n",
       "\n",
       "43152 samples\n",
       "    9 predictor\n",
       "\n",
       "No pre-processing\n",
       "Resampling: Cross-Validated (10 fold) \n",
       "Summary of sample sizes: 38837, 38838, 38837, 38837, 38837, 38836, ... \n",
       "Resampling results:\n",
       "\n",
       "  RMSE      Rsquared   MAE     \n",
       "  1129.746  0.9195096  739.7481\n",
       "\n",
       "Tuning parameter 'intercept' was held constant at a value of TRUE"
      ]
     },
     "metadata": {},
     "output_type": "display_data"
    }
   ],
   "source": [
    "# Fit lm model using 10-fold CV: model\n",
    "model <- train(\n",
    "  price ~ ., train,\n",
    "  method = \"lm\",\n",
    "  trControl = trainControl(\n",
    "    method = \"cv\", number = 10,\n",
    "    verboseIter = TRUE\n",
    "  )\n",
    ")\n",
    "\n",
    "# Print model to console\n",
    "model"
   ]
  },
  {
   "cell_type": "code",
   "execution_count": 17,
   "metadata": {},
   "outputs": [
    {
     "data": {
      "text/html": [
       "1136.59565324766"
      ],
      "text/latex": [
       "1136.59565324766"
      ],
      "text/markdown": [
       "1136.59565324766"
      ],
      "text/plain": [
       "[1] 1136.596"
      ]
     },
     "metadata": {},
     "output_type": "display_data"
    }
   ],
   "source": [
    "# Predict on test: p\n",
    "p <- predict(model, test)\n",
    "\n",
    "# Compute errors: error\n",
    "error <- p - test$price\n",
    "\n",
    "# Calculate RMSE\n",
    "sqrt(mean(error^2))"
   ]
  }
 ],
 "metadata": {
  "kernelspec": {
   "display_name": "R",
   "language": "R",
   "name": "ir"
  },
  "language_info": {
   "codemirror_mode": "r",
   "file_extension": ".r",
   "mimetype": "text/x-r-source",
   "name": "R",
   "pygments_lexer": "r",
   "version": "3.5.1"
  },
  "toc": {
   "base_numbering": 1,
   "nav_menu": {},
   "number_sections": true,
   "sideBar": true,
   "skip_h1_title": false,
   "title_cell": "Table of Contents",
   "title_sidebar": "Contents",
   "toc_cell": true,
   "toc_position": {},
   "toc_section_display": true,
   "toc_window_display": false
  }
 },
 "nbformat": 4,
 "nbformat_minor": 2
}
