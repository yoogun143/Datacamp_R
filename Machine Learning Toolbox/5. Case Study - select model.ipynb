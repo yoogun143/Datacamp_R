{
 "cells": [
  {
   "cell_type": "code",
   "execution_count": 1,
   "metadata": {},
   "outputs": [
    {
     "name": "stderr",
     "output_type": "stream",
     "text": [
      "Warning message:\n",
      "\"package 'caret' was built under R version 3.5.2\"Loading required package: lattice\n",
      "Warning message:\n",
      "\"package 'lattice' was built under R version 3.5.2\"Loading required package: ggplot2\n"
     ]
    }
   ],
   "source": [
    "load('churn.RData')\n",
    "library(caret)"
   ]
  },
  {
   "cell_type": "code",
   "execution_count": 4,
   "metadata": {},
   "outputs": [
    {
     "data": {
      "text/html": [
       "<ol class=list-inline>\n",
       "\t<li>no</li>\n",
       "\t<li>no</li>\n",
       "\t<li>no</li>\n",
       "\t<li>no</li>\n",
       "\t<li>no</li>\n",
       "\t<li>no</li>\n",
       "</ol>\n",
       "\n",
       "<details>\n",
       "\t<summary style=display:list-item;cursor:pointer>\n",
       "\t\t<strong>Levels</strong>:\n",
       "\t</summary>\n",
       "\t<ol class=list-inline>\n",
       "\t\t<li>'no'</li>\n",
       "\t\t<li>'yes'</li>\n",
       "\t</ol>\n",
       "</details>"
      ],
      "text/latex": [
       "\\begin{enumerate*}\n",
       "\\item no\n",
       "\\item no\n",
       "\\item no\n",
       "\\item no\n",
       "\\item no\n",
       "\\item no\n",
       "\\end{enumerate*}\n",
       "\n",
       "\\emph{Levels}: \\begin{enumerate*}\n",
       "\\item 'no'\n",
       "\\item 'yes'\n",
       "\\end{enumerate*}\n"
      ],
      "text/markdown": [
       "1. no\n",
       "2. no\n",
       "3. no\n",
       "4. no\n",
       "5. no\n",
       "6. no\n",
       "\n",
       "\n",
       "\n",
       "**Levels**: 1. 'no'\n",
       "2. 'yes'\n",
       "\n",
       "\n"
      ],
      "text/plain": [
       "[1] no no no no no no\n",
       "Levels: no yes"
      ]
     },
     "metadata": {},
     "output_type": "display_data"
    }
   ],
   "source": [
    "head(churn_y)"
   ]
  },
  {
   "cell_type": "code",
   "execution_count": 5,
   "metadata": {},
   "outputs": [
    {
     "data": {
      "text/html": [
       "<table>\n",
       "<thead><tr><th></th><th scope=col>stateAK</th><th scope=col>stateAL</th><th scope=col>stateAR</th><th scope=col>stateAZ</th><th scope=col>stateCA</th><th scope=col>stateCO</th><th scope=col>stateCT</th><th scope=col>stateDC</th><th scope=col>stateDE</th><th scope=col>stateFL</th><th scope=col>...</th><th scope=col>total_eve_minutes</th><th scope=col>total_eve_calls</th><th scope=col>total_eve_charge</th><th scope=col>total_night_minutes</th><th scope=col>total_night_calls</th><th scope=col>total_night_charge</th><th scope=col>total_intl_minutes</th><th scope=col>total_intl_calls</th><th scope=col>total_intl_charge</th><th scope=col>number_customer_service_calls</th></tr></thead>\n",
       "<tbody>\n",
       "\t<tr><th scope=row>4575</th><td>0    </td><td>0    </td><td>0    </td><td>0    </td><td>0    </td><td>0    </td><td>0    </td><td>0    </td><td>0    </td><td>0    </td><td>...  </td><td>223.5</td><td> 88  </td><td>19.00</td><td>247.5</td><td> 96  </td><td>11.14</td><td>17.8 </td><td> 2   </td><td>4.81 </td><td>1    </td></tr>\n",
       "\t<tr><th scope=row>4685</th><td>0    </td><td>0    </td><td>0    </td><td>0    </td><td>0    </td><td>0    </td><td>0    </td><td>0    </td><td>0    </td><td>0    </td><td>...  </td><td>272.0</td><td> 89  </td><td>23.12</td><td>199.9</td><td> 62  </td><td> 9.00</td><td>10.1 </td><td>11   </td><td>2.73 </td><td>3    </td></tr>\n",
       "\t<tr><th scope=row>1431</th><td>0    </td><td>0    </td><td>0    </td><td>0    </td><td>0    </td><td>0    </td><td>0    </td><td>0    </td><td>0    </td><td>0    </td><td>...  </td><td>273.7</td><td>121  </td><td>23.26</td><td>217.9</td><td> 71  </td><td> 9.81</td><td> 7.6 </td><td> 4   </td><td>2.05 </td><td>1    </td></tr>\n",
       "\t<tr><th scope=row>4150</th><td>0    </td><td>0    </td><td>0    </td><td>0    </td><td>0    </td><td>0    </td><td>0    </td><td>0    </td><td>1    </td><td>0    </td><td>...  </td><td>110.3</td><td>108  </td><td> 9.38</td><td>203.9</td><td>102  </td><td> 9.18</td><td> 9.8 </td><td> 2   </td><td>2.65 </td><td>1    </td></tr>\n",
       "\t<tr><th scope=row>3207</th><td>0    </td><td>0    </td><td>0    </td><td>0    </td><td>0    </td><td>0    </td><td>0    </td><td>0    </td><td>0    </td><td>0    </td><td>...  </td><td>223.9</td><td>117  </td><td>19.03</td><td>180.4</td><td> 85  </td><td> 8.12</td><td>10.2 </td><td>13   </td><td>2.75 </td><td>1    </td></tr>\n",
       "\t<tr><th scope=row>2593</th><td>0    </td><td>0    </td><td>0    </td><td>0    </td><td>0    </td><td>0    </td><td>0    </td><td>0    </td><td>0    </td><td>0    </td><td>...  </td><td>178.6</td><td> 46  </td><td>15.18</td><td>203.8</td><td>116  </td><td> 9.17</td><td>12.8 </td><td> 3   </td><td>3.46 </td><td>5    </td></tr>\n",
       "</tbody>\n",
       "</table>\n"
      ],
      "text/latex": [
       "\\begin{tabular}{r|llllllllllllllllllllllllllllllllllllllllllllllllllllllllllllllllllllll}\n",
       "  & stateAK & stateAL & stateAR & stateAZ & stateCA & stateCO & stateCT & stateDC & stateDE & stateFL & ... & total\\_eve\\_minutes & total\\_eve\\_calls & total\\_eve\\_charge & total\\_night\\_minutes & total\\_night\\_calls & total\\_night\\_charge & total\\_intl\\_minutes & total\\_intl\\_calls & total\\_intl\\_charge & number\\_customer\\_service\\_calls\\\\\n",
       "\\hline\n",
       "\t4575 & 0     & 0     & 0     & 0     & 0     & 0     & 0     & 0     & 0     & 0     & ...   & 223.5 &  88   & 19.00 & 247.5 &  96   & 11.14 & 17.8  &  2    & 4.81  & 1    \\\\\n",
       "\t4685 & 0     & 0     & 0     & 0     & 0     & 0     & 0     & 0     & 0     & 0     & ...   & 272.0 &  89   & 23.12 & 199.9 &  62   &  9.00 & 10.1  & 11    & 2.73  & 3    \\\\\n",
       "\t1431 & 0     & 0     & 0     & 0     & 0     & 0     & 0     & 0     & 0     & 0     & ...   & 273.7 & 121   & 23.26 & 217.9 &  71   &  9.81 &  7.6  &  4    & 2.05  & 1    \\\\\n",
       "\t4150 & 0     & 0     & 0     & 0     & 0     & 0     & 0     & 0     & 1     & 0     & ...   & 110.3 & 108   &  9.38 & 203.9 & 102   &  9.18 &  9.8  &  2    & 2.65  & 1    \\\\\n",
       "\t3207 & 0     & 0     & 0     & 0     & 0     & 0     & 0     & 0     & 0     & 0     & ...   & 223.9 & 117   & 19.03 & 180.4 &  85   &  8.12 & 10.2  & 13    & 2.75  & 1    \\\\\n",
       "\t2593 & 0     & 0     & 0     & 0     & 0     & 0     & 0     & 0     & 0     & 0     & ...   & 178.6 &  46   & 15.18 & 203.8 & 116   &  9.17 & 12.8  &  3    & 3.46  & 5    \\\\\n",
       "\\end{tabular}\n"
      ],
      "text/markdown": [
       "\n",
       "| <!--/--> | stateAK | stateAL | stateAR | stateAZ | stateCA | stateCO | stateCT | stateDC | stateDE | stateFL | ... | total_eve_minutes | total_eve_calls | total_eve_charge | total_night_minutes | total_night_calls | total_night_charge | total_intl_minutes | total_intl_calls | total_intl_charge | number_customer_service_calls |\n",
       "|---|---|---|---|---|---|---|---|---|---|---|---|---|---|---|---|---|---|---|---|---|---|\n",
       "| 4575 | 0     | 0     | 0     | 0     | 0     | 0     | 0     | 0     | 0     | 0     | ...   | 223.5 |  88   | 19.00 | 247.5 |  96   | 11.14 | 17.8  |  2    | 4.81  | 1     |\n",
       "| 4685 | 0     | 0     | 0     | 0     | 0     | 0     | 0     | 0     | 0     | 0     | ...   | 272.0 |  89   | 23.12 | 199.9 |  62   |  9.00 | 10.1  | 11    | 2.73  | 3     |\n",
       "| 1431 | 0     | 0     | 0     | 0     | 0     | 0     | 0     | 0     | 0     | 0     | ...   | 273.7 | 121   | 23.26 | 217.9 |  71   |  9.81 |  7.6  |  4    | 2.05  | 1     |\n",
       "| 4150 | 0     | 0     | 0     | 0     | 0     | 0     | 0     | 0     | 1     | 0     | ...   | 110.3 | 108   |  9.38 | 203.9 | 102   |  9.18 |  9.8  |  2    | 2.65  | 1     |\n",
       "| 3207 | 0     | 0     | 0     | 0     | 0     | 0     | 0     | 0     | 0     | 0     | ...   | 223.9 | 117   | 19.03 | 180.4 |  85   |  8.12 | 10.2  | 13    | 2.75  | 1     |\n",
       "| 2593 | 0     | 0     | 0     | 0     | 0     | 0     | 0     | 0     | 0     | 0     | ...   | 178.6 |  46   | 15.18 | 203.8 | 116   |  9.17 | 12.8  |  3    | 3.46  | 5     |\n",
       "\n"
      ],
      "text/plain": [
       "     stateAK stateAL stateAR stateAZ stateCA stateCO stateCT stateDC stateDE\n",
       "4575 0       0       0       0       0       0       0       0       0      \n",
       "4685 0       0       0       0       0       0       0       0       0      \n",
       "1431 0       0       0       0       0       0       0       0       0      \n",
       "4150 0       0       0       0       0       0       0       0       1      \n",
       "3207 0       0       0       0       0       0       0       0       0      \n",
       "2593 0       0       0       0       0       0       0       0       0      \n",
       "     stateFL ... total_eve_minutes total_eve_calls total_eve_charge\n",
       "4575 0       ... 223.5              88             19.00           \n",
       "4685 0       ... 272.0              89             23.12           \n",
       "1431 0       ... 273.7             121             23.26           \n",
       "4150 0       ... 110.3             108              9.38           \n",
       "3207 0       ... 223.9             117             19.03           \n",
       "2593 0       ... 178.6              46             15.18           \n",
       "     total_night_minutes total_night_calls total_night_charge\n",
       "4575 247.5                96               11.14             \n",
       "4685 199.9                62                9.00             \n",
       "1431 217.9                71                9.81             \n",
       "4150 203.9               102                9.18             \n",
       "3207 180.4                85                8.12             \n",
       "2593 203.8               116                9.17             \n",
       "     total_intl_minutes total_intl_calls total_intl_charge\n",
       "4575 17.8                2               4.81             \n",
       "4685 10.1               11               2.73             \n",
       "1431  7.6                4               2.05             \n",
       "4150  9.8                2               2.65             \n",
       "3207 10.2               13               2.75             \n",
       "2593 12.8                3               3.46             \n",
       "     number_customer_service_calls\n",
       "4575 1                            \n",
       "4685 3                            \n",
       "1431 1                            \n",
       "4150 1                            \n",
       "3207 1                            \n",
       "2593 5                            "
      ]
     },
     "metadata": {},
     "output_type": "display_data"
    }
   ],
   "source": [
    "head(churn_x)"
   ]
  },
  {
   "cell_type": "code",
   "execution_count": 2,
   "metadata": {},
   "outputs": [
    {
     "data": {
      "text/html": [
       "<dl>\n",
       "\t<dt>$Fold1</dt>\n",
       "\t\t<dd><ol class=list-inline>\n",
       "\t<li>7</li>\n",
       "\t<li>8</li>\n",
       "\t<li>12</li>\n",
       "\t<li>16</li>\n",
       "\t<li>18</li>\n",
       "\t<li>21</li>\n",
       "\t<li>22</li>\n",
       "\t<li>27</li>\n",
       "\t<li>31</li>\n",
       "\t<li>34</li>\n",
       "\t<li>36</li>\n",
       "\t<li>39</li>\n",
       "\t<li>53</li>\n",
       "\t<li>59</li>\n",
       "\t<li>60</li>\n",
       "\t<li>62</li>\n",
       "\t<li>76</li>\n",
       "\t<li>77</li>\n",
       "\t<li>82</li>\n",
       "\t<li>88</li>\n",
       "\t<li>92</li>\n",
       "\t<li>93</li>\n",
       "\t<li>94</li>\n",
       "\t<li>98</li>\n",
       "\t<li>101</li>\n",
       "\t<li>118</li>\n",
       "\t<li>119</li>\n",
       "\t<li>126</li>\n",
       "\t<li>136</li>\n",
       "\t<li>143</li>\n",
       "\t<li>148</li>\n",
       "\t<li>162</li>\n",
       "\t<li>172</li>\n",
       "\t<li>184</li>\n",
       "\t<li>190</li>\n",
       "\t<li>193</li>\n",
       "\t<li>198</li>\n",
       "\t<li>200</li>\n",
       "\t<li>202</li>\n",
       "\t<li>203</li>\n",
       "\t<li>213</li>\n",
       "\t<li>214</li>\n",
       "\t<li>233</li>\n",
       "\t<li>234</li>\n",
       "\t<li>235</li>\n",
       "\t<li>238</li>\n",
       "\t<li>244</li>\n",
       "\t<li>245</li>\n",
       "\t<li>246</li>\n",
       "\t<li>248</li>\n",
       "\t<li>249</li>\n",
       "</ol>\n",
       "</dd>\n",
       "\t<dt>$Fold2</dt>\n",
       "\t\t<dd><ol class=list-inline>\n",
       "\t<li>3</li>\n",
       "\t<li>9</li>\n",
       "\t<li>10</li>\n",
       "\t<li>11</li>\n",
       "\t<li>19</li>\n",
       "\t<li>26</li>\n",
       "\t<li>28</li>\n",
       "\t<li>29</li>\n",
       "\t<li>44</li>\n",
       "\t<li>54</li>\n",
       "\t<li>55</li>\n",
       "\t<li>56</li>\n",
       "\t<li>64</li>\n",
       "\t<li>66</li>\n",
       "\t<li>68</li>\n",
       "\t<li>83</li>\n",
       "\t<li>90</li>\n",
       "\t<li>104</li>\n",
       "\t<li>107</li>\n",
       "\t<li>112</li>\n",
       "\t<li>121</li>\n",
       "\t<li>125</li>\n",
       "\t<li>128</li>\n",
       "\t<li>132</li>\n",
       "\t<li>133</li>\n",
       "\t<li>135</li>\n",
       "\t<li>145</li>\n",
       "\t<li>150</li>\n",
       "\t<li>152</li>\n",
       "\t<li>153</li>\n",
       "\t<li>168</li>\n",
       "\t<li>174</li>\n",
       "\t<li>186</li>\n",
       "\t<li>192</li>\n",
       "\t<li>194</li>\n",
       "\t<li>206</li>\n",
       "\t<li>208</li>\n",
       "\t<li>210</li>\n",
       "\t<li>211</li>\n",
       "\t<li>215</li>\n",
       "\t<li>218</li>\n",
       "\t<li>220</li>\n",
       "\t<li>221</li>\n",
       "\t<li>228</li>\n",
       "\t<li>230</li>\n",
       "\t<li>236</li>\n",
       "\t<li>239</li>\n",
       "\t<li>240</li>\n",
       "\t<li>247</li>\n",
       "</ol>\n",
       "</dd>\n",
       "\t<dt>$Fold3</dt>\n",
       "\t\t<dd><ol class=list-inline>\n",
       "\t<li>2</li>\n",
       "\t<li>4</li>\n",
       "\t<li>5</li>\n",
       "\t<li>6</li>\n",
       "\t<li>13</li>\n",
       "\t<li>20</li>\n",
       "\t<li>32</li>\n",
       "\t<li>33</li>\n",
       "\t<li>41</li>\n",
       "\t<li>42</li>\n",
       "\t<li>43</li>\n",
       "\t<li>46</li>\n",
       "\t<li>51</li>\n",
       "\t<li>52</li>\n",
       "\t<li>57</li>\n",
       "\t<li>73</li>\n",
       "\t<li>86</li>\n",
       "\t<li>87</li>\n",
       "\t<li>95</li>\n",
       "\t<li>103</li>\n",
       "\t<li>106</li>\n",
       "\t<li>108</li>\n",
       "\t<li>115</li>\n",
       "\t<li>120</li>\n",
       "\t<li>130</li>\n",
       "\t<li>138</li>\n",
       "\t<li>139</li>\n",
       "\t<li>140</li>\n",
       "\t<li>147</li>\n",
       "\t<li>154</li>\n",
       "\t<li>156</li>\n",
       "\t<li>157</li>\n",
       "\t<li>166</li>\n",
       "\t<li>167</li>\n",
       "\t<li>171</li>\n",
       "\t<li>178</li>\n",
       "\t<li>181</li>\n",
       "\t<li>182</li>\n",
       "\t<li>183</li>\n",
       "\t<li>188</li>\n",
       "\t<li>191</li>\n",
       "\t<li>195</li>\n",
       "\t<li>201</li>\n",
       "\t<li>209</li>\n",
       "\t<li>222</li>\n",
       "\t<li>224</li>\n",
       "\t<li>231</li>\n",
       "\t<li>232</li>\n",
       "\t<li>237</li>\n",
       "\t<li>242</li>\n",
       "</ol>\n",
       "</dd>\n",
       "\t<dt>$Fold4</dt>\n",
       "\t\t<dd><ol class=list-inline>\n",
       "\t<li>1</li>\n",
       "\t<li>17</li>\n",
       "\t<li>23</li>\n",
       "\t<li>24</li>\n",
       "\t<li>30</li>\n",
       "\t<li>35</li>\n",
       "\t<li>38</li>\n",
       "\t<li>45</li>\n",
       "\t<li>47</li>\n",
       "\t<li>48</li>\n",
       "\t<li>49</li>\n",
       "\t<li>61</li>\n",
       "\t<li>63</li>\n",
       "\t<li>69</li>\n",
       "\t<li>70</li>\n",
       "\t<li>71</li>\n",
       "\t<li>72</li>\n",
       "\t<li>74</li>\n",
       "\t<li>80</li>\n",
       "\t<li>81</li>\n",
       "\t<li>84</li>\n",
       "\t<li>89</li>\n",
       "\t<li>91</li>\n",
       "\t<li>97</li>\n",
       "\t<li>102</li>\n",
       "\t<li>122</li>\n",
       "\t<li>129</li>\n",
       "\t<li>131</li>\n",
       "\t<li>137</li>\n",
       "\t<li>141</li>\n",
       "\t<li>144</li>\n",
       "\t<li>146</li>\n",
       "\t<li>151</li>\n",
       "\t<li>158</li>\n",
       "\t<li>160</li>\n",
       "\t<li>170</li>\n",
       "\t<li>175</li>\n",
       "\t<li>180</li>\n",
       "\t<li>185</li>\n",
       "\t<li>189</li>\n",
       "\t<li>197</li>\n",
       "\t<li>199</li>\n",
       "\t<li>205</li>\n",
       "\t<li>207</li>\n",
       "\t<li>212</li>\n",
       "\t<li>216</li>\n",
       "\t<li>217</li>\n",
       "\t<li>225</li>\n",
       "\t<li>226</li>\n",
       "\t<li>229</li>\n",
       "</ol>\n",
       "</dd>\n",
       "\t<dt>$Fold5</dt>\n",
       "\t\t<dd><ol class=list-inline>\n",
       "\t<li>14</li>\n",
       "\t<li>15</li>\n",
       "\t<li>25</li>\n",
       "\t<li>37</li>\n",
       "\t<li>40</li>\n",
       "\t<li>50</li>\n",
       "\t<li>58</li>\n",
       "\t<li>65</li>\n",
       "\t<li>67</li>\n",
       "\t<li>75</li>\n",
       "\t<li>78</li>\n",
       "\t<li>79</li>\n",
       "\t<li>85</li>\n",
       "\t<li>96</li>\n",
       "\t<li>99</li>\n",
       "\t<li>100</li>\n",
       "\t<li>105</li>\n",
       "\t<li>109</li>\n",
       "\t<li>110</li>\n",
       "\t<li>111</li>\n",
       "\t<li>113</li>\n",
       "\t<li>114</li>\n",
       "\t<li>116</li>\n",
       "\t<li>117</li>\n",
       "\t<li>123</li>\n",
       "\t<li>124</li>\n",
       "\t<li>127</li>\n",
       "\t<li>134</li>\n",
       "\t<li>142</li>\n",
       "\t<li>149</li>\n",
       "\t<li>155</li>\n",
       "\t<li>159</li>\n",
       "\t<li>161</li>\n",
       "\t<li>163</li>\n",
       "\t<li>164</li>\n",
       "\t<li>165</li>\n",
       "\t<li>169</li>\n",
       "\t<li>173</li>\n",
       "\t<li>176</li>\n",
       "\t<li>177</li>\n",
       "\t<li>179</li>\n",
       "\t<li>187</li>\n",
       "\t<li>196</li>\n",
       "\t<li>204</li>\n",
       "\t<li>219</li>\n",
       "\t<li>223</li>\n",
       "\t<li>227</li>\n",
       "\t<li>241</li>\n",
       "\t<li>243</li>\n",
       "\t<li>250</li>\n",
       "</ol>\n",
       "</dd>\n",
       "</dl>\n"
      ],
      "text/latex": [
       "\\begin{description}\n",
       "\\item[\\$Fold1] \\begin{enumerate*}\n",
       "\\item 7\n",
       "\\item 8\n",
       "\\item 12\n",
       "\\item 16\n",
       "\\item 18\n",
       "\\item 21\n",
       "\\item 22\n",
       "\\item 27\n",
       "\\item 31\n",
       "\\item 34\n",
       "\\item 36\n",
       "\\item 39\n",
       "\\item 53\n",
       "\\item 59\n",
       "\\item 60\n",
       "\\item 62\n",
       "\\item 76\n",
       "\\item 77\n",
       "\\item 82\n",
       "\\item 88\n",
       "\\item 92\n",
       "\\item 93\n",
       "\\item 94\n",
       "\\item 98\n",
       "\\item 101\n",
       "\\item 118\n",
       "\\item 119\n",
       "\\item 126\n",
       "\\item 136\n",
       "\\item 143\n",
       "\\item 148\n",
       "\\item 162\n",
       "\\item 172\n",
       "\\item 184\n",
       "\\item 190\n",
       "\\item 193\n",
       "\\item 198\n",
       "\\item 200\n",
       "\\item 202\n",
       "\\item 203\n",
       "\\item 213\n",
       "\\item 214\n",
       "\\item 233\n",
       "\\item 234\n",
       "\\item 235\n",
       "\\item 238\n",
       "\\item 244\n",
       "\\item 245\n",
       "\\item 246\n",
       "\\item 248\n",
       "\\item 249\n",
       "\\end{enumerate*}\n",
       "\n",
       "\\item[\\$Fold2] \\begin{enumerate*}\n",
       "\\item 3\n",
       "\\item 9\n",
       "\\item 10\n",
       "\\item 11\n",
       "\\item 19\n",
       "\\item 26\n",
       "\\item 28\n",
       "\\item 29\n",
       "\\item 44\n",
       "\\item 54\n",
       "\\item 55\n",
       "\\item 56\n",
       "\\item 64\n",
       "\\item 66\n",
       "\\item 68\n",
       "\\item 83\n",
       "\\item 90\n",
       "\\item 104\n",
       "\\item 107\n",
       "\\item 112\n",
       "\\item 121\n",
       "\\item 125\n",
       "\\item 128\n",
       "\\item 132\n",
       "\\item 133\n",
       "\\item 135\n",
       "\\item 145\n",
       "\\item 150\n",
       "\\item 152\n",
       "\\item 153\n",
       "\\item 168\n",
       "\\item 174\n",
       "\\item 186\n",
       "\\item 192\n",
       "\\item 194\n",
       "\\item 206\n",
       "\\item 208\n",
       "\\item 210\n",
       "\\item 211\n",
       "\\item 215\n",
       "\\item 218\n",
       "\\item 220\n",
       "\\item 221\n",
       "\\item 228\n",
       "\\item 230\n",
       "\\item 236\n",
       "\\item 239\n",
       "\\item 240\n",
       "\\item 247\n",
       "\\end{enumerate*}\n",
       "\n",
       "\\item[\\$Fold3] \\begin{enumerate*}\n",
       "\\item 2\n",
       "\\item 4\n",
       "\\item 5\n",
       "\\item 6\n",
       "\\item 13\n",
       "\\item 20\n",
       "\\item 32\n",
       "\\item 33\n",
       "\\item 41\n",
       "\\item 42\n",
       "\\item 43\n",
       "\\item 46\n",
       "\\item 51\n",
       "\\item 52\n",
       "\\item 57\n",
       "\\item 73\n",
       "\\item 86\n",
       "\\item 87\n",
       "\\item 95\n",
       "\\item 103\n",
       "\\item 106\n",
       "\\item 108\n",
       "\\item 115\n",
       "\\item 120\n",
       "\\item 130\n",
       "\\item 138\n",
       "\\item 139\n",
       "\\item 140\n",
       "\\item 147\n",
       "\\item 154\n",
       "\\item 156\n",
       "\\item 157\n",
       "\\item 166\n",
       "\\item 167\n",
       "\\item 171\n",
       "\\item 178\n",
       "\\item 181\n",
       "\\item 182\n",
       "\\item 183\n",
       "\\item 188\n",
       "\\item 191\n",
       "\\item 195\n",
       "\\item 201\n",
       "\\item 209\n",
       "\\item 222\n",
       "\\item 224\n",
       "\\item 231\n",
       "\\item 232\n",
       "\\item 237\n",
       "\\item 242\n",
       "\\end{enumerate*}\n",
       "\n",
       "\\item[\\$Fold4] \\begin{enumerate*}\n",
       "\\item 1\n",
       "\\item 17\n",
       "\\item 23\n",
       "\\item 24\n",
       "\\item 30\n",
       "\\item 35\n",
       "\\item 38\n",
       "\\item 45\n",
       "\\item 47\n",
       "\\item 48\n",
       "\\item 49\n",
       "\\item 61\n",
       "\\item 63\n",
       "\\item 69\n",
       "\\item 70\n",
       "\\item 71\n",
       "\\item 72\n",
       "\\item 74\n",
       "\\item 80\n",
       "\\item 81\n",
       "\\item 84\n",
       "\\item 89\n",
       "\\item 91\n",
       "\\item 97\n",
       "\\item 102\n",
       "\\item 122\n",
       "\\item 129\n",
       "\\item 131\n",
       "\\item 137\n",
       "\\item 141\n",
       "\\item 144\n",
       "\\item 146\n",
       "\\item 151\n",
       "\\item 158\n",
       "\\item 160\n",
       "\\item 170\n",
       "\\item 175\n",
       "\\item 180\n",
       "\\item 185\n",
       "\\item 189\n",
       "\\item 197\n",
       "\\item 199\n",
       "\\item 205\n",
       "\\item 207\n",
       "\\item 212\n",
       "\\item 216\n",
       "\\item 217\n",
       "\\item 225\n",
       "\\item 226\n",
       "\\item 229\n",
       "\\end{enumerate*}\n",
       "\n",
       "\\item[\\$Fold5] \\begin{enumerate*}\n",
       "\\item 14\n",
       "\\item 15\n",
       "\\item 25\n",
       "\\item 37\n",
       "\\item 40\n",
       "\\item 50\n",
       "\\item 58\n",
       "\\item 65\n",
       "\\item 67\n",
       "\\item 75\n",
       "\\item 78\n",
       "\\item 79\n",
       "\\item 85\n",
       "\\item 96\n",
       "\\item 99\n",
       "\\item 100\n",
       "\\item 105\n",
       "\\item 109\n",
       "\\item 110\n",
       "\\item 111\n",
       "\\item 113\n",
       "\\item 114\n",
       "\\item 116\n",
       "\\item 117\n",
       "\\item 123\n",
       "\\item 124\n",
       "\\item 127\n",
       "\\item 134\n",
       "\\item 142\n",
       "\\item 149\n",
       "\\item 155\n",
       "\\item 159\n",
       "\\item 161\n",
       "\\item 163\n",
       "\\item 164\n",
       "\\item 165\n",
       "\\item 169\n",
       "\\item 173\n",
       "\\item 176\n",
       "\\item 177\n",
       "\\item 179\n",
       "\\item 187\n",
       "\\item 196\n",
       "\\item 204\n",
       "\\item 219\n",
       "\\item 223\n",
       "\\item 227\n",
       "\\item 241\n",
       "\\item 243\n",
       "\\item 250\n",
       "\\end{enumerate*}\n",
       "\n",
       "\\end{description}\n"
      ],
      "text/markdown": [
       "$Fold1\n",
       ":   1. 7\n",
       "2. 8\n",
       "3. 12\n",
       "4. 16\n",
       "5. 18\n",
       "6. 21\n",
       "7. 22\n",
       "8. 27\n",
       "9. 31\n",
       "10. 34\n",
       "11. 36\n",
       "12. 39\n",
       "13. 53\n",
       "14. 59\n",
       "15. 60\n",
       "16. 62\n",
       "17. 76\n",
       "18. 77\n",
       "19. 82\n",
       "20. 88\n",
       "21. 92\n",
       "22. 93\n",
       "23. 94\n",
       "24. 98\n",
       "25. 101\n",
       "26. 118\n",
       "27. 119\n",
       "28. 126\n",
       "29. 136\n",
       "30. 143\n",
       "31. 148\n",
       "32. 162\n",
       "33. 172\n",
       "34. 184\n",
       "35. 190\n",
       "36. 193\n",
       "37. 198\n",
       "38. 200\n",
       "39. 202\n",
       "40. 203\n",
       "41. 213\n",
       "42. 214\n",
       "43. 233\n",
       "44. 234\n",
       "45. 235\n",
       "46. 238\n",
       "47. 244\n",
       "48. 245\n",
       "49. 246\n",
       "50. 248\n",
       "51. 249\n",
       "\n",
       "\n",
       "\n",
       "$Fold2\n",
       ":   1. 3\n",
       "2. 9\n",
       "3. 10\n",
       "4. 11\n",
       "5. 19\n",
       "6. 26\n",
       "7. 28\n",
       "8. 29\n",
       "9. 44\n",
       "10. 54\n",
       "11. 55\n",
       "12. 56\n",
       "13. 64\n",
       "14. 66\n",
       "15. 68\n",
       "16. 83\n",
       "17. 90\n",
       "18. 104\n",
       "19. 107\n",
       "20. 112\n",
       "21. 121\n",
       "22. 125\n",
       "23. 128\n",
       "24. 132\n",
       "25. 133\n",
       "26. 135\n",
       "27. 145\n",
       "28. 150\n",
       "29. 152\n",
       "30. 153\n",
       "31. 168\n",
       "32. 174\n",
       "33. 186\n",
       "34. 192\n",
       "35. 194\n",
       "36. 206\n",
       "37. 208\n",
       "38. 210\n",
       "39. 211\n",
       "40. 215\n",
       "41. 218\n",
       "42. 220\n",
       "43. 221\n",
       "44. 228\n",
       "45. 230\n",
       "46. 236\n",
       "47. 239\n",
       "48. 240\n",
       "49. 247\n",
       "\n",
       "\n",
       "\n",
       "$Fold3\n",
       ":   1. 2\n",
       "2. 4\n",
       "3. 5\n",
       "4. 6\n",
       "5. 13\n",
       "6. 20\n",
       "7. 32\n",
       "8. 33\n",
       "9. 41\n",
       "10. 42\n",
       "11. 43\n",
       "12. 46\n",
       "13. 51\n",
       "14. 52\n",
       "15. 57\n",
       "16. 73\n",
       "17. 86\n",
       "18. 87\n",
       "19. 95\n",
       "20. 103\n",
       "21. 106\n",
       "22. 108\n",
       "23. 115\n",
       "24. 120\n",
       "25. 130\n",
       "26. 138\n",
       "27. 139\n",
       "28. 140\n",
       "29. 147\n",
       "30. 154\n",
       "31. 156\n",
       "32. 157\n",
       "33. 166\n",
       "34. 167\n",
       "35. 171\n",
       "36. 178\n",
       "37. 181\n",
       "38. 182\n",
       "39. 183\n",
       "40. 188\n",
       "41. 191\n",
       "42. 195\n",
       "43. 201\n",
       "44. 209\n",
       "45. 222\n",
       "46. 224\n",
       "47. 231\n",
       "48. 232\n",
       "49. 237\n",
       "50. 242\n",
       "\n",
       "\n",
       "\n",
       "$Fold4\n",
       ":   1. 1\n",
       "2. 17\n",
       "3. 23\n",
       "4. 24\n",
       "5. 30\n",
       "6. 35\n",
       "7. 38\n",
       "8. 45\n",
       "9. 47\n",
       "10. 48\n",
       "11. 49\n",
       "12. 61\n",
       "13. 63\n",
       "14. 69\n",
       "15. 70\n",
       "16. 71\n",
       "17. 72\n",
       "18. 74\n",
       "19. 80\n",
       "20. 81\n",
       "21. 84\n",
       "22. 89\n",
       "23. 91\n",
       "24. 97\n",
       "25. 102\n",
       "26. 122\n",
       "27. 129\n",
       "28. 131\n",
       "29. 137\n",
       "30. 141\n",
       "31. 144\n",
       "32. 146\n",
       "33. 151\n",
       "34. 158\n",
       "35. 160\n",
       "36. 170\n",
       "37. 175\n",
       "38. 180\n",
       "39. 185\n",
       "40. 189\n",
       "41. 197\n",
       "42. 199\n",
       "43. 205\n",
       "44. 207\n",
       "45. 212\n",
       "46. 216\n",
       "47. 217\n",
       "48. 225\n",
       "49. 226\n",
       "50. 229\n",
       "\n",
       "\n",
       "\n",
       "$Fold5\n",
       ":   1. 14\n",
       "2. 15\n",
       "3. 25\n",
       "4. 37\n",
       "5. 40\n",
       "6. 50\n",
       "7. 58\n",
       "8. 65\n",
       "9. 67\n",
       "10. 75\n",
       "11. 78\n",
       "12. 79\n",
       "13. 85\n",
       "14. 96\n",
       "15. 99\n",
       "16. 100\n",
       "17. 105\n",
       "18. 109\n",
       "19. 110\n",
       "20. 111\n",
       "21. 113\n",
       "22. 114\n",
       "23. 116\n",
       "24. 117\n",
       "25. 123\n",
       "26. 124\n",
       "27. 127\n",
       "28. 134\n",
       "29. 142\n",
       "30. 149\n",
       "31. 155\n",
       "32. 159\n",
       "33. 161\n",
       "34. 163\n",
       "35. 164\n",
       "36. 165\n",
       "37. 169\n",
       "38. 173\n",
       "39. 176\n",
       "40. 177\n",
       "41. 179\n",
       "42. 187\n",
       "43. 196\n",
       "44. 204\n",
       "45. 219\n",
       "46. 223\n",
       "47. 227\n",
       "48. 241\n",
       "49. 243\n",
       "50. 250\n",
       "\n",
       "\n",
       "\n",
       "\n",
       "\n"
      ],
      "text/plain": [
       "$Fold1\n",
       " [1]   7   8  12  16  18  21  22  27  31  34  36  39  53  59  60  62  76  77  82\n",
       "[20]  88  92  93  94  98 101 118 119 126 136 143 148 162 172 184 190 193 198 200\n",
       "[39] 202 203 213 214 233 234 235 238 244 245 246 248 249\n",
       "\n",
       "$Fold2\n",
       " [1]   3   9  10  11  19  26  28  29  44  54  55  56  64  66  68  83  90 104 107\n",
       "[20] 112 121 125 128 132 133 135 145 150 152 153 168 174 186 192 194 206 208 210\n",
       "[39] 211 215 218 220 221 228 230 236 239 240 247\n",
       "\n",
       "$Fold3\n",
       " [1]   2   4   5   6  13  20  32  33  41  42  43  46  51  52  57  73  86  87  95\n",
       "[20] 103 106 108 115 120 130 138 139 140 147 154 156 157 166 167 171 178 181 182\n",
       "[39] 183 188 191 195 201 209 222 224 231 232 237 242\n",
       "\n",
       "$Fold4\n",
       " [1]   1  17  23  24  30  35  38  45  47  48  49  61  63  69  70  71  72  74  80\n",
       "[20]  81  84  89  91  97 102 122 129 131 137 141 144 146 151 158 160 170 175 180\n",
       "[39] 185 189 197 199 205 207 212 216 217 225 226 229\n",
       "\n",
       "$Fold5\n",
       " [1]  14  15  25  37  40  50  58  65  67  75  78  79  85  96  99 100 105 109 110\n",
       "[20] 111 113 114 116 117 123 124 127 134 142 149 155 159 161 163 164 165 169 173\n",
       "[39] 176 177 179 187 196 204 219 223 227 241 243 250\n"
      ]
     },
     "metadata": {},
     "output_type": "display_data"
    }
   ],
   "source": [
    "# Create custom indices: myFolds\n",
    "myFolds <- createFolds(churn_y, k = 5)\n",
    "\n",
    "head(myFolds)"
   ]
  },
  {
   "cell_type": "code",
   "execution_count": 3,
   "metadata": {},
   "outputs": [],
   "source": [
    "# Create reusable trainControl object: myControl\n",
    "myControl <- trainControl(\n",
    "  summaryFunction = twoClassSummary,\n",
    "  classProbs = TRUE, # IMPORTANT!\n",
    "  verboseIter = TRUE,\n",
    "  savePredictions = TRUE,\n",
    "  index = myFolds\n",
    ")"
   ]
  },
  {
   "cell_type": "markdown",
   "metadata": {},
   "source": [
    "## FIT GLMNET"
   ]
  },
  {
   "cell_type": "code",
   "execution_count": 6,
   "metadata": {
    "scrolled": false
   },
   "outputs": [
    {
     "name": "stdout",
     "output_type": "stream",
     "text": [
      "+ Fold1: alpha=0.10, lambda=0.01821 \n"
     ]
    },
    {
     "name": "stderr",
     "output_type": "stream",
     "text": [
      "Warning message in lognet(x, is.sparse, ix, jx, y, weights, offset, alpha, nobs, :\n",
      "\"one multinomial or binomial class has fewer than 8  observations; dangerous ground\""
     ]
    },
    {
     "name": "stdout",
     "output_type": "stream",
     "text": [
      "- Fold1: alpha=0.10, lambda=0.01821 \n",
      "+ Fold1: alpha=0.55, lambda=0.01821 \n"
     ]
    },
    {
     "name": "stderr",
     "output_type": "stream",
     "text": [
      "Warning message in lognet(x, is.sparse, ix, jx, y, weights, offset, alpha, nobs, :\n",
      "\"one multinomial or binomial class has fewer than 8  observations; dangerous ground\""
     ]
    },
    {
     "name": "stdout",
     "output_type": "stream",
     "text": [
      "- Fold1: alpha=0.55, lambda=0.01821 \n",
      "+ Fold1: alpha=1.00, lambda=0.01821 \n"
     ]
    },
    {
     "name": "stderr",
     "output_type": "stream",
     "text": [
      "Warning message in lognet(x, is.sparse, ix, jx, y, weights, offset, alpha, nobs, :\n",
      "\"one multinomial or binomial class has fewer than 8  observations; dangerous ground\""
     ]
    },
    {
     "name": "stdout",
     "output_type": "stream",
     "text": [
      "- Fold1: alpha=1.00, lambda=0.01821 \n",
      "+ Fold2: alpha=0.10, lambda=0.01821 \n"
     ]
    },
    {
     "name": "stderr",
     "output_type": "stream",
     "text": [
      "Warning message in lognet(x, is.sparse, ix, jx, y, weights, offset, alpha, nobs, :\n",
      "\"one multinomial or binomial class has fewer than 8  observations; dangerous ground\""
     ]
    },
    {
     "name": "stdout",
     "output_type": "stream",
     "text": [
      "- Fold2: alpha=0.10, lambda=0.01821 \n",
      "+ Fold2: alpha=0.55, lambda=0.01821 \n"
     ]
    },
    {
     "name": "stderr",
     "output_type": "stream",
     "text": [
      "Warning message in lognet(x, is.sparse, ix, jx, y, weights, offset, alpha, nobs, :\n",
      "\"one multinomial or binomial class has fewer than 8  observations; dangerous ground\""
     ]
    },
    {
     "name": "stdout",
     "output_type": "stream",
     "text": [
      "- Fold2: alpha=0.55, lambda=0.01821 \n",
      "+ Fold2: alpha=1.00, lambda=0.01821 \n"
     ]
    },
    {
     "name": "stderr",
     "output_type": "stream",
     "text": [
      "Warning message in lognet(x, is.sparse, ix, jx, y, weights, offset, alpha, nobs, :\n",
      "\"one multinomial or binomial class has fewer than 8  observations; dangerous ground\""
     ]
    },
    {
     "name": "stdout",
     "output_type": "stream",
     "text": [
      "- Fold2: alpha=1.00, lambda=0.01821 \n",
      "+ Fold3: alpha=0.10, lambda=0.01821 \n"
     ]
    },
    {
     "name": "stderr",
     "output_type": "stream",
     "text": [
      "Warning message in lognet(x, is.sparse, ix, jx, y, weights, offset, alpha, nobs, :\n",
      "\"one multinomial or binomial class has fewer than 8  observations; dangerous ground\""
     ]
    },
    {
     "name": "stdout",
     "output_type": "stream",
     "text": [
      "- Fold3: alpha=0.10, lambda=0.01821 \n",
      "+ Fold3: alpha=0.55, lambda=0.01821 \n"
     ]
    },
    {
     "name": "stderr",
     "output_type": "stream",
     "text": [
      "Warning message in lognet(x, is.sparse, ix, jx, y, weights, offset, alpha, nobs, :\n",
      "\"one multinomial or binomial class has fewer than 8  observations; dangerous ground\""
     ]
    },
    {
     "name": "stdout",
     "output_type": "stream",
     "text": [
      "- Fold3: alpha=0.55, lambda=0.01821 \n",
      "+ Fold3: alpha=1.00, lambda=0.01821 \n"
     ]
    },
    {
     "name": "stderr",
     "output_type": "stream",
     "text": [
      "Warning message in lognet(x, is.sparse, ix, jx, y, weights, offset, alpha, nobs, :\n",
      "\"one multinomial or binomial class has fewer than 8  observations; dangerous ground\""
     ]
    },
    {
     "name": "stdout",
     "output_type": "stream",
     "text": [
      "- Fold3: alpha=1.00, lambda=0.01821 \n",
      "+ Fold4: alpha=0.10, lambda=0.01821 \n"
     ]
    },
    {
     "name": "stderr",
     "output_type": "stream",
     "text": [
      "Warning message in lognet(x, is.sparse, ix, jx, y, weights, offset, alpha, nobs, :\n",
      "\"one multinomial or binomial class has fewer than 8  observations; dangerous ground\""
     ]
    },
    {
     "name": "stdout",
     "output_type": "stream",
     "text": [
      "- Fold4: alpha=0.10, lambda=0.01821 \n",
      "+ Fold4: alpha=0.55, lambda=0.01821 \n"
     ]
    },
    {
     "name": "stderr",
     "output_type": "stream",
     "text": [
      "Warning message in lognet(x, is.sparse, ix, jx, y, weights, offset, alpha, nobs, :\n",
      "\"one multinomial or binomial class has fewer than 8  observations; dangerous ground\""
     ]
    },
    {
     "name": "stdout",
     "output_type": "stream",
     "text": [
      "- Fold4: alpha=0.55, lambda=0.01821 \n",
      "+ Fold4: alpha=1.00, lambda=0.01821 \n"
     ]
    },
    {
     "name": "stderr",
     "output_type": "stream",
     "text": [
      "Warning message in lognet(x, is.sparse, ix, jx, y, weights, offset, alpha, nobs, :\n",
      "\"one multinomial or binomial class has fewer than 8  observations; dangerous ground\""
     ]
    },
    {
     "name": "stdout",
     "output_type": "stream",
     "text": [
      "- Fold4: alpha=1.00, lambda=0.01821 \n",
      "+ Fold5: alpha=0.10, lambda=0.01821 \n"
     ]
    },
    {
     "name": "stderr",
     "output_type": "stream",
     "text": [
      "Warning message in lognet(x, is.sparse, ix, jx, y, weights, offset, alpha, nobs, :\n",
      "\"one multinomial or binomial class has fewer than 8  observations; dangerous ground\""
     ]
    },
    {
     "name": "stdout",
     "output_type": "stream",
     "text": [
      "- Fold5: alpha=0.10, lambda=0.01821 \n",
      "+ Fold5: alpha=0.55, lambda=0.01821 \n"
     ]
    },
    {
     "name": "stderr",
     "output_type": "stream",
     "text": [
      "Warning message in lognet(x, is.sparse, ix, jx, y, weights, offset, alpha, nobs, :\n",
      "\"one multinomial or binomial class has fewer than 8  observations; dangerous ground\""
     ]
    },
    {
     "name": "stdout",
     "output_type": "stream",
     "text": [
      "- Fold5: alpha=0.55, lambda=0.01821 \n",
      "+ Fold5: alpha=1.00, lambda=0.01821 \n"
     ]
    },
    {
     "name": "stderr",
     "output_type": "stream",
     "text": [
      "Warning message in lognet(x, is.sparse, ix, jx, y, weights, offset, alpha, nobs, :\n",
      "\"one multinomial or binomial class has fewer than 8  observations; dangerous ground\""
     ]
    },
    {
     "name": "stdout",
     "output_type": "stream",
     "text": [
      "- Fold5: alpha=1.00, lambda=0.01821 \n",
      "Aggregating results\n",
      "Selecting tuning parameters\n",
      "Fitting alpha = 0.55, lambda = 0.00182 on full training set\n"
     ]
    }
   ],
   "source": [
    "# Fit glmnet model: model_glmnet\n",
    "model_glmnet <- train(\n",
    "  x = churn_x, y = churn_y,\n",
    "  metric = \"ROC\",\n",
    "  method = \"glmnet\",\n",
    "  trControl = myControl\n",
    ")"
   ]
  },
  {
   "cell_type": "markdown",
   "metadata": {},
   "source": [
    "## FIT RANDOMFOREST"
   ]
  },
  {
   "cell_type": "code",
   "execution_count": 7,
   "metadata": {},
   "outputs": [
    {
     "name": "stdout",
     "output_type": "stream",
     "text": [
      "+ Fold1: mtry= 2, min.node.size=1, splitrule=gini \n",
      "- Fold1: mtry= 2, min.node.size=1, splitrule=gini \n",
      "+ Fold1: mtry=36, min.node.size=1, splitrule=gini \n",
      "- Fold1: mtry=36, min.node.size=1, splitrule=gini \n",
      "+ Fold1: mtry=70, min.node.size=1, splitrule=gini \n",
      "- Fold1: mtry=70, min.node.size=1, splitrule=gini \n",
      "+ Fold1: mtry= 2, min.node.size=1, splitrule=extratrees \n",
      "- Fold1: mtry= 2, min.node.size=1, splitrule=extratrees \n",
      "+ Fold1: mtry=36, min.node.size=1, splitrule=extratrees \n",
      "- Fold1: mtry=36, min.node.size=1, splitrule=extratrees \n",
      "+ Fold1: mtry=70, min.node.size=1, splitrule=extratrees \n",
      "- Fold1: mtry=70, min.node.size=1, splitrule=extratrees \n",
      "+ Fold2: mtry= 2, min.node.size=1, splitrule=gini \n",
      "- Fold2: mtry= 2, min.node.size=1, splitrule=gini \n",
      "+ Fold2: mtry=36, min.node.size=1, splitrule=gini \n",
      "- Fold2: mtry=36, min.node.size=1, splitrule=gini \n",
      "+ Fold2: mtry=70, min.node.size=1, splitrule=gini \n",
      "- Fold2: mtry=70, min.node.size=1, splitrule=gini \n",
      "+ Fold2: mtry= 2, min.node.size=1, splitrule=extratrees \n",
      "- Fold2: mtry= 2, min.node.size=1, splitrule=extratrees \n",
      "+ Fold2: mtry=36, min.node.size=1, splitrule=extratrees \n",
      "- Fold2: mtry=36, min.node.size=1, splitrule=extratrees \n",
      "+ Fold2: mtry=70, min.node.size=1, splitrule=extratrees \n",
      "- Fold2: mtry=70, min.node.size=1, splitrule=extratrees \n",
      "+ Fold3: mtry= 2, min.node.size=1, splitrule=gini \n",
      "- Fold3: mtry= 2, min.node.size=1, splitrule=gini \n",
      "+ Fold3: mtry=36, min.node.size=1, splitrule=gini \n",
      "- Fold3: mtry=36, min.node.size=1, splitrule=gini \n",
      "+ Fold3: mtry=70, min.node.size=1, splitrule=gini \n",
      "- Fold3: mtry=70, min.node.size=1, splitrule=gini \n",
      "+ Fold3: mtry= 2, min.node.size=1, splitrule=extratrees \n",
      "- Fold3: mtry= 2, min.node.size=1, splitrule=extratrees \n",
      "+ Fold3: mtry=36, min.node.size=1, splitrule=extratrees \n",
      "- Fold3: mtry=36, min.node.size=1, splitrule=extratrees \n",
      "+ Fold3: mtry=70, min.node.size=1, splitrule=extratrees \n",
      "- Fold3: mtry=70, min.node.size=1, splitrule=extratrees \n",
      "+ Fold4: mtry= 2, min.node.size=1, splitrule=gini \n",
      "- Fold4: mtry= 2, min.node.size=1, splitrule=gini \n",
      "+ Fold4: mtry=36, min.node.size=1, splitrule=gini \n",
      "- Fold4: mtry=36, min.node.size=1, splitrule=gini \n",
      "+ Fold4: mtry=70, min.node.size=1, splitrule=gini \n",
      "- Fold4: mtry=70, min.node.size=1, splitrule=gini \n",
      "+ Fold4: mtry= 2, min.node.size=1, splitrule=extratrees \n",
      "- Fold4: mtry= 2, min.node.size=1, splitrule=extratrees \n",
      "+ Fold4: mtry=36, min.node.size=1, splitrule=extratrees \n",
      "- Fold4: mtry=36, min.node.size=1, splitrule=extratrees \n",
      "+ Fold4: mtry=70, min.node.size=1, splitrule=extratrees \n",
      "- Fold4: mtry=70, min.node.size=1, splitrule=extratrees \n",
      "+ Fold5: mtry= 2, min.node.size=1, splitrule=gini \n",
      "- Fold5: mtry= 2, min.node.size=1, splitrule=gini \n",
      "+ Fold5: mtry=36, min.node.size=1, splitrule=gini \n",
      "- Fold5: mtry=36, min.node.size=1, splitrule=gini \n",
      "+ Fold5: mtry=70, min.node.size=1, splitrule=gini \n",
      "- Fold5: mtry=70, min.node.size=1, splitrule=gini \n",
      "+ Fold5: mtry= 2, min.node.size=1, splitrule=extratrees \n",
      "- Fold5: mtry= 2, min.node.size=1, splitrule=extratrees \n",
      "+ Fold5: mtry=36, min.node.size=1, splitrule=extratrees \n",
      "- Fold5: mtry=36, min.node.size=1, splitrule=extratrees \n",
      "+ Fold5: mtry=70, min.node.size=1, splitrule=extratrees \n",
      "- Fold5: mtry=70, min.node.size=1, splitrule=extratrees \n",
      "Aggregating results\n",
      "Selecting tuning parameters\n",
      "Fitting mtry = 36, splitrule = extratrees, min.node.size = 1 on full training set\n"
     ]
    }
   ],
   "source": [
    "# Fit random forest: model_rf\n",
    "model_rf <- train(\n",
    "  x = churn_x, y = churn_y,\n",
    "  metric = \"ROC\",\n",
    "  method = \"ranger\",\n",
    "  trControl = myControl\n",
    ")"
   ]
  },
  {
   "cell_type": "markdown",
   "metadata": {},
   "source": [
    "## COMPARE 2 MODELS"
   ]
  },
  {
   "cell_type": "markdown",
   "metadata": {},
   "source": [
    "In general, you want the model with the higher median AUC, as well as a smaller range between min and max AUC."
   ]
  },
  {
   "cell_type": "code",
   "execution_count": 11,
   "metadata": {},
   "outputs": [
    {
     "data": {
      "text/plain": [
       "$item1\n",
       "glmnet \n",
       "\n",
       "250 samples\n",
       " 70 predictor\n",
       "  2 classes: 'no', 'yes' \n",
       "\n",
       "No pre-processing\n",
       "Resampling: Bootstrapped (5 reps) \n",
       "Summary of sample sizes: 51, 49, 50, 50, 50 \n",
       "Resampling results across tuning parameters:\n",
       "\n",
       "  alpha  lambda       ROC        Sens       Spec      \n",
       "  0.10   0.000182072  0.6069038  0.9426732  0.09384615\n",
       "  0.10   0.001820720  0.6069038  0.9426732  0.09384615\n",
       "  0.10   0.018207203  0.6079148  0.9449721  0.08615385\n",
       "  0.55   0.000182072  0.6165695  0.9231790  0.15600000\n",
       "  0.55   0.001820720  0.6165695  0.9231790  0.15600000\n",
       "  0.55   0.018207203  0.6047359  0.9369524  0.09415385\n",
       "  1.00   0.000182072  0.6088187  0.9220296  0.17107692\n",
       "  1.00   0.001820720  0.6086810  0.9231790  0.17107692\n",
       "  1.00   0.018207203  0.6109758  0.9369524  0.09384615\n",
       "\n",
       "ROC was used to select the optimal model using the largest value.\n",
       "The final values used for the model were alpha = 0.55 and lambda = 0.00182072.\n",
       "\n",
       "$item2\n",
       "Random Forest \n",
       "\n",
       "250 samples\n",
       " 70 predictor\n",
       "  2 classes: 'no', 'yes' \n",
       "\n",
       "No pre-processing\n",
       "Resampling: Bootstrapped (5 reps) \n",
       "Summary of sample sizes: 51, 49, 50, 50, 50 \n",
       "Resampling results across tuning parameters:\n",
       "\n",
       "  mtry  splitrule   ROC        Sens       Spec      \n",
       "   2    gini        0.6586958  1.0000000  0.00000000\n",
       "   2    extratrees  0.6670050  1.0000000  0.00000000\n",
       "  36    gini        0.6458427  0.9793235  0.06984615\n",
       "  36    extratrees  0.7090410  0.9839475  0.01600000\n",
       "  70    gini        0.6368321  0.9575304  0.09323077\n",
       "  70    extratrees  0.6979604  0.9656420  0.03938462\n",
       "\n",
       "Tuning parameter 'min.node.size' was held constant at a value of 1\n",
       "ROC was used to select the optimal model using the largest value.\n",
       "The final values used for the model were mtry = 36, splitrule = extratrees\n",
       " and min.node.size = 1.\n"
      ]
     },
     "metadata": {},
     "output_type": "display_data"
    }
   ],
   "source": [
    "# Create model_list\n",
    "model_list <- list(item1 = model_glmnet, item2 = model_rf)\n",
    "\n",
    "model_list"
   ]
  },
  {
   "cell_type": "code",
   "execution_count": 10,
   "metadata": {},
   "outputs": [
    {
     "data": {
      "text/plain": [
       "\n",
       "Call:\n",
       "summary.resamples(object = resamples)\n",
       "\n",
       "Models: item1, item2 \n",
       "Number of resamples: 5 \n",
       "\n",
       "ROC \n",
       "           Min.   1st Qu.    Median      Mean   3rd Qu.      Max. NA's\n",
       "item1 0.4937931 0.5988064 0.6518568 0.6165695 0.6553143 0.6830769    0\n",
       "item2 0.6821839 0.6837363 0.7041335 0.7090410 0.7061229 0.7690286    0\n",
       "\n",
       "Sens \n",
       "           Min.   1st Qu.    Median      Mean   3rd Qu.      Max. NA's\n",
       "item1 0.9028571 0.9137931 0.9252874 0.9231790 0.9314286 0.9425287    0\n",
       "item2 0.9597701 0.9771429 0.9885714 0.9839475 0.9942529 1.0000000    0\n",
       "\n",
       "Spec \n",
       "            Min. 1st Qu.    Median  Mean 3rd Qu.      Max. NA's\n",
       "item1 0.07692308    0.08 0.1153846 0.156    0.20 0.3076923    0\n",
       "item2 0.00000000    0.00 0.0000000 0.016    0.04 0.0400000    0\n"
      ]
     },
     "metadata": {},
     "output_type": "display_data"
    }
   ],
   "source": [
    "# Pass model_list to resamples(): resamples\n",
    "resamples <- resamples(model_list)\n",
    "\n",
    "# Summarize the results\n",
    "summary(resamples)"
   ]
  },
  {
   "cell_type": "code",
   "execution_count": 12,
   "metadata": {},
   "outputs": [
    {
     "data": {
      "image/png": "[encoded data removed]",
      "text/plain": [
       "plot without title"
      ]
     },
     "metadata": {},
     "output_type": "display_data"
    }
   ],
   "source": [
    "# Create bwplot\n",
    "bwplot(resamples, metric = \"ROC\")"
   ]
  },
  {
   "cell_type": "code",
   "execution_count": 14,
   "metadata": {},
   "outputs": [
    {
     "data": {
      "image/png": "[encoded data removed]",
      "text/plain": [
       "plot without title"
      ]
     },
     "metadata": {},
     "output_type": "display_data"
    }
   ],
   "source": [
    "# Create xyplot\n",
    "xyplot(resamples, metric = \"ROC\")"
   ]
  },
  {
   "cell_type": "markdown",
   "metadata": {},
   "source": [
    "It's particularly useful for identifying if one model is consistently better than the other across all folds, or if there are situations when the inferior model produces better predictions on a particular subset of the data."
   ]
  },
  {
   "cell_type": "code",
   "execution_count": 15,
   "metadata": {},
   "outputs": [
    {
     "data": {
      "image/png": "[encoded data removed]",
      "text/plain": [
       "plot without title"
      ]
     },
     "metadata": {},
     "output_type": "display_data"
    }
   ],
   "source": [
    "# Create dotplot\n",
    "dotplot(resamples, metric = 'ROC')"
   ]
  },
  {
   "cell_type": "code",
   "execution_count": 16,
   "metadata": {},
   "outputs": [
    {
     "data": {
      "image/png": "[encoded data removed]",
      "text/plain": [
       "plot without title"
      ]
     },
     "metadata": {},
     "output_type": "display_data"
    }
   ],
   "source": [
    "# Density plot\n",
    "densityplot(resamples, metric = 'ROC')"
   ]
  },
  {
   "cell_type": "markdown",
   "metadata": {},
   "source": [
    "## ENSEMBLE MODEL"
   ]
  },
  {
   "cell_type": "code",
   "execution_count": 18,
   "metadata": {},
   "outputs": [
    {
     "name": "stderr",
     "output_type": "stream",
     "text": [
      "Warning message:\n",
      "\"package 'caretEnsemble' was built under R version 3.5.2\"\n",
      "Attaching package: 'caretEnsemble'\n",
      "\n",
      "The following object is masked from 'package:ggplot2':\n",
      "\n",
      "    autoplot\n",
      "\n"
     ]
    }
   ],
   "source": [
    "library(caretEnsemble)"
   ]
  },
  {
   "cell_type": "code",
   "execution_count": 19,
   "metadata": {
    "scrolled": false
   },
   "outputs": [
    {
     "name": "stderr",
     "output_type": "stream",
     "text": [
      "Warning message in train.default(x = structure(list(stateAK = c(0L, 0L, 0L, 0L, :\n",
      "\"The metric \"Accuracy\" was not in the result set. ROC will be used instead.\""
     ]
    },
    {
     "name": "stdout",
     "output_type": "stream",
     "text": [
      "+ Fold1: alpha=0.10, lambda=0.01821 \n"
     ]
    },
    {
     "name": "stderr",
     "output_type": "stream",
     "text": [
      "Warning message in lognet(x, is.sparse, ix, jx, y, weights, offset, alpha, nobs, :\n",
      "\"one multinomial or binomial class has fewer than 8  observations; dangerous ground\""
     ]
    },
    {
     "name": "stdout",
     "output_type": "stream",
     "text": [
      "- Fold1: alpha=0.10, lambda=0.01821 \n",
      "+ Fold1: alpha=0.55, lambda=0.01821 \n"
     ]
    },
    {
     "name": "stderr",
     "output_type": "stream",
     "text": [
      "Warning message in lognet(x, is.sparse, ix, jx, y, weights, offset, alpha, nobs, :\n",
      "\"one multinomial or binomial class has fewer than 8  observations; dangerous ground\""
     ]
    },
    {
     "name": "stdout",
     "output_type": "stream",
     "text": [
      "- Fold1: alpha=0.55, lambda=0.01821 \n",
      "+ Fold1: alpha=1.00, lambda=0.01821 \n"
     ]
    },
    {
     "name": "stderr",
     "output_type": "stream",
     "text": [
      "Warning message in lognet(x, is.sparse, ix, jx, y, weights, offset, alpha, nobs, :\n",
      "\"one multinomial or binomial class has fewer than 8  observations; dangerous ground\""
     ]
    },
    {
     "name": "stdout",
     "output_type": "stream",
     "text": [
      "- Fold1: alpha=1.00, lambda=0.01821 \n",
      "+ Fold2: alpha=0.10, lambda=0.01821 \n"
     ]
    },
    {
     "name": "stderr",
     "output_type": "stream",
     "text": [
      "Warning message in lognet(x, is.sparse, ix, jx, y, weights, offset, alpha, nobs, :\n",
      "\"one multinomial or binomial class has fewer than 8  observations; dangerous ground\""
     ]
    },
    {
     "name": "stdout",
     "output_type": "stream",
     "text": [
      "- Fold2: alpha=0.10, lambda=0.01821 \n",
      "+ Fold2: alpha=0.55, lambda=0.01821 \n"
     ]
    },
    {
     "name": "stderr",
     "output_type": "stream",
     "text": [
      "Warning message in lognet(x, is.sparse, ix, jx, y, weights, offset, alpha, nobs, :\n",
      "\"one multinomial or binomial class has fewer than 8  observations; dangerous ground\""
     ]
    },
    {
     "name": "stdout",
     "output_type": "stream",
     "text": [
      "- Fold2: alpha=0.55, lambda=0.01821 \n",
      "+ Fold2: alpha=1.00, lambda=0.01821 \n"
     ]
    },
    {
     "name": "stderr",
     "output_type": "stream",
     "text": [
      "Warning message in lognet(x, is.sparse, ix, jx, y, weights, offset, alpha, nobs, :\n",
      "\"one multinomial or binomial class has fewer than 8  observations; dangerous ground\""
     ]
    },
    {
     "name": "stdout",
     "output_type": "stream",
     "text": [
      "- Fold2: alpha=1.00, lambda=0.01821 \n",
      "+ Fold3: alpha=0.10, lambda=0.01821 \n"
     ]
    },
    {
     "name": "stderr",
     "output_type": "stream",
     "text": [
      "Warning message in lognet(x, is.sparse, ix, jx, y, weights, offset, alpha, nobs, :\n",
      "\"one multinomial or binomial class has fewer than 8  observations; dangerous ground\""
     ]
    },
    {
     "name": "stdout",
     "output_type": "stream",
     "text": [
      "- Fold3: alpha=0.10, lambda=0.01821 \n",
      "+ Fold3: alpha=0.55, lambda=0.01821 \n"
     ]
    },
    {
     "name": "stderr",
     "output_type": "stream",
     "text": [
      "Warning message in lognet(x, is.sparse, ix, jx, y, weights, offset, alpha, nobs, :\n",
      "\"one multinomial or binomial class has fewer than 8  observations; dangerous ground\""
     ]
    },
    {
     "name": "stdout",
     "output_type": "stream",
     "text": [
      "- Fold3: alpha=0.55, lambda=0.01821 \n",
      "+ Fold3: alpha=1.00, lambda=0.01821 \n"
     ]
    },
    {
     "name": "stderr",
     "output_type": "stream",
     "text": [
      "Warning message in lognet(x, is.sparse, ix, jx, y, weights, offset, alpha, nobs, :\n",
      "\"one multinomial or binomial class has fewer than 8  observations; dangerous ground\""
     ]
    },
    {
     "name": "stdout",
     "output_type": "stream",
     "text": [
      "- Fold3: alpha=1.00, lambda=0.01821 \n",
      "+ Fold4: alpha=0.10, lambda=0.01821 \n"
     ]
    },
    {
     "name": "stderr",
     "output_type": "stream",
     "text": [
      "Warning message in lognet(x, is.sparse, ix, jx, y, weights, offset, alpha, nobs, :\n",
      "\"one multinomial or binomial class has fewer than 8  observations; dangerous ground\""
     ]
    },
    {
     "name": "stdout",
     "output_type": "stream",
     "text": [
      "- Fold4: alpha=0.10, lambda=0.01821 \n",
      "+ Fold4: alpha=0.55, lambda=0.01821 \n"
     ]
    },
    {
     "name": "stderr",
     "output_type": "stream",
     "text": [
      "Warning message in lognet(x, is.sparse, ix, jx, y, weights, offset, alpha, nobs, :\n",
      "\"one multinomial or binomial class has fewer than 8  observations; dangerous ground\""
     ]
    },
    {
     "name": "stdout",
     "output_type": "stream",
     "text": [
      "- Fold4: alpha=0.55, lambda=0.01821 \n",
      "+ Fold4: alpha=1.00, lambda=0.01821 \n"
     ]
    },
    {
     "name": "stderr",
     "output_type": "stream",
     "text": [
      "Warning message in lognet(x, is.sparse, ix, jx, y, weights, offset, alpha, nobs, :\n",
      "\"one multinomial or binomial class has fewer than 8  observations; dangerous ground\""
     ]
    },
    {
     "name": "stdout",
     "output_type": "stream",
     "text": [
      "- Fold4: alpha=1.00, lambda=0.01821 \n",
      "+ Fold5: alpha=0.10, lambda=0.01821 \n"
     ]
    },
    {
     "name": "stderr",
     "output_type": "stream",
     "text": [
      "Warning message in lognet(x, is.sparse, ix, jx, y, weights, offset, alpha, nobs, :\n",
      "\"one multinomial or binomial class has fewer than 8  observations; dangerous ground\""
     ]
    },
    {
     "name": "stdout",
     "output_type": "stream",
     "text": [
      "- Fold5: alpha=0.10, lambda=0.01821 \n",
      "+ Fold5: alpha=0.55, lambda=0.01821 \n"
     ]
    },
    {
     "name": "stderr",
     "output_type": "stream",
     "text": [
      "Warning message in lognet(x, is.sparse, ix, jx, y, weights, offset, alpha, nobs, :\n",
      "\"one multinomial or binomial class has fewer than 8  observations; dangerous ground\""
     ]
    },
    {
     "name": "stdout",
     "output_type": "stream",
     "text": [
      "- Fold5: alpha=0.55, lambda=0.01821 \n",
      "+ Fold5: alpha=1.00, lambda=0.01821 \n"
     ]
    },
    {
     "name": "stderr",
     "output_type": "stream",
     "text": [
      "Warning message in lognet(x, is.sparse, ix, jx, y, weights, offset, alpha, nobs, :\n",
      "\"one multinomial or binomial class has fewer than 8  observations; dangerous ground\""
     ]
    },
    {
     "name": "stdout",
     "output_type": "stream",
     "text": [
      "- Fold5: alpha=1.00, lambda=0.01821 \n",
      "Aggregating results\n",
      "Selecting tuning parameters\n",
      "Fitting alpha = 0.55, lambda = 0.00182 on full training set\n"
     ]
    },
    {
     "name": "stderr",
     "output_type": "stream",
     "text": [
      "Warning message in train.default(x = structure(list(stateAK = c(0L, 0L, 0L, 0L, :\n",
      "\"The metric \"Accuracy\" was not in the result set. ROC will be used instead.\""
     ]
    },
    {
     "name": "stdout",
     "output_type": "stream",
     "text": [
      "+ Fold1: mtry= 2, min.node.size=1, splitrule=gini \n",
      "- Fold1: mtry= 2, min.node.size=1, splitrule=gini \n",
      "+ Fold1: mtry=36, min.node.size=1, splitrule=gini \n",
      "- Fold1: mtry=36, min.node.size=1, splitrule=gini \n",
      "+ Fold1: mtry=70, min.node.size=1, splitrule=gini \n",
      "- Fold1: mtry=70, min.node.size=1, splitrule=gini \n",
      "+ Fold1: mtry= 2, min.node.size=1, splitrule=extratrees \n",
      "- Fold1: mtry= 2, min.node.size=1, splitrule=extratrees \n",
      "+ Fold1: mtry=36, min.node.size=1, splitrule=extratrees \n",
      "- Fold1: mtry=36, min.node.size=1, splitrule=extratrees \n",
      "+ Fold1: mtry=70, min.node.size=1, splitrule=extratrees \n",
      "- Fold1: mtry=70, min.node.size=1, splitrule=extratrees \n",
      "+ Fold2: mtry= 2, min.node.size=1, splitrule=gini \n",
      "- Fold2: mtry= 2, min.node.size=1, splitrule=gini \n",
      "+ Fold2: mtry=36, min.node.size=1, splitrule=gini \n",
      "- Fold2: mtry=36, min.node.size=1, splitrule=gini \n",
      "+ Fold2: mtry=70, min.node.size=1, splitrule=gini \n",
      "- Fold2: mtry=70, min.node.size=1, splitrule=gini \n",
      "+ Fold2: mtry= 2, min.node.size=1, splitrule=extratrees \n",
      "- Fold2: mtry= 2, min.node.size=1, splitrule=extratrees \n",
      "+ Fold2: mtry=36, min.node.size=1, splitrule=extratrees \n",
      "- Fold2: mtry=36, min.node.size=1, splitrule=extratrees \n",
      "+ Fold2: mtry=70, min.node.size=1, splitrule=extratrees \n",
      "- Fold2: mtry=70, min.node.size=1, splitrule=extratrees \n",
      "+ Fold3: mtry= 2, min.node.size=1, splitrule=gini \n",
      "- Fold3: mtry= 2, min.node.size=1, splitrule=gini \n",
      "+ Fold3: mtry=36, min.node.size=1, splitrule=gini \n",
      "- Fold3: mtry=36, min.node.size=1, splitrule=gini \n",
      "+ Fold3: mtry=70, min.node.size=1, splitrule=gini \n",
      "- Fold3: mtry=70, min.node.size=1, splitrule=gini \n",
      "+ Fold3: mtry= 2, min.node.size=1, splitrule=extratrees \n",
      "- Fold3: mtry= 2, min.node.size=1, splitrule=extratrees \n",
      "+ Fold3: mtry=36, min.node.size=1, splitrule=extratrees \n",
      "- Fold3: mtry=36, min.node.size=1, splitrule=extratrees \n",
      "+ Fold3: mtry=70, min.node.size=1, splitrule=extratrees \n",
      "- Fold3: mtry=70, min.node.size=1, splitrule=extratrees \n",
      "+ Fold4: mtry= 2, min.node.size=1, splitrule=gini \n",
      "- Fold4: mtry= 2, min.node.size=1, splitrule=gini \n",
      "+ Fold4: mtry=36, min.node.size=1, splitrule=gini \n",
      "- Fold4: mtry=36, min.node.size=1, splitrule=gini \n",
      "+ Fold4: mtry=70, min.node.size=1, splitrule=gini \n",
      "- Fold4: mtry=70, min.node.size=1, splitrule=gini \n",
      "+ Fold4: mtry= 2, min.node.size=1, splitrule=extratrees \n",
      "- Fold4: mtry= 2, min.node.size=1, splitrule=extratrees \n",
      "+ Fold4: mtry=36, min.node.size=1, splitrule=extratrees \n",
      "- Fold4: mtry=36, min.node.size=1, splitrule=extratrees \n",
      "+ Fold4: mtry=70, min.node.size=1, splitrule=extratrees \n",
      "- Fold4: mtry=70, min.node.size=1, splitrule=extratrees \n",
      "+ Fold5: mtry= 2, min.node.size=1, splitrule=gini \n",
      "- Fold5: mtry= 2, min.node.size=1, splitrule=gini \n",
      "+ Fold5: mtry=36, min.node.size=1, splitrule=gini \n",
      "- Fold5: mtry=36, min.node.size=1, splitrule=gini \n",
      "+ Fold5: mtry=70, min.node.size=1, splitrule=gini \n",
      "- Fold5: mtry=70, min.node.size=1, splitrule=gini \n",
      "+ Fold5: mtry= 2, min.node.size=1, splitrule=extratrees \n",
      "- Fold5: mtry= 2, min.node.size=1, splitrule=extratrees \n",
      "+ Fold5: mtry=36, min.node.size=1, splitrule=extratrees \n",
      "- Fold5: mtry=36, min.node.size=1, splitrule=extratrees \n",
      "+ Fold5: mtry=70, min.node.size=1, splitrule=extratrees \n",
      "- Fold5: mtry=70, min.node.size=1, splitrule=extratrees \n",
      "Aggregating results\n",
      "Selecting tuning parameters\n",
      "Fitting mtry = 36, splitrule = extratrees, min.node.size = 1 on full training set\n"
     ]
    }
   ],
   "source": [
    "# Creat caretlist\n",
    "models <- caretList(x = churn_x, y = churn_y,\n",
    "                    trControl = myControl,\n",
    "                    methodList = c('glmnet', 'ranger'))"
   ]
  },
  {
   "cell_type": "code",
   "execution_count": 20,
   "metadata": {},
   "outputs": [
    {
     "data": {
      "text/plain": [
       "\n",
       "Call:\n",
       "NULL\n",
       "\n",
       "Deviance Residuals: \n",
       "    Min       1Q   Median       3Q      Max  \n",
       "-1.1507  -0.4996  -0.4582  -0.4440   2.1815  \n",
       "\n",
       "Coefficients:\n",
       "            Estimate Std. Error z value Pr(>|z|)    \n",
       "(Intercept)  -2.2890     0.1270 -18.021  < 2e-16 ***\n",
       "glmnet       -0.2592     0.4647  -0.558    0.577    \n",
       "ranger        3.6816     0.9217   3.994 6.49e-05 ***\n",
       "---\n",
       "Signif. codes:  0 '***' 0.001 '**' 0.01 '*' 0.05 '.' 0.1 ' ' 1\n",
       "\n",
       "(Dispersion parameter for binomial family taken to be 1)\n",
       "\n",
       "    Null deviance: 765.13  on 999  degrees of freedom\n",
       "Residual deviance: 739.72  on 997  degrees of freedom\n",
       "AIC: 745.72\n",
       "\n",
       "Number of Fisher Scoring iterations: 4\n"
      ]
     },
     "metadata": {},
     "output_type": "display_data"
    }
   ],
   "source": [
    "# Create ensemble model: stack\n",
    "stack <- caretStack(models, method = \"glm\")\n",
    "\n",
    "# Look at summary\n",
    "summary(stack)"
   ]
  }
 ],
 "metadata": {
  "kernelspec": {
   "display_name": "R",
   "language": "R",
   "name": "ir"
  },
  "language_info": {
   "codemirror_mode": "r",
   "file_extension": ".r",
   "mimetype": "text/x-r-source",
   "name": "R",
   "pygments_lexer": "r",
   "version": "3.5.1"
  }
 },
 "nbformat": 4,
 "nbformat_minor": 2
}
