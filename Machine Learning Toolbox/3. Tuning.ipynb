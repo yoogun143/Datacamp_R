{
 "cells": [
  {
   "cell_type": "code",
   "execution_count": 3,
   "metadata": {},
   "outputs": [
    {
     "name": "stderr",
     "output_type": "stream",
     "text": [
      "Warning message:\n",
      "\"package 'caret' was built under R version 3.5.2\"Loading required package: lattice\n",
      "Warning message:\n",
      "\"package 'lattice' was built under R version 3.5.2\"Loading required package: ggplot2\n"
     ]
    }
   ],
   "source": [
    "wine <- readRDS('wine_100.RDS')\n",
    "overfit = read.csv('overfit.csv')\n",
    "library(caret)"
   ]
  },
  {
   "cell_type": "code",
   "execution_count": 6,
   "metadata": {
    "scrolled": false
   },
   "outputs": [
    {
     "name": "stdout",
     "output_type": "stream",
     "text": [
      "+ Fold1: mtry= 2, min.node.size=5, splitrule=variance \n",
      "- Fold1: mtry= 2, min.node.size=5, splitrule=variance \n",
      "+ Fold1: mtry= 7, min.node.size=5, splitrule=variance \n",
      "- Fold1: mtry= 7, min.node.size=5, splitrule=variance \n",
      "+ Fold1: mtry=12, min.node.size=5, splitrule=variance \n",
      "- Fold1: mtry=12, min.node.size=5, splitrule=variance \n",
      "+ Fold1: mtry= 2, min.node.size=5, splitrule=extratrees \n",
      "- Fold1: mtry= 2, min.node.size=5, splitrule=extratrees \n",
      "+ Fold1: mtry= 7, min.node.size=5, splitrule=extratrees \n",
      "- Fold1: mtry= 7, min.node.size=5, splitrule=extratrees \n",
      "+ Fold1: mtry=12, min.node.size=5, splitrule=extratrees \n",
      "- Fold1: mtry=12, min.node.size=5, splitrule=extratrees \n",
      "+ Fold2: mtry= 2, min.node.size=5, splitrule=variance \n",
      "- Fold2: mtry= 2, min.node.size=5, splitrule=variance \n",
      "+ Fold2: mtry= 7, min.node.size=5, splitrule=variance \n",
      "- Fold2: mtry= 7, min.node.size=5, splitrule=variance \n",
      "+ Fold2: mtry=12, min.node.size=5, splitrule=variance \n",
      "- Fold2: mtry=12, min.node.size=5, splitrule=variance \n",
      "+ Fold2: mtry= 2, min.node.size=5, splitrule=extratrees \n",
      "- Fold2: mtry= 2, min.node.size=5, splitrule=extratrees \n",
      "+ Fold2: mtry= 7, min.node.size=5, splitrule=extratrees \n",
      "- Fold2: mtry= 7, min.node.size=5, splitrule=extratrees \n",
      "+ Fold2: mtry=12, min.node.size=5, splitrule=extratrees \n",
      "- Fold2: mtry=12, min.node.size=5, splitrule=extratrees \n",
      "+ Fold3: mtry= 2, min.node.size=5, splitrule=variance \n",
      "- Fold3: mtry= 2, min.node.size=5, splitrule=variance \n",
      "+ Fold3: mtry= 7, min.node.size=5, splitrule=variance \n",
      "- Fold3: mtry= 7, min.node.size=5, splitrule=variance \n",
      "+ Fold3: mtry=12, min.node.size=5, splitrule=variance \n",
      "- Fold3: mtry=12, min.node.size=5, splitrule=variance \n",
      "+ Fold3: mtry= 2, min.node.size=5, splitrule=extratrees \n",
      "- Fold3: mtry= 2, min.node.size=5, splitrule=extratrees \n",
      "+ Fold3: mtry= 7, min.node.size=5, splitrule=extratrees \n",
      "- Fold3: mtry= 7, min.node.size=5, splitrule=extratrees \n",
      "+ Fold3: mtry=12, min.node.size=5, splitrule=extratrees \n",
      "- Fold3: mtry=12, min.node.size=5, splitrule=extratrees \n",
      "+ Fold4: mtry= 2, min.node.size=5, splitrule=variance \n",
      "- Fold4: mtry= 2, min.node.size=5, splitrule=variance \n",
      "+ Fold4: mtry= 7, min.node.size=5, splitrule=variance \n",
      "- Fold4: mtry= 7, min.node.size=5, splitrule=variance \n",
      "+ Fold4: mtry=12, min.node.size=5, splitrule=variance \n",
      "- Fold4: mtry=12, min.node.size=5, splitrule=variance \n",
      "+ Fold4: mtry= 2, min.node.size=5, splitrule=extratrees \n",
      "- Fold4: mtry= 2, min.node.size=5, splitrule=extratrees \n",
      "+ Fold4: mtry= 7, min.node.size=5, splitrule=extratrees \n",
      "- Fold4: mtry= 7, min.node.size=5, splitrule=extratrees \n",
      "+ Fold4: mtry=12, min.node.size=5, splitrule=extratrees \n",
      "- Fold4: mtry=12, min.node.size=5, splitrule=extratrees \n",
      "+ Fold5: mtry= 2, min.node.size=5, splitrule=variance \n",
      "- Fold5: mtry= 2, min.node.size=5, splitrule=variance \n",
      "+ Fold5: mtry= 7, min.node.size=5, splitrule=variance \n",
      "- Fold5: mtry= 7, min.node.size=5, splitrule=variance \n",
      "+ Fold5: mtry=12, min.node.size=5, splitrule=variance \n",
      "- Fold5: mtry=12, min.node.size=5, splitrule=variance \n",
      "+ Fold5: mtry= 2, min.node.size=5, splitrule=extratrees \n",
      "- Fold5: mtry= 2, min.node.size=5, splitrule=extratrees \n",
      "+ Fold5: mtry= 7, min.node.size=5, splitrule=extratrees \n",
      "- Fold5: mtry= 7, min.node.size=5, splitrule=extratrees \n",
      "+ Fold5: mtry=12, min.node.size=5, splitrule=extratrees \n",
      "- Fold5: mtry=12, min.node.size=5, splitrule=extratrees \n",
      "Aggregating results\n",
      "Selecting tuning parameters\n",
      "Fitting mtry = 12, splitrule = variance, min.node.size = 5 on full training set\n"
     ]
    },
    {
     "data": {
      "text/plain": [
       "Random Forest \n",
       "\n",
       "100 samples\n",
       " 12 predictor\n",
       "\n",
       "No pre-processing\n",
       "Resampling: Cross-Validated (5 fold) \n",
       "Summary of sample sizes: 79, 80, 81, 80, 80 \n",
       "Resampling results across tuning parameters:\n",
       "\n",
       "  mtry  splitrule   RMSE       Rsquared   MAE      \n",
       "   2    variance    0.6676594  0.2746904  0.5149231\n",
       "   2    extratrees  0.6987803  0.2063664  0.5263449\n",
       "   7    variance    0.6580047  0.2893487  0.5129431\n",
       "   7    extratrees  0.6813752  0.2383825  0.5268090\n",
       "  12    variance    0.6482414  0.3104913  0.5076911\n",
       "  12    extratrees  0.6807393  0.2426137  0.5342157\n",
       "\n",
       "Tuning parameter 'min.node.size' was held constant at a value of 5\n",
       "RMSE was used to select the optimal model using the smallest value.\n",
       "The final values used for the model were mtry = 12, splitrule = variance\n",
       " and min.node.size = 5."
      ]
     },
     "metadata": {},
     "output_type": "display_data"
    }
   ],
   "source": [
    "# Fit random forest: model\n",
    "model <- train(\n",
    "  quality ~ .,\n",
    "  tuneLength = 3, #RF has primary tuning parameter: mtry: number of randomly selected preidctors\n",
    "  data = wine, method = \"ranger\",\n",
    "  trControl = trainControl(method = \"cv\", number = 5, verboseIter = TRUE)\n",
    ")\n",
    "\n",
    "# Print model to console\n",
    "model"
   ]
  },
  {
   "cell_type": "code",
   "execution_count": 7,
   "metadata": {},
   "outputs": [
    {
     "data": {
      "image/png": "[encoded data removed]",
      "text/plain": [
       "plot without title"
      ]
     },
     "metadata": {},
     "output_type": "display_data"
    }
   ],
   "source": [
    "# Plot model\n",
    "plot(model)"
   ]
  },
  {
   "cell_type": "markdown",
   "metadata": {},
   "source": [
    "## CUSTOM TUNING"
   ]
  },
  {
   "cell_type": "code",
   "execution_count": 8,
   "metadata": {},
   "outputs": [
    {
     "name": "stdout",
     "output_type": "stream",
     "text": [
      "+ Fold1: mtry=2, splitrule=variance, min.node.size=5 \n",
      "- Fold1: mtry=2, splitrule=variance, min.node.size=5 \n",
      "+ Fold1: mtry=3, splitrule=variance, min.node.size=5 \n",
      "- Fold1: mtry=3, splitrule=variance, min.node.size=5 \n",
      "+ Fold1: mtry=7, splitrule=variance, min.node.size=5 \n",
      "- Fold1: mtry=7, splitrule=variance, min.node.size=5 \n",
      "+ Fold2: mtry=2, splitrule=variance, min.node.size=5 \n",
      "- Fold2: mtry=2, splitrule=variance, min.node.size=5 \n",
      "+ Fold2: mtry=3, splitrule=variance, min.node.size=5 \n",
      "- Fold2: mtry=3, splitrule=variance, min.node.size=5 \n",
      "+ Fold2: mtry=7, splitrule=variance, min.node.size=5 \n",
      "- Fold2: mtry=7, splitrule=variance, min.node.size=5 \n",
      "+ Fold3: mtry=2, splitrule=variance, min.node.size=5 \n",
      "- Fold3: mtry=2, splitrule=variance, min.node.size=5 \n",
      "+ Fold3: mtry=3, splitrule=variance, min.node.size=5 \n",
      "- Fold3: mtry=3, splitrule=variance, min.node.size=5 \n",
      "+ Fold3: mtry=7, splitrule=variance, min.node.size=5 \n",
      "- Fold3: mtry=7, splitrule=variance, min.node.size=5 \n",
      "+ Fold4: mtry=2, splitrule=variance, min.node.size=5 \n",
      "- Fold4: mtry=2, splitrule=variance, min.node.size=5 \n",
      "+ Fold4: mtry=3, splitrule=variance, min.node.size=5 \n",
      "- Fold4: mtry=3, splitrule=variance, min.node.size=5 \n",
      "+ Fold4: mtry=7, splitrule=variance, min.node.size=5 \n",
      "- Fold4: mtry=7, splitrule=variance, min.node.size=5 \n",
      "+ Fold5: mtry=2, splitrule=variance, min.node.size=5 \n",
      "- Fold5: mtry=2, splitrule=variance, min.node.size=5 \n",
      "+ Fold5: mtry=3, splitrule=variance, min.node.size=5 \n",
      "- Fold5: mtry=3, splitrule=variance, min.node.size=5 \n",
      "+ Fold5: mtry=7, splitrule=variance, min.node.size=5 \n",
      "- Fold5: mtry=7, splitrule=variance, min.node.size=5 \n",
      "Aggregating results\n",
      "Selecting tuning parameters\n",
      "Fitting mtry = 7, splitrule = variance, min.node.size = 5 on full training set\n"
     ]
    },
    {
     "data": {
      "text/plain": [
       "Random Forest \n",
       "\n",
       "100 samples\n",
       " 12 predictor\n",
       "\n",
       "No pre-processing\n",
       "Resampling: Cross-Validated (5 fold) \n",
       "Summary of sample sizes: 80, 80, 79, 80, 81 \n",
       "Resampling results across tuning parameters:\n",
       "\n",
       "  mtry  RMSE       Rsquared   MAE      \n",
       "  2     0.6510631  0.3252362  0.4924728\n",
       "  3     0.6421363  0.3410173  0.4873834\n",
       "  7     0.6283957  0.3423119  0.4837944\n",
       "\n",
       "Tuning parameter 'splitrule' was held constant at a value of variance\n",
       "\n",
       "Tuning parameter 'min.node.size' was held constant at a value of 5\n",
       "RMSE was used to select the optimal model using the smallest value.\n",
       "The final values used for the model were mtry = 7, splitrule = variance\n",
       " and min.node.size = 5."
      ]
     },
     "metadata": {},
     "output_type": "display_data"
    }
   ],
   "source": [
    "# Fit random forest: model\n",
    "model <- train(\n",
    "  quality ~ .,\n",
    "  tuneGrid = data.frame(mtry = c(2,3,7), splitrule = \"variance\", min.node.size = 5),\n",
    "  data = wine, method = \"ranger\",\n",
    "  trControl = trainControl(method = \"cv\", number = 5, verboseIter = TRUE)\n",
    ")\n",
    "\n",
    "# Print model to console\n",
    "model"
   ]
  },
  {
   "cell_type": "code",
   "execution_count": 9,
   "metadata": {},
   "outputs": [
    {
     "data": {
      "image/png": "[encoded data removed]",
      "text/plain": [
       "plot without title"
      ]
     },
     "metadata": {},
     "output_type": "display_data"
    }
   ],
   "source": [
    "# Plot model\n",
    "plot(model)"
   ]
  },
  {
   "cell_type": "markdown",
   "metadata": {},
   "source": [
    "## TUNE GLMNET"
   ]
  },
  {
   "cell_type": "code",
   "execution_count": 11,
   "metadata": {},
   "outputs": [
    {
     "name": "stderr",
     "output_type": "stream",
     "text": [
      "Warning message in train.default(x, y, weights = w, ...):\n",
      "\"The metric \"Accuracy\" was not in the result set. ROC will be used instead.\""
     ]
    },
    {
     "name": "stdout",
     "output_type": "stream",
     "text": [
      "+ Fold01: alpha=0.10, lambda=0.01013 \n",
      "- Fold01: alpha=0.10, lambda=0.01013 \n",
      "+ Fold01: alpha=0.55, lambda=0.01013 \n",
      "- Fold01: alpha=0.55, lambda=0.01013 \n",
      "+ Fold01: alpha=1.00, lambda=0.01013 \n",
      "- Fold01: alpha=1.00, lambda=0.01013 \n",
      "+ Fold02: alpha=0.10, lambda=0.01013 \n",
      "- Fold02: alpha=0.10, lambda=0.01013 \n",
      "+ Fold02: alpha=0.55, lambda=0.01013 \n",
      "- Fold02: alpha=0.55, lambda=0.01013 \n",
      "+ Fold02: alpha=1.00, lambda=0.01013 \n",
      "- Fold02: alpha=1.00, lambda=0.01013 \n",
      "+ Fold03: alpha=0.10, lambda=0.01013 \n",
      "- Fold03: alpha=0.10, lambda=0.01013 \n",
      "+ Fold03: alpha=0.55, lambda=0.01013 \n",
      "- Fold03: alpha=0.55, lambda=0.01013 \n",
      "+ Fold03: alpha=1.00, lambda=0.01013 \n",
      "- Fold03: alpha=1.00, lambda=0.01013 \n",
      "+ Fold04: alpha=0.10, lambda=0.01013 \n",
      "- Fold04: alpha=0.10, lambda=0.01013 \n",
      "+ Fold04: alpha=0.55, lambda=0.01013 \n",
      "- Fold04: alpha=0.55, lambda=0.01013 \n",
      "+ Fold04: alpha=1.00, lambda=0.01013 \n",
      "- Fold04: alpha=1.00, lambda=0.01013 \n",
      "+ Fold05: alpha=0.10, lambda=0.01013 \n",
      "- Fold05: alpha=0.10, lambda=0.01013 \n",
      "+ Fold05: alpha=0.55, lambda=0.01013 \n",
      "- Fold05: alpha=0.55, lambda=0.01013 \n",
      "+ Fold05: alpha=1.00, lambda=0.01013 \n",
      "- Fold05: alpha=1.00, lambda=0.01013 \n",
      "+ Fold06: alpha=0.10, lambda=0.01013 \n",
      "- Fold06: alpha=0.10, lambda=0.01013 \n",
      "+ Fold06: alpha=0.55, lambda=0.01013 \n",
      "- Fold06: alpha=0.55, lambda=0.01013 \n",
      "+ Fold06: alpha=1.00, lambda=0.01013 \n",
      "- Fold06: alpha=1.00, lambda=0.01013 \n",
      "+ Fold07: alpha=0.10, lambda=0.01013 \n",
      "- Fold07: alpha=0.10, lambda=0.01013 \n",
      "+ Fold07: alpha=0.55, lambda=0.01013 \n",
      "- Fold07: alpha=0.55, lambda=0.01013 \n",
      "+ Fold07: alpha=1.00, lambda=0.01013 \n",
      "- Fold07: alpha=1.00, lambda=0.01013 \n",
      "+ Fold08: alpha=0.10, lambda=0.01013 \n",
      "- Fold08: alpha=0.10, lambda=0.01013 \n",
      "+ Fold08: alpha=0.55, lambda=0.01013 \n",
      "- Fold08: alpha=0.55, lambda=0.01013 \n",
      "+ Fold08: alpha=1.00, lambda=0.01013 \n",
      "- Fold08: alpha=1.00, lambda=0.01013 \n",
      "+ Fold09: alpha=0.10, lambda=0.01013 \n",
      "- Fold09: alpha=0.10, lambda=0.01013 \n",
      "+ Fold09: alpha=0.55, lambda=0.01013 \n",
      "- Fold09: alpha=0.55, lambda=0.01013 \n",
      "+ Fold09: alpha=1.00, lambda=0.01013 \n",
      "- Fold09: alpha=1.00, lambda=0.01013 \n",
      "+ Fold10: alpha=0.10, lambda=0.01013 \n",
      "- Fold10: alpha=0.10, lambda=0.01013 \n",
      "+ Fold10: alpha=0.55, lambda=0.01013 \n",
      "- Fold10: alpha=0.55, lambda=0.01013 \n",
      "+ Fold10: alpha=1.00, lambda=0.01013 \n",
      "- Fold10: alpha=1.00, lambda=0.01013 \n",
      "Aggregating results\n",
      "Selecting tuning parameters\n",
      "Fitting alpha = 0.1, lambda = 0.0101 on full training set\n"
     ]
    }
   ],
   "source": [
    "# Create custom trainControl: myControl\n",
    "myControl <- trainControl(\n",
    "  method = \"cv\", number = 10,\n",
    "  summaryFunction = twoClassSummary,\n",
    "  classProbs = TRUE, # IMPORTANT!\n",
    "  verboseIter = TRUE\n",
    ")\n",
    "\n",
    "# Fit glmnet model: model\n",
    "model <- train(\n",
    "  y ~ ., data = overfit,\n",
    "  method = \"glmnet\",\n",
    "  trControl = myControl\n",
    ")"
   ]
  },
  {
   "cell_type": "code",
   "execution_count": 12,
   "metadata": {},
   "outputs": [
    {
     "data": {
      "text/plain": [
       "glmnet \n",
       "\n",
       "250 samples\n",
       "200 predictors\n",
       "  2 classes: 'class1', 'class2' \n",
       "\n",
       "No pre-processing\n",
       "Resampling: Cross-Validated (10 fold) \n",
       "Summary of sample sizes: 226, 225, 225, 224, 225, 224, ... \n",
       "Resampling results across tuning parameters:\n",
       "\n",
       "  alpha  lambda        ROC        Sens  Spec     \n",
       "  0.10   0.0001012745  0.4034420  0     0.9612319\n",
       "  0.10   0.0010127448  0.4054348  0     0.9697464\n",
       "  0.10   0.0101274483  0.4074275  0     0.9784420\n",
       "  0.55   0.0001012745  0.3360507  0     0.9275362\n",
       "  0.55   0.0010127448  0.3381341  0     0.9530797\n",
       "  0.55   0.0101274483  0.3682971  0     0.9659420\n",
       "  1.00   0.0001012745  0.3170290  0     0.9192029\n",
       "  1.00   0.0010127448  0.3277174  0     0.9403986\n",
       "  1.00   0.0101274483  0.3749094  0     0.9788043\n",
       "\n",
       "ROC was used to select the optimal model using the largest value.\n",
       "The final values used for the model were alpha = 0.1 and lambda = 0.01012745."
      ]
     },
     "metadata": {},
     "output_type": "display_data"
    }
   ],
   "source": [
    "# Print model to console\n",
    "model"
   ]
  },
  {
   "cell_type": "markdown",
   "metadata": {},
   "source": [
    "- Default tuning: 3 alpha, 3 lambda\n",
    "- alpha[0,1]: pure lasso to pure ridge\n",
    "- lambda (0, infinity): size of the penalty"
   ]
  },
  {
   "cell_type": "code",
   "execution_count": 13,
   "metadata": {},
   "outputs": [
    {
     "data": {
      "image/png": "[encoded data removed]",
      "text/plain": [
       "plot without title"
      ]
     },
     "metadata": {},
     "output_type": "display_data"
    }
   ],
   "source": [
    "# Plot model\n",
    "plot(model)"
   ]
  },
  {
   "cell_type": "code",
   "execution_count": 14,
   "metadata": {},
   "outputs": [
    {
     "data": {
      "text/html": [
       "0.407427536231884"
      ],
      "text/latex": [
       "0.407427536231884"
      ],
      "text/markdown": [
       "0.407427536231884"
      ],
      "text/plain": [
       "[1] 0.4074275"
      ]
     },
     "metadata": {},
     "output_type": "display_data"
    }
   ],
   "source": [
    "# Print maximum ROC statistic\n",
    "max(model[[\"results\"]][['ROC']])"
   ]
  },
  {
   "cell_type": "code",
   "execution_count": 16,
   "metadata": {},
   "outputs": [
    {
     "name": "stderr",
     "output_type": "stream",
     "text": [
      "Warning message in train.default(x, y, weights = w, ...):\n",
      "\"The metric \"Accuracy\" was not in the result set. ROC will be used instead.\""
     ]
    },
    {
     "name": "stdout",
     "output_type": "stream",
     "text": [
      "+ Fold01: alpha=0, lambda=1 \n",
      "- Fold01: alpha=0, lambda=1 \n",
      "+ Fold01: alpha=1, lambda=1 \n",
      "- Fold01: alpha=1, lambda=1 \n",
      "+ Fold02: alpha=0, lambda=1 \n",
      "- Fold02: alpha=0, lambda=1 \n",
      "+ Fold02: alpha=1, lambda=1 \n",
      "- Fold02: alpha=1, lambda=1 \n",
      "+ Fold03: alpha=0, lambda=1 \n",
      "- Fold03: alpha=0, lambda=1 \n",
      "+ Fold03: alpha=1, lambda=1 \n",
      "- Fold03: alpha=1, lambda=1 \n",
      "+ Fold04: alpha=0, lambda=1 \n",
      "- Fold04: alpha=0, lambda=1 \n",
      "+ Fold04: alpha=1, lambda=1 \n",
      "- Fold04: alpha=1, lambda=1 \n",
      "+ Fold05: alpha=0, lambda=1 \n",
      "- Fold05: alpha=0, lambda=1 \n",
      "+ Fold05: alpha=1, lambda=1 \n",
      "- Fold05: alpha=1, lambda=1 \n",
      "+ Fold06: alpha=0, lambda=1 \n",
      "- Fold06: alpha=0, lambda=1 \n",
      "+ Fold06: alpha=1, lambda=1 \n",
      "- Fold06: alpha=1, lambda=1 \n",
      "+ Fold07: alpha=0, lambda=1 \n",
      "- Fold07: alpha=0, lambda=1 \n",
      "+ Fold07: alpha=1, lambda=1 \n",
      "- Fold07: alpha=1, lambda=1 \n",
      "+ Fold08: alpha=0, lambda=1 \n",
      "- Fold08: alpha=0, lambda=1 \n",
      "+ Fold08: alpha=1, lambda=1 \n",
      "- Fold08: alpha=1, lambda=1 \n",
      "+ Fold09: alpha=0, lambda=1 \n",
      "- Fold09: alpha=0, lambda=1 \n",
      "+ Fold09: alpha=1, lambda=1 \n",
      "- Fold09: alpha=1, lambda=1 \n",
      "+ Fold10: alpha=0, lambda=1 \n",
      "- Fold10: alpha=0, lambda=1 \n",
      "+ Fold10: alpha=1, lambda=1 \n",
      "- Fold10: alpha=1, lambda=1 \n",
      "Aggregating results\n",
      "Selecting tuning parameters\n",
      "Fitting alpha = 1, lambda = 0.0527 on full training set\n"
     ]
    }
   ],
   "source": [
    "# Train glmnet with custom trainControl and tuning: model\n",
    "model <- train(\n",
    "  y ~ ., overfit,\n",
    "  tuneGrid = expand.grid(\n",
    "    alpha = 0:1,\n",
    "    lambda = seq(0.0001, 1, length = 20)),\n",
    "  method = \"glmnet\",\n",
    "  trControl = myControl\n",
    ")"
   ]
  },
  {
   "cell_type": "code",
   "execution_count": 17,
   "metadata": {},
   "outputs": [
    {
     "data": {
      "text/plain": [
       "glmnet \n",
       "\n",
       "250 samples\n",
       "200 predictors\n",
       "  2 classes: 'class1', 'class2' \n",
       "\n",
       "No pre-processing\n",
       "Resampling: Cross-Validated (10 fold) \n",
       "Summary of sample sizes: 225, 226, 225, 224, 225, 226, ... \n",
       "Resampling results across tuning parameters:\n",
       "\n",
       "  alpha  lambda      ROC        Sens  Spec     \n",
       "  0      0.00010000  0.4275362  0     0.9871377\n",
       "  0      0.05272632  0.4123188  0     1.0000000\n",
       "  0      0.10535263  0.4167572  0     1.0000000\n",
       "  0      0.15797895  0.4190217  0     1.0000000\n",
       "  0      0.21060526  0.4254529  0     1.0000000\n",
       "  0      0.26323158  0.4404891  0     1.0000000\n",
       "  0      0.31585789  0.4447464  0     1.0000000\n",
       "  0      0.36848421  0.4534420  0     1.0000000\n",
       "  0      0.42111053  0.4513587  0     1.0000000\n",
       "  0      0.47373684  0.4513587  0     1.0000000\n",
       "  0      0.52636316  0.4534420  0     1.0000000\n",
       "  0      0.57898947  0.4556159  0     1.0000000\n",
       "  0      0.63161579  0.4556159  0     1.0000000\n",
       "  0      0.68424211  0.4556159  0     1.0000000\n",
       "  0      0.73686842  0.4556159  0     1.0000000\n",
       "  0      0.78949474  0.4597826  0     1.0000000\n",
       "  0      0.84212105  0.4597826  0     1.0000000\n",
       "  0      0.89474737  0.4597826  0     1.0000000\n",
       "  0      0.94737368  0.4641304  0     1.0000000\n",
       "  0      1.00000000  0.4641304  0     1.0000000\n",
       "  1      0.00010000  0.3571558  0     0.9358696\n",
       "  1      0.05272632  0.5329710  0     1.0000000\n",
       "  1      0.10535263  0.5000000  0     1.0000000\n",
       "  1      0.15797895  0.5000000  0     1.0000000\n",
       "  1      0.21060526  0.5000000  0     1.0000000\n",
       "  1      0.26323158  0.5000000  0     1.0000000\n",
       "  1      0.31585789  0.5000000  0     1.0000000\n",
       "  1      0.36848421  0.5000000  0     1.0000000\n",
       "  1      0.42111053  0.5000000  0     1.0000000\n",
       "  1      0.47373684  0.5000000  0     1.0000000\n",
       "  1      0.52636316  0.5000000  0     1.0000000\n",
       "  1      0.57898947  0.5000000  0     1.0000000\n",
       "  1      0.63161579  0.5000000  0     1.0000000\n",
       "  1      0.68424211  0.5000000  0     1.0000000\n",
       "  1      0.73686842  0.5000000  0     1.0000000\n",
       "  1      0.78949474  0.5000000  0     1.0000000\n",
       "  1      0.84212105  0.5000000  0     1.0000000\n",
       "  1      0.89474737  0.5000000  0     1.0000000\n",
       "  1      0.94737368  0.5000000  0     1.0000000\n",
       "  1      1.00000000  0.5000000  0     1.0000000\n",
       "\n",
       "ROC was used to select the optimal model using the largest value.\n",
       "The final values used for the model were alpha = 1 and lambda = 0.05272632."
      ]
     },
     "metadata": {},
     "output_type": "display_data"
    }
   ],
   "source": [
    "# Print model to console\n",
    "model"
   ]
  },
  {
   "cell_type": "code",
   "execution_count": 18,
   "metadata": {},
   "outputs": [
    {
     "data": {
      "image/png": "[encoded data removed]",
      "text/plain": [
       "plot without title"
      ]
     },
     "metadata": {},
     "output_type": "display_data"
    }
   ],
   "source": [
    "plot(model)"
   ]
  },
  {
   "cell_type": "code",
   "execution_count": 19,
   "metadata": {},
   "outputs": [
    {
     "data": {
      "text/html": [
       "0.532971014492754"
      ],
      "text/latex": [
       "0.532971014492754"
      ],
      "text/markdown": [
       "0.532971014492754"
      ],
      "text/plain": [
       "[1] 0.532971"
      ]
     },
     "metadata": {},
     "output_type": "display_data"
    }
   ],
   "source": [
    "# Print maximum ROC statistic\n",
    "max(model[[\"results\"]][[\"ROC\"]])"
   ]
  }
 ],
 "metadata": {
  "kernelspec": {
   "display_name": "R",
   "language": "R",
   "name": "ir"
  },
  "language_info": {
   "codemirror_mode": "r",
   "file_extension": ".r",
   "mimetype": "text/x-r-source",
   "name": "R",
   "pygments_lexer": "r",
   "version": "3.5.1"
  }
 },
 "nbformat": 4,
 "nbformat_minor": 2
}
