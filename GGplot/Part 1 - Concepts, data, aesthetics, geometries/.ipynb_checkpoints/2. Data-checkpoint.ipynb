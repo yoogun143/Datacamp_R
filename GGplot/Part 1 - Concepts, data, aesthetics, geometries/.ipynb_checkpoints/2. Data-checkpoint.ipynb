{
 "cells": [
  {
   "cell_type": "markdown",
   "metadata": {
    "toc": true
   },
   "source": [
    "<h1>Table of Contents<span class=\"tocSkip\"></span></h1>\n",
    "<div class=\"toc\"><ul class=\"toc-item\"><li><span><a href=\"#BASE-PACKAGE-AND-GGPLOT2\" data-toc-modified-id=\"BASE-PACKAGE-AND-GGPLOT2-1\"><span class=\"toc-item-num\">1&nbsp;&nbsp;</span>BASE PACKAGE AND GGPLOT2</a></span><ul class=\"toc-item\"><li><span><a href=\"#BASE-PACKAGE\" data-toc-modified-id=\"BASE-PACKAGE-1.1\"><span class=\"toc-item-num\">1.1&nbsp;&nbsp;</span>BASE PACKAGE</a></span></li><li><span><a href=\"#RECREATE-THE-PLOT-IN-GGPLOT2\" data-toc-modified-id=\"RECREATE-THE-PLOT-IN-GGPLOT2-1.2\"><span class=\"toc-item-num\">1.2&nbsp;&nbsp;</span>RECREATE THE PLOT IN GGPLOT2</a></span></li></ul></li><li><span><a href=\"#PROPER-DATA-FORMAT\" data-toc-modified-id=\"PROPER-DATA-FORMAT-2\"><span class=\"toc-item-num\">2&nbsp;&nbsp;</span>PROPER DATA FORMAT</a></span><ul class=\"toc-item\"><li><span><a href=\"#CASE-1\" data-toc-modified-id=\"CASE-1-2.1\"><span class=\"toc-item-num\">2.1&nbsp;&nbsp;</span>CASE 1</a></span></li><li><span><a href=\"#CASE-2\" data-toc-modified-id=\"CASE-2-2.2\"><span class=\"toc-item-num\">2.2&nbsp;&nbsp;</span>CASE 2</a></span></li></ul></li></ul></div>"
   ]
  },
  {
   "cell_type": "code",
   "execution_count": 1,
   "metadata": {},
   "outputs": [],
   "source": [
    "library(ggplot2)"
   ]
  },
  {
   "cell_type": "markdown",
   "metadata": {},
   "source": [
    "# BASE PACKAGE AND GGPLOT2"
   ]
  },
  {
   "cell_type": "markdown",
   "metadata": {},
   "source": [
    "## BASE PACKAGE"
   ]
  },
  {
   "cell_type": "code",
   "execution_count": 3,
   "metadata": {},
   "outputs": [
    {
     "data": {
      "image/png": "[encoded data removed]",
      "text/plain": [
       "plot without title"
      ]
     },
     "metadata": {},
     "output_type": "display_data"
    }
   ],
   "source": [
    "# Use lm() to calculate a linear model and save it as carModel\n",
    "carModel <- lm(mpg ~ wt, data = mtcars)\n",
    "\n",
    "# Basic plot\n",
    "mtcars$cyl <- as.factor(mtcars$cyl)\n",
    "plot(mtcars$wt, mtcars$mpg, col = mtcars$cyl)\n",
    "\n",
    "# Call abline() with carModel as first argument and set lty to 2\n",
    "abline(carModel, lty = 2)"
   ]
  },
  {
   "cell_type": "code",
   "execution_count": 5,
   "metadata": {},
   "outputs": [
    {
     "data": {
      "text/html": [
       "<ol>\n",
       "\t<li>NULL</li>\n",
       "\t<li>NULL</li>\n",
       "\t<li>NULL</li>\n",
       "\t<li>NULL</li>\n",
       "\t<li>NULL</li>\n",
       "\t<li>NULL</li>\n",
       "\t<li>NULL</li>\n",
       "\t<li>NULL</li>\n",
       "\t<li>NULL</li>\n",
       "\t<li>NULL</li>\n",
       "\t<li>NULL</li>\n",
       "\t<li>NULL</li>\n",
       "\t<li>NULL</li>\n",
       "\t<li>NULL</li>\n",
       "\t<li>NULL</li>\n",
       "\t<li>NULL</li>\n",
       "\t<li>NULL</li>\n",
       "\t<li>NULL</li>\n",
       "\t<li>NULL</li>\n",
       "\t<li>NULL</li>\n",
       "\t<li>NULL</li>\n",
       "\t<li>NULL</li>\n",
       "\t<li>NULL</li>\n",
       "\t<li>NULL</li>\n",
       "\t<li>NULL</li>\n",
       "\t<li>NULL</li>\n",
       "\t<li>NULL</li>\n",
       "\t<li>NULL</li>\n",
       "\t<li>NULL</li>\n",
       "\t<li>NULL</li>\n",
       "\t<li>NULL</li>\n",
       "\t<li>NULL</li>\n",
       "</ol>\n"
      ],
      "text/latex": [
       "\\begin{enumerate}\n",
       "\\item NULL\n",
       "\\item NULL\n",
       "\\item NULL\n",
       "\\item NULL\n",
       "\\item NULL\n",
       "\\item NULL\n",
       "\\item NULL\n",
       "\\item NULL\n",
       "\\item NULL\n",
       "\\item NULL\n",
       "\\item NULL\n",
       "\\item NULL\n",
       "\\item NULL\n",
       "\\item NULL\n",
       "\\item NULL\n",
       "\\item NULL\n",
       "\\item NULL\n",
       "\\item NULL\n",
       "\\item NULL\n",
       "\\item NULL\n",
       "\\item NULL\n",
       "\\item NULL\n",
       "\\item NULL\n",
       "\\item NULL\n",
       "\\item NULL\n",
       "\\item NULL\n",
       "\\item NULL\n",
       "\\item NULL\n",
       "\\item NULL\n",
       "\\item NULL\n",
       "\\item NULL\n",
       "\\item NULL\n",
       "\\end{enumerate}\n"
      ],
      "text/markdown": [
       "1. NULL\n",
       "2. NULL\n",
       "3. NULL\n",
       "4. NULL\n",
       "5. NULL\n",
       "6. NULL\n",
       "7. NULL\n",
       "8. NULL\n",
       "9. NULL\n",
       "10. NULL\n",
       "11. NULL\n",
       "12. NULL\n",
       "13. NULL\n",
       "14. NULL\n",
       "15. NULL\n",
       "16. NULL\n",
       "17. NULL\n",
       "18. NULL\n",
       "19. NULL\n",
       "20. NULL\n",
       "21. NULL\n",
       "22. NULL\n",
       "23. NULL\n",
       "24. NULL\n",
       "25. NULL\n",
       "26. NULL\n",
       "27. NULL\n",
       "28. NULL\n",
       "29. NULL\n",
       "30. NULL\n",
       "31. NULL\n",
       "32. NULL\n",
       "\n",
       "\n"
      ],
      "text/plain": [
       "[[1]]\n",
       "NULL\n",
       "\n",
       "[[2]]\n",
       "NULL\n",
       "\n",
       "[[3]]\n",
       "NULL\n",
       "\n",
       "[[4]]\n",
       "NULL\n",
       "\n",
       "[[5]]\n",
       "NULL\n",
       "\n",
       "[[6]]\n",
       "NULL\n",
       "\n",
       "[[7]]\n",
       "NULL\n",
       "\n",
       "[[8]]\n",
       "NULL\n",
       "\n",
       "[[9]]\n",
       "NULL\n",
       "\n",
       "[[10]]\n",
       "NULL\n",
       "\n",
       "[[11]]\n",
       "NULL\n",
       "\n",
       "[[12]]\n",
       "NULL\n",
       "\n",
       "[[13]]\n",
       "NULL\n",
       "\n",
       "[[14]]\n",
       "NULL\n",
       "\n",
       "[[15]]\n",
       "NULL\n",
       "\n",
       "[[16]]\n",
       "NULL\n",
       "\n",
       "[[17]]\n",
       "NULL\n",
       "\n",
       "[[18]]\n",
       "NULL\n",
       "\n",
       "[[19]]\n",
       "NULL\n",
       "\n",
       "[[20]]\n",
       "NULL\n",
       "\n",
       "[[21]]\n",
       "NULL\n",
       "\n",
       "[[22]]\n",
       "NULL\n",
       "\n",
       "[[23]]\n",
       "NULL\n",
       "\n",
       "[[24]]\n",
       "NULL\n",
       "\n",
       "[[25]]\n",
       "NULL\n",
       "\n",
       "[[26]]\n",
       "NULL\n",
       "\n",
       "[[27]]\n",
       "NULL\n",
       "\n",
       "[[28]]\n",
       "NULL\n",
       "\n",
       "[[29]]\n",
       "NULL\n",
       "\n",
       "[[30]]\n",
       "NULL\n",
       "\n",
       "[[31]]\n",
       "NULL\n",
       "\n",
       "[[32]]\n",
       "NULL\n"
      ]
     },
     "metadata": {},
     "output_type": "display_data"
    },
    {
     "data": {
      "image/png": "[encoded data removed]",
      "text/plain": [
       "plot without title"
      ]
     },
     "metadata": {},
     "output_type": "display_data"
    }
   ],
   "source": [
    "# Plot each subset efficiently with lapply\n",
    "plot(mtcars$wt, mtcars$mpg, col = mtcars$cyl)\n",
    "\n",
    "lapply(mtcars$cyl, function(x) {\n",
    "  abline(lm(mpg ~ wt, mtcars, subset = (cyl == x)), col = x)\n",
    "})\n",
    "\n",
    "# Draw the legend of the plot\n",
    "legend(x = 5, y = 33, legend = levels(mtcars$cyl),\n",
    "       col = 1:3, pch = 1, bty = \"n\")"
   ]
  },
  {
   "cell_type": "markdown",
   "metadata": {},
   "source": [
    "## RECREATE THE PLOT IN GGPLOT2"
   ]
  },
  {
   "cell_type": "code",
   "execution_count": 6,
   "metadata": {},
   "outputs": [],
   "source": [
    "# Convert cyl to factor\n",
    "mtcars$cyl <- as.factor(mtcars$cyl)"
   ]
  },
  {
   "cell_type": "code",
   "execution_count": 7,
   "metadata": {},
   "outputs": [
    {
     "data": {
      "image/png": "[encoded data removed]",
      "text/plain": [
       "plot without title"
      ]
     },
     "metadata": {},
     "output_type": "display_data"
    }
   ],
   "source": [
    "# Plot 1: add geom_point() to this command to create a scatter plot\n",
    "ggplot(mtcars, aes(x = wt, y = mpg, col = cyl)) +\n",
    "  geom_point()"
   ]
  },
  {
   "cell_type": "code",
   "execution_count": 8,
   "metadata": {},
   "outputs": [
    {
     "data": {
      "image/png": "[encoded data removed]",
      "text/plain": [
       "plot without title"
      ]
     },
     "metadata": {},
     "output_type": "display_data"
    }
   ],
   "source": [
    "# Plot 2: include the lines of the linear models, per cyl\n",
    "ggplot(mtcars, aes(x = wt, y = mpg, col = cyl)) +\n",
    "  geom_point() +\n",
    "  geom_smooth(method = \"lm\", se = FALSE)"
   ]
  },
  {
   "cell_type": "code",
   "execution_count": 9,
   "metadata": {},
   "outputs": [
    {
     "data": {
      "image/png": "[encoded data removed]",
      "text/plain": [
       "plot without title"
      ]
     },
     "metadata": {},
     "output_type": "display_data"
    }
   ],
   "source": [
    "# Plot 3: include a lm for the entire dataset in its whole\n",
    "ggplot(mtcars, aes(x = wt, y = mpg, col = cyl)) +\n",
    "  geom_point() +\n",
    "  geom_smooth(method = \"lm\", se = FALSE) +\n",
    "  geom_smooth(aes(group = 1), method = \"lm\", se = FALSE, linetype = 2)"
   ]
  },
  {
   "cell_type": "markdown",
   "metadata": {},
   "source": [
    "# PROPER DATA FORMAT"
   ]
  },
  {
   "cell_type": "markdown",
   "metadata": {},
   "source": [
    "## CASE 1"
   ]
  },
  {
   "cell_type": "code",
   "execution_count": 11,
   "metadata": {},
   "outputs": [
    {
     "data": {
      "text/html": [
       "<table>\n",
       "<thead><tr><th scope=col>Sepal.Length</th><th scope=col>Sepal.Width</th><th scope=col>Petal.Length</th><th scope=col>Petal.Width</th><th scope=col>Species</th></tr></thead>\n",
       "<tbody>\n",
       "\t<tr><td>5.1   </td><td>3.5   </td><td>1.4   </td><td>0.2   </td><td>setosa</td></tr>\n",
       "\t<tr><td>4.9   </td><td>3.0   </td><td>1.4   </td><td>0.2   </td><td>setosa</td></tr>\n",
       "\t<tr><td>4.7   </td><td>3.2   </td><td>1.3   </td><td>0.2   </td><td>setosa</td></tr>\n",
       "\t<tr><td>4.6   </td><td>3.1   </td><td>1.5   </td><td>0.2   </td><td>setosa</td></tr>\n",
       "\t<tr><td>5.0   </td><td>3.6   </td><td>1.4   </td><td>0.2   </td><td>setosa</td></tr>\n",
       "\t<tr><td>5.4   </td><td>3.9   </td><td>1.7   </td><td>0.4   </td><td>setosa</td></tr>\n",
       "</tbody>\n",
       "</table>\n"
      ],
      "text/latex": [
       "\\begin{tabular}{r|lllll}\n",
       " Sepal.Length & Sepal.Width & Petal.Length & Petal.Width & Species\\\\\n",
       "\\hline\n",
       "\t 5.1    & 3.5    & 1.4    & 0.2    & setosa\\\\\n",
       "\t 4.9    & 3.0    & 1.4    & 0.2    & setosa\\\\\n",
       "\t 4.7    & 3.2    & 1.3    & 0.2    & setosa\\\\\n",
       "\t 4.6    & 3.1    & 1.5    & 0.2    & setosa\\\\\n",
       "\t 5.0    & 3.6    & 1.4    & 0.2    & setosa\\\\\n",
       "\t 5.4    & 3.9    & 1.7    & 0.4    & setosa\\\\\n",
       "\\end{tabular}\n"
      ],
      "text/markdown": [
       "\n",
       "| Sepal.Length | Sepal.Width | Petal.Length | Petal.Width | Species |\n",
       "|---|---|---|---|---|\n",
       "| 5.1    | 3.5    | 1.4    | 0.2    | setosa |\n",
       "| 4.9    | 3.0    | 1.4    | 0.2    | setosa |\n",
       "| 4.7    | 3.2    | 1.3    | 0.2    | setosa |\n",
       "| 4.6    | 3.1    | 1.5    | 0.2    | setosa |\n",
       "| 5.0    | 3.6    | 1.4    | 0.2    | setosa |\n",
       "| 5.4    | 3.9    | 1.7    | 0.4    | setosa |\n",
       "\n"
      ],
      "text/plain": [
       "  Sepal.Length Sepal.Width Petal.Length Petal.Width Species\n",
       "1 5.1          3.5         1.4          0.2         setosa \n",
       "2 4.9          3.0         1.4          0.2         setosa \n",
       "3 4.7          3.2         1.3          0.2         setosa \n",
       "4 4.6          3.1         1.5          0.2         setosa \n",
       "5 5.0          3.6         1.4          0.2         setosa \n",
       "6 5.4          3.9         1.7          0.4         setosa "
      ]
     },
     "metadata": {},
     "output_type": "display_data"
    }
   ],
   "source": [
    "head(iris)"
   ]
  },
  {
   "cell_type": "code",
   "execution_count": 10,
   "metadata": {},
   "outputs": [],
   "source": [
    "# Load the tidyr package\n",
    "library(tidyr)\n",
    "\n",
    "# iris.tidy dataset\n",
    "iris.tidy <- iris %>%\n",
    "  gather(key, Value, -Species) %>%\n",
    "  separate(key, c(\"Part\", \"Measure\"), \"\\\\.\")"
   ]
  },
  {
   "cell_type": "code",
   "execution_count": 12,
   "metadata": {},
   "outputs": [
    {
     "data": {
      "text/html": [
       "<table>\n",
       "<thead><tr><th scope=col>Species</th><th scope=col>Part</th><th scope=col>Measure</th><th scope=col>Value</th></tr></thead>\n",
       "<tbody>\n",
       "\t<tr><td>setosa</td><td>Sepal </td><td>Length</td><td>5.1   </td></tr>\n",
       "\t<tr><td>setosa</td><td>Sepal </td><td>Length</td><td>4.9   </td></tr>\n",
       "\t<tr><td>setosa</td><td>Sepal </td><td>Length</td><td>4.7   </td></tr>\n",
       "\t<tr><td>setosa</td><td>Sepal </td><td>Length</td><td>4.6   </td></tr>\n",
       "\t<tr><td>setosa</td><td>Sepal </td><td>Length</td><td>5.0   </td></tr>\n",
       "\t<tr><td>setosa</td><td>Sepal </td><td>Length</td><td>5.4   </td></tr>\n",
       "</tbody>\n",
       "</table>\n"
      ],
      "text/latex": [
       "\\begin{tabular}{r|llll}\n",
       " Species & Part & Measure & Value\\\\\n",
       "\\hline\n",
       "\t setosa & Sepal  & Length & 5.1   \\\\\n",
       "\t setosa & Sepal  & Length & 4.9   \\\\\n",
       "\t setosa & Sepal  & Length & 4.7   \\\\\n",
       "\t setosa & Sepal  & Length & 4.6   \\\\\n",
       "\t setosa & Sepal  & Length & 5.0   \\\\\n",
       "\t setosa & Sepal  & Length & 5.4   \\\\\n",
       "\\end{tabular}\n"
      ],
      "text/markdown": [
       "\n",
       "| Species | Part | Measure | Value |\n",
       "|---|---|---|---|\n",
       "| setosa | Sepal  | Length | 5.1    |\n",
       "| setosa | Sepal  | Length | 4.9    |\n",
       "| setosa | Sepal  | Length | 4.7    |\n",
       "| setosa | Sepal  | Length | 4.6    |\n",
       "| setosa | Sepal  | Length | 5.0    |\n",
       "| setosa | Sepal  | Length | 5.4    |\n",
       "\n"
      ],
      "text/plain": [
       "  Species Part  Measure Value\n",
       "1 setosa  Sepal Length  5.1  \n",
       "2 setosa  Sepal Length  4.9  \n",
       "3 setosa  Sepal Length  4.7  \n",
       "4 setosa  Sepal Length  4.6  \n",
       "5 setosa  Sepal Length  5.0  \n",
       "6 setosa  Sepal Length  5.4  "
      ]
     },
     "metadata": {},
     "output_type": "display_data"
    }
   ],
   "source": [
    "head(iris.tidy)"
   ]
  },
  {
   "cell_type": "code",
   "execution_count": 13,
   "metadata": {},
   "outputs": [
    {
     "data": {
      "image/png": "[encoded data removed]",
      "text/plain": [
       "plot without title"
      ]
     },
     "metadata": {},
     "output_type": "display_data"
    }
   ],
   "source": [
    "# Plot 1\n",
    "ggplot(iris.tidy, aes(x = Species, y = Value, col = Part)) +\n",
    "  geom_jitter() +\n",
    "  facet_grid(. ~ Measure)"
   ]
  },
  {
   "cell_type": "markdown",
   "metadata": {},
   "source": [
    "## CASE 2"
   ]
  },
  {
   "cell_type": "code",
   "execution_count": 14,
   "metadata": {},
   "outputs": [
    {
     "data": {
      "text/html": [
       "<table>\n",
       "<thead><tr><th scope=col>Sepal.Length</th><th scope=col>Sepal.Width</th><th scope=col>Petal.Length</th><th scope=col>Petal.Width</th><th scope=col>Species</th><th scope=col>Flower</th></tr></thead>\n",
       "<tbody>\n",
       "\t<tr><td>5.1   </td><td>3.5   </td><td>1.4   </td><td>0.2   </td><td>setosa</td><td>1     </td></tr>\n",
       "\t<tr><td>4.9   </td><td>3.0   </td><td>1.4   </td><td>0.2   </td><td>setosa</td><td>2     </td></tr>\n",
       "\t<tr><td>4.7   </td><td>3.2   </td><td>1.3   </td><td>0.2   </td><td>setosa</td><td>3     </td></tr>\n",
       "\t<tr><td>4.6   </td><td>3.1   </td><td>1.5   </td><td>0.2   </td><td>setosa</td><td>4     </td></tr>\n",
       "\t<tr><td>5.0   </td><td>3.6   </td><td>1.4   </td><td>0.2   </td><td>setosa</td><td>5     </td></tr>\n",
       "\t<tr><td>5.4   </td><td>3.9   </td><td>1.7   </td><td>0.4   </td><td>setosa</td><td>6     </td></tr>\n",
       "</tbody>\n",
       "</table>\n"
      ],
      "text/latex": [
       "\\begin{tabular}{r|llllll}\n",
       " Sepal.Length & Sepal.Width & Petal.Length & Petal.Width & Species & Flower\\\\\n",
       "\\hline\n",
       "\t 5.1    & 3.5    & 1.4    & 0.2    & setosa & 1     \\\\\n",
       "\t 4.9    & 3.0    & 1.4    & 0.2    & setosa & 2     \\\\\n",
       "\t 4.7    & 3.2    & 1.3    & 0.2    & setosa & 3     \\\\\n",
       "\t 4.6    & 3.1    & 1.5    & 0.2    & setosa & 4     \\\\\n",
       "\t 5.0    & 3.6    & 1.4    & 0.2    & setosa & 5     \\\\\n",
       "\t 5.4    & 3.9    & 1.7    & 0.4    & setosa & 6     \\\\\n",
       "\\end{tabular}\n"
      ],
      "text/markdown": [
       "\n",
       "| Sepal.Length | Sepal.Width | Petal.Length | Petal.Width | Species | Flower |\n",
       "|---|---|---|---|---|---|\n",
       "| 5.1    | 3.5    | 1.4    | 0.2    | setosa | 1      |\n",
       "| 4.9    | 3.0    | 1.4    | 0.2    | setosa | 2      |\n",
       "| 4.7    | 3.2    | 1.3    | 0.2    | setosa | 3      |\n",
       "| 4.6    | 3.1    | 1.5    | 0.2    | setosa | 4      |\n",
       "| 5.0    | 3.6    | 1.4    | 0.2    | setosa | 5      |\n",
       "| 5.4    | 3.9    | 1.7    | 0.4    | setosa | 6      |\n",
       "\n"
      ],
      "text/plain": [
       "  Sepal.Length Sepal.Width Petal.Length Petal.Width Species Flower\n",
       "1 5.1          3.5         1.4          0.2         setosa  1     \n",
       "2 4.9          3.0         1.4          0.2         setosa  2     \n",
       "3 4.7          3.2         1.3          0.2         setosa  3     \n",
       "4 4.6          3.1         1.5          0.2         setosa  4     \n",
       "5 5.0          3.6         1.4          0.2         setosa  5     \n",
       "6 5.4          3.9         1.7          0.4         setosa  6     "
      ]
     },
     "metadata": {},
     "output_type": "display_data"
    }
   ],
   "source": [
    "# Add column with unique ids to keep track\n",
    "iris$Flower <- 1:nrow(iris)\n",
    "\n",
    "head(iris)"
   ]
  },
  {
   "cell_type": "code",
   "execution_count": 16,
   "metadata": {},
   "outputs": [
    {
     "data": {
      "text/html": [
       "<table>\n",
       "<thead><tr><th scope=col>Species</th><th scope=col>Flower</th><th scope=col>Part</th><th scope=col>Length</th><th scope=col>Width</th></tr></thead>\n",
       "<tbody>\n",
       "\t<tr><td>setosa</td><td>1     </td><td>Petal </td><td>1.4   </td><td>0.2   </td></tr>\n",
       "\t<tr><td>setosa</td><td>1     </td><td>Sepal </td><td>5.1   </td><td>3.5   </td></tr>\n",
       "\t<tr><td>setosa</td><td>2     </td><td>Petal </td><td>1.4   </td><td>0.2   </td></tr>\n",
       "\t<tr><td>setosa</td><td>2     </td><td>Sepal </td><td>4.9   </td><td>3.0   </td></tr>\n",
       "\t<tr><td>setosa</td><td>3     </td><td>Petal </td><td>1.3   </td><td>0.2   </td></tr>\n",
       "\t<tr><td>setosa</td><td>3     </td><td>Sepal </td><td>4.7   </td><td>3.2   </td></tr>\n",
       "</tbody>\n",
       "</table>\n"
      ],
      "text/latex": [
       "\\begin{tabular}{r|lllll}\n",
       " Species & Flower & Part & Length & Width\\\\\n",
       "\\hline\n",
       "\t setosa & 1      & Petal  & 1.4    & 0.2   \\\\\n",
       "\t setosa & 1      & Sepal  & 5.1    & 3.5   \\\\\n",
       "\t setosa & 2      & Petal  & 1.4    & 0.2   \\\\\n",
       "\t setosa & 2      & Sepal  & 4.9    & 3.0   \\\\\n",
       "\t setosa & 3      & Petal  & 1.3    & 0.2   \\\\\n",
       "\t setosa & 3      & Sepal  & 4.7    & 3.2   \\\\\n",
       "\\end{tabular}\n"
      ],
      "text/markdown": [
       "\n",
       "| Species | Flower | Part | Length | Width |\n",
       "|---|---|---|---|---|\n",
       "| setosa | 1      | Petal  | 1.4    | 0.2    |\n",
       "| setosa | 1      | Sepal  | 5.1    | 3.5    |\n",
       "| setosa | 2      | Petal  | 1.4    | 0.2    |\n",
       "| setosa | 2      | Sepal  | 4.9    | 3.0    |\n",
       "| setosa | 3      | Petal  | 1.3    | 0.2    |\n",
       "| setosa | 3      | Sepal  | 4.7    | 3.2    |\n",
       "\n"
      ],
      "text/plain": [
       "  Species Flower Part  Length Width\n",
       "1 setosa  1      Petal 1.4    0.2  \n",
       "2 setosa  1      Sepal 5.1    3.5  \n",
       "3 setosa  2      Petal 1.4    0.2  \n",
       "4 setosa  2      Sepal 4.9    3.0  \n",
       "5 setosa  3      Petal 1.3    0.2  \n",
       "6 setosa  3      Sepal 4.7    3.2  "
      ]
     },
     "metadata": {},
     "output_type": "display_data"
    }
   ],
   "source": [
    "# iris.wide dataset\n",
    "iris.wide <- iris %>%\n",
    "  gather(key, value, -Species, -Flower) %>%\n",
    "  separate(key, c(\"Part\", \"Measure\"), \"\\\\.\") %>%\n",
    "  spread(Measure, value)\n",
    "\n",
    "head(iris.wide)"
   ]
  },
  {
   "cell_type": "code",
   "execution_count": 17,
   "metadata": {},
   "outputs": [
    {
     "data": {
      "image/png": "[encoded data removed]",
      "text/plain": [
       "plot without title"
      ]
     },
     "metadata": {},
     "output_type": "display_data"
    }
   ],
   "source": [
    "# Plot 2\n",
    "ggplot(iris.wide, aes(x = Length, y = Width, color = Part)) +\n",
    "  geom_jitter() +\n",
    "  facet_grid(. ~ Species)"
   ]
  }
 ],
 "metadata": {
  "kernelspec": {
   "display_name": "R",
   "language": "R",
   "name": "ir"
  },
  "language_info": {
   "codemirror_mode": "r",
   "file_extension": ".r",
   "mimetype": "text/x-r-source",
   "name": "R",
   "pygments_lexer": "r",
   "version": "3.5.1"
  },
  "toc": {
   "base_numbering": 1,
   "nav_menu": {},
   "number_sections": true,
   "sideBar": true,
   "skip_h1_title": false,
   "title_cell": "Table of Contents",
   "title_sidebar": "Contents",
   "toc_cell": true,
   "toc_position": {},
   "toc_section_display": true,
   "toc_window_display": false
  }
 },
 "nbformat": 4,
 "nbformat_minor": 2
}
