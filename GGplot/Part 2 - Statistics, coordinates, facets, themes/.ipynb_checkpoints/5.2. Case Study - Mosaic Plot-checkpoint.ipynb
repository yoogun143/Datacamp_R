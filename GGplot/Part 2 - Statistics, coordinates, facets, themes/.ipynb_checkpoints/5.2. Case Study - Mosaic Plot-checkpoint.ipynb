{
 "cells": [
  {
   "cell_type": "markdown",
   "metadata": {
    "toc": true
   },
   "source": [
    "<h1>Table of Contents<span class=\"tocSkip\"></span></h1>\n",
    "<div class=\"toc\"><ul class=\"toc-item\"><li><span><a href=\"#MARIMEKKO/MOSAIC-PLOT\" data-toc-modified-id=\"MARIMEKKO/MOSAIC-PLOT-1\"><span class=\"toc-item-num\">1&nbsp;&nbsp;</span>MARIMEKKO/MOSAIC PLOT</a></span></li><li><span><a href=\"#ADD-STATISTIC\" data-toc-modified-id=\"ADD-STATISTIC-2\"><span class=\"toc-item-num\">2&nbsp;&nbsp;</span>ADD STATISTIC</a></span></li><li><span><a href=\"#ADD-TEXT\" data-toc-modified-id=\"ADD-TEXT-3\"><span class=\"toc-item-num\">3&nbsp;&nbsp;</span>ADD TEXT</a></span></li><li><span><a href=\"#MAKE-ABOVE-STEP-TO-FUNCTION\" data-toc-modified-id=\"MAKE-ABOVE-STEP-TO-FUNCTION-4\"><span class=\"toc-item-num\">4&nbsp;&nbsp;</span>MAKE ABOVE STEP TO FUNCTION</a></span></li></ul></div>"
   ]
  },
  {
   "cell_type": "code",
   "execution_count": 1,
   "metadata": {},
   "outputs": [],
   "source": [
    "adult <- dget('adult.txt')\n",
    "library(ggplot2)"
   ]
  },
  {
   "cell_type": "markdown",
   "metadata": {},
   "source": [
    "## MARIMEKKO/MOSAIC PLOT\n",
    "have the widths of the bars to show us something about the n in each group"
   ]
  },
  {
   "cell_type": "code",
   "execution_count": 2,
   "metadata": {},
   "outputs": [
    {
     "data": {
      "text/html": [
       "<table>\n",
       "<thead><tr><th></th><th scope=col>1</th><th scope=col>2</th><th scope=col>3</th><th scope=col>4</th></tr></thead>\n",
       "<tbody>\n",
       "\t<tr><th scope=row>18</th><td>31 </td><td>254</td><td>80 </td><td>52 </td></tr>\n",
       "\t<tr><th scope=row>19</th><td>22 </td><td>248</td><td>76 </td><td>45 </td></tr>\n",
       "\t<tr><th scope=row>20</th><td>14 </td><td>191</td><td>68 </td><td>43 </td></tr>\n",
       "\t<tr><th scope=row>21</th><td>16 </td><td>168</td><td>70 </td><td>46 </td></tr>\n",
       "\t<tr><th scope=row>22</th><td>14 </td><td>145</td><td>56 </td><td>44 </td></tr>\n",
       "\t<tr><th scope=row>23</th><td>15 </td><td>142</td><td>59 </td><td>61 </td></tr>\n",
       "</tbody>\n",
       "</table>\n"
      ],
      "text/latex": [
       "\\begin{tabular}{r|llll}\n",
       "  & 1 & 2 & 3 & 4\\\\\n",
       "\\hline\n",
       "\t18 & 31  & 254 & 80  & 52 \\\\\n",
       "\t19 & 22  & 248 & 76  & 45 \\\\\n",
       "\t20 & 14  & 191 & 68  & 43 \\\\\n",
       "\t21 & 16  & 168 & 70  & 46 \\\\\n",
       "\t22 & 14  & 145 & 56  & 44 \\\\\n",
       "\t23 & 15  & 142 & 59  & 61 \\\\\n",
       "\\end{tabular}\n"
      ],
      "text/markdown": [
       "\n",
       "| <!--/--> | 1 | 2 | 3 | 4 |\n",
       "|---|---|---|---|---|\n",
       "| 18 | 31  | 254 | 80  | 52  |\n",
       "| 19 | 22  | 248 | 76  | 45  |\n",
       "| 20 | 14  | 191 | 68  | 43  |\n",
       "| 21 | 16  | 168 | 70  | 46  |\n",
       "| 22 | 14  | 145 | 56  | 44  |\n",
       "| 23 | 15  | 142 | 59  | 61  |\n",
       "\n"
      ],
      "text/plain": [
       "   1  2   3  4 \n",
       "18 31 254 80 52\n",
       "19 22 248 76 45\n",
       "20 14 191 68 43\n",
       "21 16 168 70 46\n",
       "22 14 145 56 44\n",
       "23 15 142 59 61"
      ]
     },
     "metadata": {},
     "output_type": "display_data"
    }
   ],
   "source": [
    "# The initial contingency table\n",
    "DF <- as.data.frame.matrix(table(adult$SRAGE_P, adult$RBMI))\n",
    "\n",
    "head(DF)"
   ]
  },
  {
   "cell_type": "code",
   "execution_count": 3,
   "metadata": {},
   "outputs": [
    {
     "data": {
      "text/html": [
       "<table>\n",
       "<thead><tr><th></th><th scope=col>1</th><th scope=col>2</th><th scope=col>3</th><th scope=col>4</th><th scope=col>groupSum</th><th scope=col>xmax</th><th scope=col>xmin</th><th scope=col>X</th></tr></thead>\n",
       "<tbody>\n",
       "\t<tr><th scope=row>18</th><td>31  </td><td>254 </td><td>80  </td><td>52  </td><td>417 </td><td> 417</td><td>   0</td><td>18  </td></tr>\n",
       "\t<tr><th scope=row>19</th><td>22  </td><td>248 </td><td>76  </td><td>45  </td><td>391 </td><td> 808</td><td> 417</td><td>19  </td></tr>\n",
       "\t<tr><th scope=row>20</th><td>14  </td><td>191 </td><td>68  </td><td>43  </td><td>316 </td><td>1124</td><td> 808</td><td>20  </td></tr>\n",
       "\t<tr><th scope=row>21</th><td>16  </td><td>168 </td><td>70  </td><td>46  </td><td>300 </td><td>1424</td><td>1124</td><td>21  </td></tr>\n",
       "\t<tr><th scope=row>22</th><td>14  </td><td>145 </td><td>56  </td><td>44  </td><td>259 </td><td>1683</td><td>1424</td><td>22  </td></tr>\n",
       "\t<tr><th scope=row>23</th><td>15  </td><td>142 </td><td>59  </td><td>61  </td><td>277 </td><td>1960</td><td>1683</td><td>23  </td></tr>\n",
       "</tbody>\n",
       "</table>\n"
      ],
      "text/latex": [
       "\\begin{tabular}{r|llllllll}\n",
       "  & 1 & 2 & 3 & 4 & groupSum & xmax & xmin & X\\\\\n",
       "\\hline\n",
       "\t18 & 31   & 254  & 80   & 52   & 417  &  417 &    0 & 18  \\\\\n",
       "\t19 & 22   & 248  & 76   & 45   & 391  &  808 &  417 & 19  \\\\\n",
       "\t20 & 14   & 191  & 68   & 43   & 316  & 1124 &  808 & 20  \\\\\n",
       "\t21 & 16   & 168  & 70   & 46   & 300  & 1424 & 1124 & 21  \\\\\n",
       "\t22 & 14   & 145  & 56   & 44   & 259  & 1683 & 1424 & 22  \\\\\n",
       "\t23 & 15   & 142  & 59   & 61   & 277  & 1960 & 1683 & 23  \\\\\n",
       "\\end{tabular}\n"
      ],
      "text/markdown": [
       "\n",
       "| <!--/--> | 1 | 2 | 3 | 4 | groupSum | xmax | xmin | X |\n",
       "|---|---|---|---|---|---|---|---|---|\n",
       "| 18 | 31   | 254  | 80   | 52   | 417  |  417 |    0 | 18   |\n",
       "| 19 | 22   | 248  | 76   | 45   | 391  |  808 |  417 | 19   |\n",
       "| 20 | 14   | 191  | 68   | 43   | 316  | 1124 |  808 | 20   |\n",
       "| 21 | 16   | 168  | 70   | 46   | 300  | 1424 | 1124 | 21   |\n",
       "| 22 | 14   | 145  | 56   | 44   | 259  | 1683 | 1424 | 22   |\n",
       "| 23 | 15   | 142  | 59   | 61   | 277  | 1960 | 1683 | 23   |\n",
       "\n"
      ],
      "text/plain": [
       "   1  2   3  4  groupSum xmax xmin X \n",
       "18 31 254 80 52 417       417    0 18\n",
       "19 22 248 76 45 391       808  417 19\n",
       "20 14 191 68 43 316      1124  808 20\n",
       "21 16 168 70 46 300      1424 1124 21\n",
       "22 14 145 56 44 259      1683 1424 22\n",
       "23 15 142 59 61 277      1960 1683 23"
      ]
     },
     "metadata": {},
     "output_type": "display_data"
    }
   ],
   "source": [
    "# Create groupSum, xmax and xmin columns\n",
    "DF$groupSum <- rowSums(DF)\n",
    "DF$xmax <- cumsum(DF$groupSum)\n",
    "DF$xmin <- DF$xmax - DF$groupSum\n",
    "\n",
    "# Copy row names to variable X\n",
    "DF$X <- row.names(DF)\n",
    "\n",
    "head(DF)"
   ]
  },
  {
   "cell_type": "code",
   "execution_count": 5,
   "metadata": {},
   "outputs": [
    {
     "data": {
      "text/html": [
       "<table>\n",
       "<thead><tr><th></th><th scope=col>1</th><th scope=col>2</th><th scope=col>3</th><th scope=col>4</th><th scope=col>xmax</th><th scope=col>xmin</th><th scope=col>X</th></tr></thead>\n",
       "<tbody>\n",
       "\t<tr><th scope=row>18</th><td>31 </td><td>254</td><td>80 </td><td>52 </td><td>417</td><td>  0</td><td>18 </td></tr>\n",
       "\t<tr><th scope=row>19</th><td>22 </td><td>248</td><td>76 </td><td>45 </td><td>808</td><td>417</td><td>19 </td></tr>\n",
       "</tbody>\n",
       "</table>\n"
      ],
      "text/latex": [
       "\\begin{tabular}{r|lllllll}\n",
       "  & 1 & 2 & 3 & 4 & xmax & xmin & X\\\\\n",
       "\\hline\n",
       "\t18 & 31  & 254 & 80  & 52  & 417 &   0 & 18 \\\\\n",
       "\t19 & 22  & 248 & 76  & 45  & 808 & 417 & 19 \\\\\n",
       "\\end{tabular}\n"
      ],
      "text/markdown": [
       "\n",
       "| <!--/--> | 1 | 2 | 3 | 4 | xmax | xmin | X |\n",
       "|---|---|---|---|---|---|---|---|\n",
       "| 18 | 31  | 254 | 80  | 52  | 417 |   0 | 18  |\n",
       "| 19 | 22  | 248 | 76  | 45  | 808 | 417 | 19  |\n",
       "\n"
      ],
      "text/plain": [
       "   1  2   3  4  xmax xmin X \n",
       "18 31 254 80 52 417    0  18\n",
       "19 22 248 76 45 808  417  19"
      ]
     },
     "metadata": {},
     "output_type": "display_data"
    }
   ],
   "source": [
    "# The groupSum column needs to be removed\n",
    "DF$groupSum <- NULL\n",
    "\n",
    "head(DF, n = 2)"
   ]
  },
  {
   "cell_type": "code",
   "execution_count": 7,
   "metadata": {},
   "outputs": [
    {
     "data": {
      "text/html": [
       "<table>\n",
       "<thead><tr><th scope=col>X</th><th scope=col>xmin</th><th scope=col>xmax</th><th scope=col>FILL</th><th scope=col>value</th></tr></thead>\n",
       "<tbody>\n",
       "\t<tr><td>18  </td><td>   0</td><td> 417</td><td>1   </td><td>31  </td></tr>\n",
       "\t<tr><td>19  </td><td> 417</td><td> 808</td><td>1   </td><td>22  </td></tr>\n",
       "\t<tr><td>20  </td><td> 808</td><td>1124</td><td>1   </td><td>14  </td></tr>\n",
       "\t<tr><td>21  </td><td>1124</td><td>1424</td><td>1   </td><td>16  </td></tr>\n",
       "\t<tr><td>22  </td><td>1424</td><td>1683</td><td>1   </td><td>14  </td></tr>\n",
       "\t<tr><td>23  </td><td>1683</td><td>1960</td><td>1   </td><td>15  </td></tr>\n",
       "</tbody>\n",
       "</table>\n"
      ],
      "text/latex": [
       "\\begin{tabular}{r|lllll}\n",
       " X & xmin & xmax & FILL & value\\\\\n",
       "\\hline\n",
       "\t 18   &    0 &  417 & 1    & 31  \\\\\n",
       "\t 19   &  417 &  808 & 1    & 22  \\\\\n",
       "\t 20   &  808 & 1124 & 1    & 14  \\\\\n",
       "\t 21   & 1124 & 1424 & 1    & 16  \\\\\n",
       "\t 22   & 1424 & 1683 & 1    & 14  \\\\\n",
       "\t 23   & 1683 & 1960 & 1    & 15  \\\\\n",
       "\\end{tabular}\n"
      ],
      "text/markdown": [
       "\n",
       "| X | xmin | xmax | FILL | value |\n",
       "|---|---|---|---|---|\n",
       "| 18   |    0 |  417 | 1    | 31   |\n",
       "| 19   |  417 |  808 | 1    | 22   |\n",
       "| 20   |  808 | 1124 | 1    | 14   |\n",
       "| 21   | 1124 | 1424 | 1    | 16   |\n",
       "| 22   | 1424 | 1683 | 1    | 14   |\n",
       "| 23   | 1683 | 1960 | 1    | 15   |\n",
       "\n"
      ],
      "text/plain": [
       "  X  xmin xmax FILL value\n",
       "1 18    0  417 1    31   \n",
       "2 19  417  808 1    22   \n",
       "3 20  808 1124 1    14   \n",
       "4 21 1124 1424 1    16   \n",
       "5 22 1424 1683 1    14   \n",
       "6 23 1683 1960 1    15   "
      ]
     },
     "metadata": {},
     "output_type": "display_data"
    }
   ],
   "source": [
    "# Melt the dataset\n",
    "library(reshape2)\n",
    "DF_melted <- melt(DF, id.vars = c(\"X\", \"xmin\", \"xmax\"), variable.name = \"FILL\")\n",
    "\n",
    "head(DF_melted)"
   ]
  },
  {
   "cell_type": "code",
   "execution_count": 8,
   "metadata": {},
   "outputs": [
    {
     "name": "stderr",
     "output_type": "stream",
     "text": [
      "\n",
      "Attaching package: 'dplyr'\n",
      "\n",
      "The following objects are masked from 'package:stats':\n",
      "\n",
      "    filter, lag\n",
      "\n",
      "The following objects are masked from 'package:base':\n",
      "\n",
      "    intersect, setdiff, setequal, union\n",
      "\n"
     ]
    },
    {
     "data": {
      "text/html": [
       "<table>\n",
       "<thead><tr><th scope=col>X</th><th scope=col>xmin</th><th scope=col>xmax</th><th scope=col>FILL</th><th scope=col>value</th><th scope=col>ymax</th><th scope=col>ymin</th></tr></thead>\n",
       "<tbody>\n",
       "\t<tr><td>18        </td><td>   0      </td><td> 417      </td><td>1         </td><td>31        </td><td>0.07434053</td><td>0         </td></tr>\n",
       "\t<tr><td>19        </td><td> 417      </td><td> 808      </td><td>1         </td><td>22        </td><td>0.05626598</td><td>0         </td></tr>\n",
       "\t<tr><td>20        </td><td> 808      </td><td>1124      </td><td>1         </td><td>14        </td><td>0.04430380</td><td>0         </td></tr>\n",
       "\t<tr><td>21        </td><td>1124      </td><td>1424      </td><td>1         </td><td>16        </td><td>0.05333333</td><td>0         </td></tr>\n",
       "\t<tr><td>22        </td><td>1424      </td><td>1683      </td><td>1         </td><td>14        </td><td>0.05405405</td><td>0         </td></tr>\n",
       "\t<tr><td>23        </td><td>1683      </td><td>1960      </td><td>1         </td><td>15        </td><td>0.05415162</td><td>0         </td></tr>\n",
       "</tbody>\n",
       "</table>\n"
      ],
      "text/latex": [
       "\\begin{tabular}{r|lllllll}\n",
       " X & xmin & xmax & FILL & value & ymax & ymin\\\\\n",
       "\\hline\n",
       "\t 18         &    0       &  417       & 1          & 31         & 0.07434053 & 0         \\\\\n",
       "\t 19         &  417       &  808       & 1          & 22         & 0.05626598 & 0         \\\\\n",
       "\t 20         &  808       & 1124       & 1          & 14         & 0.04430380 & 0         \\\\\n",
       "\t 21         & 1124       & 1424       & 1          & 16         & 0.05333333 & 0         \\\\\n",
       "\t 22         & 1424       & 1683       & 1          & 14         & 0.05405405 & 0         \\\\\n",
       "\t 23         & 1683       & 1960       & 1          & 15         & 0.05415162 & 0         \\\\\n",
       "\\end{tabular}\n"
      ],
      "text/markdown": [
       "\n",
       "| X | xmin | xmax | FILL | value | ymax | ymin |\n",
       "|---|---|---|---|---|---|---|\n",
       "| 18         |    0       |  417       | 1          | 31         | 0.07434053 | 0          |\n",
       "| 19         |  417       |  808       | 1          | 22         | 0.05626598 | 0          |\n",
       "| 20         |  808       | 1124       | 1          | 14         | 0.04430380 | 0          |\n",
       "| 21         | 1124       | 1424       | 1          | 16         | 0.05333333 | 0          |\n",
       "| 22         | 1424       | 1683       | 1          | 14         | 0.05405405 | 0          |\n",
       "| 23         | 1683       | 1960       | 1          | 15         | 0.05415162 | 0          |\n",
       "\n"
      ],
      "text/plain": [
       "  X  xmin xmax FILL value ymax       ymin\n",
       "1 18    0  417 1    31    0.07434053 0   \n",
       "2 19  417  808 1    22    0.05626598 0   \n",
       "3 20  808 1124 1    14    0.04430380 0   \n",
       "4 21 1124 1424 1    16    0.05333333 0   \n",
       "5 22 1424 1683 1    14    0.05405405 0   \n",
       "6 23 1683 1960 1    15    0.05415162 0   "
      ]
     },
     "metadata": {},
     "output_type": "display_data"
    }
   ],
   "source": [
    "# dplyr call to calculate ymin and ymax\n",
    "library(dplyr)\n",
    "\n",
    "DF_melted <- DF_melted %>%\n",
    "  group_by(X) %>%\n",
    "  mutate(ymax = cumsum(value/sum(value)),\n",
    "         ymin = ymax - value/sum(value))\n",
    "\n",
    "head(DF_melted)"
   ]
  },
  {
   "cell_type": "code",
   "execution_count": 9,
   "metadata": {},
   "outputs": [],
   "source": [
    "# The color scale used in the plot\n",
    "BMI_fill <- scale_fill_brewer(\"BMI Category\", palette = \"Reds\")"
   ]
  },
  {
   "cell_type": "code",
   "execution_count": 10,
   "metadata": {},
   "outputs": [
    {
     "name": "stderr",
     "output_type": "stream",
     "text": [
      "Warning message:\n",
      "\"package 'ggthemes' was built under R version 3.5.2\""
     ]
    },
    {
     "data": {
      "image/png": "[encoded data removed]",
      "text/plain": [
       "plot without title"
      ]
     },
     "metadata": {},
     "output_type": "display_data"
    }
   ],
   "source": [
    "# Plot rectangles\n",
    "library(ggthemes)\n",
    "\n",
    "ggplot(DF_melted, aes(ymin = ymin,\n",
    "                      ymax = ymax,\n",
    "                      xmin = xmin,\n",
    "                      xmax = xmax,\n",
    "                      fill = FILL)) +\n",
    "  geom_rect(colour = \"white\") +\n",
    "  scale_x_continuous(expand = c(0,0)) +\n",
    "  scale_y_continuous(expand = c(0,0)) +\n",
    "  BMI_fill +\n",
    "  theme_tufte()"
   ]
  },
  {
   "cell_type": "markdown",
   "metadata": {},
   "source": [
    "## ADD STATISTIC"
   ]
  },
  {
   "cell_type": "code",
   "execution_count": 16,
   "metadata": {},
   "outputs": [
    {
     "data": {
      "text/plain": [
       "   \n",
       "              18           19           20           21           22\n",
       "  1  7.042810837  4.439684622  2.575175809  3.550620290  3.376325177\n",
       "  2  5.836048279  6.415898615  4.952410302  3.642443205  3.380582109\n",
       "   \n",
       "              23           24           25           26           27\n",
       "  1  3.502492651  1.927038074  2.108176944 -0.210963620  0.910271400\n",
       "  2  2.288252334  3.209284288  2.145268674  0.476023704  2.251575266\n",
       "   \n",
       "              28           29           30           31           32\n",
       "  1  3.760798698  2.923657008 -0.743358143 -1.871050597 -0.103579630\n",
       "  2  1.451276368  0.639964542  2.240119779  1.170449625 -0.700010134\n",
       "   \n",
       "              33           34           35           36           37\n",
       "  1 -1.182364333  1.000999867 -0.815633624 -0.988060387 -0.154077058\n",
       "  2  0.137123640  0.472914356  0.479789756  0.547996470  0.390833818\n",
       "   \n",
       "              38           39           40           41           42\n",
       "  1 -1.416712758 -0.512946182  1.546492885 -1.556630498  0.611766553\n",
       "  2  0.868911148 -0.501966125 -0.033570940  0.399742531  0.328539535\n",
       "   \n",
       "              43           44           45           46           47\n",
       "  1 -0.824077171 -1.066998027 -0.912376451 -1.738813519  0.110200817\n",
       "  2 -0.460962498 -0.260140848  0.225131153  0.913504672 -1.226983374\n",
       "   \n",
       "              48           49           50           51           52\n",
       "  1 -0.236592754 -1.078493538 -1.447430496 -1.536360012 -1.180053141\n",
       "  2 -0.750113289 -1.066874667 -0.866680233 -0.902244903 -0.940693920\n",
       "   \n",
       "              53           54           55           56           57\n",
       "  1 -1.329228200 -0.635117892 -0.876290158 -0.541458589 -2.137160477\n",
       "  2 -0.859710345 -2.590128265 -1.038224726 -2.022063142 -2.235760457\n",
       "   \n",
       "              58           59           60           61           62\n",
       "  1 -1.691374328 -2.225940012 -0.751938276 -1.259427862 -2.036487103\n",
       "  2 -2.235785301 -2.106080881 -1.439028974 -2.572764594 -2.539209313\n",
       "   \n",
       "              63           64           65           66           67\n",
       "  1 -2.247049562  0.296687070 -2.967955055 -1.901853847 -1.832980851\n",
       "  2 -2.332795451 -2.201066202 -1.225915224 -3.279312040 -1.288894588\n",
       "   \n",
       "              68           69           70           71           72\n",
       "  1 -0.792486259 -1.821800363 -0.967620388 -0.575702326 -1.432806120\n",
       "  2 -2.974539130 -0.812373284 -2.000537669 -0.536622690 -2.397701652\n",
       "   \n",
       "              73           74           75           76           77\n",
       "  1  0.125389392  0.375384542  0.367467919 -0.980928975 -1.980076835\n",
       "  2 -1.365188484 -1.595704145 -1.314471810 -0.726160352 -0.290384409\n",
       "   \n",
       "              78           79           80           81           82\n",
       "  1  1.215454910  1.999655549  0.009381033  0.737054964  1.912624494\n",
       "  2  0.010665297  1.400461377  0.811765574  1.781388339  2.082665715\n",
       "   \n",
       "              83           84           85\n",
       "  1  3.243880032  1.855311373  8.992410158\n",
       "  2  1.417664851  3.563209753  9.590698769"
      ]
     },
     "metadata": {},
     "output_type": "display_data"
    }
   ],
   "source": [
    "# Perform chi.sq test (RBMI and SRAGE_P)\n",
    "results <- chisq.test(table(adult$RBMI, adult$SRAGE_P))\n",
    "\n",
    "head(results$residuals, n = 2)"
   ]
  },
  {
   "cell_type": "code",
   "execution_count": 17,
   "metadata": {},
   "outputs": [
    {
     "data": {
      "text/html": [
       "<table>\n",
       "<thead><tr><th scope=col>FILL</th><th scope=col>X</th><th scope=col>residual</th></tr></thead>\n",
       "<tbody>\n",
       "\t<tr><td>1        </td><td>18       </td><td> 7.042811</td></tr>\n",
       "\t<tr><td>2        </td><td>18       </td><td> 5.836048</td></tr>\n",
       "\t<tr><td>3        </td><td>18       </td><td>-5.130490</td></tr>\n",
       "\t<tr><td>4        </td><td>18       </td><td>-4.024236</td></tr>\n",
       "\t<tr><td>1        </td><td>19       </td><td> 4.439685</td></tr>\n",
       "\t<tr><td>2        </td><td>19       </td><td> 6.415899</td></tr>\n",
       "</tbody>\n",
       "</table>\n"
      ],
      "text/latex": [
       "\\begin{tabular}{r|lll}\n",
       " FILL & X & residual\\\\\n",
       "\\hline\n",
       "\t 1         & 18        &  7.042811\\\\\n",
       "\t 2         & 18        &  5.836048\\\\\n",
       "\t 3         & 18        & -5.130490\\\\\n",
       "\t 4         & 18        & -4.024236\\\\\n",
       "\t 1         & 19        &  4.439685\\\\\n",
       "\t 2         & 19        &  6.415899\\\\\n",
       "\\end{tabular}\n"
      ],
      "text/markdown": [
       "\n",
       "| FILL | X | residual |\n",
       "|---|---|---|\n",
       "| 1         | 18        |  7.042811 |\n",
       "| 2         | 18        |  5.836048 |\n",
       "| 3         | 18        | -5.130490 |\n",
       "| 4         | 18        | -4.024236 |\n",
       "| 1         | 19        |  4.439685 |\n",
       "| 2         | 19        |  6.415899 |\n",
       "\n"
      ],
      "text/plain": [
       "  FILL X  residual \n",
       "1 1    18  7.042811\n",
       "2 2    18  5.836048\n",
       "3 3    18 -5.130490\n",
       "4 4    18 -4.024236\n",
       "5 1    19  4.439685\n",
       "6 2    19  6.415899"
      ]
     },
     "metadata": {},
     "output_type": "display_data"
    }
   ],
   "source": [
    "# Melt results$residuals and store as resid\n",
    "resid <- melt(results$residuals)\n",
    "\n",
    "# Change names of resid\n",
    "names(resid) <- c(\"FILL\", \"X\", \"residual\")\n",
    "\n",
    "head(resid)"
   ]
  },
  {
   "cell_type": "code",
   "execution_count": 19,
   "metadata": {},
   "outputs": [
    {
     "data": {
      "text/html": [
       "<table>\n",
       "<thead><tr><th scope=col>X</th><th scope=col>FILL</th><th scope=col>xmin</th><th scope=col>xmax</th><th scope=col>value</th><th scope=col>ymax</th><th scope=col>ymin</th><th scope=col>residual</th></tr></thead>\n",
       "<tbody>\n",
       "\t<tr><td>18        </td><td>1         </td><td>  0       </td><td>417       </td><td> 31       </td><td>0.07434053</td><td>0.00000000</td><td> 7.042811 </td></tr>\n",
       "\t<tr><td>18        </td><td>2         </td><td>  0       </td><td>417       </td><td>254       </td><td>0.68345324</td><td>0.07434053</td><td> 5.836048 </td></tr>\n",
       "\t<tr><td>18        </td><td>3         </td><td>  0       </td><td>417       </td><td> 80       </td><td>0.87529976</td><td>0.68345324</td><td>-5.130490 </td></tr>\n",
       "\t<tr><td>18        </td><td>4         </td><td>  0       </td><td>417       </td><td> 52       </td><td>1.00000000</td><td>0.87529976</td><td>-4.024236 </td></tr>\n",
       "\t<tr><td>19        </td><td>1         </td><td>417       </td><td>808       </td><td> 22       </td><td>0.05626598</td><td>0.00000000</td><td> 4.439685 </td></tr>\n",
       "\t<tr><td>19        </td><td>2         </td><td>417       </td><td>808       </td><td>248       </td><td>0.69053708</td><td>0.05626598</td><td> 6.415899 </td></tr>\n",
       "</tbody>\n",
       "</table>\n"
      ],
      "text/latex": [
       "\\begin{tabular}{r|llllllll}\n",
       " X & FILL & xmin & xmax & value & ymax & ymin & residual\\\\\n",
       "\\hline\n",
       "\t 18         & 1          &   0        & 417        &  31        & 0.07434053 & 0.00000000 &  7.042811 \\\\\n",
       "\t 18         & 2          &   0        & 417        & 254        & 0.68345324 & 0.07434053 &  5.836048 \\\\\n",
       "\t 18         & 3          &   0        & 417        &  80        & 0.87529976 & 0.68345324 & -5.130490 \\\\\n",
       "\t 18         & 4          &   0        & 417        &  52        & 1.00000000 & 0.87529976 & -4.024236 \\\\\n",
       "\t 19         & 1          & 417        & 808        &  22        & 0.05626598 & 0.00000000 &  4.439685 \\\\\n",
       "\t 19         & 2          & 417        & 808        & 248        & 0.69053708 & 0.05626598 &  6.415899 \\\\\n",
       "\\end{tabular}\n"
      ],
      "text/markdown": [
       "\n",
       "| X | FILL | xmin | xmax | value | ymax | ymin | residual |\n",
       "|---|---|---|---|---|---|---|---|\n",
       "| 18         | 1          |   0        | 417        |  31        | 0.07434053 | 0.00000000 |  7.042811  |\n",
       "| 18         | 2          |   0        | 417        | 254        | 0.68345324 | 0.07434053 |  5.836048  |\n",
       "| 18         | 3          |   0        | 417        |  80        | 0.87529976 | 0.68345324 | -5.130490  |\n",
       "| 18         | 4          |   0        | 417        |  52        | 1.00000000 | 0.87529976 | -4.024236  |\n",
       "| 19         | 1          | 417        | 808        |  22        | 0.05626598 | 0.00000000 |  4.439685  |\n",
       "| 19         | 2          | 417        | 808        | 248        | 0.69053708 | 0.05626598 |  6.415899  |\n",
       "\n"
      ],
      "text/plain": [
       "  X  FILL xmin xmax value ymax       ymin       residual \n",
       "1 18 1      0  417   31   0.07434053 0.00000000  7.042811\n",
       "2 18 2      0  417  254   0.68345324 0.07434053  5.836048\n",
       "3 18 3      0  417   80   0.87529976 0.68345324 -5.130490\n",
       "4 18 4      0  417   52   1.00000000 0.87529976 -4.024236\n",
       "5 19 1    417  808   22   0.05626598 0.00000000  4.439685\n",
       "6 19 2    417  808  248   0.69053708 0.05626598  6.415899"
      ]
     },
     "metadata": {},
     "output_type": "display_data"
    }
   ],
   "source": [
    "# merge the two datasets:\n",
    "DF_all <- merge(DF_melted, resid)\n",
    "\n",
    "head(DF_all)"
   ]
  },
  {
   "cell_type": "code",
   "execution_count": 20,
   "metadata": {},
   "outputs": [
    {
     "data": {
      "image/png": "[encoded data removed]",
      "text/plain": [
       "plot without title"
      ]
     },
     "metadata": {},
     "output_type": "display_data"
    }
   ],
   "source": [
    "# Update plot command\n",
    "library(ggthemes)\n",
    "\n",
    "p <- ggplot(DF_all, aes(ymin = ymin,\n",
    "                   ymax = ymax,\n",
    "                   xmin = xmin,\n",
    "                   xmax = xmax,\n",
    "                   fill = residual)) +\n",
    "  geom_rect() +\n",
    "  scale_fill_gradient2() +\n",
    "  scale_x_continuous(expand = c(0,0)) +\n",
    "  scale_y_continuous(expand = c(0,0)) +\n",
    "  theme_tufte()\n",
    "\n",
    "p"
   ]
  },
  {
   "cell_type": "markdown",
   "metadata": {},
   "source": [
    "## ADD TEXT"
   ]
  },
  {
   "cell_type": "code",
   "execution_count": 21,
   "metadata": {},
   "outputs": [],
   "source": [
    "# Position for labels on y axis\n",
    "index <- DF_all$xmax == max(DF_all$xmax)\n",
    "DF_all$yposn <- DF_all$ymin[index] + (DF_all$ymax[index] - DF_all$ymin[index])/2"
   ]
  },
  {
   "cell_type": "code",
   "execution_count": 22,
   "metadata": {},
   "outputs": [
    {
     "data": {
      "image/png": "[encoded data removed]",
      "text/plain": [
       "plot without title"
      ]
     },
     "metadata": {},
     "output_type": "display_data"
    }
   ],
   "source": [
    "# Plot 1: geom_text for BMI (i.e. the fill axis)\n",
    "p1 <- p %+% DF_all + \n",
    "  geom_text(aes(x = max(xmax), \n",
    "                y = yposn,\n",
    "                label = FILL),\n",
    "            size = 3, hjust = 1,\n",
    "            show.legend  = FALSE)\n",
    "p1"
   ]
  },
  {
   "cell_type": "code",
   "execution_count": 23,
   "metadata": {},
   "outputs": [
    {
     "data": {
      "image/png": "[encoded data removed]",
      "text/plain": [
       "plot without title"
      ]
     },
     "metadata": {},
     "output_type": "display_data"
    }
   ],
   "source": [
    "# Plot 2: Position for labels on x axis\n",
    "DF_all$xposn <- DF_all$xmin + (DF_all$xmax - DF_all$xmin)/2\n",
    "\n",
    "# geom_text for ages (i.e. the x axis)\n",
    "p1 %+% DF_all + \n",
    "  geom_text(aes(x = xposn, label = X),\n",
    "            y = 1, angle = 90,\n",
    "            size = 3, hjust = 1,\n",
    "            show.legend = FALSE)"
   ]
  },
  {
   "cell_type": "markdown",
   "metadata": {},
   "source": [
    "## MAKE ABOVE STEP TO FUNCTION"
   ]
  },
  {
   "cell_type": "code",
   "execution_count": 24,
   "metadata": {},
   "outputs": [],
   "source": [
    "# Load all packages\n",
    "library(ggplot2)\n",
    "library(reshape2)\n",
    "library(dplyr)\n",
    "library(ggthemes)\n",
    "\n",
    "# Script generalized into a function\n",
    "mosaicGG <- function(data, X, FILL) {\n",
    "  \n",
    "  # Proportions in raw data\n",
    "  DF <- as.data.frame.matrix(table(data[[X]], data[[FILL]]))\n",
    "  DF$groupSum <- rowSums(DF)\n",
    "  DF$xmax <- cumsum(DF$groupSum)\n",
    "  DF$xmin <- DF$xmax - DF$groupSum\n",
    "  DF$X <- row.names(DF)\n",
    "  DF$groupSum <- NULL\n",
    "  DF_melted <- melt(DF, id = c(\"X\", \"xmin\", \"xmax\"), variable.name = \"FILL\")\n",
    "  library(dplyr)\n",
    "  DF_melted <- DF_melted %>%\n",
    "    group_by(X) %>%\n",
    "    mutate(ymax = cumsum(value/sum(value)),\n",
    "           ymin = ymax - value/sum(value))\n",
    "  \n",
    "  # Chi-sq test\n",
    "  results <- chisq.test(table(data[[FILL]], data[[X]])) # fill and then x\n",
    "  resid <- melt(results$residuals)\n",
    "  names(resid) <- c(\"FILL\", \"X\", \"residual\")\n",
    "  \n",
    "  # Merge data\n",
    "  DF_all <- merge(DF_melted, resid)\n",
    "  \n",
    "  # Positions for labels\n",
    "  DF_all$xtext <- DF_all$xmin + (DF_all$xmax - DF_all$xmin)/2\n",
    "  index <- DF_all$xmax == max(DF_all$xmax)\n",
    "  DF_all$ytext <- DF_all$ymin[index] + (DF_all$ymax[index] - DF_all$ymin[index])/2\n",
    "  \n",
    "  # plot:\n",
    "  g <- ggplot(DF_all, aes(ymin = ymin,  ymax = ymax, xmin = xmin,\n",
    "                          xmax = xmax, fill = residual)) +\n",
    "    geom_rect(col = \"white\") +\n",
    "    geom_text(aes(x = xtext, label = X),\n",
    "              y = 1, size = 3, angle = 90, hjust = 1, show.legend = FALSE) +\n",
    "    geom_text(aes(x = max(xmax),  y = ytext, label = FILL),\n",
    "              size = 3, hjust = 1, show.legend = FALSE) +\n",
    "    scale_fill_gradient2(\"Residuals\") +\n",
    "    scale_x_continuous(\"Individuals\", expand = c(0,0)) +\n",
    "    scale_y_continuous(\"Proportion\", expand = c(0,0)) +\n",
    "    theme_tufte() +\n",
    "    theme(legend.position = \"bottom\")\n",
    "  print(g)\n",
    "}"
   ]
  },
  {
   "cell_type": "code",
   "execution_count": 25,
   "metadata": {},
   "outputs": [
    {
     "data": {
      "image/png": "[encoded data removed]",
      "text/plain": [
       "plot without title"
      ]
     },
     "metadata": {},
     "output_type": "display_data"
    }
   ],
   "source": [
    "# BMI described by age\n",
    "mosaicGG(adult, \"SRAGE_P\", \"RBMI\")"
   ]
  },
  {
   "cell_type": "code",
   "execution_count": 26,
   "metadata": {},
   "outputs": [
    {
     "data": {
      "image/png": "[encoded data removed]",
      "text/plain": [
       "plot without title"
      ]
     },
     "metadata": {},
     "output_type": "display_data"
    }
   ],
   "source": [
    "# Poverty described by age\n",
    "mosaicGG(adult, \"SRAGE_P\", \"POVLL\")"
   ]
  },
  {
   "cell_type": "code",
   "execution_count": 27,
   "metadata": {},
   "outputs": [
    {
     "name": "stderr",
     "output_type": "stream",
     "text": [
      "Warning message in chisq.test(table(data[[FILL]], data[[X]])):\n",
      "\"Chi-squared approximation may be incorrect\""
     ]
    },
    {
     "data": {
      "image/png": "[encoded data removed]",
      "text/plain": [
       "plot without title"
      ]
     },
     "metadata": {},
     "output_type": "display_data"
    }
   ],
   "source": [
    "# mtcars: am described by cyl\n",
    "mosaicGG(mtcars, \"cyl\", \"am\")"
   ]
  },
  {
   "cell_type": "code",
   "execution_count": 30,
   "metadata": {},
   "outputs": [
    {
     "name": "stderr",
     "output_type": "stream",
     "text": [
      "Warning message in chisq.test(table(data[[FILL]], data[[X]])):\n",
      "\"Chi-squared approximation may be incorrect\""
     ]
    },
    {
     "data": {
      "image/png": "[encoded data removed]",
      "text/plain": [
       "plot without title"
      ]
     },
     "metadata": {},
     "output_type": "display_data"
    }
   ],
   "source": [
    "# Vocab: vocabulary described by education\n",
    "library(car)\n",
    "mosaicGG(Vocab, \"education\", \"vocabulary\")"
   ]
  },
  {
   "cell_type": "code",
   "execution_count": null,
   "metadata": {},
   "outputs": [],
   "source": []
  }
 ],
 "metadata": {
  "kernelspec": {
   "display_name": "R",
   "language": "R",
   "name": "ir"
  },
  "language_info": {
   "codemirror_mode": "r",
   "file_extension": ".r",
   "mimetype": "text/x-r-source",
   "name": "R",
   "pygments_lexer": "r",
   "version": "3.5.1"
  },
  "toc": {
   "base_numbering": 1,
   "nav_menu": {},
   "number_sections": true,
   "sideBar": true,
   "skip_h1_title": false,
   "title_cell": "Table of Contents",
   "title_sidebar": "Contents",
   "toc_cell": true,
   "toc_position": {},
   "toc_section_display": true,
   "toc_window_display": false
  }
 },
 "nbformat": 4,
 "nbformat_minor": 2
}
