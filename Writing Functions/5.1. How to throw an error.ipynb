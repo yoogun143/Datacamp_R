{
 "cells": [
  {
   "cell_type": "markdown",
   "metadata": {},
   "source": [
    "## STOPIFNOT()"
   ]
  },
  {
   "cell_type": "code",
   "execution_count": 4,
   "metadata": {},
   "outputs": [
    {
     "name": "stderr",
     "output_type": "stream",
     "text": [
      "Warning message in is.na(x) & is.na(y):\n",
      "\"longer object length is not a multiple of shorter object length\""
     ]
    },
    {
     "data": {
      "text/html": [
       "3"
      ],
      "text/latex": [
       "3"
      ],
      "text/markdown": [
       "3"
      ],
      "text/plain": [
       "[1] 3"
      ]
     },
     "metadata": {},
     "output_type": "display_data"
    }
   ],
   "source": [
    "# Define troublesome x and y\n",
    "x <- c(NA, NA, NA)\n",
    "y <- c( 1, NA, NA, NA)\n",
    "\n",
    "# Initial function to finds number of entries where x and y both missing\n",
    "both_na <- function(x, y) {\n",
    "  sum(is.na(x) & is.na(y))\n",
    "}\n",
    "# Call both_na() on x and y\n",
    "both_na(x, y)"
   ]
  },
  {
   "cell_type": "markdown",
   "metadata": {},
   "source": [
    "=> The function works and returns 3, but we certainly didn't design this function with the idea that people could pass in different length arguments."
   ]
  },
  {
   "cell_type": "code",
   "execution_count": 3,
   "metadata": {},
   "outputs": [
    {
     "ename": "ERROR",
     "evalue": "Error in both_na(x, y): length(x) == length(y) is not TRUE\n",
     "output_type": "error",
     "traceback": [
      "Error in both_na(x, y): length(x) == length(y) is not TRUE\nTraceback:\n",
      "1. both_na(x, y)",
      "2. stopifnot(length(x) == length(y))   # at line 4 of file <text>"
     ]
    }
   ],
   "source": [
    "# Alter the function to throw an error\n",
    "both_na <- function(x, y) {\n",
    "  # Add stopifnot() to check length of x and y\n",
    "  stopifnot(length(x) == length(y))\n",
    "  \n",
    "  sum(is.na(x) & is.na(y))\n",
    "}\n",
    "\n",
    "# Call both_na() on x and y\n",
    "both_na(x, y)"
   ]
  },
  {
   "cell_type": "markdown",
   "metadata": {},
   "source": [
    "## INFORMATIVE ERROR WITH STOP()"
   ]
  },
  {
   "cell_type": "code",
   "execution_count": 5,
   "metadata": {},
   "outputs": [
    {
     "ename": "ERROR",
     "evalue": "Error: x and y must have the same length\n",
     "output_type": "error",
     "traceback": [
      "Error: x and y must have the same length\nTraceback:\n",
      "1. both_na(x, y)",
      "2. stop(\"x and y must have the same length\", call. = FALSE)   # at line 6 of file <text>"
     ]
    }
   ],
   "source": [
    "# Alter function to use informative error\n",
    "both_na <- function(x, y) {\n",
    "  # Replace condition with logical\n",
    "  if (length(x) != length(y)) {\n",
    "    # Replace \"Error\" with better message\n",
    "    stop(\"x and y must have the same length\", call. = FALSE)\n",
    "  }  \n",
    "  \n",
    "  sum(is.na(x) & is.na(y))\n",
    "}\n",
    "\n",
    "# Call both_na() \n",
    "both_na(x, y)"
   ]
  }
 ],
 "metadata": {
  "kernelspec": {
   "display_name": "R",
   "language": "R",
   "name": "ir"
  },
  "language_info": {
   "codemirror_mode": "r",
   "file_extension": ".r",
   "mimetype": "text/x-r-source",
   "name": "R",
   "pygments_lexer": "r",
   "version": "3.5.1"
  }
 },
 "nbformat": 4,
 "nbformat_minor": 2
}
