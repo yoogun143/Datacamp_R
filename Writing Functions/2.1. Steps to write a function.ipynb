{
 "cells": [
  {
   "cell_type": "markdown",
   "metadata": {},
   "source": [
    "## START WITH SIMPLE PROBLEM"
   ]
  },
  {
   "cell_type": "code",
   "execution_count": 1,
   "metadata": {},
   "outputs": [],
   "source": [
    "# Define the dataframe df\n",
    "df <- data.frame(\n",
    "  a = rnorm(10),\n",
    "  b = rnorm(10),\n",
    "  c = rnorm(10),\n",
    "  d = rnorm(10)\n",
    ")"
   ]
  },
  {
   "cell_type": "markdown",
   "metadata": {},
   "source": [
    "## GET A WORKING SNIPPET OF CODE"
   ]
  },
  {
   "cell_type": "code",
   "execution_count": 2,
   "metadata": {},
   "outputs": [
    {
     "data": {
      "text/html": [
       "<ol class=list-inline>\n",
       "\t<li>0.213668992157797</li>\n",
       "\t<li>0.473691081651697</li>\n",
       "\t<li>0.497764491843675</li>\n",
       "\t<li>0.852061767891423</li>\n",
       "\t<li>0.301174570315291</li>\n",
       "\t<li>0.670513600096823</li>\n",
       "\t<li>0.115948361967888</li>\n",
       "\t<li>0.936173777392874</li>\n",
       "\t<li>1</li>\n",
       "\t<li>0</li>\n",
       "</ol>\n"
      ],
      "text/latex": [
       "\\begin{enumerate*}\n",
       "\\item 0.213668992157797\n",
       "\\item 0.473691081651697\n",
       "\\item 0.497764491843675\n",
       "\\item 0.852061767891423\n",
       "\\item 0.301174570315291\n",
       "\\item 0.670513600096823\n",
       "\\item 0.115948361967888\n",
       "\\item 0.936173777392874\n",
       "\\item 1\n",
       "\\item 0\n",
       "\\end{enumerate*}\n"
      ],
      "text/markdown": [
       "1. 0.213668992157797\n",
       "2. 0.473691081651697\n",
       "3. 0.497764491843675\n",
       "4. 0.852061767891423\n",
       "5. 0.301174570315291\n",
       "6. 0.670513600096823\n",
       "7. 0.115948361967888\n",
       "8. 0.936173777392874\n",
       "9. 1\n",
       "10. 0\n",
       "\n",
       "\n"
      ],
      "text/plain": [
       " [1] 0.2136690 0.4736911 0.4977645 0.8520618 0.3011746 0.6705136 0.1159484\n",
       " [8] 0.9361738 1.0000000 0.0000000"
      ]
     },
     "metadata": {},
     "output_type": "display_data"
    }
   ],
   "source": [
    "# Rescale the a column in df to a 0-1 range\n",
    "(df$a - min(df$a, na.rm = TRUE)) /\n",
    "  (max(df$a, na.rm = TRUE) - min(df$a, na.rm = TRUE))"
   ]
  },
  {
   "cell_type": "markdown",
   "metadata": {},
   "source": [
    "## REWRITE TO USE TEMPORARY VARIABLES"
   ]
  },
  {
   "cell_type": "code",
   "execution_count": 3,
   "metadata": {},
   "outputs": [
    {
     "data": {
      "text/html": [
       "<ol class=list-inline>\n",
       "\t<li>0.213668992157797</li>\n",
       "\t<li>0.473691081651697</li>\n",
       "\t<li>0.497764491843675</li>\n",
       "\t<li>0.852061767891423</li>\n",
       "\t<li>0.301174570315291</li>\n",
       "\t<li>0.670513600096823</li>\n",
       "\t<li>0.115948361967888</li>\n",
       "\t<li>0.936173777392874</li>\n",
       "\t<li>1</li>\n",
       "\t<li>0</li>\n",
       "</ol>\n"
      ],
      "text/latex": [
       "\\begin{enumerate*}\n",
       "\\item 0.213668992157797\n",
       "\\item 0.473691081651697\n",
       "\\item 0.497764491843675\n",
       "\\item 0.852061767891423\n",
       "\\item 0.301174570315291\n",
       "\\item 0.670513600096823\n",
       "\\item 0.115948361967888\n",
       "\\item 0.936173777392874\n",
       "\\item 1\n",
       "\\item 0\n",
       "\\end{enumerate*}\n"
      ],
      "text/markdown": [
       "1. 0.213668992157797\n",
       "2. 0.473691081651697\n",
       "3. 0.497764491843675\n",
       "4. 0.852061767891423\n",
       "5. 0.301174570315291\n",
       "6. 0.670513600096823\n",
       "7. 0.115948361967888\n",
       "8. 0.936173777392874\n",
       "9. 1\n",
       "10. 0\n",
       "\n",
       "\n"
      ],
      "text/plain": [
       " [1] 0.2136690 0.4736911 0.4977645 0.8520618 0.3011746 0.6705136 0.1159484\n",
       " [8] 0.9361738 1.0000000 0.0000000"
      ]
     },
     "metadata": {},
     "output_type": "display_data"
    }
   ],
   "source": [
    "# Assign a column to a temporary variable\n",
    "x <- df$a\n",
    "\n",
    "# Rewrite the code with temporary variable\n",
    "( x - min( x , na.rm = TRUE)) /\n",
    "  (max( x , na.rm = TRUE) - min( x , na.rm = TRUE))"
   ]
  },
  {
   "cell_type": "markdown",
   "metadata": {},
   "source": [
    "## REWRITE FOR CLARITY"
   ]
  },
  {
   "cell_type": "code",
   "execution_count": 4,
   "metadata": {},
   "outputs": [
    {
     "data": {
      "text/html": [
       "<ol class=list-inline>\n",
       "\t<li>0.213668992157797</li>\n",
       "\t<li>0.473691081651697</li>\n",
       "\t<li>0.497764491843675</li>\n",
       "\t<li>0.852061767891423</li>\n",
       "\t<li>0.301174570315291</li>\n",
       "\t<li>0.670513600096823</li>\n",
       "\t<li>0.115948361967888</li>\n",
       "\t<li>0.936173777392874</li>\n",
       "\t<li>1</li>\n",
       "\t<li>0</li>\n",
       "</ol>\n"
      ],
      "text/latex": [
       "\\begin{enumerate*}\n",
       "\\item 0.213668992157797\n",
       "\\item 0.473691081651697\n",
       "\\item 0.497764491843675\n",
       "\\item 0.852061767891423\n",
       "\\item 0.301174570315291\n",
       "\\item 0.670513600096823\n",
       "\\item 0.115948361967888\n",
       "\\item 0.936173777392874\n",
       "\\item 1\n",
       "\\item 0\n",
       "\\end{enumerate*}\n"
      ],
      "text/markdown": [
       "1. 0.213668992157797\n",
       "2. 0.473691081651697\n",
       "3. 0.497764491843675\n",
       "4. 0.852061767891423\n",
       "5. 0.301174570315291\n",
       "6. 0.670513600096823\n",
       "7. 0.115948361967888\n",
       "8. 0.936173777392874\n",
       "9. 1\n",
       "10. 0\n",
       "\n",
       "\n"
      ],
      "text/plain": [
       " [1] 0.2136690 0.4736911 0.4977645 0.8520618 0.3011746 0.6705136 0.1159484\n",
       " [8] 0.9361738 1.0000000 0.0000000"
      ]
     },
     "metadata": {},
     "output_type": "display_data"
    }
   ],
   "source": [
    "# Assign a column to a temporary variable\n",
    "x <- df$a\n",
    "\n",
    "# Rewrite the min and max\n",
    "rng <- range(x, na.rm = TRUE)\n",
    "\n",
    "# Rewrite the code\n",
    "(x - rng[1]) / (rng[2] - rng[1])"
   ]
  },
  {
   "cell_type": "markdown",
   "metadata": {},
   "source": [
    "## TURN INTO A FUNCTION"
   ]
  },
  {
   "cell_type": "code",
   "execution_count": 5,
   "metadata": {},
   "outputs": [
    {
     "data": {
      "text/html": [
       "<ol class=list-inline>\n",
       "\t<li>0.213668992157797</li>\n",
       "\t<li>0.473691081651697</li>\n",
       "\t<li>0.497764491843675</li>\n",
       "\t<li>0.852061767891423</li>\n",
       "\t<li>0.301174570315291</li>\n",
       "\t<li>0.670513600096823</li>\n",
       "\t<li>0.115948361967888</li>\n",
       "\t<li>0.936173777392874</li>\n",
       "\t<li>1</li>\n",
       "\t<li>0</li>\n",
       "</ol>\n"
      ],
      "text/latex": [
       "\\begin{enumerate*}\n",
       "\\item 0.213668992157797\n",
       "\\item 0.473691081651697\n",
       "\\item 0.497764491843675\n",
       "\\item 0.852061767891423\n",
       "\\item 0.301174570315291\n",
       "\\item 0.670513600096823\n",
       "\\item 0.115948361967888\n",
       "\\item 0.936173777392874\n",
       "\\item 1\n",
       "\\item 0\n",
       "\\end{enumerate*}\n"
      ],
      "text/markdown": [
       "1. 0.213668992157797\n",
       "2. 0.473691081651697\n",
       "3. 0.497764491843675\n",
       "4. 0.852061767891423\n",
       "5. 0.301174570315291\n",
       "6. 0.670513600096823\n",
       "7. 0.115948361967888\n",
       "8. 0.936173777392874\n",
       "9. 1\n",
       "10. 0\n",
       "\n",
       "\n"
      ],
      "text/plain": [
       " [1] 0.2136690 0.4736911 0.4977645 0.8520618 0.3011746 0.6705136 0.1159484\n",
       " [8] 0.9361738 1.0000000 0.0000000"
      ]
     },
     "metadata": {},
     "output_type": "display_data"
    }
   ],
   "source": [
    "# Define the function\n",
    "rescale01 <- function(x){\n",
    "  rng <- range(x, na.rm = TRUE)\n",
    "  (x - rng[1]) / (rng[2] - rng[1])\n",
    "}\n",
    "\n",
    "# Run the function\n",
    "rescale01(df$a)"
   ]
  }
 ],
 "metadata": {
  "kernelspec": {
   "display_name": "R",
   "language": "R",
   "name": "ir"
  },
  "language_info": {
   "codemirror_mode": "r",
   "file_extension": ".r",
   "mimetype": "text/x-r-source",
   "name": "R",
   "pygments_lexer": "r",
   "version": "3.5.1"
  }
 },
 "nbformat": 4,
 "nbformat_minor": 2
}
