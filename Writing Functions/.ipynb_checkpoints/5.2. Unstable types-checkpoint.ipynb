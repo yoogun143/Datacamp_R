{
 "cells": [
  {
   "cell_type": "markdown",
   "metadata": {
    "toc": true
   },
   "source": [
    "<h1>Table of Contents<span class=\"tocSkip\"></span></h1>\n",
    "<div class=\"toc\"><ul class=\"toc-item\"><li><span><a href=\"#USE-PURRR-SOLVES-THE-PROBLEM\" data-toc-modified-id=\"USE-PURRR-SOLVES-THE-PROBLEM-1\"><span class=\"toc-item-num\">1&nbsp;&nbsp;</span>USE PURRR SOLVES THE PROBLEM</a></span></li><li><span><a href=\"#A-TYPE-CONSISTENT-SOLUTION\" data-toc-modified-id=\"A-TYPE-CONSISTENT-SOLUTION-2\"><span class=\"toc-item-num\">2&nbsp;&nbsp;</span>A TYPE CONSISTENT SOLUTION</a></span></li><li><span><a href=\"#OR-FAIL-EARLY-IF-SOMETHING-GOES-WRONG\" data-toc-modified-id=\"OR-FAIL-EARLY-IF-SOMETHING-GOES-WRONG-3\"><span class=\"toc-item-num\">3&nbsp;&nbsp;</span>OR FAIL EARLY IF SOMETHING GOES WRONG</a></span></li></ul></div>"
   ]
  },
  {
   "cell_type": "code",
   "execution_count": 3,
   "metadata": {},
   "outputs": [],
   "source": [
    "library(purrr)\n",
    "\n",
    "df <- data.frame(\n",
    "  a = 1L,\n",
    "  b = 1.5,\n",
    "  y = Sys.time(),\n",
    "  z = ordered(1)\n",
    ")"
   ]
  },
  {
   "cell_type": "markdown",
   "metadata": {},
   "source": [
    "## USE PURRR SOLVES THE PROBLEM"
   ]
  },
  {
   "cell_type": "code",
   "execution_count": 4,
   "metadata": {},
   "outputs": [
    {
     "name": "stdout",
     "output_type": "stream",
     "text": [
      "List of 4\n",
      " $ a: chr \"integer\"\n",
      " $ b: chr \"numeric\"\n",
      " $ y: chr [1:2] \"POSIXct\" \"POSIXt\"\n",
      " $ z: chr [1:2] \"ordered\" \"factor\"\n",
      " chr [1:2, 1:2] \"POSIXct\" \"POSIXt\" \"ordered\" \"factor\"\n",
      " - attr(*, \"dimnames\")=List of 2\n",
      "  ..$ : NULL\n",
      "  ..$ : chr [1:2] \"y\" \"z\"\n",
      " Named chr [1:2] \"integer\" \"numeric\"\n",
      " - attr(*, \"names\")= chr [1:2] \"a\" \"b\"\n"
     ]
    }
   ],
   "source": [
    "# sapply calls\n",
    "A <- sapply(df[1:4], class) \n",
    "B <- sapply(df[3:4], class)\n",
    "C <- sapply(df[1:2], class) \n",
    "\n",
    "# Demonstrate type inconsistency\n",
    "str(A)\n",
    "str(B)\n",
    "str(C)"
   ]
  },
  {
   "cell_type": "code",
   "execution_count": 5,
   "metadata": {},
   "outputs": [
    {
     "name": "stdout",
     "output_type": "stream",
     "text": [
      "List of 4\n",
      " $ a: chr \"integer\"\n",
      " $ b: chr \"numeric\"\n",
      " $ y: chr [1:2] \"POSIXct\" \"POSIXt\"\n",
      " $ z: chr [1:2] \"ordered\" \"factor\"\n",
      "List of 2\n",
      " $ y: chr [1:2] \"POSIXct\" \"POSIXt\"\n",
      " $ z: chr [1:2] \"ordered\" \"factor\"\n",
      "List of 2\n",
      " $ a: chr \"integer\"\n",
      " $ b: chr \"numeric\"\n"
     ]
    }
   ],
   "source": [
    "# Use map() to define X, Y and Z\n",
    "X <- map(df[1:4], class)\n",
    "Y <- map(df[3:4], class)\n",
    "Z <- map(df[1:2], class)\n",
    "\n",
    "# Use str() to check type consistency\n",
    "str(X)\n",
    "str(Y)\n",
    "str(Z)"
   ]
  },
  {
   "cell_type": "markdown",
   "metadata": {},
   "source": [
    "## A TYPE CONSISTENT SOLUTION"
   ]
  },
  {
   "cell_type": "markdown",
   "metadata": {},
   "source": [
    "- what if you wanted this function to always return a character string?\n",
    "- One option would be to decide what should happen if class() returns something longer than length 1. For example, we might simply take the first element of the vector returned by class().\n"
   ]
  },
  {
   "cell_type": "code",
   "execution_count": 6,
   "metadata": {},
   "outputs": [
    {
     "name": "stdout",
     "output_type": "stream",
     "text": [
      " Named chr [1:4] \"integer\" \"numeric\" \"POSIXct\" \"ordered\"\n",
      " - attr(*, \"names\")= chr [1:4] \"a\" \"b\" \"y\" \"z\"\n",
      " Named chr [1:2] \"POSIXct\" \"ordered\"\n",
      " - attr(*, \"names\")= chr [1:2] \"y\" \"z\"\n",
      " Named chr [1:2] \"integer\" \"numeric\"\n",
      " - attr(*, \"names\")= chr [1:2] \"a\" \"b\"\n"
     ]
    }
   ],
   "source": [
    "col_classes <- function(df) {\n",
    "  # Assign list output to class_list\n",
    "  class_list <- map(df, class)\n",
    "  \n",
    "  # Use map_chr() to extract first element in class_list\n",
    "  map_chr(class_list, 1)  \n",
    "}\n",
    "\n",
    "# Check that our new function is type consistent\n",
    "df %>% col_classes() %>% str()\n",
    "df[3:4] %>% col_classes() %>% str()\n",
    "df[1:2] %>% col_classes() %>% str()"
   ]
  },
  {
   "cell_type": "markdown",
   "metadata": {},
   "source": [
    "## OR FAIL EARLY IF SOMETHING GOES WRONG"
   ]
  },
  {
   "cell_type": "markdown",
   "metadata": {},
   "source": [
    "y and z in df has 2 classes in each columns => should throw an error to alert\n"
   ]
  },
  {
   "cell_type": "code",
   "execution_count": 7,
   "metadata": {},
   "outputs": [
    {
     "ename": "ERROR",
     "evalue": "Error: Some columns have more than one class\n",
     "output_type": "error",
     "traceback": [
      "Error: Some columns have more than one class\nTraceback:\n",
      "1. df %>% col_classes() %>% str()",
      "2. withVisible(eval(quote(`_fseq`(`_lhs`)), env, env))",
      "3. eval(quote(`_fseq`(`_lhs`)), env, env)",
      "4. eval(quote(`_fseq`(`_lhs`)), env, env)",
      "5. `_fseq`(`_lhs`)",
      "6. freduce(value, `_function_list`)",
      "7. function_list[[i]](value)",
      "8. col_classes(.)",
      "9. stop(\"Some columns have more than one class\", call. = FALSE)   # at line 6 of file <text>"
     ]
    }
   ],
   "source": [
    "col_classes <- function(df) {\n",
    "  class_list <- map(df, class)\n",
    "  \n",
    "  # Add a check that no element of class_list has length > 1\n",
    "  if (any(map_dbl(class_list, length) > 1)) {\n",
    "    stop(\"Some columns have more than one class\", call. = FALSE)\n",
    "  }\n",
    "  \n",
    "  # Use flatten_chr() to return a character vector\n",
    "  flatten_chr(class_list)\n",
    "}\n",
    "\n",
    "# Check that our new function is type consistent\n",
    "df %>% col_classes() %>% str()\n",
    "df[3:4] %>% col_classes() %>% str()\n",
    "df[1:2] %>% col_classes() %>% str()"
   ]
  }
 ],
 "metadata": {
  "kernelspec": {
   "display_name": "R",
   "language": "R",
   "name": "ir"
  },
  "language_info": {
   "codemirror_mode": "r",
   "file_extension": ".r",
   "mimetype": "text/x-r-source",
   "name": "R",
   "pygments_lexer": "r",
   "version": "3.5.1"
  },
  "toc": {
   "base_numbering": 1,
   "nav_menu": {},
   "number_sections": true,
   "sideBar": true,
   "skip_h1_title": false,
   "title_cell": "Table of Contents",
   "title_sidebar": "Contents",
   "toc_cell": true,
   "toc_position": {},
   "toc_section_display": true,
   "toc_window_display": false
  }
 },
 "nbformat": 4,
 "nbformat_minor": 2
}
