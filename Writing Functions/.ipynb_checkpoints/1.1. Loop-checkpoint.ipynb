{
 "cells": [
  {
   "cell_type": "markdown",
   "metadata": {
    "toc": true
   },
   "source": [
    "<h1>Table of Contents<span class=\"tocSkip\"></span></h1>\n",
    "<div class=\"toc\"><ul class=\"toc-item\"><li><span><a href=\"#A-safer-way-to-create-the-sequence,-handle-empty-data\" data-toc-modified-id=\"A-safer-way-to-create-the-sequence,-handle-empty-data-1\"><span class=\"toc-item-num\">1&nbsp;&nbsp;</span>A safer way to create the sequence, handle empty data</a></span></li><li><span><a href=\"#STORE-OUTPUT,-NOT-SHOW-=&gt;-INCREASE-EFFICIENCY\" data-toc-modified-id=\"STORE-OUTPUT,-NOT-SHOW-=>-INCREASE-EFFICIENCY-2\"><span class=\"toc-item-num\">2&nbsp;&nbsp;</span>STORE OUTPUT, NOT SHOW =&gt; INCREASE EFFICIENCY</a></span></li></ul></div>"
   ]
  },
  {
   "cell_type": "code",
   "execution_count": 1,
   "metadata": {},
   "outputs": [],
   "source": [
    "df <- data.frame(x = c(2, 3), y = c(4,5))"
   ]
  },
  {
   "cell_type": "markdown",
   "metadata": {},
   "source": [
    "## A safer way to create the sequence, handle empty data"
   ]
  },
  {
   "cell_type": "code",
   "execution_count": 2,
   "metadata": {},
   "outputs": [
    {
     "name": "stdout",
     "output_type": "stream",
     "text": [
      "[1] 2.5\n",
      "[1] 4.5\n"
     ]
    }
   ],
   "source": [
    "# Replace the 1:ncol(df) sequence\n",
    "for (i in seq_along(df)) {\n",
    "  print(median(df[[i]]))\n",
    "}"
   ]
  },
  {
   "cell_type": "code",
   "execution_count": 3,
   "metadata": {},
   "outputs": [],
   "source": [
    "# Change the value of df\n",
    "df <- data.frame()"
   ]
  },
  {
   "cell_type": "code",
   "execution_count": 4,
   "metadata": {},
   "outputs": [
    {
     "ename": "ERROR",
     "evalue": "Error in .subset2(x, i, exact = exact): subscript out of bounds\n",
     "output_type": "error",
     "traceback": [
      "Error in .subset2(x, i, exact = exact): subscript out of bounds\nTraceback:\n",
      "1. print(median(df[[i]]))",
      "2. median(df[[i]])",
      "3. df[[i]]",
      "4. `[[.data.frame`(df, i)",
      "5. (function(x, i, exact) if (is.matrix(i)) as.matrix(x)[[i]] else .subset2(x, \n .     i, exact = exact))(x, ..., exact = exact)"
     ]
    }
   ],
   "source": [
    "# Not use seq_along\n",
    "for (i in 1:ncol(df)) {\n",
    "  print(median(df[[i]]))\n",
    "}"
   ]
  },
  {
   "cell_type": "code",
   "execution_count": 5,
   "metadata": {},
   "outputs": [],
   "source": [
    "# Repeat for loop to verify there is no error\n",
    "for (i in seq_along(df)) {\n",
    "  print(median(df[[i]]))\n",
    "}"
   ]
  },
  {
   "cell_type": "markdown",
   "metadata": {},
   "source": [
    "## STORE OUTPUT, NOT SHOW => INCREASE EFFICIENCY"
   ]
  },
  {
   "cell_type": "code",
   "execution_count": 6,
   "metadata": {},
   "outputs": [
    {
     "data": {
      "text/html": [
       "<ol class=list-inline>\n",
       "\t<li>2.5</li>\n",
       "\t<li>4.5</li>\n",
       "</ol>\n"
      ],
      "text/latex": [
       "\\begin{enumerate*}\n",
       "\\item 2.5\n",
       "\\item 4.5\n",
       "\\end{enumerate*}\n"
      ],
      "text/markdown": [
       "1. 2.5\n",
       "2. 4.5\n",
       "\n",
       "\n"
      ],
      "text/plain": [
       "[1] 2.5 4.5"
      ]
     },
     "metadata": {},
     "output_type": "display_data"
    }
   ],
   "source": [
    "df <- data.frame(x = c(2, 3), y = c(4,5))\n",
    "# Create new double vector: output\n",
    "output <- vector(\"double\", ncol(df)) # if you grow the for loop at each iteration (e.g. using c()), your for loop will be very slow.\n",
    "\n",
    "# Alter the loop\n",
    "for (i in seq_along(df)) {\n",
    "  # Change code to store result in output\n",
    "  output[[i]] <- median(df[[i]]) # You might ask why we are using double brackets here when output is a vector. It's primarily for generalizability: this subsetting will work whether output is a vector or a list.\n",
    "}\n",
    "\n",
    "# Print output\n",
    "output"
   ]
  }
 ],
 "metadata": {
  "kernelspec": {
   "display_name": "R",
   "language": "R",
   "name": "ir"
  },
  "language_info": {
   "codemirror_mode": "r",
   "file_extension": ".r",
   "mimetype": "text/x-r-source",
   "name": "R",
   "pygments_lexer": "r",
   "version": "3.5.1"
  },
  "toc": {
   "base_numbering": 1,
   "nav_menu": {},
   "number_sections": true,
   "sideBar": true,
   "skip_h1_title": false,
   "title_cell": "Table of Contents",
   "title_sidebar": "Contents",
   "toc_cell": true,
   "toc_position": {},
   "toc_section_display": true,
   "toc_window_display": false
  }
 },
 "nbformat": 4,
 "nbformat_minor": 2
}
