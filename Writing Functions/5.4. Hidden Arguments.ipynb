{
 "cells": [
  {
   "cell_type": "code",
   "execution_count": 1,
   "metadata": {},
   "outputs": [
    {
     "name": "stdout",
     "output_type": "stream",
     "text": [
      "'data.frame':\t20 obs. of  4 variables:\n",
      " $ Name     : Factor w/ 20 levels \"Acacia Ridge Leisure Centre\",..: 1 2 3 4 5 6 19 7 8 9 ...\n",
      " $ Address  : Factor w/ 20 levels \"1 Fairlead Crescent, Manly\",..: 5 20 18 10 9 11 6 15 12 17 ...\n",
      " $ Latitude : num  -27.6 -27.6 -27.6 -27.5 -27.4 ...\n",
      " $ Longitude: num  153 153 153 153 153 ...\n"
     ]
    }
   ],
   "source": [
    "# Read in the swimming_pools.csv to pools\n",
    "pools <- read.csv(\"swimming_pools.csv\")\n",
    "\n",
    "# Examine the structure of pools\n",
    "str(pools)"
   ]
  },
  {
   "cell_type": "code",
   "execution_count": 2,
   "metadata": {},
   "outputs": [
    {
     "data": {
      "text/html": [
       "TRUE"
      ],
      "text/latex": [
       "TRUE"
      ],
      "text/markdown": [
       "TRUE"
      ],
      "text/plain": [
       "[1] TRUE"
      ]
     },
     "metadata": {},
     "output_type": "display_data"
    },
    {
     "name": "stdout",
     "output_type": "stream",
     "text": [
      "'data.frame':\t20 obs. of  4 variables:\n",
      " $ Name     : chr  \"Acacia Ridge Leisure Centre\" \"Bellbowrie Pool\" \"Carole Park\" \"Centenary Pool (inner City)\" ...\n",
      " $ Address  : chr  \"1391 Beaudesert Road, Acacia Ridge\" \"Sugarwood Street, Bellbowrie\" \"Cnr Boundary Road and Waterford Road Wacol\" \"400 Gregory Terrace, Spring Hill\" ...\n",
      " $ Latitude : num  -27.6 -27.6 -27.6 -27.5 -27.4 ...\n",
      " $ Longitude: num  153 153 153 153 153 ...\n"
     ]
    }
   ],
   "source": [
    "# Change the global stringsAsFactor option to FALSE\n",
    "getOption(\"stringsAsFactors\")\n",
    "options(stringsAsFactors = FALSE)\n",
    "\n",
    "# Read in the swimming_pools.csv to pools2\n",
    "pools2 <- read.csv(\"swimming_pools.csv\")\n",
    "\n",
    "# Examine the structure of pools2\n",
    "str(pools2)"
   ]
  },
  {
   "cell_type": "markdown",
   "metadata": {},
   "source": [
    "=> Name and Address are now characters"
   ]
  }
 ],
 "metadata": {
  "kernelspec": {
   "display_name": "R",
   "language": "R",
   "name": "ir"
  },
  "language_info": {
   "codemirror_mode": "r",
   "file_extension": ".r",
   "mimetype": "text/x-r-source",
   "name": "R",
   "pygments_lexer": "r",
   "version": "3.5.1"
  }
 },
 "nbformat": 4,
 "nbformat_minor": 2
}
