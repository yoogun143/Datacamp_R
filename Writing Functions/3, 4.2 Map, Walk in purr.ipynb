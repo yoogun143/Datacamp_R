{
 "cells": [
  {
   "cell_type": "code",
   "execution_count": 1,
   "metadata": {},
   "outputs": [],
   "source": [
    "# Define the dataframe df\n",
    "df <- data.frame(\n",
    "  a = rnorm(10),\n",
    "  b = rnorm(10),\n",
    "  c = rnorm(10),\n",
    "  d = rnorm(10)\n",
    ")\n",
    "library(purrr)"
   ]
  },
  {
   "cell_type": "markdown",
   "metadata": {},
   "source": [
    "## THE ... ARGUMENT TO THE MAP FUNCTION"
   ]
  },
  {
   "cell_type": "markdown",
   "metadata": {},
   "source": [
    "The map functions use the ... (\"dot dot dot\") argument to pass along additional arguments to .f each time it's called."
   ]
  },
  {
   "cell_type": "code",
   "execution_count": 2,
   "metadata": {},
   "outputs": [
    {
     "data": {
      "text/html": [
       "<dl class=dl-horizontal>\n",
       "\t<dt>a</dt>\n",
       "\t\t<dd>0.0958102954527802</dd>\n",
       "\t<dt>b</dt>\n",
       "\t\t<dd>0.0270916009691148</dd>\n",
       "\t<dt>c</dt>\n",
       "\t\t<dd>-0.173274728841331</dd>\n",
       "\t<dt>d</dt>\n",
       "\t\t<dd>-0.340812867808567</dd>\n",
       "</dl>\n"
      ],
      "text/latex": [
       "\\begin{description*}\n",
       "\\item[a] 0.0958102954527802\n",
       "\\item[b] 0.0270916009691148\n",
       "\\item[c] -0.173274728841331\n",
       "\\item[d] -0.340812867808567\n",
       "\\end{description*}\n"
      ],
      "text/markdown": [
       "a\n",
       ":   0.0958102954527802b\n",
       ":   0.0270916009691148c\n",
       ":   -0.173274728841331d\n",
       ":   -0.340812867808567\n",
       "\n"
      ],
      "text/plain": [
       "         a          b          c          d \n",
       " 0.0958103  0.0270916 -0.1732747 -0.3408129 "
      ]
     },
     "metadata": {},
     "output_type": "display_data"
    },
    {
     "data": {
      "text/html": [
       "<dl class=dl-horizontal>\n",
       "\t<dt>a</dt>\n",
       "\t\t<dd>0.0958102954527802</dd>\n",
       "\t<dt>b</dt>\n",
       "\t\t<dd>0.0270916009691148</dd>\n",
       "\t<dt>c</dt>\n",
       "\t\t<dd>-0.173274728841331</dd>\n",
       "\t<dt>d</dt>\n",
       "\t\t<dd>-0.340812867808567</dd>\n",
       "</dl>\n"
      ],
      "text/latex": [
       "\\begin{description*}\n",
       "\\item[a] 0.0958102954527802\n",
       "\\item[b] 0.0270916009691148\n",
       "\\item[c] -0.173274728841331\n",
       "\\item[d] -0.340812867808567\n",
       "\\end{description*}\n"
      ],
      "text/markdown": [
       "a\n",
       ":   0.0958102954527802b\n",
       ":   0.0270916009691148c\n",
       ":   -0.173274728841331d\n",
       ":   -0.340812867808567\n",
       "\n"
      ],
      "text/plain": [
       "         a          b          c          d \n",
       " 0.0958103  0.0270916 -0.1732747 -0.3408129 "
      ]
     },
     "metadata": {},
     "output_type": "display_data"
    },
    {
     "data": {
      "text/html": [
       "<dl class=dl-horizontal>\n",
       "\t<dt>a</dt>\n",
       "\t\t<dd>-2.17822273193917</dd>\n",
       "\t<dt>b</dt>\n",
       "\t\t<dd>-1.01324371608868</dd>\n",
       "\t<dt>c</dt>\n",
       "\t\t<dd>-2.20848173326072</dd>\n",
       "\t<dt>d</dt>\n",
       "\t\t<dd>-1.66739221233658</dd>\n",
       "</dl>\n"
      ],
      "text/latex": [
       "\\begin{description*}\n",
       "\\item[a] -2.17822273193917\n",
       "\\item[b] -1.01324371608868\n",
       "\\item[c] -2.20848173326072\n",
       "\\item[d] -1.66739221233658\n",
       "\\end{description*}\n"
      ],
      "text/markdown": [
       "a\n",
       ":   -2.17822273193917b\n",
       ":   -1.01324371608868c\n",
       ":   -2.20848173326072d\n",
       ":   -1.66739221233658\n",
       "\n"
      ],
      "text/plain": [
       "        a         b         c         d \n",
       "-2.178223 -1.013244 -2.208482 -1.667392 "
      ]
     },
     "metadata": {},
     "output_type": "display_data"
    }
   ],
   "source": [
    "# Find the mean of each column\n",
    "map_dbl(df, mean)\n",
    "\n",
    "# Find the mean of each column, excluding missing values\n",
    "map_dbl(df, mean, na.rm = TRUE)\n",
    "\n",
    "# Find the 5th percentile of each column, excluding missing values\n",
    "map_dbl(df, quantile, probs = 0.05, na.rm = TRUE)"
   ]
  },
  {
   "cell_type": "markdown",
   "metadata": {},
   "source": [
    "## PICK THE RIGHT MAP FUNCTION"
   ]
  },
  {
   "cell_type": "markdown",
   "metadata": {},
   "source": [
    "You can always use map(), which will return a list, but using the right function expect the error"
   ]
  },
  {
   "cell_type": "code",
   "execution_count": 3,
   "metadata": {},
   "outputs": [
    {
     "data": {
      "text/html": [
       "<dl class=dl-horizontal>\n",
       "\t<dt>a</dt>\n",
       "\t\t<dd>TRUE</dd>\n",
       "\t<dt>b</dt>\n",
       "\t\t<dd>TRUE</dd>\n",
       "\t<dt>c</dt>\n",
       "\t\t<dd>TRUE</dd>\n",
       "\t<dt>d</dt>\n",
       "\t\t<dd>TRUE</dd>\n",
       "</dl>\n"
      ],
      "text/latex": [
       "\\begin{description*}\n",
       "\\item[a] TRUE\n",
       "\\item[b] TRUE\n",
       "\\item[c] TRUE\n",
       "\\item[d] TRUE\n",
       "\\end{description*}\n"
      ],
      "text/markdown": [
       "a\n",
       ":   TRUEb\n",
       ":   TRUEc\n",
       ":   TRUEd\n",
       ":   TRUE\n",
       "\n"
      ],
      "text/plain": [
       "   a    b    c    d \n",
       "TRUE TRUE TRUE TRUE "
      ]
     },
     "metadata": {},
     "output_type": "display_data"
    },
    {
     "data": {
      "text/html": [
       "<dl class=dl-horizontal>\n",
       "\t<dt>a</dt>\n",
       "\t\t<dd>'double'</dd>\n",
       "\t<dt>b</dt>\n",
       "\t\t<dd>'double'</dd>\n",
       "\t<dt>c</dt>\n",
       "\t\t<dd>'double'</dd>\n",
       "\t<dt>d</dt>\n",
       "\t\t<dd>'double'</dd>\n",
       "</dl>\n"
      ],
      "text/latex": [
       "\\begin{description*}\n",
       "\\item[a] 'double'\n",
       "\\item[b] 'double'\n",
       "\\item[c] 'double'\n",
       "\\item[d] 'double'\n",
       "\\end{description*}\n"
      ],
      "text/markdown": [
       "a\n",
       ":   'double'b\n",
       ":   'double'c\n",
       ":   'double'd\n",
       ":   'double'\n",
       "\n"
      ],
      "text/plain": [
       "       a        b        c        d \n",
       "\"double\" \"double\" \"double\" \"double\" "
      ]
     },
     "metadata": {},
     "output_type": "display_data"
    },
    {
     "data": {
      "text/plain": [
       "$a\n",
       "    Min.  1st Qu.   Median     Mean  3rd Qu.     Max. \n",
       "-2.34115 -0.33278  0.34448  0.09581  1.13647  1.65703 \n",
       "\n",
       "$b\n",
       "    Min.  1st Qu.   Median     Mean  3rd Qu.     Max. \n",
       "-1.07524 -0.81787 -0.40193  0.02709  0.88698  1.82020 \n",
       "\n",
       "$c\n",
       "   Min. 1st Qu.  Median    Mean 3rd Qu.    Max. \n",
       "-3.2274 -0.7520  0.2887 -0.1733  0.3624  1.4912 \n",
       "\n",
       "$d\n",
       "   Min. 1st Qu.  Median    Mean 3rd Qu.    Max. \n",
       "-2.1574 -0.8219 -0.5972 -0.3408  0.2875  1.4257 \n"
      ]
     },
     "metadata": {},
     "output_type": "display_data"
    }
   ],
   "source": [
    "# Find the columns that are numeric\n",
    "map_lgl(df, is.numeric)\n",
    "\n",
    "# Find the type of each column\n",
    "map_chr(df, typeof)\n",
    "\n",
    "# Find a summary of each column\n",
    "map(df, summary)"
   ]
  },
  {
   "cell_type": "markdown",
   "metadata": {},
   "source": [
    "## SHORTCUTS USING A FORMULA"
   ]
  },
  {
   "cell_type": "code",
   "execution_count": 4,
   "metadata": {},
   "outputs": [
    {
     "data": {
      "text/plain": [
       "$`4`\n",
       "\n",
       "Call:\n",
       "lm(formula = mpg ~ wt, data = .)\n",
       "\n",
       "Coefficients:\n",
       "(Intercept)           wt  \n",
       "     39.571       -5.647  \n",
       "\n",
       "\n",
       "$`6`\n",
       "\n",
       "Call:\n",
       "lm(formula = mpg ~ wt, data = .)\n",
       "\n",
       "Coefficients:\n",
       "(Intercept)           wt  \n",
       "      28.41        -2.78  \n",
       "\n",
       "\n",
       "$`8`\n",
       "\n",
       "Call:\n",
       "lm(formula = mpg ~ wt, data = .)\n",
       "\n",
       "Coefficients:\n",
       "(Intercept)           wt  \n",
       "     23.868       -2.192  \n",
       "\n"
      ]
     },
     "metadata": {},
     "output_type": "display_data"
    }
   ],
   "source": [
    "# Split dataframe mtcars based on cyl\n",
    "cyl <- split(mtcars, mtcars$cyl)\n",
    "\n",
    "# Rewrite to use the formula shortcut instead\n",
    "map(cyl, ~ lm(mpg ~ wt, data = .))"
   ]
  },
  {
   "cell_type": "markdown",
   "metadata": {},
   "source": [
    "## SHORTCUT USING A STRING"
   ]
  },
  {
   "cell_type": "code",
   "execution_count": 5,
   "metadata": {},
   "outputs": [
    {
     "data": {
      "text/html": [
       "<dl>\n",
       "\t<dt>$`4`</dt>\n",
       "\t\t<dd>-5.64702526124226</dd>\n",
       "\t<dt>$`6`</dt>\n",
       "\t\t<dd>-2.78010593915529</dd>\n",
       "\t<dt>$`8`</dt>\n",
       "\t\t<dd>-2.19243792644972</dd>\n",
       "</dl>\n"
      ],
      "text/latex": [
       "\\begin{description}\n",
       "\\item[\\$`4`] -5.64702526124226\n",
       "\\item[\\$`6`] -2.78010593915529\n",
       "\\item[\\$`8`] -2.19243792644972\n",
       "\\end{description}\n"
      ],
      "text/markdown": [
       "$`4`\n",
       ":   -5.64702526124226\n",
       "$`6`\n",
       ":   -2.78010593915529\n",
       "$`8`\n",
       ":   -2.19243792644972\n",
       "\n",
       "\n"
      ],
      "text/plain": [
       "$`4`\n",
       "[1] -5.647025\n",
       "\n",
       "$`6`\n",
       "[1] -2.780106\n",
       "\n",
       "$`8`\n",
       "[1] -2.192438\n"
      ]
     },
     "metadata": {},
     "output_type": "display_data"
    },
    {
     "data": {
      "text/html": [
       "<dl class=dl-horizontal>\n",
       "\t<dt>4</dt>\n",
       "\t\t<dd>-5.64702526124226</dd>\n",
       "\t<dt>6</dt>\n",
       "\t\t<dd>-2.78010593915529</dd>\n",
       "\t<dt>8</dt>\n",
       "\t\t<dd>-2.19243792644972</dd>\n",
       "</dl>\n"
      ],
      "text/latex": [
       "\\begin{description*}\n",
       "\\item[4] -5.64702526124226\n",
       "\\item[6] -2.78010593915529\n",
       "\\item[8] -2.19243792644972\n",
       "\\end{description*}\n"
      ],
      "text/markdown": [
       "4\n",
       ":   -5.647025261242266\n",
       ":   -2.780105939155298\n",
       ":   -2.19243792644972\n",
       "\n"
      ],
      "text/plain": [
       "        4         6         8 \n",
       "-5.647025 -2.780106 -2.192438 "
      ]
     },
     "metadata": {},
     "output_type": "display_data"
    }
   ],
   "source": [
    "# Save the result from the previous exercise to the variable models\n",
    "models <- map(cyl, ~ lm(mpg ~ wt, data = .))\n",
    "\n",
    "# Use map and coef to get the coefficients for each model: coefs\n",
    "coefs <- map(models, coef)\n",
    "\n",
    "# Use string shortcut to extract the wt coefficient \n",
    "map(coefs, \"wt\")\n",
    "\n",
    "# Another way is to use numeric vector\n",
    "map_dbl(coefs, 2)"
   ]
  },
  {
   "cell_type": "markdown",
   "metadata": {},
   "source": [
    "## MAP OVER 2 ARGUMENTS"
   ]
  },
  {
   "cell_type": "code",
   "execution_count": 6,
   "metadata": {},
   "outputs": [
    {
     "data": {
      "text/html": [
       "<ol>\n",
       "\t<li><ol class=list-inline>\n",
       "\t<li>1.23701712684901</li>\n",
       "\t<li>-1.23147055703549</li>\n",
       "\t<li>0.343021271625334</li>\n",
       "\t<li>0.153119922478526</li>\n",
       "\t<li>0.617571402928453</li>\n",
       "</ol>\n",
       "</li>\n",
       "\t<li><ol class=list-inline>\n",
       "\t<li>3.75401314170914</li>\n",
       "\t<li>5.54020957512903</li>\n",
       "\t<li>5.09287695540386</li>\n",
       "\t<li>7.14526155217273</li>\n",
       "\t<li>6.37856853155838</li>\n",
       "\t<li>4.22298374606315</li>\n",
       "\t<li>4.62456047731426</li>\n",
       "\t<li>4.43988727082298</li>\n",
       "\t<li>5.92027802761007</li>\n",
       "\t<li>5.67684378922386</li>\n",
       "</ol>\n",
       "</li>\n",
       "\t<li><ol class=list-inline>\n",
       "\t<li>8.61999759229026</li>\n",
       "\t<li>10.3195526973784</li>\n",
       "\t<li>10.3726703312769</li>\n",
       "\t<li>9.69918951835661</li>\n",
       "\t<li>11.2582509785562</li>\n",
       "\t<li>10.2932186604766</li>\n",
       "\t<li>11.1478316420321</li>\n",
       "\t<li>8.30679453461209</li>\n",
       "\t<li>9.89272483130278</li>\n",
       "\t<li>9.65793433485713</li>\n",
       "\t<li>9.78641182770558</li>\n",
       "\t<li>9.58258667092409</li>\n",
       "\t<li>9.49514319814652</li>\n",
       "\t<li>8.79365625968031</li>\n",
       "\t<li>11.2880313395297</li>\n",
       "\t<li>9.41811939908782</li>\n",
       "\t<li>9.95037238298622</li>\n",
       "\t<li>8.75942325923436</li>\n",
       "\t<li>9.46749332302256</li>\n",
       "\t<li>11.5595559238487</li>\n",
       "</ol>\n",
       "</li>\n",
       "</ol>\n"
      ],
      "text/latex": [
       "\\begin{enumerate}\n",
       "\\item \\begin{enumerate*}\n",
       "\\item 1.23701712684901\n",
       "\\item -1.23147055703549\n",
       "\\item 0.343021271625334\n",
       "\\item 0.153119922478526\n",
       "\\item 0.617571402928453\n",
       "\\end{enumerate*}\n",
       "\n",
       "\\item \\begin{enumerate*}\n",
       "\\item 3.75401314170914\n",
       "\\item 5.54020957512903\n",
       "\\item 5.09287695540386\n",
       "\\item 7.14526155217273\n",
       "\\item 6.37856853155838\n",
       "\\item 4.22298374606315\n",
       "\\item 4.62456047731426\n",
       "\\item 4.43988727082298\n",
       "\\item 5.92027802761007\n",
       "\\item 5.67684378922386\n",
       "\\end{enumerate*}\n",
       "\n",
       "\\item \\begin{enumerate*}\n",
       "\\item 8.61999759229026\n",
       "\\item 10.3195526973784\n",
       "\\item 10.3726703312769\n",
       "\\item 9.69918951835661\n",
       "\\item 11.2582509785562\n",
       "\\item 10.2932186604766\n",
       "\\item 11.1478316420321\n",
       "\\item 8.30679453461209\n",
       "\\item 9.89272483130278\n",
       "\\item 9.65793433485713\n",
       "\\item 9.78641182770558\n",
       "\\item 9.58258667092409\n",
       "\\item 9.49514319814652\n",
       "\\item 8.79365625968031\n",
       "\\item 11.2880313395297\n",
       "\\item 9.41811939908782\n",
       "\\item 9.95037238298622\n",
       "\\item 8.75942325923436\n",
       "\\item 9.46749332302256\n",
       "\\item 11.5595559238487\n",
       "\\end{enumerate*}\n",
       "\n",
       "\\end{enumerate}\n"
      ],
      "text/markdown": [
       "1. 1. 1.23701712684901\n",
       "2. -1.23147055703549\n",
       "3. 0.343021271625334\n",
       "4. 0.153119922478526\n",
       "5. 0.617571402928453\n",
       "\n",
       "\n",
       "\n",
       "2. 1. 3.75401314170914\n",
       "2. 5.54020957512903\n",
       "3. 5.09287695540386\n",
       "4. 7.14526155217273\n",
       "5. 6.37856853155838\n",
       "6. 4.22298374606315\n",
       "7. 4.62456047731426\n",
       "8. 4.43988727082298\n",
       "9. 5.92027802761007\n",
       "10. 5.67684378922386\n",
       "\n",
       "\n",
       "\n",
       "3. 1. 8.61999759229026\n",
       "2. 10.3195526973784\n",
       "3. 10.3726703312769\n",
       "4. 9.69918951835661\n",
       "5. 11.2582509785562\n",
       "6. 10.2932186604766\n",
       "7. 11.1478316420321\n",
       "8. 8.30679453461209\n",
       "9. 9.89272483130278\n",
       "10. 9.65793433485713\n",
       "11. 9.78641182770558\n",
       "12. 9.58258667092409\n",
       "13. 9.49514319814652\n",
       "14. 8.79365625968031\n",
       "15. 11.2880313395297\n",
       "16. 9.41811939908782\n",
       "17. 9.95037238298622\n",
       "18. 8.75942325923436\n",
       "19. 9.46749332302256\n",
       "20. 11.5595559238487\n",
       "\n",
       "\n",
       "\n",
       "\n",
       "\n"
      ],
      "text/plain": [
       "[[1]]\n",
       "[1]  1.2370171 -1.2314706  0.3430213  0.1531199  0.6175714\n",
       "\n",
       "[[2]]\n",
       " [1] 3.754013 5.540210 5.092877 7.145262 6.378569 4.222984 4.624560 4.439887\n",
       " [9] 5.920278 5.676844\n",
       "\n",
       "[[3]]\n",
       " [1]  8.619998 10.319553 10.372670  9.699190 11.258251 10.293219 11.147832\n",
       " [8]  8.306795  9.892725  9.657934  9.786412  9.582587  9.495143  8.793656\n",
       "[15] 11.288031  9.418119  9.950372  8.759423  9.467493 11.559556\n"
      ]
     },
     "metadata": {},
     "output_type": "display_data"
    }
   ],
   "source": [
    "# Initialize n\n",
    "n <- list(5, 10, 20)\n",
    "\n",
    "# Create a list mu containing the values: 1, 5, and 10\n",
    "mu <- list(1, 5, 10)\n",
    "\n",
    "# Edit to call map2() on n and mu with rnorm() to simulate three samples\n",
    "map2(n, mu, rnorm)"
   ]
  },
  {
   "cell_type": "markdown",
   "metadata": {},
   "source": [
    "## MAP OVER MORE THAN 2 ARGUMENTS"
   ]
  },
  {
   "cell_type": "code",
   "execution_count": 7,
   "metadata": {},
   "outputs": [
    {
     "data": {
      "text/html": [
       "<ol>\n",
       "\t<li><ol class=list-inline>\n",
       "\t<li>1.12044901126129</li>\n",
       "\t<li>0.834796429353059</li>\n",
       "\t<li>0.86478961561331</li>\n",
       "\t<li>1.04552237035085</li>\n",
       "\t<li>0.974066527317537</li>\n",
       "</ol>\n",
       "</li>\n",
       "\t<li><ol class=list-inline>\n",
       "\t<li>4.90554194373459</li>\n",
       "\t<li>4.28522532252034</li>\n",
       "\t<li>5.64497863297617</li>\n",
       "\t<li>2.87883775165093</li>\n",
       "\t<li>3.60393394029191</li>\n",
       "\t<li>4.90559078972496</li>\n",
       "\t<li>5.42130789973526</li>\n",
       "\t<li>4.58003984592992</li>\n",
       "\t<li>5.07177296042907</li>\n",
       "\t<li>5.30285629759401</li>\n",
       "</ol>\n",
       "</li>\n",
       "\t<li><ol class=list-inline>\n",
       "\t<li>9.95464263032151</li>\n",
       "\t<li>9.99838650224343</li>\n",
       "\t<li>10.0229811768978</li>\n",
       "\t<li>10.0607946778983</li>\n",
       "\t<li>10.0624520808605</li>\n",
       "\t<li>9.93891570878222</li>\n",
       "\t<li>10.058666996941</li>\n",
       "\t<li>9.96792042360648</li>\n",
       "\t<li>9.84038801480076</li>\n",
       "\t<li>10.1228727439251</li>\n",
       "\t<li>9.89975829437075</li>\n",
       "\t<li>10.0680457218911</li>\n",
       "\t<li>9.9888200580921</li>\n",
       "\t<li>9.90047854856136</li>\n",
       "\t<li>9.98771103029998</li>\n",
       "\t<li>10.0437430364653</li>\n",
       "\t<li>10.0542767809787</li>\n",
       "\t<li>10.0767854795397</li>\n",
       "\t<li>10.080399960216</li>\n",
       "\t<li>10.0615316096731</li>\n",
       "</ol>\n",
       "</li>\n",
       "</ol>\n"
      ],
      "text/latex": [
       "\\begin{enumerate}\n",
       "\\item \\begin{enumerate*}\n",
       "\\item 1.12044901126129\n",
       "\\item 0.834796429353059\n",
       "\\item 0.86478961561331\n",
       "\\item 1.04552237035085\n",
       "\\item 0.974066527317537\n",
       "\\end{enumerate*}\n",
       "\n",
       "\\item \\begin{enumerate*}\n",
       "\\item 4.90554194373459\n",
       "\\item 4.28522532252034\n",
       "\\item 5.64497863297617\n",
       "\\item 2.87883775165093\n",
       "\\item 3.60393394029191\n",
       "\\item 4.90559078972496\n",
       "\\item 5.42130789973526\n",
       "\\item 4.58003984592992\n",
       "\\item 5.07177296042907\n",
       "\\item 5.30285629759401\n",
       "\\end{enumerate*}\n",
       "\n",
       "\\item \\begin{enumerate*}\n",
       "\\item 9.95464263032151\n",
       "\\item 9.99838650224343\n",
       "\\item 10.0229811768978\n",
       "\\item 10.0607946778983\n",
       "\\item 10.0624520808605\n",
       "\\item 9.93891570878222\n",
       "\\item 10.058666996941\n",
       "\\item 9.96792042360648\n",
       "\\item 9.84038801480076\n",
       "\\item 10.1228727439251\n",
       "\\item 9.89975829437075\n",
       "\\item 10.0680457218911\n",
       "\\item 9.9888200580921\n",
       "\\item 9.90047854856136\n",
       "\\item 9.98771103029998\n",
       "\\item 10.0437430364653\n",
       "\\item 10.0542767809787\n",
       "\\item 10.0767854795397\n",
       "\\item 10.080399960216\n",
       "\\item 10.0615316096731\n",
       "\\end{enumerate*}\n",
       "\n",
       "\\end{enumerate}\n"
      ],
      "text/markdown": [
       "1. 1. 1.12044901126129\n",
       "2. 0.834796429353059\n",
       "3. 0.86478961561331\n",
       "4. 1.04552237035085\n",
       "5. 0.974066527317537\n",
       "\n",
       "\n",
       "\n",
       "2. 1. 4.90554194373459\n",
       "2. 4.28522532252034\n",
       "3. 5.64497863297617\n",
       "4. 2.87883775165093\n",
       "5. 3.60393394029191\n",
       "6. 4.90559078972496\n",
       "7. 5.42130789973526\n",
       "8. 4.58003984592992\n",
       "9. 5.07177296042907\n",
       "10. 5.30285629759401\n",
       "\n",
       "\n",
       "\n",
       "3. 1. 9.95464263032151\n",
       "2. 9.99838650224343\n",
       "3. 10.0229811768978\n",
       "4. 10.0607946778983\n",
       "5. 10.0624520808605\n",
       "6. 9.93891570878222\n",
       "7. 10.058666996941\n",
       "8. 9.96792042360648\n",
       "9. 9.84038801480076\n",
       "10. 10.1228727439251\n",
       "11. 9.89975829437075\n",
       "12. 10.0680457218911\n",
       "13. 9.9888200580921\n",
       "14. 9.90047854856136\n",
       "15. 9.98771103029998\n",
       "16. 10.0437430364653\n",
       "17. 10.0542767809787\n",
       "18. 10.0767854795397\n",
       "19. 10.080399960216\n",
       "20. 10.0615316096731\n",
       "\n",
       "\n",
       "\n",
       "\n",
       "\n"
      ],
      "text/plain": [
       "[[1]]\n",
       "[1] 1.1204490 0.8347964 0.8647896 1.0455224 0.9740665\n",
       "\n",
       "[[2]]\n",
       " [1] 4.905542 4.285225 5.644979 2.878838 3.603934 4.905591 5.421308 4.580040\n",
       " [9] 5.071773 5.302856\n",
       "\n",
       "[[3]]\n",
       " [1]  9.954643  9.998387 10.022981 10.060795 10.062452  9.938916 10.058667\n",
       " [8]  9.967920  9.840388 10.122873  9.899758 10.068046  9.988820  9.900479\n",
       "[15]  9.987711 10.043743 10.054277 10.076785 10.080400 10.061532\n"
      ]
     },
     "metadata": {},
     "output_type": "display_data"
    },
    {
     "data": {
      "text/html": [
       "<ol>\n",
       "\t<li><ol class=list-inline>\n",
       "\t<li>1.03020476898058</li>\n",
       "\t<li>1.05208251477801</li>\n",
       "\t<li>0.915977320497009</li>\n",
       "\t<li>0.870600182804811</li>\n",
       "\t<li>1.07048821466031</li>\n",
       "</ol>\n",
       "</li>\n",
       "\t<li><ol class=list-inline>\n",
       "\t<li>5.32128325534917</li>\n",
       "\t<li>3.91104458933594</li>\n",
       "\t<li>4.57734086881296</li>\n",
       "\t<li>5.89557599342011</li>\n",
       "\t<li>5.99458726161535</li>\n",
       "\t<li>5.87108591138382</li>\n",
       "\t<li>6.64775103207399</li>\n",
       "\t<li>6.74103821257818</li>\n",
       "\t<li>4.89021865282281</li>\n",
       "\t<li>3.37219711432681</li>\n",
       "</ol>\n",
       "</li>\n",
       "\t<li><ol class=list-inline>\n",
       "\t<li>10.0210310814031</li>\n",
       "\t<li>9.82247946138263</li>\n",
       "\t<li>10.1144386661782</li>\n",
       "\t<li>10.1050102462604</li>\n",
       "\t<li>9.84106746972127</li>\n",
       "\t<li>9.98356228276576</li>\n",
       "\t<li>10.0905032803679</li>\n",
       "\t<li>9.86044974057829</li>\n",
       "\t<li>10.0690515089093</li>\n",
       "\t<li>9.87737680748866</li>\n",
       "\t<li>10.0201365036123</li>\n",
       "\t<li>9.86028106960135</li>\n",
       "\t<li>9.93700274134128</li>\n",
       "\t<li>10.0651070292287</li>\n",
       "\t<li>9.97869054081202</li>\n",
       "\t<li>9.93762259319823</li>\n",
       "\t<li>9.97818445352773</li>\n",
       "\t<li>9.89063311921036</li>\n",
       "\t<li>10.0153425250139</li>\n",
       "\t<li>10.0210362511185</li>\n",
       "</ol>\n",
       "</li>\n",
       "</ol>\n"
      ],
      "text/latex": [
       "\\begin{enumerate}\n",
       "\\item \\begin{enumerate*}\n",
       "\\item 1.03020476898058\n",
       "\\item 1.05208251477801\n",
       "\\item 0.915977320497009\n",
       "\\item 0.870600182804811\n",
       "\\item 1.07048821466031\n",
       "\\end{enumerate*}\n",
       "\n",
       "\\item \\begin{enumerate*}\n",
       "\\item 5.32128325534917\n",
       "\\item 3.91104458933594\n",
       "\\item 4.57734086881296\n",
       "\\item 5.89557599342011\n",
       "\\item 5.99458726161535\n",
       "\\item 5.87108591138382\n",
       "\\item 6.64775103207399\n",
       "\\item 6.74103821257818\n",
       "\\item 4.89021865282281\n",
       "\\item 3.37219711432681\n",
       "\\end{enumerate*}\n",
       "\n",
       "\\item \\begin{enumerate*}\n",
       "\\item 10.0210310814031\n",
       "\\item 9.82247946138263\n",
       "\\item 10.1144386661782\n",
       "\\item 10.1050102462604\n",
       "\\item 9.84106746972127\n",
       "\\item 9.98356228276576\n",
       "\\item 10.0905032803679\n",
       "\\item 9.86044974057829\n",
       "\\item 10.0690515089093\n",
       "\\item 9.87737680748866\n",
       "\\item 10.0201365036123\n",
       "\\item 9.86028106960135\n",
       "\\item 9.93700274134128\n",
       "\\item 10.0651070292287\n",
       "\\item 9.97869054081202\n",
       "\\item 9.93762259319823\n",
       "\\item 9.97818445352773\n",
       "\\item 9.89063311921036\n",
       "\\item 10.0153425250139\n",
       "\\item 10.0210362511185\n",
       "\\end{enumerate*}\n",
       "\n",
       "\\end{enumerate}\n"
      ],
      "text/markdown": [
       "1. 1. 1.03020476898058\n",
       "2. 1.05208251477801\n",
       "3. 0.915977320497009\n",
       "4. 0.870600182804811\n",
       "5. 1.07048821466031\n",
       "\n",
       "\n",
       "\n",
       "2. 1. 5.32128325534917\n",
       "2. 3.91104458933594\n",
       "3. 4.57734086881296\n",
       "4. 5.89557599342011\n",
       "5. 5.99458726161535\n",
       "6. 5.87108591138382\n",
       "7. 6.64775103207399\n",
       "8. 6.74103821257818\n",
       "9. 4.89021865282281\n",
       "10. 3.37219711432681\n",
       "\n",
       "\n",
       "\n",
       "3. 1. 10.0210310814031\n",
       "2. 9.82247946138263\n",
       "3. 10.1144386661782\n",
       "4. 10.1050102462604\n",
       "5. 9.84106746972127\n",
       "6. 9.98356228276576\n",
       "7. 10.0905032803679\n",
       "8. 9.86044974057829\n",
       "9. 10.0690515089093\n",
       "10. 9.87737680748866\n",
       "11. 10.0201365036123\n",
       "12. 9.86028106960135\n",
       "13. 9.93700274134128\n",
       "14. 10.0651070292287\n",
       "15. 9.97869054081202\n",
       "16. 9.93762259319823\n",
       "17. 9.97818445352773\n",
       "18. 9.89063311921036\n",
       "19. 10.0153425250139\n",
       "20. 10.0210362511185\n",
       "\n",
       "\n",
       "\n",
       "\n",
       "\n"
      ],
      "text/plain": [
       "[[1]]\n",
       "[1] 1.0302048 1.0520825 0.9159773 0.8706002 1.0704882\n",
       "\n",
       "[[2]]\n",
       " [1] 5.321283 3.911045 4.577341 5.895576 5.994587 5.871086 6.647751 6.741038\n",
       " [9] 4.890219 3.372197\n",
       "\n",
       "[[3]]\n",
       " [1] 10.021031  9.822479 10.114439 10.105010  9.841067  9.983562 10.090503\n",
       " [8]  9.860450 10.069052  9.877377 10.020137  9.860281  9.937003 10.065107\n",
       "[15]  9.978691  9.937623  9.978184  9.890633 10.015343 10.021036\n"
      ]
     },
     "metadata": {},
     "output_type": "display_data"
    }
   ],
   "source": [
    "# Initialize n and mu\n",
    "n <- list(5, 10, 20)\n",
    "mu <- list(1, 5, 10)\n",
    "\n",
    "# Create a sd list with the values: 0.1, 1 and 0.1\n",
    "sd <- list(0.1, 1, 0.1)\n",
    "\n",
    "# Edit this call to pmap() to iterate over the sd list as well\n",
    "pmap(list(n, mu, sd), rnorm)\n",
    "\n",
    "# Name the elements of the argument list\n",
    "pmap(list(mean = mu, n = n, sd = sd), rnorm) # => safer because match by argument, not position"
   ]
  },
  {
   "cell_type": "markdown",
   "metadata": {},
   "source": [
    "## MAP OVER FUNCTIONS AND ARGUMENTS"
   ]
  },
  {
   "cell_type": "code",
   "execution_count": 8,
   "metadata": {},
   "outputs": [
    {
     "data": {
      "text/html": [
       "<ol>\n",
       "\t<li><ol class=list-inline>\n",
       "\t<li>9.9372963313387</li>\n",
       "\t<li>11.1125670710877</li>\n",
       "\t<li>9.52638765020734</li>\n",
       "\t<li>11.3039519605474</li>\n",
       "\t<li>8.80239331763463</li>\n",
       "</ol>\n",
       "</li>\n",
       "\t<li><ol class=list-inline>\n",
       "\t<li>1.26121522160247</li>\n",
       "\t<li>3.3666741324123</li>\n",
       "\t<li>0.312294124159962</li>\n",
       "\t<li>4.67847471823916</li>\n",
       "\t<li>1.56589193618856</li>\n",
       "</ol>\n",
       "</li>\n",
       "\t<li><ol class=list-inline>\n",
       "\t<li>0.131169307045639</li>\n",
       "\t<li>0.129616042692214</li>\n",
       "\t<li>0.140276245019379</li>\n",
       "\t<li>0.260216258271577</li>\n",
       "\t<li>0.0637897592037916</li>\n",
       "</ol>\n",
       "</li>\n",
       "</ol>\n"
      ],
      "text/latex": [
       "\\begin{enumerate}\n",
       "\\item \\begin{enumerate*}\n",
       "\\item 9.9372963313387\n",
       "\\item 11.1125670710877\n",
       "\\item 9.52638765020734\n",
       "\\item 11.3039519605474\n",
       "\\item 8.80239331763463\n",
       "\\end{enumerate*}\n",
       "\n",
       "\\item \\begin{enumerate*}\n",
       "\\item 1.26121522160247\n",
       "\\item 3.3666741324123\n",
       "\\item 0.312294124159962\n",
       "\\item 4.67847471823916\n",
       "\\item 1.56589193618856\n",
       "\\end{enumerate*}\n",
       "\n",
       "\\item \\begin{enumerate*}\n",
       "\\item 0.131169307045639\n",
       "\\item 0.129616042692214\n",
       "\\item 0.140276245019379\n",
       "\\item 0.260216258271577\n",
       "\\item 0.0637897592037916\n",
       "\\end{enumerate*}\n",
       "\n",
       "\\end{enumerate}\n"
      ],
      "text/markdown": [
       "1. 1. 9.9372963313387\n",
       "2. 11.1125670710877\n",
       "3. 9.52638765020734\n",
       "4. 11.3039519605474\n",
       "5. 8.80239331763463\n",
       "\n",
       "\n",
       "\n",
       "2. 1. 1.26121522160247\n",
       "2. 3.3666741324123\n",
       "3. 0.312294124159962\n",
       "4. 4.67847471823916\n",
       "5. 1.56589193618856\n",
       "\n",
       "\n",
       "\n",
       "3. 1. 0.131169307045639\n",
       "2. 0.129616042692214\n",
       "3. 0.140276245019379\n",
       "4. 0.260216258271577\n",
       "5. 0.0637897592037916\n",
       "\n",
       "\n",
       "\n",
       "\n",
       "\n"
      ],
      "text/plain": [
       "[[1]]\n",
       "[1]  9.937296 11.112567  9.526388 11.303952  8.802393\n",
       "\n",
       "[[2]]\n",
       "[1] 1.2612152 3.3666741 0.3122941 4.6784747 1.5658919\n",
       "\n",
       "[[3]]\n",
       "[1] 0.13116931 0.12961604 0.14027625 0.26021626 0.06378976\n"
      ]
     },
     "metadata": {},
     "output_type": "display_data"
    }
   ],
   "source": [
    "# Define list of functions\n",
    "f <- list(\"rnorm\", \"runif\", \"rexp\")\n",
    "\n",
    "# Parameter list for rnorm()\n",
    "rnorm_params <- list(mean = 10)\n",
    "\n",
    "# Add a min element with value 0 and max element with value 5\n",
    "runif_params <- list(min = 0, max = 5)\n",
    "\n",
    "# Add a rate element with value 5\n",
    "rexp_params <- list(rate = 5)\n",
    "\n",
    "# Define params for each function\n",
    "params <- list(\n",
    "  rnorm_params,\n",
    "  runif_params,\n",
    "  rexp_params\n",
    ")\n",
    "\n",
    "# Call invoke_map() on f supplying params as the second argument\n",
    "invoke_map(f, params, n = 5)"
   ]
  },
  {
   "cell_type": "markdown",
   "metadata": {},
   "source": [
    "## MAP WITH SIDE EFFECTS: WALK"
   ]
  },
  {
   "cell_type": "markdown",
   "metadata": {},
   "source": [
    "Side effects = printing, plotting or saving."
   ]
  },
  {
   "cell_type": "code",
   "execution_count": 9,
   "metadata": {
    "scrolled": false
   },
   "outputs": [
    {
     "data": {
      "image/png": "[encoded data removed]",
      "text/plain": [
       "Plot with title \"Histogram of .x[[i]]\""
      ]
     },
     "metadata": {},
     "output_type": "display_data"
    },
    {
     "data": {
      "image/png": "[encoded data removed]",
      "text/plain": [
       "Plot with title \"Histogram of .x[[i]]\""
      ]
     },
     "metadata": {},
     "output_type": "display_data"
    },
    {
     "data": {
      "image/png": "[encoded data removed]",
      "text/plain": [
       "Plot with title \"Histogram of .x[[i]]\""
      ]
     },
     "metadata": {},
     "output_type": "display_data"
    }
   ],
   "source": [
    "# Define list of functions\n",
    "f <- list(Normal = \"rnorm\", Uniform = \"runif\", Exp = \"rexp\")\n",
    "\n",
    "# Define params\n",
    "params <- list(\n",
    "  Normal = list(mean = 10),\n",
    "  Uniform = list(min = 0, max = 5),\n",
    "  Exp = list(rate = 5)\n",
    ")\n",
    "\n",
    "# Assign the simulated samples to sims\n",
    "sims <- invoke_map(f, params, n = 50)\n",
    "\n",
    "# Use walk() to make a histogram of each element in sims\n",
    "walk(sims, hist)\n",
    "\n",
    "# Replace \"Sturges\" with reasonable breaks for each sample\n",
    "breaks_list <- list(\n",
    "  Normal = seq(6, 16, 0.5),\n",
    "  Uniform = seq(0, 5, 0.25),\n",
    "  Exp = seq(0, 1.5, 0.1)\n",
    ")"
   ]
  },
  {
   "cell_type": "markdown",
   "metadata": {},
   "source": [
    "## WALK WITH 2 ARGUMENTS"
   ]
  },
  {
   "cell_type": "code",
   "execution_count": 10,
   "metadata": {
    "scrolled": false
   },
   "outputs": [
    {
     "data": {
      "image/png": "[encoded data removed]",
      "text/plain": [
       "Plot with title \"Histogram of c(7.85670575289449, 10.5871089389025, 10.2840683432585, 9.75349934031285, 9.93207972564372, 10.6034948611041, 8.82329415368829, 9.01329170802851, 11.4430346201142, 9.58302217598789, 10.1405070716247, 9.65596927342916, 10.5412789310783, 8.45639733274903, 8.33054038286176, 9.72342472275334, 10.3538411623068, 12.3064458036699, 10.7764355267125, 10.4032215286862, 9.55078978665922, 10.2872586776793, 9.59849659614993, 10.5253606673968, 9.47750413437118, 11.6048607597386, 8.37963528216938, 11.1751226244439, \n",
       "9.8255717918432, 9.73365472812577, 9.59324338172464, 9.82554225198281, 11.0793244252679, 10.8694813097854, 10.0560501259005, 11.3454095367108, 10.5976997373554, 8.70790100395964, 10.8208630033218, 9.35243926682326, 8.6845025113754, 10.5587714881637, 9.32774341229419, 9.90835168975265, 8.8725846747069, 9.73514375136442, 7.71028160556628, 9.91115372725042, 9.83679487022282, 9.95301078569533)\""
      ]
     },
     "metadata": {},
     "output_type": "display_data"
    },
    {
     "data": {
      "image/png": "[encoded data removed]",
      "text/plain": [
       "Plot with title \"Histogram of c(4.74352286662906, 3.21871000807732, 3.47274200408719, 3.86490923934616, 3.20938016986474, 2.32348449993879, 4.14410148398019, 0.816118926741183, 1.83533084345981, 0.935974699677899, 4.51453049317934, 1.2653394730296, 0.283246855251491, 0.933634412940592, 3.98985793581232, 0.207449480658397, 4.70924118766561, 0.292131727328524, 3.61688382341526, 3.75358916353434, 1.60096038249321, 1.88355255872011, 1.56604386284016, 3.94506760989316, 2.52609913470224, 0.214854007354006, 2.74783173110336, 1.84767642291263, \n",
       "4.67634992906824, 3.43141248566099, 4.38741135993041, 4.53637407626957, 1.74695588066243, 2.49290680978447, 0.630650754319504, 1.64768147049472, 2.5773506576661, 1.40799710876308, 4.6870040113572, 0.611531082540751, 3.03088780143298, 0.315838652895764, 0.985805242089555, 3.56385677936487, 4.82129278825596, 0.0440027948934585, 1.76961017190479, 3.26021766639315, 3.43250310281292, 1.63115097093396)\""
      ]
     },
     "metadata": {},
     "output_type": "display_data"
    },
    {
     "data": {
      "image/png": "[encoded data removed]",
      "text/plain": [
       "Plot with title \"Histogram of c(0.117565123178065, 0.139570676211348, 0.767456687572313, 0.119466699752957, 0.0653473872230022, 0.0308642484100644, 0.141121498114409, 0.091443540511126, 0.7104820433812, 0.201429011291804, 0.0153186940588057, 0.196631932995262, 0.482038966913648, 0.12426982074976, 0.276480347095969, 0.160792457676473, 0.128590423054993, 0.162242720267715, 0.0265839427709579, 0.53204420765204, 0.201590905330124, 0.239714943609181, 0.12839667731896, 0.695464910152269, 0.240399404606762, 0.213361179075184, 0.0758828711695969, \n",
       "0.148572576596382, 0.261234157710316, 0.0306246162392199, 0.264900181247833, 0.284488259187462, 0.311378274257134, 0.168407637245002, 0.260695479243043, 0.192036932745518, 0.605314017798672, 0.09648256263934, 0.122706310357898, 0.000405329279601574, 0.251741229734364, 0.213664349346402, 0.501254472483821, 0.292304960621481, 0.380446583760862, 0.119915486406535, 0.231092199302259, 0.0671998119913042, 0.182738268274248, 0.179782989253402)\""
      ]
     },
     "metadata": {},
     "output_type": "display_data"
    }
   ],
   "source": [
    "# Use walk2() to make histograms with the right breaks\n",
    "walk2(sims, breaks_list, hist)"
   ]
  },
  {
   "cell_type": "markdown",
   "metadata": {},
   "source": [
    "## WALK AND MAP"
   ]
  },
  {
   "cell_type": "markdown",
   "metadata": {},
   "source": [
    "Generate reasonable breaks based on actual values in samples"
   ]
  },
  {
   "cell_type": "code",
   "execution_count": 11,
   "metadata": {
    "scrolled": false
   },
   "outputs": [
    {
     "data": {
      "text/html": [
       "<ol class=list-inline>\n",
       "\t<li>7.71028160556628</li>\n",
       "\t<li>7.86877002619055</li>\n",
       "\t<li>8.02725844681481</li>\n",
       "\t<li>8.18574686743907</li>\n",
       "\t<li>8.34423528806334</li>\n",
       "\t<li>8.5027237086876</li>\n",
       "\t<li>8.66121212931187</li>\n",
       "\t<li>8.81970054993613</li>\n",
       "\t<li>8.97818897056039</li>\n",
       "\t<li>9.13667739118466</li>\n",
       "\t<li>9.29516581180892</li>\n",
       "\t<li>9.45365423243318</li>\n",
       "\t<li>9.61214265305745</li>\n",
       "\t<li>9.77063107368171</li>\n",
       "\t<li>9.92911949430598</li>\n",
       "\t<li>10.0876079149302</li>\n",
       "\t<li>10.2460963355545</li>\n",
       "\t<li>10.4045847561788</li>\n",
       "\t<li>10.563073176803</li>\n",
       "\t<li>10.7215615974273</li>\n",
       "\t<li>10.8800500180516</li>\n",
       "\t<li>11.0385384386758</li>\n",
       "\t<li>11.1970268593001</li>\n",
       "\t<li>11.3555152799244</li>\n",
       "\t<li>11.5140037005486</li>\n",
       "\t<li>11.6724921211729</li>\n",
       "\t<li>11.8309805417971</li>\n",
       "\t<li>11.9894689624214</li>\n",
       "\t<li>12.1479573830457</li>\n",
       "\t<li>12.3064458036699</li>\n",
       "</ol>\n"
      ],
      "text/latex": [
       "\\begin{enumerate*}\n",
       "\\item 7.71028160556628\n",
       "\\item 7.86877002619055\n",
       "\\item 8.02725844681481\n",
       "\\item 8.18574686743907\n",
       "\\item 8.34423528806334\n",
       "\\item 8.5027237086876\n",
       "\\item 8.66121212931187\n",
       "\\item 8.81970054993613\n",
       "\\item 8.97818897056039\n",
       "\\item 9.13667739118466\n",
       "\\item 9.29516581180892\n",
       "\\item 9.45365423243318\n",
       "\\item 9.61214265305745\n",
       "\\item 9.77063107368171\n",
       "\\item 9.92911949430598\n",
       "\\item 10.0876079149302\n",
       "\\item 10.2460963355545\n",
       "\\item 10.4045847561788\n",
       "\\item 10.563073176803\n",
       "\\item 10.7215615974273\n",
       "\\item 10.8800500180516\n",
       "\\item 11.0385384386758\n",
       "\\item 11.1970268593001\n",
       "\\item 11.3555152799244\n",
       "\\item 11.5140037005486\n",
       "\\item 11.6724921211729\n",
       "\\item 11.8309805417971\n",
       "\\item 11.9894689624214\n",
       "\\item 12.1479573830457\n",
       "\\item 12.3064458036699\n",
       "\\end{enumerate*}\n"
      ],
      "text/markdown": [
       "1. 7.71028160556628\n",
       "2. 7.86877002619055\n",
       "3. 8.02725844681481\n",
       "4. 8.18574686743907\n",
       "5. 8.34423528806334\n",
       "6. 8.5027237086876\n",
       "7. 8.66121212931187\n",
       "8. 8.81970054993613\n",
       "9. 8.97818897056039\n",
       "10. 9.13667739118466\n",
       "11. 9.29516581180892\n",
       "12. 9.45365423243318\n",
       "13. 9.61214265305745\n",
       "14. 9.77063107368171\n",
       "15. 9.92911949430598\n",
       "16. 10.0876079149302\n",
       "17. 10.2460963355545\n",
       "18. 10.4045847561788\n",
       "19. 10.563073176803\n",
       "20. 10.7215615974273\n",
       "21. 10.8800500180516\n",
       "22. 11.0385384386758\n",
       "23. 11.1970268593001\n",
       "24. 11.3555152799244\n",
       "25. 11.5140037005486\n",
       "26. 11.6724921211729\n",
       "27. 11.8309805417971\n",
       "28. 11.9894689624214\n",
       "29. 12.1479573830457\n",
       "30. 12.3064458036699\n",
       "\n",
       "\n"
      ],
      "text/plain": [
       " [1]  7.710282  7.868770  8.027258  8.185747  8.344235  8.502724  8.661212\n",
       " [8]  8.819701  8.978189  9.136677  9.295166  9.453654  9.612143  9.770631\n",
       "[15]  9.929119 10.087608 10.246096 10.404585 10.563073 10.721562 10.880050\n",
       "[22] 11.038538 11.197027 11.355515 11.514004 11.672492 11.830981 11.989469\n",
       "[29] 12.147957 12.306446"
      ]
     },
     "metadata": {},
     "output_type": "display_data"
    },
    {
     "data": {
      "image/png": "[encoded data removed]",
      "text/plain": [
       "Plot with title \"Histogram of c(7.85670575289449, 10.5871089389025, 10.2840683432585, 9.75349934031285, 9.93207972564372, 10.6034948611041, 8.82329415368829, 9.01329170802851, 11.4430346201142, 9.58302217598789, 10.1405070716247, 9.65596927342916, 10.5412789310783, 8.45639733274903, 8.33054038286176, 9.72342472275334, 10.3538411623068, 12.3064458036699, 10.7764355267125, 10.4032215286862, 9.55078978665922, 10.2872586776793, 9.59849659614993, 10.5253606673968, 9.47750413437118, 11.6048607597386, 8.37963528216938, 11.1751226244439, \n",
       "9.8255717918432, 9.73365472812577, 9.59324338172464, 9.82554225198281, 11.0793244252679, 10.8694813097854, 10.0560501259005, 11.3454095367108, 10.5976997373554, 8.70790100395964, 10.8208630033218, 9.35243926682326, 8.6845025113754, 10.5587714881637, 9.32774341229419, 9.90835168975265, 8.8725846747069, 9.73514375136442, 7.71028160556628, 9.91115372725042, 9.83679487022282, 9.95301078569533)\""
      ]
     },
     "metadata": {},
     "output_type": "display_data"
    },
    {
     "data": {
      "image/png": "[encoded data removed]",
      "text/plain": [
       "Plot with title \"Histogram of c(4.74352286662906, 3.21871000807732, 3.47274200408719, 3.86490923934616, 3.20938016986474, 2.32348449993879, 4.14410148398019, 0.816118926741183, 1.83533084345981, 0.935974699677899, 4.51453049317934, 1.2653394730296, 0.283246855251491, 0.933634412940592, 3.98985793581232, 0.207449480658397, 4.70924118766561, 0.292131727328524, 3.61688382341526, 3.75358916353434, 1.60096038249321, 1.88355255872011, 1.56604386284016, 3.94506760989316, 2.52609913470224, 0.214854007354006, 2.74783173110336, 1.84767642291263, \n",
       "4.67634992906824, 3.43141248566099, 4.38741135993041, 4.53637407626957, 1.74695588066243, 2.49290680978447, 0.630650754319504, 1.64768147049472, 2.5773506576661, 1.40799710876308, 4.6870040113572, 0.611531082540751, 3.03088780143298, 0.315838652895764, 0.985805242089555, 3.56385677936487, 4.82129278825596, 0.0440027948934585, 1.76961017190479, 3.26021766639315, 3.43250310281292, 1.63115097093396)\""
      ]
     },
     "metadata": {},
     "output_type": "display_data"
    },
    {
     "data": {
      "image/png": "[encoded data removed]",
      "text/plain": [
       "Plot with title \"Histogram of c(0.117565123178065, 0.139570676211348, 0.767456687572313, 0.119466699752957, 0.0653473872230022, 0.0308642484100644, 0.141121498114409, 0.091443540511126, 0.7104820433812, 0.201429011291804, 0.0153186940588057, 0.196631932995262, 0.482038966913648, 0.12426982074976, 0.276480347095969, 0.160792457676473, 0.128590423054993, 0.162242720267715, 0.0265839427709579, 0.53204420765204, 0.201590905330124, 0.239714943609181, 0.12839667731896, 0.695464910152269, 0.240399404606762, 0.213361179075184, 0.0758828711695969, \n",
       "0.148572576596382, 0.261234157710316, 0.0306246162392199, 0.264900181247833, 0.284488259187462, 0.311378274257134, 0.168407637245002, 0.260695479243043, 0.192036932745518, 0.605314017798672, 0.09648256263934, 0.122706310357898, 0.000405329279601574, 0.251741229734364, 0.213664349346402, 0.501254472483821, 0.292304960621481, 0.380446583760862, 0.119915486406535, 0.231092199302259, 0.0671998119913042, 0.182738268274248, 0.179782989253402)\""
      ]
     },
     "metadata": {},
     "output_type": "display_data"
    }
   ],
   "source": [
    "# Turn this snippet into find_breaks()\n",
    "find_breaks <- function(x) {\n",
    "  rng <- range(x, na.rm = TRUE)\n",
    "  seq(rng[1], rng[2], length.out = 30)\n",
    "}\n",
    "\n",
    "# Call find_breaks() on sims[[1]]\n",
    "find_breaks(sims[[1]])\n",
    "\n",
    "# Use map() to iterate find_breaks() over sims: nice_breaks\n",
    "nice_breaks <- map(sims, find_breaks)\n",
    "\n",
    "# Use nice_breaks as the second argument to walk2()\n",
    "walk2(sims, nice_breaks, hist)"
   ]
  },
  {
   "cell_type": "markdown",
   "metadata": {},
   "source": [
    "## WALK WITH MANY ARGUMENTS"
   ]
  },
  {
   "cell_type": "code",
   "execution_count": 12,
   "metadata": {
    "scrolled": false
   },
   "outputs": [
    {
     "data": {
      "image/png": "[encoded data removed]",
      "text/plain": [
       "Plot with title \"Normal(10, 1)\""
      ]
     },
     "metadata": {},
     "output_type": "display_data"
    },
    {
     "data": {
      "image/png": "[encoded data removed]",
      "text/plain": [
       "Plot with title \"Uniform(0, 5)\""
      ]
     },
     "metadata": {},
     "output_type": "display_data"
    },
    {
     "data": {
      "image/png": "[encoded data removed]",
      "text/plain": [
       "Plot with title \"Exp(5)\""
      ]
     },
     "metadata": {},
     "output_type": "display_data"
    }
   ],
   "source": [
    "# Increase sample size to 1000\n",
    "sims <- invoke_map(f, params, n = 1000)\n",
    "\n",
    "# Compute nice_breaks (don't change this)\n",
    "nice_breaks <- map(sims, find_breaks)\n",
    "\n",
    "# Create a vector nice_titles\n",
    "nice_titles <- list(\"Normal(10, 1)\", \"Uniform(0, 5)\", \"Exp(5)\")\n",
    "\n",
    "# Use pwalk() instead of walk2()\n",
    "pwalk(list(x = sims, breaks = nice_breaks, main = nice_titles), hist, xlab = \"\")"
   ]
  },
  {
   "cell_type": "markdown",
   "metadata": {},
   "source": [
    "## WALK WITH PIPE"
   ]
  },
  {
   "cell_type": "code",
   "execution_count": 13,
   "metadata": {
    "scrolled": false
   },
   "outputs": [
    {
     "data": {
      "image/png": "[encoded data removed]",
      "text/plain": [
       "Plot with title \"Histogram of .x[[i]]\""
      ]
     },
     "metadata": {},
     "output_type": "display_data"
    },
    {
     "data": {
      "image/png": "[encoded data removed]",
      "text/plain": [
       "Plot with title \"Histogram of .x[[i]]\""
      ]
     },
     "metadata": {},
     "output_type": "display_data"
    },
    {
     "data": {
      "text/plain": [
       "$Normal\n",
       "   Min. 1st Qu.  Median    Mean 3rd Qu.    Max. \n",
       "  6.843   9.348  10.010  10.004  10.673  13.538 \n",
       "\n",
       "$Uniform\n",
       "    Min.  1st Qu.   Median     Mean  3rd Qu.     Max. \n",
       "0.002949 1.232319 2.392078 2.446869 3.679787 4.992590 \n",
       "\n",
       "$Exp\n",
       "     Min.   1st Qu.    Median      Mean   3rd Qu.      Max. \n",
       "0.0005266 0.0616437 0.1419303 0.2040964 0.2849255 1.4587806 \n"
      ]
     },
     "metadata": {},
     "output_type": "display_data"
    },
    {
     "data": {
      "image/png": "[encoded data removed]",
      "text/plain": [
       "Plot with title \"Histogram of .x[[i]]\""
      ]
     },
     "metadata": {},
     "output_type": "display_data"
    },
    {
     "data": {
      "image/png": "[encoded data removed]",
      "text/plain": [
       "Plot with title \"Histogram of .x[[i]]\""
      ]
     },
     "metadata": {},
     "output_type": "display_data"
    },
    {
     "data": {
      "image/png": "[encoded data removed]",
      "text/plain": [
       "Plot with title \"Histogram of .x[[i]]\""
      ]
     },
     "metadata": {},
     "output_type": "display_data"
    },
    {
     "name": "stdout",
     "output_type": "stream",
     "text": [
      "List of 3\n",
      " $ Normal : num [1:1000] 9.59 8.07 9.72 8.75 8.62 ...\n",
      " $ Uniform: num [1:1000] 4.0613 0.0752 2.5007 3.3546 2.701 ...\n",
      " $ Exp    : num [1:1000] 0.00357 0.24574 0.14121 0.17272 0.12899 ...\n"
     ]
    },
    {
     "data": {
      "image/png": "[encoded data removed]",
      "text/plain": [
       "Plot with title \"Histogram of .x[[i]]\""
      ]
     },
     "metadata": {},
     "output_type": "display_data"
    }
   ],
   "source": [
    "# Pipe this along to map(), using summary() as .f\n",
    "sims %>%\n",
    "  walk(hist) %>%\n",
    "  map(summary)\n",
    "\n",
    "# Structure of walk is the original sims object\n",
    "str(sims %>% walk(hist))"
   ]
  }
 ],
 "metadata": {
  "kernelspec": {
   "display_name": "R",
   "language": "R",
   "name": "ir"
  },
  "language_info": {
   "codemirror_mode": "r",
   "file_extension": ".r",
   "mimetype": "text/x-r-source",
   "name": "R",
   "pygments_lexer": "r",
   "version": "3.5.1"
  }
 },
 "nbformat": 4,
 "nbformat_minor": 2
}
