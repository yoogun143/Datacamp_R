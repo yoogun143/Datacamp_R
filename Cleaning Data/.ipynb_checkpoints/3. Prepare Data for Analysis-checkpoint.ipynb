{
 "cells": [
  {
   "cell_type": "markdown",
   "metadata": {
    "toc": true
   },
   "source": [
    "<h1>Table of Contents<span class=\"tocSkip\"></span></h1>\n",
    "<div class=\"toc\"><ul class=\"toc-item\"><li><span><a href=\"#TYPE-CONVERSION\" data-toc-modified-id=\"TYPE-CONVERSION-1\"><span class=\"toc-item-num\">1&nbsp;&nbsp;</span>TYPE CONVERSION</a></span></li><li><span><a href=\"#WORKING-WITH-DATES\" data-toc-modified-id=\"WORKING-WITH-DATES-2\"><span class=\"toc-item-num\">2&nbsp;&nbsp;</span>WORKING WITH DATES</a></span></li><li><span><a href=\"#STRING-MANIPULATION\" data-toc-modified-id=\"STRING-MANIPULATION-3\"><span class=\"toc-item-num\">3&nbsp;&nbsp;</span>STRING MANIPULATION</a></span></li><li><span><a href=\"#MISSING-VALUES\" data-toc-modified-id=\"MISSING-VALUES-4\"><span class=\"toc-item-num\">4&nbsp;&nbsp;</span>MISSING VALUES</a></span></li><li><span><a href=\"#OUTLIERS-AND-OBVIOUS-ERRORS\" data-toc-modified-id=\"OUTLIERS-AND-OBVIOUS-ERRORS-5\"><span class=\"toc-item-num\">5&nbsp;&nbsp;</span>OUTLIERS AND OBVIOUS ERRORS</a></span></li></ul></div>"
   ]
  },
  {
   "cell_type": "code",
   "execution_count": 1,
   "metadata": {},
   "outputs": [],
   "source": [
    "students <- read.csv(\"students_with_dates.csv\")"
   ]
  },
  {
   "cell_type": "markdown",
   "metadata": {},
   "source": [
    "## TYPE CONVERSION"
   ]
  },
  {
   "cell_type": "code",
   "execution_count": 2,
   "metadata": {},
   "outputs": [
    {
     "name": "stdout",
     "output_type": "stream",
     "text": [
      "'data.frame':\t395 obs. of  33 variables:\n",
      " $ X          : int  1 2 3 4 5 6 7 8 9 10 ...\n",
      " $ school     : Factor w/ 2 levels \"GP\",\"MS\": 1 1 1 1 1 1 1 1 1 1 ...\n",
      " $ sex        : Factor w/ 3 levels \"\",\"F\",\"M\": 2 2 2 2 2 3 3 2 3 3 ...\n",
      " $ dob        : Factor w/ 344 levels \"\",\"1/1/1997\",..: 254 70 126 96 46 234 328 285 155 153 ...\n",
      " $ address    : Factor w/ 3 levels \"\",\"R\",\"U\": 3 3 3 3 3 3 3 3 3 3 ...\n",
      " $ famsize    : Factor w/ 3 levels \"\",\"GT3\",\"LE3\": 2 2 3 2 2 3 3 2 3 2 ...\n",
      " $ Pstatus    : Factor w/ 3 levels \"\",\"A\",\"T\": 2 3 3 3 3 3 3 2 2 3 ...\n",
      " $ Medu       : int  4 1 1 4 3 4 2 4 3 3 ...\n",
      " $ Fedu       : int  4 1 1 2 3 3 2 4 2 4 ...\n",
      " $ Mjob       : Factor w/ 10 levels \"\",\" \",\"   services\",..: 4 4 4 5 6 8 6 6 8 6 ...\n",
      " $ Fjob       : Factor w/ 6 levels \"\",\"at_home\",\"health\",..: 6 4 4 5 4 4 4 6 4 4 ...\n",
      " $ reason     : Factor w/ 5 levels \"\",\"course\",\"home\",..: 2 2 4 3 3 5 3 3 3 3 ...\n",
      " $ guardian   : Factor w/ 4 levels \"\",\"father\",\"mother\",..: 3 2 3 3 2 3 3 3 3 3 ...\n",
      " $ traveltime : int  2 1 1 1 1 1 1 2 1 1 ...\n",
      " $ studytime  : int  2 2 2 3 2 2 2 2 2 2 ...\n",
      " $ failures   : int  0 0 3 0 0 0 0 0 0 0 ...\n",
      " $ schoolsup  : Factor w/ 2 levels \"no\",\"yes\": 2 1 2 1 1 1 1 2 1 1 ...\n",
      " $ famsup     : Factor w/ 2 levels \"no\",\"yes\": 1 2 1 2 2 2 1 2 2 2 ...\n",
      " $ paid       : Factor w/ 3 levels \"\",\"no\",\"yes\": 2 2 3 3 3 3 2 2 3 3 ...\n",
      " $ activities : Factor w/ 3 levels \"\",\"no\",\"yes\": 2 2 2 3 2 3 2 2 2 3 ...\n",
      " $ nursery    : Factor w/ 3 levels \"\",\"no\",\"yes\": 3 2 3 3 3 3 3 3 3 3 ...\n",
      " $ higher     : Factor w/ 3 levels \"\",\"no\",\"yes\": 3 3 3 3 3 3 3 3 3 3 ...\n",
      " $ internet   : Factor w/ 3 levels \"\",\"no\",\"yes\": 2 3 3 3 2 3 3 2 3 3 ...\n",
      " $ romantic   : Factor w/ 2 levels \"no\",\"yes\": 1 1 1 2 1 1 1 1 1 1 ...\n",
      " $ famrel     : int  4 5 4 3 4 5 4 4 4 5 ...\n",
      " $ freetime   : int  3 3 3 2 3 4 4 1 2 5 ...\n",
      " $ goout      : int  4 3 2 NA 2 2 4 4 2 1 ...\n",
      " $ Dalc       : int  1 1 2 1 1 1 1 1 1 1 ...\n",
      " $ Walc       : int  1 1 3 1 2 2 1 1 1 1 ...\n",
      " $ health     : int  3 3 3 5 5 5 3 1 1 5 ...\n",
      " $ nurse_visit: Factor w/ 312 levels \"1/1/2014 14:59\",..: 154 129 296 305 173 44 295 101 156 93 ...\n",
      " $ absences   : int  6 4 10 2 4 10 0 6 0 0 ...\n",
      " $ Grades     : Factor w/ 197 levels \"10/0/0\",\"10/10/2000\",..: 124 123 156 86 128 88 46 131 104 77 ...\n"
     ]
    }
   ],
   "source": [
    "# Preview students with str()\n",
    "str(students)"
   ]
  },
  {
   "cell_type": "code",
   "execution_count": 3,
   "metadata": {},
   "outputs": [
    {
     "name": "stdout",
     "output_type": "stream",
     "text": [
      "'data.frame':\t395 obs. of  3 variables:\n",
      " $ Grades: Factor w/ 197 levels \"10/0/0\",\"10/10/2000\",..: 124 123 156 86 128 88 46 131 104 77 ...\n",
      " $ Medu  : int  4 1 1 4 3 4 2 4 3 3 ...\n",
      " $ Fedu  : int  4 1 1 2 3 3 2 4 2 4 ...\n"
     ]
    }
   ],
   "source": [
    "# Preview students with str() of interest\n",
    "str(students[,c('Grades','Medu','Fedu')])"
   ]
  },
  {
   "cell_type": "code",
   "execution_count": 4,
   "metadata": {},
   "outputs": [],
   "source": [
    "# Coerce Grades to character\n",
    "students$Grades <- as.character(students$Grades)\n",
    "\n",
    "# Coerce Medu to factor\n",
    "students$Medu <- as.factor(students$Medu)\n",
    "\n",
    "# Coerce Fedu to factor\n",
    "students$Fedu <- as.factor(students$Fedu)"
   ]
  },
  {
   "cell_type": "code",
   "execution_count": 5,
   "metadata": {},
   "outputs": [
    {
     "name": "stdout",
     "output_type": "stream",
     "text": [
      "'data.frame':\t395 obs. of  3 variables:\n",
      " $ Grades: chr  \"5/6/2006\" \"5/5/2006\" \"7/8/2010\" \"15/14/15\" ...\n",
      " $ Medu  : Factor w/ 5 levels \"0\",\"1\",\"2\",\"3\",..: 5 2 2 5 4 5 3 5 4 4 ...\n",
      " $ Fedu  : Factor w/ 5 levels \"0\",\"1\",\"2\",\"3\",..: 5 2 2 3 4 4 3 5 3 5 ...\n"
     ]
    }
   ],
   "source": [
    "# Look at students once more with str()\n",
    "str(students[,c('Grades','Medu','Fedu')])"
   ]
  },
  {
   "cell_type": "markdown",
   "metadata": {},
   "source": [
    "## WORKING WITH DATES"
   ]
  },
  {
   "cell_type": "code",
   "execution_count": 6,
   "metadata": {},
   "outputs": [
    {
     "name": "stdout",
     "output_type": "stream",
     "text": [
      "'data.frame':\t395 obs. of  2 variables:\n",
      " $ dob        : Factor w/ 344 levels \"\",\"1/1/1997\",..: 254 70 126 96 46 234 328 285 155 153 ...\n",
      " $ nurse_visit: Factor w/ 312 levels \"1/1/2014 14:59\",..: 154 129 296 305 173 44 295 101 156 93 ...\n"
     ]
    }
   ],
   "source": [
    "# Preview students with str() of interest\n",
    "str(students[,c('dob','nurse_visit')])"
   ]
  },
  {
   "cell_type": "code",
   "execution_count": 7,
   "metadata": {},
   "outputs": [
    {
     "name": "stderr",
     "output_type": "stream",
     "text": [
      "Warning message:\n",
      "\"package 'lubridate' was built under R version 3.5.2\"\n",
      "Attaching package: 'lubridate'\n",
      "\n",
      "The following object is masked from 'package:base':\n",
      "\n",
      "    date\n",
      "\n"
     ]
    },
    {
     "data": {
      "text/html": [
       "<time datetime=\"2015-09-17\">2015-09-17</time>"
      ],
      "text/latex": [
       "2015-09-17"
      ],
      "text/markdown": [
       "2015-09-17"
      ],
      "text/plain": [
       "[1] \"2015-09-17\""
      ]
     },
     "metadata": {},
     "output_type": "display_data"
    }
   ],
   "source": [
    "# Load the lubridate package\n",
    "library(lubridate)\n",
    "\n",
    "# Parse as date\n",
    "dmy(\"17 Sep 2015\")"
   ]
  },
  {
   "cell_type": "code",
   "execution_count": 8,
   "metadata": {},
   "outputs": [
    {
     "data": {
      "text/plain": [
       "[1] \"2012-07-15 12:56:00 UTC\""
      ]
     },
     "metadata": {},
     "output_type": "display_data"
    }
   ],
   "source": [
    "# Parse as date and time (with no seconds!)\n",
    "mdy_hm(\"July 15, 2012 12:56\")"
   ]
  },
  {
   "cell_type": "code",
   "execution_count": 9,
   "metadata": {},
   "outputs": [],
   "source": [
    "# Coerce dob to a date (with no time)\n",
    "students$dob <- mdy(students$dob)\n",
    "\n",
    "# Coerce nurse_visit to a date and time\n",
    "students$nurse_visit <- mdy_hms(students$nurse_visit)"
   ]
  },
  {
   "cell_type": "code",
   "execution_count": 10,
   "metadata": {},
   "outputs": [
    {
     "name": "stdout",
     "output_type": "stream",
     "text": [
      "'data.frame':\t395 obs. of  2 variables:\n",
      " $ dob        : Date, format: \"2000-06-05\" \"1999-11-25\" ...\n",
      " $ nurse_visit: POSIXct, format: \"2020-04-10 14:14:59\" \"2020-03-12 15:14:59\" ...\n"
     ]
    }
   ],
   "source": [
    "# Preview students with str() of interest\n",
    "str(students[,c('dob','nurse_visit')])"
   ]
  },
  {
   "cell_type": "markdown",
   "metadata": {},
   "source": [
    "## STRING MANIPULATION"
   ]
  },
  {
   "cell_type": "code",
   "execution_count": 11,
   "metadata": {},
   "outputs": [
    {
     "data": {
      "text/html": [
       "<ol class=list-inline>\n",
       "\t<li>'Filip'</li>\n",
       "\t<li>'Nick'</li>\n",
       "\t<li>'Jonathan'</li>\n",
       "</ol>\n"
      ],
      "text/latex": [
       "\\begin{enumerate*}\n",
       "\\item 'Filip'\n",
       "\\item 'Nick'\n",
       "\\item 'Jonathan'\n",
       "\\end{enumerate*}\n"
      ],
      "text/markdown": [
       "1. 'Filip'\n",
       "2. 'Nick'\n",
       "3. 'Jonathan'\n",
       "\n",
       "\n"
      ],
      "text/plain": [
       "[1] \"Filip\"    \"Nick\"     \"Jonathan\""
      ]
     },
     "metadata": {},
     "output_type": "display_data"
    }
   ],
   "source": [
    "# Load the stringr package\n",
    "library(stringr)\n",
    "\n",
    "# Trim all leading and trailing whitespace\n",
    "str_trim(c(\"   Filip \", \"Nick  \", \" Jonathan\"))"
   ]
  },
  {
   "cell_type": "code",
   "execution_count": 12,
   "metadata": {},
   "outputs": [
    {
     "data": {
      "text/html": [
       "<ol class=list-inline>\n",
       "\t<li>'00023485W'</li>\n",
       "\t<li>'08823453Q'</li>\n",
       "\t<li>'00000994Z'</li>\n",
       "</ol>\n"
      ],
      "text/latex": [
       "\\begin{enumerate*}\n",
       "\\item '00023485W'\n",
       "\\item '08823453Q'\n",
       "\\item '00000994Z'\n",
       "\\end{enumerate*}\n"
      ],
      "text/markdown": [
       "1. '00023485W'\n",
       "2. '08823453Q'\n",
       "3. '00000994Z'\n",
       "\n",
       "\n"
      ],
      "text/plain": [
       "[1] \"00023485W\" \"08823453Q\" \"00000994Z\""
      ]
     },
     "metadata": {},
     "output_type": "display_data"
    }
   ],
   "source": [
    "# Pad these strings with leading zeros\n",
    "str_pad(c(\"23485W\", \"8823453Q\", \"994Z\"), width = 9, side = \"left\", pad = \"0\")"
   ]
  },
  {
   "cell_type": "code",
   "execution_count": 13,
   "metadata": {},
   "outputs": [
    {
     "data": {
      "text/html": [
       "'STATES'"
      ],
      "text/latex": [
       "'STATES'"
      ],
      "text/markdown": [
       "'STATES'"
      ],
      "text/plain": [
       "[1] \"STATES\""
      ]
     },
     "metadata": {},
     "output_type": "display_data"
    }
   ],
   "source": [
    "# Make states all uppercase and save result to states_upper\n",
    "states_upper <- toupper('states')\n",
    "states_upper"
   ]
  },
  {
   "cell_type": "code",
   "execution_count": 14,
   "metadata": {},
   "outputs": [
    {
     "data": {
      "text/html": [
       "'states'"
      ],
      "text/latex": [
       "'states'"
      ],
      "text/markdown": [
       "'states'"
      ],
      "text/plain": [
       "[1] \"states\""
      ]
     },
     "metadata": {},
     "output_type": "display_data"
    }
   ],
   "source": [
    "# Make states_upper all lowercase again\n",
    "tolower(states_upper)"
   ]
  },
  {
   "cell_type": "code",
   "execution_count": 15,
   "metadata": {},
   "outputs": [
    {
     "data": {
      "text/html": [
       "<table>\n",
       "<thead><tr><th scope=col>X</th><th scope=col>school</th><th scope=col>sex</th><th scope=col>dob</th><th scope=col>address</th><th scope=col>famsize</th><th scope=col>Pstatus</th><th scope=col>Medu</th><th scope=col>Fedu</th><th scope=col>Mjob</th><th scope=col>...</th><th scope=col>romantic</th><th scope=col>famrel</th><th scope=col>freetime</th><th scope=col>goout</th><th scope=col>Dalc</th><th scope=col>Walc</th><th scope=col>health</th><th scope=col>nurse_visit</th><th scope=col>absences</th><th scope=col>Grades</th></tr></thead>\n",
       "<tbody>\n",
       "\t<tr><td>1                  </td><td>GP                 </td><td>F                  </td><td>2000-06-05         </td><td>U                  </td><td>GT3                </td><td>A                  </td><td>4                  </td><td>4                  </td><td>at_home            </td><td>...                </td><td>no                 </td><td>4                  </td><td>3                  </td><td> 4                 </td><td>1                  </td><td>1                  </td><td>3                  </td><td>2020-04-10 14:14:59</td><td> 6                 </td><td>5/6/2006           </td></tr>\n",
       "\t<tr><td>2                  </td><td>GP                 </td><td>F                  </td><td>1999-11-25         </td><td>U                  </td><td>GT3                </td><td>T                  </td><td>1                  </td><td>1                  </td><td>at_home            </td><td>...                </td><td>no                 </td><td>5                  </td><td>3                  </td><td> 3                 </td><td>1                  </td><td>1                  </td><td>3                  </td><td>2020-03-12 15:14:59</td><td> 4                 </td><td>5/5/2006           </td></tr>\n",
       "\t<tr><td>3                  </td><td>GP                 </td><td>F                  </td><td>1998-02-02         </td><td>U                  </td><td>LE3                </td><td>T                  </td><td>1                  </td><td>1                  </td><td>at_home            </td><td>...                </td><td>no                 </td><td>4                  </td><td>3                  </td><td> 2                 </td><td>2                  </td><td>3                  </td><td>3                  </td><td>2020-09-21 15:14:59</td><td>10                 </td><td>7/8/2010           </td></tr>\n",
       "\t<tr><td>4                  </td><td>GP                 </td><td>F                  </td><td>1997-12-20         </td><td>U                  </td><td>GT3                </td><td>T                  </td><td>4                  </td><td>2                  </td><td>health             </td><td>...                </td><td>yes                </td><td>3                  </td><td>2                  </td><td>NA                 </td><td>1                  </td><td>1                  </td><td>5                  </td><td>2020-09-03 15:14:59</td><td> 2                 </td><td>15/14/15           </td></tr>\n",
       "\t<tr><td>5                  </td><td>GP                 </td><td>F                  </td><td>1998-10-04         </td><td>U                  </td><td>GT3                </td><td>T                  </td><td>3                  </td><td>3                  </td><td>other              </td><td>...                </td><td>no                 </td><td>4                  </td><td>3                  </td><td> 2                 </td><td>1                  </td><td>2                  </td><td>5                  </td><td>2020-04-07 15:14:59</td><td> 4                 </td><td>6/10/2010          </td></tr>\n",
       "\t<tr><td>6                  </td><td>GP                 </td><td>M                  </td><td>1999-06-16         </td><td>U                  </td><td>LE3                </td><td>T                  </td><td>4                  </td><td>3                  </td><td>services           </td><td>...                </td><td>no                 </td><td>5                  </td><td>4                  </td><td> 2                 </td><td>1                  </td><td>2                  </td><td>5                  </td><td>2020-11-15 13:14:59</td><td>10                 </td><td>15/15/15           </td></tr>\n",
       "</tbody>\n",
       "</table>\n"
      ],
      "text/latex": [
       "\\begin{tabular}{r|lllllllllllllllllllllllllllllllll}\n",
       " X & school & sex & dob & address & famsize & Pstatus & Medu & Fedu & Mjob & ... & romantic & famrel & freetime & goout & Dalc & Walc & health & nurse\\_visit & absences & Grades\\\\\n",
       "\\hline\n",
       "\t 1                   & GP                  & F                   & 2000-06-05          & U                   & GT3                 & A                   & 4                   & 4                   & at\\_home           & ...                 & no                  & 4                   & 3                   &  4                  & 1                   & 1                   & 3                   & 2020-04-10 14:14:59 &  6                  & 5/6/2006           \\\\\n",
       "\t 2                   & GP                  & F                   & 1999-11-25          & U                   & GT3                 & T                   & 1                   & 1                   & at\\_home           & ...                 & no                  & 5                   & 3                   &  3                  & 1                   & 1                   & 3                   & 2020-03-12 15:14:59 &  4                  & 5/5/2006           \\\\\n",
       "\t 3                   & GP                  & F                   & 1998-02-02          & U                   & LE3                 & T                   & 1                   & 1                   & at\\_home           & ...                 & no                  & 4                   & 3                   &  2                  & 2                   & 3                   & 3                   & 2020-09-21 15:14:59 & 10                  & 7/8/2010           \\\\\n",
       "\t 4                   & GP                  & F                   & 1997-12-20          & U                   & GT3                 & T                   & 4                   & 2                   & health              & ...                 & yes                 & 3                   & 2                   & NA                  & 1                   & 1                   & 5                   & 2020-09-03 15:14:59 &  2                  & 15/14/15           \\\\\n",
       "\t 5                   & GP                  & F                   & 1998-10-04          & U                   & GT3                 & T                   & 3                   & 3                   & other               & ...                 & no                  & 4                   & 3                   &  2                  & 1                   & 2                   & 5                   & 2020-04-07 15:14:59 &  4                  & 6/10/2010          \\\\\n",
       "\t 6                   & GP                  & M                   & 1999-06-16          & U                   & LE3                 & T                   & 4                   & 3                   & services            & ...                 & no                  & 5                   & 4                   &  2                  & 1                   & 2                   & 5                   & 2020-11-15 13:14:59 & 10                  & 15/15/15           \\\\\n",
       "\\end{tabular}\n"
      ],
      "text/markdown": [
       "\n",
       "| X | school | sex | dob | address | famsize | Pstatus | Medu | Fedu | Mjob | ... | romantic | famrel | freetime | goout | Dalc | Walc | health | nurse_visit | absences | Grades |\n",
       "|---|---|---|---|---|---|---|---|---|---|---|---|---|---|---|---|---|---|---|---|---|\n",
       "| 1                   | GP                  | F                   | 2000-06-05          | U                   | GT3                 | A                   | 4                   | 4                   | at_home             | ...                 | no                  | 4                   | 3                   |  4                  | 1                   | 1                   | 3                   | 2020-04-10 14:14:59 |  6                  | 5/6/2006            |\n",
       "| 2                   | GP                  | F                   | 1999-11-25          | U                   | GT3                 | T                   | 1                   | 1                   | at_home             | ...                 | no                  | 5                   | 3                   |  3                  | 1                   | 1                   | 3                   | 2020-03-12 15:14:59 |  4                  | 5/5/2006            |\n",
       "| 3                   | GP                  | F                   | 1998-02-02          | U                   | LE3                 | T                   | 1                   | 1                   | at_home             | ...                 | no                  | 4                   | 3                   |  2                  | 2                   | 3                   | 3                   | 2020-09-21 15:14:59 | 10                  | 7/8/2010            |\n",
       "| 4                   | GP                  | F                   | 1997-12-20          | U                   | GT3                 | T                   | 4                   | 2                   | health              | ...                 | yes                 | 3                   | 2                   | NA                  | 1                   | 1                   | 5                   | 2020-09-03 15:14:59 |  2                  | 15/14/15            |\n",
       "| 5                   | GP                  | F                   | 1998-10-04          | U                   | GT3                 | T                   | 3                   | 3                   | other               | ...                 | no                  | 4                   | 3                   |  2                  | 1                   | 2                   | 5                   | 2020-04-07 15:14:59 |  4                  | 6/10/2010           |\n",
       "| 6                   | GP                  | M                   | 1999-06-16          | U                   | LE3                 | T                   | 4                   | 3                   | services            | ...                 | no                  | 5                   | 4                   |  2                  | 1                   | 2                   | 5                   | 2020-11-15 13:14:59 | 10                  | 15/15/15            |\n",
       "\n"
      ],
      "text/plain": [
       "  X school sex dob        address famsize Pstatus Medu Fedu Mjob     ...\n",
       "1 1 GP     F   2000-06-05 U       GT3     A       4    4    at_home  ...\n",
       "2 2 GP     F   1999-11-25 U       GT3     T       1    1    at_home  ...\n",
       "3 3 GP     F   1998-02-02 U       LE3     T       1    1    at_home  ...\n",
       "4 4 GP     F   1997-12-20 U       GT3     T       4    2    health   ...\n",
       "5 5 GP     F   1998-10-04 U       GT3     T       3    3    other    ...\n",
       "6 6 GP     M   1999-06-16 U       LE3     T       4    3    services ...\n",
       "  romantic famrel freetime goout Dalc Walc health nurse_visit         absences\n",
       "1 no       4      3         4    1    1    3      2020-04-10 14:14:59  6      \n",
       "2 no       5      3         3    1    1    3      2020-03-12 15:14:59  4      \n",
       "3 no       4      3         2    2    3    3      2020-09-21 15:14:59 10      \n",
       "4 yes      3      2        NA    1    1    5      2020-09-03 15:14:59  2      \n",
       "5 no       4      3         2    1    2    5      2020-04-07 15:14:59  4      \n",
       "6 no       5      4         2    1    2    5      2020-11-15 13:14:59 10      \n",
       "  Grades   \n",
       "1 5/6/2006 \n",
       "2 5/5/2006 \n",
       "3 7/8/2010 \n",
       "4 15/14/15 \n",
       "5 6/10/2010\n",
       "6 15/15/15 "
      ]
     },
     "metadata": {},
     "output_type": "display_data"
    }
   ],
   "source": [
    "# Look at the head of students2\n",
    "head(students)"
   ]
  },
  {
   "cell_type": "code",
   "execution_count": 30,
   "metadata": {},
   "outputs": [
    {
     "data": {
      "text/html": [
       "<ol class=list-inline>\n",
       "\t<li>FALSE</li>\n",
       "\t<li>FALSE</li>\n",
       "\t<li>FALSE</li>\n",
       "\t<li>TRUE</li>\n",
       "\t<li>FALSE</li>\n",
       "\t<li>FALSE</li>\n",
       "</ol>\n"
      ],
      "text/latex": [
       "\\begin{enumerate*}\n",
       "\\item FALSE\n",
       "\\item FALSE\n",
       "\\item FALSE\n",
       "\\item TRUE\n",
       "\\item FALSE\n",
       "\\item FALSE\n",
       "\\end{enumerate*}\n"
      ],
      "text/markdown": [
       "1. FALSE\n",
       "2. FALSE\n",
       "3. FALSE\n",
       "4. TRUE\n",
       "5. FALSE\n",
       "6. FALSE\n",
       "\n",
       "\n"
      ],
      "text/plain": [
       "[1] FALSE FALSE FALSE  TRUE FALSE FALSE"
      ]
     },
     "metadata": {},
     "output_type": "display_data"
    }
   ],
   "source": [
    "# Detect all dates of birth (dob) in 1997\n",
    "head(str_detect(students$dob, \"1997\"))"
   ]
  },
  {
   "cell_type": "code",
   "execution_count": 17,
   "metadata": {},
   "outputs": [],
   "source": [
    "# In the sex column, replace \"F\" with \"Female\"...\n",
    "students$sex <- str_replace(students$sex, \"F\", \"Female\")\n",
    "# ...And \"M\" with \"Male\"\n",
    "students$sex <- str_replace(students$sex, \"M\", \"Male\")"
   ]
  },
  {
   "cell_type": "code",
   "execution_count": 18,
   "metadata": {},
   "outputs": [
    {
     "data": {
      "text/html": [
       "<table>\n",
       "<thead><tr><th scope=col>X</th><th scope=col>school</th><th scope=col>sex</th><th scope=col>dob</th><th scope=col>address</th><th scope=col>famsize</th><th scope=col>Pstatus</th><th scope=col>Medu</th><th scope=col>Fedu</th><th scope=col>Mjob</th><th scope=col>...</th><th scope=col>romantic</th><th scope=col>famrel</th><th scope=col>freetime</th><th scope=col>goout</th><th scope=col>Dalc</th><th scope=col>Walc</th><th scope=col>health</th><th scope=col>nurse_visit</th><th scope=col>absences</th><th scope=col>Grades</th></tr></thead>\n",
       "<tbody>\n",
       "\t<tr><td>1                  </td><td>GP                 </td><td>Female             </td><td>2000-06-05         </td><td>U                  </td><td>GT3                </td><td>A                  </td><td>4                  </td><td>4                  </td><td>at_home            </td><td>...                </td><td>no                 </td><td>4                  </td><td>3                  </td><td> 4                 </td><td>1                  </td><td>1                  </td><td>3                  </td><td>2020-04-10 14:14:59</td><td> 6                 </td><td>5/6/2006           </td></tr>\n",
       "\t<tr><td>2                  </td><td>GP                 </td><td>Female             </td><td>1999-11-25         </td><td>U                  </td><td>GT3                </td><td>T                  </td><td>1                  </td><td>1                  </td><td>at_home            </td><td>...                </td><td>no                 </td><td>5                  </td><td>3                  </td><td> 3                 </td><td>1                  </td><td>1                  </td><td>3                  </td><td>2020-03-12 15:14:59</td><td> 4                 </td><td>5/5/2006           </td></tr>\n",
       "\t<tr><td>3                  </td><td>GP                 </td><td>Female             </td><td>1998-02-02         </td><td>U                  </td><td>LE3                </td><td>T                  </td><td>1                  </td><td>1                  </td><td>at_home            </td><td>...                </td><td>no                 </td><td>4                  </td><td>3                  </td><td> 2                 </td><td>2                  </td><td>3                  </td><td>3                  </td><td>2020-09-21 15:14:59</td><td>10                 </td><td>7/8/2010           </td></tr>\n",
       "\t<tr><td>4                  </td><td>GP                 </td><td>Female             </td><td>1997-12-20         </td><td>U                  </td><td>GT3                </td><td>T                  </td><td>4                  </td><td>2                  </td><td>health             </td><td>...                </td><td>yes                </td><td>3                  </td><td>2                  </td><td>NA                 </td><td>1                  </td><td>1                  </td><td>5                  </td><td>2020-09-03 15:14:59</td><td> 2                 </td><td>15/14/15           </td></tr>\n",
       "\t<tr><td>5                  </td><td>GP                 </td><td>Female             </td><td>1998-10-04         </td><td>U                  </td><td>GT3                </td><td>T                  </td><td>3                  </td><td>3                  </td><td>other              </td><td>...                </td><td>no                 </td><td>4                  </td><td>3                  </td><td> 2                 </td><td>1                  </td><td>2                  </td><td>5                  </td><td>2020-04-07 15:14:59</td><td> 4                 </td><td>6/10/2010          </td></tr>\n",
       "\t<tr><td>6                  </td><td>GP                 </td><td>Male               </td><td>1999-06-16         </td><td>U                  </td><td>LE3                </td><td>T                  </td><td>4                  </td><td>3                  </td><td>services           </td><td>...                </td><td>no                 </td><td>5                  </td><td>4                  </td><td> 2                 </td><td>1                  </td><td>2                  </td><td>5                  </td><td>2020-11-15 13:14:59</td><td>10                 </td><td>15/15/15           </td></tr>\n",
       "</tbody>\n",
       "</table>\n"
      ],
      "text/latex": [
       "\\begin{tabular}{r|lllllllllllllllllllllllllllllllll}\n",
       " X & school & sex & dob & address & famsize & Pstatus & Medu & Fedu & Mjob & ... & romantic & famrel & freetime & goout & Dalc & Walc & health & nurse\\_visit & absences & Grades\\\\\n",
       "\\hline\n",
       "\t 1                   & GP                  & Female              & 2000-06-05          & U                   & GT3                 & A                   & 4                   & 4                   & at\\_home           & ...                 & no                  & 4                   & 3                   &  4                  & 1                   & 1                   & 3                   & 2020-04-10 14:14:59 &  6                  & 5/6/2006           \\\\\n",
       "\t 2                   & GP                  & Female              & 1999-11-25          & U                   & GT3                 & T                   & 1                   & 1                   & at\\_home           & ...                 & no                  & 5                   & 3                   &  3                  & 1                   & 1                   & 3                   & 2020-03-12 15:14:59 &  4                  & 5/5/2006           \\\\\n",
       "\t 3                   & GP                  & Female              & 1998-02-02          & U                   & LE3                 & T                   & 1                   & 1                   & at\\_home           & ...                 & no                  & 4                   & 3                   &  2                  & 2                   & 3                   & 3                   & 2020-09-21 15:14:59 & 10                  & 7/8/2010           \\\\\n",
       "\t 4                   & GP                  & Female              & 1997-12-20          & U                   & GT3                 & T                   & 4                   & 2                   & health              & ...                 & yes                 & 3                   & 2                   & NA                  & 1                   & 1                   & 5                   & 2020-09-03 15:14:59 &  2                  & 15/14/15           \\\\\n",
       "\t 5                   & GP                  & Female              & 1998-10-04          & U                   & GT3                 & T                   & 3                   & 3                   & other               & ...                 & no                  & 4                   & 3                   &  2                  & 1                   & 2                   & 5                   & 2020-04-07 15:14:59 &  4                  & 6/10/2010          \\\\\n",
       "\t 6                   & GP                  & Male                & 1999-06-16          & U                   & LE3                 & T                   & 4                   & 3                   & services            & ...                 & no                  & 5                   & 4                   &  2                  & 1                   & 2                   & 5                   & 2020-11-15 13:14:59 & 10                  & 15/15/15           \\\\\n",
       "\\end{tabular}\n"
      ],
      "text/markdown": [
       "\n",
       "| X | school | sex | dob | address | famsize | Pstatus | Medu | Fedu | Mjob | ... | romantic | famrel | freetime | goout | Dalc | Walc | health | nurse_visit | absences | Grades |\n",
       "|---|---|---|---|---|---|---|---|---|---|---|---|---|---|---|---|---|---|---|---|---|\n",
       "| 1                   | GP                  | Female              | 2000-06-05          | U                   | GT3                 | A                   | 4                   | 4                   | at_home             | ...                 | no                  | 4                   | 3                   |  4                  | 1                   | 1                   | 3                   | 2020-04-10 14:14:59 |  6                  | 5/6/2006            |\n",
       "| 2                   | GP                  | Female              | 1999-11-25          | U                   | GT3                 | T                   | 1                   | 1                   | at_home             | ...                 | no                  | 5                   | 3                   |  3                  | 1                   | 1                   | 3                   | 2020-03-12 15:14:59 |  4                  | 5/5/2006            |\n",
       "| 3                   | GP                  | Female              | 1998-02-02          | U                   | LE3                 | T                   | 1                   | 1                   | at_home             | ...                 | no                  | 4                   | 3                   |  2                  | 2                   | 3                   | 3                   | 2020-09-21 15:14:59 | 10                  | 7/8/2010            |\n",
       "| 4                   | GP                  | Female              | 1997-12-20          | U                   | GT3                 | T                   | 4                   | 2                   | health              | ...                 | yes                 | 3                   | 2                   | NA                  | 1                   | 1                   | 5                   | 2020-09-03 15:14:59 |  2                  | 15/14/15            |\n",
       "| 5                   | GP                  | Female              | 1998-10-04          | U                   | GT3                 | T                   | 3                   | 3                   | other               | ...                 | no                  | 4                   | 3                   |  2                  | 1                   | 2                   | 5                   | 2020-04-07 15:14:59 |  4                  | 6/10/2010           |\n",
       "| 6                   | GP                  | Male                | 1999-06-16          | U                   | LE3                 | T                   | 4                   | 3                   | services            | ...                 | no                  | 5                   | 4                   |  2                  | 1                   | 2                   | 5                   | 2020-11-15 13:14:59 | 10                  | 15/15/15            |\n",
       "\n"
      ],
      "text/plain": [
       "  X school sex    dob        address famsize Pstatus Medu Fedu Mjob     ...\n",
       "1 1 GP     Female 2000-06-05 U       GT3     A       4    4    at_home  ...\n",
       "2 2 GP     Female 1999-11-25 U       GT3     T       1    1    at_home  ...\n",
       "3 3 GP     Female 1998-02-02 U       LE3     T       1    1    at_home  ...\n",
       "4 4 GP     Female 1997-12-20 U       GT3     T       4    2    health   ...\n",
       "5 5 GP     Female 1998-10-04 U       GT3     T       3    3    other    ...\n",
       "6 6 GP     Male   1999-06-16 U       LE3     T       4    3    services ...\n",
       "  romantic famrel freetime goout Dalc Walc health nurse_visit         absences\n",
       "1 no       4      3         4    1    1    3      2020-04-10 14:14:59  6      \n",
       "2 no       5      3         3    1    1    3      2020-03-12 15:14:59  4      \n",
       "3 no       4      3         2    2    3    3      2020-09-21 15:14:59 10      \n",
       "4 yes      3      2        NA    1    1    5      2020-09-03 15:14:59  2      \n",
       "5 no       4      3         2    1    2    5      2020-04-07 15:14:59  4      \n",
       "6 no       5      4         2    1    2    5      2020-11-15 13:14:59 10      \n",
       "  Grades   \n",
       "1 5/6/2006 \n",
       "2 5/5/2006 \n",
       "3 7/8/2010 \n",
       "4 15/14/15 \n",
       "5 6/10/2010\n",
       "6 15/15/15 "
      ]
     },
     "metadata": {},
     "output_type": "display_data"
    }
   ],
   "source": [
    "# View the head of students\n",
    "head(students)"
   ]
  },
  {
   "cell_type": "markdown",
   "metadata": {},
   "source": [
    "## MISSING VALUES"
   ]
  },
  {
   "cell_type": "code",
   "execution_count": 31,
   "metadata": {},
   "outputs": [
    {
     "data": {
      "text/html": [
       "<table>\n",
       "<thead><tr><th scope=col>X</th><th scope=col>school</th><th scope=col>sex</th><th scope=col>dob</th><th scope=col>address</th><th scope=col>famsize</th><th scope=col>Pstatus</th><th scope=col>Medu</th><th scope=col>Fedu</th><th scope=col>Mjob</th><th scope=col>...</th><th scope=col>romantic</th><th scope=col>famrel</th><th scope=col>freetime</th><th scope=col>goout</th><th scope=col>Dalc</th><th scope=col>Walc</th><th scope=col>health</th><th scope=col>nurse_visit</th><th scope=col>absences</th><th scope=col>Grades</th></tr></thead>\n",
       "<tbody>\n",
       "\t<tr><td>FALSE</td><td>FALSE</td><td>FALSE</td><td>FALSE</td><td>FALSE</td><td>FALSE</td><td>FALSE</td><td>FALSE</td><td>FALSE</td><td>FALSE</td><td>...  </td><td>FALSE</td><td>FALSE</td><td>FALSE</td><td>FALSE</td><td>FALSE</td><td>FALSE</td><td>FALSE</td><td>FALSE</td><td>FALSE</td><td>FALSE</td></tr>\n",
       "\t<tr><td>FALSE</td><td>FALSE</td><td>FALSE</td><td>FALSE</td><td>FALSE</td><td>FALSE</td><td>FALSE</td><td>FALSE</td><td>FALSE</td><td>FALSE</td><td>...  </td><td>FALSE</td><td>FALSE</td><td>FALSE</td><td>FALSE</td><td>FALSE</td><td>FALSE</td><td>FALSE</td><td>FALSE</td><td>FALSE</td><td>FALSE</td></tr>\n",
       "\t<tr><td>FALSE</td><td>FALSE</td><td>FALSE</td><td>FALSE</td><td>FALSE</td><td>FALSE</td><td>FALSE</td><td>FALSE</td><td>FALSE</td><td>FALSE</td><td>...  </td><td>FALSE</td><td>FALSE</td><td>FALSE</td><td>FALSE</td><td>FALSE</td><td>FALSE</td><td>FALSE</td><td>FALSE</td><td>FALSE</td><td>FALSE</td></tr>\n",
       "\t<tr><td>FALSE</td><td>FALSE</td><td>FALSE</td><td>FALSE</td><td>FALSE</td><td>FALSE</td><td>FALSE</td><td>FALSE</td><td>FALSE</td><td>FALSE</td><td>...  </td><td>FALSE</td><td>FALSE</td><td>FALSE</td><td> TRUE</td><td>FALSE</td><td>FALSE</td><td>FALSE</td><td>FALSE</td><td>FALSE</td><td>FALSE</td></tr>\n",
       "\t<tr><td>FALSE</td><td>FALSE</td><td>FALSE</td><td>FALSE</td><td>FALSE</td><td>FALSE</td><td>FALSE</td><td>FALSE</td><td>FALSE</td><td>FALSE</td><td>...  </td><td>FALSE</td><td>FALSE</td><td>FALSE</td><td>FALSE</td><td>FALSE</td><td>FALSE</td><td>FALSE</td><td>FALSE</td><td>FALSE</td><td>FALSE</td></tr>\n",
       "\t<tr><td>FALSE</td><td>FALSE</td><td>FALSE</td><td>FALSE</td><td>FALSE</td><td>FALSE</td><td>FALSE</td><td>FALSE</td><td>FALSE</td><td>FALSE</td><td>...  </td><td>FALSE</td><td>FALSE</td><td>FALSE</td><td>FALSE</td><td>FALSE</td><td>FALSE</td><td>FALSE</td><td>FALSE</td><td>FALSE</td><td>FALSE</td></tr>\n",
       "</tbody>\n",
       "</table>\n"
      ],
      "text/latex": [
       "\\begin{tabular}{lllllllllllllllllllllllllllllllll}\n",
       " X & school & sex & dob & address & famsize & Pstatus & Medu & Fedu & Mjob & ... & romantic & famrel & freetime & goout & Dalc & Walc & health & nurse\\_visit & absences & Grades\\\\\n",
       "\\hline\n",
       "\t FALSE & FALSE & FALSE & FALSE & FALSE & FALSE & FALSE & FALSE & FALSE & FALSE & ...   & FALSE & FALSE & FALSE & FALSE & FALSE & FALSE & FALSE & FALSE & FALSE & FALSE\\\\\n",
       "\t FALSE & FALSE & FALSE & FALSE & FALSE & FALSE & FALSE & FALSE & FALSE & FALSE & ...   & FALSE & FALSE & FALSE & FALSE & FALSE & FALSE & FALSE & FALSE & FALSE & FALSE\\\\\n",
       "\t FALSE & FALSE & FALSE & FALSE & FALSE & FALSE & FALSE & FALSE & FALSE & FALSE & ...   & FALSE & FALSE & FALSE & FALSE & FALSE & FALSE & FALSE & FALSE & FALSE & FALSE\\\\\n",
       "\t FALSE & FALSE & FALSE & FALSE & FALSE & FALSE & FALSE & FALSE & FALSE & FALSE & ...   & FALSE & FALSE & FALSE &  TRUE & FALSE & FALSE & FALSE & FALSE & FALSE & FALSE\\\\\n",
       "\t FALSE & FALSE & FALSE & FALSE & FALSE & FALSE & FALSE & FALSE & FALSE & FALSE & ...   & FALSE & FALSE & FALSE & FALSE & FALSE & FALSE & FALSE & FALSE & FALSE & FALSE\\\\\n",
       "\t FALSE & FALSE & FALSE & FALSE & FALSE & FALSE & FALSE & FALSE & FALSE & FALSE & ...   & FALSE & FALSE & FALSE & FALSE & FALSE & FALSE & FALSE & FALSE & FALSE & FALSE\\\\\n",
       "\\end{tabular}\n"
      ],
      "text/markdown": [
       "\n",
       "| X | school | sex | dob | address | famsize | Pstatus | Medu | Fedu | Mjob | ... | romantic | famrel | freetime | goout | Dalc | Walc | health | nurse_visit | absences | Grades |\n",
       "|---|---|---|---|---|---|---|---|---|---|---|---|---|---|---|---|---|---|---|---|---|\n",
       "| FALSE | FALSE | FALSE | FALSE | FALSE | FALSE | FALSE | FALSE | FALSE | FALSE | ...   | FALSE | FALSE | FALSE | FALSE | FALSE | FALSE | FALSE | FALSE | FALSE | FALSE |\n",
       "| FALSE | FALSE | FALSE | FALSE | FALSE | FALSE | FALSE | FALSE | FALSE | FALSE | ...   | FALSE | FALSE | FALSE | FALSE | FALSE | FALSE | FALSE | FALSE | FALSE | FALSE |\n",
       "| FALSE | FALSE | FALSE | FALSE | FALSE | FALSE | FALSE | FALSE | FALSE | FALSE | ...   | FALSE | FALSE | FALSE | FALSE | FALSE | FALSE | FALSE | FALSE | FALSE | FALSE |\n",
       "| FALSE | FALSE | FALSE | FALSE | FALSE | FALSE | FALSE | FALSE | FALSE | FALSE | ...   | FALSE | FALSE | FALSE |  TRUE | FALSE | FALSE | FALSE | FALSE | FALSE | FALSE |\n",
       "| FALSE | FALSE | FALSE | FALSE | FALSE | FALSE | FALSE | FALSE | FALSE | FALSE | ...   | FALSE | FALSE | FALSE | FALSE | FALSE | FALSE | FALSE | FALSE | FALSE | FALSE |\n",
       "| FALSE | FALSE | FALSE | FALSE | FALSE | FALSE | FALSE | FALSE | FALSE | FALSE | ...   | FALSE | FALSE | FALSE | FALSE | FALSE | FALSE | FALSE | FALSE | FALSE | FALSE |\n",
       "\n"
      ],
      "text/plain": [
       "     X     school sex   dob   address famsize Pstatus Medu  Fedu  Mjob  ...\n",
       "[1,] FALSE FALSE  FALSE FALSE FALSE   FALSE   FALSE   FALSE FALSE FALSE ...\n",
       "[2,] FALSE FALSE  FALSE FALSE FALSE   FALSE   FALSE   FALSE FALSE FALSE ...\n",
       "[3,] FALSE FALSE  FALSE FALSE FALSE   FALSE   FALSE   FALSE FALSE FALSE ...\n",
       "[4,] FALSE FALSE  FALSE FALSE FALSE   FALSE   FALSE   FALSE FALSE FALSE ...\n",
       "[5,] FALSE FALSE  FALSE FALSE FALSE   FALSE   FALSE   FALSE FALSE FALSE ...\n",
       "[6,] FALSE FALSE  FALSE FALSE FALSE   FALSE   FALSE   FALSE FALSE FALSE ...\n",
       "     romantic famrel freetime goout Dalc  Walc  health nurse_visit absences\n",
       "[1,] FALSE    FALSE  FALSE    FALSE FALSE FALSE FALSE  FALSE       FALSE   \n",
       "[2,] FALSE    FALSE  FALSE    FALSE FALSE FALSE FALSE  FALSE       FALSE   \n",
       "[3,] FALSE    FALSE  FALSE    FALSE FALSE FALSE FALSE  FALSE       FALSE   \n",
       "[4,] FALSE    FALSE  FALSE     TRUE FALSE FALSE FALSE  FALSE       FALSE   \n",
       "[5,] FALSE    FALSE  FALSE    FALSE FALSE FALSE FALSE  FALSE       FALSE   \n",
       "[6,] FALSE    FALSE  FALSE    FALSE FALSE FALSE FALSE  FALSE       FALSE   \n",
       "     Grades\n",
       "[1,] FALSE \n",
       "[2,] FALSE \n",
       "[3,] FALSE \n",
       "[4,] FALSE \n",
       "[5,] FALSE \n",
       "[6,] FALSE "
      ]
     },
     "metadata": {},
     "output_type": "display_data"
    }
   ],
   "source": [
    "# Call is.na() on the full students to spot all NAs\n",
    "head(is.na(students))"
   ]
  },
  {
   "cell_type": "code",
   "execution_count": 20,
   "metadata": {},
   "outputs": [
    {
     "data": {
      "text/html": [
       "TRUE"
      ],
      "text/latex": [
       "TRUE"
      ],
      "text/markdown": [
       "TRUE"
      ],
      "text/plain": [
       "[1] TRUE"
      ]
     },
     "metadata": {},
     "output_type": "display_data"
    }
   ],
   "source": [
    "# Use the any() function to ask whether there are any NAs in the data\n",
    "any(is.na(students))"
   ]
  },
  {
   "cell_type": "code",
   "execution_count": 21,
   "metadata": {},
   "outputs": [
    {
     "data": {
      "text/plain": [
       "       X         school       sex                 dob             address\n",
       " Min.   :  1.0   GP:349   Length:395         Min.   :1996-11-02    :  4  \n",
       " 1st Qu.: 99.5   MS: 46   Class :character   1st Qu.:1997-11-04   R: 88  \n",
       " Median :198.0            Mode  :character   Median :1998-12-15   U:303  \n",
       " Mean   :198.0                               Mean   :1998-10-30          \n",
       " 3rd Qu.:296.5                               3rd Qu.:1999-10-29          \n",
       " Max.   :395.0                               Max.   :2000-10-25          \n",
       "                                             NA's   :4                   \n",
       " famsize   Pstatus   Medu       Fedu           Mjob           Fjob    \n",
       "    :  4    :  4   0   :  3   0   :  2   other   :139           :  4  \n",
       " GT3:277   A: 39   1   : 59   1   : 82   services: 97   at_home : 20  \n",
       " LE3:114   T:352   2   :103   2   :114   at_home : 59   health  : 17  \n",
       "                   3   : 96   3   : 99   teacher : 57   other   :214  \n",
       "                   4   :130   4   : 94   health  : 34   services:111  \n",
       "                   NA's:  4   NA's:  4           :  4   teacher : 29  \n",
       "                                         (Other) :  5                 \n",
       "        reason      guardian     traveltime     studytime        failures     \n",
       "           :  4         :  4   Min.   :1.00   Min.   :1.000   Min.   :0.0000  \n",
       " course    :143   father: 89   1st Qu.:1.00   1st Qu.:1.000   1st Qu.:0.0000  \n",
       " home      :108   mother:270   Median :1.00   Median :2.000   Median :0.0000  \n",
       " other     : 36   other : 32   Mean   :1.45   Mean   :2.033   Mean   :0.3342  \n",
       " reputation:104                3rd Qu.:2.00   3rd Qu.:2.000   3rd Qu.:0.0000  \n",
       "                               Max.   :4.00   Max.   :4.000   Max.   :3.0000  \n",
       "                               NA's   :4      NA's   :4                       \n",
       " schoolsup famsup     paid     activities nursery   higher    internet \n",
       " no :344   no :153      :  5      :  5       :  5      :  5      :  5  \n",
       " yes: 51   yes:242   no :210   no :192    no : 79   no : 19   no : 65  \n",
       "                     yes:180   yes:198    yes:311   yes:371   yes:325  \n",
       "                                                                       \n",
       "                                                                       \n",
       "                                                                       \n",
       "                                                                       \n",
       " romantic      famrel         freetime         goout            Dalc      \n",
       " no :263   Min.   :1.000   Min.   :1.000   Min.   :1.000   Min.   :1.000  \n",
       " yes:132   1st Qu.:4.000   1st Qu.:3.000   1st Qu.:2.000   1st Qu.:1.000  \n",
       "           Median :4.000   Median :3.000   Median :3.000   Median :1.000  \n",
       "           Mean   :3.944   Mean   :3.235   Mean   :3.114   Mean   :1.488  \n",
       "           3rd Qu.:5.000   3rd Qu.:4.000   3rd Qu.:4.000   3rd Qu.:2.000  \n",
       "           Max.   :5.000   Max.   :5.000   Max.   :5.000   Max.   :5.000  \n",
       "                                           NA's   :9       NA's   :8      \n",
       "      Walc           health       nurse_visit                     absences     \n",
       " Min.   :1.000   Min.   :1.000   Min.   :2020-01-01 14:14:59   Min.   : 0.000  \n",
       " 1st Qu.:1.000   1st Qu.:3.000   1st Qu.:2020-04-03 02:44:59   1st Qu.: 0.000  \n",
       " Median :2.000   Median :4.000   Median :2020-07-16 14:14:59   Median : 4.000  \n",
       " Mean   :2.291   Mean   :3.554   Mean   :2020-07-08 17:18:01   Mean   : 5.709  \n",
       " 3rd Qu.:3.000   3rd Qu.:5.000   3rd Qu.:2020-10-01 03:14:59   3rd Qu.: 8.000  \n",
       " Max.   :5.000   Max.   :5.000   Max.   :2020-12-31 13:14:59   Max.   :75.000  \n",
       "                                                                               \n",
       "    Grades         \n",
       " Length:395        \n",
       " Class :character  \n",
       " Mode  :character  \n",
       "                   \n",
       "                   \n",
       "                   \n",
       "                   "
      ]
     },
     "metadata": {},
     "output_type": "display_data"
    }
   ],
   "source": [
    "# View a summary() of the dataset\n",
    "summary(students)"
   ]
  },
  {
   "cell_type": "code",
   "execution_count": 22,
   "metadata": {},
   "outputs": [
    {
     "data": {
      "text/plain": [
       "\n",
       "                           services     at_home      health       other \n",
       "          4           2           1          59          34         139 \n",
       "se rv ices     services   teac  her     teacher \n",
       "          1          97           1          57 "
      ]
     },
     "metadata": {},
     "output_type": "display_data"
    }
   ],
   "source": [
    "# Call table() on the status column to try searching for some of the usual suspects like \"\", \"#N/A\", etc. \n",
    "table(students$Mjob)"
   ]
  },
  {
   "cell_type": "code",
   "execution_count": 23,
   "metadata": {},
   "outputs": [],
   "source": [
    "# Replace all empty strings in status with NA\n",
    "students$Mjob[students$Mjob == ''] <- NA"
   ]
  },
  {
   "cell_type": "code",
   "execution_count": 32,
   "metadata": {},
   "outputs": [
    {
     "data": {
      "text/html": [
       "<ol class=list-inline>\n",
       "\t<li>TRUE</li>\n",
       "\t<li>TRUE</li>\n",
       "\t<li>TRUE</li>\n",
       "\t<li>FALSE</li>\n",
       "\t<li>TRUE</li>\n",
       "\t<li>TRUE</li>\n",
       "</ol>\n"
      ],
      "text/latex": [
       "\\begin{enumerate*}\n",
       "\\item TRUE\n",
       "\\item TRUE\n",
       "\\item TRUE\n",
       "\\item FALSE\n",
       "\\item TRUE\n",
       "\\item TRUE\n",
       "\\end{enumerate*}\n"
      ],
      "text/markdown": [
       "1. TRUE\n",
       "2. TRUE\n",
       "3. TRUE\n",
       "4. FALSE\n",
       "5. TRUE\n",
       "6. TRUE\n",
       "\n",
       "\n"
      ],
      "text/plain": [
       "[1]  TRUE  TRUE  TRUE FALSE  TRUE  TRUE"
      ]
     },
     "metadata": {},
     "output_type": "display_data"
    }
   ],
   "source": [
    "# Use complete.cases() to see which rows have no missing values\n",
    "head(complete.cases(students))"
   ]
  },
  {
   "cell_type": "code",
   "execution_count": 33,
   "metadata": {},
   "outputs": [
    {
     "data": {
      "text/html": [
       "<table>\n",
       "<thead><tr><th></th><th scope=col>X</th><th scope=col>school</th><th scope=col>sex</th><th scope=col>dob</th><th scope=col>address</th><th scope=col>famsize</th><th scope=col>Pstatus</th><th scope=col>Medu</th><th scope=col>Fedu</th><th scope=col>Mjob</th><th scope=col>...</th><th scope=col>romantic</th><th scope=col>famrel</th><th scope=col>freetime</th><th scope=col>goout</th><th scope=col>Dalc</th><th scope=col>Walc</th><th scope=col>health</th><th scope=col>nurse_visit</th><th scope=col>absences</th><th scope=col>Grades</th></tr></thead>\n",
       "<tbody>\n",
       "\t<tr><th scope=row>1</th><td>1                  </td><td>GP                 </td><td>Female             </td><td>2000-06-05         </td><td>U                  </td><td>GT3                </td><td>A                  </td><td>4                  </td><td>4                  </td><td>at_home            </td><td>...                </td><td>no                 </td><td>4                  </td><td>3                  </td><td>4                  </td><td>1                  </td><td>1                  </td><td>3                  </td><td>2020-04-10 14:14:59</td><td> 6                 </td><td>5/6/2006           </td></tr>\n",
       "\t<tr><th scope=row>2</th><td>2                  </td><td>GP                 </td><td>Female             </td><td>1999-11-25         </td><td>U                  </td><td>GT3                </td><td>T                  </td><td>1                  </td><td>1                  </td><td>at_home            </td><td>...                </td><td>no                 </td><td>5                  </td><td>3                  </td><td>3                  </td><td>1                  </td><td>1                  </td><td>3                  </td><td>2020-03-12 15:14:59</td><td> 4                 </td><td>5/5/2006           </td></tr>\n",
       "\t<tr><th scope=row>3</th><td>3                  </td><td>GP                 </td><td>Female             </td><td>1998-02-02         </td><td>U                  </td><td>LE3                </td><td>T                  </td><td>1                  </td><td>1                  </td><td>at_home            </td><td>...                </td><td>no                 </td><td>4                  </td><td>3                  </td><td>2                  </td><td>2                  </td><td>3                  </td><td>3                  </td><td>2020-09-21 15:14:59</td><td>10                 </td><td>7/8/2010           </td></tr>\n",
       "\t<tr><th scope=row>5</th><td>5                  </td><td>GP                 </td><td>Female             </td><td>1998-10-04         </td><td>U                  </td><td>GT3                </td><td>T                  </td><td>3                  </td><td>3                  </td><td>other              </td><td>...                </td><td>no                 </td><td>4                  </td><td>3                  </td><td>2                  </td><td>1                  </td><td>2                  </td><td>5                  </td><td>2020-04-07 15:14:59</td><td> 4                 </td><td>6/10/2010          </td></tr>\n",
       "\t<tr><th scope=row>6</th><td>6                  </td><td>GP                 </td><td>Male               </td><td>1999-06-16         </td><td>U                  </td><td>LE3                </td><td>T                  </td><td>4                  </td><td>3                  </td><td>services           </td><td>...                </td><td>no                 </td><td>5                  </td><td>4                  </td><td>2                  </td><td>1                  </td><td>2                  </td><td>5                  </td><td>2020-11-15 13:14:59</td><td>10                 </td><td>15/15/15           </td></tr>\n",
       "\t<tr><th scope=row>7</th><td>7                  </td><td>GP                 </td><td>Male               </td><td>1997-09-20         </td><td>U                  </td><td>LE3                </td><td>T                  </td><td>2                  </td><td>2                  </td><td>other              </td><td>...                </td><td>no                 </td><td>4                  </td><td>4                  </td><td>4                  </td><td>1                  </td><td>1                  </td><td>3                  </td><td>2020-09-20 15:14:59</td><td> 0                 </td><td>12/12/2011         </td></tr>\n",
       "</tbody>\n",
       "</table>\n"
      ],
      "text/latex": [
       "\\begin{tabular}{r|lllllllllllllllllllllllllllllllll}\n",
       "  & X & school & sex & dob & address & famsize & Pstatus & Medu & Fedu & Mjob & ... & romantic & famrel & freetime & goout & Dalc & Walc & health & nurse\\_visit & absences & Grades\\\\\n",
       "\\hline\n",
       "\t1 & 1                   & GP                  & Female              & 2000-06-05          & U                   & GT3                 & A                   & 4                   & 4                   & at\\_home           & ...                 & no                  & 4                   & 3                   & 4                   & 1                   & 1                   & 3                   & 2020-04-10 14:14:59 &  6                  & 5/6/2006           \\\\\n",
       "\t2 & 2                   & GP                  & Female              & 1999-11-25          & U                   & GT3                 & T                   & 1                   & 1                   & at\\_home           & ...                 & no                  & 5                   & 3                   & 3                   & 1                   & 1                   & 3                   & 2020-03-12 15:14:59 &  4                  & 5/5/2006           \\\\\n",
       "\t3 & 3                   & GP                  & Female              & 1998-02-02          & U                   & LE3                 & T                   & 1                   & 1                   & at\\_home           & ...                 & no                  & 4                   & 3                   & 2                   & 2                   & 3                   & 3                   & 2020-09-21 15:14:59 & 10                  & 7/8/2010           \\\\\n",
       "\t5 & 5                   & GP                  & Female              & 1998-10-04          & U                   & GT3                 & T                   & 3                   & 3                   & other               & ...                 & no                  & 4                   & 3                   & 2                   & 1                   & 2                   & 5                   & 2020-04-07 15:14:59 &  4                  & 6/10/2010          \\\\\n",
       "\t6 & 6                   & GP                  & Male                & 1999-06-16          & U                   & LE3                 & T                   & 4                   & 3                   & services            & ...                 & no                  & 5                   & 4                   & 2                   & 1                   & 2                   & 5                   & 2020-11-15 13:14:59 & 10                  & 15/15/15           \\\\\n",
       "\t7 & 7                   & GP                  & Male                & 1997-09-20          & U                   & LE3                 & T                   & 2                   & 2                   & other               & ...                 & no                  & 4                   & 4                   & 4                   & 1                   & 1                   & 3                   & 2020-09-20 15:14:59 &  0                  & 12/12/2011         \\\\\n",
       "\\end{tabular}\n"
      ],
      "text/markdown": [
       "\n",
       "| <!--/--> | X | school | sex | dob | address | famsize | Pstatus | Medu | Fedu | Mjob | ... | romantic | famrel | freetime | goout | Dalc | Walc | health | nurse_visit | absences | Grades |\n",
       "|---|---|---|---|---|---|---|---|---|---|---|---|---|---|---|---|---|---|---|---|---|---|\n",
       "| 1 | 1                   | GP                  | Female              | 2000-06-05          | U                   | GT3                 | A                   | 4                   | 4                   | at_home             | ...                 | no                  | 4                   | 3                   | 4                   | 1                   | 1                   | 3                   | 2020-04-10 14:14:59 |  6                  | 5/6/2006            |\n",
       "| 2 | 2                   | GP                  | Female              | 1999-11-25          | U                   | GT3                 | T                   | 1                   | 1                   | at_home             | ...                 | no                  | 5                   | 3                   | 3                   | 1                   | 1                   | 3                   | 2020-03-12 15:14:59 |  4                  | 5/5/2006            |\n",
       "| 3 | 3                   | GP                  | Female              | 1998-02-02          | U                   | LE3                 | T                   | 1                   | 1                   | at_home             | ...                 | no                  | 4                   | 3                   | 2                   | 2                   | 3                   | 3                   | 2020-09-21 15:14:59 | 10                  | 7/8/2010            |\n",
       "| 5 | 5                   | GP                  | Female              | 1998-10-04          | U                   | GT3                 | T                   | 3                   | 3                   | other               | ...                 | no                  | 4                   | 3                   | 2                   | 1                   | 2                   | 5                   | 2020-04-07 15:14:59 |  4                  | 6/10/2010           |\n",
       "| 6 | 6                   | GP                  | Male                | 1999-06-16          | U                   | LE3                 | T                   | 4                   | 3                   | services            | ...                 | no                  | 5                   | 4                   | 2                   | 1                   | 2                   | 5                   | 2020-11-15 13:14:59 | 10                  | 15/15/15            |\n",
       "| 7 | 7                   | GP                  | Male                | 1997-09-20          | U                   | LE3                 | T                   | 2                   | 2                   | other               | ...                 | no                  | 4                   | 4                   | 4                   | 1                   | 1                   | 3                   | 2020-09-20 15:14:59 |  0                  | 12/12/2011          |\n",
       "\n"
      ],
      "text/plain": [
       "  X school sex    dob        address famsize Pstatus Medu Fedu Mjob     ...\n",
       "1 1 GP     Female 2000-06-05 U       GT3     A       4    4    at_home  ...\n",
       "2 2 GP     Female 1999-11-25 U       GT3     T       1    1    at_home  ...\n",
       "3 3 GP     Female 1998-02-02 U       LE3     T       1    1    at_home  ...\n",
       "5 5 GP     Female 1998-10-04 U       GT3     T       3    3    other    ...\n",
       "6 6 GP     Male   1999-06-16 U       LE3     T       4    3    services ...\n",
       "7 7 GP     Male   1997-09-20 U       LE3     T       2    2    other    ...\n",
       "  romantic famrel freetime goout Dalc Walc health nurse_visit         absences\n",
       "1 no       4      3        4     1    1    3      2020-04-10 14:14:59  6      \n",
       "2 no       5      3        3     1    1    3      2020-03-12 15:14:59  4      \n",
       "3 no       4      3        2     2    3    3      2020-09-21 15:14:59 10      \n",
       "5 no       4      3        2     1    2    5      2020-04-07 15:14:59  4      \n",
       "6 no       5      4        2     1    2    5      2020-11-15 13:14:59 10      \n",
       "7 no       4      4        4     1    1    3      2020-09-20 15:14:59  0      \n",
       "  Grades    \n",
       "1 5/6/2006  \n",
       "2 5/5/2006  \n",
       "3 7/8/2010  \n",
       "5 6/10/2010 \n",
       "6 15/15/15  \n",
       "7 12/12/2011"
      ]
     },
     "metadata": {},
     "output_type": "display_data"
    }
   ],
   "source": [
    "# Use na.omit() to remove all rows with any missing values\n",
    "head(na.omit(students))"
   ]
  },
  {
   "cell_type": "markdown",
   "metadata": {},
   "source": [
    "## OUTLIERS AND OBVIOUS ERRORS"
   ]
  },
  {
   "cell_type": "code",
   "execution_count": 26,
   "metadata": {},
   "outputs": [
    {
     "data": {
      "text/plain": [
       "       X         school       sex                 dob             address\n",
       " Min.   :  1.0   GP:349   Length:395         Min.   :1996-11-02    :  4  \n",
       " 1st Qu.: 99.5   MS: 46   Class :character   1st Qu.:1997-11-04   R: 88  \n",
       " Median :198.0            Mode  :character   Median :1998-12-15   U:303  \n",
       " Mean   :198.0                               Mean   :1998-10-30          \n",
       " 3rd Qu.:296.5                               3rd Qu.:1999-10-29          \n",
       " Max.   :395.0                               Max.   :2000-10-25          \n",
       "                                             NA's   :4                   \n",
       " famsize   Pstatus   Medu       Fedu           Mjob           Fjob    \n",
       "    :  4    :  4   0   :  3   0   :  2   other   :139           :  4  \n",
       " GT3:277   A: 39   1   : 59   1   : 82   services: 97   at_home : 20  \n",
       " LE3:114   T:352   2   :103   2   :114   at_home : 59   health  : 17  \n",
       "                   3   : 96   3   : 99   teacher : 57   other   :214  \n",
       "                   4   :130   4   : 94   health  : 34   services:111  \n",
       "                   NA's:  4   NA's:  4   (Other) :  5   teacher : 29  \n",
       "                                         NA's    :  4                 \n",
       "        reason      guardian     traveltime     studytime        failures     \n",
       "           :  4         :  4   Min.   :1.00   Min.   :1.000   Min.   :0.0000  \n",
       " course    :143   father: 89   1st Qu.:1.00   1st Qu.:1.000   1st Qu.:0.0000  \n",
       " home      :108   mother:270   Median :1.00   Median :2.000   Median :0.0000  \n",
       " other     : 36   other : 32   Mean   :1.45   Mean   :2.033   Mean   :0.3342  \n",
       " reputation:104                3rd Qu.:2.00   3rd Qu.:2.000   3rd Qu.:0.0000  \n",
       "                               Max.   :4.00   Max.   :4.000   Max.   :3.0000  \n",
       "                               NA's   :4      NA's   :4                       \n",
       " schoolsup famsup     paid     activities nursery   higher    internet \n",
       " no :344   no :153      :  5      :  5       :  5      :  5      :  5  \n",
       " yes: 51   yes:242   no :210   no :192    no : 79   no : 19   no : 65  \n",
       "                     yes:180   yes:198    yes:311   yes:371   yes:325  \n",
       "                                                                       \n",
       "                                                                       \n",
       "                                                                       \n",
       "                                                                       \n",
       " romantic      famrel         freetime         goout            Dalc      \n",
       " no :263   Min.   :1.000   Min.   :1.000   Min.   :1.000   Min.   :1.000  \n",
       " yes:132   1st Qu.:4.000   1st Qu.:3.000   1st Qu.:2.000   1st Qu.:1.000  \n",
       "           Median :4.000   Median :3.000   Median :3.000   Median :1.000  \n",
       "           Mean   :3.944   Mean   :3.235   Mean   :3.114   Mean   :1.488  \n",
       "           3rd Qu.:5.000   3rd Qu.:4.000   3rd Qu.:4.000   3rd Qu.:2.000  \n",
       "           Max.   :5.000   Max.   :5.000   Max.   :5.000   Max.   :5.000  \n",
       "                                           NA's   :9       NA's   :8      \n",
       "      Walc           health       nurse_visit                     absences     \n",
       " Min.   :1.000   Min.   :1.000   Min.   :2020-01-01 14:14:59   Min.   : 0.000  \n",
       " 1st Qu.:1.000   1st Qu.:3.000   1st Qu.:2020-04-03 02:44:59   1st Qu.: 0.000  \n",
       " Median :2.000   Median :4.000   Median :2020-07-16 14:14:59   Median : 4.000  \n",
       " Mean   :2.291   Mean   :3.554   Mean   :2020-07-08 17:18:01   Mean   : 5.709  \n",
       " 3rd Qu.:3.000   3rd Qu.:5.000   3rd Qu.:2020-10-01 03:14:59   3rd Qu.: 8.000  \n",
       " Max.   :5.000   Max.   :5.000   Max.   :2020-12-31 13:14:59   Max.   :75.000  \n",
       "                                                                               \n",
       "    Grades         \n",
       " Length:395        \n",
       " Class :character  \n",
       " Mode  :character  \n",
       "                   \n",
       "                   \n",
       "                   \n",
       "                   "
      ]
     },
     "metadata": {},
     "output_type": "display_data"
    }
   ],
   "source": [
    "# Look at a summary() of students\n",
    "summary(students)"
   ]
  },
  {
   "cell_type": "code",
   "execution_count": 27,
   "metadata": {},
   "outputs": [
    {
     "data": {
      "image/png": "[encoded data removed]",
      "text/plain": [
       "Plot with title \"Histogram of students$absences\""
      ]
     },
     "metadata": {},
     "output_type": "display_data"
    }
   ],
   "source": [
    "# View a histogram of the absences variable\n",
    "hist(students$absences)"
   ]
  },
  {
   "cell_type": "code",
   "execution_count": 29,
   "metadata": {},
   "outputs": [
    {
     "data": {
      "image/png": "[encoded data removed]",
      "text/plain": [
       "plot without title"
      ]
     },
     "metadata": {},
     "output_type": "display_data"
    }
   ],
   "source": [
    "# View a boxplot of absences\n",
    "boxplot(students$absences)"
   ]
  },
  {
   "cell_type": "code",
   "execution_count": null,
   "metadata": {},
   "outputs": [],
   "source": []
  }
 ],
 "metadata": {
  "kernelspec": {
   "display_name": "R",
   "language": "R",
   "name": "ir"
  },
  "language_info": {
   "codemirror_mode": "r",
   "file_extension": ".r",
   "mimetype": "text/x-r-source",
   "name": "R",
   "pygments_lexer": "r",
   "version": "3.5.1"
  },
  "toc": {
   "base_numbering": 1,
   "nav_menu": {},
   "number_sections": true,
   "sideBar": true,
   "skip_h1_title": false,
   "title_cell": "Table of Contents",
   "title_sidebar": "Contents",
   "toc_cell": true,
   "toc_position": {},
   "toc_section_display": true,
   "toc_window_display": false
  }
 },
 "nbformat": 4,
 "nbformat_minor": 2
}
