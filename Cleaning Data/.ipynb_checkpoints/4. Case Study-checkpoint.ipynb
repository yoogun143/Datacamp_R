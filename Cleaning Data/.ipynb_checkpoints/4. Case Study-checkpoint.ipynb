{
 "cells": [
  {
   "cell_type": "markdown",
   "metadata": {
    "toc": true
   },
   "source": [
    "<h1>Table of Contents<span class=\"tocSkip\"></span></h1>\n",
    "<div class=\"toc\"><ul class=\"toc-item\"><li><span><a href=\"#EXPLORE-DATA\" data-toc-modified-id=\"EXPLORE-DATA-1\"><span class=\"toc-item-num\">1&nbsp;&nbsp;</span>EXPLORE DATA</a></span></li><li><span><a href=\"#TIDY-DATA\" data-toc-modified-id=\"TIDY-DATA-2\"><span class=\"toc-item-num\">2&nbsp;&nbsp;</span>TIDY DATA</a></span></li><li><span><a href=\"#PREPARE-DATA-FOR-ANALYSIS\" data-toc-modified-id=\"PREPARE-DATA-FOR-ANALYSIS-3\"><span class=\"toc-item-num\">3&nbsp;&nbsp;</span>PREPARE DATA FOR ANALYSIS</a></span></li></ul></div>"
   ]
  },
  {
   "cell_type": "code",
   "execution_count": 1,
   "metadata": {},
   "outputs": [],
   "source": [
    "weather <- readRDS('weather.rds')"
   ]
  },
  {
   "cell_type": "markdown",
   "metadata": {},
   "source": [
    "## EXPLORE DATA"
   ]
  },
  {
   "cell_type": "code",
   "execution_count": 2,
   "metadata": {},
   "outputs": [
    {
     "data": {
      "text/html": [
       "'data.frame'"
      ],
      "text/latex": [
       "'data.frame'"
      ],
      "text/markdown": [
       "'data.frame'"
      ],
      "text/plain": [
       "[1] \"data.frame\""
      ]
     },
     "metadata": {},
     "output_type": "display_data"
    }
   ],
   "source": [
    "# Verify that weather is a data.frame\n",
    "class(weather)"
   ]
  },
  {
   "cell_type": "code",
   "execution_count": 3,
   "metadata": {},
   "outputs": [
    {
     "data": {
      "text/html": [
       "<ol class=list-inline>\n",
       "\t<li>286</li>\n",
       "\t<li>35</li>\n",
       "</ol>\n"
      ],
      "text/latex": [
       "\\begin{enumerate*}\n",
       "\\item 286\n",
       "\\item 35\n",
       "\\end{enumerate*}\n"
      ],
      "text/markdown": [
       "1. 286\n",
       "2. 35\n",
       "\n",
       "\n"
      ],
      "text/plain": [
       "[1] 286  35"
      ]
     },
     "metadata": {},
     "output_type": "display_data"
    }
   ],
   "source": [
    "# Check the dimensions\n",
    "dim(weather)"
   ]
  },
  {
   "cell_type": "code",
   "execution_count": 4,
   "metadata": {},
   "outputs": [
    {
     "data": {
      "text/html": [
       "<ol class=list-inline>\n",
       "\t<li>'X'</li>\n",
       "\t<li>'year'</li>\n",
       "\t<li>'month'</li>\n",
       "\t<li>'measure'</li>\n",
       "\t<li>'X1'</li>\n",
       "\t<li>'X2'</li>\n",
       "\t<li>'X3'</li>\n",
       "\t<li>'X4'</li>\n",
       "\t<li>'X5'</li>\n",
       "\t<li>'X6'</li>\n",
       "\t<li>'X7'</li>\n",
       "\t<li>'X8'</li>\n",
       "\t<li>'X9'</li>\n",
       "\t<li>'X10'</li>\n",
       "\t<li>'X11'</li>\n",
       "\t<li>'X12'</li>\n",
       "\t<li>'X13'</li>\n",
       "\t<li>'X14'</li>\n",
       "\t<li>'X15'</li>\n",
       "\t<li>'X16'</li>\n",
       "\t<li>'X17'</li>\n",
       "\t<li>'X18'</li>\n",
       "\t<li>'X19'</li>\n",
       "\t<li>'X20'</li>\n",
       "\t<li>'X21'</li>\n",
       "\t<li>'X22'</li>\n",
       "\t<li>'X23'</li>\n",
       "\t<li>'X24'</li>\n",
       "\t<li>'X25'</li>\n",
       "\t<li>'X26'</li>\n",
       "\t<li>'X27'</li>\n",
       "\t<li>'X28'</li>\n",
       "\t<li>'X29'</li>\n",
       "\t<li>'X30'</li>\n",
       "\t<li>'X31'</li>\n",
       "</ol>\n"
      ],
      "text/latex": [
       "\\begin{enumerate*}\n",
       "\\item 'X'\n",
       "\\item 'year'\n",
       "\\item 'month'\n",
       "\\item 'measure'\n",
       "\\item 'X1'\n",
       "\\item 'X2'\n",
       "\\item 'X3'\n",
       "\\item 'X4'\n",
       "\\item 'X5'\n",
       "\\item 'X6'\n",
       "\\item 'X7'\n",
       "\\item 'X8'\n",
       "\\item 'X9'\n",
       "\\item 'X10'\n",
       "\\item 'X11'\n",
       "\\item 'X12'\n",
       "\\item 'X13'\n",
       "\\item 'X14'\n",
       "\\item 'X15'\n",
       "\\item 'X16'\n",
       "\\item 'X17'\n",
       "\\item 'X18'\n",
       "\\item 'X19'\n",
       "\\item 'X20'\n",
       "\\item 'X21'\n",
       "\\item 'X22'\n",
       "\\item 'X23'\n",
       "\\item 'X24'\n",
       "\\item 'X25'\n",
       "\\item 'X26'\n",
       "\\item 'X27'\n",
       "\\item 'X28'\n",
       "\\item 'X29'\n",
       "\\item 'X30'\n",
       "\\item 'X31'\n",
       "\\end{enumerate*}\n"
      ],
      "text/markdown": [
       "1. 'X'\n",
       "2. 'year'\n",
       "3. 'month'\n",
       "4. 'measure'\n",
       "5. 'X1'\n",
       "6. 'X2'\n",
       "7. 'X3'\n",
       "8. 'X4'\n",
       "9. 'X5'\n",
       "10. 'X6'\n",
       "11. 'X7'\n",
       "12. 'X8'\n",
       "13. 'X9'\n",
       "14. 'X10'\n",
       "15. 'X11'\n",
       "16. 'X12'\n",
       "17. 'X13'\n",
       "18. 'X14'\n",
       "19. 'X15'\n",
       "20. 'X16'\n",
       "21. 'X17'\n",
       "22. 'X18'\n",
       "23. 'X19'\n",
       "24. 'X20'\n",
       "25. 'X21'\n",
       "26. 'X22'\n",
       "27. 'X23'\n",
       "28. 'X24'\n",
       "29. 'X25'\n",
       "30. 'X26'\n",
       "31. 'X27'\n",
       "32. 'X28'\n",
       "33. 'X29'\n",
       "34. 'X30'\n",
       "35. 'X31'\n",
       "\n",
       "\n"
      ],
      "text/plain": [
       " [1] \"X\"       \"year\"    \"month\"   \"measure\" \"X1\"      \"X2\"      \"X3\"     \n",
       " [8] \"X4\"      \"X5\"      \"X6\"      \"X7\"      \"X8\"      \"X9\"      \"X10\"    \n",
       "[15] \"X11\"     \"X12\"     \"X13\"     \"X14\"     \"X15\"     \"X16\"     \"X17\"    \n",
       "[22] \"X18\"     \"X19\"     \"X20\"     \"X21\"     \"X22\"     \"X23\"     \"X24\"    \n",
       "[29] \"X25\"     \"X26\"     \"X27\"     \"X28\"     \"X29\"     \"X30\"     \"X31\"    "
      ]
     },
     "metadata": {},
     "output_type": "display_data"
    }
   ],
   "source": [
    "# View the column names\n",
    "names(weather)"
   ]
  },
  {
   "cell_type": "code",
   "execution_count": 5,
   "metadata": {},
   "outputs": [
    {
     "name": "stdout",
     "output_type": "stream",
     "text": [
      "'data.frame':\t286 obs. of  35 variables:\n",
      " $ X      : int  1 2 3 4 5 6 7 8 9 10 ...\n",
      " $ year   : int  2014 2014 2014 2014 2014 2014 2014 2014 2014 2014 ...\n",
      " $ month  : int  12 12 12 12 12 12 12 12 12 12 ...\n",
      " $ measure: chr  \"Max.TemperatureF\" \"Mean.TemperatureF\" \"Min.TemperatureF\" \"Max.Dew.PointF\" ...\n",
      " $ X1     : chr  \"64\" \"52\" \"39\" \"46\" ...\n",
      " $ X2     : chr  \"42\" \"38\" \"33\" \"40\" ...\n",
      " $ X3     : chr  \"51\" \"44\" \"37\" \"49\" ...\n",
      " $ X4     : chr  \"43\" \"37\" \"30\" \"24\" ...\n",
      " $ X5     : chr  \"42\" \"34\" \"26\" \"37\" ...\n",
      " $ X6     : chr  \"45\" \"42\" \"38\" \"45\" ...\n",
      " $ X7     : chr  \"38\" \"30\" \"21\" \"36\" ...\n",
      " $ X8     : chr  \"29\" \"24\" \"18\" \"28\" ...\n",
      " $ X9     : chr  \"49\" \"39\" \"29\" \"49\" ...\n",
      " $ X10    : chr  \"48\" \"43\" \"38\" \"45\" ...\n",
      " $ X11    : chr  \"39\" \"36\" \"32\" \"37\" ...\n",
      " $ X12    : chr  \"39\" \"35\" \"31\" \"28\" ...\n",
      " $ X13    : chr  \"42\" \"37\" \"32\" \"28\" ...\n",
      " $ X14    : chr  \"45\" \"39\" \"33\" \"29\" ...\n",
      " $ X15    : chr  \"42\" \"37\" \"32\" \"33\" ...\n",
      " $ X16    : chr  \"44\" \"40\" \"35\" \"42\" ...\n",
      " $ X17    : chr  \"49\" \"45\" \"41\" \"46\" ...\n",
      " $ X18    : chr  \"44\" \"40\" \"36\" \"34\" ...\n",
      " $ X19    : chr  \"37\" \"33\" \"29\" \"25\" ...\n",
      " $ X20    : chr  \"36\" \"32\" \"27\" \"30\" ...\n",
      " $ X21    : chr  \"36\" \"33\" \"30\" \"30\" ...\n",
      " $ X22    : chr  \"44\" \"39\" \"33\" \"39\" ...\n",
      " $ X23    : chr  \"47\" \"45\" \"42\" \"45\" ...\n",
      " $ X24    : chr  \"46\" \"44\" \"41\" \"46\" ...\n",
      " $ X25    : chr  \"59\" \"52\" \"44\" \"58\" ...\n",
      " $ X26    : chr  \"50\" \"44\" \"37\" \"31\" ...\n",
      " $ X27    : chr  \"52\" \"45\" \"38\" \"34\" ...\n",
      " $ X28    : chr  \"52\" \"46\" \"40\" \"42\" ...\n",
      " $ X29    : chr  \"41\" \"36\" \"30\" \"26\" ...\n",
      " $ X30    : chr  \"30\" \"26\" \"22\" \"10\" ...\n",
      " $ X31    : chr  \"30\" \"25\" \"20\" \"8\" ...\n"
     ]
    }
   ],
   "source": [
    "# View the structure of the data\n",
    "str(weather)"
   ]
  },
  {
   "cell_type": "code",
   "execution_count": 6,
   "metadata": {},
   "outputs": [
    {
     "name": "stderr",
     "output_type": "stream",
     "text": [
      "\n",
      "Attaching package: 'dplyr'\n",
      "\n",
      "The following objects are masked from 'package:stats':\n",
      "\n",
      "    filter, lag\n",
      "\n",
      "The following objects are masked from 'package:base':\n",
      "\n",
      "    intersect, setdiff, setequal, union\n",
      "\n"
     ]
    },
    {
     "name": "stdout",
     "output_type": "stream",
     "text": [
      "Observations: 286\n",
      "Variables: 35\n",
      "$ X       <int> 1, 2, 3, 4, 5, 6, 7, 8, 9, 10, 11, 12, 13, 14, 15, 16, 17, ...\n",
      "$ year    <int> 2014, 2014, 2014, 2014, 2014, 2014, 2014, 2014, 2014, 2014,...\n",
      "$ month   <int> 12, 12, 12, 12, 12, 12, 12, 12, 12, 12, 12, 12, 12, 12, 12,...\n",
      "$ measure <chr> \"Max.TemperatureF\", \"Mean.TemperatureF\", \"Min.TemperatureF\"...\n",
      "$ X1      <chr> \"64\", \"52\", \"39\", \"46\", \"40\", \"26\", \"74\", \"63\", \"52\", \"30.4...\n",
      "$ X2      <chr> \"42\", \"38\", \"33\", \"40\", \"27\", \"17\", \"92\", \"72\", \"51\", \"30.7...\n",
      "$ X3      <chr> \"51\", \"44\", \"37\", \"49\", \"42\", \"24\", \"100\", \"79\", \"57\", \"30....\n",
      "$ X4      <chr> \"43\", \"37\", \"30\", \"24\", \"21\", \"13\", \"69\", \"54\", \"39\", \"30.5...\n",
      "$ X5      <chr> \"42\", \"34\", \"26\", \"37\", \"25\", \"12\", \"85\", \"66\", \"47\", \"30.6...\n",
      "$ X6      <chr> \"45\", \"42\", \"38\", \"45\", \"40\", \"36\", \"100\", \"93\", \"85\", \"30....\n",
      "$ X7      <chr> \"38\", \"30\", \"21\", \"36\", \"20\", \"-3\", \"92\", \"61\", \"29\", \"30.6...\n",
      "$ X8      <chr> \"29\", \"24\", \"18\", \"28\", \"16\", \"3\", \"92\", \"70\", \"47\", \"30.77...\n",
      "$ X9      <chr> \"49\", \"39\", \"29\", \"49\", \"41\", \"28\", \"100\", \"93\", \"86\", \"30....\n",
      "$ X10     <chr> \"48\", \"43\", \"38\", \"45\", \"39\", \"37\", \"100\", \"95\", \"89\", \"29....\n",
      "$ X11     <chr> \"39\", \"36\", \"32\", \"37\", \"31\", \"27\", \"92\", \"87\", \"82\", \"29.8...\n",
      "$ X12     <chr> \"39\", \"35\", \"31\", \"28\", \"27\", \"25\", \"85\", \"75\", \"64\", \"29.8...\n",
      "$ X13     <chr> \"42\", \"37\", \"32\", \"28\", \"26\", \"24\", \"75\", \"65\", \"55\", \"29.8...\n",
      "$ X14     <chr> \"45\", \"39\", \"33\", \"29\", \"27\", \"25\", \"82\", \"68\", \"53\", \"29.9...\n",
      "$ X15     <chr> \"42\", \"37\", \"32\", \"33\", \"29\", \"27\", \"89\", \"75\", \"60\", \"30.1...\n",
      "$ X16     <chr> \"44\", \"40\", \"35\", \"42\", \"36\", \"30\", \"96\", \"85\", \"73\", \"30.1...\n",
      "$ X17     <chr> \"49\", \"45\", \"41\", \"46\", \"41\", \"32\", \"100\", \"85\", \"70\", \"29....\n",
      "$ X18     <chr> \"44\", \"40\", \"36\", \"34\", \"30\", \"26\", \"89\", \"73\", \"57\", \"29.8...\n",
      "$ X19     <chr> \"37\", \"33\", \"29\", \"25\", \"22\", \"20\", \"69\", \"63\", \"56\", \"30.1...\n",
      "$ X20     <chr> \"36\", \"32\", \"27\", \"30\", \"24\", \"20\", \"89\", \"79\", \"69\", \"30.3...\n",
      "$ X21     <chr> \"36\", \"33\", \"30\", \"30\", \"27\", \"25\", \"85\", \"77\", \"69\", \"30.3...\n",
      "$ X22     <chr> \"44\", \"39\", \"33\", \"39\", \"34\", \"25\", \"89\", \"79\", \"69\", \"30.4...\n",
      "$ X23     <chr> \"47\", \"45\", \"42\", \"45\", \"42\", \"37\", \"100\", \"91\", \"82\", \"30....\n",
      "$ X24     <chr> \"46\", \"44\", \"41\", \"46\", \"44\", \"41\", \"100\", \"98\", \"96\", \"30....\n",
      "$ X25     <chr> \"59\", \"52\", \"44\", \"58\", \"43\", \"29\", \"100\", \"75\", \"49\", \"29....\n",
      "$ X26     <chr> \"50\", \"44\", \"37\", \"31\", \"29\", \"28\", \"70\", \"60\", \"49\", \"30.1...\n",
      "$ X27     <chr> \"52\", \"45\", \"38\", \"34\", \"31\", \"29\", \"70\", \"60\", \"50\", \"30.2...\n",
      "$ X28     <chr> \"52\", \"46\", \"40\", \"42\", \"35\", \"27\", \"76\", \"65\", \"53\", \"29.9...\n",
      "$ X29     <chr> \"41\", \"36\", \"30\", \"26\", \"20\", \"10\", \"64\", \"51\", \"37\", \"30.2...\n",
      "$ X30     <chr> \"30\", \"26\", \"22\", \"10\", \"4\", \"-6\", \"50\", \"38\", \"26\", \"30.36...\n",
      "$ X31     <chr> \"30\", \"25\", \"20\", \"8\", \"5\", \"1\", \"57\", \"44\", \"31\", \"30.32\",...\n"
     ]
    }
   ],
   "source": [
    "# Load dplyr package\n",
    "library(dplyr)\n",
    "\n",
    "# Look at the structure using dplyr's glimpse()\n",
    "glimpse(weather)"
   ]
  },
  {
   "cell_type": "code",
   "execution_count": 7,
   "metadata": {},
   "outputs": [
    {
     "data": {
      "text/plain": [
       "       X               year          month          measure         \n",
       " Min.   :  1.00   Min.   :2014   Min.   : 1.000   Length:286        \n",
       " 1st Qu.: 72.25   1st Qu.:2015   1st Qu.: 4.000   Class :character  \n",
       " Median :143.50   Median :2015   Median : 7.000   Mode  :character  \n",
       " Mean   :143.50   Mean   :2015   Mean   : 6.923                     \n",
       " 3rd Qu.:214.75   3rd Qu.:2015   3rd Qu.:10.000                     \n",
       " Max.   :286.00   Max.   :2015   Max.   :12.000                     \n",
       "      X1                 X2                 X3                 X4           \n",
       " Length:286         Length:286         Length:286         Length:286        \n",
       " Class :character   Class :character   Class :character   Class :character  \n",
       " Mode  :character   Mode  :character   Mode  :character   Mode  :character  \n",
       "                                                                            \n",
       "                                                                            \n",
       "                                                                            \n",
       "      X5                 X6                 X7                 X8           \n",
       " Length:286         Length:286         Length:286         Length:286        \n",
       " Class :character   Class :character   Class :character   Class :character  \n",
       " Mode  :character   Mode  :character   Mode  :character   Mode  :character  \n",
       "                                                                            \n",
       "                                                                            \n",
       "                                                                            \n",
       "      X9                X10                X11                X12           \n",
       " Length:286         Length:286         Length:286         Length:286        \n",
       " Class :character   Class :character   Class :character   Class :character  \n",
       " Mode  :character   Mode  :character   Mode  :character   Mode  :character  \n",
       "                                                                            \n",
       "                                                                            \n",
       "                                                                            \n",
       "     X13                X14                X15                X16           \n",
       " Length:286         Length:286         Length:286         Length:286        \n",
       " Class :character   Class :character   Class :character   Class :character  \n",
       " Mode  :character   Mode  :character   Mode  :character   Mode  :character  \n",
       "                                                                            \n",
       "                                                                            \n",
       "                                                                            \n",
       "     X17                X18                X19                X20           \n",
       " Length:286         Length:286         Length:286         Length:286        \n",
       " Class :character   Class :character   Class :character   Class :character  \n",
       " Mode  :character   Mode  :character   Mode  :character   Mode  :character  \n",
       "                                                                            \n",
       "                                                                            \n",
       "                                                                            \n",
       "     X21                X22                X23                X24           \n",
       " Length:286         Length:286         Length:286         Length:286        \n",
       " Class :character   Class :character   Class :character   Class :character  \n",
       " Mode  :character   Mode  :character   Mode  :character   Mode  :character  \n",
       "                                                                            \n",
       "                                                                            \n",
       "                                                                            \n",
       "     X25                X26                X27                X28           \n",
       " Length:286         Length:286         Length:286         Length:286        \n",
       " Class :character   Class :character   Class :character   Class :character  \n",
       " Mode  :character   Mode  :character   Mode  :character   Mode  :character  \n",
       "                                                                            \n",
       "                                                                            \n",
       "                                                                            \n",
       "     X29                X30                X31           \n",
       " Length:286         Length:286         Length:286        \n",
       " Class :character   Class :character   Class :character  \n",
       " Mode  :character   Mode  :character   Mode  :character  \n",
       "                                                         \n",
       "                                                         \n",
       "                                                         "
      ]
     },
     "metadata": {},
     "output_type": "display_data"
    }
   ],
   "source": [
    "# View a summary of the data\n",
    "summary(weather)"
   ]
  },
  {
   "cell_type": "code",
   "execution_count": 8,
   "metadata": {},
   "outputs": [
    {
     "data": {
      "text/html": [
       "<table>\n",
       "<thead><tr><th scope=col>X</th><th scope=col>year</th><th scope=col>month</th><th scope=col>measure</th><th scope=col>X1</th><th scope=col>X2</th><th scope=col>X3</th><th scope=col>X4</th><th scope=col>X5</th><th scope=col>X6</th><th scope=col>...</th><th scope=col>X22</th><th scope=col>X23</th><th scope=col>X24</th><th scope=col>X25</th><th scope=col>X26</th><th scope=col>X27</th><th scope=col>X28</th><th scope=col>X29</th><th scope=col>X30</th><th scope=col>X31</th></tr></thead>\n",
       "<tbody>\n",
       "\t<tr><td>1                </td><td>2014             </td><td>12               </td><td>Max.TemperatureF </td><td>64               </td><td>42               </td><td>51               </td><td>43               </td><td>42               </td><td>45               </td><td>...              </td><td>44               </td><td>47               </td><td>46               </td><td>59               </td><td>50               </td><td>52               </td><td>52               </td><td>41               </td><td>30               </td><td>30               </td></tr>\n",
       "\t<tr><td>2                </td><td>2014             </td><td>12               </td><td>Mean.TemperatureF</td><td>52               </td><td>38               </td><td>44               </td><td>37               </td><td>34               </td><td>42               </td><td>...              </td><td>39               </td><td>45               </td><td>44               </td><td>52               </td><td>44               </td><td>45               </td><td>46               </td><td>36               </td><td>26               </td><td>25               </td></tr>\n",
       "\t<tr><td>3                </td><td>2014             </td><td>12               </td><td>Min.TemperatureF </td><td>39               </td><td>33               </td><td>37               </td><td>30               </td><td>26               </td><td>38               </td><td>...              </td><td>33               </td><td>42               </td><td>41               </td><td>44               </td><td>37               </td><td>38               </td><td>40               </td><td>30               </td><td>22               </td><td>20               </td></tr>\n",
       "\t<tr><td>4                </td><td>2014             </td><td>12               </td><td>Max.Dew.PointF   </td><td>46               </td><td>40               </td><td>49               </td><td>24               </td><td>37               </td><td>45               </td><td>...              </td><td>39               </td><td>45               </td><td>46               </td><td>58               </td><td>31               </td><td>34               </td><td>42               </td><td>26               </td><td>10               </td><td>8                </td></tr>\n",
       "\t<tr><td>5                </td><td>2014             </td><td>12               </td><td>MeanDew.PointF   </td><td>40               </td><td>27               </td><td>42               </td><td>21               </td><td>25               </td><td>40               </td><td>...              </td><td>34               </td><td>42               </td><td>44               </td><td>43               </td><td>29               </td><td>31               </td><td>35               </td><td>20               </td><td>4                </td><td>5                </td></tr>\n",
       "\t<tr><td>6                </td><td>2014             </td><td>12               </td><td>Min.DewpointF    </td><td>26               </td><td>17               </td><td>24               </td><td>13               </td><td>12               </td><td>36               </td><td>...              </td><td>25               </td><td>37               </td><td>41               </td><td>29               </td><td>28               </td><td>29               </td><td>27               </td><td>10               </td><td>-6               </td><td>1                </td></tr>\n",
       "</tbody>\n",
       "</table>\n"
      ],
      "text/latex": [
       "\\begin{tabular}{r|lllllllllllllllllllllllllllllllllll}\n",
       " X & year & month & measure & X1 & X2 & X3 & X4 & X5 & X6 & ... & X22 & X23 & X24 & X25 & X26 & X27 & X28 & X29 & X30 & X31\\\\\n",
       "\\hline\n",
       "\t 1                 & 2014              & 12                & Max.TemperatureF  & 64                & 42                & 51                & 43                & 42                & 45                & ...               & 44                & 47                & 46                & 59                & 50                & 52                & 52                & 41                & 30                & 30               \\\\\n",
       "\t 2                 & 2014              & 12                & Mean.TemperatureF & 52                & 38                & 44                & 37                & 34                & 42                & ...               & 39                & 45                & 44                & 52                & 44                & 45                & 46                & 36                & 26                & 25               \\\\\n",
       "\t 3                 & 2014              & 12                & Min.TemperatureF  & 39                & 33                & 37                & 30                & 26                & 38                & ...               & 33                & 42                & 41                & 44                & 37                & 38                & 40                & 30                & 22                & 20               \\\\\n",
       "\t 4                 & 2014              & 12                & Max.Dew.PointF    & 46                & 40                & 49                & 24                & 37                & 45                & ...               & 39                & 45                & 46                & 58                & 31                & 34                & 42                & 26                & 10                & 8                \\\\\n",
       "\t 5                 & 2014              & 12                & MeanDew.PointF    & 40                & 27                & 42                & 21                & 25                & 40                & ...               & 34                & 42                & 44                & 43                & 29                & 31                & 35                & 20                & 4                 & 5                \\\\\n",
       "\t 6                 & 2014              & 12                & Min.DewpointF     & 26                & 17                & 24                & 13                & 12                & 36                & ...               & 25                & 37                & 41                & 29                & 28                & 29                & 27                & 10                & -6                & 1                \\\\\n",
       "\\end{tabular}\n"
      ],
      "text/markdown": [
       "\n",
       "| X | year | month | measure | X1 | X2 | X3 | X4 | X5 | X6 | ... | X22 | X23 | X24 | X25 | X26 | X27 | X28 | X29 | X30 | X31 |\n",
       "|---|---|---|---|---|---|---|---|---|---|---|---|---|---|---|---|---|---|---|---|---|\n",
       "| 1                 | 2014              | 12                | Max.TemperatureF  | 64                | 42                | 51                | 43                | 42                | 45                | ...               | 44                | 47                | 46                | 59                | 50                | 52                | 52                | 41                | 30                | 30                |\n",
       "| 2                 | 2014              | 12                | Mean.TemperatureF | 52                | 38                | 44                | 37                | 34                | 42                | ...               | 39                | 45                | 44                | 52                | 44                | 45                | 46                | 36                | 26                | 25                |\n",
       "| 3                 | 2014              | 12                | Min.TemperatureF  | 39                | 33                | 37                | 30                | 26                | 38                | ...               | 33                | 42                | 41                | 44                | 37                | 38                | 40                | 30                | 22                | 20                |\n",
       "| 4                 | 2014              | 12                | Max.Dew.PointF    | 46                | 40                | 49                | 24                | 37                | 45                | ...               | 39                | 45                | 46                | 58                | 31                | 34                | 42                | 26                | 10                | 8                 |\n",
       "| 5                 | 2014              | 12                | MeanDew.PointF    | 40                | 27                | 42                | 21                | 25                | 40                | ...               | 34                | 42                | 44                | 43                | 29                | 31                | 35                | 20                | 4                 | 5                 |\n",
       "| 6                 | 2014              | 12                | Min.DewpointF     | 26                | 17                | 24                | 13                | 12                | 36                | ...               | 25                | 37                | 41                | 29                | 28                | 29                | 27                | 10                | -6                | 1                 |\n",
       "\n"
      ],
      "text/plain": [
       "  X year month measure           X1 X2 X3 X4 X5 X6 ... X22 X23 X24 X25 X26 X27\n",
       "1 1 2014 12    Max.TemperatureF  64 42 51 43 42 45 ... 44  47  46  59  50  52 \n",
       "2 2 2014 12    Mean.TemperatureF 52 38 44 37 34 42 ... 39  45  44  52  44  45 \n",
       "3 3 2014 12    Min.TemperatureF  39 33 37 30 26 38 ... 33  42  41  44  37  38 \n",
       "4 4 2014 12    Max.Dew.PointF    46 40 49 24 37 45 ... 39  45  46  58  31  34 \n",
       "5 5 2014 12    MeanDew.PointF    40 27 42 21 25 40 ... 34  42  44  43  29  31 \n",
       "6 6 2014 12    Min.DewpointF     26 17 24 13 12 36 ... 25  37  41  29  28  29 \n",
       "  X28 X29 X30 X31\n",
       "1 52  41  30  30 \n",
       "2 46  36  26  25 \n",
       "3 40  30  22  20 \n",
       "4 42  26  10  8  \n",
       "5 35  20  4   5  \n",
       "6 27  10  -6  1  "
      ]
     },
     "metadata": {},
     "output_type": "display_data"
    }
   ],
   "source": [
    "# View first 6 rows\n",
    "head(weather, n = 6)"
   ]
  },
  {
   "cell_type": "code",
   "execution_count": 9,
   "metadata": {},
   "outputs": [
    {
     "data": {
      "text/html": [
       "<table>\n",
       "<thead><tr><th></th><th scope=col>X</th><th scope=col>year</th><th scope=col>month</th><th scope=col>measure</th><th scope=col>X1</th><th scope=col>X2</th><th scope=col>X3</th><th scope=col>X4</th><th scope=col>X5</th><th scope=col>X6</th><th scope=col>...</th><th scope=col>X22</th><th scope=col>X23</th><th scope=col>X24</th><th scope=col>X25</th><th scope=col>X26</th><th scope=col>X27</th><th scope=col>X28</th><th scope=col>X29</th><th scope=col>X30</th><th scope=col>X31</th></tr></thead>\n",
       "<tbody>\n",
       "\t<tr><th scope=row>281</th><td>281               </td><td>2015              </td><td>12                </td><td>Mean.Wind.SpeedMPH</td><td>6                 </td><td>NA                </td><td>NA                </td><td>NA                </td><td>NA                </td><td>NA                </td><td>...               </td><td>NA                </td><td>NA                </td><td>NA                </td><td>NA                </td><td>NA                </td><td>NA                </td><td>NA                </td><td>NA                </td><td>NA                </td><td>NA                </td></tr>\n",
       "\t<tr><th scope=row>282</th><td>282               </td><td>2015              </td><td>12                </td><td>Max.Gust.SpeedMPH </td><td>17                </td><td>NA                </td><td>NA                </td><td>NA                </td><td>NA                </td><td>NA                </td><td>...               </td><td>NA                </td><td>NA                </td><td>NA                </td><td>NA                </td><td>NA                </td><td>NA                </td><td>NA                </td><td>NA                </td><td>NA                </td><td>NA                </td></tr>\n",
       "\t<tr><th scope=row>283</th><td>283               </td><td>2015              </td><td>12                </td><td>PrecipitationIn   </td><td>0.14              </td><td>NA                </td><td>NA                </td><td>NA                </td><td>NA                </td><td>NA                </td><td>...               </td><td>NA                </td><td>NA                </td><td>NA                </td><td>NA                </td><td>NA                </td><td>NA                </td><td>NA                </td><td>NA                </td><td>NA                </td><td>NA                </td></tr>\n",
       "\t<tr><th scope=row>284</th><td>284               </td><td>2015              </td><td>12                </td><td>CloudCover        </td><td>7                 </td><td>NA                </td><td>NA                </td><td>NA                </td><td>NA                </td><td>NA                </td><td>...               </td><td>NA                </td><td>NA                </td><td>NA                </td><td>NA                </td><td>NA                </td><td>NA                </td><td>NA                </td><td>NA                </td><td>NA                </td><td>NA                </td></tr>\n",
       "\t<tr><th scope=row>285</th><td>285               </td><td>2015              </td><td>12                </td><td>Events            </td><td>Rain              </td><td>NA                </td><td>NA                </td><td>NA                </td><td>NA                </td><td>NA                </td><td>...               </td><td>NA                </td><td>NA                </td><td>NA                </td><td>NA                </td><td>NA                </td><td>NA                </td><td>NA                </td><td>NA                </td><td>NA                </td><td>NA                </td></tr>\n",
       "\t<tr><th scope=row>286</th><td>286               </td><td>2015              </td><td>12                </td><td>WindDirDegrees    </td><td>109               </td><td>NA                </td><td>NA                </td><td>NA                </td><td>NA                </td><td>NA                </td><td>...               </td><td>NA                </td><td>NA                </td><td>NA                </td><td>NA                </td><td>NA                </td><td>NA                </td><td>NA                </td><td>NA                </td><td>NA                </td><td>NA                </td></tr>\n",
       "</tbody>\n",
       "</table>\n"
      ],
      "text/latex": [
       "\\begin{tabular}{r|lllllllllllllllllllllllllllllllllll}\n",
       "  & X & year & month & measure & X1 & X2 & X3 & X4 & X5 & X6 & ... & X22 & X23 & X24 & X25 & X26 & X27 & X28 & X29 & X30 & X31\\\\\n",
       "\\hline\n",
       "\t281 & 281                & 2015               & 12                 & Mean.Wind.SpeedMPH & 6                  & NA                 & NA                 & NA                 & NA                 & NA                 & ...                & NA                 & NA                 & NA                 & NA                 & NA                 & NA                 & NA                 & NA                 & NA                 & NA                \\\\\n",
       "\t282 & 282                & 2015               & 12                 & Max.Gust.SpeedMPH  & 17                 & NA                 & NA                 & NA                 & NA                 & NA                 & ...                & NA                 & NA                 & NA                 & NA                 & NA                 & NA                 & NA                 & NA                 & NA                 & NA                \\\\\n",
       "\t283 & 283                & 2015               & 12                 & PrecipitationIn    & 0.14               & NA                 & NA                 & NA                 & NA                 & NA                 & ...                & NA                 & NA                 & NA                 & NA                 & NA                 & NA                 & NA                 & NA                 & NA                 & NA                \\\\\n",
       "\t284 & 284                & 2015               & 12                 & CloudCover         & 7                  & NA                 & NA                 & NA                 & NA                 & NA                 & ...                & NA                 & NA                 & NA                 & NA                 & NA                 & NA                 & NA                 & NA                 & NA                 & NA                \\\\\n",
       "\t285 & 285                & 2015               & 12                 & Events             & Rain               & NA                 & NA                 & NA                 & NA                 & NA                 & ...                & NA                 & NA                 & NA                 & NA                 & NA                 & NA                 & NA                 & NA                 & NA                 & NA                \\\\\n",
       "\t286 & 286                & 2015               & 12                 & WindDirDegrees     & 109                & NA                 & NA                 & NA                 & NA                 & NA                 & ...                & NA                 & NA                 & NA                 & NA                 & NA                 & NA                 & NA                 & NA                 & NA                 & NA                \\\\\n",
       "\\end{tabular}\n"
      ],
      "text/markdown": [
       "\n",
       "| <!--/--> | X | year | month | measure | X1 | X2 | X3 | X4 | X5 | X6 | ... | X22 | X23 | X24 | X25 | X26 | X27 | X28 | X29 | X30 | X31 |\n",
       "|---|---|---|---|---|---|---|---|---|---|---|---|---|---|---|---|---|---|---|---|---|---|\n",
       "| 281 | 281                | 2015               | 12                 | Mean.Wind.SpeedMPH | 6                  | NA                 | NA                 | NA                 | NA                 | NA                 | ...                | NA                 | NA                 | NA                 | NA                 | NA                 | NA                 | NA                 | NA                 | NA                 | NA                 |\n",
       "| 282 | 282                | 2015               | 12                 | Max.Gust.SpeedMPH  | 17                 | NA                 | NA                 | NA                 | NA                 | NA                 | ...                | NA                 | NA                 | NA                 | NA                 | NA                 | NA                 | NA                 | NA                 | NA                 | NA                 |\n",
       "| 283 | 283                | 2015               | 12                 | PrecipitationIn    | 0.14               | NA                 | NA                 | NA                 | NA                 | NA                 | ...                | NA                 | NA                 | NA                 | NA                 | NA                 | NA                 | NA                 | NA                 | NA                 | NA                 |\n",
       "| 284 | 284                | 2015               | 12                 | CloudCover         | 7                  | NA                 | NA                 | NA                 | NA                 | NA                 | ...                | NA                 | NA                 | NA                 | NA                 | NA                 | NA                 | NA                 | NA                 | NA                 | NA                 |\n",
       "| 285 | 285                | 2015               | 12                 | Events             | Rain               | NA                 | NA                 | NA                 | NA                 | NA                 | ...                | NA                 | NA                 | NA                 | NA                 | NA                 | NA                 | NA                 | NA                 | NA                 | NA                 |\n",
       "| 286 | 286                | 2015               | 12                 | WindDirDegrees     | 109                | NA                 | NA                 | NA                 | NA                 | NA                 | ...                | NA                 | NA                 | NA                 | NA                 | NA                 | NA                 | NA                 | NA                 | NA                 | NA                 |\n",
       "\n"
      ],
      "text/plain": [
       "    X   year month measure            X1   X2 X3 X4 X5 X6 ... X22 X23 X24 X25\n",
       "281 281 2015 12    Mean.Wind.SpeedMPH 6    NA NA NA NA NA ... NA  NA  NA  NA \n",
       "282 282 2015 12    Max.Gust.SpeedMPH  17   NA NA NA NA NA ... NA  NA  NA  NA \n",
       "283 283 2015 12    PrecipitationIn    0.14 NA NA NA NA NA ... NA  NA  NA  NA \n",
       "284 284 2015 12    CloudCover         7    NA NA NA NA NA ... NA  NA  NA  NA \n",
       "285 285 2015 12    Events             Rain NA NA NA NA NA ... NA  NA  NA  NA \n",
       "286 286 2015 12    WindDirDegrees     109  NA NA NA NA NA ... NA  NA  NA  NA \n",
       "    X26 X27 X28 X29 X30 X31\n",
       "281 NA  NA  NA  NA  NA  NA \n",
       "282 NA  NA  NA  NA  NA  NA \n",
       "283 NA  NA  NA  NA  NA  NA \n",
       "284 NA  NA  NA  NA  NA  NA \n",
       "285 NA  NA  NA  NA  NA  NA \n",
       "286 NA  NA  NA  NA  NA  NA "
      ]
     },
     "metadata": {},
     "output_type": "display_data"
    }
   ],
   "source": [
    "# View the last 6 rows\n",
    "tail(weather, n = 6)"
   ]
  },
  {
   "cell_type": "markdown",
   "metadata": {},
   "source": [
    "## TIDY DATA"
   ]
  },
  {
   "cell_type": "code",
   "execution_count": 10,
   "metadata": {},
   "outputs": [
    {
     "data": {
      "text/html": [
       "<table>\n",
       "<thead><tr><th scope=col>X</th><th scope=col>year</th><th scope=col>month</th><th scope=col>measure</th><th scope=col>day</th><th scope=col>value</th></tr></thead>\n",
       "<tbody>\n",
       "\t<tr><td>1                </td><td>2014             </td><td>12               </td><td>Max.TemperatureF </td><td>X1               </td><td>64               </td></tr>\n",
       "\t<tr><td>2                </td><td>2014             </td><td>12               </td><td>Mean.TemperatureF</td><td>X1               </td><td>52               </td></tr>\n",
       "\t<tr><td>3                </td><td>2014             </td><td>12               </td><td>Min.TemperatureF </td><td>X1               </td><td>39               </td></tr>\n",
       "\t<tr><td>4                </td><td>2014             </td><td>12               </td><td>Max.Dew.PointF   </td><td>X1               </td><td>46               </td></tr>\n",
       "\t<tr><td>5                </td><td>2014             </td><td>12               </td><td>MeanDew.PointF   </td><td>X1               </td><td>40               </td></tr>\n",
       "\t<tr><td>6                </td><td>2014             </td><td>12               </td><td>Min.DewpointF    </td><td>X1               </td><td>26               </td></tr>\n",
       "</tbody>\n",
       "</table>\n"
      ],
      "text/latex": [
       "\\begin{tabular}{r|llllll}\n",
       " X & year & month & measure & day & value\\\\\n",
       "\\hline\n",
       "\t 1                 & 2014              & 12                & Max.TemperatureF  & X1                & 64               \\\\\n",
       "\t 2                 & 2014              & 12                & Mean.TemperatureF & X1                & 52               \\\\\n",
       "\t 3                 & 2014              & 12                & Min.TemperatureF  & X1                & 39               \\\\\n",
       "\t 4                 & 2014              & 12                & Max.Dew.PointF    & X1                & 46               \\\\\n",
       "\t 5                 & 2014              & 12                & MeanDew.PointF    & X1                & 40               \\\\\n",
       "\t 6                 & 2014              & 12                & Min.DewpointF     & X1                & 26               \\\\\n",
       "\\end{tabular}\n"
      ],
      "text/markdown": [
       "\n",
       "| X | year | month | measure | day | value |\n",
       "|---|---|---|---|---|---|\n",
       "| 1                 | 2014              | 12                | Max.TemperatureF  | X1                | 64                |\n",
       "| 2                 | 2014              | 12                | Mean.TemperatureF | X1                | 52                |\n",
       "| 3                 | 2014              | 12                | Min.TemperatureF  | X1                | 39                |\n",
       "| 4                 | 2014              | 12                | Max.Dew.PointF    | X1                | 46                |\n",
       "| 5                 | 2014              | 12                | MeanDew.PointF    | X1                | 40                |\n",
       "| 6                 | 2014              | 12                | Min.DewpointF     | X1                | 26                |\n",
       "\n"
      ],
      "text/plain": [
       "  X year month measure           day value\n",
       "1 1 2014 12    Max.TemperatureF  X1  64   \n",
       "2 2 2014 12    Mean.TemperatureF X1  52   \n",
       "3 3 2014 12    Min.TemperatureF  X1  39   \n",
       "4 4 2014 12    Max.Dew.PointF    X1  46   \n",
       "5 5 2014 12    MeanDew.PointF    X1  40   \n",
       "6 6 2014 12    Min.DewpointF     X1  26   "
      ]
     },
     "metadata": {},
     "output_type": "display_data"
    }
   ],
   "source": [
    "# Load the tidyr package\n",
    "library(tidyr)\n",
    "\n",
    "# Gather the columns\n",
    "weather2 <- gather(weather, day, value, X1:X31, na.rm = TRUE)\n",
    "\n",
    "# View the head\n",
    "head(weather2)"
   ]
  },
  {
   "cell_type": "code",
   "execution_count": 11,
   "metadata": {},
   "outputs": [
    {
     "data": {
      "text/html": [
       "<table>\n",
       "<thead><tr><th scope=col>year</th><th scope=col>month</th><th scope=col>measure</th><th scope=col>day</th><th scope=col>value</th></tr></thead>\n",
       "<tbody>\n",
       "\t<tr><td>2014             </td><td>12               </td><td>Max.TemperatureF </td><td>X1               </td><td>64               </td></tr>\n",
       "\t<tr><td>2014             </td><td>12               </td><td>Mean.TemperatureF</td><td>X1               </td><td>52               </td></tr>\n",
       "\t<tr><td>2014             </td><td>12               </td><td>Min.TemperatureF </td><td>X1               </td><td>39               </td></tr>\n",
       "\t<tr><td>2014             </td><td>12               </td><td>Max.Dew.PointF   </td><td>X1               </td><td>46               </td></tr>\n",
       "\t<tr><td>2014             </td><td>12               </td><td>MeanDew.PointF   </td><td>X1               </td><td>40               </td></tr>\n",
       "\t<tr><td>2014             </td><td>12               </td><td>Min.DewpointF    </td><td>X1               </td><td>26               </td></tr>\n",
       "</tbody>\n",
       "</table>\n"
      ],
      "text/latex": [
       "\\begin{tabular}{r|lllll}\n",
       " year & month & measure & day & value\\\\\n",
       "\\hline\n",
       "\t 2014              & 12                & Max.TemperatureF  & X1                & 64               \\\\\n",
       "\t 2014              & 12                & Mean.TemperatureF & X1                & 52               \\\\\n",
       "\t 2014              & 12                & Min.TemperatureF  & X1                & 39               \\\\\n",
       "\t 2014              & 12                & Max.Dew.PointF    & X1                & 46               \\\\\n",
       "\t 2014              & 12                & MeanDew.PointF    & X1                & 40               \\\\\n",
       "\t 2014              & 12                & Min.DewpointF     & X1                & 26               \\\\\n",
       "\\end{tabular}\n"
      ],
      "text/markdown": [
       "\n",
       "| year | month | measure | day | value |\n",
       "|---|---|---|---|---|\n",
       "| 2014              | 12                | Max.TemperatureF  | X1                | 64                |\n",
       "| 2014              | 12                | Mean.TemperatureF | X1                | 52                |\n",
       "| 2014              | 12                | Min.TemperatureF  | X1                | 39                |\n",
       "| 2014              | 12                | Max.Dew.PointF    | X1                | 46                |\n",
       "| 2014              | 12                | MeanDew.PointF    | X1                | 40                |\n",
       "| 2014              | 12                | Min.DewpointF     | X1                | 26                |\n",
       "\n"
      ],
      "text/plain": [
       "  year month measure           day value\n",
       "1 2014 12    Max.TemperatureF  X1  64   \n",
       "2 2014 12    Mean.TemperatureF X1  52   \n",
       "3 2014 12    Min.TemperatureF  X1  39   \n",
       "4 2014 12    Max.Dew.PointF    X1  46   \n",
       "5 2014 12    MeanDew.PointF    X1  40   \n",
       "6 2014 12    Min.DewpointF     X1  26   "
      ]
     },
     "metadata": {},
     "output_type": "display_data"
    }
   ],
   "source": [
    "# First remove column of row names\n",
    "weather2 <- weather2[, -1]\n",
    "\n",
    "# View the head\n",
    "head(weather2)"
   ]
  },
  {
   "cell_type": "code",
   "execution_count": 12,
   "metadata": {},
   "outputs": [
    {
     "data": {
      "text/html": [
       "<table>\n",
       "<thead><tr><th scope=col>year</th><th scope=col>month</th><th scope=col>day</th><th scope=col>CloudCover</th><th scope=col>Events</th><th scope=col>Max.Dew.PointF</th><th scope=col>Max.Gust.SpeedMPH</th><th scope=col>Max.Humidity</th><th scope=col>Max.Sea.Level.PressureIn</th><th scope=col>Max.TemperatureF</th><th scope=col>...</th><th scope=col>Mean.VisibilityMiles</th><th scope=col>Mean.Wind.SpeedMPH</th><th scope=col>MeanDew.PointF</th><th scope=col>Min.DewpointF</th><th scope=col>Min.Humidity</th><th scope=col>Min.Sea.Level.PressureIn</th><th scope=col>Min.TemperatureF</th><th scope=col>Min.VisibilityMiles</th><th scope=col>PrecipitationIn</th><th scope=col>WindDirDegrees</th></tr></thead>\n",
       "<tbody>\n",
       "\t<tr><td>2014     </td><td>12       </td><td>X1       </td><td>6        </td><td>Rain     </td><td>46       </td><td>29       </td><td>74       </td><td>30.45    </td><td>64       </td><td>...      </td><td>10       </td><td>13       </td><td>40       </td><td>26       </td><td>52       </td><td>30.01    </td><td>39       </td><td>10       </td><td>0.01     </td><td>268      </td></tr>\n",
       "\t<tr><td>2014     </td><td>12       </td><td>X10      </td><td>8        </td><td>Rain     </td><td>45       </td><td>29       </td><td>100      </td><td>29.58    </td><td>48       </td><td>...      </td><td>3        </td><td>13       </td><td>39       </td><td>37       </td><td>89       </td><td>29.43    </td><td>38       </td><td>1        </td><td>0.28     </td><td>357      </td></tr>\n",
       "\t<tr><td>2014     </td><td>12       </td><td>X11      </td><td>8        </td><td>Rain-Snow</td><td>37       </td><td>28       </td><td>92       </td><td>29.81    </td><td>39       </td><td>...      </td><td>7        </td><td>13       </td><td>31       </td><td>27       </td><td>82       </td><td>29.44    </td><td>32       </td><td>1        </td><td>0.02     </td><td>230      </td></tr>\n",
       "\t<tr><td>2014     </td><td>12       </td><td>X12      </td><td>7        </td><td>Snow     </td><td>28       </td><td>21       </td><td>85       </td><td>29.88    </td><td>39       </td><td>...      </td><td>10       </td><td>11       </td><td>27       </td><td>25       </td><td>64       </td><td>29.81    </td><td>31       </td><td>7        </td><td>T        </td><td>286      </td></tr>\n",
       "\t<tr><td>2014     </td><td>12       </td><td>X13      </td><td>5        </td><td>         </td><td>28       </td><td>23       </td><td>75       </td><td>29.86    </td><td>42       </td><td>...      </td><td>10       </td><td>12       </td><td>26       </td><td>24       </td><td>55       </td><td>29.78    </td><td>32       </td><td>10       </td><td>T        </td><td>298      </td></tr>\n",
       "\t<tr><td>2014     </td><td>12       </td><td>X14      </td><td>4        </td><td>         </td><td>29       </td><td>20       </td><td>82       </td><td>29.91    </td><td>45       </td><td>...      </td><td>10       </td><td>10       </td><td>27       </td><td>25       </td><td>53       </td><td>29.78    </td><td>33       </td><td>10       </td><td>0.00     </td><td>306      </td></tr>\n",
       "</tbody>\n",
       "</table>\n"
      ],
      "text/latex": [
       "\\begin{tabular}{r|lllllllllllllllllllllllll}\n",
       " year & month & day & CloudCover & Events & Max.Dew.PointF & Max.Gust.SpeedMPH & Max.Humidity & Max.Sea.Level.PressureIn & Max.TemperatureF & ... & Mean.VisibilityMiles & Mean.Wind.SpeedMPH & MeanDew.PointF & Min.DewpointF & Min.Humidity & Min.Sea.Level.PressureIn & Min.TemperatureF & Min.VisibilityMiles & PrecipitationIn & WindDirDegrees\\\\\n",
       "\\hline\n",
       "\t 2014      & 12        & X1        & 6         & Rain      & 46        & 29        & 74        & 30.45     & 64        & ...       & 10        & 13        & 40        & 26        & 52        & 30.01     & 39        & 10        & 0.01      & 268      \\\\\n",
       "\t 2014      & 12        & X10       & 8         & Rain      & 45        & 29        & 100       & 29.58     & 48        & ...       & 3         & 13        & 39        & 37        & 89        & 29.43     & 38        & 1         & 0.28      & 357      \\\\\n",
       "\t 2014      & 12        & X11       & 8         & Rain-Snow & 37        & 28        & 92        & 29.81     & 39        & ...       & 7         & 13        & 31        & 27        & 82        & 29.44     & 32        & 1         & 0.02      & 230      \\\\\n",
       "\t 2014      & 12        & X12       & 7         & Snow      & 28        & 21        & 85        & 29.88     & 39        & ...       & 10        & 11        & 27        & 25        & 64        & 29.81     & 31        & 7         & T         & 286      \\\\\n",
       "\t 2014      & 12        & X13       & 5         &           & 28        & 23        & 75        & 29.86     & 42        & ...       & 10        & 12        & 26        & 24        & 55        & 29.78     & 32        & 10        & T         & 298      \\\\\n",
       "\t 2014      & 12        & X14       & 4         &           & 29        & 20        & 82        & 29.91     & 45        & ...       & 10        & 10        & 27        & 25        & 53        & 29.78     & 33        & 10        & 0.00      & 306      \\\\\n",
       "\\end{tabular}\n"
      ],
      "text/markdown": [
       "\n",
       "| year | month | day | CloudCover | Events | Max.Dew.PointF | Max.Gust.SpeedMPH | Max.Humidity | Max.Sea.Level.PressureIn | Max.TemperatureF | ... | Mean.VisibilityMiles | Mean.Wind.SpeedMPH | MeanDew.PointF | Min.DewpointF | Min.Humidity | Min.Sea.Level.PressureIn | Min.TemperatureF | Min.VisibilityMiles | PrecipitationIn | WindDirDegrees |\n",
       "|---|---|---|---|---|---|---|---|---|---|---|---|---|---|---|---|---|---|---|---|---|\n",
       "| 2014      | 12        | X1        | 6         | Rain      | 46        | 29        | 74        | 30.45     | 64        | ...       | 10        | 13        | 40        | 26        | 52        | 30.01     | 39        | 10        | 0.01      | 268       |\n",
       "| 2014      | 12        | X10       | 8         | Rain      | 45        | 29        | 100       | 29.58     | 48        | ...       | 3         | 13        | 39        | 37        | 89        | 29.43     | 38        | 1         | 0.28      | 357       |\n",
       "| 2014      | 12        | X11       | 8         | Rain-Snow | 37        | 28        | 92        | 29.81     | 39        | ...       | 7         | 13        | 31        | 27        | 82        | 29.44     | 32        | 1         | 0.02      | 230       |\n",
       "| 2014      | 12        | X12       | 7         | Snow      | 28        | 21        | 85        | 29.88     | 39        | ...       | 10        | 11        | 27        | 25        | 64        | 29.81     | 31        | 7         | T         | 286       |\n",
       "| 2014      | 12        | X13       | 5         |           | 28        | 23        | 75        | 29.86     | 42        | ...       | 10        | 12        | 26        | 24        | 55        | 29.78     | 32        | 10        | T         | 298       |\n",
       "| 2014      | 12        | X14       | 4         |           | 29        | 20        | 82        | 29.91     | 45        | ...       | 10        | 10        | 27        | 25        | 53        | 29.78     | 33        | 10        | 0.00      | 306       |\n",
       "\n"
      ],
      "text/plain": [
       "  year month day CloudCover Events    Max.Dew.PointF Max.Gust.SpeedMPH\n",
       "1 2014 12    X1  6          Rain      46             29               \n",
       "2 2014 12    X10 8          Rain      45             29               \n",
       "3 2014 12    X11 8          Rain-Snow 37             28               \n",
       "4 2014 12    X12 7          Snow      28             21               \n",
       "5 2014 12    X13 5                    28             23               \n",
       "6 2014 12    X14 4                    29             20               \n",
       "  Max.Humidity Max.Sea.Level.PressureIn Max.TemperatureF ...\n",
       "1 74           30.45                    64               ...\n",
       "2 100          29.58                    48               ...\n",
       "3 92           29.81                    39               ...\n",
       "4 85           29.88                    39               ...\n",
       "5 75           29.86                    42               ...\n",
       "6 82           29.91                    45               ...\n",
       "  Mean.VisibilityMiles Mean.Wind.SpeedMPH MeanDew.PointF Min.DewpointF\n",
       "1 10                   13                 40             26           \n",
       "2 3                    13                 39             37           \n",
       "3 7                    13                 31             27           \n",
       "4 10                   11                 27             25           \n",
       "5 10                   12                 26             24           \n",
       "6 10                   10                 27             25           \n",
       "  Min.Humidity Min.Sea.Level.PressureIn Min.TemperatureF Min.VisibilityMiles\n",
       "1 52           30.01                    39               10                 \n",
       "2 89           29.43                    38               1                  \n",
       "3 82           29.44                    32               1                  \n",
       "4 64           29.81                    31               7                  \n",
       "5 55           29.78                    32               10                 \n",
       "6 53           29.78                    33               10                 \n",
       "  PrecipitationIn WindDirDegrees\n",
       "1 0.01            268           \n",
       "2 0.28            357           \n",
       "3 0.02            230           \n",
       "4 T               286           \n",
       "5 T               298           \n",
       "6 0.00            306           "
      ]
     },
     "metadata": {},
     "output_type": "display_data"
    }
   ],
   "source": [
    "# Spread the data\n",
    "weather3 <- spread(weather2, measure, value)\n",
    "\n",
    "# View the head\n",
    "head(weather3)"
   ]
  },
  {
   "cell_type": "markdown",
   "metadata": {},
   "source": [
    "## PREPARE DATA FOR ANALYSIS"
   ]
  },
  {
   "cell_type": "code",
   "execution_count": 13,
   "metadata": {},
   "outputs": [
    {
     "name": "stderr",
     "output_type": "stream",
     "text": [
      "Warning message:\n",
      "\"package 'lubridate' was built under R version 3.5.2\"\n",
      "Attaching package: 'lubridate'\n",
      "\n",
      "The following object is masked from 'package:base':\n",
      "\n",
      "    date\n",
      "\n"
     ]
    }
   ],
   "source": [
    "# Load the stringr and lubridate packages\n",
    "library(stringr)\n",
    "library(lubridate)"
   ]
  },
  {
   "cell_type": "code",
   "execution_count": 14,
   "metadata": {},
   "outputs": [
    {
     "data": {
      "text/html": [
       "<table>\n",
       "<thead><tr><th scope=col>year</th><th scope=col>month</th><th scope=col>day</th><th scope=col>CloudCover</th><th scope=col>Events</th><th scope=col>Max.Dew.PointF</th><th scope=col>Max.Gust.SpeedMPH</th><th scope=col>Max.Humidity</th><th scope=col>Max.Sea.Level.PressureIn</th><th scope=col>Max.TemperatureF</th><th scope=col>...</th><th scope=col>Mean.VisibilityMiles</th><th scope=col>Mean.Wind.SpeedMPH</th><th scope=col>MeanDew.PointF</th><th scope=col>Min.DewpointF</th><th scope=col>Min.Humidity</th><th scope=col>Min.Sea.Level.PressureIn</th><th scope=col>Min.TemperatureF</th><th scope=col>Min.VisibilityMiles</th><th scope=col>PrecipitationIn</th><th scope=col>WindDirDegrees</th></tr></thead>\n",
       "<tbody>\n",
       "\t<tr><td>2014     </td><td>12       </td><td>1        </td><td>6        </td><td>Rain     </td><td>46       </td><td>29       </td><td>74       </td><td>30.45    </td><td>64       </td><td>...      </td><td>10       </td><td>13       </td><td>40       </td><td>26       </td><td>52       </td><td>30.01    </td><td>39       </td><td>10       </td><td>0.01     </td><td>268      </td></tr>\n",
       "\t<tr><td>2014     </td><td>12       </td><td>10       </td><td>8        </td><td>Rain     </td><td>45       </td><td>29       </td><td>100      </td><td>29.58    </td><td>48       </td><td>...      </td><td>3        </td><td>13       </td><td>39       </td><td>37       </td><td>89       </td><td>29.43    </td><td>38       </td><td>1        </td><td>0.28     </td><td>357      </td></tr>\n",
       "\t<tr><td>2014     </td><td>12       </td><td>11       </td><td>8        </td><td>Rain-Snow</td><td>37       </td><td>28       </td><td>92       </td><td>29.81    </td><td>39       </td><td>...      </td><td>7        </td><td>13       </td><td>31       </td><td>27       </td><td>82       </td><td>29.44    </td><td>32       </td><td>1        </td><td>0.02     </td><td>230      </td></tr>\n",
       "\t<tr><td>2014     </td><td>12       </td><td>12       </td><td>7        </td><td>Snow     </td><td>28       </td><td>21       </td><td>85       </td><td>29.88    </td><td>39       </td><td>...      </td><td>10       </td><td>11       </td><td>27       </td><td>25       </td><td>64       </td><td>29.81    </td><td>31       </td><td>7        </td><td>T        </td><td>286      </td></tr>\n",
       "\t<tr><td>2014     </td><td>12       </td><td>13       </td><td>5        </td><td>         </td><td>28       </td><td>23       </td><td>75       </td><td>29.86    </td><td>42       </td><td>...      </td><td>10       </td><td>12       </td><td>26       </td><td>24       </td><td>55       </td><td>29.78    </td><td>32       </td><td>10       </td><td>T        </td><td>298      </td></tr>\n",
       "\t<tr><td>2014     </td><td>12       </td><td>14       </td><td>4        </td><td>         </td><td>29       </td><td>20       </td><td>82       </td><td>29.91    </td><td>45       </td><td>...      </td><td>10       </td><td>10       </td><td>27       </td><td>25       </td><td>53       </td><td>29.78    </td><td>33       </td><td>10       </td><td>0.00     </td><td>306      </td></tr>\n",
       "</tbody>\n",
       "</table>\n"
      ],
      "text/latex": [
       "\\begin{tabular}{r|lllllllllllllllllllllllll}\n",
       " year & month & day & CloudCover & Events & Max.Dew.PointF & Max.Gust.SpeedMPH & Max.Humidity & Max.Sea.Level.PressureIn & Max.TemperatureF & ... & Mean.VisibilityMiles & Mean.Wind.SpeedMPH & MeanDew.PointF & Min.DewpointF & Min.Humidity & Min.Sea.Level.PressureIn & Min.TemperatureF & Min.VisibilityMiles & PrecipitationIn & WindDirDegrees\\\\\n",
       "\\hline\n",
       "\t 2014      & 12        & 1         & 6         & Rain      & 46        & 29        & 74        & 30.45     & 64        & ...       & 10        & 13        & 40        & 26        & 52        & 30.01     & 39        & 10        & 0.01      & 268      \\\\\n",
       "\t 2014      & 12        & 10        & 8         & Rain      & 45        & 29        & 100       & 29.58     & 48        & ...       & 3         & 13        & 39        & 37        & 89        & 29.43     & 38        & 1         & 0.28      & 357      \\\\\n",
       "\t 2014      & 12        & 11        & 8         & Rain-Snow & 37        & 28        & 92        & 29.81     & 39        & ...       & 7         & 13        & 31        & 27        & 82        & 29.44     & 32        & 1         & 0.02      & 230      \\\\\n",
       "\t 2014      & 12        & 12        & 7         & Snow      & 28        & 21        & 85        & 29.88     & 39        & ...       & 10        & 11        & 27        & 25        & 64        & 29.81     & 31        & 7         & T         & 286      \\\\\n",
       "\t 2014      & 12        & 13        & 5         &           & 28        & 23        & 75        & 29.86     & 42        & ...       & 10        & 12        & 26        & 24        & 55        & 29.78     & 32        & 10        & T         & 298      \\\\\n",
       "\t 2014      & 12        & 14        & 4         &           & 29        & 20        & 82        & 29.91     & 45        & ...       & 10        & 10        & 27        & 25        & 53        & 29.78     & 33        & 10        & 0.00      & 306      \\\\\n",
       "\\end{tabular}\n"
      ],
      "text/markdown": [
       "\n",
       "| year | month | day | CloudCover | Events | Max.Dew.PointF | Max.Gust.SpeedMPH | Max.Humidity | Max.Sea.Level.PressureIn | Max.TemperatureF | ... | Mean.VisibilityMiles | Mean.Wind.SpeedMPH | MeanDew.PointF | Min.DewpointF | Min.Humidity | Min.Sea.Level.PressureIn | Min.TemperatureF | Min.VisibilityMiles | PrecipitationIn | WindDirDegrees |\n",
       "|---|---|---|---|---|---|---|---|---|---|---|---|---|---|---|---|---|---|---|---|---|\n",
       "| 2014      | 12        | 1         | 6         | Rain      | 46        | 29        | 74        | 30.45     | 64        | ...       | 10        | 13        | 40        | 26        | 52        | 30.01     | 39        | 10        | 0.01      | 268       |\n",
       "| 2014      | 12        | 10        | 8         | Rain      | 45        | 29        | 100       | 29.58     | 48        | ...       | 3         | 13        | 39        | 37        | 89        | 29.43     | 38        | 1         | 0.28      | 357       |\n",
       "| 2014      | 12        | 11        | 8         | Rain-Snow | 37        | 28        | 92        | 29.81     | 39        | ...       | 7         | 13        | 31        | 27        | 82        | 29.44     | 32        | 1         | 0.02      | 230       |\n",
       "| 2014      | 12        | 12        | 7         | Snow      | 28        | 21        | 85        | 29.88     | 39        | ...       | 10        | 11        | 27        | 25        | 64        | 29.81     | 31        | 7         | T         | 286       |\n",
       "| 2014      | 12        | 13        | 5         |           | 28        | 23        | 75        | 29.86     | 42        | ...       | 10        | 12        | 26        | 24        | 55        | 29.78     | 32        | 10        | T         | 298       |\n",
       "| 2014      | 12        | 14        | 4         |           | 29        | 20        | 82        | 29.91     | 45        | ...       | 10        | 10        | 27        | 25        | 53        | 29.78     | 33        | 10        | 0.00      | 306       |\n",
       "\n"
      ],
      "text/plain": [
       "  year month day CloudCover Events    Max.Dew.PointF Max.Gust.SpeedMPH\n",
       "1 2014 12    1   6          Rain      46             29               \n",
       "2 2014 12    10  8          Rain      45             29               \n",
       "3 2014 12    11  8          Rain-Snow 37             28               \n",
       "4 2014 12    12  7          Snow      28             21               \n",
       "5 2014 12    13  5                    28             23               \n",
       "6 2014 12    14  4                    29             20               \n",
       "  Max.Humidity Max.Sea.Level.PressureIn Max.TemperatureF ...\n",
       "1 74           30.45                    64               ...\n",
       "2 100          29.58                    48               ...\n",
       "3 92           29.81                    39               ...\n",
       "4 85           29.88                    39               ...\n",
       "5 75           29.86                    42               ...\n",
       "6 82           29.91                    45               ...\n",
       "  Mean.VisibilityMiles Mean.Wind.SpeedMPH MeanDew.PointF Min.DewpointF\n",
       "1 10                   13                 40             26           \n",
       "2 3                    13                 39             37           \n",
       "3 7                    13                 31             27           \n",
       "4 10                   11                 27             25           \n",
       "5 10                   12                 26             24           \n",
       "6 10                   10                 27             25           \n",
       "  Min.Humidity Min.Sea.Level.PressureIn Min.TemperatureF Min.VisibilityMiles\n",
       "1 52           30.01                    39               10                 \n",
       "2 89           29.43                    38               1                  \n",
       "3 82           29.44                    32               1                  \n",
       "4 64           29.81                    31               7                  \n",
       "5 55           29.78                    32               10                 \n",
       "6 53           29.78                    33               10                 \n",
       "  PrecipitationIn WindDirDegrees\n",
       "1 0.01            268           \n",
       "2 0.28            357           \n",
       "3 0.02            230           \n",
       "4 T               286           \n",
       "5 T               298           \n",
       "6 0.00            306           "
      ]
     },
     "metadata": {},
     "output_type": "display_data"
    }
   ],
   "source": [
    "# Remove X's from day column\n",
    "weather3$day <- str_replace(weather3$day,\"X\", \"\")\n",
    "\n",
    "# View the head\n",
    "head(weather3)"
   ]
  },
  {
   "cell_type": "code",
   "execution_count": 15,
   "metadata": {},
   "outputs": [
    {
     "data": {
      "text/html": [
       "<table>\n",
       "<thead><tr><th scope=col>date</th><th scope=col>CloudCover</th><th scope=col>Events</th><th scope=col>Max.Dew.PointF</th><th scope=col>Max.Gust.SpeedMPH</th><th scope=col>Max.Humidity</th><th scope=col>Max.Sea.Level.PressureIn</th><th scope=col>Max.TemperatureF</th><th scope=col>Max.VisibilityMiles</th><th scope=col>Max.Wind.SpeedMPH</th><th scope=col>...</th><th scope=col>Mean.VisibilityMiles</th><th scope=col>Mean.Wind.SpeedMPH</th><th scope=col>MeanDew.PointF</th><th scope=col>Min.DewpointF</th><th scope=col>Min.Humidity</th><th scope=col>Min.Sea.Level.PressureIn</th><th scope=col>Min.TemperatureF</th><th scope=col>Min.VisibilityMiles</th><th scope=col>PrecipitationIn</th><th scope=col>WindDirDegrees</th></tr></thead>\n",
       "<tbody>\n",
       "\t<tr><td>2014-12-01</td><td>6         </td><td>Rain      </td><td>46        </td><td>29        </td><td>74        </td><td>30.45     </td><td>64        </td><td>10        </td><td>22        </td><td>...       </td><td>10        </td><td>13        </td><td>40        </td><td>26        </td><td>52        </td><td>30.01     </td><td>39        </td><td>10        </td><td>0.01      </td><td>268       </td></tr>\n",
       "\t<tr><td>2014-12-10</td><td>8         </td><td>Rain      </td><td>45        </td><td>29        </td><td>100       </td><td>29.58     </td><td>48        </td><td>10        </td><td>23        </td><td>...       </td><td>3         </td><td>13        </td><td>39        </td><td>37        </td><td>89        </td><td>29.43     </td><td>38        </td><td>1         </td><td>0.28      </td><td>357       </td></tr>\n",
       "\t<tr><td>2014-12-11</td><td>8         </td><td>Rain-Snow </td><td>37        </td><td>28        </td><td>92        </td><td>29.81     </td><td>39        </td><td>10        </td><td>21        </td><td>...       </td><td>7         </td><td>13        </td><td>31        </td><td>27        </td><td>82        </td><td>29.44     </td><td>32        </td><td>1         </td><td>0.02      </td><td>230       </td></tr>\n",
       "\t<tr><td>2014-12-12</td><td>7         </td><td>Snow      </td><td>28        </td><td>21        </td><td>85        </td><td>29.88     </td><td>39        </td><td>10        </td><td>16        </td><td>...       </td><td>10        </td><td>11        </td><td>27        </td><td>25        </td><td>64        </td><td>29.81     </td><td>31        </td><td>7         </td><td>T         </td><td>286       </td></tr>\n",
       "\t<tr><td>2014-12-13</td><td>5         </td><td>          </td><td>28        </td><td>23        </td><td>75        </td><td>29.86     </td><td>42        </td><td>10        </td><td>17        </td><td>...       </td><td>10        </td><td>12        </td><td>26        </td><td>24        </td><td>55        </td><td>29.78     </td><td>32        </td><td>10        </td><td>T         </td><td>298       </td></tr>\n",
       "\t<tr><td>2014-12-14</td><td>4         </td><td>          </td><td>29        </td><td>20        </td><td>82        </td><td>29.91     </td><td>45        </td><td>10        </td><td>15        </td><td>...       </td><td>10        </td><td>10        </td><td>27        </td><td>25        </td><td>53        </td><td>29.78     </td><td>33        </td><td>10        </td><td>0.00      </td><td>306       </td></tr>\n",
       "</tbody>\n",
       "</table>\n"
      ],
      "text/latex": [
       "\\begin{tabular}{r|lllllllllllllllllllllll}\n",
       " date & CloudCover & Events & Max.Dew.PointF & Max.Gust.SpeedMPH & Max.Humidity & Max.Sea.Level.PressureIn & Max.TemperatureF & Max.VisibilityMiles & Max.Wind.SpeedMPH & ... & Mean.VisibilityMiles & Mean.Wind.SpeedMPH & MeanDew.PointF & Min.DewpointF & Min.Humidity & Min.Sea.Level.PressureIn & Min.TemperatureF & Min.VisibilityMiles & PrecipitationIn & WindDirDegrees\\\\\n",
       "\\hline\n",
       "\t 2014-12-01 & 6          & Rain       & 46         & 29         & 74         & 30.45      & 64         & 10         & 22         & ...        & 10         & 13         & 40         & 26         & 52         & 30.01      & 39         & 10         & 0.01       & 268       \\\\\n",
       "\t 2014-12-10 & 8          & Rain       & 45         & 29         & 100        & 29.58      & 48         & 10         & 23         & ...        & 3          & 13         & 39         & 37         & 89         & 29.43      & 38         & 1          & 0.28       & 357       \\\\\n",
       "\t 2014-12-11 & 8          & Rain-Snow  & 37         & 28         & 92         & 29.81      & 39         & 10         & 21         & ...        & 7          & 13         & 31         & 27         & 82         & 29.44      & 32         & 1          & 0.02       & 230       \\\\\n",
       "\t 2014-12-12 & 7          & Snow       & 28         & 21         & 85         & 29.88      & 39         & 10         & 16         & ...        & 10         & 11         & 27         & 25         & 64         & 29.81      & 31         & 7          & T          & 286       \\\\\n",
       "\t 2014-12-13 & 5          &            & 28         & 23         & 75         & 29.86      & 42         & 10         & 17         & ...        & 10         & 12         & 26         & 24         & 55         & 29.78      & 32         & 10         & T          & 298       \\\\\n",
       "\t 2014-12-14 & 4          &            & 29         & 20         & 82         & 29.91      & 45         & 10         & 15         & ...        & 10         & 10         & 27         & 25         & 53         & 29.78      & 33         & 10         & 0.00       & 306       \\\\\n",
       "\\end{tabular}\n"
      ],
      "text/markdown": [
       "\n",
       "| date | CloudCover | Events | Max.Dew.PointF | Max.Gust.SpeedMPH | Max.Humidity | Max.Sea.Level.PressureIn | Max.TemperatureF | Max.VisibilityMiles | Max.Wind.SpeedMPH | ... | Mean.VisibilityMiles | Mean.Wind.SpeedMPH | MeanDew.PointF | Min.DewpointF | Min.Humidity | Min.Sea.Level.PressureIn | Min.TemperatureF | Min.VisibilityMiles | PrecipitationIn | WindDirDegrees |\n",
       "|---|---|---|---|---|---|---|---|---|---|---|---|---|---|---|---|---|---|---|---|---|\n",
       "| 2014-12-01 | 6          | Rain       | 46         | 29         | 74         | 30.45      | 64         | 10         | 22         | ...        | 10         | 13         | 40         | 26         | 52         | 30.01      | 39         | 10         | 0.01       | 268        |\n",
       "| 2014-12-10 | 8          | Rain       | 45         | 29         | 100        | 29.58      | 48         | 10         | 23         | ...        | 3          | 13         | 39         | 37         | 89         | 29.43      | 38         | 1          | 0.28       | 357        |\n",
       "| 2014-12-11 | 8          | Rain-Snow  | 37         | 28         | 92         | 29.81      | 39         | 10         | 21         | ...        | 7          | 13         | 31         | 27         | 82         | 29.44      | 32         | 1          | 0.02       | 230        |\n",
       "| 2014-12-12 | 7          | Snow       | 28         | 21         | 85         | 29.88      | 39         | 10         | 16         | ...        | 10         | 11         | 27         | 25         | 64         | 29.81      | 31         | 7          | T          | 286        |\n",
       "| 2014-12-13 | 5          |            | 28         | 23         | 75         | 29.86      | 42         | 10         | 17         | ...        | 10         | 12         | 26         | 24         | 55         | 29.78      | 32         | 10         | T          | 298        |\n",
       "| 2014-12-14 | 4          |            | 29         | 20         | 82         | 29.91      | 45         | 10         | 15         | ...        | 10         | 10         | 27         | 25         | 53         | 29.78      | 33         | 10         | 0.00       | 306        |\n",
       "\n"
      ],
      "text/plain": [
       "  date       CloudCover Events    Max.Dew.PointF Max.Gust.SpeedMPH Max.Humidity\n",
       "1 2014-12-01 6          Rain      46             29                74          \n",
       "2 2014-12-10 8          Rain      45             29                100         \n",
       "3 2014-12-11 8          Rain-Snow 37             28                92          \n",
       "4 2014-12-12 7          Snow      28             21                85          \n",
       "5 2014-12-13 5                    28             23                75          \n",
       "6 2014-12-14 4                    29             20                82          \n",
       "  Max.Sea.Level.PressureIn Max.TemperatureF Max.VisibilityMiles\n",
       "1 30.45                    64               10                 \n",
       "2 29.58                    48               10                 \n",
       "3 29.81                    39               10                 \n",
       "4 29.88                    39               10                 \n",
       "5 29.86                    42               10                 \n",
       "6 29.91                    45               10                 \n",
       "  Max.Wind.SpeedMPH ... Mean.VisibilityMiles Mean.Wind.SpeedMPH MeanDew.PointF\n",
       "1 22                ... 10                   13                 40            \n",
       "2 23                ... 3                    13                 39            \n",
       "3 21                ... 7                    13                 31            \n",
       "4 16                ... 10                   11                 27            \n",
       "5 17                ... 10                   12                 26            \n",
       "6 15                ... 10                   10                 27            \n",
       "  Min.DewpointF Min.Humidity Min.Sea.Level.PressureIn Min.TemperatureF\n",
       "1 26            52           30.01                    39              \n",
       "2 37            89           29.43                    38              \n",
       "3 27            82           29.44                    32              \n",
       "4 25            64           29.81                    31              \n",
       "5 24            55           29.78                    32              \n",
       "6 25            53           29.78                    33              \n",
       "  Min.VisibilityMiles PrecipitationIn WindDirDegrees\n",
       "1 10                  0.01            268           \n",
       "2 1                   0.28            357           \n",
       "3 1                   0.02            230           \n",
       "4 7                   T               286           \n",
       "5 10                  T               298           \n",
       "6 10                  0.00            306           "
      ]
     },
     "metadata": {},
     "output_type": "display_data"
    }
   ],
   "source": [
    "# Unite the year, month, and day columns\n",
    "weather4 <- unite(weather3, date, year, month, day, sep = \"-\")\n",
    "\n",
    "# Convert date column to proper date format using lubridates's ymd()\n",
    "weather4$date <- ymd(weather4$date)\n",
    "\n",
    "# View the head\n",
    "head(weather4)"
   ]
  },
  {
   "cell_type": "code",
   "execution_count": 16,
   "metadata": {},
   "outputs": [
    {
     "data": {
      "text/html": [
       "<table>\n",
       "<thead><tr><th scope=col>date</th><th scope=col>Events</th><th scope=col>CloudCover</th><th scope=col>Max.Dew.PointF</th><th scope=col>Max.Gust.SpeedMPH</th><th scope=col>Max.Humidity</th><th scope=col>Max.Sea.Level.PressureIn</th><th scope=col>Max.TemperatureF</th><th scope=col>Max.VisibilityMiles</th><th scope=col>Max.Wind.SpeedMPH</th><th scope=col>...</th><th scope=col>Mean.VisibilityMiles</th><th scope=col>Mean.Wind.SpeedMPH</th><th scope=col>MeanDew.PointF</th><th scope=col>Min.DewpointF</th><th scope=col>Min.Humidity</th><th scope=col>Min.Sea.Level.PressureIn</th><th scope=col>Min.TemperatureF</th><th scope=col>Min.VisibilityMiles</th><th scope=col>PrecipitationIn</th><th scope=col>WindDirDegrees</th></tr></thead>\n",
       "<tbody>\n",
       "\t<tr><td>2014-12-01</td><td>Rain      </td><td>6         </td><td>46        </td><td>29        </td><td>74        </td><td>30.45     </td><td>64        </td><td>10        </td><td>22        </td><td>...       </td><td>10        </td><td>13        </td><td>40        </td><td>26        </td><td>52        </td><td>30.01     </td><td>39        </td><td>10        </td><td>0.01      </td><td>268       </td></tr>\n",
       "\t<tr><td>2014-12-10</td><td>Rain      </td><td>8         </td><td>45        </td><td>29        </td><td>100       </td><td>29.58     </td><td>48        </td><td>10        </td><td>23        </td><td>...       </td><td>3         </td><td>13        </td><td>39        </td><td>37        </td><td>89        </td><td>29.43     </td><td>38        </td><td>1         </td><td>0.28      </td><td>357       </td></tr>\n",
       "\t<tr><td>2014-12-11</td><td>Rain-Snow </td><td>8         </td><td>37        </td><td>28        </td><td>92        </td><td>29.81     </td><td>39        </td><td>10        </td><td>21        </td><td>...       </td><td>7         </td><td>13        </td><td>31        </td><td>27        </td><td>82        </td><td>29.44     </td><td>32        </td><td>1         </td><td>0.02      </td><td>230       </td></tr>\n",
       "\t<tr><td>2014-12-12</td><td>Snow      </td><td>7         </td><td>28        </td><td>21        </td><td>85        </td><td>29.88     </td><td>39        </td><td>10        </td><td>16        </td><td>...       </td><td>10        </td><td>11        </td><td>27        </td><td>25        </td><td>64        </td><td>29.81     </td><td>31        </td><td>7         </td><td>T         </td><td>286       </td></tr>\n",
       "\t<tr><td>2014-12-13</td><td>          </td><td>5         </td><td>28        </td><td>23        </td><td>75        </td><td>29.86     </td><td>42        </td><td>10        </td><td>17        </td><td>...       </td><td>10        </td><td>12        </td><td>26        </td><td>24        </td><td>55        </td><td>29.78     </td><td>32        </td><td>10        </td><td>T         </td><td>298       </td></tr>\n",
       "\t<tr><td>2014-12-14</td><td>          </td><td>4         </td><td>29        </td><td>20        </td><td>82        </td><td>29.91     </td><td>45        </td><td>10        </td><td>15        </td><td>...       </td><td>10        </td><td>10        </td><td>27        </td><td>25        </td><td>53        </td><td>29.78     </td><td>33        </td><td>10        </td><td>0.00      </td><td>306       </td></tr>\n",
       "</tbody>\n",
       "</table>\n"
      ],
      "text/latex": [
       "\\begin{tabular}{r|lllllllllllllllllllllll}\n",
       " date & Events & CloudCover & Max.Dew.PointF & Max.Gust.SpeedMPH & Max.Humidity & Max.Sea.Level.PressureIn & Max.TemperatureF & Max.VisibilityMiles & Max.Wind.SpeedMPH & ... & Mean.VisibilityMiles & Mean.Wind.SpeedMPH & MeanDew.PointF & Min.DewpointF & Min.Humidity & Min.Sea.Level.PressureIn & Min.TemperatureF & Min.VisibilityMiles & PrecipitationIn & WindDirDegrees\\\\\n",
       "\\hline\n",
       "\t 2014-12-01 & Rain       & 6          & 46         & 29         & 74         & 30.45      & 64         & 10         & 22         & ...        & 10         & 13         & 40         & 26         & 52         & 30.01      & 39         & 10         & 0.01       & 268       \\\\\n",
       "\t 2014-12-10 & Rain       & 8          & 45         & 29         & 100        & 29.58      & 48         & 10         & 23         & ...        & 3          & 13         & 39         & 37         & 89         & 29.43      & 38         & 1          & 0.28       & 357       \\\\\n",
       "\t 2014-12-11 & Rain-Snow  & 8          & 37         & 28         & 92         & 29.81      & 39         & 10         & 21         & ...        & 7          & 13         & 31         & 27         & 82         & 29.44      & 32         & 1          & 0.02       & 230       \\\\\n",
       "\t 2014-12-12 & Snow       & 7          & 28         & 21         & 85         & 29.88      & 39         & 10         & 16         & ...        & 10         & 11         & 27         & 25         & 64         & 29.81      & 31         & 7          & T          & 286       \\\\\n",
       "\t 2014-12-13 &            & 5          & 28         & 23         & 75         & 29.86      & 42         & 10         & 17         & ...        & 10         & 12         & 26         & 24         & 55         & 29.78      & 32         & 10         & T          & 298       \\\\\n",
       "\t 2014-12-14 &            & 4          & 29         & 20         & 82         & 29.91      & 45         & 10         & 15         & ...        & 10         & 10         & 27         & 25         & 53         & 29.78      & 33         & 10         & 0.00       & 306       \\\\\n",
       "\\end{tabular}\n"
      ],
      "text/markdown": [
       "\n",
       "| date | Events | CloudCover | Max.Dew.PointF | Max.Gust.SpeedMPH | Max.Humidity | Max.Sea.Level.PressureIn | Max.TemperatureF | Max.VisibilityMiles | Max.Wind.SpeedMPH | ... | Mean.VisibilityMiles | Mean.Wind.SpeedMPH | MeanDew.PointF | Min.DewpointF | Min.Humidity | Min.Sea.Level.PressureIn | Min.TemperatureF | Min.VisibilityMiles | PrecipitationIn | WindDirDegrees |\n",
       "|---|---|---|---|---|---|---|---|---|---|---|---|---|---|---|---|---|---|---|---|---|\n",
       "| 2014-12-01 | Rain       | 6          | 46         | 29         | 74         | 30.45      | 64         | 10         | 22         | ...        | 10         | 13         | 40         | 26         | 52         | 30.01      | 39         | 10         | 0.01       | 268        |\n",
       "| 2014-12-10 | Rain       | 8          | 45         | 29         | 100        | 29.58      | 48         | 10         | 23         | ...        | 3          | 13         | 39         | 37         | 89         | 29.43      | 38         | 1          | 0.28       | 357        |\n",
       "| 2014-12-11 | Rain-Snow  | 8          | 37         | 28         | 92         | 29.81      | 39         | 10         | 21         | ...        | 7          | 13         | 31         | 27         | 82         | 29.44      | 32         | 1          | 0.02       | 230        |\n",
       "| 2014-12-12 | Snow       | 7          | 28         | 21         | 85         | 29.88      | 39         | 10         | 16         | ...        | 10         | 11         | 27         | 25         | 64         | 29.81      | 31         | 7          | T          | 286        |\n",
       "| 2014-12-13 |            | 5          | 28         | 23         | 75         | 29.86      | 42         | 10         | 17         | ...        | 10         | 12         | 26         | 24         | 55         | 29.78      | 32         | 10         | T          | 298        |\n",
       "| 2014-12-14 |            | 4          | 29         | 20         | 82         | 29.91      | 45         | 10         | 15         | ...        | 10         | 10         | 27         | 25         | 53         | 29.78      | 33         | 10         | 0.00       | 306        |\n",
       "\n"
      ],
      "text/plain": [
       "  date       Events    CloudCover Max.Dew.PointF Max.Gust.SpeedMPH Max.Humidity\n",
       "1 2014-12-01 Rain      6          46             29                74          \n",
       "2 2014-12-10 Rain      8          45             29                100         \n",
       "3 2014-12-11 Rain-Snow 8          37             28                92          \n",
       "4 2014-12-12 Snow      7          28             21                85          \n",
       "5 2014-12-13           5          28             23                75          \n",
       "6 2014-12-14           4          29             20                82          \n",
       "  Max.Sea.Level.PressureIn Max.TemperatureF Max.VisibilityMiles\n",
       "1 30.45                    64               10                 \n",
       "2 29.58                    48               10                 \n",
       "3 29.81                    39               10                 \n",
       "4 29.88                    39               10                 \n",
       "5 29.86                    42               10                 \n",
       "6 29.91                    45               10                 \n",
       "  Max.Wind.SpeedMPH ... Mean.VisibilityMiles Mean.Wind.SpeedMPH MeanDew.PointF\n",
       "1 22                ... 10                   13                 40            \n",
       "2 23                ... 3                    13                 39            \n",
       "3 21                ... 7                    13                 31            \n",
       "4 16                ... 10                   11                 27            \n",
       "5 17                ... 10                   12                 26            \n",
       "6 15                ... 10                   10                 27            \n",
       "  Min.DewpointF Min.Humidity Min.Sea.Level.PressureIn Min.TemperatureF\n",
       "1 26            52           30.01                    39              \n",
       "2 37            89           29.43                    38              \n",
       "3 27            82           29.44                    32              \n",
       "4 25            64           29.81                    31              \n",
       "5 24            55           29.78                    32              \n",
       "6 25            53           29.78                    33              \n",
       "  Min.VisibilityMiles PrecipitationIn WindDirDegrees\n",
       "1 10                  0.01            268           \n",
       "2 1                   0.28            357           \n",
       "3 1                   0.02            230           \n",
       "4 7                   T               286           \n",
       "5 10                  T               298           \n",
       "6 10                  0.00            306           "
      ]
     },
     "metadata": {},
     "output_type": "display_data"
    }
   ],
   "source": [
    "# Rearrange columns using dplyr's select()\n",
    "weather5 <- select(weather4, date, Events, CloudCover:WindDirDegrees)\n",
    "\n",
    "# View the head of weather5\n",
    "head(weather5)"
   ]
  },
  {
   "cell_type": "code",
   "execution_count": 17,
   "metadata": {},
   "outputs": [
    {
     "name": "stdout",
     "output_type": "stream",
     "text": [
      "'data.frame':\t366 obs. of  23 variables:\n",
      " $ date                     : Date, format: \"2014-12-01\" \"2014-12-10\" ...\n",
      " $ Events                   : chr  \"Rain\" \"Rain\" \"Rain-Snow\" \"Snow\" ...\n",
      " $ CloudCover               : chr  \"6\" \"8\" \"8\" \"7\" ...\n",
      " $ Max.Dew.PointF           : chr  \"46\" \"45\" \"37\" \"28\" ...\n",
      " $ Max.Gust.SpeedMPH        : chr  \"29\" \"29\" \"28\" \"21\" ...\n",
      " $ Max.Humidity             : chr  \"74\" \"100\" \"92\" \"85\" ...\n",
      " $ Max.Sea.Level.PressureIn : chr  \"30.45\" \"29.58\" \"29.81\" \"29.88\" ...\n",
      " $ Max.TemperatureF         : chr  \"64\" \"48\" \"39\" \"39\" ...\n",
      " $ Max.VisibilityMiles      : chr  \"10\" \"10\" \"10\" \"10\" ...\n",
      " $ Max.Wind.SpeedMPH        : chr  \"22\" \"23\" \"21\" \"16\" ...\n",
      " $ Mean.Humidity            : chr  \"63\" \"95\" \"87\" \"75\" ...\n",
      " $ Mean.Sea.Level.PressureIn: chr  \"30.13\" \"29.5\" \"29.61\" \"29.85\" ...\n",
      " $ Mean.TemperatureF        : chr  \"52\" \"43\" \"36\" \"35\" ...\n",
      " $ Mean.VisibilityMiles     : chr  \"10\" \"3\" \"7\" \"10\" ...\n",
      " $ Mean.Wind.SpeedMPH       : chr  \"13\" \"13\" \"13\" \"11\" ...\n",
      " $ MeanDew.PointF           : chr  \"40\" \"39\" \"31\" \"27\" ...\n",
      " $ Min.DewpointF            : chr  \"26\" \"37\" \"27\" \"25\" ...\n",
      " $ Min.Humidity             : chr  \"52\" \"89\" \"82\" \"64\" ...\n",
      " $ Min.Sea.Level.PressureIn : chr  \"30.01\" \"29.43\" \"29.44\" \"29.81\" ...\n",
      " $ Min.TemperatureF         : chr  \"39\" \"38\" \"32\" \"31\" ...\n",
      " $ Min.VisibilityMiles      : chr  \"10\" \"1\" \"1\" \"7\" ...\n",
      " $ PrecipitationIn          : chr  \"0.01\" \"0.28\" \"0.02\" \"T\" ...\n",
      " $ WindDirDegrees           : chr  \"268\" \"357\" \"230\" \"286\" ...\n"
     ]
    }
   ],
   "source": [
    "# View the structure of weather5\n",
    "str(weather5)"
   ]
  },
  {
   "cell_type": "code",
   "execution_count": 18,
   "metadata": {},
   "outputs": [
    {
     "data": {
      "text/html": [
       "<table>\n",
       "<thead><tr><th scope=col>date</th><th scope=col>Events</th><th scope=col>CloudCover</th><th scope=col>Max.Dew.PointF</th><th scope=col>Max.Gust.SpeedMPH</th><th scope=col>Max.Humidity</th><th scope=col>Max.Sea.Level.PressureIn</th><th scope=col>Max.TemperatureF</th><th scope=col>Max.VisibilityMiles</th><th scope=col>Max.Wind.SpeedMPH</th><th scope=col>...</th><th scope=col>Mean.VisibilityMiles</th><th scope=col>Mean.Wind.SpeedMPH</th><th scope=col>MeanDew.PointF</th><th scope=col>Min.DewpointF</th><th scope=col>Min.Humidity</th><th scope=col>Min.Sea.Level.PressureIn</th><th scope=col>Min.TemperatureF</th><th scope=col>Min.VisibilityMiles</th><th scope=col>PrecipitationIn</th><th scope=col>WindDirDegrees</th></tr></thead>\n",
       "<tbody>\n",
       "\t<tr><td>2014-12-01</td><td>Rain      </td><td>6         </td><td>46        </td><td>29        </td><td>74        </td><td>30.45     </td><td>64        </td><td>10        </td><td>22        </td><td>...       </td><td>10        </td><td>13        </td><td>40        </td><td>26        </td><td>52        </td><td>30.01     </td><td>39        </td><td>10        </td><td>0.01      </td><td>268       </td></tr>\n",
       "\t<tr><td>2014-12-10</td><td>Rain      </td><td>8         </td><td>45        </td><td>29        </td><td>100       </td><td>29.58     </td><td>48        </td><td>10        </td><td>23        </td><td>...       </td><td>3         </td><td>13        </td><td>39        </td><td>37        </td><td>89        </td><td>29.43     </td><td>38        </td><td>1         </td><td>0.28      </td><td>357       </td></tr>\n",
       "\t<tr><td>2014-12-11</td><td>Rain-Snow </td><td>8         </td><td>37        </td><td>28        </td><td>92        </td><td>29.81     </td><td>39        </td><td>10        </td><td>21        </td><td>...       </td><td>7         </td><td>13        </td><td>31        </td><td>27        </td><td>82        </td><td>29.44     </td><td>32        </td><td>1         </td><td>0.02      </td><td>230       </td></tr>\n",
       "\t<tr><td>2014-12-12</td><td>Snow      </td><td>7         </td><td>28        </td><td>21        </td><td>85        </td><td>29.88     </td><td>39        </td><td>10        </td><td>16        </td><td>...       </td><td>10        </td><td>11        </td><td>27        </td><td>25        </td><td>64        </td><td>29.81     </td><td>31        </td><td>7         </td><td>T         </td><td>286       </td></tr>\n",
       "\t<tr><td>2014-12-13</td><td>          </td><td>5         </td><td>28        </td><td>23        </td><td>75        </td><td>29.86     </td><td>42        </td><td>10        </td><td>17        </td><td>...       </td><td>10        </td><td>12        </td><td>26        </td><td>24        </td><td>55        </td><td>29.78     </td><td>32        </td><td>10        </td><td>T         </td><td>298       </td></tr>\n",
       "\t<tr><td>2014-12-14</td><td>          </td><td>4         </td><td>29        </td><td>20        </td><td>82        </td><td>29.91     </td><td>45        </td><td>10        </td><td>15        </td><td>...       </td><td>10        </td><td>10        </td><td>27        </td><td>25        </td><td>53        </td><td>29.78     </td><td>33        </td><td>10        </td><td>0.00      </td><td>306       </td></tr>\n",
       "\t<tr><td>2014-12-15</td><td>          </td><td>2         </td><td>33        </td><td>21        </td><td>89        </td><td>30.15     </td><td>42        </td><td>10        </td><td>15        </td><td>...       </td><td>10        </td><td>6         </td><td>29        </td><td>27        </td><td>60        </td><td>29.91     </td><td>32        </td><td>10        </td><td>0.00      </td><td>324       </td></tr>\n",
       "\t<tr><td>2014-12-16</td><td>Rain      </td><td>8         </td><td>42        </td><td>10        </td><td>96        </td><td>30.17     </td><td>44        </td><td>10        </td><td>8         </td><td>...       </td><td>9         </td><td>4         </td><td>36        </td><td>30        </td><td>73        </td><td>29.92     </td><td>35        </td><td>5         </td><td>T         </td><td>79        </td></tr>\n",
       "\t<tr><td>2014-12-17</td><td>Rain      </td><td>8         </td><td>46        </td><td>26        </td><td>100       </td><td>29.91     </td><td>49        </td><td>10        </td><td>20        </td><td>...       </td><td>6         </td><td>11        </td><td>41        </td><td>32        </td><td>70        </td><td>29.69     </td><td>41        </td><td>1         </td><td>0.43      </td><td>311       </td></tr>\n",
       "\t<tr><td>2014-12-18</td><td>Rain      </td><td>7         </td><td>34        </td><td>30        </td><td>89        </td><td>29.87     </td><td>44        </td><td>10        </td><td>23        </td><td>...       </td><td>10        </td><td>14        </td><td>30        </td><td>26        </td><td>57        </td><td>29.71     </td><td>36        </td><td>10        </td><td>0.01      </td><td>281       </td></tr>\n",
       "\t<tr><td>2014-12-19</td><td>          </td><td>4         </td><td>25        </td><td>23        </td><td>69        </td><td>30.15     </td><td>37        </td><td>10        </td><td>17        </td><td>...       </td><td>10        </td><td>11        </td><td>22        </td><td>20        </td><td>56        </td><td>29.86     </td><td>29        </td><td>10        </td><td>0.00      </td><td>305       </td></tr>\n",
       "\t<tr><td>2014-12-02</td><td>Rain-Snow </td><td>7         </td><td>40        </td><td>29        </td><td>92        </td><td>30.71     </td><td>42        </td><td>10        </td><td>24        </td><td>...       </td><td>8         </td><td>15        </td><td>27        </td><td>17        </td><td>51        </td><td>30.4      </td><td>33        </td><td>2         </td><td>0.10      </td><td>62        </td></tr>\n",
       "\t<tr><td>2014-12-20</td><td>Snow      </td><td>6         </td><td>30        </td><td>26        </td><td>89        </td><td>30.31     </td><td>36        </td><td>10        </td><td>21        </td><td>...       </td><td>10        </td><td>10        </td><td>24        </td><td>20        </td><td>69        </td><td>30.17     </td><td>27        </td><td>7         </td><td>T         </td><td>350       </td></tr>\n",
       "\t<tr><td>2014-12-21</td><td>Snow      </td><td>8         </td><td>30        </td><td>20        </td><td>85        </td><td>30.37     </td><td>36        </td><td>10        </td><td>16        </td><td>...       </td><td>9         </td><td>9         </td><td>27        </td><td>25        </td><td>69        </td><td>30.28     </td><td>30        </td><td>6         </td><td>T         </td><td>2         </td></tr>\n",
       "\t<tr><td>2014-12-22</td><td>Rain      </td><td>7         </td><td>39        </td><td>22        </td><td>89        </td><td>30.4      </td><td>44        </td><td>10        </td><td>18        </td><td>...       </td><td>10        </td><td>8         </td><td>34        </td><td>25        </td><td>69        </td><td>30.3      </td><td>33        </td><td>4         </td><td>0.05      </td><td>24        </td></tr>\n",
       "\t<tr><td>2014-12-23</td><td>Rain      </td><td>8         </td><td>45        </td><td>25        </td><td>100       </td><td>30.31     </td><td>47        </td><td>10        </td><td>20        </td><td>...       </td><td>5         </td><td>13        </td><td>42        </td><td>37        </td><td>82        </td><td>30.16     </td><td>42        </td><td>1         </td><td>0.25      </td><td>63        </td></tr>\n",
       "\t<tr><td>2014-12-24</td><td>Fog-Rain  </td><td>8         </td><td>46        </td><td>15        </td><td>100       </td><td>30.13     </td><td>46        </td><td>2         </td><td>13        </td><td>...       </td><td>1         </td><td>6         </td><td>44        </td><td>41        </td><td>96        </td><td>29.55     </td><td>41        </td><td>0         </td><td>0.56      </td><td>12        </td></tr>\n",
       "\t<tr><td>2014-12-25</td><td>Rain      </td><td>6         </td><td>58        </td><td>40        </td><td>100       </td><td>29.96     </td><td>59        </td><td>10        </td><td>28        </td><td>...       </td><td>8         </td><td>14        </td><td>43        </td><td>29        </td><td>49        </td><td>29.47     </td><td>44        </td><td>1         </td><td>0.14      </td><td>250       </td></tr>\n",
       "\t<tr><td>2014-12-26</td><td>          </td><td>1         </td><td>31        </td><td>25        </td><td>70        </td><td>30.16     </td><td>50        </td><td>10        </td><td>18        </td><td>...       </td><td>10        </td><td>11        </td><td>29        </td><td>28        </td><td>49        </td><td>29.99     </td><td>37        </td><td>10        </td><td>0.00      </td><td>255       </td></tr>\n",
       "\t<tr><td>2014-12-27</td><td>          </td><td>3         </td><td>34        </td><td>21        </td><td>70        </td><td>30.22     </td><td>52        </td><td>10        </td><td>17        </td><td>...       </td><td>10        </td><td>9         </td><td>31        </td><td>29        </td><td>50        </td><td>30.03     </td><td>38        </td><td>10        </td><td>0.00      </td><td>251       </td></tr>\n",
       "</tbody>\n",
       "</table>\n"
      ],
      "text/latex": [
       "\\begin{tabular}{r|lllllllllllllllllllllll}\n",
       " date & Events & CloudCover & Max.Dew.PointF & Max.Gust.SpeedMPH & Max.Humidity & Max.Sea.Level.PressureIn & Max.TemperatureF & Max.VisibilityMiles & Max.Wind.SpeedMPH & ... & Mean.VisibilityMiles & Mean.Wind.SpeedMPH & MeanDew.PointF & Min.DewpointF & Min.Humidity & Min.Sea.Level.PressureIn & Min.TemperatureF & Min.VisibilityMiles & PrecipitationIn & WindDirDegrees\\\\\n",
       "\\hline\n",
       "\t 2014-12-01 & Rain       & 6          & 46         & 29         & 74         & 30.45      & 64         & 10         & 22         & ...        & 10         & 13         & 40         & 26         & 52         & 30.01      & 39         & 10         & 0.01       & 268       \\\\\n",
       "\t 2014-12-10 & Rain       & 8          & 45         & 29         & 100        & 29.58      & 48         & 10         & 23         & ...        & 3          & 13         & 39         & 37         & 89         & 29.43      & 38         & 1          & 0.28       & 357       \\\\\n",
       "\t 2014-12-11 & Rain-Snow  & 8          & 37         & 28         & 92         & 29.81      & 39         & 10         & 21         & ...        & 7          & 13         & 31         & 27         & 82         & 29.44      & 32         & 1          & 0.02       & 230       \\\\\n",
       "\t 2014-12-12 & Snow       & 7          & 28         & 21         & 85         & 29.88      & 39         & 10         & 16         & ...        & 10         & 11         & 27         & 25         & 64         & 29.81      & 31         & 7          & T          & 286       \\\\\n",
       "\t 2014-12-13 &            & 5          & 28         & 23         & 75         & 29.86      & 42         & 10         & 17         & ...        & 10         & 12         & 26         & 24         & 55         & 29.78      & 32         & 10         & T          & 298       \\\\\n",
       "\t 2014-12-14 &            & 4          & 29         & 20         & 82         & 29.91      & 45         & 10         & 15         & ...        & 10         & 10         & 27         & 25         & 53         & 29.78      & 33         & 10         & 0.00       & 306       \\\\\n",
       "\t 2014-12-15 &            & 2          & 33         & 21         & 89         & 30.15      & 42         & 10         & 15         & ...        & 10         & 6          & 29         & 27         & 60         & 29.91      & 32         & 10         & 0.00       & 324       \\\\\n",
       "\t 2014-12-16 & Rain       & 8          & 42         & 10         & 96         & 30.17      & 44         & 10         & 8          & ...        & 9          & 4          & 36         & 30         & 73         & 29.92      & 35         & 5          & T          & 79        \\\\\n",
       "\t 2014-12-17 & Rain       & 8          & 46         & 26         & 100        & 29.91      & 49         & 10         & 20         & ...        & 6          & 11         & 41         & 32         & 70         & 29.69      & 41         & 1          & 0.43       & 311       \\\\\n",
       "\t 2014-12-18 & Rain       & 7          & 34         & 30         & 89         & 29.87      & 44         & 10         & 23         & ...        & 10         & 14         & 30         & 26         & 57         & 29.71      & 36         & 10         & 0.01       & 281       \\\\\n",
       "\t 2014-12-19 &            & 4          & 25         & 23         & 69         & 30.15      & 37         & 10         & 17         & ...        & 10         & 11         & 22         & 20         & 56         & 29.86      & 29         & 10         & 0.00       & 305       \\\\\n",
       "\t 2014-12-02 & Rain-Snow  & 7          & 40         & 29         & 92         & 30.71      & 42         & 10         & 24         & ...        & 8          & 15         & 27         & 17         & 51         & 30.4       & 33         & 2          & 0.10       & 62        \\\\\n",
       "\t 2014-12-20 & Snow       & 6          & 30         & 26         & 89         & 30.31      & 36         & 10         & 21         & ...        & 10         & 10         & 24         & 20         & 69         & 30.17      & 27         & 7          & T          & 350       \\\\\n",
       "\t 2014-12-21 & Snow       & 8          & 30         & 20         & 85         & 30.37      & 36         & 10         & 16         & ...        & 9          & 9          & 27         & 25         & 69         & 30.28      & 30         & 6          & T          & 2         \\\\\n",
       "\t 2014-12-22 & Rain       & 7          & 39         & 22         & 89         & 30.4       & 44         & 10         & 18         & ...        & 10         & 8          & 34         & 25         & 69         & 30.3       & 33         & 4          & 0.05       & 24        \\\\\n",
       "\t 2014-12-23 & Rain       & 8          & 45         & 25         & 100        & 30.31      & 47         & 10         & 20         & ...        & 5          & 13         & 42         & 37         & 82         & 30.16      & 42         & 1          & 0.25       & 63        \\\\\n",
       "\t 2014-12-24 & Fog-Rain   & 8          & 46         & 15         & 100        & 30.13      & 46         & 2          & 13         & ...        & 1          & 6          & 44         & 41         & 96         & 29.55      & 41         & 0          & 0.56       & 12        \\\\\n",
       "\t 2014-12-25 & Rain       & 6          & 58         & 40         & 100        & 29.96      & 59         & 10         & 28         & ...        & 8          & 14         & 43         & 29         & 49         & 29.47      & 44         & 1          & 0.14       & 250       \\\\\n",
       "\t 2014-12-26 &            & 1          & 31         & 25         & 70         & 30.16      & 50         & 10         & 18         & ...        & 10         & 11         & 29         & 28         & 49         & 29.99      & 37         & 10         & 0.00       & 255       \\\\\n",
       "\t 2014-12-27 &            & 3          & 34         & 21         & 70         & 30.22      & 52         & 10         & 17         & ...        & 10         & 9          & 31         & 29         & 50         & 30.03      & 38         & 10         & 0.00       & 251       \\\\\n",
       "\\end{tabular}\n"
      ],
      "text/markdown": [
       "\n",
       "| date | Events | CloudCover | Max.Dew.PointF | Max.Gust.SpeedMPH | Max.Humidity | Max.Sea.Level.PressureIn | Max.TemperatureF | Max.VisibilityMiles | Max.Wind.SpeedMPH | ... | Mean.VisibilityMiles | Mean.Wind.SpeedMPH | MeanDew.PointF | Min.DewpointF | Min.Humidity | Min.Sea.Level.PressureIn | Min.TemperatureF | Min.VisibilityMiles | PrecipitationIn | WindDirDegrees |\n",
       "|---|---|---|---|---|---|---|---|---|---|---|---|---|---|---|---|---|---|---|---|---|\n",
       "| 2014-12-01 | Rain       | 6          | 46         | 29         | 74         | 30.45      | 64         | 10         | 22         | ...        | 10         | 13         | 40         | 26         | 52         | 30.01      | 39         | 10         | 0.01       | 268        |\n",
       "| 2014-12-10 | Rain       | 8          | 45         | 29         | 100        | 29.58      | 48         | 10         | 23         | ...        | 3          | 13         | 39         | 37         | 89         | 29.43      | 38         | 1          | 0.28       | 357        |\n",
       "| 2014-12-11 | Rain-Snow  | 8          | 37         | 28         | 92         | 29.81      | 39         | 10         | 21         | ...        | 7          | 13         | 31         | 27         | 82         | 29.44      | 32         | 1          | 0.02       | 230        |\n",
       "| 2014-12-12 | Snow       | 7          | 28         | 21         | 85         | 29.88      | 39         | 10         | 16         | ...        | 10         | 11         | 27         | 25         | 64         | 29.81      | 31         | 7          | T          | 286        |\n",
       "| 2014-12-13 |            | 5          | 28         | 23         | 75         | 29.86      | 42         | 10         | 17         | ...        | 10         | 12         | 26         | 24         | 55         | 29.78      | 32         | 10         | T          | 298        |\n",
       "| 2014-12-14 |            | 4          | 29         | 20         | 82         | 29.91      | 45         | 10         | 15         | ...        | 10         | 10         | 27         | 25         | 53         | 29.78      | 33         | 10         | 0.00       | 306        |\n",
       "| 2014-12-15 |            | 2          | 33         | 21         | 89         | 30.15      | 42         | 10         | 15         | ...        | 10         | 6          | 29         | 27         | 60         | 29.91      | 32         | 10         | 0.00       | 324        |\n",
       "| 2014-12-16 | Rain       | 8          | 42         | 10         | 96         | 30.17      | 44         | 10         | 8          | ...        | 9          | 4          | 36         | 30         | 73         | 29.92      | 35         | 5          | T          | 79         |\n",
       "| 2014-12-17 | Rain       | 8          | 46         | 26         | 100        | 29.91      | 49         | 10         | 20         | ...        | 6          | 11         | 41         | 32         | 70         | 29.69      | 41         | 1          | 0.43       | 311        |\n",
       "| 2014-12-18 | Rain       | 7          | 34         | 30         | 89         | 29.87      | 44         | 10         | 23         | ...        | 10         | 14         | 30         | 26         | 57         | 29.71      | 36         | 10         | 0.01       | 281        |\n",
       "| 2014-12-19 |            | 4          | 25         | 23         | 69         | 30.15      | 37         | 10         | 17         | ...        | 10         | 11         | 22         | 20         | 56         | 29.86      | 29         | 10         | 0.00       | 305        |\n",
       "| 2014-12-02 | Rain-Snow  | 7          | 40         | 29         | 92         | 30.71      | 42         | 10         | 24         | ...        | 8          | 15         | 27         | 17         | 51         | 30.4       | 33         | 2          | 0.10       | 62         |\n",
       "| 2014-12-20 | Snow       | 6          | 30         | 26         | 89         | 30.31      | 36         | 10         | 21         | ...        | 10         | 10         | 24         | 20         | 69         | 30.17      | 27         | 7          | T          | 350        |\n",
       "| 2014-12-21 | Snow       | 8          | 30         | 20         | 85         | 30.37      | 36         | 10         | 16         | ...        | 9          | 9          | 27         | 25         | 69         | 30.28      | 30         | 6          | T          | 2          |\n",
       "| 2014-12-22 | Rain       | 7          | 39         | 22         | 89         | 30.4       | 44         | 10         | 18         | ...        | 10         | 8          | 34         | 25         | 69         | 30.3       | 33         | 4          | 0.05       | 24         |\n",
       "| 2014-12-23 | Rain       | 8          | 45         | 25         | 100        | 30.31      | 47         | 10         | 20         | ...        | 5          | 13         | 42         | 37         | 82         | 30.16      | 42         | 1          | 0.25       | 63         |\n",
       "| 2014-12-24 | Fog-Rain   | 8          | 46         | 15         | 100        | 30.13      | 46         | 2          | 13         | ...        | 1          | 6          | 44         | 41         | 96         | 29.55      | 41         | 0          | 0.56       | 12         |\n",
       "| 2014-12-25 | Rain       | 6          | 58         | 40         | 100        | 29.96      | 59         | 10         | 28         | ...        | 8          | 14         | 43         | 29         | 49         | 29.47      | 44         | 1          | 0.14       | 250        |\n",
       "| 2014-12-26 |            | 1          | 31         | 25         | 70         | 30.16      | 50         | 10         | 18         | ...        | 10         | 11         | 29         | 28         | 49         | 29.99      | 37         | 10         | 0.00       | 255        |\n",
       "| 2014-12-27 |            | 3          | 34         | 21         | 70         | 30.22      | 52         | 10         | 17         | ...        | 10         | 9          | 31         | 29         | 50         | 30.03      | 38         | 10         | 0.00       | 251        |\n",
       "\n"
      ],
      "text/plain": [
       "   date       Events    CloudCover Max.Dew.PointF Max.Gust.SpeedMPH\n",
       "1  2014-12-01 Rain      6          46             29               \n",
       "2  2014-12-10 Rain      8          45             29               \n",
       "3  2014-12-11 Rain-Snow 8          37             28               \n",
       "4  2014-12-12 Snow      7          28             21               \n",
       "5  2014-12-13           5          28             23               \n",
       "6  2014-12-14           4          29             20               \n",
       "7  2014-12-15           2          33             21               \n",
       "8  2014-12-16 Rain      8          42             10               \n",
       "9  2014-12-17 Rain      8          46             26               \n",
       "10 2014-12-18 Rain      7          34             30               \n",
       "11 2014-12-19           4          25             23               \n",
       "12 2014-12-02 Rain-Snow 7          40             29               \n",
       "13 2014-12-20 Snow      6          30             26               \n",
       "14 2014-12-21 Snow      8          30             20               \n",
       "15 2014-12-22 Rain      7          39             22               \n",
       "16 2014-12-23 Rain      8          45             25               \n",
       "17 2014-12-24 Fog-Rain  8          46             15               \n",
       "18 2014-12-25 Rain      6          58             40               \n",
       "19 2014-12-26           1          31             25               \n",
       "20 2014-12-27           3          34             21               \n",
       "   Max.Humidity Max.Sea.Level.PressureIn Max.TemperatureF Max.VisibilityMiles\n",
       "1  74           30.45                    64               10                 \n",
       "2  100          29.58                    48               10                 \n",
       "3  92           29.81                    39               10                 \n",
       "4  85           29.88                    39               10                 \n",
       "5  75           29.86                    42               10                 \n",
       "6  82           29.91                    45               10                 \n",
       "7  89           30.15                    42               10                 \n",
       "8  96           30.17                    44               10                 \n",
       "9  100          29.91                    49               10                 \n",
       "10 89           29.87                    44               10                 \n",
       "11 69           30.15                    37               10                 \n",
       "12 92           30.71                    42               10                 \n",
       "13 89           30.31                    36               10                 \n",
       "14 85           30.37                    36               10                 \n",
       "15 89           30.4                     44               10                 \n",
       "16 100          30.31                    47               10                 \n",
       "17 100          30.13                    46               2                  \n",
       "18 100          29.96                    59               10                 \n",
       "19 70           30.16                    50               10                 \n",
       "20 70           30.22                    52               10                 \n",
       "   Max.Wind.SpeedMPH ... Mean.VisibilityMiles Mean.Wind.SpeedMPH MeanDew.PointF\n",
       "1  22                ... 10                   13                 40            \n",
       "2  23                ... 3                    13                 39            \n",
       "3  21                ... 7                    13                 31            \n",
       "4  16                ... 10                   11                 27            \n",
       "5  17                ... 10                   12                 26            \n",
       "6  15                ... 10                   10                 27            \n",
       "7  15                ... 10                   6                  29            \n",
       "8  8                 ... 9                    4                  36            \n",
       "9  20                ... 6                    11                 41            \n",
       "10 23                ... 10                   14                 30            \n",
       "11 17                ... 10                   11                 22            \n",
       "12 24                ... 8                    15                 27            \n",
       "13 21                ... 10                   10                 24            \n",
       "14 16                ... 9                    9                  27            \n",
       "15 18                ... 10                   8                  34            \n",
       "16 20                ... 5                    13                 42            \n",
       "17 13                ... 1                    6                  44            \n",
       "18 28                ... 8                    14                 43            \n",
       "19 18                ... 10                   11                 29            \n",
       "20 17                ... 10                   9                  31            \n",
       "   Min.DewpointF Min.Humidity Min.Sea.Level.PressureIn Min.TemperatureF\n",
       "1  26            52           30.01                    39              \n",
       "2  37            89           29.43                    38              \n",
       "3  27            82           29.44                    32              \n",
       "4  25            64           29.81                    31              \n",
       "5  24            55           29.78                    32              \n",
       "6  25            53           29.78                    33              \n",
       "7  27            60           29.91                    32              \n",
       "8  30            73           29.92                    35              \n",
       "9  32            70           29.69                    41              \n",
       "10 26            57           29.71                    36              \n",
       "11 20            56           29.86                    29              \n",
       "12 17            51           30.4                     33              \n",
       "13 20            69           30.17                    27              \n",
       "14 25            69           30.28                    30              \n",
       "15 25            69           30.3                     33              \n",
       "16 37            82           30.16                    42              \n",
       "17 41            96           29.55                    41              \n",
       "18 29            49           29.47                    44              \n",
       "19 28            49           29.99                    37              \n",
       "20 29            50           30.03                    38              \n",
       "   Min.VisibilityMiles PrecipitationIn WindDirDegrees\n",
       "1  10                  0.01            268           \n",
       "2  1                   0.28            357           \n",
       "3  1                   0.02            230           \n",
       "4  7                   T               286           \n",
       "5  10                  T               298           \n",
       "6  10                  0.00            306           \n",
       "7  10                  0.00            324           \n",
       "8  5                   T               79            \n",
       "9  1                   0.43            311           \n",
       "10 10                  0.01            281           \n",
       "11 10                  0.00            305           \n",
       "12 2                   0.10            62            \n",
       "13 7                   T               350           \n",
       "14 6                   T               2             \n",
       "15 4                   0.05            24            \n",
       "16 1                   0.25            63            \n",
       "17 0                   0.56            12            \n",
       "18 1                   0.14            250           \n",
       "19 10                  0.00            255           \n",
       "20 10                  0.00            251           "
      ]
     },
     "metadata": {},
     "output_type": "display_data"
    }
   ],
   "source": [
    "# Examine the first 20 rows of weather5. Are most of the characters numeric?\n",
    "head(weather5, n = 20)\n",
    "\n",
    "# \"T\" was used to denote a trace amount (i.e. too small to be accurately measured) of precipitation in the PrecipitationIn"
   ]
  },
  {
   "cell_type": "code",
   "execution_count": 19,
   "metadata": {},
   "outputs": [],
   "source": [
    "# Replace \"T\" with \"0\" (T = trace)\n",
    "weather5$PrecipitationIn <- str_replace(weather5$PrecipitationIn, \"T\", \"0\")"
   ]
  },
  {
   "cell_type": "code",
   "execution_count": 20,
   "metadata": {},
   "outputs": [],
   "source": [
    "# Convert characters to numerics\n",
    "weather6 <- mutate_at(weather5, vars(CloudCover:WindDirDegrees), funs(as.numeric))"
   ]
  },
  {
   "cell_type": "code",
   "execution_count": 21,
   "metadata": {},
   "outputs": [
    {
     "name": "stdout",
     "output_type": "stream",
     "text": [
      "'data.frame':\t366 obs. of  23 variables:\n",
      " $ date                     : Date, format: \"2014-12-01\" \"2014-12-10\" ...\n",
      " $ Events                   : chr  \"Rain\" \"Rain\" \"Rain-Snow\" \"Snow\" ...\n",
      " $ CloudCover               : num  6 8 8 7 5 4 2 8 8 7 ...\n",
      " $ Max.Dew.PointF           : num  46 45 37 28 28 29 33 42 46 34 ...\n",
      " $ Max.Gust.SpeedMPH        : num  29 29 28 21 23 20 21 10 26 30 ...\n",
      " $ Max.Humidity             : num  74 100 92 85 75 82 89 96 100 89 ...\n",
      " $ Max.Sea.Level.PressureIn : num  30.4 29.6 29.8 29.9 29.9 ...\n",
      " $ Max.TemperatureF         : num  64 48 39 39 42 45 42 44 49 44 ...\n",
      " $ Max.VisibilityMiles      : num  10 10 10 10 10 10 10 10 10 10 ...\n",
      " $ Max.Wind.SpeedMPH        : num  22 23 21 16 17 15 15 8 20 23 ...\n",
      " $ Mean.Humidity            : num  63 95 87 75 65 68 75 85 85 73 ...\n",
      " $ Mean.Sea.Level.PressureIn: num  30.1 29.5 29.6 29.9 29.8 ...\n",
      " $ Mean.TemperatureF        : num  52 43 36 35 37 39 37 40 45 40 ...\n",
      " $ Mean.VisibilityMiles     : num  10 3 7 10 10 10 10 9 6 10 ...\n",
      " $ Mean.Wind.SpeedMPH       : num  13 13 13 11 12 10 6 4 11 14 ...\n",
      " $ MeanDew.PointF           : num  40 39 31 27 26 27 29 36 41 30 ...\n",
      " $ Min.DewpointF            : num  26 37 27 25 24 25 27 30 32 26 ...\n",
      " $ Min.Humidity             : num  52 89 82 64 55 53 60 73 70 57 ...\n",
      " $ Min.Sea.Level.PressureIn : num  30 29.4 29.4 29.8 29.8 ...\n",
      " $ Min.TemperatureF         : num  39 38 32 31 32 33 32 35 41 36 ...\n",
      " $ Min.VisibilityMiles      : num  10 1 1 7 10 10 10 5 1 10 ...\n",
      " $ PrecipitationIn          : num  0.01 0.28 0.02 0 0 0 0 0 0.43 0.01 ...\n",
      " $ WindDirDegrees           : num  268 357 230 286 298 306 324 79 311 281 ...\n"
     ]
    }
   ],
   "source": [
    "# Look at result\n",
    "str(weather6)"
   ]
  },
  {
   "cell_type": "code",
   "execution_count": 22,
   "metadata": {},
   "outputs": [
    {
     "data": {
      "text/html": [
       "6"
      ],
      "text/latex": [
       "6"
      ],
      "text/markdown": [
       "6"
      ],
      "text/plain": [
       "[1] 6"
      ]
     },
     "metadata": {},
     "output_type": "display_data"
    }
   ],
   "source": [
    "# Count missing values\n",
    "sum(is.na(weather6))"
   ]
  },
  {
   "cell_type": "code",
   "execution_count": 23,
   "metadata": {},
   "outputs": [
    {
     "data": {
      "text/plain": [
       "      date               Events            CloudCover    Max.Dew.PointF \n",
       " Min.   :2014-12-01   Length:366         Min.   :0.000   Min.   :-6.00  \n",
       " 1st Qu.:2015-03-02   Class :character   1st Qu.:3.000   1st Qu.:32.00  \n",
       " Median :2015-06-01   Mode  :character   Median :5.000   Median :47.50  \n",
       " Mean   :2015-06-01                      Mean   :4.708   Mean   :45.48  \n",
       " 3rd Qu.:2015-08-31                      3rd Qu.:7.000   3rd Qu.:61.00  \n",
       " Max.   :2015-12-01                      Max.   :8.000   Max.   :75.00  \n",
       "                                                                        \n",
       " Max.Gust.SpeedMPH  Max.Humidity     Max.Sea.Level.PressureIn Max.TemperatureF\n",
       " Min.   : 0.00     Min.   :  39.00   Min.   :29.58            Min.   :18.00   \n",
       " 1st Qu.:21.00     1st Qu.:  73.25   1st Qu.:30.00            1st Qu.:42.00   \n",
       " Median :25.50     Median :  86.00   Median :30.14            Median :60.00   \n",
       " Mean   :26.99     Mean   :  85.69   Mean   :30.16            Mean   :58.93   \n",
       " 3rd Qu.:31.25     3rd Qu.:  93.00   3rd Qu.:30.31            3rd Qu.:76.00   \n",
       " Max.   :94.00     Max.   :1000.00   Max.   :30.88            Max.   :96.00   \n",
       " NA's   :6                                                                    \n",
       " Max.VisibilityMiles Max.Wind.SpeedMPH Mean.Humidity  \n",
       " Min.   : 2.000      Min.   : 8.00     Min.   :28.00  \n",
       " 1st Qu.:10.000      1st Qu.:16.00     1st Qu.:56.00  \n",
       " Median :10.000      Median :20.00     Median :66.00  \n",
       " Mean   : 9.907      Mean   :20.62     Mean   :66.02  \n",
       " 3rd Qu.:10.000      3rd Qu.:24.00     3rd Qu.:76.75  \n",
       " Max.   :10.000      Max.   :38.00     Max.   :98.00  \n",
       "                                                      \n",
       " Mean.Sea.Level.PressureIn Mean.TemperatureF Mean.VisibilityMiles\n",
       " Min.   :29.49             Min.   : 8.00     Min.   :-1.000      \n",
       " 1st Qu.:29.87             1st Qu.:36.25     1st Qu.: 8.000      \n",
       " Median :30.03             Median :53.50     Median :10.000      \n",
       " Mean   :30.04             Mean   :51.40     Mean   : 8.861      \n",
       " 3rd Qu.:30.19             3rd Qu.:68.00     3rd Qu.:10.000      \n",
       " Max.   :30.77             Max.   :84.00     Max.   :10.000      \n",
       "                                                                 \n",
       " Mean.Wind.SpeedMPH MeanDew.PointF   Min.DewpointF     Min.Humidity  \n",
       " Min.   : 4.00      Min.   :-11.00   Min.   :-18.00   Min.   :16.00  \n",
       " 1st Qu.: 8.00      1st Qu.: 24.00   1st Qu.: 16.25   1st Qu.:35.00  \n",
       " Median :10.00      Median : 41.00   Median : 35.00   Median :46.00  \n",
       " Mean   :10.68      Mean   : 38.96   Mean   : 32.25   Mean   :48.31  \n",
       " 3rd Qu.:13.00      3rd Qu.: 56.00   3rd Qu.: 51.00   3rd Qu.:60.00  \n",
       " Max.   :22.00      Max.   : 71.00   Max.   : 68.00   Max.   :96.00  \n",
       "                                                                     \n",
       " Min.Sea.Level.PressureIn Min.TemperatureF Min.VisibilityMiles PrecipitationIn \n",
       " Min.   :29.16            Min.   :-3.00    Min.   : 0.000      Min.   :0.0000  \n",
       " 1st Qu.:29.76            1st Qu.:30.00    1st Qu.: 2.000      1st Qu.:0.0000  \n",
       " Median :29.94            Median :46.00    Median :10.000      Median :0.0000  \n",
       " Mean   :29.93            Mean   :43.33    Mean   : 6.716      Mean   :0.1016  \n",
       " 3rd Qu.:30.09            3rd Qu.:60.00    3rd Qu.:10.000      3rd Qu.:0.0400  \n",
       " Max.   :30.64            Max.   :74.00    Max.   :10.000      Max.   :2.9000  \n",
       "                                                                               \n",
       " WindDirDegrees \n",
       " Min.   :  1.0  \n",
       " 1st Qu.:113.0  \n",
       " Median :222.0  \n",
       " Mean   :200.1  \n",
       " 3rd Qu.:275.0  \n",
       " Max.   :360.0  \n",
       "                "
      ]
     },
     "metadata": {},
     "output_type": "display_data"
    }
   ],
   "source": [
    "# Find missing values\n",
    "summary(weather6)"
   ]
  },
  {
   "cell_type": "code",
   "execution_count": 24,
   "metadata": {},
   "outputs": [
    {
     "data": {
      "text/html": [
       "<table>\n",
       "<thead><tr><th></th><th scope=col>date</th><th scope=col>Events</th><th scope=col>CloudCover</th><th scope=col>Max.Dew.PointF</th><th scope=col>Max.Gust.SpeedMPH</th><th scope=col>Max.Humidity</th><th scope=col>Max.Sea.Level.PressureIn</th><th scope=col>Max.TemperatureF</th><th scope=col>Max.VisibilityMiles</th><th scope=col>Max.Wind.SpeedMPH</th><th scope=col>...</th><th scope=col>Mean.VisibilityMiles</th><th scope=col>Mean.Wind.SpeedMPH</th><th scope=col>MeanDew.PointF</th><th scope=col>Min.DewpointF</th><th scope=col>Min.Humidity</th><th scope=col>Min.Sea.Level.PressureIn</th><th scope=col>Min.TemperatureF</th><th scope=col>Min.VisibilityMiles</th><th scope=col>PrecipitationIn</th><th scope=col>WindDirDegrees</th></tr></thead>\n",
       "<tbody>\n",
       "\t<tr><th scope=row>161</th><td>2015-05-18</td><td>Fog       </td><td>6         </td><td>52        </td><td>NA        </td><td>100       </td><td>30.30     </td><td>58        </td><td>10        </td><td>16        </td><td>...       </td><td> 8        </td><td>10        </td><td>48        </td><td>43        </td><td>57        </td><td>30.12     </td><td>49        </td><td> 0        </td><td>0         </td><td> 72       </td></tr>\n",
       "\t<tr><th scope=row>205</th><td>2015-06-03</td><td>          </td><td>7         </td><td>48        </td><td>NA        </td><td> 93       </td><td>30.31     </td><td>56        </td><td>10        </td><td>14        </td><td>...       </td><td>10        </td><td> 7        </td><td>45        </td><td>43        </td><td>71        </td><td>30.19     </td><td>47        </td><td>10        </td><td>0         </td><td> 90       </td></tr>\n",
       "\t<tr><th scope=row>273</th><td>2015-08-08</td><td>          </td><td>4         </td><td>61        </td><td>NA        </td><td> 87       </td><td>30.02     </td><td>76        </td><td>10        </td><td>14        </td><td>...       </td><td>10        </td><td> 6        </td><td>57        </td><td>54        </td><td>49        </td><td>29.95     </td><td>61        </td><td>10        </td><td>0         </td><td> 45       </td></tr>\n",
       "\t<tr><th scope=row>275</th><td>2015-09-01</td><td>          </td><td>1         </td><td>63        </td><td>NA        </td><td> 78       </td><td>30.06     </td><td>79        </td><td>10        </td><td>15        </td><td>...       </td><td>10        </td><td> 9        </td><td>62        </td><td>59        </td><td>52        </td><td>29.96     </td><td>69        </td><td>10        </td><td>0         </td><td> 54       </td></tr>\n",
       "\t<tr><th scope=row>308</th><td>2015-10-12</td><td>          </td><td>0         </td><td>56        </td><td>NA        </td><td> 89       </td><td>29.86     </td><td>76        </td><td>10        </td><td>15        </td><td>...       </td><td>10        </td><td> 8        </td><td>51        </td><td>48        </td><td>41        </td><td>29.74     </td><td>51        </td><td>10        </td><td>0         </td><td>199       </td></tr>\n",
       "\t<tr><th scope=row>358</th><td>2015-11-03</td><td>          </td><td>1         </td><td>44        </td><td>NA        </td><td> 82       </td><td>30.25     </td><td>73        </td><td>10        </td><td>16        </td><td>...       </td><td>10        </td><td> 8        </td><td>42        </td><td>40        </td><td>31        </td><td>30.06     </td><td>47        </td><td>10        </td><td>0         </td><td>281       </td></tr>\n",
       "</tbody>\n",
       "</table>\n"
      ],
      "text/latex": [
       "\\begin{tabular}{r|lllllllllllllllllllllll}\n",
       "  & date & Events & CloudCover & Max.Dew.PointF & Max.Gust.SpeedMPH & Max.Humidity & Max.Sea.Level.PressureIn & Max.TemperatureF & Max.VisibilityMiles & Max.Wind.SpeedMPH & ... & Mean.VisibilityMiles & Mean.Wind.SpeedMPH & MeanDew.PointF & Min.DewpointF & Min.Humidity & Min.Sea.Level.PressureIn & Min.TemperatureF & Min.VisibilityMiles & PrecipitationIn & WindDirDegrees\\\\\n",
       "\\hline\n",
       "\t161 & 2015-05-18 & Fog        & 6          & 52         & NA         & 100        & 30.30      & 58         & 10         & 16         & ...        &  8         & 10         & 48         & 43         & 57         & 30.12      & 49         &  0         & 0          &  72       \\\\\n",
       "\t205 & 2015-06-03 &            & 7          & 48         & NA         &  93        & 30.31      & 56         & 10         & 14         & ...        & 10         &  7         & 45         & 43         & 71         & 30.19      & 47         & 10         & 0          &  90       \\\\\n",
       "\t273 & 2015-08-08 &            & 4          & 61         & NA         &  87        & 30.02      & 76         & 10         & 14         & ...        & 10         &  6         & 57         & 54         & 49         & 29.95      & 61         & 10         & 0          &  45       \\\\\n",
       "\t275 & 2015-09-01 &            & 1          & 63         & NA         &  78        & 30.06      & 79         & 10         & 15         & ...        & 10         &  9         & 62         & 59         & 52         & 29.96      & 69         & 10         & 0          &  54       \\\\\n",
       "\t308 & 2015-10-12 &            & 0          & 56         & NA         &  89        & 29.86      & 76         & 10         & 15         & ...        & 10         &  8         & 51         & 48         & 41         & 29.74      & 51         & 10         & 0          & 199       \\\\\n",
       "\t358 & 2015-11-03 &            & 1          & 44         & NA         &  82        & 30.25      & 73         & 10         & 16         & ...        & 10         &  8         & 42         & 40         & 31         & 30.06      & 47         & 10         & 0          & 281       \\\\\n",
       "\\end{tabular}\n"
      ],
      "text/markdown": [
       "\n",
       "| <!--/--> | date | Events | CloudCover | Max.Dew.PointF | Max.Gust.SpeedMPH | Max.Humidity | Max.Sea.Level.PressureIn | Max.TemperatureF | Max.VisibilityMiles | Max.Wind.SpeedMPH | ... | Mean.VisibilityMiles | Mean.Wind.SpeedMPH | MeanDew.PointF | Min.DewpointF | Min.Humidity | Min.Sea.Level.PressureIn | Min.TemperatureF | Min.VisibilityMiles | PrecipitationIn | WindDirDegrees |\n",
       "|---|---|---|---|---|---|---|---|---|---|---|---|---|---|---|---|---|---|---|---|---|---|\n",
       "| 161 | 2015-05-18 | Fog        | 6          | 52         | NA         | 100        | 30.30      | 58         | 10         | 16         | ...        |  8         | 10         | 48         | 43         | 57         | 30.12      | 49         |  0         | 0          |  72        |\n",
       "| 205 | 2015-06-03 |            | 7          | 48         | NA         |  93        | 30.31      | 56         | 10         | 14         | ...        | 10         |  7         | 45         | 43         | 71         | 30.19      | 47         | 10         | 0          |  90        |\n",
       "| 273 | 2015-08-08 |            | 4          | 61         | NA         |  87        | 30.02      | 76         | 10         | 14         | ...        | 10         |  6         | 57         | 54         | 49         | 29.95      | 61         | 10         | 0          |  45        |\n",
       "| 275 | 2015-09-01 |            | 1          | 63         | NA         |  78        | 30.06      | 79         | 10         | 15         | ...        | 10         |  9         | 62         | 59         | 52         | 29.96      | 69         | 10         | 0          |  54        |\n",
       "| 308 | 2015-10-12 |            | 0          | 56         | NA         |  89        | 29.86      | 76         | 10         | 15         | ...        | 10         |  8         | 51         | 48         | 41         | 29.74      | 51         | 10         | 0          | 199        |\n",
       "| 358 | 2015-11-03 |            | 1          | 44         | NA         |  82        | 30.25      | 73         | 10         | 16         | ...        | 10         |  8         | 42         | 40         | 31         | 30.06      | 47         | 10         | 0          | 281        |\n",
       "\n"
      ],
      "text/plain": [
       "    date       Events CloudCover Max.Dew.PointF Max.Gust.SpeedMPH Max.Humidity\n",
       "161 2015-05-18 Fog    6          52             NA                100         \n",
       "205 2015-06-03        7          48             NA                 93         \n",
       "273 2015-08-08        4          61             NA                 87         \n",
       "275 2015-09-01        1          63             NA                 78         \n",
       "308 2015-10-12        0          56             NA                 89         \n",
       "358 2015-11-03        1          44             NA                 82         \n",
       "    Max.Sea.Level.PressureIn Max.TemperatureF Max.VisibilityMiles\n",
       "161 30.30                    58               10                 \n",
       "205 30.31                    56               10                 \n",
       "273 30.02                    76               10                 \n",
       "275 30.06                    79               10                 \n",
       "308 29.86                    76               10                 \n",
       "358 30.25                    73               10                 \n",
       "    Max.Wind.SpeedMPH ... Mean.VisibilityMiles Mean.Wind.SpeedMPH\n",
       "161 16                ...  8                   10                \n",
       "205 14                ... 10                    7                \n",
       "273 14                ... 10                    6                \n",
       "275 15                ... 10                    9                \n",
       "308 15                ... 10                    8                \n",
       "358 16                ... 10                    8                \n",
       "    MeanDew.PointF Min.DewpointF Min.Humidity Min.Sea.Level.PressureIn\n",
       "161 48             43            57           30.12                   \n",
       "205 45             43            71           30.19                   \n",
       "273 57             54            49           29.95                   \n",
       "275 62             59            52           29.96                   \n",
       "308 51             48            41           29.74                   \n",
       "358 42             40            31           30.06                   \n",
       "    Min.TemperatureF Min.VisibilityMiles PrecipitationIn WindDirDegrees\n",
       "161 49                0                  0                72           \n",
       "205 47               10                  0                90           \n",
       "273 61               10                  0                45           \n",
       "275 69               10                  0                54           \n",
       "308 51               10                  0               199           \n",
       "358 47               10                  0               281           "
      ]
     },
     "metadata": {},
     "output_type": "display_data"
    }
   ],
   "source": [
    "# Find indices of NAs in Max.Gust.SpeedMPH\n",
    "ind <- which(is.na(weather6$Max.Gust.SpeedMPH))\n",
    "\n",
    "# Look at the full rows for records missing Max.Gust.SpeedMPH\n",
    "weather6[ind, ]"
   ]
  },
  {
   "cell_type": "code",
   "execution_count": 25,
   "metadata": {},
   "outputs": [
    {
     "data": {
      "text/html": [
       "<table>\n",
       "<thead><tr><th></th><th scope=col>date</th><th scope=col>Events</th><th scope=col>CloudCover</th><th scope=col>Max.Dew.PointF</th><th scope=col>Max.Gust.SpeedMPH</th><th scope=col>Max.Humidity</th><th scope=col>Max.Sea.Level.PressureIn</th><th scope=col>Max.TemperatureF</th><th scope=col>Max.VisibilityMiles</th><th scope=col>Max.Wind.SpeedMPH</th><th scope=col>...</th><th scope=col>Mean.VisibilityMiles</th><th scope=col>Mean.Wind.SpeedMPH</th><th scope=col>MeanDew.PointF</th><th scope=col>Min.DewpointF</th><th scope=col>Min.Humidity</th><th scope=col>Min.Sea.Level.PressureIn</th><th scope=col>Min.TemperatureF</th><th scope=col>Min.VisibilityMiles</th><th scope=col>PrecipitationIn</th><th scope=col>WindDirDegrees</th></tr></thead>\n",
       "<tbody>\n",
       "\t<tr><th scope=row>135</th><td>2015-04-21           </td><td>Fog-Rain-Thunderstorm</td><td>6                    </td><td>57                   </td><td>94                   </td><td>1000                 </td><td>29.75                </td><td>65                   </td><td>10                   </td><td>20                   </td><td>...                  </td><td>5                    </td><td>10                   </td><td>49                   </td><td>36                   </td><td>42                   </td><td>29.53                </td><td>46                   </td><td>0                    </td><td>0.54                 </td><td>184                  </td></tr>\n",
       "</tbody>\n",
       "</table>\n"
      ],
      "text/latex": [
       "\\begin{tabular}{r|lllllllllllllllllllllll}\n",
       "  & date & Events & CloudCover & Max.Dew.PointF & Max.Gust.SpeedMPH & Max.Humidity & Max.Sea.Level.PressureIn & Max.TemperatureF & Max.VisibilityMiles & Max.Wind.SpeedMPH & ... & Mean.VisibilityMiles & Mean.Wind.SpeedMPH & MeanDew.PointF & Min.DewpointF & Min.Humidity & Min.Sea.Level.PressureIn & Min.TemperatureF & Min.VisibilityMiles & PrecipitationIn & WindDirDegrees\\\\\n",
       "\\hline\n",
       "\t135 & 2015-04-21            & Fog-Rain-Thunderstorm & 6                     & 57                    & 94                    & 1000                  & 29.75                 & 65                    & 10                    & 20                    & ...                   & 5                     & 10                    & 49                    & 36                    & 42                    & 29.53                 & 46                    & 0                     & 0.54                  & 184                  \\\\\n",
       "\\end{tabular}\n"
      ],
      "text/markdown": [
       "\n",
       "| <!--/--> | date | Events | CloudCover | Max.Dew.PointF | Max.Gust.SpeedMPH | Max.Humidity | Max.Sea.Level.PressureIn | Max.TemperatureF | Max.VisibilityMiles | Max.Wind.SpeedMPH | ... | Mean.VisibilityMiles | Mean.Wind.SpeedMPH | MeanDew.PointF | Min.DewpointF | Min.Humidity | Min.Sea.Level.PressureIn | Min.TemperatureF | Min.VisibilityMiles | PrecipitationIn | WindDirDegrees |\n",
       "|---|---|---|---|---|---|---|---|---|---|---|---|---|---|---|---|---|---|---|---|---|---|\n",
       "| 135 | 2015-04-21            | Fog-Rain-Thunderstorm | 6                     | 57                    | 94                    | 1000                  | 29.75                 | 65                    | 10                    | 20                    | ...                   | 5                     | 10                    | 49                    | 36                    | 42                    | 29.53                 | 46                    | 0                     | 0.54                  | 184                   |\n",
       "\n"
      ],
      "text/plain": [
       "    date       Events                CloudCover Max.Dew.PointF\n",
       "135 2015-04-21 Fog-Rain-Thunderstorm 6          57            \n",
       "    Max.Gust.SpeedMPH Max.Humidity Max.Sea.Level.PressureIn Max.TemperatureF\n",
       "135 94                1000         29.75                    65              \n",
       "    Max.VisibilityMiles Max.Wind.SpeedMPH ... Mean.VisibilityMiles\n",
       "135 10                  20                ... 5                   \n",
       "    Mean.Wind.SpeedMPH MeanDew.PointF Min.DewpointF Min.Humidity\n",
       "135 10                 49             36            42          \n",
       "    Min.Sea.Level.PressureIn Min.TemperatureF Min.VisibilityMiles\n",
       "135 29.53                    46               0                  \n",
       "    PrecipitationIn WindDirDegrees\n",
       "135 0.54            184           "
      ]
     },
     "metadata": {},
     "output_type": "display_data"
    }
   ],
   "source": [
    "# Find row with Max.Humidity of 1000\n",
    "ind <- which(weather6$Max.Humidity == 1000)\n",
    "\n",
    "# Look at the data for that day\n",
    "weather6[ind, ]\n",
    "\n",
    "# Change 1000 to 100\n",
    "weather6$Max.Humidity[ind] <- 100"
   ]
  },
  {
   "cell_type": "code",
   "execution_count": 26,
   "metadata": {},
   "outputs": [
    {
     "data": {
      "text/html": [
       "<table>\n",
       "<thead><tr><th></th><th scope=col>date</th><th scope=col>Events</th><th scope=col>CloudCover</th><th scope=col>Max.Dew.PointF</th><th scope=col>Max.Gust.SpeedMPH</th><th scope=col>Max.Humidity</th><th scope=col>Max.Sea.Level.PressureIn</th><th scope=col>Max.TemperatureF</th><th scope=col>Max.VisibilityMiles</th><th scope=col>Max.Wind.SpeedMPH</th><th scope=col>...</th><th scope=col>Mean.VisibilityMiles</th><th scope=col>Mean.Wind.SpeedMPH</th><th scope=col>MeanDew.PointF</th><th scope=col>Min.DewpointF</th><th scope=col>Min.Humidity</th><th scope=col>Min.Sea.Level.PressureIn</th><th scope=col>Min.TemperatureF</th><th scope=col>Min.VisibilityMiles</th><th scope=col>PrecipitationIn</th><th scope=col>WindDirDegrees</th></tr></thead>\n",
       "<tbody>\n",
       "\t<tr><th scope=row>192</th><td>2015-06-18</td><td>          </td><td>5         </td><td>54        </td><td>23        </td><td>72        </td><td>30.14     </td><td>76        </td><td>10        </td><td>17        </td><td>...       </td><td>-1        </td><td>10        </td><td>49        </td><td>45        </td><td>46        </td><td>29.93     </td><td>57        </td><td>10        </td><td>0         </td><td>189       </td></tr>\n",
       "</tbody>\n",
       "</table>\n"
      ],
      "text/latex": [
       "\\begin{tabular}{r|lllllllllllllllllllllll}\n",
       "  & date & Events & CloudCover & Max.Dew.PointF & Max.Gust.SpeedMPH & Max.Humidity & Max.Sea.Level.PressureIn & Max.TemperatureF & Max.VisibilityMiles & Max.Wind.SpeedMPH & ... & Mean.VisibilityMiles & Mean.Wind.SpeedMPH & MeanDew.PointF & Min.DewpointF & Min.Humidity & Min.Sea.Level.PressureIn & Min.TemperatureF & Min.VisibilityMiles & PrecipitationIn & WindDirDegrees\\\\\n",
       "\\hline\n",
       "\t192 & 2015-06-18 &            & 5          & 54         & 23         & 72         & 30.14      & 76         & 10         & 17         & ...        & -1         & 10         & 49         & 45         & 46         & 29.93      & 57         & 10         & 0          & 189       \\\\\n",
       "\\end{tabular}\n"
      ],
      "text/markdown": [
       "\n",
       "| <!--/--> | date | Events | CloudCover | Max.Dew.PointF | Max.Gust.SpeedMPH | Max.Humidity | Max.Sea.Level.PressureIn | Max.TemperatureF | Max.VisibilityMiles | Max.Wind.SpeedMPH | ... | Mean.VisibilityMiles | Mean.Wind.SpeedMPH | MeanDew.PointF | Min.DewpointF | Min.Humidity | Min.Sea.Level.PressureIn | Min.TemperatureF | Min.VisibilityMiles | PrecipitationIn | WindDirDegrees |\n",
       "|---|---|---|---|---|---|---|---|---|---|---|---|---|---|---|---|---|---|---|---|---|---|\n",
       "| 192 | 2015-06-18 |            | 5          | 54         | 23         | 72         | 30.14      | 76         | 10         | 17         | ...        | -1         | 10         | 49         | 45         | 46         | 29.93      | 57         | 10         | 0          | 189        |\n",
       "\n"
      ],
      "text/plain": [
       "    date       Events CloudCover Max.Dew.PointF Max.Gust.SpeedMPH Max.Humidity\n",
       "192 2015-06-18        5          54             23                72          \n",
       "    Max.Sea.Level.PressureIn Max.TemperatureF Max.VisibilityMiles\n",
       "192 30.14                    76               10                 \n",
       "    Max.Wind.SpeedMPH ... Mean.VisibilityMiles Mean.Wind.SpeedMPH\n",
       "192 17                ... -1                   10                \n",
       "    MeanDew.PointF Min.DewpointF Min.Humidity Min.Sea.Level.PressureIn\n",
       "192 49             45            46           29.93                   \n",
       "    Min.TemperatureF Min.VisibilityMiles PrecipitationIn WindDirDegrees\n",
       "192 57               10                  0               189           "
      ]
     },
     "metadata": {},
     "output_type": "display_data"
    }
   ],
   "source": [
    "# Get index of row with -1 value\n",
    "ind <- which(weather6$Mean.VisibilityMiles == -1)\n",
    "\n",
    "# Look at full row\n",
    "weather6[ind,]\n",
    "\n",
    "# Set Mean.VisibilityMiles to the appropriate value\n",
    "weather6$Mean.VisibilityMiles[ind] <- 10"
   ]
  },
  {
   "cell_type": "code",
   "execution_count": 27,
   "metadata": {
    "scrolled": false
   },
   "outputs": [
    {
     "data": {
      "text/plain": [
       "      date               Events            CloudCover    Max.Dew.PointF \n",
       " Min.   :2014-12-01   Length:366         Min.   :0.000   Min.   :-6.00  \n",
       " 1st Qu.:2015-03-02   Class :character   1st Qu.:3.000   1st Qu.:32.00  \n",
       " Median :2015-06-01   Mode  :character   Median :5.000   Median :47.50  \n",
       " Mean   :2015-06-01                      Mean   :4.708   Mean   :45.48  \n",
       " 3rd Qu.:2015-08-31                      3rd Qu.:7.000   3rd Qu.:61.00  \n",
       " Max.   :2015-12-01                      Max.   :8.000   Max.   :75.00  \n",
       "                                                                        \n",
       " Max.Gust.SpeedMPH  Max.Humidity    Max.Sea.Level.PressureIn Max.TemperatureF\n",
       " Min.   : 0.00     Min.   : 39.00   Min.   :29.58            Min.   :18.00   \n",
       " 1st Qu.:21.00     1st Qu.: 73.25   1st Qu.:30.00            1st Qu.:42.00   \n",
       " Median :25.50     Median : 86.00   Median :30.14            Median :60.00   \n",
       " Mean   :26.99     Mean   : 83.23   Mean   :30.16            Mean   :58.93   \n",
       " 3rd Qu.:31.25     3rd Qu.: 93.00   3rd Qu.:30.31            3rd Qu.:76.00   \n",
       " Max.   :94.00     Max.   :100.00   Max.   :30.88            Max.   :96.00   \n",
       " NA's   :6                                                                   \n",
       " Max.VisibilityMiles Max.Wind.SpeedMPH Mean.Humidity  \n",
       " Min.   : 2.000      Min.   : 8.00     Min.   :28.00  \n",
       " 1st Qu.:10.000      1st Qu.:16.00     1st Qu.:56.00  \n",
       " Median :10.000      Median :20.00     Median :66.00  \n",
       " Mean   : 9.907      Mean   :20.62     Mean   :66.02  \n",
       " 3rd Qu.:10.000      3rd Qu.:24.00     3rd Qu.:76.75  \n",
       " Max.   :10.000      Max.   :38.00     Max.   :98.00  \n",
       "                                                      \n",
       " Mean.Sea.Level.PressureIn Mean.TemperatureF Mean.VisibilityMiles\n",
       " Min.   :29.49             Min.   : 8.00     Min.   : 1.000      \n",
       " 1st Qu.:29.87             1st Qu.:36.25     1st Qu.: 8.000      \n",
       " Median :30.03             Median :53.50     Median :10.000      \n",
       " Mean   :30.04             Mean   :51.40     Mean   : 8.891      \n",
       " 3rd Qu.:30.19             3rd Qu.:68.00     3rd Qu.:10.000      \n",
       " Max.   :30.77             Max.   :84.00     Max.   :10.000      \n",
       "                                                                 \n",
       " Mean.Wind.SpeedMPH MeanDew.PointF   Min.DewpointF     Min.Humidity  \n",
       " Min.   : 4.00      Min.   :-11.00   Min.   :-18.00   Min.   :16.00  \n",
       " 1st Qu.: 8.00      1st Qu.: 24.00   1st Qu.: 16.25   1st Qu.:35.00  \n",
       " Median :10.00      Median : 41.00   Median : 35.00   Median :46.00  \n",
       " Mean   :10.68      Mean   : 38.96   Mean   : 32.25   Mean   :48.31  \n",
       " 3rd Qu.:13.00      3rd Qu.: 56.00   3rd Qu.: 51.00   3rd Qu.:60.00  \n",
       " Max.   :22.00      Max.   : 71.00   Max.   : 68.00   Max.   :96.00  \n",
       "                                                                     \n",
       " Min.Sea.Level.PressureIn Min.TemperatureF Min.VisibilityMiles PrecipitationIn \n",
       " Min.   :29.16            Min.   :-3.00    Min.   : 0.000      Min.   :0.0000  \n",
       " 1st Qu.:29.76            1st Qu.:30.00    1st Qu.: 2.000      1st Qu.:0.0000  \n",
       " Median :29.94            Median :46.00    Median :10.000      Median :0.0000  \n",
       " Mean   :29.93            Mean   :43.33    Mean   : 6.716      Mean   :0.1016  \n",
       " 3rd Qu.:30.09            3rd Qu.:60.00    3rd Qu.:10.000      3rd Qu.:0.0400  \n",
       " Max.   :30.64            Max.   :74.00    Max.   :10.000      Max.   :2.9000  \n",
       "                                                                               \n",
       " WindDirDegrees \n",
       " Min.   :  1.0  \n",
       " 1st Qu.:113.0  \n",
       " Median :222.0  \n",
       " Mean   :200.1  \n",
       " 3rd Qu.:275.0  \n",
       " Max.   :360.0  \n",
       "                "
      ]
     },
     "metadata": {},
     "output_type": "display_data"
    }
   ],
   "source": [
    "# Review summary of full data once more\n",
    "summary(weather6)"
   ]
  },
  {
   "cell_type": "code",
   "execution_count": 28,
   "metadata": {
    "scrolled": false
   },
   "outputs": [
    {
     "data": {
      "image/png": "[encoded data removed]",
      "text/plain": [
       "Plot with title \"Histogram of weather6$MeanDew.PointF\""
      ]
     },
     "metadata": {},
     "output_type": "display_data"
    }
   ],
   "source": [
    "# Look at histogram for MeanDew.PointF\n",
    "hist(weather6$MeanDew.PointF)"
   ]
  },
  {
   "cell_type": "code",
   "execution_count": 29,
   "metadata": {},
   "outputs": [
    {
     "data": {
      "text/html": [
       "<table>\n",
       "<thead><tr><th scope=col>date</th><th scope=col>Events</th><th scope=col>CloudCover</th><th scope=col>Max.Dew.PointF</th><th scope=col>Max.Gust.SpeedMPH</th><th scope=col>Max.Humidity</th><th scope=col>Max.Sea.Level.PressureIn</th><th scope=col>Max.TemperatureF</th><th scope=col>Max.VisibilityMiles</th><th scope=col>Max.Wind.SpeedMPH</th><th scope=col>...</th><th scope=col>Mean.VisibilityMiles</th><th scope=col>Mean.Wind.SpeedMPH</th><th scope=col>MeanDew.PointF</th><th scope=col>Min.DewpointF</th><th scope=col>Min.Humidity</th><th scope=col>Min.Sea.Level.PressureIn</th><th scope=col>Min.TemperatureF</th><th scope=col>Min.VisibilityMiles</th><th scope=col>PrecipitationIn</th><th scope=col>WindDirDegrees</th></tr></thead>\n",
       "<tbody>\n",
       "\t<tr><td>2014-12-01</td><td>Rain      </td><td>6         </td><td>46        </td><td>29        </td><td> 74       </td><td>30.45     </td><td>64        </td><td>10        </td><td>22        </td><td>...       </td><td>10        </td><td>13        </td><td>40        </td><td>26        </td><td>52        </td><td>30.01     </td><td>39        </td><td>10        </td><td>0.01      </td><td>268       </td></tr>\n",
       "\t<tr><td>2014-12-10</td><td>Rain      </td><td>8         </td><td>45        </td><td>29        </td><td>100       </td><td>29.58     </td><td>48        </td><td>10        </td><td>23        </td><td>...       </td><td> 3        </td><td>13        </td><td>39        </td><td>37        </td><td>89        </td><td>29.43     </td><td>38        </td><td> 1        </td><td>0.28      </td><td>357       </td></tr>\n",
       "\t<tr><td>2014-12-11</td><td>Rain-Snow </td><td>8         </td><td>37        </td><td>28        </td><td> 92       </td><td>29.81     </td><td>39        </td><td>10        </td><td>21        </td><td>...       </td><td> 7        </td><td>13        </td><td>31        </td><td>27        </td><td>82        </td><td>29.44     </td><td>32        </td><td> 1        </td><td>0.02      </td><td>230       </td></tr>\n",
       "\t<tr><td>2014-12-12</td><td>Snow      </td><td>7         </td><td>28        </td><td>21        </td><td> 85       </td><td>29.88     </td><td>39        </td><td>10        </td><td>16        </td><td>...       </td><td>10        </td><td>11        </td><td>27        </td><td>25        </td><td>64        </td><td>29.81     </td><td>31        </td><td> 7        </td><td>0.00      </td><td>286       </td></tr>\n",
       "\t<tr><td>2014-12-13</td><td>None      </td><td>5         </td><td>28        </td><td>23        </td><td> 75       </td><td>29.86     </td><td>42        </td><td>10        </td><td>17        </td><td>...       </td><td>10        </td><td>12        </td><td>26        </td><td>24        </td><td>55        </td><td>29.78     </td><td>32        </td><td>10        </td><td>0.00      </td><td>298       </td></tr>\n",
       "\t<tr><td>2014-12-14</td><td>None      </td><td>4         </td><td>29        </td><td>20        </td><td> 82       </td><td>29.91     </td><td>45        </td><td>10        </td><td>15        </td><td>...       </td><td>10        </td><td>10        </td><td>27        </td><td>25        </td><td>53        </td><td>29.78     </td><td>33        </td><td>10        </td><td>0.00      </td><td>306       </td></tr>\n",
       "</tbody>\n",
       "</table>\n"
      ],
      "text/latex": [
       "\\begin{tabular}{r|lllllllllllllllllllllll}\n",
       " date & Events & CloudCover & Max.Dew.PointF & Max.Gust.SpeedMPH & Max.Humidity & Max.Sea.Level.PressureIn & Max.TemperatureF & Max.VisibilityMiles & Max.Wind.SpeedMPH & ... & Mean.VisibilityMiles & Mean.Wind.SpeedMPH & MeanDew.PointF & Min.DewpointF & Min.Humidity & Min.Sea.Level.PressureIn & Min.TemperatureF & Min.VisibilityMiles & PrecipitationIn & WindDirDegrees\\\\\n",
       "\\hline\n",
       "\t 2014-12-01 & Rain       & 6          & 46         & 29         &  74        & 30.45      & 64         & 10         & 22         & ...        & 10         & 13         & 40         & 26         & 52         & 30.01      & 39         & 10         & 0.01       & 268       \\\\\n",
       "\t 2014-12-10 & Rain       & 8          & 45         & 29         & 100        & 29.58      & 48         & 10         & 23         & ...        &  3         & 13         & 39         & 37         & 89         & 29.43      & 38         &  1         & 0.28       & 357       \\\\\n",
       "\t 2014-12-11 & Rain-Snow  & 8          & 37         & 28         &  92        & 29.81      & 39         & 10         & 21         & ...        &  7         & 13         & 31         & 27         & 82         & 29.44      & 32         &  1         & 0.02       & 230       \\\\\n",
       "\t 2014-12-12 & Snow       & 7          & 28         & 21         &  85        & 29.88      & 39         & 10         & 16         & ...        & 10         & 11         & 27         & 25         & 64         & 29.81      & 31         &  7         & 0.00       & 286       \\\\\n",
       "\t 2014-12-13 & None       & 5          & 28         & 23         &  75        & 29.86      & 42         & 10         & 17         & ...        & 10         & 12         & 26         & 24         & 55         & 29.78      & 32         & 10         & 0.00       & 298       \\\\\n",
       "\t 2014-12-14 & None       & 4          & 29         & 20         &  82        & 29.91      & 45         & 10         & 15         & ...        & 10         & 10         & 27         & 25         & 53         & 29.78      & 33         & 10         & 0.00       & 306       \\\\\n",
       "\\end{tabular}\n"
      ],
      "text/markdown": [
       "\n",
       "| date | Events | CloudCover | Max.Dew.PointF | Max.Gust.SpeedMPH | Max.Humidity | Max.Sea.Level.PressureIn | Max.TemperatureF | Max.VisibilityMiles | Max.Wind.SpeedMPH | ... | Mean.VisibilityMiles | Mean.Wind.SpeedMPH | MeanDew.PointF | Min.DewpointF | Min.Humidity | Min.Sea.Level.PressureIn | Min.TemperatureF | Min.VisibilityMiles | PrecipitationIn | WindDirDegrees |\n",
       "|---|---|---|---|---|---|---|---|---|---|---|---|---|---|---|---|---|---|---|---|---|\n",
       "| 2014-12-01 | Rain       | 6          | 46         | 29         |  74        | 30.45      | 64         | 10         | 22         | ...        | 10         | 13         | 40         | 26         | 52         | 30.01      | 39         | 10         | 0.01       | 268        |\n",
       "| 2014-12-10 | Rain       | 8          | 45         | 29         | 100        | 29.58      | 48         | 10         | 23         | ...        |  3         | 13         | 39         | 37         | 89         | 29.43      | 38         |  1         | 0.28       | 357        |\n",
       "| 2014-12-11 | Rain-Snow  | 8          | 37         | 28         |  92        | 29.81      | 39         | 10         | 21         | ...        |  7         | 13         | 31         | 27         | 82         | 29.44      | 32         |  1         | 0.02       | 230        |\n",
       "| 2014-12-12 | Snow       | 7          | 28         | 21         |  85        | 29.88      | 39         | 10         | 16         | ...        | 10         | 11         | 27         | 25         | 64         | 29.81      | 31         |  7         | 0.00       | 286        |\n",
       "| 2014-12-13 | None       | 5          | 28         | 23         |  75        | 29.86      | 42         | 10         | 17         | ...        | 10         | 12         | 26         | 24         | 55         | 29.78      | 32         | 10         | 0.00       | 298        |\n",
       "| 2014-12-14 | None       | 4          | 29         | 20         |  82        | 29.91      | 45         | 10         | 15         | ...        | 10         | 10         | 27         | 25         | 53         | 29.78      | 33         | 10         | 0.00       | 306        |\n",
       "\n"
      ],
      "text/plain": [
       "  date       Events    CloudCover Max.Dew.PointF Max.Gust.SpeedMPH Max.Humidity\n",
       "1 2014-12-01 Rain      6          46             29                 74         \n",
       "2 2014-12-10 Rain      8          45             29                100         \n",
       "3 2014-12-11 Rain-Snow 8          37             28                 92         \n",
       "4 2014-12-12 Snow      7          28             21                 85         \n",
       "5 2014-12-13 None      5          28             23                 75         \n",
       "6 2014-12-14 None      4          29             20                 82         \n",
       "  Max.Sea.Level.PressureIn Max.TemperatureF Max.VisibilityMiles\n",
       "1 30.45                    64               10                 \n",
       "2 29.58                    48               10                 \n",
       "3 29.81                    39               10                 \n",
       "4 29.88                    39               10                 \n",
       "5 29.86                    42               10                 \n",
       "6 29.91                    45               10                 \n",
       "  Max.Wind.SpeedMPH ... Mean.VisibilityMiles Mean.Wind.SpeedMPH MeanDew.PointF\n",
       "1 22                ... 10                   13                 40            \n",
       "2 23                ...  3                   13                 39            \n",
       "3 21                ...  7                   13                 31            \n",
       "4 16                ... 10                   11                 27            \n",
       "5 17                ... 10                   12                 26            \n",
       "6 15                ... 10                   10                 27            \n",
       "  Min.DewpointF Min.Humidity Min.Sea.Level.PressureIn Min.TemperatureF\n",
       "1 26            52           30.01                    39              \n",
       "2 37            89           29.43                    38              \n",
       "3 27            82           29.44                    32              \n",
       "4 25            64           29.81                    31              \n",
       "5 24            55           29.78                    32              \n",
       "6 25            53           29.78                    33              \n",
       "  Min.VisibilityMiles PrecipitationIn WindDirDegrees\n",
       "1 10                  0.01            268           \n",
       "2  1                  0.28            357           \n",
       "3  1                  0.02            230           \n",
       "4  7                  0.00            286           \n",
       "5 10                  0.00            298           \n",
       "6 10                  0.00            306           "
      ]
     },
     "metadata": {},
     "output_type": "display_data"
    }
   ],
   "source": [
    "# Replace empty cells in events column\n",
    "weather6$Events[weather6$Events == \"\"] <- \"None\"\n",
    "\n",
    "# Print the first 6 rows of weather6\n",
    "head(weather6, n =6)"
   ]
  }
 ],
 "metadata": {
  "kernelspec": {
   "display_name": "R",
   "language": "R",
   "name": "ir"
  },
  "language_info": {
   "codemirror_mode": "r",
   "file_extension": ".r",
   "mimetype": "text/x-r-source",
   "name": "R",
   "pygments_lexer": "r",
   "version": "3.5.1"
  },
  "toc": {
   "base_numbering": 1,
   "nav_menu": {},
   "number_sections": true,
   "sideBar": true,
   "skip_h1_title": false,
   "title_cell": "Table of Contents",
   "title_sidebar": "Contents",
   "toc_cell": true,
   "toc_position": {},
   "toc_section_display": true,
   "toc_window_display": false
  }
 },
 "nbformat": 4,
 "nbformat_minor": 2
}
