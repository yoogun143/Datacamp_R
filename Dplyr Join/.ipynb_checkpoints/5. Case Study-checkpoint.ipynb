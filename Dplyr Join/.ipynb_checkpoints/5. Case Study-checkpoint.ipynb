{
 "cells": [
  {
   "cell_type": "markdown",
   "metadata": {
    "toc": true
   },
   "source": [
    "<h1>Table of Contents<span class=\"tocSkip\"></span></h1>\n",
    "<div class=\"toc\"><ul class=\"toc-item\"><li><span><a href=\"#ANY-KEYS-SPAN-THROUGH-28-DATASETS?\" data-toc-modified-id=\"ANY-KEYS-SPAN-THROUGH-28-DATASETS?-1\"><span class=\"toc-item-num\">1&nbsp;&nbsp;</span>ANY KEYS SPAN THROUGH 28 DATASETS?</a></span></li><li><span><a href=\"#COMMON-KEYS\" data-toc-modified-id=\"COMMON-KEYS-2\"><span class=\"toc-item-num\">2&nbsp;&nbsp;</span>COMMON KEYS</a></span></li><li><span><a href=\"#WHICH-DATASETS-USED-PLAYERID?\" data-toc-modified-id=\"WHICH-DATASETS-USED-PLAYERID?-3\"><span class=\"toc-item-num\">3&nbsp;&nbsp;</span>WHICH DATASETS USED PLAYERID?</a></span></li><li><span><a href=\"#WHO-ARE-THE-PLAYERS?\" data-toc-modified-id=\"WHO-ARE-THE-PLAYERS?-4\"><span class=\"toc-item-num\">4&nbsp;&nbsp;</span>WHO ARE THE PLAYERS?</a></span></li><li><span><a href=\"#HOW-MANY-PLAYERS-ARE-COMPLETELY-MISSING-SALARY-INFO?\" data-toc-modified-id=\"HOW-MANY-PLAYERS-ARE-COMPLETELY-MISSING-SALARY-INFO?-5\"><span class=\"toc-item-num\">5&nbsp;&nbsp;</span>HOW MANY PLAYERS ARE COMPLETELY MISSING SALARY INFO?</a></span></li><li><span><a href=\"#MISS-SALARY-BECAUSE-THEY-DID-NOT-PLAY\" data-toc-modified-id=\"MISS-SALARY-BECAUSE-THEY-DID-NOT-PLAY-6\"><span class=\"toc-item-num\">6&nbsp;&nbsp;</span>MISS SALARY BECAUSE THEY DID NOT PLAY</a></span></li><li><span><a href=\"#MAYBE-UNSALARIED-PLAYERS-ONLY-PLAYED-1-OR-2-GAMES,-DID-NOT-EARN-FULL-SALARY\" data-toc-modified-id=\"MAYBE-UNSALARIED-PLAYERS-ONLY-PLAYED-1-OR-2-GAMES,-DID-NOT-EARN-FULL-SALARY-7\"><span class=\"toc-item-num\">7&nbsp;&nbsp;</span>MAYBE UNSALARIED PLAYERS ONLY PLAYED 1 OR 2 GAMES, DID NOT EARN FULL SALARY</a></span></li><li><span><a href=\"#MAYBE-UNSALARIED-PLAYERS-DID-NOT-ACTUALLY-PLAY-IN-THE-GAMES-THAT-THEY-APPEARED-IN-(SUBSTITUTE)\" data-toc-modified-id=\"MAYBE-UNSALARIED-PLAYERS-DID-NOT-ACTUALLY-PLAY-IN-THE-GAMES-THAT-THEY-APPEARED-IN-(SUBSTITUTE)-8\"><span class=\"toc-item-num\">8&nbsp;&nbsp;</span>MAYBE UNSALARIED PLAYERS DID NOT ACTUALLY PLAY IN THE GAMES THAT THEY APPEARED IN (SUBSTITUTE)</a></span></li><li><span><a href=\"#HOW-MANY-PLAYERS-HAVE-BEEN-NOMINATED-FOR-THE-HALL-OF-FAME?\" data-toc-modified-id=\"HOW-MANY-PLAYERS-HAVE-BEEN-NOMINATED-FOR-THE-HALL-OF-FAME?-9\"><span class=\"toc-item-num\">9&nbsp;&nbsp;</span>HOW MANY PLAYERS HAVE BEEN NOMINATED FOR THE HALL OF FAME?</a></span></li><li><span><a href=\"#HOW-MANY-WERE-ADMITTED-TO-HALL-OF-FAME-FROM-NOMINATED?\" data-toc-modified-id=\"HOW-MANY-WERE-ADMITTED-TO-HALL-OF-FAME-FROM-NOMINATED?-10\"><span class=\"toc-item-num\">10&nbsp;&nbsp;</span>HOW MANY WERE ADMITTED TO HALL OF FAME FROM NOMINATED?</a></span></li><li><span><a href=\"#DID-NOMINEES-WHO-WERE-INDUCTED-EARN-MORE-AWARDS?\" data-toc-modified-id=\"DID-NOMINEES-WHO-WERE-INDUCTED-EARN-MORE-AWARDS?-11\"><span class=\"toc-item-num\">11&nbsp;&nbsp;</span>DID NOMINEES WHO WERE INDUCTED EARN MORE AWARDS?</a></span></li><li><span><a href=\"#DOES-MAXIMUM-SALARY-EARNED-BY-INDUCTEES-TEND-TO-BE-GREATER-THAN-NOMINEES-NOT-INDUCTED?\" data-toc-modified-id=\"DOES-MAXIMUM-SALARY-EARNED-BY-INDUCTEES-TEND-TO-BE-GREATER-THAN-NOMINEES-NOT-INDUCTED?-12\"><span class=\"toc-item-num\">12&nbsp;&nbsp;</span>DOES MAXIMUM SALARY EARNED BY INDUCTEES TEND TO BE GREATER THAN NOMINEES NOT INDUCTED?</a></span></li><li><span><a href=\"#TEST-FACT:-PLAYERS-CANNOT-BE-NOMINATED-UNTIL-5-YEARS-AFTER-THEY-RETIRE\" data-toc-modified-id=\"TEST-FACT:-PLAYERS-CANNOT-BE-NOMINATED-UNTIL-5-YEARS-AFTER-THEY-RETIRE-13\"><span class=\"toc-item-num\">13&nbsp;&nbsp;</span>TEST FACT: PLAYERS CANNOT BE NOMINATED UNTIL 5 YEARS AFTER THEY RETIRE</a></span></li></ul></div>"
   ]
  },
  {
   "cell_type": "code",
   "execution_count": 10,
   "metadata": {},
   "outputs": [],
   "source": [
    "library(purrr)\n",
    "library(dplyr)\n",
    "library(Lahman)\n",
    "lahmanNames <- readRDS('lahmanNames.RDS')"
   ]
  },
  {
   "cell_type": "markdown",
   "metadata": {},
   "source": [
    "## ANY KEYS SPAN THROUGH 28 DATASETS?"
   ]
  },
  {
   "cell_type": "code",
   "execution_count": 25,
   "metadata": {
    "scrolled": false
   },
   "outputs": [
    {
     "data": {
      "text/html": [
       "<dl>\n",
       "\t<dt>$TeamsFranchises</dt>\n",
       "\t\t<dd><table>\n",
       "<thead><tr><th scope=col>var</th></tr></thead>\n",
       "<tbody>\n",
       "\t<tr><td>franchID  </td></tr>\n",
       "\t<tr><td>franchName</td></tr>\n",
       "\t<tr><td>active    </td></tr>\n",
       "\t<tr><td>NAassoc   </td></tr>\n",
       "</tbody>\n",
       "</table>\n",
       "</dd>\n",
       "\t<dt>$TeamsHalf</dt>\n",
       "\t\t<dd><table>\n",
       "<thead><tr><th scope=col>var</th></tr></thead>\n",
       "<tbody>\n",
       "\t<tr><td>yearID</td></tr>\n",
       "\t<tr><td>lgID  </td></tr>\n",
       "\t<tr><td>teamID</td></tr>\n",
       "\t<tr><td>Half  </td></tr>\n",
       "\t<tr><td>divID </td></tr>\n",
       "\t<tr><td>DivWin</td></tr>\n",
       "\t<tr><td>Rank  </td></tr>\n",
       "\t<tr><td>G     </td></tr>\n",
       "\t<tr><td>W     </td></tr>\n",
       "\t<tr><td>L     </td></tr>\n",
       "</tbody>\n",
       "</table>\n",
       "</dd>\n",
       "</dl>\n"
      ],
      "text/latex": [
       "\\begin{description}\n",
       "\\item[\\$TeamsFranchises] \\begin{tabular}{r|l}\n",
       " var\\\\\n",
       "\\hline\n",
       "\t franchID  \\\\\n",
       "\t franchName\\\\\n",
       "\t active    \\\\\n",
       "\t NAassoc   \\\\\n",
       "\\end{tabular}\n",
       "\n",
       "\\item[\\$TeamsHalf] \\begin{tabular}{r|l}\n",
       " var\\\\\n",
       "\\hline\n",
       "\t yearID\\\\\n",
       "\t lgID  \\\\\n",
       "\t teamID\\\\\n",
       "\t Half  \\\\\n",
       "\t divID \\\\\n",
       "\t DivWin\\\\\n",
       "\t Rank  \\\\\n",
       "\t G     \\\\\n",
       "\t W     \\\\\n",
       "\t L     \\\\\n",
       "\\end{tabular}\n",
       "\n",
       "\\end{description}\n"
      ],
      "text/markdown": [
       "$TeamsFranchises\n",
       ":   \n",
       "| var |\n",
       "|---|\n",
       "| franchID   |\n",
       "| franchName |\n",
       "| active     |\n",
       "| NAassoc    |\n",
       "\n",
       "\n",
       "$TeamsHalf\n",
       ":   \n",
       "| var |\n",
       "|---|\n",
       "| yearID |\n",
       "| lgID   |\n",
       "| teamID |\n",
       "| Half   |\n",
       "| divID  |\n",
       "| DivWin |\n",
       "| Rank   |\n",
       "| G      |\n",
       "| W      |\n",
       "| L      |\n",
       "\n",
       "\n",
       "\n",
       "\n"
      ],
      "text/plain": [
       "$TeamsFranchises\n",
       "# A tibble: 4 x 1\n",
       "  var       \n",
       "  <chr>     \n",
       "1 franchID  \n",
       "2 franchName\n",
       "3 active    \n",
       "4 NAassoc   \n",
       "\n",
       "$TeamsHalf\n",
       "# A tibble: 10 x 1\n",
       "   var   \n",
       "   <chr> \n",
       " 1 yearID\n",
       " 2 lgID  \n",
       " 3 teamID\n",
       " 4 Half  \n",
       " 5 divID \n",
       " 6 DivWin\n",
       " 7 Rank  \n",
       " 8 G     \n",
       " 9 W     \n",
       "10 L     \n"
      ]
     },
     "metadata": {},
     "output_type": "display_data"
    }
   ],
   "source": [
    "# Examine lahmanNames\n",
    "tail(lahmanNames, n = 2)"
   ]
  },
  {
   "cell_type": "code",
   "execution_count": 12,
   "metadata": {},
   "outputs": [
    {
     "data": {
      "text/html": [
       "<table>\n",
       "<thead><tr><th scope=col>var</th></tr></thead>\n",
       "<tbody>\n",
       "</tbody>\n",
       "</table>\n"
      ],
      "text/latex": [
       "\\begin{tabular}{r|l}\n",
       " var\\\\\n",
       "\\hline\n",
       "\\end{tabular}\n"
      ],
      "text/markdown": [
       "\n",
       "| var |\n",
       "|---|\n",
       "\n"
      ],
      "text/plain": [
       "     var"
      ]
     },
     "metadata": {},
     "output_type": "display_data"
    }
   ],
   "source": [
    "# Find variables in common\n",
    "reduce(lahmanNames, intersect)"
   ]
  },
  {
   "cell_type": "markdown",
   "metadata": {},
   "source": [
    "## COMMON KEYS"
   ]
  },
  {
   "cell_type": "code",
   "execution_count": 14,
   "metadata": {},
   "outputs": [
    {
     "data": {
      "text/html": [
       "<table>\n",
       "<thead><tr><th scope=col>var</th><th scope=col>n</th></tr></thead>\n",
       "<tbody>\n",
       "\t<tr><td>yearID  </td><td>21      </td></tr>\n",
       "\t<tr><td>playerID</td><td>19      </td></tr>\n",
       "\t<tr><td>lgID    </td><td>17      </td></tr>\n",
       "\t<tr><td>teamID  </td><td>13      </td></tr>\n",
       "\t<tr><td>G       </td><td>10      </td></tr>\n",
       "\t<tr><td>L       </td><td> 6      </td></tr>\n",
       "</tbody>\n",
       "</table>\n"
      ],
      "text/latex": [
       "\\begin{tabular}{r|ll}\n",
       " var & n\\\\\n",
       "\\hline\n",
       "\t yearID   & 21      \\\\\n",
       "\t playerID & 19      \\\\\n",
       "\t lgID     & 17      \\\\\n",
       "\t teamID   & 13      \\\\\n",
       "\t G        & 10      \\\\\n",
       "\t L        &  6      \\\\\n",
       "\\end{tabular}\n"
      ],
      "text/markdown": [
       "\n",
       "| var | n |\n",
       "|---|---|\n",
       "| yearID   | 21       |\n",
       "| playerID | 19       |\n",
       "| lgID     | 17       |\n",
       "| teamID   | 13       |\n",
       "| G        | 10       |\n",
       "| L        |  6       |\n",
       "\n"
      ],
      "text/plain": [
       "  var      n \n",
       "1 yearID   21\n",
       "2 playerID 19\n",
       "3 lgID     17\n",
       "4 teamID   13\n",
       "5 G        10\n",
       "6 L         6"
      ]
     },
     "metadata": {},
     "output_type": "display_data"
    }
   ],
   "source": [
    "head(lahmanNames %>%  \n",
    "  # Bind the data frames in lahmanNames\n",
    "  bind_rows(.id = \"dataframe\") %>%\n",
    "  # Group the result by var\n",
    "  group_by(var) %>%\n",
    "  # Tally the number of appearances\n",
    "  summarise(n = n()) %>% # tally()\n",
    "  # Filter the data\n",
    "  filter(n > 1) %>% \n",
    "  # Arrange the results\n",
    "  arrange(desc(n)))"
   ]
  },
  {
   "cell_type": "markdown",
   "metadata": {},
   "source": [
    "## WHICH DATASETS USED PLAYERID?"
   ]
  },
  {
   "cell_type": "code",
   "execution_count": 15,
   "metadata": {},
   "outputs": [
    {
     "data": {
      "text/html": [
       "<ol class=list-inline>\n",
       "\t<li>'AllstarFull'</li>\n",
       "\t<li>'Appearances'</li>\n",
       "\t<li>'AwardsManagers'</li>\n",
       "\t<li>'AwardsPlayers'</li>\n",
       "\t<li>'AwardsShareManagers'</li>\n",
       "\t<li>'AwardsSharePlayers'</li>\n",
       "\t<li>'Batting'</li>\n",
       "\t<li>'BattingPost'</li>\n",
       "\t<li>'CollegePlaying'</li>\n",
       "\t<li>'Fielding'</li>\n",
       "\t<li>'FieldingOF'</li>\n",
       "\t<li>'FieldingPost'</li>\n",
       "\t<li>'HallOfFame'</li>\n",
       "\t<li>'Managers'</li>\n",
       "\t<li>'ManagersHalf'</li>\n",
       "\t<li>'Master'</li>\n",
       "\t<li>'Pitching'</li>\n",
       "\t<li>'PitchingPost'</li>\n",
       "\t<li>'Salaries'</li>\n",
       "</ol>\n"
      ],
      "text/latex": [
       "\\begin{enumerate*}\n",
       "\\item 'AllstarFull'\n",
       "\\item 'Appearances'\n",
       "\\item 'AwardsManagers'\n",
       "\\item 'AwardsPlayers'\n",
       "\\item 'AwardsShareManagers'\n",
       "\\item 'AwardsSharePlayers'\n",
       "\\item 'Batting'\n",
       "\\item 'BattingPost'\n",
       "\\item 'CollegePlaying'\n",
       "\\item 'Fielding'\n",
       "\\item 'FieldingOF'\n",
       "\\item 'FieldingPost'\n",
       "\\item 'HallOfFame'\n",
       "\\item 'Managers'\n",
       "\\item 'ManagersHalf'\n",
       "\\item 'Master'\n",
       "\\item 'Pitching'\n",
       "\\item 'PitchingPost'\n",
       "\\item 'Salaries'\n",
       "\\end{enumerate*}\n"
      ],
      "text/markdown": [
       "1. 'AllstarFull'\n",
       "2. 'Appearances'\n",
       "3. 'AwardsManagers'\n",
       "4. 'AwardsPlayers'\n",
       "5. 'AwardsShareManagers'\n",
       "6. 'AwardsSharePlayers'\n",
       "7. 'Batting'\n",
       "8. 'BattingPost'\n",
       "9. 'CollegePlaying'\n",
       "10. 'Fielding'\n",
       "11. 'FieldingOF'\n",
       "12. 'FieldingPost'\n",
       "13. 'HallOfFame'\n",
       "14. 'Managers'\n",
       "15. 'ManagersHalf'\n",
       "16. 'Master'\n",
       "17. 'Pitching'\n",
       "18. 'PitchingPost'\n",
       "19. 'Salaries'\n",
       "\n",
       "\n"
      ],
      "text/plain": [
       " [1] \"AllstarFull\"         \"Appearances\"         \"AwardsManagers\"     \n",
       " [4] \"AwardsPlayers\"       \"AwardsShareManagers\" \"AwardsSharePlayers\" \n",
       " [7] \"Batting\"             \"BattingPost\"         \"CollegePlaying\"     \n",
       "[10] \"Fielding\"            \"FieldingOF\"          \"FieldingPost\"       \n",
       "[13] \"HallOfFame\"          \"Managers\"            \"ManagersHalf\"       \n",
       "[16] \"Master\"              \"Pitching\"            \"PitchingPost\"       \n",
       "[19] \"Salaries\"           "
      ]
     },
     "metadata": {},
     "output_type": "display_data"
    }
   ],
   "source": [
    "lahmanNames %>% \n",
    "  # Bind the data frames\n",
    "  bind_rows(.id = \"dataframe\") %>%\n",
    "  # Filter the results\n",
    "  filter(var == \"playerID\") %>% \n",
    "  # Extract the dataframe variable\n",
    "  `$`(dataframe)"
   ]
  },
  {
   "cell_type": "markdown",
   "metadata": {},
   "source": [
    "## WHO ARE THE PLAYERS?"
   ]
  },
  {
   "cell_type": "code",
   "execution_count": 23,
   "metadata": {},
   "outputs": [
    {
     "name": "stdout",
     "output_type": "stream",
     "text": [
      "'data.frame':\t19105 obs. of  26 variables:\n",
      " $ playerID    : chr  \"aardsda01\" \"aaronha01\" \"aaronto01\" \"aasedo01\" ...\n",
      " $ birthYear   : int  1981 1934 1939 1954 1972 1985 1850 1877 1869 1866 ...\n",
      " $ birthMonth  : int  12 2 8 9 8 12 11 4 11 10 ...\n",
      " $ birthDay    : int  27 5 5 8 25 17 4 15 11 14 ...\n",
      " $ birthCountry: chr  \"USA\" \"USA\" \"USA\" \"USA\" ...\n",
      " $ birthState  : chr  \"CO\" \"AL\" \"AL\" \"CA\" ...\n",
      " $ birthCity   : chr  \"Denver\" \"Mobile\" \"Mobile\" \"Orange\" ...\n",
      " $ deathYear   : int  NA NA 1984 NA NA NA 1905 1957 1962 1926 ...\n",
      " $ deathMonth  : int  NA NA 8 NA NA NA 5 1 6 4 ...\n",
      " $ deathDay    : int  NA NA 16 NA NA NA 17 6 11 27 ...\n",
      " $ deathCountry: chr  NA NA \"USA\" NA ...\n",
      " $ deathState  : chr  NA NA \"GA\" NA ...\n",
      " $ deathCity   : chr  NA NA \"Atlanta\" NA ...\n",
      " $ nameFirst   : chr  \"David\" \"Hank\" \"Tommie\" \"Don\" ...\n",
      " $ nameLast    : chr  \"Aardsma\" \"Aaron\" \"Aaron\" \"Aase\" ...\n",
      " $ nameGiven   : chr  \"David Allan\" \"Henry Louis\" \"Tommie Lee\" \"Donald William\" ...\n",
      " $ weight      : int  215 180 190 190 184 220 192 170 175 169 ...\n",
      " $ height      : int  75 72 75 75 73 73 72 71 71 68 ...\n",
      " $ bats        : Factor w/ 3 levels \"B\",\"L\",\"R\": 3 3 3 3 2 2 3 3 3 2 ...\n",
      " $ throws      : Factor w/ 3 levels \"L\",\"R\",\"S\": 2 2 2 2 1 1 2 2 2 1 ...\n",
      " $ debut       : chr  \"2004-04-06\" \"1954-04-13\" \"1962-04-10\" \"1977-07-26\" ...\n",
      " $ finalGame   : chr  \"2015-08-23\" \"1976-10-03\" \"1971-09-26\" \"1990-10-03\" ...\n",
      " $ retroID     : chr  \"aardd001\" \"aaroh101\" \"aarot101\" \"aased001\" ...\n",
      " $ bbrefID     : chr  \"aardsda01\" \"aaronha01\" \"aaronto01\" \"aasedo01\" ...\n",
      " $ deathDate   : Date, format: NA NA ...\n",
      " $ birthDate   : Date, format: \"1981-12-27\" \"1934-02-05\" ...\n"
     ]
    }
   ],
   "source": [
    "# Master data\n",
    "str(Master)"
   ]
  },
  {
   "cell_type": "code",
   "execution_count": 19,
   "metadata": {},
   "outputs": [
    {
     "data": {
      "text/html": [
       "<table>\n",
       "<thead><tr><th scope=col>playerID</th><th scope=col>nameFirst</th><th scope=col>nameLast</th></tr></thead>\n",
       "<tbody>\n",
       "\t<tr><td>aardsda01</td><td>David    </td><td>Aardsma  </td></tr>\n",
       "\t<tr><td>aaronha01</td><td>Hank     </td><td>Aaron    </td></tr>\n",
       "\t<tr><td>aaronto01</td><td>Tommie   </td><td>Aaron    </td></tr>\n",
       "\t<tr><td>aasedo01 </td><td>Don      </td><td>Aase     </td></tr>\n",
       "\t<tr><td>abadan01 </td><td>Andy     </td><td>Abad     </td></tr>\n",
       "\t<tr><td>abadfe01 </td><td>Fernando </td><td>Abad     </td></tr>\n",
       "</tbody>\n",
       "</table>\n"
      ],
      "text/latex": [
       "\\begin{tabular}{r|lll}\n",
       " playerID & nameFirst & nameLast\\\\\n",
       "\\hline\n",
       "\t aardsda01 & David     & Aardsma  \\\\\n",
       "\t aaronha01 & Hank      & Aaron    \\\\\n",
       "\t aaronto01 & Tommie    & Aaron    \\\\\n",
       "\t aasedo01  & Don       & Aase     \\\\\n",
       "\t abadan01  & Andy      & Abad     \\\\\n",
       "\t abadfe01  & Fernando  & Abad     \\\\\n",
       "\\end{tabular}\n"
      ],
      "text/markdown": [
       "\n",
       "| playerID | nameFirst | nameLast |\n",
       "|---|---|---|\n",
       "| aardsda01 | David     | Aardsma   |\n",
       "| aaronha01 | Hank      | Aaron     |\n",
       "| aaronto01 | Tommie    | Aaron     |\n",
       "| aasedo01  | Don       | Aase      |\n",
       "| abadan01  | Andy      | Abad      |\n",
       "| abadfe01  | Fernando  | Abad      |\n",
       "\n"
      ],
      "text/plain": [
       "  playerID  nameFirst nameLast\n",
       "1 aardsda01 David     Aardsma \n",
       "2 aaronha01 Hank      Aaron   \n",
       "3 aaronto01 Tommie    Aaron   \n",
       "4 aasedo01  Don       Aase    \n",
       "5 abadan01  Andy      Abad    \n",
       "6 abadfe01  Fernando  Abad    "
      ]
     },
     "metadata": {},
     "output_type": "display_data"
    }
   ],
   "source": [
    "players <- Master %>% \n",
    "  # Return one row for each distinct player\n",
    "  distinct(playerID, nameFirst, nameLast)\n",
    "\n",
    "head(players)"
   ]
  },
  {
   "cell_type": "markdown",
   "metadata": {},
   "source": [
    "## HOW MANY PLAYERS ARE COMPLETELY MISSING SALARY INFO?"
   ]
  },
  {
   "cell_type": "code",
   "execution_count": 24,
   "metadata": {},
   "outputs": [
    {
     "name": "stdout",
     "output_type": "stream",
     "text": [
      "'data.frame':\t26428 obs. of  5 variables:\n",
      " $ yearID  : int  1985 1985 1985 1985 1985 1985 1985 1985 1985 1985 ...\n",
      " $ teamID  : Factor w/ 46 levels \"ANA\",\"ARI\",\"ATL\",..: 3 3 3 3 3 3 3 3 3 3 ...\n",
      " $ lgID    : Factor w/ 2 levels \"AL\",\"NL\": 2 2 2 2 2 2 2 2 2 2 ...\n",
      " $ playerID: chr  \"barkele01\" \"bedrost01\" \"benedbr01\" \"campri01\" ...\n",
      " $ salary  : int  870000 550000 545000 633333 625000 800000 150000 483333 772000 250000 ...\n"
     ]
    }
   ],
   "source": [
    "# Salary data\n",
    "str(Salaries)"
   ]
  },
  {
   "cell_type": "code",
   "execution_count": 21,
   "metadata": {},
   "outputs": [
    {
     "data": {
      "text/html": [
       "<table>\n",
       "<thead><tr><th scope=col>n</th></tr></thead>\n",
       "<tbody>\n",
       "\t<tr><td>13958</td></tr>\n",
       "</tbody>\n",
       "</table>\n"
      ],
      "text/latex": [
       "\\begin{tabular}{r|l}\n",
       " n\\\\\n",
       "\\hline\n",
       "\t 13958\\\\\n",
       "\\end{tabular}\n"
      ],
      "text/markdown": [
       "\n",
       "| n |\n",
       "|---|\n",
       "| 13958 |\n",
       "\n"
      ],
      "text/plain": [
       "  n    \n",
       "1 13958"
      ]
     },
     "metadata": {},
     "output_type": "display_data"
    }
   ],
   "source": [
    "players %>% \n",
    "  # Find all players who do not appear in Salaries\n",
    "  anti_join(Salaries, by = \"playerID\") %>%\n",
    "  # Count them\n",
    "  count() # = summarise(n())"
   ]
  },
  {
   "cell_type": "markdown",
   "metadata": {},
   "source": [
    "## MISS SALARY BECAUSE THEY DID NOT PLAY"
   ]
  },
  {
   "cell_type": "code",
   "execution_count": 28,
   "metadata": {},
   "outputs": [
    {
     "data": {
      "text/html": [
       "<table>\n",
       "<thead><tr><th scope=col>yearID</th><th scope=col>teamID</th><th scope=col>lgID</th><th scope=col>playerID</th><th scope=col>G_all</th><th scope=col>GS</th><th scope=col>G_batting</th><th scope=col>G_defense</th><th scope=col>G_p</th><th scope=col>G_c</th><th scope=col>...</th><th scope=col>G_2b</th><th scope=col>G_3b</th><th scope=col>G_ss</th><th scope=col>G_lf</th><th scope=col>G_cf</th><th scope=col>G_rf</th><th scope=col>G_of</th><th scope=col>G_dh</th><th scope=col>G_ph</th><th scope=col>G_pr</th></tr></thead>\n",
       "<tbody>\n",
       "\t<tr><td>1871     </td><td>TRO      </td><td>NA       </td><td>abercda01</td><td> 1       </td><td>NA       </td><td> 1       </td><td> 1       </td><td>0        </td><td> 0       </td><td>...      </td><td> 0       </td><td> 0       </td><td>1        </td><td>0        </td><td> 0       </td><td>0        </td><td> 0       </td><td>NA       </td><td>NA       </td><td>NA       </td></tr>\n",
       "\t<tr><td>1871     </td><td>RC1      </td><td>NA       </td><td>addybo01 </td><td>25       </td><td>NA       </td><td>25       </td><td>25       </td><td>0        </td><td> 0       </td><td>...      </td><td>22       </td><td> 0       </td><td>3        </td><td>0        </td><td> 0       </td><td>0        </td><td> 0       </td><td>NA       </td><td>NA       </td><td>NA       </td></tr>\n",
       "\t<tr><td>1871     </td><td>CL1      </td><td>NA       </td><td>allisar01</td><td>29       </td><td>NA       </td><td>29       </td><td>29       </td><td>0        </td><td> 0       </td><td>...      </td><td> 2       </td><td> 0       </td><td>0        </td><td>0        </td><td>29       </td><td>0        </td><td>29       </td><td>NA       </td><td>NA       </td><td>NA       </td></tr>\n",
       "\t<tr><td>1871     </td><td>WS3      </td><td>NA       </td><td>allisdo01</td><td>27       </td><td>NA       </td><td>27       </td><td>27       </td><td>0        </td><td>27       </td><td>...      </td><td> 0       </td><td> 0       </td><td>0        </td><td>0        </td><td> 0       </td><td>0        </td><td> 0       </td><td>NA       </td><td>NA       </td><td>NA       </td></tr>\n",
       "\t<tr><td>1871     </td><td>RC1      </td><td>NA       </td><td>ansonca01</td><td>25       </td><td>NA       </td><td>25       </td><td>25       </td><td>0        </td><td> 5       </td><td>...      </td><td> 2       </td><td>20       </td><td>0        </td><td>1        </td><td> 0       </td><td>0        </td><td> 1       </td><td>NA       </td><td>NA       </td><td>NA       </td></tr>\n",
       "\t<tr><td>1871     </td><td>FW1      </td><td>NA       </td><td>armstbo01</td><td>12       </td><td>NA       </td><td>12       </td><td>12       </td><td>0        </td><td> 0       </td><td>...      </td><td> 0       </td><td> 0       </td><td>0        </td><td>0        </td><td>11       </td><td>1        </td><td>12       </td><td>NA       </td><td>NA       </td><td>NA       </td></tr>\n",
       "</tbody>\n",
       "</table>\n"
      ],
      "text/latex": [
       "\\begin{tabular}{r|lllllllllllllllllllll}\n",
       " yearID & teamID & lgID & playerID & G\\_all & GS & G\\_batting & G\\_defense & G\\_p & G\\_c & ... & G\\_2b & G\\_3b & G\\_ss & G\\_lf & G\\_cf & G\\_rf & G\\_of & G\\_dh & G\\_ph & G\\_pr\\\\\n",
       "\\hline\n",
       "\t 1871      & TRO       & NA        & abercda01 &  1        & NA        &  1        &  1        & 0         &  0        & ...       &  0        &  0        & 1         & 0         &  0        & 0         &  0        & NA        & NA        & NA       \\\\\n",
       "\t 1871      & RC1       & NA        & addybo01  & 25        & NA        & 25        & 25        & 0         &  0        & ...       & 22        &  0        & 3         & 0         &  0        & 0         &  0        & NA        & NA        & NA       \\\\\n",
       "\t 1871      & CL1       & NA        & allisar01 & 29        & NA        & 29        & 29        & 0         &  0        & ...       &  2        &  0        & 0         & 0         & 29        & 0         & 29        & NA        & NA        & NA       \\\\\n",
       "\t 1871      & WS3       & NA        & allisdo01 & 27        & NA        & 27        & 27        & 0         & 27        & ...       &  0        &  0        & 0         & 0         &  0        & 0         &  0        & NA        & NA        & NA       \\\\\n",
       "\t 1871      & RC1       & NA        & ansonca01 & 25        & NA        & 25        & 25        & 0         &  5        & ...       &  2        & 20        & 0         & 1         &  0        & 0         &  1        & NA        & NA        & NA       \\\\\n",
       "\t 1871      & FW1       & NA        & armstbo01 & 12        & NA        & 12        & 12        & 0         &  0        & ...       &  0        &  0        & 0         & 0         & 11        & 1         & 12        & NA        & NA        & NA       \\\\\n",
       "\\end{tabular}\n"
      ],
      "text/markdown": [
       "\n",
       "| yearID | teamID | lgID | playerID | G_all | GS | G_batting | G_defense | G_p | G_c | ... | G_2b | G_3b | G_ss | G_lf | G_cf | G_rf | G_of | G_dh | G_ph | G_pr |\n",
       "|---|---|---|---|---|---|---|---|---|---|---|---|---|---|---|---|---|---|---|---|---|\n",
       "| 1871      | TRO       | NA        | abercda01 |  1        | NA        |  1        |  1        | 0         |  0        | ...       |  0        |  0        | 1         | 0         |  0        | 0         |  0        | NA        | NA        | NA        |\n",
       "| 1871      | RC1       | NA        | addybo01  | 25        | NA        | 25        | 25        | 0         |  0        | ...       | 22        |  0        | 3         | 0         |  0        | 0         |  0        | NA        | NA        | NA        |\n",
       "| 1871      | CL1       | NA        | allisar01 | 29        | NA        | 29        | 29        | 0         |  0        | ...       |  2        |  0        | 0         | 0         | 29        | 0         | 29        | NA        | NA        | NA        |\n",
       "| 1871      | WS3       | NA        | allisdo01 | 27        | NA        | 27        | 27        | 0         | 27        | ...       |  0        |  0        | 0         | 0         |  0        | 0         |  0        | NA        | NA        | NA        |\n",
       "| 1871      | RC1       | NA        | ansonca01 | 25        | NA        | 25        | 25        | 0         |  5        | ...       |  2        | 20        | 0         | 1         |  0        | 0         |  1        | NA        | NA        | NA        |\n",
       "| 1871      | FW1       | NA        | armstbo01 | 12        | NA        | 12        | 12        | 0         |  0        | ...       |  0        |  0        | 0         | 0         | 11        | 1         | 12        | NA        | NA        | NA        |\n",
       "\n"
      ],
      "text/plain": [
       "  yearID teamID lgID playerID  G_all GS G_batting G_defense G_p G_c ... G_2b\n",
       "1 1871   TRO    NA   abercda01  1    NA  1         1        0    0  ...  0  \n",
       "2 1871   RC1    NA   addybo01  25    NA 25        25        0    0  ... 22  \n",
       "3 1871   CL1    NA   allisar01 29    NA 29        29        0    0  ...  2  \n",
       "4 1871   WS3    NA   allisdo01 27    NA 27        27        0   27  ...  0  \n",
       "5 1871   RC1    NA   ansonca01 25    NA 25        25        0    5  ...  2  \n",
       "6 1871   FW1    NA   armstbo01 12    NA 12        12        0    0  ...  0  \n",
       "  G_3b G_ss G_lf G_cf G_rf G_of G_dh G_ph G_pr\n",
       "1  0   1    0     0   0     0   NA   NA   NA  \n",
       "2  0   3    0     0   0     0   NA   NA   NA  \n",
       "3  0   0    0    29   0    29   NA   NA   NA  \n",
       "4  0   0    0     0   0     0   NA   NA   NA  \n",
       "5 20   0    1     0   0     1   NA   NA   NA  \n",
       "6  0   0    0    11   1    12   NA   NA   NA  "
      ]
     },
     "metadata": {},
     "output_type": "display_data"
    }
   ],
   "source": [
    "# Appearance\n",
    "head(Appearances)"
   ]
  },
  {
   "cell_type": "code",
   "execution_count": 26,
   "metadata": {},
   "outputs": [
    {
     "data": {
      "text/html": [
       "<table>\n",
       "<thead><tr><th scope=col>n</th></tr></thead>\n",
       "<tbody>\n",
       "\t<tr><td>13765</td></tr>\n",
       "</tbody>\n",
       "</table>\n"
      ],
      "text/latex": [
       "\\begin{tabular}{r|l}\n",
       " n\\\\\n",
       "\\hline\n",
       "\t 13765\\\\\n",
       "\\end{tabular}\n"
      ],
      "text/markdown": [
       "\n",
       "| n |\n",
       "|---|\n",
       "| 13765 |\n",
       "\n"
      ],
      "text/plain": [
       "  n    \n",
       "1 13765"
      ]
     },
     "metadata": {},
     "output_type": "display_data"
    }
   ],
   "source": [
    "players %>% \n",
    "  anti_join(Salaries, by = \"playerID\") %>% \n",
    "  # How many unsalaried players appear in Appearances?\n",
    "  semi_join(Appearances, by = \"playerID\") %>% \n",
    "  count()"
   ]
  },
  {
   "cell_type": "markdown",
   "metadata": {},
   "source": [
    "No, they still appear in the match"
   ]
  },
  {
   "cell_type": "markdown",
   "metadata": {},
   "source": [
    "## MAYBE UNSALARIED PLAYERS ONLY PLAYED 1 OR 2 GAMES, DID NOT EARN FULL SALARY"
   ]
  },
  {
   "cell_type": "code",
   "execution_count": 29,
   "metadata": {},
   "outputs": [
    {
     "data": {
      "text/html": [
       "<table>\n",
       "<thead><tr><th scope=col>playerID</th><th scope=col>total_games</th></tr></thead>\n",
       "<tbody>\n",
       "\t<tr><td>yastrca01</td><td>3308     </td></tr>\n",
       "\t<tr><td>aaronha01</td><td>3298     </td></tr>\n",
       "\t<tr><td>cobbty01 </td><td>3034     </td></tr>\n",
       "\t<tr><td>musiast01</td><td>3026     </td></tr>\n",
       "\t<tr><td>mayswi01 </td><td>2992     </td></tr>\n",
       "\t<tr><td>robinbr01</td><td>2896     </td></tr>\n",
       "\t<tr><td>kalinal01</td><td>2834     </td></tr>\n",
       "\t<tr><td>collied01</td><td>2824     </td></tr>\n",
       "\t<tr><td>robinfr02</td><td>2808     </td></tr>\n",
       "\t<tr><td>wagneho01</td><td>2795     </td></tr>\n",
       "\t<tr><td>speaktr01</td><td>2792     </td></tr>\n",
       "\t<tr><td>ottme01  </td><td>2730     </td></tr>\n",
       "\t<tr><td>maranra01</td><td>2670     </td></tr>\n",
       "\t<tr><td>morgajo02</td><td>2649     </td></tr>\n",
       "\t<tr><td>brocklo01</td><td>2616     </td></tr>\n",
       "\t<tr><td>aparilu01</td><td>2601     </td></tr>\n",
       "\t<tr><td>mccovwi01</td><td>2588     </td></tr>\n",
       "\t<tr><td>wanerpa01</td><td>2550     </td></tr>\n",
       "\t<tr><td>bankser01</td><td>2528     </td></tr>\n",
       "\t<tr><td>ansonca01</td><td>2524     </td></tr>\n",
       "\t<tr><td>crawfsa01</td><td>2517     </td></tr>\n",
       "\t<tr><td>ruthba01 </td><td>2504     </td></tr>\n",
       "\t<tr><td>willibi01</td><td>2488     </td></tr>\n",
       "\t<tr><td>lajoina01</td><td>2480     </td></tr>\n",
       "\t<tr><td>pinsova01</td><td>2470     </td></tr>\n",
       "\t<tr><td>careyma01</td><td>2466     </td></tr>\n",
       "\t<tr><td>dahlebi01</td><td>2444     </td></tr>\n",
       "\t<tr><td>fairlro01</td><td>2442     </td></tr>\n",
       "\t<tr><td>killeha01</td><td>2435     </td></tr>\n",
       "\t<tr><td>clemero01</td><td>2433     </td></tr>\n",
       "\t<tr><td>...</td><td>...</td></tr>\n",
       "\t<tr><td>sullipa99</td><td>0        </td></tr>\n",
       "\t<tr><td>sulliwi01</td><td>0        </td></tr>\n",
       "\t<tr><td>suttlmu99</td><td>0        </td></tr>\n",
       "\t<tr><td>taylobe99</td><td>0        </td></tr>\n",
       "\t<tr><td>tayloge99</td><td>0        </td></tr>\n",
       "\t<tr><td>thomafr99</td><td>0        </td></tr>\n",
       "\t<tr><td>thompam99</td><td>0        </td></tr>\n",
       "\t<tr><td>tigheja99</td><td>0        </td></tr>\n",
       "\t<tr><td>torricr99</td><td>0        </td></tr>\n",
       "\t<tr><td>toscaca99</td><td>0        </td></tr>\n",
       "\t<tr><td>trebeto99</td><td>0        </td></tr>\n",
       "\t<tr><td>trembda99</td><td>0        </td></tr>\n",
       "\t<tr><td>turnete99</td><td>0        </td></tr>\n",
       "\t<tr><td>veeckbi99</td><td>0        </td></tr>\n",
       "\t<tr><td>vondech99</td><td>0        </td></tr>\n",
       "\t<tr><td>walshmi99</td><td>0        </td></tr>\n",
       "\t<tr><td>waltzjo99</td><td>0        </td></tr>\n",
       "\t<tr><td>watkiha99</td><td>0        </td></tr>\n",
       "\t<tr><td>weaveea99</td><td>0        </td></tr>\n",
       "\t<tr><td>weissge99</td><td>0        </td></tr>\n",
       "\t<tr><td>wellswi99</td><td>0        </td></tr>\n",
       "\t<tr><td>whiteso99</td><td>0        </td></tr>\n",
       "\t<tr><td>wilkijl99</td><td>0        </td></tr>\n",
       "\t<tr><td>williji99</td><td>0        </td></tr>\n",
       "\t<tr><td>willijo99</td><td>0        </td></tr>\n",
       "\t<tr><td>wilsoju99</td><td>0        </td></tr>\n",
       "\t<tr><td>winklbo99</td><td>0        </td></tr>\n",
       "\t<tr><td>wrighal99</td><td>0        </td></tr>\n",
       "\t<tr><td>yawketo99</td><td>0        </td></tr>\n",
       "\t<tr><td>youngni99</td><td>0        </td></tr>\n",
       "</tbody>\n",
       "</table>\n"
      ],
      "text/latex": [
       "\\begin{tabular}{r|ll}\n",
       " playerID & total\\_games\\\\\n",
       "\\hline\n",
       "\t yastrca01 & 3308     \\\\\n",
       "\t aaronha01 & 3298     \\\\\n",
       "\t cobbty01  & 3034     \\\\\n",
       "\t musiast01 & 3026     \\\\\n",
       "\t mayswi01  & 2992     \\\\\n",
       "\t robinbr01 & 2896     \\\\\n",
       "\t kalinal01 & 2834     \\\\\n",
       "\t collied01 & 2824     \\\\\n",
       "\t robinfr02 & 2808     \\\\\n",
       "\t wagneho01 & 2795     \\\\\n",
       "\t speaktr01 & 2792     \\\\\n",
       "\t ottme01   & 2730     \\\\\n",
       "\t maranra01 & 2670     \\\\\n",
       "\t morgajo02 & 2649     \\\\\n",
       "\t brocklo01 & 2616     \\\\\n",
       "\t aparilu01 & 2601     \\\\\n",
       "\t mccovwi01 & 2588     \\\\\n",
       "\t wanerpa01 & 2550     \\\\\n",
       "\t bankser01 & 2528     \\\\\n",
       "\t ansonca01 & 2524     \\\\\n",
       "\t crawfsa01 & 2517     \\\\\n",
       "\t ruthba01  & 2504     \\\\\n",
       "\t willibi01 & 2488     \\\\\n",
       "\t lajoina01 & 2480     \\\\\n",
       "\t pinsova01 & 2470     \\\\\n",
       "\t careyma01 & 2466     \\\\\n",
       "\t dahlebi01 & 2444     \\\\\n",
       "\t fairlro01 & 2442     \\\\\n",
       "\t killeha01 & 2435     \\\\\n",
       "\t clemero01 & 2433     \\\\\n",
       "\t ... & ...\\\\\n",
       "\t sullipa99 & 0        \\\\\n",
       "\t sulliwi01 & 0        \\\\\n",
       "\t suttlmu99 & 0        \\\\\n",
       "\t taylobe99 & 0        \\\\\n",
       "\t tayloge99 & 0        \\\\\n",
       "\t thomafr99 & 0        \\\\\n",
       "\t thompam99 & 0        \\\\\n",
       "\t tigheja99 & 0        \\\\\n",
       "\t torricr99 & 0        \\\\\n",
       "\t toscaca99 & 0        \\\\\n",
       "\t trebeto99 & 0        \\\\\n",
       "\t trembda99 & 0        \\\\\n",
       "\t turnete99 & 0        \\\\\n",
       "\t veeckbi99 & 0        \\\\\n",
       "\t vondech99 & 0        \\\\\n",
       "\t walshmi99 & 0        \\\\\n",
       "\t waltzjo99 & 0        \\\\\n",
       "\t watkiha99 & 0        \\\\\n",
       "\t weaveea99 & 0        \\\\\n",
       "\t weissge99 & 0        \\\\\n",
       "\t wellswi99 & 0        \\\\\n",
       "\t whiteso99 & 0        \\\\\n",
       "\t wilkijl99 & 0        \\\\\n",
       "\t williji99 & 0        \\\\\n",
       "\t willijo99 & 0        \\\\\n",
       "\t wilsoju99 & 0        \\\\\n",
       "\t winklbo99 & 0        \\\\\n",
       "\t wrighal99 & 0        \\\\\n",
       "\t yawketo99 & 0        \\\\\n",
       "\t youngni99 & 0        \\\\\n",
       "\\end{tabular}\n"
      ],
      "text/markdown": [
       "\n",
       "| playerID | total_games |\n",
       "|---|---|\n",
       "| yastrca01 | 3308      |\n",
       "| aaronha01 | 3298      |\n",
       "| cobbty01  | 3034      |\n",
       "| musiast01 | 3026      |\n",
       "| mayswi01  | 2992      |\n",
       "| robinbr01 | 2896      |\n",
       "| kalinal01 | 2834      |\n",
       "| collied01 | 2824      |\n",
       "| robinfr02 | 2808      |\n",
       "| wagneho01 | 2795      |\n",
       "| speaktr01 | 2792      |\n",
       "| ottme01   | 2730      |\n",
       "| maranra01 | 2670      |\n",
       "| morgajo02 | 2649      |\n",
       "| brocklo01 | 2616      |\n",
       "| aparilu01 | 2601      |\n",
       "| mccovwi01 | 2588      |\n",
       "| wanerpa01 | 2550      |\n",
       "| bankser01 | 2528      |\n",
       "| ansonca01 | 2524      |\n",
       "| crawfsa01 | 2517      |\n",
       "| ruthba01  | 2504      |\n",
       "| willibi01 | 2488      |\n",
       "| lajoina01 | 2480      |\n",
       "| pinsova01 | 2470      |\n",
       "| careyma01 | 2466      |\n",
       "| dahlebi01 | 2444      |\n",
       "| fairlro01 | 2442      |\n",
       "| killeha01 | 2435      |\n",
       "| clemero01 | 2433      |\n",
       "| ... | ... |\n",
       "| sullipa99 | 0         |\n",
       "| sulliwi01 | 0         |\n",
       "| suttlmu99 | 0         |\n",
       "| taylobe99 | 0         |\n",
       "| tayloge99 | 0         |\n",
       "| thomafr99 | 0         |\n",
       "| thompam99 | 0         |\n",
       "| tigheja99 | 0         |\n",
       "| torricr99 | 0         |\n",
       "| toscaca99 | 0         |\n",
       "| trebeto99 | 0         |\n",
       "| trembda99 | 0         |\n",
       "| turnete99 | 0         |\n",
       "| veeckbi99 | 0         |\n",
       "| vondech99 | 0         |\n",
       "| walshmi99 | 0         |\n",
       "| waltzjo99 | 0         |\n",
       "| watkiha99 | 0         |\n",
       "| weaveea99 | 0         |\n",
       "| weissge99 | 0         |\n",
       "| wellswi99 | 0         |\n",
       "| whiteso99 | 0         |\n",
       "| wilkijl99 | 0         |\n",
       "| williji99 | 0         |\n",
       "| willijo99 | 0         |\n",
       "| wilsoju99 | 0         |\n",
       "| winklbo99 | 0         |\n",
       "| wrighal99 | 0         |\n",
       "| yawketo99 | 0         |\n",
       "| youngni99 | 0         |\n",
       "\n"
      ],
      "text/plain": [
       "      playerID  total_games\n",
       "1     yastrca01 3308       \n",
       "2     aaronha01 3298       \n",
       "3     cobbty01  3034       \n",
       "4     musiast01 3026       \n",
       "5     mayswi01  2992       \n",
       "6     robinbr01 2896       \n",
       "7     kalinal01 2834       \n",
       "8     collied01 2824       \n",
       "9     robinfr02 2808       \n",
       "10    wagneho01 2795       \n",
       "11    speaktr01 2792       \n",
       "12    ottme01   2730       \n",
       "13    maranra01 2670       \n",
       "14    morgajo02 2649       \n",
       "15    brocklo01 2616       \n",
       "16    aparilu01 2601       \n",
       "17    mccovwi01 2588       \n",
       "18    wanerpa01 2550       \n",
       "19    bankser01 2528       \n",
       "20    ansonca01 2524       \n",
       "21    crawfsa01 2517       \n",
       "22    ruthba01  2504       \n",
       "23    willibi01 2488       \n",
       "24    lajoina01 2480       \n",
       "25    pinsova01 2470       \n",
       "26    careyma01 2466       \n",
       "27    dahlebi01 2444       \n",
       "28    fairlro01 2442       \n",
       "29    killeha01 2435       \n",
       "30    clemero01 2433       \n",
       "...   ...       ...        \n",
       "13929 sullipa99 0          \n",
       "13930 sulliwi01 0          \n",
       "13931 suttlmu99 0          \n",
       "13932 taylobe99 0          \n",
       "13933 tayloge99 0          \n",
       "13934 thomafr99 0          \n",
       "13935 thompam99 0          \n",
       "13936 tigheja99 0          \n",
       "13937 torricr99 0          \n",
       "13938 toscaca99 0          \n",
       "13939 trebeto99 0          \n",
       "13940 trembda99 0          \n",
       "13941 turnete99 0          \n",
       "13942 veeckbi99 0          \n",
       "13943 vondech99 0          \n",
       "13944 walshmi99 0          \n",
       "13945 waltzjo99 0          \n",
       "13946 watkiha99 0          \n",
       "13947 weaveea99 0          \n",
       "13948 weissge99 0          \n",
       "13949 wellswi99 0          \n",
       "13950 whiteso99 0          \n",
       "13951 wilkijl99 0          \n",
       "13952 williji99 0          \n",
       "13953 willijo99 0          \n",
       "13954 wilsoju99 0          \n",
       "13955 winklbo99 0          \n",
       "13956 wrighal99 0          \n",
       "13957 yawketo99 0          \n",
       "13958 youngni99 0          "
      ]
     },
     "metadata": {},
     "output_type": "display_data"
    }
   ],
   "source": [
    "players %>% \n",
    "  # Find all players who do not appear in Salaries\n",
    "  anti_join(Salaries, by = \"playerID\") %>% \n",
    "  # Join them to Appearances\n",
    "  left_join(Appearances, by = \"playerID\") %>% \n",
    "  # Calculate total_games for each player\n",
    "  group_by(playerID) %>%\n",
    "  summarise(total_games = sum(G_all, na.rm = TRUE)) %>%\n",
    "  # Arrange in descending order by total_games\n",
    "  arrange(desc(total_games))"
   ]
  },
  {
   "cell_type": "markdown",
   "metadata": {},
   "source": [
    "There are many players have 0 games but most of them play many games"
   ]
  },
  {
   "cell_type": "markdown",
   "metadata": {},
   "source": [
    "## MAYBE UNSALARIED PLAYERS DID NOT ACTUALLY PLAY IN THE GAMES THAT THEY APPEARED IN (SUBSTITUTE)"
   ]
  },
  {
   "cell_type": "code",
   "execution_count": 30,
   "metadata": {},
   "outputs": [
    {
     "data": {
      "text/html": [
       "<table>\n",
       "<thead><tr><th scope=col>playerID</th><th scope=col>total_at_bat</th></tr></thead>\n",
       "<tbody>\n",
       "\t<tr><td>aaronha01</td><td>12364    </td></tr>\n",
       "\t<tr><td>yastrca01</td><td>11988    </td></tr>\n",
       "\t<tr><td>cobbty01 </td><td>11434    </td></tr>\n",
       "\t<tr><td>musiast01</td><td>10972    </td></tr>\n",
       "\t<tr><td>mayswi01 </td><td>10881    </td></tr>\n",
       "\t<tr><td>robinbr01</td><td>10654    </td></tr>\n",
       "\t<tr><td>wagneho01</td><td>10430    </td></tr>\n",
       "\t<tr><td>brocklo01</td><td>10332    </td></tr>\n",
       "\t<tr><td>ansonca01</td><td>10277    </td></tr>\n",
       "\t<tr><td>aparilu01</td><td>10230    </td></tr>\n",
       "\t<tr><td>speaktr01</td><td>10195    </td></tr>\n",
       "\t<tr><td>kalinal01</td><td>10116    </td></tr>\n",
       "\t<tr><td>maranra01</td><td>10078    </td></tr>\n",
       "\t<tr><td>robinfr02</td><td>10006    </td></tr>\n",
       "\t<tr><td>collied01</td><td> 9949    </td></tr>\n",
       "\t<tr><td>pinsova01</td><td> 9645    </td></tr>\n",
       "\t<tr><td>lajoina01</td><td> 9589    </td></tr>\n",
       "\t<tr><td>crawfsa01</td><td> 9570    </td></tr>\n",
       "\t<tr><td>becklja01</td><td> 9526    </td></tr>\n",
       "\t<tr><td>wanerpa01</td><td> 9459    </td></tr>\n",
       "\t<tr><td>ottme01  </td><td> 9456    </td></tr>\n",
       "\t<tr><td>clemero01</td><td> 9454    </td></tr>\n",
       "\t<tr><td>bankser01</td><td> 9421    </td></tr>\n",
       "\t<tr><td>careyma01</td><td> 9363    </td></tr>\n",
       "\t<tr><td>willibi01</td><td> 9350    </td></tr>\n",
       "\t<tr><td>morgajo02</td><td> 9277    </td></tr>\n",
       "\t<tr><td>ricesa01 </td><td> 9269    </td></tr>\n",
       "\t<tr><td>foxne01  </td><td> 9232    </td></tr>\n",
       "\t<tr><td>daviswi02</td><td> 9174    </td></tr>\n",
       "\t<tr><td>cramedo01</td><td> 9140    </td></tr>\n",
       "\t<tr><td>...</td><td>...</td></tr>\n",
       "\t<tr><td>woodscl01</td><td>0        </td></tr>\n",
       "\t<tr><td>woodsjo01</td><td>0        </td></tr>\n",
       "\t<tr><td>woodske01</td><td>0        </td></tr>\n",
       "\t<tr><td>woodwro01</td><td>0        </td></tr>\n",
       "\t<tr><td>woodyma01</td><td>0        </td></tr>\n",
       "\t<tr><td>worthri01</td><td>0        </td></tr>\n",
       "\t<tr><td>wrighal99</td><td>0        </td></tr>\n",
       "\t<tr><td>wrighbo01</td><td>0        </td></tr>\n",
       "\t<tr><td>wrighch01</td><td>0        </td></tr>\n",
       "\t<tr><td>wrighji02</td><td>0        </td></tr>\n",
       "\t<tr><td>wrighji03</td><td>0        </td></tr>\n",
       "\t<tr><td>wurmfr01 </td><td>0        </td></tr>\n",
       "\t<tr><td>yarnaed01</td><td>0        </td></tr>\n",
       "\t<tr><td>yawketo99</td><td>0        </td></tr>\n",
       "\t<tr><td>yeabsbe01</td><td>0        </td></tr>\n",
       "\t<tr><td>ynoami01 </td><td>0        </td></tr>\n",
       "\t<tr><td>yochira01</td><td>0        </td></tr>\n",
       "\t<tr><td>youngki01</td><td>0        </td></tr>\n",
       "\t<tr><td>youngma03</td><td>0        </td></tr>\n",
       "\t<tr><td>youngni99</td><td>0        </td></tr>\n",
       "\t<tr><td>youngti01</td><td>0        </td></tr>\n",
       "\t<tr><td>yountla01</td><td>0        </td></tr>\n",
       "\t<tr><td>zaratma01</td><td>0        </td></tr>\n",
       "\t<tr><td>zaskeje01</td><td>0        </td></tr>\n",
       "\t<tr><td>zavadcl01</td><td>0        </td></tr>\n",
       "\t<tr><td>zavarcl01</td><td>0        </td></tr>\n",
       "\t<tr><td>zelleba01</td><td>0        </td></tr>\n",
       "\t<tr><td>ziemst01 </td><td>0        </td></tr>\n",
       "\t<tr><td>zinkch01 </td><td>0        </td></tr>\n",
       "\t<tr><td>zinsebi01</td><td>0        </td></tr>\n",
       "</tbody>\n",
       "</table>\n"
      ],
      "text/latex": [
       "\\begin{tabular}{r|ll}\n",
       " playerID & total\\_at\\_bat\\\\\n",
       "\\hline\n",
       "\t aaronha01 & 12364    \\\\\n",
       "\t yastrca01 & 11988    \\\\\n",
       "\t cobbty01  & 11434    \\\\\n",
       "\t musiast01 & 10972    \\\\\n",
       "\t mayswi01  & 10881    \\\\\n",
       "\t robinbr01 & 10654    \\\\\n",
       "\t wagneho01 & 10430    \\\\\n",
       "\t brocklo01 & 10332    \\\\\n",
       "\t ansonca01 & 10277    \\\\\n",
       "\t aparilu01 & 10230    \\\\\n",
       "\t speaktr01 & 10195    \\\\\n",
       "\t kalinal01 & 10116    \\\\\n",
       "\t maranra01 & 10078    \\\\\n",
       "\t robinfr02 & 10006    \\\\\n",
       "\t collied01 &  9949    \\\\\n",
       "\t pinsova01 &  9645    \\\\\n",
       "\t lajoina01 &  9589    \\\\\n",
       "\t crawfsa01 &  9570    \\\\\n",
       "\t becklja01 &  9526    \\\\\n",
       "\t wanerpa01 &  9459    \\\\\n",
       "\t ottme01   &  9456    \\\\\n",
       "\t clemero01 &  9454    \\\\\n",
       "\t bankser01 &  9421    \\\\\n",
       "\t careyma01 &  9363    \\\\\n",
       "\t willibi01 &  9350    \\\\\n",
       "\t morgajo02 &  9277    \\\\\n",
       "\t ricesa01  &  9269    \\\\\n",
       "\t foxne01   &  9232    \\\\\n",
       "\t daviswi02 &  9174    \\\\\n",
       "\t cramedo01 &  9140    \\\\\n",
       "\t ... & ...\\\\\n",
       "\t woodscl01 & 0        \\\\\n",
       "\t woodsjo01 & 0        \\\\\n",
       "\t woodske01 & 0        \\\\\n",
       "\t woodwro01 & 0        \\\\\n",
       "\t woodyma01 & 0        \\\\\n",
       "\t worthri01 & 0        \\\\\n",
       "\t wrighal99 & 0        \\\\\n",
       "\t wrighbo01 & 0        \\\\\n",
       "\t wrighch01 & 0        \\\\\n",
       "\t wrighji02 & 0        \\\\\n",
       "\t wrighji03 & 0        \\\\\n",
       "\t wurmfr01  & 0        \\\\\n",
       "\t yarnaed01 & 0        \\\\\n",
       "\t yawketo99 & 0        \\\\\n",
       "\t yeabsbe01 & 0        \\\\\n",
       "\t ynoami01  & 0        \\\\\n",
       "\t yochira01 & 0        \\\\\n",
       "\t youngki01 & 0        \\\\\n",
       "\t youngma03 & 0        \\\\\n",
       "\t youngni99 & 0        \\\\\n",
       "\t youngti01 & 0        \\\\\n",
       "\t yountla01 & 0        \\\\\n",
       "\t zaratma01 & 0        \\\\\n",
       "\t zaskeje01 & 0        \\\\\n",
       "\t zavadcl01 & 0        \\\\\n",
       "\t zavarcl01 & 0        \\\\\n",
       "\t zelleba01 & 0        \\\\\n",
       "\t ziemst01  & 0        \\\\\n",
       "\t zinkch01  & 0        \\\\\n",
       "\t zinsebi01 & 0        \\\\\n",
       "\\end{tabular}\n"
      ],
      "text/markdown": [
       "\n",
       "| playerID | total_at_bat |\n",
       "|---|---|\n",
       "| aaronha01 | 12364     |\n",
       "| yastrca01 | 11988     |\n",
       "| cobbty01  | 11434     |\n",
       "| musiast01 | 10972     |\n",
       "| mayswi01  | 10881     |\n",
       "| robinbr01 | 10654     |\n",
       "| wagneho01 | 10430     |\n",
       "| brocklo01 | 10332     |\n",
       "| ansonca01 | 10277     |\n",
       "| aparilu01 | 10230     |\n",
       "| speaktr01 | 10195     |\n",
       "| kalinal01 | 10116     |\n",
       "| maranra01 | 10078     |\n",
       "| robinfr02 | 10006     |\n",
       "| collied01 |  9949     |\n",
       "| pinsova01 |  9645     |\n",
       "| lajoina01 |  9589     |\n",
       "| crawfsa01 |  9570     |\n",
       "| becklja01 |  9526     |\n",
       "| wanerpa01 |  9459     |\n",
       "| ottme01   |  9456     |\n",
       "| clemero01 |  9454     |\n",
       "| bankser01 |  9421     |\n",
       "| careyma01 |  9363     |\n",
       "| willibi01 |  9350     |\n",
       "| morgajo02 |  9277     |\n",
       "| ricesa01  |  9269     |\n",
       "| foxne01   |  9232     |\n",
       "| daviswi02 |  9174     |\n",
       "| cramedo01 |  9140     |\n",
       "| ... | ... |\n",
       "| woodscl01 | 0         |\n",
       "| woodsjo01 | 0         |\n",
       "| woodske01 | 0         |\n",
       "| woodwro01 | 0         |\n",
       "| woodyma01 | 0         |\n",
       "| worthri01 | 0         |\n",
       "| wrighal99 | 0         |\n",
       "| wrighbo01 | 0         |\n",
       "| wrighch01 | 0         |\n",
       "| wrighji02 | 0         |\n",
       "| wrighji03 | 0         |\n",
       "| wurmfr01  | 0         |\n",
       "| yarnaed01 | 0         |\n",
       "| yawketo99 | 0         |\n",
       "| yeabsbe01 | 0         |\n",
       "| ynoami01  | 0         |\n",
       "| yochira01 | 0         |\n",
       "| youngki01 | 0         |\n",
       "| youngma03 | 0         |\n",
       "| youngni99 | 0         |\n",
       "| youngti01 | 0         |\n",
       "| yountla01 | 0         |\n",
       "| zaratma01 | 0         |\n",
       "| zaskeje01 | 0         |\n",
       "| zavadcl01 | 0         |\n",
       "| zavarcl01 | 0         |\n",
       "| zelleba01 | 0         |\n",
       "| ziemst01  | 0         |\n",
       "| zinkch01  | 0         |\n",
       "| zinsebi01 | 0         |\n",
       "\n"
      ],
      "text/plain": [
       "      playerID  total_at_bat\n",
       "1     aaronha01 12364       \n",
       "2     yastrca01 11988       \n",
       "3     cobbty01  11434       \n",
       "4     musiast01 10972       \n",
       "5     mayswi01  10881       \n",
       "6     robinbr01 10654       \n",
       "7     wagneho01 10430       \n",
       "8     brocklo01 10332       \n",
       "9     ansonca01 10277       \n",
       "10    aparilu01 10230       \n",
       "11    speaktr01 10195       \n",
       "12    kalinal01 10116       \n",
       "13    maranra01 10078       \n",
       "14    robinfr02 10006       \n",
       "15    collied01  9949       \n",
       "16    pinsova01  9645       \n",
       "17    lajoina01  9589       \n",
       "18    crawfsa01  9570       \n",
       "19    becklja01  9526       \n",
       "20    wanerpa01  9459       \n",
       "21    ottme01    9456       \n",
       "22    clemero01  9454       \n",
       "23    bankser01  9421       \n",
       "24    careyma01  9363       \n",
       "25    willibi01  9350       \n",
       "26    morgajo02  9277       \n",
       "27    ricesa01   9269       \n",
       "28    foxne01    9232       \n",
       "29    daviswi02  9174       \n",
       "30    cramedo01  9140       \n",
       "...   ...       ...         \n",
       "13929 woodscl01 0           \n",
       "13930 woodsjo01 0           \n",
       "13931 woodske01 0           \n",
       "13932 woodwro01 0           \n",
       "13933 woodyma01 0           \n",
       "13934 worthri01 0           \n",
       "13935 wrighal99 0           \n",
       "13936 wrighbo01 0           \n",
       "13937 wrighch01 0           \n",
       "13938 wrighji02 0           \n",
       "13939 wrighji03 0           \n",
       "13940 wurmfr01  0           \n",
       "13941 yarnaed01 0           \n",
       "13942 yawketo99 0           \n",
       "13943 yeabsbe01 0           \n",
       "13944 ynoami01  0           \n",
       "13945 yochira01 0           \n",
       "13946 youngki01 0           \n",
       "13947 youngma03 0           \n",
       "13948 youngni99 0           \n",
       "13949 youngti01 0           \n",
       "13950 yountla01 0           \n",
       "13951 zaratma01 0           \n",
       "13952 zaskeje01 0           \n",
       "13953 zavadcl01 0           \n",
       "13954 zavarcl01 0           \n",
       "13955 zelleba01 0           \n",
       "13956 ziemst01  0           \n",
       "13957 zinkch01  0           \n",
       "13958 zinsebi01 0           "
      ]
     },
     "metadata": {},
     "output_type": "display_data"
    }
   ],
   "source": [
    "players %>%\n",
    "  # Find unsalaried players\n",
    "  anti_join(Salaries, by = \"playerID\") %>% \n",
    "  # Join Batting to the unsalaried players\n",
    "  left_join(Batting, by = \"playerID\") %>% \n",
    "  # Group by player\n",
    "  group_by(playerID) %>% \n",
    "  # Sum at-bats for each player\n",
    "  summarise(total_at_bat = sum(AB, na.rm = TRUE)) %>% \n",
    "  # Arrange in descending order\n",
    "  arrange(desc(total_at_bat))"
   ]
  },
  {
   "cell_type": "markdown",
   "metadata": {},
   "source": [
    "=> really miss salary info, not unsalaried players"
   ]
  },
  {
   "cell_type": "markdown",
   "metadata": {},
   "source": [
    "## HOW MANY PLAYERS HAVE BEEN NOMINATED FOR THE HALL OF FAME?"
   ]
  },
  {
   "cell_type": "code",
   "execution_count": 45,
   "metadata": {},
   "outputs": [
    {
     "data": {
      "text/html": [
       "<table>\n",
       "<thead><tr><th scope=col>playerID</th></tr></thead>\n",
       "<tbody>\n",
       "\t<tr><td>cobbty01 </td></tr>\n",
       "\t<tr><td>ruthba01 </td></tr>\n",
       "\t<tr><td>wagneho01</td></tr>\n",
       "\t<tr><td>mathech01</td></tr>\n",
       "\t<tr><td>johnswa01</td></tr>\n",
       "\t<tr><td>lajoina01</td></tr>\n",
       "</tbody>\n",
       "</table>\n"
      ],
      "text/latex": [
       "\\begin{tabular}{r|l}\n",
       " playerID\\\\\n",
       "\\hline\n",
       "\t cobbty01 \\\\\n",
       "\t ruthba01 \\\\\n",
       "\t wagneho01\\\\\n",
       "\t mathech01\\\\\n",
       "\t johnswa01\\\\\n",
       "\t lajoina01\\\\\n",
       "\\end{tabular}\n"
      ],
      "text/markdown": [
       "\n",
       "| playerID |\n",
       "|---|\n",
       "| cobbty01  |\n",
       "| ruthba01  |\n",
       "| wagneho01 |\n",
       "| mathech01 |\n",
       "| johnswa01 |\n",
       "| lajoina01 |\n",
       "\n"
      ],
      "text/plain": [
       "  playerID \n",
       "1 cobbty01 \n",
       "2 ruthba01 \n",
       "3 wagneho01\n",
       "4 mathech01\n",
       "5 johnswa01\n",
       "6 lajoina01"
      ]
     },
     "metadata": {},
     "output_type": "display_data"
    }
   ],
   "source": [
    "# Find the distinct players that appear in HallOfFame\n",
    "nominated <- HallOfFame %>% \n",
    "  distinct(playerID)\n",
    "\n",
    "head(nominated)"
   ]
  },
  {
   "cell_type": "code",
   "execution_count": 32,
   "metadata": {},
   "outputs": [
    {
     "data": {
      "text/html": [
       "<table>\n",
       "<thead><tr><th scope=col>n</th></tr></thead>\n",
       "<tbody>\n",
       "\t<tr><td>1260</td></tr>\n",
       "</tbody>\n",
       "</table>\n"
      ],
      "text/latex": [
       "\\begin{tabular}{r|l}\n",
       " n\\\\\n",
       "\\hline\n",
       "\t 1260\\\\\n",
       "\\end{tabular}\n"
      ],
      "text/markdown": [
       "\n",
       "| n |\n",
       "|---|\n",
       "| 1260 |\n",
       "\n"
      ],
      "text/plain": [
       "  n   \n",
       "1 1260"
      ]
     },
     "metadata": {},
     "output_type": "display_data"
    }
   ],
   "source": [
    "nominated %>% \n",
    "  # Count the number of players in nominated\n",
    "  count()"
   ]
  },
  {
   "cell_type": "code",
   "execution_count": 37,
   "metadata": {},
   "outputs": [
    {
     "data": {
      "text/html": [
       "<table>\n",
       "<thead><tr><th scope=col>playerID</th><th scope=col>nameFirst</th><th scope=col>nameLast</th></tr></thead>\n",
       "<tbody>\n",
       "\t<tr><td>cobbty01 </td><td>Ty       </td><td>Cobb     </td></tr>\n",
       "\t<tr><td>ruthba01 </td><td>Babe     </td><td>Ruth     </td></tr>\n",
       "\t<tr><td>wagneho01</td><td>Honus    </td><td>Wagner   </td></tr>\n",
       "\t<tr><td>mathech01</td><td>Christy  </td><td>Mathewson</td></tr>\n",
       "\t<tr><td>johnswa01</td><td>Walter   </td><td>Johnson  </td></tr>\n",
       "\t<tr><td>lajoina01</td><td>Nap      </td><td>Lajoie   </td></tr>\n",
       "</tbody>\n",
       "</table>\n"
      ],
      "text/latex": [
       "\\begin{tabular}{r|lll}\n",
       " playerID & nameFirst & nameLast\\\\\n",
       "\\hline\n",
       "\t cobbty01  & Ty        & Cobb     \\\\\n",
       "\t ruthba01  & Babe      & Ruth     \\\\\n",
       "\t wagneho01 & Honus     & Wagner   \\\\\n",
       "\t mathech01 & Christy   & Mathewson\\\\\n",
       "\t johnswa01 & Walter    & Johnson  \\\\\n",
       "\t lajoina01 & Nap       & Lajoie   \\\\\n",
       "\\end{tabular}\n"
      ],
      "text/markdown": [
       "\n",
       "| playerID | nameFirst | nameLast |\n",
       "|---|---|---|\n",
       "| cobbty01  | Ty        | Cobb      |\n",
       "| ruthba01  | Babe      | Ruth      |\n",
       "| wagneho01 | Honus     | Wagner    |\n",
       "| mathech01 | Christy   | Mathewson |\n",
       "| johnswa01 | Walter    | Johnson   |\n",
       "| lajoina01 | Nap       | Lajoie    |\n",
       "\n"
      ],
      "text/plain": [
       "  playerID  nameFirst nameLast \n",
       "1 cobbty01  Ty        Cobb     \n",
       "2 ruthba01  Babe      Ruth     \n",
       "3 wagneho01 Honus     Wagner   \n",
       "4 mathech01 Christy   Mathewson\n",
       "5 johnswa01 Walter    Johnson  \n",
       "6 lajoina01 Nap       Lajoie   "
      ]
     },
     "metadata": {},
     "output_type": "display_data"
    }
   ],
   "source": [
    "nominated_full <- nominated %>% \n",
    "  # Join to Master\n",
    "  left_join(Master, by = \"playerID\") %>% \n",
    "  # Return playerID, nameFirst, nameLast\n",
    "  select(playerID, nameFirst, nameLast)\n",
    "\n",
    "head(nominated_full)"
   ]
  },
  {
   "cell_type": "markdown",
   "metadata": {},
   "source": [
    "## HOW MANY WERE ADMITTED TO HALL OF FAME FROM NOMINATED?"
   ]
  },
  {
   "cell_type": "code",
   "execution_count": 44,
   "metadata": {},
   "outputs": [
    {
     "data": {
      "text/html": [
       "<table>\n",
       "<thead><tr><th scope=col>playerID</th></tr></thead>\n",
       "<tbody>\n",
       "\t<tr><td>cobbty01 </td></tr>\n",
       "\t<tr><td>ruthba01 </td></tr>\n",
       "\t<tr><td>wagneho01</td></tr>\n",
       "\t<tr><td>mathech01</td></tr>\n",
       "\t<tr><td>johnswa01</td></tr>\n",
       "\t<tr><td>lajoina01</td></tr>\n",
       "</tbody>\n",
       "</table>\n"
      ],
      "text/latex": [
       "\\begin{tabular}{r|l}\n",
       " playerID\\\\\n",
       "\\hline\n",
       "\t cobbty01 \\\\\n",
       "\t ruthba01 \\\\\n",
       "\t wagneho01\\\\\n",
       "\t mathech01\\\\\n",
       "\t johnswa01\\\\\n",
       "\t lajoina01\\\\\n",
       "\\end{tabular}\n"
      ],
      "text/markdown": [
       "\n",
       "| playerID |\n",
       "|---|\n",
       "| cobbty01  |\n",
       "| ruthba01  |\n",
       "| wagneho01 |\n",
       "| mathech01 |\n",
       "| johnswa01 |\n",
       "| lajoina01 |\n",
       "\n"
      ],
      "text/plain": [
       "  playerID \n",
       "1 cobbty01 \n",
       "2 ruthba01 \n",
       "3 wagneho01\n",
       "4 mathech01\n",
       "5 johnswa01\n",
       "6 lajoina01"
      ]
     },
     "metadata": {},
     "output_type": "display_data"
    }
   ],
   "source": [
    "# Find distinct players in HallOfFame with inducted == \"Y\"\n",
    "inducted <- HallOfFame %>% \n",
    "  filter(inducted == \"Y\") %>% \n",
    "  distinct(playerID)\n",
    "\n",
    "head(inducted)"
   ]
  },
  {
   "cell_type": "code",
   "execution_count": 35,
   "metadata": {},
   "outputs": [
    {
     "data": {
      "text/html": [
       "<table>\n",
       "<thead><tr><th scope=col>n</th></tr></thead>\n",
       "<tbody>\n",
       "\t<tr><td>317</td></tr>\n",
       "</tbody>\n",
       "</table>\n"
      ],
      "text/latex": [
       "\\begin{tabular}{r|l}\n",
       " n\\\\\n",
       "\\hline\n",
       "\t 317\\\\\n",
       "\\end{tabular}\n"
      ],
      "text/markdown": [
       "\n",
       "| n |\n",
       "|---|\n",
       "| 317 |\n",
       "\n"
      ],
      "text/plain": [
       "  n  \n",
       "1 317"
      ]
     },
     "metadata": {},
     "output_type": "display_data"
    }
   ],
   "source": [
    "inducted %>% \n",
    "  # Count the number of players in inducted\n",
    "  count()"
   ]
  },
  {
   "cell_type": "code",
   "execution_count": 38,
   "metadata": {},
   "outputs": [
    {
     "data": {
      "text/html": [
       "<table>\n",
       "<thead><tr><th scope=col>playerID</th><th scope=col>nameFirst</th><th scope=col>nameLast</th></tr></thead>\n",
       "<tbody>\n",
       "\t<tr><td>cobbty01 </td><td>Ty       </td><td>Cobb     </td></tr>\n",
       "\t<tr><td>ruthba01 </td><td>Babe     </td><td>Ruth     </td></tr>\n",
       "\t<tr><td>wagneho01</td><td>Honus    </td><td>Wagner   </td></tr>\n",
       "\t<tr><td>mathech01</td><td>Christy  </td><td>Mathewson</td></tr>\n",
       "\t<tr><td>johnswa01</td><td>Walter   </td><td>Johnson  </td></tr>\n",
       "\t<tr><td>lajoina01</td><td>Nap      </td><td>Lajoie   </td></tr>\n",
       "</tbody>\n",
       "</table>\n"
      ],
      "text/latex": [
       "\\begin{tabular}{r|lll}\n",
       " playerID & nameFirst & nameLast\\\\\n",
       "\\hline\n",
       "\t cobbty01  & Ty        & Cobb     \\\\\n",
       "\t ruthba01  & Babe      & Ruth     \\\\\n",
       "\t wagneho01 & Honus     & Wagner   \\\\\n",
       "\t mathech01 & Christy   & Mathewson\\\\\n",
       "\t johnswa01 & Walter    & Johnson  \\\\\n",
       "\t lajoina01 & Nap       & Lajoie   \\\\\n",
       "\\end{tabular}\n"
      ],
      "text/markdown": [
       "\n",
       "| playerID | nameFirst | nameLast |\n",
       "|---|---|---|\n",
       "| cobbty01  | Ty        | Cobb      |\n",
       "| ruthba01  | Babe      | Ruth      |\n",
       "| wagneho01 | Honus     | Wagner    |\n",
       "| mathech01 | Christy   | Mathewson |\n",
       "| johnswa01 | Walter    | Johnson   |\n",
       "| lajoina01 | Nap       | Lajoie    |\n",
       "\n"
      ],
      "text/plain": [
       "  playerID  nameFirst nameLast \n",
       "1 cobbty01  Ty        Cobb     \n",
       "2 ruthba01  Babe      Ruth     \n",
       "3 wagneho01 Honus     Wagner   \n",
       "4 mathech01 Christy   Mathewson\n",
       "5 johnswa01 Walter    Johnson  \n",
       "6 lajoina01 Nap       Lajoie   "
      ]
     },
     "metadata": {},
     "output_type": "display_data"
    }
   ],
   "source": [
    "inducted_full <- inducted %>% \n",
    "  # Join to Master\n",
    "  left_join(Master, by = \"playerID\") %>% \n",
    "  # Return playerID, nameFirst, nameLast\n",
    "  select(playerID, nameFirst, nameLast)\n",
    "\n",
    "head(inducted_full)"
   ]
  },
  {
   "cell_type": "markdown",
   "metadata": {},
   "source": [
    "## DID NOMINEES WHO WERE INDUCTED EARN MORE AWARDS?"
   ]
  },
  {
   "cell_type": "code",
   "execution_count": 43,
   "metadata": {},
   "outputs": [
    {
     "data": {
      "text/html": [
       "<table>\n",
       "<thead><tr><th scope=col>playerID</th><th scope=col>n</th></tr></thead>\n",
       "<tbody>\n",
       "\t<tr><td>aaronha01</td><td>16       </td></tr>\n",
       "\t<tr><td>abbotji01</td><td> 2       </td></tr>\n",
       "\t<tr><td>abernte02</td><td> 2       </td></tr>\n",
       "\t<tr><td>abreubo01</td><td> 2       </td></tr>\n",
       "\t<tr><td>abreujo02</td><td> 2       </td></tr>\n",
       "\t<tr><td>adamsba01</td><td> 2       </td></tr>\n",
       "</tbody>\n",
       "</table>\n"
      ],
      "text/latex": [
       "\\begin{tabular}{r|ll}\n",
       " playerID & n\\\\\n",
       "\\hline\n",
       "\t aaronha01 & 16       \\\\\n",
       "\t abbotji01 &  2       \\\\\n",
       "\t abernte02 &  2       \\\\\n",
       "\t abreubo01 &  2       \\\\\n",
       "\t abreujo02 &  2       \\\\\n",
       "\t adamsba01 &  2       \\\\\n",
       "\\end{tabular}\n"
      ],
      "text/markdown": [
       "\n",
       "| playerID | n |\n",
       "|---|---|\n",
       "| aaronha01 | 16        |\n",
       "| abbotji01 |  2        |\n",
       "| abernte02 |  2        |\n",
       "| abreubo01 |  2        |\n",
       "| abreujo02 |  2        |\n",
       "| adamsba01 |  2        |\n",
       "\n"
      ],
      "text/plain": [
       "  playerID  n \n",
       "1 aaronha01 16\n",
       "2 abbotji01  2\n",
       "3 abernte02  2\n",
       "4 abreubo01  2\n",
       "5 abreujo02  2\n",
       "6 adamsba01  2"
      ]
     },
     "metadata": {},
     "output_type": "display_data"
    }
   ],
   "source": [
    "# Tally the number of awards in AwardsPlayers by playerID\n",
    "nAwards <- AwardsPlayers %>% \n",
    "  group_by(playerID) %>% \n",
    "  tally()\n",
    "\n",
    "head(nAwards)"
   ]
  },
  {
   "cell_type": "code",
   "execution_count": 41,
   "metadata": {},
   "outputs": [
    {
     "data": {
      "text/html": [
       "<table>\n",
       "<thead><tr><th scope=col>avg_n</th></tr></thead>\n",
       "<tbody>\n",
       "\t<tr><td>12.14583</td></tr>\n",
       "</tbody>\n",
       "</table>\n"
      ],
      "text/latex": [
       "\\begin{tabular}{r|l}\n",
       " avg\\_n\\\\\n",
       "\\hline\n",
       "\t 12.14583\\\\\n",
       "\\end{tabular}\n"
      ],
      "text/markdown": [
       "\n",
       "| avg_n |\n",
       "|---|\n",
       "| 12.14583 |\n",
       "\n"
      ],
      "text/plain": [
       "  avg_n   \n",
       "1 12.14583"
      ]
     },
     "metadata": {},
     "output_type": "display_data"
    }
   ],
   "source": [
    "nAwards %>% \n",
    "  # Filter to just the players in inducted \n",
    "  semi_join(inducted, by = \"playerID\") %>% \n",
    "  # Calculate the mean number of awards per player\n",
    "  summarize(avg_n = mean(n, na.rm = TRUE))"
   ]
  },
  {
   "cell_type": "code",
   "execution_count": 42,
   "metadata": {},
   "outputs": [
    {
     "data": {
      "text/html": [
       "<table>\n",
       "<thead><tr><th scope=col>avg_n</th></tr></thead>\n",
       "<tbody>\n",
       "\t<tr><td>4.231054</td></tr>\n",
       "</tbody>\n",
       "</table>\n"
      ],
      "text/latex": [
       "\\begin{tabular}{r|l}\n",
       " avg\\_n\\\\\n",
       "\\hline\n",
       "\t 4.231054\\\\\n",
       "\\end{tabular}\n"
      ],
      "text/markdown": [
       "\n",
       "| avg_n |\n",
       "|---|\n",
       "| 4.231054 |\n",
       "\n"
      ],
      "text/plain": [
       "  avg_n   \n",
       "1 4.231054"
      ]
     },
     "metadata": {},
     "output_type": "display_data"
    }
   ],
   "source": [
    "nAwards %>% \n",
    "  # Filter to just the players in nominated \n",
    "  semi_join(nominated, by = \"playerID\") %>%\n",
    "  # Filter to players NOT in inducted \n",
    "  anti_join(inducted, by = \"playerID\") %>%\n",
    "  # Calculate the mean number of awards per player\n",
    "  summarize(avg_n = mean(n, na.rm = TRUE))"
   ]
  },
  {
   "cell_type": "markdown",
   "metadata": {},
   "source": [
    "## DOES MAXIMUM SALARY EARNED BY INDUCTEES TEND TO BE GREATER THAN NOMINEES NOT INDUCTED?"
   ]
  },
  {
   "cell_type": "code",
   "execution_count": 46,
   "metadata": {},
   "outputs": [],
   "source": [
    "# Find the players who are in nominated, but not inducted\n",
    "notInducted <- nominated %>% \n",
    "  setdiff(inducted)"
   ]
  },
  {
   "cell_type": "code",
   "execution_count": 47,
   "metadata": {},
   "outputs": [
    {
     "data": {
      "text/html": [
       "<table>\n",
       "<thead><tr><th scope=col>avg_salary</th></tr></thead>\n",
       "<tbody>\n",
       "\t<tr><td>5124653</td></tr>\n",
       "</tbody>\n",
       "</table>\n"
      ],
      "text/latex": [
       "\\begin{tabular}{r|l}\n",
       " avg\\_salary\\\\\n",
       "\\hline\n",
       "\t 5124653\\\\\n",
       "\\end{tabular}\n"
      ],
      "text/markdown": [
       "\n",
       "| avg_salary |\n",
       "|---|\n",
       "| 5124653 |\n",
       "\n"
      ],
      "text/plain": [
       "  avg_salary\n",
       "1 5124653   "
      ]
     },
     "metadata": {},
     "output_type": "display_data"
    }
   ],
   "source": [
    "Salaries %>% \n",
    "  # Find the players who are in notInducted\n",
    "  semi_join(notInducted, by = \"playerID\") %>% \n",
    "  # Calculate the max salary by player\n",
    "  group_by(playerID) %>% \n",
    "  summarise(max_salary = max(salary)) %>% \n",
    "  # Calculate the average of the max salaries\n",
    "  summarise(avg_salary = mean(max_salary))"
   ]
  },
  {
   "cell_type": "code",
   "execution_count": 48,
   "metadata": {},
   "outputs": [
    {
     "data": {
      "text/html": [
       "<table>\n",
       "<thead><tr><th scope=col>avg_salary</th></tr></thead>\n",
       "<tbody>\n",
       "\t<tr><td>6092038</td></tr>\n",
       "</tbody>\n",
       "</table>\n"
      ],
      "text/latex": [
       "\\begin{tabular}{r|l}\n",
       " avg\\_salary\\\\\n",
       "\\hline\n",
       "\t 6092038\\\\\n",
       "\\end{tabular}\n"
      ],
      "text/markdown": [
       "\n",
       "| avg_salary |\n",
       "|---|\n",
       "| 6092038 |\n",
       "\n"
      ],
      "text/plain": [
       "  avg_salary\n",
       "1 6092038   "
      ]
     },
     "metadata": {},
     "output_type": "display_data"
    }
   ],
   "source": [
    "# Repeat for players who were inducted\n",
    "Salaries %>% \n",
    "  semi_join(inducted, by = \"playerID\") %>% \n",
    "  group_by(playerID) %>% \n",
    "  summarise(max_salary = max(salary)) %>% \n",
    "  summarise(avg_salary = mean(max_salary))"
   ]
  },
  {
   "cell_type": "markdown",
   "metadata": {},
   "source": [
    "!!! Careful for missing salary"
   ]
  },
  {
   "cell_type": "markdown",
   "metadata": {},
   "source": [
    "## TEST FACT: PLAYERS CANNOT BE NOMINATED UNTIL 5 YEARS AFTER THEY RETIRE"
   ]
  },
  {
   "cell_type": "code",
   "execution_count": 49,
   "metadata": {},
   "outputs": [
    {
     "data": {
      "text/html": [
       "<table>\n",
       "<thead><tr><th scope=col>playerID</th><th scope=col>last_year</th><th scope=col>yearID</th><th scope=col>votedBy</th><th scope=col>ballots</th><th scope=col>needed</th><th scope=col>votes</th><th scope=col>inducted</th><th scope=col>category</th><th scope=col>needed_note</th></tr></thead>\n",
       "<tbody>\n",
       "\t<tr><td>cissebi01       </td><td>1938            </td><td>1937            </td><td>BBWAA           </td><td>201             </td><td>151             </td><td>  1             </td><td>N               </td><td>Player          </td><td>NA              </td></tr>\n",
       "\t<tr><td>cochrmi01       </td><td>1937            </td><td>1936            </td><td>BBWAA           </td><td>226             </td><td>170             </td><td> 80             </td><td>N               </td><td>Player          </td><td>NA              </td></tr>\n",
       "\t<tr><td>deandi01        </td><td>1947            </td><td>1945            </td><td>BBWAA           </td><td>247             </td><td>186             </td><td> 17             </td><td>N               </td><td>Player          </td><td>NA              </td></tr>\n",
       "\t<tr><td>deandi01        </td><td>1947            </td><td>1946            </td><td>Final Ballot    </td><td>263             </td><td>198             </td><td> 45             </td><td>N               </td><td>Player          </td><td>NA              </td></tr>\n",
       "\t<tr><td>deandi01        </td><td>1947            </td><td>1946            </td><td>Nominating Vote </td><td>202             </td><td> NA             </td><td> 40             </td><td>N               </td><td>Player          </td><td>Top 20          </td></tr>\n",
       "\t<tr><td>deandi01        </td><td>1947            </td><td>1947            </td><td>BBWAA           </td><td>161             </td><td>121             </td><td> 88             </td><td>N               </td><td>Player          </td><td>NA              </td></tr>\n",
       "\t<tr><td>dickebi01       </td><td>1946            </td><td>1945            </td><td>BBWAA           </td><td>247             </td><td>186             </td><td> 17             </td><td>N               </td><td>Player          </td><td>NA              </td></tr>\n",
       "\t<tr><td>dickebi01       </td><td>1946            </td><td>1946            </td><td>Nominating Vote </td><td>202             </td><td> NA             </td><td> 40             </td><td>N               </td><td>Player          </td><td>Top 20          </td></tr>\n",
       "\t<tr><td>dickebi01       </td><td>1946            </td><td>1946            </td><td>Final Ballot    </td><td>263             </td><td>198             </td><td> 32             </td><td>N               </td><td>Player          </td><td>NA              </td></tr>\n",
       "\t<tr><td>dimagjo01       </td><td>1951            </td><td>1945            </td><td>BBWAA           </td><td>247             </td><td>186             </td><td>  1             </td><td>N               </td><td>Player          </td><td>NA              </td></tr>\n",
       "\t<tr><td>foxxji01        </td><td>1945            </td><td>1936            </td><td>BBWAA           </td><td>226             </td><td>170             </td><td> 21             </td><td>N               </td><td>Player          </td><td>NA              </td></tr>\n",
       "\t<tr><td>francju02       </td><td>2014            </td><td>2013            </td><td>BBWAA           </td><td>569             </td><td>427             </td><td>  6             </td><td>N               </td><td>Player          </td><td>NA              </td></tr>\n",
       "\t<tr><td>friscfr01       </td><td>1937            </td><td>1936            </td><td>BBWAA           </td><td>226             </td><td>170             </td><td> 14             </td><td>N               </td><td>Player          </td><td>NA              </td></tr>\n",
       "\t<tr><td>gehrich01       </td><td>1942            </td><td>1936            </td><td>BBWAA           </td><td>226             </td><td>170             </td><td>  0             </td><td>N               </td><td>Player          </td><td>NA              </td></tr>\n",
       "\t<tr><td>gehrilo01       </td><td>1939            </td><td>1936            </td><td>BBWAA           </td><td>226             </td><td>170             </td><td> 51             </td><td>N               </td><td>Player          </td><td>NA              </td></tr>\n",
       "\t<tr><td>gehrilo01       </td><td>1939            </td><td>1939            </td><td>Special Election</td><td> NA             </td><td> NA             </td><td> NA             </td><td>Y               </td><td>Player          </td><td>NA              </td></tr>\n",
       "\t<tr><td>gordojo01       </td><td>1950            </td><td>1945            </td><td>BBWAA           </td><td>247             </td><td>186             </td><td>  1             </td><td>N               </td><td>Player          </td><td>NA              </td></tr>\n",
       "\t<tr><td>greenha01       </td><td>1947            </td><td>1945            </td><td>BBWAA           </td><td>247             </td><td>186             </td><td>  3             </td><td>N               </td><td>Player          </td><td>NA              </td></tr>\n",
       "\t<tr><td>grovele01       </td><td>1941            </td><td>1936            </td><td>BBWAA           </td><td>226             </td><td>170             </td><td> 12             </td><td>N               </td><td>Player          </td><td>NA              </td></tr>\n",
       "\t<tr><td>hartnga01       </td><td>1941            </td><td>1936            </td><td>BBWAA           </td><td>226             </td><td>170             </td><td>  0             </td><td>N               </td><td>Player          </td><td>NA              </td></tr>\n",
       "\t<tr><td>hermaba01       </td><td>1945            </td><td>1942            </td><td>BBWAA           </td><td>233             </td><td>175             </td><td>  1             </td><td>N               </td><td>Player          </td><td>NA              </td></tr>\n",
       "\t<tr><td>hornsro01       </td><td>1937            </td><td>1936            </td><td>BBWAA           </td><td>226             </td><td>170             </td><td>105             </td><td>N               </td><td>Player          </td><td>NA              </td></tr>\n",
       "\t<tr><td>hornsro01       </td><td>1937            </td><td>1937            </td><td>BBWAA           </td><td>201             </td><td>151             </td><td> 53             </td><td>N               </td><td>Player          </td><td>NA              </td></tr>\n",
       "\t<tr><td>lyonste01       </td><td>1946            </td><td>1945            </td><td>BBWAA           </td><td>247             </td><td>186             </td><td>  4             </td><td>N               </td><td>Player          </td><td>NA              </td></tr>\n",
       "\t<tr><td>lyonste01       </td><td>1946            </td><td>1946            </td><td>Nominating Vote </td><td>202             </td><td> NA             </td><td>  3             </td><td>N               </td><td>Player          </td><td>Top 20          </td></tr>\n",
       "\t<tr><td>martipe01       </td><td>1944            </td><td>1942            </td><td>BBWAA           </td><td>233             </td><td>175             </td><td>  2             </td><td>N               </td><td>Player          </td><td>NA              </td></tr>\n",
       "\t<tr><td>medwijo01       </td><td>1948            </td><td>1948            </td><td>BBWAA           </td><td>121             </td><td> 91             </td><td>  1             </td><td>N               </td><td>Player          </td><td>NA              </td></tr>\n",
       "\t<tr><td>minosmi01       </td><td>1980            </td><td>1969            </td><td>BBWAA           </td><td>340             </td><td>255             </td><td>  6             </td><td>N               </td><td>Player          </td><td>NA              </td></tr>\n",
       "\t<tr><td>mungova01       </td><td>1945            </td><td>1945            </td><td>BBWAA           </td><td>247             </td><td>186             </td><td>  1             </td><td>N               </td><td>Player          </td><td>NA              </td></tr>\n",
       "\t<tr><td>paigesa01       </td><td>1965            </td><td>1951            </td><td>BBWAA           </td><td>226             </td><td>170             </td><td>  1             </td><td>N               </td><td>Player          </td><td>NA              </td></tr>\n",
       "\t<tr><td>rijojo01        </td><td>2002            </td><td>2001            </td><td>BBWAA           </td><td>515             </td><td>387             </td><td>  1             </td><td>N               </td><td>Player          </td><td>NA              </td></tr>\n",
       "\t<tr><td>rizzuph01       </td><td>1956            </td><td>1956            </td><td>BBWAA           </td><td>193             </td><td>145             </td><td>  1             </td><td>N               </td><td>Player          </td><td>NA              </td></tr>\n",
       "\t<tr><td>simmoal01       </td><td>1944            </td><td>1936            </td><td>BBWAA           </td><td>226             </td><td>170             </td><td>  4             </td><td>N               </td><td>Player          </td><td>NA              </td></tr>\n",
       "\t<tr><td>spahnwa01       </td><td>1965            </td><td>1958            </td><td>BBWAA           </td><td>266             </td><td>200             </td><td>  1             </td><td>N               </td><td>Player          </td><td>NA              </td></tr>\n",
       "\t<tr><td>stephjo03       </td><td>2002            </td><td>1979            </td><td>BBWAA           </td><td>432             </td><td>324             </td><td>  0             </td><td>N               </td><td>Player          </td><td>NA              </td></tr>\n",
       "\t<tr><td>terrybi01       </td><td>1936            </td><td>1936            </td><td>BBWAA           </td><td>226             </td><td>170             </td><td>  9             </td><td>N               </td><td>Player          </td><td>NA              </td></tr>\n",
       "\t<tr><td>traynpi01       </td><td>1937            </td><td>1936            </td><td>BBWAA           </td><td>226             </td><td>170             </td><td> 16             </td><td>N               </td><td>Player          </td><td>NA              </td></tr>\n",
       "\t<tr><td>vandejo01       </td><td>1951            </td><td>1945            </td><td>BBWAA           </td><td>247             </td><td>186             </td><td>  1             </td><td>N               </td><td>Player          </td><td>NA              </td></tr>\n",
       "\t<tr><td>waltebu01       </td><td>1950            </td><td>1950            </td><td>BBWAA           </td><td>168             </td><td>126             </td><td>  4             </td><td>N               </td><td>Player          </td><td>NA              </td></tr>\n",
       "</tbody>\n",
       "</table>\n"
      ],
      "text/latex": [
       "\\begin{tabular}{r|llllllllll}\n",
       " playerID & last\\_year & yearID & votedBy & ballots & needed & votes & inducted & category & needed\\_note\\\\\n",
       "\\hline\n",
       "\t cissebi01        & 1938             & 1937             & BBWAA            & 201              & 151              &   1              & N                & Player           & NA              \\\\\n",
       "\t cochrmi01        & 1937             & 1936             & BBWAA            & 226              & 170              &  80              & N                & Player           & NA              \\\\\n",
       "\t deandi01         & 1947             & 1945             & BBWAA            & 247              & 186              &  17              & N                & Player           & NA              \\\\\n",
       "\t deandi01         & 1947             & 1946             & Final Ballot     & 263              & 198              &  45              & N                & Player           & NA              \\\\\n",
       "\t deandi01         & 1947             & 1946             & Nominating Vote  & 202              &  NA              &  40              & N                & Player           & Top 20          \\\\\n",
       "\t deandi01         & 1947             & 1947             & BBWAA            & 161              & 121              &  88              & N                & Player           & NA              \\\\\n",
       "\t dickebi01        & 1946             & 1945             & BBWAA            & 247              & 186              &  17              & N                & Player           & NA              \\\\\n",
       "\t dickebi01        & 1946             & 1946             & Nominating Vote  & 202              &  NA              &  40              & N                & Player           & Top 20          \\\\\n",
       "\t dickebi01        & 1946             & 1946             & Final Ballot     & 263              & 198              &  32              & N                & Player           & NA              \\\\\n",
       "\t dimagjo01        & 1951             & 1945             & BBWAA            & 247              & 186              &   1              & N                & Player           & NA              \\\\\n",
       "\t foxxji01         & 1945             & 1936             & BBWAA            & 226              & 170              &  21              & N                & Player           & NA              \\\\\n",
       "\t francju02        & 2014             & 2013             & BBWAA            & 569              & 427              &   6              & N                & Player           & NA              \\\\\n",
       "\t friscfr01        & 1937             & 1936             & BBWAA            & 226              & 170              &  14              & N                & Player           & NA              \\\\\n",
       "\t gehrich01        & 1942             & 1936             & BBWAA            & 226              & 170              &   0              & N                & Player           & NA              \\\\\n",
       "\t gehrilo01        & 1939             & 1936             & BBWAA            & 226              & 170              &  51              & N                & Player           & NA              \\\\\n",
       "\t gehrilo01        & 1939             & 1939             & Special Election &  NA              &  NA              &  NA              & Y                & Player           & NA              \\\\\n",
       "\t gordojo01        & 1950             & 1945             & BBWAA            & 247              & 186              &   1              & N                & Player           & NA              \\\\\n",
       "\t greenha01        & 1947             & 1945             & BBWAA            & 247              & 186              &   3              & N                & Player           & NA              \\\\\n",
       "\t grovele01        & 1941             & 1936             & BBWAA            & 226              & 170              &  12              & N                & Player           & NA              \\\\\n",
       "\t hartnga01        & 1941             & 1936             & BBWAA            & 226              & 170              &   0              & N                & Player           & NA              \\\\\n",
       "\t hermaba01        & 1945             & 1942             & BBWAA            & 233              & 175              &   1              & N                & Player           & NA              \\\\\n",
       "\t hornsro01        & 1937             & 1936             & BBWAA            & 226              & 170              & 105              & N                & Player           & NA              \\\\\n",
       "\t hornsro01        & 1937             & 1937             & BBWAA            & 201              & 151              &  53              & N                & Player           & NA              \\\\\n",
       "\t lyonste01        & 1946             & 1945             & BBWAA            & 247              & 186              &   4              & N                & Player           & NA              \\\\\n",
       "\t lyonste01        & 1946             & 1946             & Nominating Vote  & 202              &  NA              &   3              & N                & Player           & Top 20          \\\\\n",
       "\t martipe01        & 1944             & 1942             & BBWAA            & 233              & 175              &   2              & N                & Player           & NA              \\\\\n",
       "\t medwijo01        & 1948             & 1948             & BBWAA            & 121              &  91              &   1              & N                & Player           & NA              \\\\\n",
       "\t minosmi01        & 1980             & 1969             & BBWAA            & 340              & 255              &   6              & N                & Player           & NA              \\\\\n",
       "\t mungova01        & 1945             & 1945             & BBWAA            & 247              & 186              &   1              & N                & Player           & NA              \\\\\n",
       "\t paigesa01        & 1965             & 1951             & BBWAA            & 226              & 170              &   1              & N                & Player           & NA              \\\\\n",
       "\t rijojo01         & 2002             & 2001             & BBWAA            & 515              & 387              &   1              & N                & Player           & NA              \\\\\n",
       "\t rizzuph01        & 1956             & 1956             & BBWAA            & 193              & 145              &   1              & N                & Player           & NA              \\\\\n",
       "\t simmoal01        & 1944             & 1936             & BBWAA            & 226              & 170              &   4              & N                & Player           & NA              \\\\\n",
       "\t spahnwa01        & 1965             & 1958             & BBWAA            & 266              & 200              &   1              & N                & Player           & NA              \\\\\n",
       "\t stephjo03        & 2002             & 1979             & BBWAA            & 432              & 324              &   0              & N                & Player           & NA              \\\\\n",
       "\t terrybi01        & 1936             & 1936             & BBWAA            & 226              & 170              &   9              & N                & Player           & NA              \\\\\n",
       "\t traynpi01        & 1937             & 1936             & BBWAA            & 226              & 170              &  16              & N                & Player           & NA              \\\\\n",
       "\t vandejo01        & 1951             & 1945             & BBWAA            & 247              & 186              &   1              & N                & Player           & NA              \\\\\n",
       "\t waltebu01        & 1950             & 1950             & BBWAA            & 168              & 126              &   4              & N                & Player           & NA              \\\\\n",
       "\\end{tabular}\n"
      ],
      "text/markdown": [
       "\n",
       "| playerID | last_year | yearID | votedBy | ballots | needed | votes | inducted | category | needed_note |\n",
       "|---|---|---|---|---|---|---|---|---|---|\n",
       "| cissebi01        | 1938             | 1937             | BBWAA            | 201              | 151              |   1              | N                | Player           | NA               |\n",
       "| cochrmi01        | 1937             | 1936             | BBWAA            | 226              | 170              |  80              | N                | Player           | NA               |\n",
       "| deandi01         | 1947             | 1945             | BBWAA            | 247              | 186              |  17              | N                | Player           | NA               |\n",
       "| deandi01         | 1947             | 1946             | Final Ballot     | 263              | 198              |  45              | N                | Player           | NA               |\n",
       "| deandi01         | 1947             | 1946             | Nominating Vote  | 202              |  NA              |  40              | N                | Player           | Top 20           |\n",
       "| deandi01         | 1947             | 1947             | BBWAA            | 161              | 121              |  88              | N                | Player           | NA               |\n",
       "| dickebi01        | 1946             | 1945             | BBWAA            | 247              | 186              |  17              | N                | Player           | NA               |\n",
       "| dickebi01        | 1946             | 1946             | Nominating Vote  | 202              |  NA              |  40              | N                | Player           | Top 20           |\n",
       "| dickebi01        | 1946             | 1946             | Final Ballot     | 263              | 198              |  32              | N                | Player           | NA               |\n",
       "| dimagjo01        | 1951             | 1945             | BBWAA            | 247              | 186              |   1              | N                | Player           | NA               |\n",
       "| foxxji01         | 1945             | 1936             | BBWAA            | 226              | 170              |  21              | N                | Player           | NA               |\n",
       "| francju02        | 2014             | 2013             | BBWAA            | 569              | 427              |   6              | N                | Player           | NA               |\n",
       "| friscfr01        | 1937             | 1936             | BBWAA            | 226              | 170              |  14              | N                | Player           | NA               |\n",
       "| gehrich01        | 1942             | 1936             | BBWAA            | 226              | 170              |   0              | N                | Player           | NA               |\n",
       "| gehrilo01        | 1939             | 1936             | BBWAA            | 226              | 170              |  51              | N                | Player           | NA               |\n",
       "| gehrilo01        | 1939             | 1939             | Special Election |  NA              |  NA              |  NA              | Y                | Player           | NA               |\n",
       "| gordojo01        | 1950             | 1945             | BBWAA            | 247              | 186              |   1              | N                | Player           | NA               |\n",
       "| greenha01        | 1947             | 1945             | BBWAA            | 247              | 186              |   3              | N                | Player           | NA               |\n",
       "| grovele01        | 1941             | 1936             | BBWAA            | 226              | 170              |  12              | N                | Player           | NA               |\n",
       "| hartnga01        | 1941             | 1936             | BBWAA            | 226              | 170              |   0              | N                | Player           | NA               |\n",
       "| hermaba01        | 1945             | 1942             | BBWAA            | 233              | 175              |   1              | N                | Player           | NA               |\n",
       "| hornsro01        | 1937             | 1936             | BBWAA            | 226              | 170              | 105              | N                | Player           | NA               |\n",
       "| hornsro01        | 1937             | 1937             | BBWAA            | 201              | 151              |  53              | N                | Player           | NA               |\n",
       "| lyonste01        | 1946             | 1945             | BBWAA            | 247              | 186              |   4              | N                | Player           | NA               |\n",
       "| lyonste01        | 1946             | 1946             | Nominating Vote  | 202              |  NA              |   3              | N                | Player           | Top 20           |\n",
       "| martipe01        | 1944             | 1942             | BBWAA            | 233              | 175              |   2              | N                | Player           | NA               |\n",
       "| medwijo01        | 1948             | 1948             | BBWAA            | 121              |  91              |   1              | N                | Player           | NA               |\n",
       "| minosmi01        | 1980             | 1969             | BBWAA            | 340              | 255              |   6              | N                | Player           | NA               |\n",
       "| mungova01        | 1945             | 1945             | BBWAA            | 247              | 186              |   1              | N                | Player           | NA               |\n",
       "| paigesa01        | 1965             | 1951             | BBWAA            | 226              | 170              |   1              | N                | Player           | NA               |\n",
       "| rijojo01         | 2002             | 2001             | BBWAA            | 515              | 387              |   1              | N                | Player           | NA               |\n",
       "| rizzuph01        | 1956             | 1956             | BBWAA            | 193              | 145              |   1              | N                | Player           | NA               |\n",
       "| simmoal01        | 1944             | 1936             | BBWAA            | 226              | 170              |   4              | N                | Player           | NA               |\n",
       "| spahnwa01        | 1965             | 1958             | BBWAA            | 266              | 200              |   1              | N                | Player           | NA               |\n",
       "| stephjo03        | 2002             | 1979             | BBWAA            | 432              | 324              |   0              | N                | Player           | NA               |\n",
       "| terrybi01        | 1936             | 1936             | BBWAA            | 226              | 170              |   9              | N                | Player           | NA               |\n",
       "| traynpi01        | 1937             | 1936             | BBWAA            | 226              | 170              |  16              | N                | Player           | NA               |\n",
       "| vandejo01        | 1951             | 1945             | BBWAA            | 247              | 186              |   1              | N                | Player           | NA               |\n",
       "| waltebu01        | 1950             | 1950             | BBWAA            | 168              | 126              |   4              | N                | Player           | NA               |\n",
       "\n"
      ],
      "text/plain": [
       "   playerID  last_year yearID votedBy          ballots needed votes inducted\n",
       "1  cissebi01 1938      1937   BBWAA            201     151      1   N       \n",
       "2  cochrmi01 1937      1936   BBWAA            226     170     80   N       \n",
       "3  deandi01  1947      1945   BBWAA            247     186     17   N       \n",
       "4  deandi01  1947      1946   Final Ballot     263     198     45   N       \n",
       "5  deandi01  1947      1946   Nominating Vote  202      NA     40   N       \n",
       "6  deandi01  1947      1947   BBWAA            161     121     88   N       \n",
       "7  dickebi01 1946      1945   BBWAA            247     186     17   N       \n",
       "8  dickebi01 1946      1946   Nominating Vote  202      NA     40   N       \n",
       "9  dickebi01 1946      1946   Final Ballot     263     198     32   N       \n",
       "10 dimagjo01 1951      1945   BBWAA            247     186      1   N       \n",
       "11 foxxji01  1945      1936   BBWAA            226     170     21   N       \n",
       "12 francju02 2014      2013   BBWAA            569     427      6   N       \n",
       "13 friscfr01 1937      1936   BBWAA            226     170     14   N       \n",
       "14 gehrich01 1942      1936   BBWAA            226     170      0   N       \n",
       "15 gehrilo01 1939      1936   BBWAA            226     170     51   N       \n",
       "16 gehrilo01 1939      1939   Special Election  NA      NA     NA   Y       \n",
       "17 gordojo01 1950      1945   BBWAA            247     186      1   N       \n",
       "18 greenha01 1947      1945   BBWAA            247     186      3   N       \n",
       "19 grovele01 1941      1936   BBWAA            226     170     12   N       \n",
       "20 hartnga01 1941      1936   BBWAA            226     170      0   N       \n",
       "21 hermaba01 1945      1942   BBWAA            233     175      1   N       \n",
       "22 hornsro01 1937      1936   BBWAA            226     170    105   N       \n",
       "23 hornsro01 1937      1937   BBWAA            201     151     53   N       \n",
       "24 lyonste01 1946      1945   BBWAA            247     186      4   N       \n",
       "25 lyonste01 1946      1946   Nominating Vote  202      NA      3   N       \n",
       "26 martipe01 1944      1942   BBWAA            233     175      2   N       \n",
       "27 medwijo01 1948      1948   BBWAA            121      91      1   N       \n",
       "28 minosmi01 1980      1969   BBWAA            340     255      6   N       \n",
       "29 mungova01 1945      1945   BBWAA            247     186      1   N       \n",
       "30 paigesa01 1965      1951   BBWAA            226     170      1   N       \n",
       "31 rijojo01  2002      2001   BBWAA            515     387      1   N       \n",
       "32 rizzuph01 1956      1956   BBWAA            193     145      1   N       \n",
       "33 simmoal01 1944      1936   BBWAA            226     170      4   N       \n",
       "34 spahnwa01 1965      1958   BBWAA            266     200      1   N       \n",
       "35 stephjo03 2002      1979   BBWAA            432     324      0   N       \n",
       "36 terrybi01 1936      1936   BBWAA            226     170      9   N       \n",
       "37 traynpi01 1937      1936   BBWAA            226     170     16   N       \n",
       "38 vandejo01 1951      1945   BBWAA            247     186      1   N       \n",
       "39 waltebu01 1950      1950   BBWAA            168     126      4   N       \n",
       "   category needed_note\n",
       "1  Player   NA         \n",
       "2  Player   NA         \n",
       "3  Player   NA         \n",
       "4  Player   NA         \n",
       "5  Player   Top 20     \n",
       "6  Player   NA         \n",
       "7  Player   NA         \n",
       "8  Player   Top 20     \n",
       "9  Player   NA         \n",
       "10 Player   NA         \n",
       "11 Player   NA         \n",
       "12 Player   NA         \n",
       "13 Player   NA         \n",
       "14 Player   NA         \n",
       "15 Player   NA         \n",
       "16 Player   NA         \n",
       "17 Player   NA         \n",
       "18 Player   NA         \n",
       "19 Player   NA         \n",
       "20 Player   NA         \n",
       "21 Player   NA         \n",
       "22 Player   NA         \n",
       "23 Player   NA         \n",
       "24 Player   NA         \n",
       "25 Player   Top 20     \n",
       "26 Player   NA         \n",
       "27 Player   NA         \n",
       "28 Player   NA         \n",
       "29 Player   NA         \n",
       "30 Player   NA         \n",
       "31 Player   NA         \n",
       "32 Player   NA         \n",
       "33 Player   NA         \n",
       "34 Player   NA         \n",
       "35 Player   NA         \n",
       "36 Player   NA         \n",
       "37 Player   NA         \n",
       "38 Player   NA         \n",
       "39 Player   NA         "
      ]
     },
     "metadata": {},
     "output_type": "display_data"
    }
   ],
   "source": [
    "Appearances %>% \n",
    "  # Filter Appearances against nominated\n",
    "  semi_join(nominated, by = \"playerID\") %>% \n",
    "  # Find last year played by player\n",
    "  group_by(playerID) %>% \n",
    "  summarise(last_year = max(yearID)) %>% \n",
    "  # Join to full HallOfFame\n",
    "  left_join(HallOfFame, by = \"playerID\") %>% \n",
    "  # Filter for unusual observations\n",
    "  filter(last_year >= yearID)"
   ]
  },
  {
   "cell_type": "markdown",
   "metadata": {},
   "source": [
    "Quite a few players have been nominated before they retired, but this practice seems much less frequent in recent years."
   ]
  },
  {
   "cell_type": "code",
   "execution_count": null,
   "metadata": {},
   "outputs": [],
   "source": []
  }
 ],
 "metadata": {
  "kernelspec": {
   "display_name": "R",
   "language": "R",
   "name": "ir"
  },
  "language_info": {
   "codemirror_mode": "r",
   "file_extension": ".r",
   "mimetype": "text/x-r-source",
   "name": "R",
   "pygments_lexer": "r",
   "version": "3.5.1"
  },
  "toc": {
   "base_numbering": 1,
   "nav_menu": {},
   "number_sections": true,
   "sideBar": true,
   "skip_h1_title": false,
   "title_cell": "Table of Contents",
   "title_sidebar": "Contents",
   "toc_cell": true,
   "toc_position": {},
   "toc_section_display": true,
   "toc_window_display": false
  }
 },
 "nbformat": 4,
 "nbformat_minor": 2
}
